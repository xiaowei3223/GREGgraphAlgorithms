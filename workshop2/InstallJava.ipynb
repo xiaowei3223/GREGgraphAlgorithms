{
 "cells": [
  {
   "cell_type": "markdown",
   "metadata": {},
   "source": [
    "# Download Java "
   ]
  },
  {
   "cell_type": "markdown",
   "metadata": {},
   "source": [
    "web https://www.oracle.com/technetwork/java/javase/downloads/index.html\n",
    "\n",
    "Click interface as following boxs in those pictures to download java development kit.\n",
    "\n",
    "![java1.png](./picture/java1.png)\n",
    "\n",
    "![java2.png](./picture/java2.png)"
   ]
  },
  {
   "cell_type": "markdown",
   "metadata": {},
   "source": [
    "# Install Java"
   ]
  },
  {
   "cell_type": "markdown",
   "metadata": {},
   "source": [
    "Click the file `jdk-12_windows-x64_bin.exe` to install java"
   ]
  },
  {
   "cell_type": "markdown",
   "metadata": {},
   "source": [
    "![java3.png](./picture/java3.png)"
   ]
  },
  {
   "cell_type": "markdown",
   "metadata": {},
   "source": [
    "**Note which directory you install java**, because we will use the path in the later."
   ]
  },
  {
   "cell_type": "markdown",
   "metadata": {},
   "source": [
    "![java4.png](./picture/java4.png)\n",
    "![java5.png](./picture/java5.png)\n",
    "![java6.png](./picture/java6.png)"
   ]
  },
  {
   "cell_type": "markdown",
   "metadata": {},
   "source": [
    "Now, java had been installed your computer. We should set `environment variables` for Java."
   ]
  },
  {
   "cell_type": "markdown",
   "metadata": {},
   "source": [
    "# Set `environment variables`"
   ]
  },
  {
   "cell_type": "markdown",
   "metadata": {},
   "source": [
    "Right-click your computer, and click properties:\n",
    "\n",
    "![java15.png](./picture/java15.png)"
   ]
  },
  {
   "cell_type": "markdown",
   "metadata": {},
   "source": [
    "click `Advanced system Settings`"
   ]
  },
  {
   "cell_type": "markdown",
   "metadata": {},
   "source": [
    "![java7.png](./picture/java7.png)"
   ]
  },
  {
   "cell_type": "markdown",
   "metadata": {},
   "source": [
    "click `environment variables`"
   ]
  },
  {
   "cell_type": "markdown",
   "metadata": {},
   "source": [
    "![java8.png](./picture/java8.png)"
   ]
  },
  {
   "cell_type": "markdown",
   "metadata": {},
   "source": [
    "click `new`"
   ]
  },
  {
   "cell_type": "markdown",
   "metadata": {},
   "source": [
    "![java9.png](./picture/java9.png)"
   ]
  },
  {
   "cell_type": "markdown",
   "metadata": {},
   "source": [
    "set:\n",
    "\n",
    "variable name:  `JAVA_HOME`\n",
    "\n",
    "variable value:  `C:\\Program Files\\Java\\jdk-12.0.1`"
   ]
  },
  {
   "cell_type": "markdown",
   "metadata": {},
   "source": [
    "![java10.png](./picture/java10.png)\n"
   ]
  },
  {
   "cell_type": "markdown",
   "metadata": {},
   "source": [
    "After that, the result like this picture."
   ]
  },
  {
   "cell_type": "markdown",
   "metadata": {},
   "source": [
    "![java11.png](./picture/java11.png)"
   ]
  },
  {
   "cell_type": "markdown",
   "metadata": {},
   "source": [
    "Chose `Path` to edit"
   ]
  },
  {
   "cell_type": "markdown",
   "metadata": {},
   "source": [
    "![java12.png](./picture/java12.png)"
   ]
  },
  {
   "cell_type": "markdown",
   "metadata": {},
   "source": [
    "At the end of variable value,add `;%JAVA_HOME%\\bin;%JAVA_HOME%\\jre\\bin`\n",
    "\n"
   ]
  },
  {
   "cell_type": "markdown",
   "metadata": {},
   "source": [
    "![java13.png](./picture/java13.png)"
   ]
  },
  {
   "cell_type": "markdown",
   "metadata": {},
   "source": [
    "Open Command Prompt and input:\n",
    "    \n",
    "`java -version`"
   ]
  },
  {
   "cell_type": "markdown",
   "metadata": {},
   "source": [
    "![java14.png](./picture/java14.png)"
   ]
  },
  {
   "cell_type": "code",
   "execution_count": null,
   "metadata": {},
   "outputs": [],
   "source": []
  },
  {
   "cell_type": "code",
   "execution_count": null,
   "metadata": {},
   "outputs": [],
   "source": []
  }
 ],
 "metadata": {
  "kernelspec": {
   "display_name": "Python 3",
   "language": "python",
   "name": "python3"
  },
  "language_info": {
   "codemirror_mode": {
    "name": "ipython",
    "version": 3
   },
   "file_extension": ".py",
   "mimetype": "text/x-python",
   "name": "python",
   "nbconvert_exporter": "python",
   "pygments_lexer": "ipython3",
   "version": "3.7.1"
  },
  "toc": {
   "base_numbering": 1,
   "nav_menu": {},
   "number_sections": true,
   "sideBar": true,
   "skip_h1_title": false,
   "title_cell": "Table of Contents",
   "title_sidebar": "Contents",
   "toc_cell": false,
   "toc_position": {},
   "toc_section_display": true,
   "toc_window_display": false
  }
 },
 "nbformat": 4,
 "nbformat_minor": 2
}
