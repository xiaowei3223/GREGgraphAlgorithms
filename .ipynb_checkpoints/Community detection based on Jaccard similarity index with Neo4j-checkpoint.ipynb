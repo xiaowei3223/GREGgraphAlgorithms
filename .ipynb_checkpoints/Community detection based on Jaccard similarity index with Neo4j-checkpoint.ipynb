{
 "cells": [
  {
   "cell_type": "markdown",
   "metadata": {},
   "source": [
    "![78.png](./picture/78.png)"
   ]
  },
  {
   "cell_type": "code",
   "execution_count": null,
   "metadata": {},
   "outputs": [],
   "source": []
  },
  {
   "cell_type": "markdown",
   "metadata": {},
   "source": [
    "We will be using the [Electronic Products and Pricing Data from Kaggle](https://data.world/datafiniti/electronic-products-and-pricing-data)."
   ]
  },
  {
   "cell_type": "markdown",
   "metadata": {},
   "source": [
    "# Import data"
   ]
  },
  {
   "cell_type": "raw",
   "metadata": {},
   "source": [
    "USING PERIODIC COMMIT\n",
    "LOAD CSV WITH HEADERS FROM \n",
    "\"file:///DatafinitiElectronicsProductsPricingData.csv\" as row\n",
    "MERGE (p:Product{id:row.id})\n",
    "ON CREATE SET p.name = row.name,\n",
    "              p.weight = row.weight,\n",
    "              p.price_max = row.`prices.amountMax`, \n",
    "              p.price_min = row.`prices.amountMin`\n",
    "WITH p,split(row.categories,\",\") as categories\n",
    "UNWIND categories as category\n",
    "MERGE (c:Category{name:category})\n",
    "MERGE (p)-[:PART_OF]->(c)"
   ]
  },
  {
   "cell_type": "markdown",
   "metadata": {},
   "source": [
    "# Infer graph with Jaccard index similarity"
   ]
  },
  {
   "cell_type": "markdown",
   "metadata": {},
   "source": [
    "The Jaccard index is a statistic used for comparing the similarity between pairs of sample sets or nodes in our example. It is defined as the size of the intersection divided by the size of the union of the sample sets.\n",
    "\n",
    " Jaccard索引是一个统计量，用于比较本例中样本集或节点对之间的相似性。它被定义为交集的大小除以样本集的并集的大小。"
   ]
  },
  {
   "cell_type": "markdown",
   "metadata": {},
   "source": [
    "We will infer a similarity graph of categories based on Jaccard similarity of the set of products that are in a specific category. \n",
    "\n",
    " 我们将根据特定类别中产品集的Jaccard相似性，推导出类别的相似性图。\n",
    " \n",
    "An example would be category A has 5 products and category B has 2 products it shares with category A and 2 products that aren t common.\n",
    "\n",
    " 一个例子是A类有5种产品B类有2种产品与A类产品共享2种不常见的产品。"
   ]
  },
  {
   "cell_type": "raw",
   "metadata": {},
   "source": [
    "A = {0,1,2,3,4}\n",
    "B = {3,4,5,6}\n",
    "\n",
    "Similarity: J(A,B) = |A∩B| / |A∪B| = |{3,4}| / |{0,1,2,3,4,5,6}| = 2/7 = 0.28"
   ]
  },
  {
   "cell_type": "markdown",
   "metadata": {},
   "source": [
    "## Jaccard index similarity"
   ]
  },
  {
   "cell_type": "raw",
   "metadata": {},
   "source": [
    "MATCH (p:Product)-[:PART_OF]->(category)\n",
    "WITH {item:id(category), categories: collect(id(p))} as productData\n",
    "WITH collect(productData) as data\n",
    "CALL algo.similarity.jaccard(data, {similarityCutoff:0.5, write:true})\n",
    "YIELD nodes, similarityPairs, stdDev, p25, p50, p75, p90, p95\n",
    "RETURN nodes, similarityPairs, stdDev, p25, p50, p75, p90, p95"
   ]
  },
  {
   "cell_type": "markdown",
   "metadata": {},
   "source": [
    "result"
   ]
  },
  {
   "cell_type": "markdown",
   "metadata": {},
   "source": [
    "![77.png](./picture/77.png)"
   ]
  },
  {
   "cell_type": "markdown",
   "metadata": {},
   "source": [
    "# Community detection"
   ]
  },
  {
   "cell_type": "markdown",
   "metadata": {},
   "source": [
    "We will use label propagation algorithm to find communities of similar categories in our graph. Algorithm returns non-overlapping communities.\n",
    "\n",
    "我们将使用标签传播算法来查找图中相似类别的社区。算法返回非重叠的社区。"
   ]
  },
  {
   "cell_type": "raw",
   "metadata": {},
   "source": [
    "CALL algo.labelPropagation.stream('Category','SIMILAR')\n",
    "YIELD nodeId, label\n",
    "RETURN label, \n",
    "       collect(algo.getNodeById(nodeId).name) as categories, \n",
    "       count(*) as size \n",
    "ORDER BY size DESC LIMIT 10"
   ]
  },
  {
   "cell_type": "markdown",
   "metadata": {},
   "source": [
    "![79.png](./picture/79.png)"
   ]
  },
  {
   "cell_type": "markdown",
   "metadata": {},
   "source": [
    "We have done the whole analysis with only 2 queries, which is very neat and allows for fast and fun explorations of various datasets. Analysis could be easily turned around to find similar products based on Jaccard index and then find communities with the highest price per kilogram value or whatever might interest you.\n",
    "\n",
    "我们只用了2个查询就完成了整个分析，这非常简洁，允许对各种数据集进行快速而有趣的探索。分析可以很容易地找到类似的产品，基于Jaccard指数，然后找到每公斤价值最高的社区或任何你可能感兴趣的。"
   ]
  },
  {
   "cell_type": "code",
   "execution_count": null,
   "metadata": {},
   "outputs": [],
   "source": []
  }
 ],
 "metadata": {
  "kernelspec": {
   "display_name": "Python 3",
   "language": "python",
   "name": "python3"
  },
  "language_info": {
   "codemirror_mode": {
    "name": "ipython",
    "version": 3
   },
   "file_extension": ".py",
   "mimetype": "text/x-python",
   "name": "python",
   "nbconvert_exporter": "python",
   "pygments_lexer": "ipython3",
   "version": "3.7.1"
  },
  "toc": {
   "base_numbering": 1,
   "nav_menu": {},
   "number_sections": true,
   "sideBar": true,
   "skip_h1_title": false,
   "title_cell": "Table of Contents",
   "title_sidebar": "Contents",
   "toc_cell": false,
   "toc_position": {},
   "toc_section_display": true,
   "toc_window_display": false
  }
 },
 "nbformat": 4,
 "nbformat_minor": 2
}
