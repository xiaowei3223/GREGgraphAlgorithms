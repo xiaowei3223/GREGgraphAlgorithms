{
 "cells": [
  {
   "cell_type": "markdown",
   "metadata": {},
   "source": [
    "\n",
    "[1  Connect neo4j ](#1)\n",
    "\n",
    "[2  Get all gene names in GREG](#2)\n",
    "\n",
    "[2.1 Make a function to get all gene names.](#2.1)\n",
    "\n",
    "[2.2 a data frame of  all gene in chromosome](#2.2)\n",
    "\n",
    "[2.3 a data frame of  all TF ](#2.3)\n",
    "\n",
    "[2.4 a data frame of  LncRNA ](#2.4)\n",
    "\n",
    "[2.5 a data frame of  all gene names and TF and LncRNA](#2.5)\n",
    "\n",
    "[3  a function `geneMatchIndex` for find out those nodes that genes we want ](#3)\n",
    "\n",
    "[4 Use cypher command to make modules for chr12](#4)\n",
    "\n",
    "[4.1 Make modules for chr12](#4.1)\n",
    "\n",
    "[4.2 How many modules(communities) in mod1? ](#4.2)\n",
    "\n",
    "[5 Get all gene names/chr12 names/ TF names in each modules](#5)\n",
    "\n",
    "[6  numbers of genes / chr12 node / all node in each community(module)](#6)\n",
    "\n",
    "[7 A histogram of  number of chr12 bins of all modules](#7)\n",
    "\n",
    "[8 numbers of genes/all node in each community(module)](#8)\n",
    "\n",
    "[9 Make gene_match_mod function to judge those mudules included target genes](#9)\n",
    "\n",
    "[10 Select the modules that include NANOG AND CTCF AND EP300 AND POLR2A AND YY1 AND cohesin (RAD21, SMC3, OR STAG1) AND mediator (MED1 or MED12).](#10)\n",
    "\n",
    "[11 Select the modules that include CTCF AND EP300 AND POLR2A AND YY1 AND cohesin (RAD21, SMC3, OR STAG1) AND mediator (MED1 or MED12 ](#11)\n",
    "\n",
    "[12  build a function to get relationships during nodes in each community(module) ](#12)\n",
    "\n",
    "[13 Example: get relationship of `mod2`.](#13)\n",
    "\n",
    "[14 Gene Set Enrich ](#14)\n",
    "\n",
    " [14.1 enrich GO](#14.1)\n",
    "\n",
    " [14.2 enrich KEGG](#14.2)\n",
    " \n",
    " [15 save data](#15)"
   ]
  },
  {
   "cell_type": "markdown",
   "metadata": {},
   "source": [
    "<h1 id = \"1\">1 Connect neo4j </h1>"
   ]
  },
  {
   "cell_type": "code",
   "execution_count": 1,
   "metadata": {},
   "outputs": [],
   "source": [
    "#connect neo4j with RNeo4j\n",
    "library(RNeo4j)\n",
    "\n",
    "graph = startGraph(\"http://localhost:7474/db/data/\", username=\"neo4j\", password=\"xiaowei\")"
   ]
  },
  {
   "cell_type": "markdown",
   "metadata": {},
   "source": [
    "<h1 id = \"2\"> 2  Get all gene names in GREG </h1>"
   ]
  },
  {
   "cell_type": "markdown",
   "metadata": {},
   "source": [
    "<h2 id= \"2.1\" >2.1 Make a function to get all gene names.</h2>"
   ]
  },
  {
   "cell_type": "code",
   "execution_count": 2,
   "metadata": {},
   "outputs": [
    {
     "name": "stderr",
     "output_type": "stream",
     "text": [
      "Your code contains a unicode char which cannot be displayed in your\n",
      "current locale and R will silently convert it to an escaped form when the\n",
      "R kernel executes this code. This can lead to subtle errors if you use\n",
      "such chars to do comparisons. For more information, please see\n",
      "https://github.com/IRkernel/repr/wiki/Problems-with-unicode-on-windows"
     ]
    }
   ],
   "source": [
    "#----------------------------------------------------------------------------------------------------------------------\n",
    "#----------------------------------------------------------------------------------------------------------------------\n",
    "#--------------------#获取所有基因\n",
    "#----------------------------------------------------------------------\n",
    "#---建一个函数来获取数据库里面所有gene names\n",
    "#该基因gene name 存在于 node的Details属性上\n",
    "#返回数据框，包含基因名称，节点的id号和节点label， 节点Name\n",
    "\n",
    "getAllGeneName = function(){\n",
    "  #连接neo4j数据库\n",
    "  \n",
    "  library(RNeo4j)\n",
    "  graph = startGraph(\"http://localhost:7474/db/data/\", username=\"neo4j\", password=\"xiaowei\")\n",
    "  \n",
    "  #cypher语言查询\n",
    "  query = \"\n",
    "        //get all nodes which had `Details` property\n",
    "        //查找有Details属性的节点\n",
    "      MATCH (n)\n",
    "      where exists(n.Details)\n",
    "\n",
    "        //split the Details information\n",
    "        //利用split函数拆分Details属性值\n",
    "      with split(n.Details, ';') AS Details,id(n) AS NodeID, labels(n) AS NodeLabel, n.Name AS NodeNames\n",
    "\n",
    "        //change the list format\n",
    "        //利用UNWIND将Details列表换成表格形式\n",
    "      UNWIND Details AS details\n",
    "      with details, NodeID, NodeLabel, NodeNames\n",
    "\n",
    "        //filter those Details information which includes gene_name\n",
    "        // 筛选出含有gene_name的信息\n",
    "      where details contains 'gene_name'\n",
    "      with details as genes, NodeID, NodeLabel, NodeNames\n",
    "\n",
    "        // use `substring` to get real gene names\n",
    "        // 然后利用substring函数截取基因名称， 返回基因名称，节点的id号和节点label\n",
    "      return substring(genes,11) as geneName, NodeID, NodeLabel, NodeNames\n",
    "  \"\n",
    "  #进行查询\n",
    "  allGenes <- RNeo4j::cypher(graph, query) \n",
    "  \n",
    "  #返回查询结果\n",
    "  return(allGenes)\n",
    "}"
   ]
  },
  {
   "cell_type": "markdown",
   "metadata": {},
   "source": [
    "<h2 id= \"2.2\" > 2.2 a data frame of  all gene in chromosome</h2>"
   ]
  },
  {
   "cell_type": "code",
   "execution_count": 3,
   "metadata": {},
   "outputs": [],
   "source": [
    "#-----------all gene in chromosome---------------------\n",
    "AllgeneName <- getAllGeneName()"
   ]
  },
  {
   "cell_type": "code",
   "execution_count": 4,
   "metadata": {},
   "outputs": [],
   "source": [
    "AllgeneName <- unique(AllgeneName)"
   ]
  },
  {
   "cell_type": "code",
   "execution_count": 5,
   "metadata": {},
   "outputs": [
    {
     "data": {
      "text/html": [
       "<table>\n",
       "<caption>A data.frame: 6 × 4</caption>\n",
       "<thead>\n",
       "\t<tr><th scope=col>geneName</th><th scope=col>NodeID</th><th scope=col>NodeLabel</th><th scope=col>NodeNames</th></tr>\n",
       "\t<tr><th scope=col>&lt;chr&gt;</th><th scope=col>&lt;int&gt;</th><th scope=col>&lt;chr&gt;</th><th scope=col>&lt;chr&gt;</th></tr>\n",
       "</thead>\n",
       "<tbody>\n",
       "\t<tr><td>DDX11L1     </td><td>0</td><td>chr1</td><td>Bin1</td></tr>\n",
       "\t<tr><td>WASH7P      </td><td>0</td><td>chr1</td><td>Bin1</td></tr>\n",
       "\t<tr><td>MIR6859-1   </td><td>0</td><td>chr1</td><td>Bin1</td></tr>\n",
       "\t<tr><td>RP11-34P13.3</td><td>0</td><td>chr1</td><td>Bin1</td></tr>\n",
       "\t<tr><td>MIR1302-2   </td><td>0</td><td>chr1</td><td>Bin1</td></tr>\n",
       "\t<tr><td>FAM138A     </td><td>0</td><td>chr1</td><td>Bin1</td></tr>\n",
       "</tbody>\n",
       "</table>\n"
      ],
      "text/latex": [
       "A data.frame: 6 × 4\n",
       "\\begin{tabular}{r|llll}\n",
       " geneName & NodeID & NodeLabel & NodeNames\\\\\n",
       " <chr> & <int> & <chr> & <chr>\\\\\n",
       "\\hline\n",
       "\t DDX11L1      & 0 & chr1 & Bin1\\\\\n",
       "\t WASH7P       & 0 & chr1 & Bin1\\\\\n",
       "\t MIR6859-1    & 0 & chr1 & Bin1\\\\\n",
       "\t RP11-34P13.3 & 0 & chr1 & Bin1\\\\\n",
       "\t MIR1302-2    & 0 & chr1 & Bin1\\\\\n",
       "\t FAM138A      & 0 & chr1 & Bin1\\\\\n",
       "\\end{tabular}\n"
      ],
      "text/markdown": [
       "\n",
       "A data.frame: 6 × 4\n",
       "\n",
       "| geneName &lt;chr&gt; | NodeID &lt;int&gt; | NodeLabel &lt;chr&gt; | NodeNames &lt;chr&gt; |\n",
       "|---|---|---|---|\n",
       "| DDX11L1      | 0 | chr1 | Bin1 |\n",
       "| WASH7P       | 0 | chr1 | Bin1 |\n",
       "| MIR6859-1    | 0 | chr1 | Bin1 |\n",
       "| RP11-34P13.3 | 0 | chr1 | Bin1 |\n",
       "| MIR1302-2    | 0 | chr1 | Bin1 |\n",
       "| FAM138A      | 0 | chr1 | Bin1 |\n",
       "\n"
      ],
      "text/plain": [
       "  geneName     NodeID NodeLabel NodeNames\n",
       "1 DDX11L1      0      chr1      Bin1     \n",
       "2 WASH7P       0      chr1      Bin1     \n",
       "3 MIR6859-1    0      chr1      Bin1     \n",
       "4 RP11-34P13.3 0      chr1      Bin1     \n",
       "5 MIR1302-2    0      chr1      Bin1     \n",
       "6 FAM138A      0      chr1      Bin1     "
      ]
     },
     "metadata": {},
     "output_type": "display_data"
    }
   ],
   "source": [
    "head(AllgeneName)"
   ]
  },
  {
   "cell_type": "code",
   "execution_count": 6,
   "metadata": {},
   "outputs": [
    {
     "data": {
      "text/html": [
       "<ol class=list-inline>\n",
       "\t<li>67300</li>\n",
       "\t<li>4</li>\n",
       "</ol>\n"
      ],
      "text/latex": [
       "\\begin{enumerate*}\n",
       "\\item 67300\n",
       "\\item 4\n",
       "\\end{enumerate*}\n"
      ],
      "text/markdown": [
       "1. 67300\n",
       "2. 4\n",
       "\n",
       "\n"
      ],
      "text/plain": [
       "[1] 67300     4"
      ]
     },
     "metadata": {},
     "output_type": "display_data"
    }
   ],
   "source": [
    "dim(AllgeneName)"
   ]
  },
  {
   "cell_type": "markdown",
   "metadata": {},
   "source": [
    "GREG have 67300 genes names. "
   ]
  },
  {
   "cell_type": "markdown",
   "metadata": {},
   "source": [
    "<h2 id= \"2.3\" >2.3 a data frame of  all TF </h2>"
   ]
  },
  {
   "cell_type": "code",
   "execution_count": 7,
   "metadata": {},
   "outputs": [],
   "source": [
    "#-----------TF----------------------\n",
    "query = \"MATCH (n:TF)\n",
    "        RETURN n.Name AS geneName, id(n) AS NodeID, labels(n) AS NodeLabel, n.Name AS NodeNames\"\n",
    "TFName =unique( cypher(graph, query) )"
   ]
  },
  {
   "cell_type": "code",
   "execution_count": 8,
   "metadata": {},
   "outputs": [
    {
     "data": {
      "text/html": [
       "<table>\n",
       "<caption>A data.frame: 6 × 4</caption>\n",
       "<thead>\n",
       "\t<tr><th scope=col>geneName</th><th scope=col>NodeID</th><th scope=col>NodeLabel</th><th scope=col>NodeNames</th></tr>\n",
       "\t<tr><th scope=col>&lt;chr&gt;</th><th scope=col>&lt;int&gt;</th><th scope=col>&lt;chr&gt;</th><th scope=col>&lt;chr&gt;</th></tr>\n",
       "</thead>\n",
       "<tbody>\n",
       "\t<tr><td>AFF4  </td><td>15448</td><td>TF</td><td>AFF4  </td></tr>\n",
       "\t<tr><td>AHR   </td><td>15449</td><td>TF</td><td>AHR   </td></tr>\n",
       "\t<tr><td>ARID3A</td><td>15450</td><td>TF</td><td>ARID3A</td></tr>\n",
       "\t<tr><td>ARNT  </td><td>15451</td><td>TF</td><td>ARNT  </td></tr>\n",
       "\t<tr><td>ARRB1 </td><td>15452</td><td>TF</td><td>ARRB1 </td></tr>\n",
       "\t<tr><td>ATF1  </td><td>15453</td><td>TF</td><td>ATF1  </td></tr>\n",
       "</tbody>\n",
       "</table>\n"
      ],
      "text/latex": [
       "A data.frame: 6 × 4\n",
       "\\begin{tabular}{r|llll}\n",
       " geneName & NodeID & NodeLabel & NodeNames\\\\\n",
       " <chr> & <int> & <chr> & <chr>\\\\\n",
       "\\hline\n",
       "\t AFF4   & 15448 & TF & AFF4  \\\\\n",
       "\t AHR    & 15449 & TF & AHR   \\\\\n",
       "\t ARID3A & 15450 & TF & ARID3A\\\\\n",
       "\t ARNT   & 15451 & TF & ARNT  \\\\\n",
       "\t ARRB1  & 15452 & TF & ARRB1 \\\\\n",
       "\t ATF1   & 15453 & TF & ATF1  \\\\\n",
       "\\end{tabular}\n"
      ],
      "text/markdown": [
       "\n",
       "A data.frame: 6 × 4\n",
       "\n",
       "| geneName &lt;chr&gt; | NodeID &lt;int&gt; | NodeLabel &lt;chr&gt; | NodeNames &lt;chr&gt; |\n",
       "|---|---|---|---|\n",
       "| AFF4   | 15448 | TF | AFF4   |\n",
       "| AHR    | 15449 | TF | AHR    |\n",
       "| ARID3A | 15450 | TF | ARID3A |\n",
       "| ARNT   | 15451 | TF | ARNT   |\n",
       "| ARRB1  | 15452 | TF | ARRB1  |\n",
       "| ATF1   | 15453 | TF | ATF1   |\n",
       "\n"
      ],
      "text/plain": [
       "  geneName NodeID NodeLabel NodeNames\n",
       "1 AFF4     15448  TF        AFF4     \n",
       "2 AHR      15449  TF        AHR      \n",
       "3 ARID3A   15450  TF        ARID3A   \n",
       "4 ARNT     15451  TF        ARNT     \n",
       "5 ARRB1    15452  TF        ARRB1    \n",
       "6 ATF1     15453  TF        ATF1     "
      ]
     },
     "metadata": {},
     "output_type": "display_data"
    },
    {
     "data": {
      "text/html": [
       "<ol class=list-inline>\n",
       "\t<li>261</li>\n",
       "\t<li>4</li>\n",
       "</ol>\n"
      ],
      "text/latex": [
       "\\begin{enumerate*}\n",
       "\\item 261\n",
       "\\item 4\n",
       "\\end{enumerate*}\n"
      ],
      "text/markdown": [
       "1. 261\n",
       "2. 4\n",
       "\n",
       "\n"
      ],
      "text/plain": [
       "[1] 261   4"
      ]
     },
     "metadata": {},
     "output_type": "display_data"
    }
   ],
   "source": [
    "head(TFName)\n",
    "dim(TFName)"
   ]
  },
  {
   "cell_type": "markdown",
   "metadata": {},
   "source": [
    "<h2 id= \"2.4\" >2.4 a data frame of  LncRNA </h2>"
   ]
  },
  {
   "cell_type": "code",
   "execution_count": 9,
   "metadata": {},
   "outputs": [],
   "source": [
    "#-----------LncRNA----------------\n",
    "query = \"MATCH (n:LncRNA)\n",
    "        RETURN n.Name AS geneName, id(n) AS NodeID, labels(n) AS NodeLabel, n.Name AS NodeNames\"\n",
    "LncRNAName = unique( cypher(graph, query) )\n"
   ]
  },
  {
   "cell_type": "code",
   "execution_count": 10,
   "metadata": {},
   "outputs": [
    {
     "data": {
      "text/html": [
       "<table>\n",
       "<caption>A data.frame: 6 × 4</caption>\n",
       "<thead>\n",
       "\t<tr><th scope=col>geneName</th><th scope=col>NodeID</th><th scope=col>NodeLabel</th><th scope=col>NodeNames</th></tr>\n",
       "\t<tr><th scope=col>&lt;chr&gt;</th><th scope=col>&lt;int&gt;</th><th scope=col>&lt;chr&gt;</th><th scope=col>&lt;chr&gt;</th></tr>\n",
       "</thead>\n",
       "<tbody>\n",
       "\t<tr><td>ANRASSF1   </td><td>1288086</td><td>LncRNA</td><td>ANRASSF1   </td></tr>\n",
       "\t<tr><td>C5-AS1     </td><td>1288087</td><td>LncRNA</td><td>C5-AS1     </td></tr>\n",
       "\t<tr><td>lincRNA-p21</td><td>1288088</td><td>LncRNA</td><td>lincRNA-p21</td></tr>\n",
       "\t<tr><td>SRA        </td><td>1288089</td><td>LncRNA</td><td>SRA        </td></tr>\n",
       "\t<tr><td>CAT7       </td><td>1288090</td><td>LncRNA</td><td>CAT7       </td></tr>\n",
       "\t<tr><td>ANRIL      </td><td>1288091</td><td>LncRNA</td><td>ANRIL      </td></tr>\n",
       "</tbody>\n",
       "</table>\n"
      ],
      "text/latex": [
       "A data.frame: 6 × 4\n",
       "\\begin{tabular}{r|llll}\n",
       " geneName & NodeID & NodeLabel & NodeNames\\\\\n",
       " <chr> & <int> & <chr> & <chr>\\\\\n",
       "\\hline\n",
       "\t ANRASSF1    & 1288086 & LncRNA & ANRASSF1   \\\\\n",
       "\t C5-AS1      & 1288087 & LncRNA & C5-AS1     \\\\\n",
       "\t lincRNA-p21 & 1288088 & LncRNA & lincRNA-p21\\\\\n",
       "\t SRA         & 1288089 & LncRNA & SRA        \\\\\n",
       "\t CAT7        & 1288090 & LncRNA & CAT7       \\\\\n",
       "\t ANRIL       & 1288091 & LncRNA & ANRIL      \\\\\n",
       "\\end{tabular}\n"
      ],
      "text/markdown": [
       "\n",
       "A data.frame: 6 × 4\n",
       "\n",
       "| geneName &lt;chr&gt; | NodeID &lt;int&gt; | NodeLabel &lt;chr&gt; | NodeNames &lt;chr&gt; |\n",
       "|---|---|---|---|\n",
       "| ANRASSF1    | 1288086 | LncRNA | ANRASSF1    |\n",
       "| C5-AS1      | 1288087 | LncRNA | C5-AS1      |\n",
       "| lincRNA-p21 | 1288088 | LncRNA | lincRNA-p21 |\n",
       "| SRA         | 1288089 | LncRNA | SRA         |\n",
       "| CAT7        | 1288090 | LncRNA | CAT7        |\n",
       "| ANRIL       | 1288091 | LncRNA | ANRIL       |\n",
       "\n"
      ],
      "text/plain": [
       "  geneName    NodeID  NodeLabel NodeNames  \n",
       "1 ANRASSF1    1288086 LncRNA    ANRASSF1   \n",
       "2 C5-AS1      1288087 LncRNA    C5-AS1     \n",
       "3 lincRNA-p21 1288088 LncRNA    lincRNA-p21\n",
       "4 SRA         1288089 LncRNA    SRA        \n",
       "5 CAT7        1288090 LncRNA    CAT7       \n",
       "6 ANRIL       1288091 LncRNA    ANRIL      "
      ]
     },
     "metadata": {},
     "output_type": "display_data"
    },
    {
     "data": {
      "text/html": [
       "<ol class=list-inline>\n",
       "\t<li>35</li>\n",
       "\t<li>4</li>\n",
       "</ol>\n"
      ],
      "text/latex": [
       "\\begin{enumerate*}\n",
       "\\item 35\n",
       "\\item 4\n",
       "\\end{enumerate*}\n"
      ],
      "text/markdown": [
       "1. 35\n",
       "2. 4\n",
       "\n",
       "\n"
      ],
      "text/plain": [
       "[1] 35  4"
      ]
     },
     "metadata": {},
     "output_type": "display_data"
    }
   ],
   "source": [
    "head(LncRNAName)\n",
    "dim(LncRNAName)"
   ]
  },
  {
   "cell_type": "markdown",
   "metadata": {},
   "source": [
    "<h2 id= \"2.5\" >2.5 a data frame of  all gene names and TF and LncRNA</h2>"
   ]
  },
  {
   "cell_type": "code",
   "execution_count": 11,
   "metadata": {},
   "outputs": [
    {
     "name": "stderr",
     "output_type": "stream",
     "text": [
      "Your code contains a unicode char which cannot be displayed in your\n",
      "current locale and R will silently convert it to an escaped form when the\n",
      "R kernel executes this code. This can lead to subtle errors if you use\n",
      "such chars to do comparisons. For more information, please see\n",
      "https://github.com/IRkernel/repr/wiki/Problems-with-unicode-on-windows"
     ]
    }
   ],
   "source": [
    "#------------AllgeneName_TF_LncRNA--------------------------------------\n",
    "AllgeneName_TF_LncRNA = unique( rbind(TFName, LncRNAName, AllgeneName) )\n",
    "#AllgeneName_TF_LncRNA就是整个数据库里面所有的基因名称和TF以及LncRNA"
   ]
  },
  {
   "cell_type": "code",
   "execution_count": 12,
   "metadata": {},
   "outputs": [
    {
     "data": {
      "text/html": [
       "<table>\n",
       "<caption>A data.frame: 6 × 4</caption>\n",
       "<thead>\n",
       "\t<tr><th scope=col>geneName</th><th scope=col>NodeID</th><th scope=col>NodeLabel</th><th scope=col>NodeNames</th></tr>\n",
       "\t<tr><th scope=col>&lt;chr&gt;</th><th scope=col>&lt;int&gt;</th><th scope=col>&lt;chr&gt;</th><th scope=col>&lt;chr&gt;</th></tr>\n",
       "</thead>\n",
       "<tbody>\n",
       "\t<tr><td>AFF4  </td><td>15448</td><td>TF</td><td>AFF4  </td></tr>\n",
       "\t<tr><td>AHR   </td><td>15449</td><td>TF</td><td>AHR   </td></tr>\n",
       "\t<tr><td>ARID3A</td><td>15450</td><td>TF</td><td>ARID3A</td></tr>\n",
       "\t<tr><td>ARNT  </td><td>15451</td><td>TF</td><td>ARNT  </td></tr>\n",
       "\t<tr><td>ARRB1 </td><td>15452</td><td>TF</td><td>ARRB1 </td></tr>\n",
       "\t<tr><td>ATF1  </td><td>15453</td><td>TF</td><td>ATF1  </td></tr>\n",
       "</tbody>\n",
       "</table>\n"
      ],
      "text/latex": [
       "A data.frame: 6 × 4\n",
       "\\begin{tabular}{r|llll}\n",
       " geneName & NodeID & NodeLabel & NodeNames\\\\\n",
       " <chr> & <int> & <chr> & <chr>\\\\\n",
       "\\hline\n",
       "\t AFF4   & 15448 & TF & AFF4  \\\\\n",
       "\t AHR    & 15449 & TF & AHR   \\\\\n",
       "\t ARID3A & 15450 & TF & ARID3A\\\\\n",
       "\t ARNT   & 15451 & TF & ARNT  \\\\\n",
       "\t ARRB1  & 15452 & TF & ARRB1 \\\\\n",
       "\t ATF1   & 15453 & TF & ATF1  \\\\\n",
       "\\end{tabular}\n"
      ],
      "text/markdown": [
       "\n",
       "A data.frame: 6 × 4\n",
       "\n",
       "| geneName &lt;chr&gt; | NodeID &lt;int&gt; | NodeLabel &lt;chr&gt; | NodeNames &lt;chr&gt; |\n",
       "|---|---|---|---|\n",
       "| AFF4   | 15448 | TF | AFF4   |\n",
       "| AHR    | 15449 | TF | AHR    |\n",
       "| ARID3A | 15450 | TF | ARID3A |\n",
       "| ARNT   | 15451 | TF | ARNT   |\n",
       "| ARRB1  | 15452 | TF | ARRB1  |\n",
       "| ATF1   | 15453 | TF | ATF1   |\n",
       "\n"
      ],
      "text/plain": [
       "  geneName NodeID NodeLabel NodeNames\n",
       "1 AFF4     15448  TF        AFF4     \n",
       "2 AHR      15449  TF        AHR      \n",
       "3 ARID3A   15450  TF        ARID3A   \n",
       "4 ARNT     15451  TF        ARNT     \n",
       "5 ARRB1    15452  TF        ARRB1    \n",
       "6 ATF1     15453  TF        ATF1     "
      ]
     },
     "metadata": {},
     "output_type": "display_data"
    },
    {
     "data": {
      "text/html": [
       "<ol class=list-inline>\n",
       "\t<li>67596</li>\n",
       "\t<li>4</li>\n",
       "</ol>\n"
      ],
      "text/latex": [
       "\\begin{enumerate*}\n",
       "\\item 67596\n",
       "\\item 4\n",
       "\\end{enumerate*}\n"
      ],
      "text/markdown": [
       "1. 67596\n",
       "2. 4\n",
       "\n",
       "\n"
      ],
      "text/plain": [
       "[1] 67596     4"
      ]
     },
     "metadata": {},
     "output_type": "display_data"
    }
   ],
   "source": [
    "head(AllgeneName_TF_LncRNA)\n",
    "dim(AllgeneName_TF_LncRNA)"
   ]
  },
  {
   "cell_type": "code",
   "execution_count": 13,
   "metadata": {},
   "outputs": [
    {
     "data": {
      "text/html": [
       "<ol class=list-inline>\n",
       "\t<li>67596</li>\n",
       "\t<li>4</li>\n",
       "</ol>\n"
      ],
      "text/latex": [
       "\\begin{enumerate*}\n",
       "\\item 67596\n",
       "\\item 4\n",
       "\\end{enumerate*}\n"
      ],
      "text/markdown": [
       "1. 67596\n",
       "2. 4\n",
       "\n",
       "\n"
      ],
      "text/plain": [
       "[1] 67596     4"
      ]
     },
     "metadata": {},
     "output_type": "display_data"
    }
   ],
   "source": [
    "dim(unique(AllgeneName_TF_LncRNA))"
   ]
  },
  {
   "cell_type": "markdown",
   "metadata": {},
   "source": [
    "# <h1 id = \"3\"> 3 a function `geneMatchIndex` for find out those nodes that genes we want </h1>"
   ]
  },
  {
   "cell_type": "markdown",
   "metadata": {},
   "source": [
    "The format of geneMatchIndex is:\n",
    "\n",
    "`geneMatchIndex(gene, allGeneNode, FullMatch = 1, by = \"geneName\")`\n",
    "\n",
    ">**`gene`：** a vector, what genes you want to match.  \n",
    ">\n",
    ">**`allGeneNode`:**  `allGeneNode` is data you chose which one as your match. It must is one of `AllgeneName_TF_LncRNA`, `TFName`, `LncRNAName` and `AllgeneName`.  \n",
    ">\n",
    ">**`FullMatch = 1`** : This is as defaults. please set argument `FullMatch = 0` ,if you want use fuzzy match for those gene names contain strings of your input. \n",
    ">\n",
    ">**`by`** : one type of  `\"geneName\"`,  `\"NodeID\"`,   ` \"NodeLabel\"` and  `\"NodeNames\"`, it should be as your genes types.\n",
    "\n",
    "**Results**\n",
    "\n",
    "A list contains `TargetNodes` and `NoGeneIndex`.\n",
    "\n",
    "`TargetNodes` is a frame data of those matched in `allGeneNode`. `NoGeneIndex` is a vector included those didnot find out in `allGeneNode`. "
   ]
  },
  {
   "cell_type": "code",
   "execution_count": 14,
   "metadata": {},
   "outputs": [
    {
     "name": "stderr",
     "output_type": "stream",
     "text": [
      "Your code contains a unicode char which cannot be displayed in your\n",
      "current locale and R will silently convert it to an escaped form when the\n",
      "R kernel executes this code. This can lead to subtle errors if you use\n",
      "such chars to do comparisons. For more information, please see\n",
      "https://github.com/IRkernel/repr/wiki/Problems-with-unicode-on-windows"
     ]
    }
   ],
   "source": [
    "#----------------------------------------------------------------------------------------------------------------------\n",
    "#这是一个函数，用来匹配一个list的节点对应的id，基因名称等等\n",
    "\n",
    "#-----------grep或者which---------------------\n",
    "#-----------------------------------------\n",
    "#a function geneMatchIndex for find out those nodes that genes we want\n",
    "#一个函数用来查找gene在所有基因数据框内的对应位置和没有匹配的基因\n",
    "\n",
    "# allGeneNode is you chose which one as your match. It must is one of AllgeneName_TF_LncRNA, TFName, LncRNAName and AllgeneName.\n",
    "\n",
    "#This is as defaults. please set argument `FullMatch = 0` If you want use fuzzy match for those gene names contain strings of your input.\n",
    "#FullMatch默认为1，也就是说默认使用的是完全匹配的方式，找到的基因名称跟输入的是一模一样的\n",
    "#FullMatch如果是其他数字，则用grep的方式查找含有该字符串的基因位置\n",
    "\n",
    "#Result is a list includes a data frame of `TargetNodes` about genes and a vector `NoGeneIndex` about those genes not in GREG.\n",
    "#返回的是两个向量的list，geneIndex是对应基因的位置；NoGeneIndex是该基因在数据库中没有找到\n",
    "\n",
    "#The argument `by` must one of `\"geneName\"`,  `\"NodeID\"` ,   `\"NodeLabel\"` and `\"NodeNames\"`. It means the type of your input data.\n",
    "#第三个参数是指匹配的是哪个类型， 是属于基因名，还是节点id，节点的label和节点名称\n",
    "#第三个参数 即 \"geneName\"  \"NodeID\"    \"NodeLabel\" \"NodeNames\"\n",
    "\n",
    "geneMatchIndex = function(gene, allGeneNode, FullMatch = 1, by = \"geneName\"){\n",
    "  geneIndex = c() \n",
    "  NoGeneIndex =  c()\n",
    "  Ag = allGeneNode[by]\n",
    "  if (FullMatch == 1){\n",
    "    #----------which-----------------\n",
    "    for (i in 1:length(gene) ) {\n",
    "      geneIndex1 = which(Ag == gene[i] )\n",
    "      if (length(geneIndex1) == 0){NoGeneIndex = c(gene[i], NoGeneIndex)}\n",
    "      else{geneIndex = c(geneIndex,geneIndex1)}\n",
    "    }\n",
    "  }\n",
    "  \n",
    "  else{\n",
    "    #----------grep---------------\n",
    "    for (i in 1:length(gene) ) {\n",
    "      geneIndex1 = grep(gene[i],Ag, fixed = TRUE)\n",
    "      if (length(geneIndex1) == 0){NoGeneIndex = c(gene[i], NoGeneIndex)}\n",
    "      else{geneIndex = c(geneIndex,geneIndex1)}\n",
    "    }\n",
    "  }\n",
    "  \n",
    "  TargetNodes <- allGeneNode[geneIndex, ]\n",
    "  geneInGREG = list(TargetNodes, NoGeneIndex)\n",
    "  names(geneInGREG) = c(\"TargetNodes\", \"NoGeneIndex\")\n",
    "  #返回匹配上的TargetNodes和没有找到基因NoGeneIndex\n",
    "  return (geneInGREG )\n",
    "}\n",
    "\n",
    "\n",
    "#--------------geneMatchIndex函数说明--------------------------------------------------------------------------------------------------------\n",
    "#geneMatchIndex(gene, allGeneNode, FullMatch = 1, by = \"geneName\")\n",
    "#gene：你自己选择基因列表，可以使基因对应的节点id，也可以是基因名称，还可以是基因对应节点的Name属性。\n",
    "#allGeneNode #It must is one of AllgeneName_TF_LncRNA, TFName, LncRNAName and AllgeneName.\n",
    "#FullMatch = 1， 直接匹配；\n",
    "#by: 选择对应的类型 \"geneName\"  \"NodeID\"    \"NodeLabel\" \"NodeNames\"\n",
    "\n",
    "#返回匹配上的TargetNodes和没有找到基因NoGeneIndex\n",
    "#----------------------------------------------------------------------------------------------------------------------"
   ]
  },
  {
   "cell_type": "markdown",
   "metadata": {},
   "source": [
    "<h1 id = \"4\">4 Use cypher command to make modules for chr12</h1>\n"
   ]
  },
  {
   "cell_type": "markdown",
   "metadata": {},
   "source": [
    "<h2 id = \"4.1\">4.1 Make modules for chr12</h2>"
   ]
  },
  {
   "cell_type": "code",
   "execution_count": 15,
   "metadata": {},
   "outputs": [],
   "source": [
    "query = \"\n",
    "// to make louvain modules for chr12\n",
    "CALL algo.louvain.stream(\n",
    "  'MATCH (n:chr12)--(m) with id(n) as chr12,id(m) AS m   MATCH (al) where id(al) = m or  id(al) = chr12 with distinct al As al return id(al) as id',\n",
    "  'MATCH (n:chr12)-[r]-(m) RETURN id(n) AS source, id(m) AS target',\n",
    "  {graph:'cypher',direction: 'both'})\n",
    "YIELD nodeId, community\n",
    "\n",
    "MATCH (n)\n",
    "where id(n) = nodeId\n",
    "\n",
    "with collect (id(n)) AS AllnodeId, 'module'+community AS community, collect(n.Name) AS AllNodeNames\n",
    "RETURN AllnodeId, community, AllNodeNames, size(AllnodeId) AS size_of_allnode\n",
    "\""
   ]
  },
  {
   "cell_type": "code",
   "execution_count": 16,
   "metadata": {},
   "outputs": [],
   "source": [
    "mod1 = cypher(graph, query)"
   ]
  },
  {
   "cell_type": "code",
   "execution_count": 17,
   "metadata": {},
   "outputs": [
    {
     "data": {
      "text/html": [
       "'data.frame'"
      ],
      "text/latex": [
       "'data.frame'"
      ],
      "text/markdown": [
       "'data.frame'"
      ],
      "text/plain": [
       "[1] \"data.frame\""
      ]
     },
     "metadata": {},
     "output_type": "display_data"
    },
    {
     "data": {
      "text/html": [
       "<ol class=list-inline>\n",
       "\t<li>'AllnodeId'</li>\n",
       "\t<li>'community'</li>\n",
       "\t<li>'AllNodeNames'</li>\n",
       "\t<li>'size_of_allnode'</li>\n",
       "</ol>\n"
      ],
      "text/latex": [
       "\\begin{enumerate*}\n",
       "\\item 'AllnodeId'\n",
       "\\item 'community'\n",
       "\\item 'AllNodeNames'\n",
       "\\item 'size\\_of\\_allnode'\n",
       "\\end{enumerate*}\n"
      ],
      "text/markdown": [
       "1. 'AllnodeId'\n",
       "2. 'community'\n",
       "3. 'AllNodeNames'\n",
       "4. 'size_of_allnode'\n",
       "\n",
       "\n"
      ],
      "text/plain": [
       "[1] \"AllnodeId\"       \"community\"       \"AllNodeNames\"    \"size_of_allnode\""
      ]
     },
     "metadata": {},
     "output_type": "display_data"
    }
   ],
   "source": [
    "class(mod1)\n",
    "names(mod1)"
   ]
  },
  {
   "cell_type": "markdown",
   "metadata": {},
   "source": [
    "`AllnodeId` just is columns of nodes ids in each module. \n",
    "\n",
    "`community` is columns  of modules names.\n",
    "\n",
    "`AllNodeNames` is columns for all nodes those have `Name` properties.\n",
    "\n",
    "`size_of_allnode` is calculated by `AllnodeId`."
   ]
  },
  {
   "cell_type": "markdown",
   "metadata": {},
   "source": [
    "<h2 id = \"4\">4.2 How many modules(communities) in mod1? </h2>"
   ]
  },
  {
   "cell_type": "code",
   "execution_count": 18,
   "metadata": {
    "scrolled": false
   },
   "outputs": [
    {
     "data": {
      "text/html": [
       "49"
      ],
      "text/latex": [
       "49"
      ],
      "text/markdown": [
       "49"
      ],
      "text/plain": [
       "[1] 49"
      ]
     },
     "metadata": {},
     "output_type": "display_data"
    }
   ],
   "source": [
    "nrow(mod1)"
   ]
  },
  {
   "cell_type": "markdown",
   "metadata": {},
   "source": [
    "<h1 id = \"5\"> 5 Get all gene names/chr12 names/ TF names in each modules</h1>"
   ]
  },
  {
   "cell_type": "code",
   "execution_count": 19,
   "metadata": {},
   "outputs": [
    {
     "name": "stderr",
     "output_type": "stream",
     "text": [
      "Your code contains a unicode char which cannot be displayed in your\n",
      "current locale and R will silently convert it to an escaped form when the\n",
      "R kernel executes this code. This can lead to subtle errors if you use\n",
      "such chars to do comparisons. For more information, please see\n",
      "https://github.com/IRkernel/repr/wiki/Problems-with-unicode-on-windows"
     ]
    }
   ],
   "source": [
    "mod2 <- mod1\n",
    "\n",
    "#mod1_match_gene to save all match results.\n",
    "mod1_match_gene <- list() #用来存放每个模块nodeid匹配后对应的gene列表，里面包括\n",
    "for (i in 1:nrow(mod2)){\n",
    "  Mod_nodeId_list = unlist(mod1$AllnodeId[i])\n",
    "  Mod_nodes_list = geneMatchIndex(Mod_nodeId_list, AllgeneName_TF_LncRNA, FullMatch = 1, by = \"NodeID\")\n",
    "  Mod_gene_nodes_list = unique(Mod_nodes_list$TargetNodes) #得到每个模块nodeID匹配后基因的列表,加上一个unique来避免重复\n",
    "  \n",
    "  mod1_match_gene[[i]] <-  Mod_gene_nodes_list #保存匹配后的结果\n",
    "  \n",
    "  #Get all gene , TF and LncRNA names in each modules\n",
    "  mod2$allGeneTFLncRNA[[i]] <- unique(Mod_gene_nodes_list$geneName) #得到每个模块对应的基因数量，加上一个unique来避免重复\n",
    "  mod2$size_of_allGeneTFLncRNA[i] <- length(mod2$allGeneTFLncRNA[[i]])  #统计每个匹配后基因的数量\n",
    "  \n",
    "  #Get all chr12 names in each modules\n",
    "  mod2$allchr12Name[[i]] <- unique(Mod_gene_nodes_list$NodeNames[which(Mod_gene_nodes_list$NodeLabel == 'chr12')]) #获取每个模块里chr12的节点名称,加上一个unique来避免重复\n",
    "  mod2$size_of_allchr12Name[i] <- length(mod2$allchr12Name[[i]]) #统计每个模块匹配后chr12节点的数量\n",
    "  \n",
    "    #Get all gene names at chr12 in each modules\n",
    "  mod2$allGeneAtchr12[[i]] <- unique(Mod_gene_nodes_list$geneName[which(Mod_gene_nodes_list$NodeLabel == 'chr12')])\n",
    "  mod2$size_of_allGeneAtchr12[i] <- length(mod2$allGeneAtchr12[[i]])\n",
    "    \n",
    "  #Get all TF names in each modules\n",
    "  mod2$AllTF[[i]] <- unique(Mod_gene_nodes_list$NodeNames[which(Mod_gene_nodes_list$NodeLabel == 'TF')]) ##获取每个模块里TF的节点名称,加上一个unique来避免重复\n",
    "  mod2$size_of_AllTF[i] <- length(mod2$AllTF[[i]]) #统计每个模块匹配后TF节点的数量\n",
    "}\n",
    "names(mod1_match_gene) <- mod2$community"
   ]
  },
  {
   "cell_type": "code",
   "execution_count": 20,
   "metadata": {},
   "outputs": [
    {
     "data": {
      "text/html": [
       "<ol class=list-inline>\n",
       "\t<li>'AllnodeId'</li>\n",
       "\t<li>'community'</li>\n",
       "\t<li>'AllNodeNames'</li>\n",
       "\t<li>'size_of_allnode'</li>\n",
       "\t<li>'allGeneTFLncRNA'</li>\n",
       "\t<li>'size_of_allGeneTFLncRNA'</li>\n",
       "\t<li>'allchr12Name'</li>\n",
       "\t<li>'size_of_allchr12Name'</li>\n",
       "\t<li>'allGeneAtchr12'</li>\n",
       "\t<li>'size_of_allGeneAtchr12'</li>\n",
       "\t<li>'AllTF'</li>\n",
       "\t<li>'size_of_AllTF'</li>\n",
       "</ol>\n"
      ],
      "text/latex": [
       "\\begin{enumerate*}\n",
       "\\item 'AllnodeId'\n",
       "\\item 'community'\n",
       "\\item 'AllNodeNames'\n",
       "\\item 'size\\_of\\_allnode'\n",
       "\\item 'allGeneTFLncRNA'\n",
       "\\item 'size\\_of\\_allGeneTFLncRNA'\n",
       "\\item 'allchr12Name'\n",
       "\\item 'size\\_of\\_allchr12Name'\n",
       "\\item 'allGeneAtchr12'\n",
       "\\item 'size\\_of\\_allGeneAtchr12'\n",
       "\\item 'AllTF'\n",
       "\\item 'size\\_of\\_AllTF'\n",
       "\\end{enumerate*}\n"
      ],
      "text/markdown": [
       "1. 'AllnodeId'\n",
       "2. 'community'\n",
       "3. 'AllNodeNames'\n",
       "4. 'size_of_allnode'\n",
       "5. 'allGeneTFLncRNA'\n",
       "6. 'size_of_allGeneTFLncRNA'\n",
       "7. 'allchr12Name'\n",
       "8. 'size_of_allchr12Name'\n",
       "9. 'allGeneAtchr12'\n",
       "10. 'size_of_allGeneAtchr12'\n",
       "11. 'AllTF'\n",
       "12. 'size_of_AllTF'\n",
       "\n",
       "\n"
      ],
      "text/plain": [
       " [1] \"AllnodeId\"               \"community\"              \n",
       " [3] \"AllNodeNames\"            \"size_of_allnode\"        \n",
       " [5] \"allGeneTFLncRNA\"         \"size_of_allGeneTFLncRNA\"\n",
       " [7] \"allchr12Name\"            \"size_of_allchr12Name\"   \n",
       " [9] \"allGeneAtchr12\"          \"size_of_allGeneAtchr12\" \n",
       "[11] \"AllTF\"                   \"size_of_AllTF\"          "
      ]
     },
     "metadata": {},
     "output_type": "display_data"
    }
   ],
   "source": [
    "names(mod2)"
   ]
  },
  {
   "cell_type": "code",
   "execution_count": 21,
   "metadata": {},
   "outputs": [],
   "source": [
    "#mod2[1,]"
   ]
  },
  {
   "cell_type": "markdown",
   "metadata": {},
   "source": [
    "You can see all gene/TF/LncRNA in each module."
   ]
  },
  {
   "cell_type": "markdown",
   "metadata": {},
   "source": [
    "<h1 id = \"6\">6  numbers of genes / chr12 node / all node in each community(module)</h1>"
   ]
  },
  {
   "cell_type": "code",
   "execution_count": 22,
   "metadata": {},
   "outputs": [
    {
     "name": "stderr",
     "output_type": "stream",
     "text": [
      "Your code contains a unicode char which cannot be displayed in your\n",
      "current locale and R will silently convert it to an escaped form when the\n",
      "R kernel executes this code. This can lead to subtle errors if you use\n",
      "such chars to do comparisons. For more information, please see\n",
      "https://github.com/IRkernel/repr/wiki/Problems-with-unicode-on-windowsRegistered S3 method overwritten by 'grid':\n",
      "  method     from  \n",
      "  print.path RNeo4j\n"
     ]
    }
   ],
   "source": [
    "#---define the backgroup of plot\n",
    "library(ggplot2)\n",
    "backgroup <-   theme(axis.text.x = element_text(vjust = 0.5, hjust = 1, angle = 90 ),\n",
    "                     plot.title = element_text(face =\"bold\" ,hjust = 0.5),\n",
    "                     panel.grid.major = element_blank(), #删除网格线\n",
    "                     panel.grid.minor = element_blank(), #删除网格线\n",
    "                     panel.background=element_rect(fill='transparent',color =\"gray\"))"
   ]
  },
  {
   "cell_type": "markdown",
   "metadata": {},
   "source": [
    "We chose data in the top 10 of `size_of_allGeneTFLncRNA` to plot."
   ]
  },
  {
   "cell_type": "code",
   "execution_count": 23,
   "metadata": {
    "scrolled": true
   },
   "outputs": [
    {
     "name": "stderr",
     "output_type": "stream",
     "text": [
      "Your code contains a unicode char which cannot be displayed in your\n",
      "current locale and R will silently convert it to an escaped form when the\n",
      "R kernel executes this code. This can lead to subtle errors if you use\n",
      "such chars to do comparisons. For more information, please see\n",
      "https://github.com/IRkernel/repr/wiki/Problems-with-unicode-on-windows"
     ]
    },
    {
     "data": {
      "image/png": "[encoded data removed]",
      "text/plain": [
       "plot without title"
      ]
     },
     "metadata": {},
     "output_type": "display_data"
    }
   ],
   "source": [
    "mod2 <- mod2[order(-mod2[,'size_of_allGeneTFLncRNA']),]\n",
    "number_gene = mod2[,c('community','size_of_allGeneTFLncRNA')][1:10,]\n",
    "number_gene$type = rep('Gene/TF/LncRNA', nrow(number_gene))\n",
    "names(number_gene)[2] = 'count' \n",
    "\n",
    "number_chr12node = mod2[,c('community','size_of_allchr12Name')][1:10,]\n",
    "number_chr12node$type = rep('chr12Name', nrow(number_chr12node))\n",
    "names(number_chr12node)[2] = 'count'\n",
    "\n",
    "number_AllNode = mod2[,c('community','size_of_allnode')][1:10,]\n",
    "number_AllNode$type = rep('Allnode', nrow(number_AllNode))\n",
    "names(number_AllNode)[2] = 'count'\n",
    "\n",
    "number_gene_chr12node_AllNode = rbind(number_gene,number_chr12node,number_AllNode)\n",
    "\n",
    "library(ggplot2)\n",
    "ggplot(number_gene_chr12node_AllNode, aes(x = community, y = count,fill = type)) +\n",
    "  geom_bar(stat=\"identity\", position = 'dodge',width=0.8)+  ##identity意味着把y当做值去输入，如果改成bin，就会计算y出现的频数。dodge意味是各组是左右分布而不是上下重叠\n",
    "  labs(x=\"community(Modules)\",y = \"Number\")+\n",
    "  ggtitle(\"numbers of genes / chr12 node / all node in each community(module)\", ) + backgroup+\n",
    "  geom_text(aes(x = number_gene_chr12node_AllNode$community, \n",
    "                y = number_gene_chr12node_AllNode$count,\n",
    "                group = number_gene_chr12node_AllNode$type, \n",
    "                label=number_gene_chr12node_AllNode$count), position=position_dodge(0.8),hjust=0.5, size = 2, vjust = -0.5)"
   ]
  },
  {
   "cell_type": "markdown",
   "metadata": {},
   "source": [
    "<h1 id = \"7\">7  A histogram of  number of chr12 bins of all modules</h1>"
   ]
  },
  {
   "cell_type": "code",
   "execution_count": 24,
   "metadata": {
    "scrolled": false
   },
   "outputs": [
    {
     "name": "stderr",
     "output_type": "stream",
     "text": [
      "Your code contains a unicode char which cannot be displayed in your\n",
      "current locale and R will silently convert it to an escaped form when the\n",
      "R kernel executes this code. This can lead to subtle errors if you use\n",
      "such chars to do comparisons. For more information, please see\n",
      "https://github.com/IRkernel/repr/wiki/Problems-with-unicode-on-windows"
     ]
    },
    {
     "data": {
      "image/png": "[encoded data removed]",
      "text/plain": [
       "plot without title"
      ]
     },
     "metadata": {},
     "output_type": "display_data"
    }
   ],
   "source": [
    "number_chr12node = mod2[,c('community','size_of_allchr12Name')]\n",
    "\n",
    "library(ggplot2)\n",
    "ggplot(mod2, aes(x = community, y = size_of_allchr12Name)) +\n",
    "  geom_bar(stat=\"identity\",  fill = \"lightblue\",position = 'dodge',width=0.8)+  ##identity意味着把y当做值去输入，如果改成bin，就会计算y出现的频数。dodge意味是各组是左右分布而不是上下重叠\n",
    "  labs(x=\"community(Modules)\",y = \"Number\")+\n",
    "  ggtitle(\"A histogram of number of chr12 bins of all modules\", ) + backgroup+\n",
    "  geom_text(aes(x = mod2$community, \n",
    "                y = mod2$size_of_allchr12Name,\n",
    "                label=mod2$size_of_allchr12Name), position=position_dodge(0.8),hjust=0.5, size = 2, vjust = -0.5)"
   ]
  },
  {
   "cell_type": "markdown",
   "metadata": {},
   "source": [
    "<h1 id = \"8\">8 numbers of genes/all node in each community(module)</h1>"
   ]
  },
  {
   "cell_type": "code",
   "execution_count": 25,
   "metadata": {},
   "outputs": [
    {
     "name": "stderr",
     "output_type": "stream",
     "text": [
      "Your code contains a unicode char which cannot be displayed in your\n",
      "current locale and R will silently convert it to an escaped form when the\n",
      "R kernel executes this code. This can lead to subtle errors if you use\n",
      "such chars to do comparisons. For more information, please see\n",
      "https://github.com/IRkernel/repr/wiki/Problems-with-unicode-on-windows"
     ]
    },
    {
     "data": {
      "image/png": "[encoded data removed]",
      "text/plain": [
       "plot without title"
      ]
     },
     "metadata": {},
     "output_type": "display_data"
    }
   ],
   "source": [
    "mod2 <- mod2[order(-mod2[,'size_of_allGeneTFLncRNA']),]\n",
    "number_gene = mod2[,c('community','size_of_allGeneTFLncRNA')]\n",
    "number_gene$type = rep('Gene/TF/LncRNA', nrow(number_gene))\n",
    "names(number_gene)[2] = 'count' \n",
    "\n",
    "number_AllNode = mod2[,c('community','size_of_allnode')]\n",
    "number_AllNode$type = rep('Allnode', nrow(number_AllNode))\n",
    "names(number_AllNode)[2] = 'count'\n",
    "\n",
    "number_gene_chr12node_AllNode = rbind(number_gene,number_AllNode)\n",
    "\n",
    "library(ggplot2)\n",
    "ggplot(number_gene_chr12node_AllNode, aes(x = community, y = count,fill = type)) +\n",
    "  geom_bar(stat=\"identity\", position = 'dodge',width=0.5)+  ##identity意味着把y当做值去输入，如果改成bin，就会计算y出现的频数。dodge意味是各组是左右分布而不是上下重叠\n",
    "  labs(x=\"community(Modules)\",y = \"Number\")+\n",
    "  ggtitle(\"numbers of genes/all node in each community(module)\", ) + backgroup+\n",
    "  geom_text(aes(x = number_gene_chr12node_AllNode$community, \n",
    "                y = number_gene_chr12node_AllNode$count,\n",
    "                group = number_gene_chr12node_AllNode$type, \n",
    "                label=number_gene_chr12node_AllNode$count), position=position_dodge(0.5),hjust= -0.1, size = 2, vjust = 0)+\n",
    "  coord_flip()\n"
   ]
  },
  {
   "cell_type": "markdown",
   "metadata": {},
   "source": [
    "\n",
    "<h1 id = \"9\">9 Make gene_match_mod function to judge those mudules included target genes</h1>"
   ]
  },
  {
   "cell_type": "markdown",
   "metadata": {},
   "source": [
    "`gene_match_mod` function format is:\n",
    "\n",
    "`gene_match_mod(TargetNodes,mod,MustIn,OrIn1,OrIn2)`\n",
    "\n",
    ">**`TargetNodes`**: `TargetNodes` is a data frame of that results you used `geneMatchIndex` function.\n",
    ">\n",
    ">**`mod`**: just like `mod2` in this tutorial object. A data frame contains a column `AllnodeId` for list of all nodes ids in each modules, and `community` column for each modules names.\n",
    ">    \n",
    ">**`MustIn`**: A vector of all of gene names must be in module as you design.\n",
    ">\n",
    ">**`OrIn1`**: default as null, A vector of all of gene names may be in module as you design, at least one gene in module.\n",
    ">\n",
    ">**`OrIn2`**: default as null, same of `OrIn1`\n",
    "\n",
    "**Results:**\n",
    "\n",
    "Results is a list included `TargetNodes_mod`, `mod_targetGene`, `mod_want`.\n",
    "\n",
    ">`TargetNodes_mod`: a data frame contains columns of \"geneName\", \"NodeID\", \"NodeLabel\" and \"module\". In \"module\" column tells you which module this gene belong to. \n",
    ">\n",
    ">`mod_targetGene`: a data frame contains columns of \"module\", \"targetGene\" and \"NoTargetGene\"; \"targetGene\" columns tells you those genes are in this modules and \"NoTargetGene\" columns tells you those genes are not in this modules.\n",
    ">\n",
    "> `mod_want` : This is select from mod if there had modules you ask.\n"
   ]
  },
  {
   "cell_type": "code",
   "execution_count": 26,
   "metadata": {},
   "outputs": [
    {
     "name": "stderr",
     "output_type": "stream",
     "text": [
      "Your code contains a unicode char which cannot be displayed in your\n",
      "current locale and R will silently convert it to an escaped form when the\n",
      "R kernel executes this code. This can lead to subtle errors if you use\n",
      "such chars to do comparisons. For more information, please see\n",
      "https://github.com/IRkernel/repr/wiki/Problems-with-unicode-on-windows"
     ]
    }
   ],
   "source": [
    "gene_match_mod <- function(TargetNodes,mod,MustIn,OrIn1=NULL ,OrIn2=NULL){\n",
    "  TargetNodes_mod <- TargetNodes\n",
    "  \n",
    "  #找到基因所在的module\n",
    "  for (i in 1:length(TargetNodes$NodeID)){\n",
    "    for (j in 1:nrow(mod)){\n",
    "      if( TargetNodes$NodeID[i] %in% mod$AllnodeId[[j]]){ \n",
    "        TargetNodes_mod$module[i] = mod$community[j] \n",
    "        }\n",
    "    }\n",
    "  }\n",
    "\n",
    "  #结果在TargetNodes_mod这里面就会有一列module写明该基因在哪一个模块有\n",
    "  mod_targetGene <- aggregate(TargetNodes_mod$geneName, by = TargetNodes_mod['module'], FUN = paste0) #用来知道哪个module里面包含哪些想要的基因\n",
    "  names(mod_targetGene)[2] <- 'targetGene'\n",
    "  \n",
    "  module_of_having_targetGene = unique(TargetNodes_mod$module)\n",
    "  \n",
    "  mod_want_index = c() #用这个来保存那些符合要求的module名称\n",
    "  for (i in 1:length(module_of_having_targetGene)){\n",
    "      mg = TargetNodes_mod[which( TargetNodes_mod$module == module_of_having_targetGene[i]),]$geneName #这些就是他包含的基因\n",
    "      Nmg = setdiff(gene,mg)#哪些基因它没有的\n",
    "      mod_targetGene$NoTargetGene[i] = paste0(Nmg,collapse = ', ')\n",
    "      \n",
    "      #哪些属于一定要的基因却没有\n",
    "      Nmg_MustIn = setdiff(MustIn,mg) #Nmg_MustIn大于0，那就不要\n",
    "      case1 = length(Nmg_MustIn) > 0 #不要\n",
    "      #那些属于不一定要的基因 在module有(至少有一个在里面)\n",
    "      if (length(OrIn1) > 0){\n",
    "        mg_OrIn1 = intersect(OrIn1,mg) #如果mg_OrIn1大于0， 那就是有咯\n",
    "        case2 = length(mg_OrIn1) > 0 #要\n",
    "      }else{case2 = TRUE }\n",
    "      \n",
    "      if (length(OrIn2) > 0){\n",
    "        mg_OrIn2 = intersect(OrIn2,mg)#如果mg_OrIn2大于0， 那就是有咯\n",
    "        case3 = length(mg_OrIn2) > 0 #要\n",
    "      }else{case3 = TRUE }\n",
    "  \n",
    "      #如果符合情况的，就留下这个mod名称\n",
    "      if ( (!case1) & case2 &case3 ) { \n",
    "      mod_index1 = which(mod$community == module_of_having_targetGene[i])\n",
    "      mod_want_index <- c(mod_index1 ,mod_want_index)\n",
    "      }\n",
    "  }\n",
    "  \n",
    "  mod_want <- mod[mod_want_index, ] \n",
    "  \n",
    "  results <- list(TargetNodes_mod, mod_targetGene, mod_want)\n",
    "  names(results) <- c('TargetNodes_mod', 'mod_targetGene', 'mod_want')\n",
    "  \n",
    "  return(results)\n",
    "}"
   ]
  },
  {
   "cell_type": "markdown",
   "metadata": {},
   "source": [
    "<h1 id = \"10\">10 Select the modules that include NANOG AND CTCF AND EP300 AND POLR2A AND YY1 AND cohesin (RAD21, SMC3, OR STAG1) AND mediator (MED1 or MED12).</h1>"
   ]
  },
  {
   "cell_type": "code",
   "execution_count": 27,
   "metadata": {},
   "outputs": [
    {
     "name": "stderr",
     "output_type": "stream",
     "text": [
      "Your code contains a unicode char which cannot be displayed in your\n",
      "current locale and R will silently convert it to an escaped form when the\n",
      "R kernel executes this code. This can lead to subtle errors if you use\n",
      "such chars to do comparisons. For more information, please see\n",
      "https://github.com/IRkernel/repr/wiki/Problems-with-unicode-on-windows"
     ]
    }
   ],
   "source": [
    "\n",
    "gene <- c('NANOG', 'CTCF', 'EP300', 'POLR2A', 'YY1', 'RAD21', 'SMC3', 'STAG1', 'MED1', 'MED12')\n",
    "\n",
    "#Genes must is in modules\n",
    "MustIn = c(\"CTCF\", \"EP300\",\"POLR2A\",\"YY1\")\n",
    "#Genes may not in modules, but at least one gene in modules\n",
    "#不一定要有的基因，即可以有，也可以没有，至少有一个在\n",
    "OrIn1 = c(\"RAD21\",\"SMC3\",\"STAG1\")\n",
    "OrIn2 = c(\"MED1\",\"MED12\")"
   ]
  },
  {
   "cell_type": "code",
   "execution_count": 28,
   "metadata": {},
   "outputs": [
    {
     "data": {
      "text/html": [
       "<table>\n",
       "<caption>A data.frame: 10 × 4</caption>\n",
       "<thead>\n",
       "\t<tr><th></th><th scope=col>geneName</th><th scope=col>NodeID</th><th scope=col>NodeLabel</th><th scope=col>NodeNames</th></tr>\n",
       "\t<tr><th></th><th scope=col>&lt;chr&gt;</th><th scope=col>&lt;int&gt;</th><th scope=col>&lt;chr&gt;</th><th scope=col>&lt;chr&gt;</th></tr>\n",
       "</thead>\n",
       "<tbody>\n",
       "\t<tr><th scope=row>39711</th><td>NANOG </td><td> 9759</td><td>chr12</td><td>Bin39 </td></tr>\n",
       "\t<tr><th scope=row>40</th><td>CTCF  </td><td>15487</td><td>TF   </td><td>CTCF  </td></tr>\n",
       "\t<tr><th scope=row>58</th><td>EP300 </td><td>15505</td><td>TF   </td><td>EP300 </td></tr>\n",
       "\t<tr><th scope=row>155</th><td>POLR2A</td><td>15602</td><td>TF   </td><td>POLR2A</td></tr>\n",
       "\t<tr><th scope=row>240</th><td>YY1   </td><td>15687</td><td>TF   </td><td>YY1   </td></tr>\n",
       "\t<tr><th scope=row>167</th><td>RAD21 </td><td>15614</td><td>TF   </td><td>RAD21 </td></tr>\n",
       "\t<tr><th scope=row>194</th><td>SMC3  </td><td>15641</td><td>TF   </td><td>SMC3  </td></tr>\n",
       "\t<tr><th scope=row>205</th><td>STAG1 </td><td>15652</td><td>TF   </td><td>STAG1 </td></tr>\n",
       "\t<tr><th scope=row>125</th><td>MED1  </td><td>15572</td><td>TF   </td><td>MED1  </td></tr>\n",
       "\t<tr><th scope=row>126</th><td>MED12 </td><td>15573</td><td>TF   </td><td>MED12 </td></tr>\n",
       "</tbody>\n",
       "</table>\n"
      ],
      "text/latex": [
       "A data.frame: 10 × 4\n",
       "\\begin{tabular}{r|llll}\n",
       "  & geneName & NodeID & NodeLabel & NodeNames\\\\\n",
       "  & <chr> & <int> & <chr> & <chr>\\\\\n",
       "\\hline\n",
       "\t39711 & NANOG  &  9759 & chr12 & Bin39 \\\\\n",
       "\t40 & CTCF   & 15487 & TF    & CTCF  \\\\\n",
       "\t58 & EP300  & 15505 & TF    & EP300 \\\\\n",
       "\t155 & POLR2A & 15602 & TF    & POLR2A\\\\\n",
       "\t240 & YY1    & 15687 & TF    & YY1   \\\\\n",
       "\t167 & RAD21  & 15614 & TF    & RAD21 \\\\\n",
       "\t194 & SMC3   & 15641 & TF    & SMC3  \\\\\n",
       "\t205 & STAG1  & 15652 & TF    & STAG1 \\\\\n",
       "\t125 & MED1   & 15572 & TF    & MED1  \\\\\n",
       "\t126 & MED12  & 15573 & TF    & MED12 \\\\\n",
       "\\end{tabular}\n"
      ],
      "text/markdown": [
       "\n",
       "A data.frame: 10 × 4\n",
       "\n",
       "| <!--/--> | geneName &lt;chr&gt; | NodeID &lt;int&gt; | NodeLabel &lt;chr&gt; | NodeNames &lt;chr&gt; |\n",
       "|---|---|---|---|---|\n",
       "| 39711 | NANOG  |  9759 | chr12 | Bin39  |\n",
       "| 40 | CTCF   | 15487 | TF    | CTCF   |\n",
       "| 58 | EP300  | 15505 | TF    | EP300  |\n",
       "| 155 | POLR2A | 15602 | TF    | POLR2A |\n",
       "| 240 | YY1    | 15687 | TF    | YY1    |\n",
       "| 167 | RAD21  | 15614 | TF    | RAD21  |\n",
       "| 194 | SMC3   | 15641 | TF    | SMC3   |\n",
       "| 205 | STAG1  | 15652 | TF    | STAG1  |\n",
       "| 125 | MED1   | 15572 | TF    | MED1   |\n",
       "| 126 | MED12  | 15573 | TF    | MED12  |\n",
       "\n"
      ],
      "text/plain": [
       "      geneName NodeID NodeLabel NodeNames\n",
       "39711 NANOG     9759  chr12     Bin39    \n",
       "40    CTCF     15487  TF        CTCF     \n",
       "58    EP300    15505  TF        EP300    \n",
       "155   POLR2A   15602  TF        POLR2A   \n",
       "240   YY1      15687  TF        YY1      \n",
       "167   RAD21    15614  TF        RAD21    \n",
       "194   SMC3     15641  TF        SMC3     \n",
       "205   STAG1    15652  TF        STAG1    \n",
       "125   MED1     15572  TF        MED1     \n",
       "126   MED12    15573  TF        MED12    "
      ]
     },
     "metadata": {},
     "output_type": "display_data"
    }
   ],
   "source": [
    "geneIndex1 = geneMatchIndex('NANOG',AllgeneName)\n",
    "geneIndex2 = geneMatchIndex(gene[-1],TFName)\n",
    "TargetNodes <- rbind(geneIndex1$TargetNodes,geneIndex2$TargetNodes)\n",
    "TargetNodes "
   ]
  },
  {
   "cell_type": "code",
   "execution_count": 29,
   "metadata": {},
   "outputs": [],
   "source": [
    "Select1 <-  gene_match_mod(TargetNodes,mod2,MustIn,OrIn1,OrIn2)"
   ]
  },
  {
   "cell_type": "code",
   "execution_count": 31,
   "metadata": {},
   "outputs": [
    {
     "data": {
      "text/html": [
       "<ol class=list-inline>\n",
       "\t<li>0</li>\n",
       "\t<li>12</li>\n",
       "</ol>\n"
      ],
      "text/latex": [
       "\\begin{enumerate*}\n",
       "\\item 0\n",
       "\\item 12\n",
       "\\end{enumerate*}\n"
      ],
      "text/markdown": [
       "1. 0\n",
       "2. 12\n",
       "\n",
       "\n"
      ],
      "text/plain": [
       "[1]  0 12"
      ]
     },
     "metadata": {},
     "output_type": "display_data"
    }
   ],
   "source": [
    "dim(Select1$mod_want)"
   ]
  },
  {
   "cell_type": "markdown",
   "metadata": {},
   "source": [
    "**It means 0 modules as we want.**"
   ]
  },
  {
   "cell_type": "markdown",
   "metadata": {},
   "source": [
    "check which modules target gene in there."
   ]
  },
  {
   "cell_type": "code",
   "execution_count": 32,
   "metadata": {},
   "outputs": [
    {
     "data": {
      "text/html": [
       "<table>\n",
       "<caption>A data.frame: 10 × 5</caption>\n",
       "<thead>\n",
       "\t<tr><th></th><th scope=col>geneName</th><th scope=col>NodeID</th><th scope=col>NodeLabel</th><th scope=col>NodeNames</th><th scope=col>module</th></tr>\n",
       "\t<tr><th></th><th scope=col>&lt;chr&gt;</th><th scope=col>&lt;int&gt;</th><th scope=col>&lt;chr&gt;</th><th scope=col>&lt;chr&gt;</th><th scope=col>&lt;chr&gt;</th></tr>\n",
       "</thead>\n",
       "<tbody>\n",
       "\t<tr><th scope=row>39711</th><td>NANOG </td><td> 9759</td><td>chr12</td><td>Bin39 </td><td>module20</td></tr>\n",
       "\t<tr><th scope=row>40</th><td>CTCF  </td><td>15487</td><td>TF   </td><td>CTCF  </td><td>module4 </td></tr>\n",
       "\t<tr><th scope=row>58</th><td>EP300 </td><td>15505</td><td>TF   </td><td>EP300 </td><td>module20</td></tr>\n",
       "\t<tr><th scope=row>155</th><td>POLR2A</td><td>15602</td><td>TF   </td><td>POLR2A</td><td>module11</td></tr>\n",
       "\t<tr><th scope=row>240</th><td>YY1   </td><td>15687</td><td>TF   </td><td>YY1   </td><td>module27</td></tr>\n",
       "\t<tr><th scope=row>167</th><td>RAD21 </td><td>15614</td><td>TF   </td><td>RAD21 </td><td>module4 </td></tr>\n",
       "\t<tr><th scope=row>194</th><td>SMC3  </td><td>15641</td><td>TF   </td><td>SMC3  </td><td>module4 </td></tr>\n",
       "\t<tr><th scope=row>205</th><td>STAG1 </td><td>15652</td><td>TF   </td><td>STAG1 </td><td>module4 </td></tr>\n",
       "\t<tr><th scope=row>125</th><td>MED1  </td><td>15572</td><td>TF   </td><td>MED1  </td><td>module4 </td></tr>\n",
       "\t<tr><th scope=row>126</th><td>MED12 </td><td>15573</td><td>TF   </td><td>MED12 </td><td>module0 </td></tr>\n",
       "</tbody>\n",
       "</table>\n"
      ],
      "text/latex": [
       "A data.frame: 10 × 5\n",
       "\\begin{tabular}{r|lllll}\n",
       "  & geneName & NodeID & NodeLabel & NodeNames & module\\\\\n",
       "  & <chr> & <int> & <chr> & <chr> & <chr>\\\\\n",
       "\\hline\n",
       "\t39711 & NANOG  &  9759 & chr12 & Bin39  & module20\\\\\n",
       "\t40 & CTCF   & 15487 & TF    & CTCF   & module4 \\\\\n",
       "\t58 & EP300  & 15505 & TF    & EP300  & module20\\\\\n",
       "\t155 & POLR2A & 15602 & TF    & POLR2A & module11\\\\\n",
       "\t240 & YY1    & 15687 & TF    & YY1    & module27\\\\\n",
       "\t167 & RAD21  & 15614 & TF    & RAD21  & module4 \\\\\n",
       "\t194 & SMC3   & 15641 & TF    & SMC3   & module4 \\\\\n",
       "\t205 & STAG1  & 15652 & TF    & STAG1  & module4 \\\\\n",
       "\t125 & MED1   & 15572 & TF    & MED1   & module4 \\\\\n",
       "\t126 & MED12  & 15573 & TF    & MED12  & module0 \\\\\n",
       "\\end{tabular}\n"
      ],
      "text/markdown": [
       "\n",
       "A data.frame: 10 × 5\n",
       "\n",
       "| <!--/--> | geneName &lt;chr&gt; | NodeID &lt;int&gt; | NodeLabel &lt;chr&gt; | NodeNames &lt;chr&gt; | module &lt;chr&gt; |\n",
       "|---|---|---|---|---|---|\n",
       "| 39711 | NANOG  |  9759 | chr12 | Bin39  | module20 |\n",
       "| 40 | CTCF   | 15487 | TF    | CTCF   | module4  |\n",
       "| 58 | EP300  | 15505 | TF    | EP300  | module20 |\n",
       "| 155 | POLR2A | 15602 | TF    | POLR2A | module11 |\n",
       "| 240 | YY1    | 15687 | TF    | YY1    | module27 |\n",
       "| 167 | RAD21  | 15614 | TF    | RAD21  | module4  |\n",
       "| 194 | SMC3   | 15641 | TF    | SMC3   | module4  |\n",
       "| 205 | STAG1  | 15652 | TF    | STAG1  | module4  |\n",
       "| 125 | MED1   | 15572 | TF    | MED1   | module4  |\n",
       "| 126 | MED12  | 15573 | TF    | MED12  | module0  |\n",
       "\n"
      ],
      "text/plain": [
       "      geneName NodeID NodeLabel NodeNames module  \n",
       "39711 NANOG     9759  chr12     Bin39     module20\n",
       "40    CTCF     15487  TF        CTCF      module4 \n",
       "58    EP300    15505  TF        EP300     module20\n",
       "155   POLR2A   15602  TF        POLR2A    module11\n",
       "240   YY1      15687  TF        YY1       module27\n",
       "167   RAD21    15614  TF        RAD21     module4 \n",
       "194   SMC3     15641  TF        SMC3      module4 \n",
       "205   STAG1    15652  TF        STAG1     module4 \n",
       "125   MED1     15572  TF        MED1      module4 \n",
       "126   MED12    15573  TF        MED12     module0 "
      ]
     },
     "metadata": {},
     "output_type": "display_data"
    }
   ],
   "source": [
    "Select1$TargetNodes_mod"
   ]
  },
  {
   "cell_type": "markdown",
   "metadata": {},
   "source": [
    "check those target genes are in the module and not in the module. If didn't show you other modules at here, it means those modules not included target genes."
   ]
  },
  {
   "cell_type": "code",
   "execution_count": 33,
   "metadata": {},
   "outputs": [
    {
     "data": {
      "text/html": [
       "<table>\n",
       "<caption>A data.frame: 5 × 3</caption>\n",
       "<thead>\n",
       "\t<tr><th scope=col>module</th><th scope=col>targetGene</th><th scope=col>NoTargetGene</th></tr>\n",
       "\t<tr><th scope=col>&lt;chr&gt;</th><th scope=col>&lt;list&gt;</th><th scope=col>&lt;chr&gt;</th></tr>\n",
       "</thead>\n",
       "<tbody>\n",
       "\t<tr><td>module0 </td><td>MED12</td><td>CTCF, POLR2A, YY1, RAD21, SMC3, STAG1, MED1, MED12         </td></tr>\n",
       "\t<tr><td>module11</td><td>POLR2A</td><td>NANOG, EP300, POLR2A, YY1, MED12                           </td></tr>\n",
       "\t<tr><td>module20</td><td>NANOG, EP300</td><td>NANOG, CTCF, EP300, YY1, RAD21, SMC3, STAG1, MED1, MED12   </td></tr>\n",
       "\t<tr><td>module27</td><td>YY1</td><td>NANOG, CTCF, EP300, POLR2A, RAD21, SMC3, STAG1, MED1, MED12</td></tr>\n",
       "\t<tr><td>module4 </td><td>CTCF , RAD21, SMC3 , STAG1, MED1 </td><td>NANOG, CTCF, EP300, POLR2A, YY1, RAD21, SMC3, STAG1, MED1  </td></tr>\n",
       "</tbody>\n",
       "</table>\n"
      ],
      "text/latex": [
       "A data.frame: 5 × 3\n",
       "\\begin{tabular}{r|lll}\n",
       " module & targetGene & NoTargetGene\\\\\n",
       " <chr> & <list> & <chr>\\\\\n",
       "\\hline\n",
       "\t module0  & MED12 & CTCF, POLR2A, YY1, RAD21, SMC3, STAG1, MED1, MED12         \\\\\n",
       "\t module11 & POLR2A & NANOG, EP300, POLR2A, YY1, MED12                           \\\\\n",
       "\t module20 & NANOG, EP300 & NANOG, CTCF, EP300, YY1, RAD21, SMC3, STAG1, MED1, MED12   \\\\\n",
       "\t module27 & YY1 & NANOG, CTCF, EP300, POLR2A, RAD21, SMC3, STAG1, MED1, MED12\\\\\n",
       "\t module4  & CTCF , RAD21, SMC3 , STAG1, MED1  & NANOG, CTCF, EP300, POLR2A, YY1, RAD21, SMC3, STAG1, MED1  \\\\\n",
       "\\end{tabular}\n"
      ],
      "text/markdown": [
       "\n",
       "A data.frame: 5 × 3\n",
       "\n",
       "| module &lt;chr&gt; | targetGene &lt;list&gt; | NoTargetGene &lt;chr&gt; |\n",
       "|---|---|---|\n",
       "| module0  | MED12 | CTCF, POLR2A, YY1, RAD21, SMC3, STAG1, MED1, MED12          |\n",
       "| module11 | POLR2A | NANOG, EP300, POLR2A, YY1, MED12                            |\n",
       "| module20 | NANOG, EP300 | NANOG, CTCF, EP300, YY1, RAD21, SMC3, STAG1, MED1, MED12    |\n",
       "| module27 | YY1 | NANOG, CTCF, EP300, POLR2A, RAD21, SMC3, STAG1, MED1, MED12 |\n",
       "| module4  | CTCF , RAD21, SMC3 , STAG1, MED1  | NANOG, CTCF, EP300, POLR2A, YY1, RAD21, SMC3, STAG1, MED1   |\n",
       "\n"
      ],
      "text/plain": [
       "  module   targetGene                       \n",
       "1 module0  MED12                            \n",
       "2 module11 POLR2A                           \n",
       "3 module20 NANOG, EP300                     \n",
       "4 module27 YY1                              \n",
       "5 module4  CTCF , RAD21, SMC3 , STAG1, MED1 \n",
       "  NoTargetGene                                               \n",
       "1 CTCF, POLR2A, YY1, RAD21, SMC3, STAG1, MED1, MED12         \n",
       "2 NANOG, EP300, POLR2A, YY1, MED12                           \n",
       "3 NANOG, CTCF, EP300, YY1, RAD21, SMC3, STAG1, MED1, MED12   \n",
       "4 NANOG, CTCF, EP300, POLR2A, RAD21, SMC3, STAG1, MED1, MED12\n",
       "5 NANOG, CTCF, EP300, POLR2A, YY1, RAD21, SMC3, STAG1, MED1  "
      ]
     },
     "metadata": {},
     "output_type": "display_data"
    }
   ],
   "source": [
    "Select1$mod_targetGene"
   ]
  },
  {
   "cell_type": "markdown",
   "metadata": {},
   "source": [
    "<h1 id = \"11\">11 Select the modules that include CTCF AND EP300 AND POLR2A AND YY1 AND cohesin (RAD21, SMC3, OR STAG1) AND mediator (MED1 or MED12 </h1>"
   ]
  },
  {
   "cell_type": "code",
   "execution_count": 34,
   "metadata": {},
   "outputs": [],
   "source": [
    "gene2 <- c('CTCF', 'EP300', 'POLR2A', 'YY1', 'RAD21', 'SMC3', 'STAG1', 'MED1', 'MED12')\n",
    "#Genes must is in modules\n",
    "MustIn = c(\"CTCF\", \"EP300\",\"POLR2A\",\"YY1\")\n",
    "#Genes may not in modules, but at least one gene in modules\n",
    "OrIn1 = c(\"RAD21\",\"SMC3\",\"STAG1\")\n",
    "OrIn2 = c(\"MED1\",\"MED12\")"
   ]
  },
  {
   "cell_type": "code",
   "execution_count": 35,
   "metadata": {},
   "outputs": [
    {
     "data": {
      "text/html": [
       "<table>\n",
       "<caption>A data.frame: 9 × 4</caption>\n",
       "<thead>\n",
       "\t<tr><th></th><th scope=col>geneName</th><th scope=col>NodeID</th><th scope=col>NodeLabel</th><th scope=col>NodeNames</th></tr>\n",
       "\t<tr><th></th><th scope=col>&lt;chr&gt;</th><th scope=col>&lt;int&gt;</th><th scope=col>&lt;chr&gt;</th><th scope=col>&lt;chr&gt;</th></tr>\n",
       "</thead>\n",
       "<tbody>\n",
       "\t<tr><th scope=row>40</th><td>CTCF  </td><td>15487</td><td>TF</td><td>CTCF  </td></tr>\n",
       "\t<tr><th scope=row>58</th><td>EP300 </td><td>15505</td><td>TF</td><td>EP300 </td></tr>\n",
       "\t<tr><th scope=row>155</th><td>POLR2A</td><td>15602</td><td>TF</td><td>POLR2A</td></tr>\n",
       "\t<tr><th scope=row>240</th><td>YY1   </td><td>15687</td><td>TF</td><td>YY1   </td></tr>\n",
       "\t<tr><th scope=row>167</th><td>RAD21 </td><td>15614</td><td>TF</td><td>RAD21 </td></tr>\n",
       "\t<tr><th scope=row>194</th><td>SMC3  </td><td>15641</td><td>TF</td><td>SMC3  </td></tr>\n",
       "\t<tr><th scope=row>205</th><td>STAG1 </td><td>15652</td><td>TF</td><td>STAG1 </td></tr>\n",
       "\t<tr><th scope=row>125</th><td>MED1  </td><td>15572</td><td>TF</td><td>MED1  </td></tr>\n",
       "\t<tr><th scope=row>126</th><td>MED12 </td><td>15573</td><td>TF</td><td>MED12 </td></tr>\n",
       "</tbody>\n",
       "</table>\n"
      ],
      "text/latex": [
       "A data.frame: 9 × 4\n",
       "\\begin{tabular}{r|llll}\n",
       "  & geneName & NodeID & NodeLabel & NodeNames\\\\\n",
       "  & <chr> & <int> & <chr> & <chr>\\\\\n",
       "\\hline\n",
       "\t40 & CTCF   & 15487 & TF & CTCF  \\\\\n",
       "\t58 & EP300  & 15505 & TF & EP300 \\\\\n",
       "\t155 & POLR2A & 15602 & TF & POLR2A\\\\\n",
       "\t240 & YY1    & 15687 & TF & YY1   \\\\\n",
       "\t167 & RAD21  & 15614 & TF & RAD21 \\\\\n",
       "\t194 & SMC3   & 15641 & TF & SMC3  \\\\\n",
       "\t205 & STAG1  & 15652 & TF & STAG1 \\\\\n",
       "\t125 & MED1   & 15572 & TF & MED1  \\\\\n",
       "\t126 & MED12  & 15573 & TF & MED12 \\\\\n",
       "\\end{tabular}\n"
      ],
      "text/markdown": [
       "\n",
       "A data.frame: 9 × 4\n",
       "\n",
       "| <!--/--> | geneName &lt;chr&gt; | NodeID &lt;int&gt; | NodeLabel &lt;chr&gt; | NodeNames &lt;chr&gt; |\n",
       "|---|---|---|---|---|\n",
       "| 40 | CTCF   | 15487 | TF | CTCF   |\n",
       "| 58 | EP300  | 15505 | TF | EP300  |\n",
       "| 155 | POLR2A | 15602 | TF | POLR2A |\n",
       "| 240 | YY1    | 15687 | TF | YY1    |\n",
       "| 167 | RAD21  | 15614 | TF | RAD21  |\n",
       "| 194 | SMC3   | 15641 | TF | SMC3   |\n",
       "| 205 | STAG1  | 15652 | TF | STAG1  |\n",
       "| 125 | MED1   | 15572 | TF | MED1   |\n",
       "| 126 | MED12  | 15573 | TF | MED12  |\n",
       "\n"
      ],
      "text/plain": [
       "    geneName NodeID NodeLabel NodeNames\n",
       "40  CTCF     15487  TF        CTCF     \n",
       "58  EP300    15505  TF        EP300    \n",
       "155 POLR2A   15602  TF        POLR2A   \n",
       "240 YY1      15687  TF        YY1      \n",
       "167 RAD21    15614  TF        RAD21    \n",
       "194 SMC3     15641  TF        SMC3     \n",
       "205 STAG1    15652  TF        STAG1    \n",
       "125 MED1     15572  TF        MED1     \n",
       "126 MED12    15573  TF        MED12    "
      ]
     },
     "metadata": {},
     "output_type": "display_data"
    }
   ],
   "source": [
    "gene2Index = geneMatchIndex(gene[-1],TFName)\n",
    "TargetNodes2 <- gene2Index$TargetNodes\n",
    "TargetNodes2 "
   ]
  },
  {
   "cell_type": "code",
   "execution_count": 36,
   "metadata": {},
   "outputs": [],
   "source": [
    "Select2 <-  gene_match_mod(TargetNodes2,mod2,MustIn,OrIn1,OrIn2)"
   ]
  },
  {
   "cell_type": "code",
   "execution_count": 37,
   "metadata": {},
   "outputs": [
    {
     "data": {
      "text/html": [
       "<table>\n",
       "<caption>A data.frame: 9 × 5</caption>\n",
       "<thead>\n",
       "\t<tr><th></th><th scope=col>geneName</th><th scope=col>NodeID</th><th scope=col>NodeLabel</th><th scope=col>NodeNames</th><th scope=col>module</th></tr>\n",
       "\t<tr><th></th><th scope=col>&lt;chr&gt;</th><th scope=col>&lt;int&gt;</th><th scope=col>&lt;chr&gt;</th><th scope=col>&lt;chr&gt;</th><th scope=col>&lt;chr&gt;</th></tr>\n",
       "</thead>\n",
       "<tbody>\n",
       "\t<tr><th scope=row>40</th><td>CTCF  </td><td>15487</td><td>TF</td><td>CTCF  </td><td>module4 </td></tr>\n",
       "\t<tr><th scope=row>58</th><td>EP300 </td><td>15505</td><td>TF</td><td>EP300 </td><td>module20</td></tr>\n",
       "\t<tr><th scope=row>155</th><td>POLR2A</td><td>15602</td><td>TF</td><td>POLR2A</td><td>module11</td></tr>\n",
       "\t<tr><th scope=row>240</th><td>YY1   </td><td>15687</td><td>TF</td><td>YY1   </td><td>module27</td></tr>\n",
       "\t<tr><th scope=row>167</th><td>RAD21 </td><td>15614</td><td>TF</td><td>RAD21 </td><td>module4 </td></tr>\n",
       "\t<tr><th scope=row>194</th><td>SMC3  </td><td>15641</td><td>TF</td><td>SMC3  </td><td>module4 </td></tr>\n",
       "\t<tr><th scope=row>205</th><td>STAG1 </td><td>15652</td><td>TF</td><td>STAG1 </td><td>module4 </td></tr>\n",
       "\t<tr><th scope=row>125</th><td>MED1  </td><td>15572</td><td>TF</td><td>MED1  </td><td>module4 </td></tr>\n",
       "\t<tr><th scope=row>126</th><td>MED12 </td><td>15573</td><td>TF</td><td>MED12 </td><td>module0 </td></tr>\n",
       "</tbody>\n",
       "</table>\n"
      ],
      "text/latex": [
       "A data.frame: 9 × 5\n",
       "\\begin{tabular}{r|lllll}\n",
       "  & geneName & NodeID & NodeLabel & NodeNames & module\\\\\n",
       "  & <chr> & <int> & <chr> & <chr> & <chr>\\\\\n",
       "\\hline\n",
       "\t40 & CTCF   & 15487 & TF & CTCF   & module4 \\\\\n",
       "\t58 & EP300  & 15505 & TF & EP300  & module20\\\\\n",
       "\t155 & POLR2A & 15602 & TF & POLR2A & module11\\\\\n",
       "\t240 & YY1    & 15687 & TF & YY1    & module27\\\\\n",
       "\t167 & RAD21  & 15614 & TF & RAD21  & module4 \\\\\n",
       "\t194 & SMC3   & 15641 & TF & SMC3   & module4 \\\\\n",
       "\t205 & STAG1  & 15652 & TF & STAG1  & module4 \\\\\n",
       "\t125 & MED1   & 15572 & TF & MED1   & module4 \\\\\n",
       "\t126 & MED12  & 15573 & TF & MED12  & module0 \\\\\n",
       "\\end{tabular}\n"
      ],
      "text/markdown": [
       "\n",
       "A data.frame: 9 × 5\n",
       "\n",
       "| <!--/--> | geneName &lt;chr&gt; | NodeID &lt;int&gt; | NodeLabel &lt;chr&gt; | NodeNames &lt;chr&gt; | module &lt;chr&gt; |\n",
       "|---|---|---|---|---|---|\n",
       "| 40 | CTCF   | 15487 | TF | CTCF   | module4  |\n",
       "| 58 | EP300  | 15505 | TF | EP300  | module20 |\n",
       "| 155 | POLR2A | 15602 | TF | POLR2A | module11 |\n",
       "| 240 | YY1    | 15687 | TF | YY1    | module27 |\n",
       "| 167 | RAD21  | 15614 | TF | RAD21  | module4  |\n",
       "| 194 | SMC3   | 15641 | TF | SMC3   | module4  |\n",
       "| 205 | STAG1  | 15652 | TF | STAG1  | module4  |\n",
       "| 125 | MED1   | 15572 | TF | MED1   | module4  |\n",
       "| 126 | MED12  | 15573 | TF | MED12  | module0  |\n",
       "\n"
      ],
      "text/plain": [
       "    geneName NodeID NodeLabel NodeNames module  \n",
       "40  CTCF     15487  TF        CTCF      module4 \n",
       "58  EP300    15505  TF        EP300     module20\n",
       "155 POLR2A   15602  TF        POLR2A    module11\n",
       "240 YY1      15687  TF        YY1       module27\n",
       "167 RAD21    15614  TF        RAD21     module4 \n",
       "194 SMC3     15641  TF        SMC3      module4 \n",
       "205 STAG1    15652  TF        STAG1     module4 \n",
       "125 MED1     15572  TF        MED1      module4 \n",
       "126 MED12    15573  TF        MED12     module0 "
      ]
     },
     "metadata": {},
     "output_type": "display_data"
    }
   ],
   "source": [
    "Select2$TargetNodes_mod"
   ]
  },
  {
   "cell_type": "code",
   "execution_count": 38,
   "metadata": {},
   "outputs": [
    {
     "data": {
      "text/html": [
       "<table>\n",
       "<caption>A data.frame: 5 × 3</caption>\n",
       "<thead>\n",
       "\t<tr><th scope=col>module</th><th scope=col>targetGene</th><th scope=col>NoTargetGene</th></tr>\n",
       "\t<tr><th scope=col>&lt;chr&gt;</th><th scope=col>&lt;list&gt;</th><th scope=col>&lt;chr&gt;</th></tr>\n",
       "</thead>\n",
       "<tbody>\n",
       "\t<tr><td>module0 </td><td>MED12</td><td>NANOG, EP300, POLR2A, YY1, MED12                           </td></tr>\n",
       "\t<tr><td>module11</td><td>POLR2A</td><td>NANOG, CTCF, POLR2A, YY1, RAD21, SMC3, STAG1, MED1, MED12  </td></tr>\n",
       "\t<tr><td>module20</td><td>EP300</td><td>NANOG, CTCF, EP300, YY1, RAD21, SMC3, STAG1, MED1, MED12   </td></tr>\n",
       "\t<tr><td>module27</td><td>YY1</td><td>NANOG, CTCF, EP300, POLR2A, RAD21, SMC3, STAG1, MED1, MED12</td></tr>\n",
       "\t<tr><td>module4 </td><td>CTCF , RAD21, SMC3 , STAG1, MED1 </td><td>NANOG, CTCF, EP300, POLR2A, YY1, RAD21, SMC3, STAG1, MED1  </td></tr>\n",
       "</tbody>\n",
       "</table>\n"
      ],
      "text/latex": [
       "A data.frame: 5 × 3\n",
       "\\begin{tabular}{r|lll}\n",
       " module & targetGene & NoTargetGene\\\\\n",
       " <chr> & <list> & <chr>\\\\\n",
       "\\hline\n",
       "\t module0  & MED12 & NANOG, EP300, POLR2A, YY1, MED12                           \\\\\n",
       "\t module11 & POLR2A & NANOG, CTCF, POLR2A, YY1, RAD21, SMC3, STAG1, MED1, MED12  \\\\\n",
       "\t module20 & EP300 & NANOG, CTCF, EP300, YY1, RAD21, SMC3, STAG1, MED1, MED12   \\\\\n",
       "\t module27 & YY1 & NANOG, CTCF, EP300, POLR2A, RAD21, SMC3, STAG1, MED1, MED12\\\\\n",
       "\t module4  & CTCF , RAD21, SMC3 , STAG1, MED1  & NANOG, CTCF, EP300, POLR2A, YY1, RAD21, SMC3, STAG1, MED1  \\\\\n",
       "\\end{tabular}\n"
      ],
      "text/markdown": [
       "\n",
       "A data.frame: 5 × 3\n",
       "\n",
       "| module &lt;chr&gt; | targetGene &lt;list&gt; | NoTargetGene &lt;chr&gt; |\n",
       "|---|---|---|\n",
       "| module0  | MED12 | NANOG, EP300, POLR2A, YY1, MED12                            |\n",
       "| module11 | POLR2A | NANOG, CTCF, POLR2A, YY1, RAD21, SMC3, STAG1, MED1, MED12   |\n",
       "| module20 | EP300 | NANOG, CTCF, EP300, YY1, RAD21, SMC3, STAG1, MED1, MED12    |\n",
       "| module27 | YY1 | NANOG, CTCF, EP300, POLR2A, RAD21, SMC3, STAG1, MED1, MED12 |\n",
       "| module4  | CTCF , RAD21, SMC3 , STAG1, MED1  | NANOG, CTCF, EP300, POLR2A, YY1, RAD21, SMC3, STAG1, MED1   |\n",
       "\n"
      ],
      "text/plain": [
       "  module   targetGene                       \n",
       "1 module0  MED12                            \n",
       "2 module11 POLR2A                           \n",
       "3 module20 EP300                            \n",
       "4 module27 YY1                              \n",
       "5 module4  CTCF , RAD21, SMC3 , STAG1, MED1 \n",
       "  NoTargetGene                                               \n",
       "1 NANOG, EP300, POLR2A, YY1, MED12                           \n",
       "2 NANOG, CTCF, POLR2A, YY1, RAD21, SMC3, STAG1, MED1, MED12  \n",
       "3 NANOG, CTCF, EP300, YY1, RAD21, SMC3, STAG1, MED1, MED12   \n",
       "4 NANOG, CTCF, EP300, POLR2A, RAD21, SMC3, STAG1, MED1, MED12\n",
       "5 NANOG, CTCF, EP300, POLR2A, YY1, RAD21, SMC3, STAG1, MED1  "
      ]
     },
     "metadata": {},
     "output_type": "display_data"
    }
   ],
   "source": [
    "Select2$mod_targetGene"
   ]
  },
  {
   "cell_type": "code",
   "execution_count": 39,
   "metadata": {},
   "outputs": [
    {
     "data": {
      "text/html": [
       "<table>\n",
       "<caption>A data.frame: 0 × 12</caption>\n",
       "<thead>\n",
       "\t<tr><th scope=col>AllnodeId</th><th scope=col>community</th><th scope=col>AllNodeNames</th><th scope=col>size_of_allnode</th><th scope=col>allGeneTFLncRNA</th><th scope=col>size_of_allGeneTFLncRNA</th><th scope=col>allchr12Name</th><th scope=col>size_of_allchr12Name</th><th scope=col>allGeneAtchr12</th><th scope=col>size_of_allGeneAtchr12</th><th scope=col>AllTF</th><th scope=col>size_of_AllTF</th></tr>\n",
       "\t<tr><th scope=col>&lt;list&gt;</th><th scope=col>&lt;chr&gt;</th><th scope=col>&lt;list&gt;</th><th scope=col>&lt;int&gt;</th><th scope=col>&lt;list&gt;</th><th scope=col>&lt;int&gt;</th><th scope=col>&lt;list&gt;</th><th scope=col>&lt;int&gt;</th><th scope=col>&lt;list&gt;</th><th scope=col>&lt;int&gt;</th><th scope=col>&lt;list&gt;</th><th scope=col>&lt;int&gt;</th></tr>\n",
       "</thead>\n",
       "<tbody>\n",
       "</tbody>\n",
       "</table>\n"
      ],
      "text/latex": [
       "A data.frame: 0 × 12\n",
       "\\begin{tabular}{r|llllllllllll}\n",
       " AllnodeId & community & AllNodeNames & size\\_of\\_allnode & allGeneTFLncRNA & size\\_of\\_allGeneTFLncRNA & allchr12Name & size\\_of\\_allchr12Name & allGeneAtchr12 & size\\_of\\_allGeneAtchr12 & AllTF & size\\_of\\_AllTF\\\\\n",
       " <list> & <chr> & <list> & <int> & <list> & <int> & <list> & <int> & <list> & <int> & <list> & <int>\\\\\n",
       "\\hline\n",
       "\\end{tabular}\n"
      ],
      "text/markdown": [
       "\n",
       "A data.frame: 0 × 12\n",
       "\n",
       "| AllnodeId &lt;list&gt; | community &lt;chr&gt; | AllNodeNames &lt;list&gt; | size_of_allnode &lt;int&gt; | allGeneTFLncRNA &lt;list&gt; | size_of_allGeneTFLncRNA &lt;int&gt; | allchr12Name &lt;list&gt; | size_of_allchr12Name &lt;int&gt; | allGeneAtchr12 &lt;list&gt; | size_of_allGeneAtchr12 &lt;int&gt; | AllTF &lt;list&gt; | size_of_AllTF &lt;int&gt; |\n",
       "|---|---|---|---|---|---|---|---|---|---|---|---|\n",
       "\n"
      ],
      "text/plain": [
       "     AllnodeId community AllNodeNames size_of_allnode allGeneTFLncRNA\n",
       "     size_of_allGeneTFLncRNA allchr12Name size_of_allchr12Name allGeneAtchr12\n",
       "     size_of_allGeneAtchr12 AllTF size_of_AllTF"
      ]
     },
     "metadata": {},
     "output_type": "display_data"
    }
   ],
   "source": [
    "Select2$mod_want"
   ]
  },
  {
   "cell_type": "markdown",
   "metadata": {},
   "source": [
    "##### In this part, we still didn't get a modules as we want."
   ]
  },
  {
   "cell_type": "markdown",
   "metadata": {},
   "source": [
    "<h1 id = \"12\">12 build a function to get relationships during nodes in each community(module) </h1>"
   ]
  },
  {
   "cell_type": "markdown",
   "metadata": {},
   "source": [
    "We build a function to get relationships during nodes in each community(module). This function format is:\n",
    "\n",
    "`Module_Relationship(Module)`\n",
    "\n",
    ">**`Module`**: A data frame of contains the first column included list of all nodes ids in each modules and has a column names \"community\" as modules names.\n",
    "\n",
    "**Results** \n",
    "\n",
    ">Results is a list includes relationships data frames of during nodes in all modules.\n",
    ">\n",
    ">Each relationships data frame contains two nodes' id, labels, properties and relationship id, type, and properties."
   ]
  },
  {
   "cell_type": "code",
   "execution_count": 40,
   "metadata": {},
   "outputs": [
    {
     "name": "stderr",
     "output_type": "stream",
     "text": [
      "Your code contains a unicode char which cannot be displayed in your\n",
      "current locale and R will silently convert it to an escaped form when the\n",
      "R kernel executes this code. This can lead to subtle errors if you use\n",
      "such chars to do comparisons. For more information, please see\n",
      "https://github.com/IRkernel/repr/wiki/Problems-with-unicode-on-windows"
     ]
    }
   ],
   "source": [
    "#----------------建一个函数来获取每一个模块节点之间的关系--------------------------------------\n",
    "#\n",
    "#The argument is result we get  from step2\n",
    "#module就是我们前面获取的结果\n",
    "Module_Relationship = function(Module){\n",
    "  \n",
    "    #Module_Relationship as an object for save our results\n",
    "    #Module_Relationship作为list来存储数据\n",
    "  Module_Relationship = list()\n",
    "    \n",
    "    #To get relationships during nodes in the same modules\n",
    "    #获取节点之间的关系，返回的结果尽量不要去改变。\n",
    "    #The results include nodes' id ,label and properties, and relationships' type, id and properties.\n",
    "    #返回的结果包括节点的id号，label，还有就是节点的属性；以及关系的id号和关系的类型、关系的属性\n",
    "  for( i in 1:nrow(Module) ){\n",
    "      #for the vector about all nodes id in the same modules\n",
    "    Module_NodeID = unlist(Module[[1]][[i]])\n",
    "    query = \"\n",
    "            // the first we should get all node in the same modules, result is a list\n",
    "            MATCH (n)\n",
    "            where id(n) in {Module_NodeID}\n",
    "            with collect( id(n) ) AS Module_Node_ID\n",
    "        \n",
    "        // get relationships \n",
    "        MATCH (A)-[r]->(B)\n",
    "        where id(A) in Module_Node_ID and id(B) in Module_Node_ID\n",
    "        \n",
    "        //at here, properties() function for all properties at an node or a relationship    \n",
    "        RETURN id(A) AS fromNodeID, \n",
    "              labels(A) AS fromNodeLabel, \n",
    "              \n",
    "              id(B) AS toNodeID,\n",
    "              labels(B) AS toNodeLabel,\n",
    "              \n",
    "              id(r) AS Relationship_ID,\n",
    "              type(r) AS Relationship,\n",
    "          \n",
    "              properties(A) AS AProperties,\n",
    "              properties(B) AS BProperties,\n",
    "              properties(r) AS RProperties\n",
    "        \"\n",
    "     #run the query for results   \n",
    "    #Module_Relationship[[i]]= cypher(graph, query, Module_NodeID = Module_NodeID )\n",
    "    ABRelationship= cypher(graph, query, Module_NodeID = Module_NodeID )\n",
    "    \n",
    "    #Now, we split all properties of nodes using unnest_nodes() function in {neo4r}\n",
    "      #这里解析属性使用的neo4r的unnest_nodes()来拆分\n",
    "    #解析节点A的属性\n",
    "    Ap = ABRelationship[\"AProperties\"]\n",
    "    names(Ap)[1] = \"properties\"\n",
    "    App =  neo4r::unnest_nodes(Ap, what = \"properties\")\n",
    "    names(App) = paste0(\"fromNode_\", names(App) )\n",
    "    \n",
    "    #解析节点B的属性\n",
    "    Bp = ABRelationship[\"BProperties\"]\n",
    "    names(Bp)[1] = \"properties\"\n",
    "    Bpp =  neo4r::unnest_nodes(Bp, what = \"properties\")\n",
    "    names(Bpp) = paste0(\"toNode_\", names(Bpp) )\n",
    "    \n",
    "    \n",
    "    #split properties of relationships,we need make the same formats. If not, there show some wrong and we can not fixed.\n",
    "    #解析关系的属性\n",
    "    #这里需要说明的是数据框的列名称和列的位置不能发生变化，否则容易出错，在解析完关系后我们将它的列名还原过来\n",
    "    Rp = ABRelationship[,c(\"Relationship_ID\",\"Relationship\",\"fromNodeID\",\"toNodeID\",\"RProperties\")]\n",
    "    names(Rp) = c(\"id\", \"type\", \"stratNode\", \"endNode\", \"properties\")\n",
    "    Rpp =  neo4r::unnest_relationships(Rp)\n",
    "    names(Rpp)[1:4] = c(\"Relationship_ID\",\"Relationship\",\"fromNodeID\",\"toNodeID\")\n",
    "    names(Rpp)[c(-(1:4))] = paste0(\"R_\", names(Rpp)[c(-(1:4))] )\n",
    "    \n",
    "    #union all data\n",
    "    #最后，合并每一列\n",
    "    alldataRelationship = cbind(Rpp,App,Bpp, ABRelationship[,c(\"fromNodeLabel\",\"toNodeLabel\")])\n",
    "    ColNames = c(\"fromNodeID\",\"fromNodeLabel\",\"toNodeID\",\"toNodeLabel\",\"Relationship_ID\",\"Relationship\",\n",
    "                 names(App),\n",
    "                 names(Bpp),\n",
    "                 names(Rpp)[c(-(1:4))])\n",
    "    Module_Relationship[[i]] = alldataRelationship[,ColNames]\n",
    "  }\n",
    "  \n",
    "  names(Module_Relationship) = Module$community\n",
    "  \n",
    "  return(Module_Relationship)\n",
    "}\n"
   ]
  },
  {
   "cell_type": "markdown",
   "metadata": {},
   "source": [
    "# <h1 id = \"13\">13 Example: get relationship of `mod2`.</h1>"
   ]
  },
  {
   "cell_type": "code",
   "execution_count": 41,
   "metadata": {},
   "outputs": [
    {
     "name": "stderr",
     "output_type": "stream",
     "text": [
      "Warning message:\n",
      "\"The `.drop` argument of `unnest()` is deprecated as of tidyr 1.0.0.\n",
      "All list-columns are now preserved.\n",
      "\u001b[90mThis warning is displayed once per session.\u001b[39m\n",
      "\u001b[90mCall `lifecycle::last_warnings()` to see where this warning was generated.\u001b[39m\""
     ]
    }
   ],
   "source": [
    "mod2_Relationships =Module_Relationship(mod2)"
   ]
  },
  {
   "cell_type": "markdown",
   "metadata": {},
   "source": [
    "let's check one relationships data frame."
   ]
  },
  {
   "cell_type": "code",
   "execution_count": 42,
   "metadata": {},
   "outputs": [
    {
     "data": {
      "text/html": [
       "<table>\n",
       "<caption>A data.frame: 6 × 26</caption>\n",
       "<thead>\n",
       "\t<tr><th scope=col>fromNodeID</th><th scope=col>fromNodeLabel</th><th scope=col>toNodeID</th><th scope=col>toNodeLabel</th><th scope=col>Relationship_ID</th><th scope=col>Relationship</th><th scope=col>fromNode_community</th><th scope=col>fromNode_Name</th><th scope=col>fromNode_Details</th><th scope=col>fromNode_Start</th><th scope=col>...</th><th scope=col>R_GEO</th><th scope=col>R_CellType</th><th scope=col>R_Start</th><th scope=col>R_SourceDB</th><th scope=col>R_OtherGEO</th><th scope=col>R_End</th><th scope=col>R_Information</th><th scope=col>R_value</th><th scope=col>R_PubMedID</th><th scope=col>R_Method</th></tr>\n",
       "\t<tr><th scope=col>&lt;int&gt;</th><th scope=col>&lt;chr&gt;</th><th scope=col>&lt;int&gt;</th><th scope=col>&lt;chr&gt;</th><th scope=col>&lt;int&gt;</th><th scope=col>&lt;chr&gt;</th><th scope=col>&lt;int&gt;</th><th scope=col>&lt;chr&gt;</th><th scope=col>&lt;chr&gt;</th><th scope=col>&lt;chr&gt;</th><th scope=col>...</th><th scope=col>&lt;chr&gt;</th><th scope=col>&lt;chr&gt;</th><th scope=col>&lt;chr&gt;</th><th scope=col>&lt;chr&gt;</th><th scope=col>&lt;chr&gt;</th><th scope=col>&lt;chr&gt;</th><th scope=col>&lt;chr&gt;</th><th scope=col>&lt;lgl&gt;</th><th scope=col>&lt;chr&gt;</th><th scope=col>&lt;chr&gt;</th></tr>\n",
       "</thead>\n",
       "<tbody>\n",
       "\t<tr><td>15694</td><td>TF</td><td>10376</td><td>chr12</td><td>2184310</td><td>Bind</td><td>4</td><td>ZNF217</td><td>NA</td><td>NA</td><td>...</td><td>GSM935563</td><td>MCF7</td><td>131028343</td><td>CistromeDB</td><td>131040887;131041033;GSM935563                                                                                                                                                      </td><td>131028601</td><td>NA</td><td>NA</td><td>NA</td><td>NA</td></tr>\n",
       "\t<tr><td>15694</td><td>TF</td><td>10372</td><td>chr12</td><td>2184308</td><td>Bind</td><td>4</td><td>ZNF217</td><td>NA</td><td>NA</td><td>...</td><td>GSM935563</td><td>MCF7</td><td>130340069</td><td>CistromeDB</td><td>                                                                                                                                                                                   </td><td>130340317</td><td>NA</td><td>NA</td><td>NA</td><td>NA</td></tr>\n",
       "\t<tr><td>15694</td><td>TF</td><td>10371</td><td>chr12</td><td>2184307</td><td>Bind</td><td>4</td><td>ZNF217</td><td>NA</td><td>NA</td><td>...</td><td>GSM935563</td><td>MCF7</td><td>130046132</td><td>CistromeDB</td><td>130097952;130098347;GSM935563|130133155;130133301;GSM935563|130137156;130137429;GSM935563|130142952;130143177;GSM935563|130152947;130153093;GSM935563|130179131;130179539;GSM935563</td><td>130046308</td><td>NA</td><td>NA</td><td>NA</td><td>NA</td></tr>\n",
       "\t<tr><td>15694</td><td>TF</td><td>10366</td><td>chr12</td><td>2184306</td><td>Bind</td><td>4</td><td>ZNF217</td><td>NA</td><td>NA</td><td>...</td><td>GSM935563</td><td>MCF7</td><td>129075682</td><td>CistromeDB</td><td>                                                                                                                                                                                   </td><td>129076064</td><td>NA</td><td>NA</td><td>NA</td><td>NA</td></tr>\n",
       "\t<tr><td>15694</td><td>TF</td><td>10363</td><td>chr12</td><td>2184304</td><td>Bind</td><td>4</td><td>ZNF217</td><td>NA</td><td>NA</td><td>...</td><td>GSM935563</td><td>MCF7</td><td>128449412</td><td>CistromeDB</td><td>                                                                                                                                                                                   </td><td>128449835</td><td>NA</td><td>NA</td><td>NA</td><td>NA</td></tr>\n",
       "\t<tr><td>15694</td><td>TF</td><td>10342</td><td>chr12</td><td>2184299</td><td>Bind</td><td>4</td><td>ZNF217</td><td>NA</td><td>NA</td><td>...</td><td>GSM935563</td><td>MCF7</td><td>124359704</td><td>CistromeDB</td><td>124360374;124360572;GSM935563|124393007;124393381;GSM935563                                                                                                                        </td><td>124359898</td><td>NA</td><td>NA</td><td>NA</td><td>NA</td></tr>\n",
       "</tbody>\n",
       "</table>\n"
      ],
      "text/latex": [
       "A data.frame: 6 × 26\n",
       "\\begin{tabular}{r|llllllllllllllllllllllllll}\n",
       " fromNodeID & fromNodeLabel & toNodeID & toNodeLabel & Relationship\\_ID & Relationship & fromNode\\_community & fromNode\\_Name & fromNode\\_Details & fromNode\\_Start & fromNode\\_End & toNode\\_Details & toNode\\_Start & toNode\\_End & toNode\\_community & toNode\\_Name & R\\_GEO & R\\_CellType & R\\_Start & R\\_SourceDB & R\\_OtherGEO & R\\_End & R\\_Information & R\\_value & R\\_PubMedID & R\\_Method\\\\\n",
       " <int> & <chr> & <int> & <chr> & <int> & <chr> & <int> & <chr> & <chr> & <chr> & <chr> & <chr> & <chr> & <chr> & <int> & <chr> & <chr> & <chr> & <chr> & <chr> & <chr> & <chr> & <chr> & <lgl> & <chr> & <chr>\\\\\n",
       "\\hline\n",
       "\t 15694 & TF & 10376 & chr12 & 2184310 & Bind & 4 & ZNF217 & NA & NA & NA & 130953907;131141469;gene\\_id ENSG00000111452.12; gene\\_type protein\\_coding; gene\\_name ADGRD1; level 1; tag overlapping\\_locus; havana\\_gene OTTHUMG00000168339.4;\\textbar{}131022769;131024741;gene\\_id ENSG00000279128.1; gene\\_type TEC; gene\\_name RP11-76C10.4; level 2; havana\\_gene OTTHUMG00000168347.1;\\textbar{}131025561;131028060;gene\\_id ENSG00000279993.1; gene\\_type TEC; gene\\_name RP11-76C10.3; level 2; havana\\_gene OTTHUMG00000168348.1;\\textbar{}131030570;131035487;gene\\_id ENSG00000256810.1; gene\\_type lincRNA; gene\\_name RP11-76C10.2; level 2; havana\\_gene OTTHUMG00000168349.1;\\textbar{}131165011;131212931;gene\\_id ENSG00000204603.6; gene\\_type lincRNA; gene\\_name RP11-638F5.1; level 2; havana\\_gene OTTHUMG00000168350.1;                                                                                                                                                                                                                                                                                                                                                                                                                                                                                                                                                                                           & 131000001 & 131200000 & 5 & Bin656 & GSM935563 & MCF7 & 131028343 & CistromeDB & 131040887;131041033;GSM935563                                                                                                                                                       & 131028601 & NA & NA & NA & NA\\\\\n",
       "\t 15694 & TF & 10372 & chr12 & 2184308 & Bind & 4 & ZNF217 & NA & NA & NA & 130216807;130217157;gene\\_id ENSG00000242963.1; gene\\_type processed\\_pseudogene; gene\\_name RP11-143E21.1; level 1; tag pseudo\\_consens; havana\\_gene OTTHUMG00000157836.1;\\textbar{}130249679;130266725;gene\\_id ENSG00000259862.1; gene\\_type lincRNA; gene\\_name RP11-143E21.6; level 2; havana\\_gene OTTHUMG00000168381.2;\\textbar{}130337887;130372637;gene\\_id ENSG00000125207.7; gene\\_type protein\\_coding; gene\\_name PIWIL1; level 1; havana\\_gene OTTHUMG00000168382.3;\\textbar{}130350996;130351707;gene\\_id ENSG00000279343.1; gene\\_type TEC; gene\\_name RP11-200K12.3; level 2; havana\\_gene OTTHUMG00000168383.1;\\textbar{}130383364;130383890;gene\\_id ENSG00000279478.1; gene\\_type TEC; gene\\_name RP11-200K12.2; level 2; havana\\_gene OTTHUMG00000168384.1;\\textbar{}130396137;130716281;gene\\_id ENSG00000060709.15; gene\\_type protein\\_coding; gene\\_name RIMBP2; level 1; havana\\_gene OTTHUMG00000168385.3;                                                                                                                                                                                                                                                                                                                                                                                                                                       & 130200001 & 130400000 & 4 & Bin652 & GSM935563 & MCF7 & 130340069 & CistromeDB &                                                                                                                                                                                     & 130340317 & NA & NA & NA & NA\\\\\n",
       "\t 15694 & TF & 10371 & chr12 & 2184307 & Bind & 4 & ZNF217 & NA & NA & NA & 130024493;130044956;gene\\_id ENSG00000261650.1; gene\\_type lincRNA; gene\\_name RP11-474D1.4; level 2; tag overlapping\\_locus; havana\\_gene OTTHUMG00000168372.2;\\textbar{}130033454;130045057;gene\\_id ENSG00000214039.8; gene\\_type lincRNA; gene\\_name RP11-474D1.3; level 2; tag overlapping\\_locus; havana\\_gene OTTHUMG00000168373.2;\\textbar{}130047132;130048376;gene\\_id ENSG00000256298.1; gene\\_type lincRNA; gene\\_name RP11-474D1.1; level 2; havana\\_gene OTTHUMG00000168374.1;\\textbar{}130070325;130072685;gene\\_id ENSG00000256906.1; gene\\_type lincRNA; gene\\_name RP11-474D1.2; level 2; havana\\_gene OTTHUMG00000168375.1;\\textbar{}130121925;130122974;gene\\_id ENSG00000279193.1; gene\\_type TEC; gene\\_name RP11-143E21.2; level 2; havana\\_gene OTTHUMG00000168376.1;\\textbar{}130138693;130140768;gene\\_id ENSG00000276122.1; gene\\_type lincRNA; gene\\_name RP11-143E21.3; level 2; havana\\_gene OTTHUMG00000168377.1;\\textbar{}130144315;130162256;gene\\_id ENSG00000250208.6; gene\\_type processed\\_transcript; gene\\_name RP11-143E21.7; level 2; havana\\_gene OTTHUMG00000168379.2;\\textbar{}130144954;130145691;gene\\_id ENSG00000280405.1; gene\\_type TEC; gene\\_name RP11-143E21.4; level 2; havana\\_gene OTTHUMG00000168378.1;\\textbar{}130162459;130165740;gene\\_id ENSG00000111432.4; gene\\_type protein\\_coding; gene\\_name FZD10; level 2; havana\\_gene OTTHUMG00000168380.1; & 130000001 & 130200000 & 4 & Bin651 & GSM935563 & MCF7 & 130046132 & CistromeDB & 130097952;130098347;GSM935563\\textbar{}130133155;130133301;GSM935563\\textbar{}130137156;130137429;GSM935563\\textbar{}130142952;130143177;GSM935563\\textbar{}130152947;130153093;GSM935563\\textbar{}130179131;130179539;GSM935563 & 130046308 & NA & NA & NA & NA\\\\\n",
       "\t 15694 & TF & 10366 & chr12 & 2184306 & Bind & 4 & ZNF217 & NA & NA & NA & 129013336;129016663;gene\\_id ENSG00000256581.1; gene\\_type unprocessed\\_pseudogene; gene\\_name NLRP9P; level 1; tag pseudo\\_consens; havana\\_gene OTTHUMG00000168439.1;\\textbar{}129071725;129903666;gene\\_id ENSG00000151952.15; gene\\_type protein\\_coding; gene\\_name TMEM132D; level 2; tag ncRNA\\_host; tag overlapping\\_locus; havana\\_gene OTTHUMG00000168400.1;\\textbar{}129109629;129113294;gene\\_id ENSG00000249196.6; gene\\_type antisense; gene\\_name RP11-669N7.2; level 2; havana\\_gene OTTHUMG00000168401.1;\\textbar{}129170092;129170238;gene\\_id ENSG00000277217.1; gene\\_type misc\\_RNA; gene\\_name RF02271; level 3;                                                                                                                                                                                                                                                                                                                                                                                                                                                                                                                                                                                                                                                                                                             & 129000001 & 129200000 & 4 & Bin646 & GSM935563 & MCF7 & 129075682 & CistromeDB &                                                                                                                                                                                     & 129076064 & NA & NA & NA & NA\\\\\n",
       "\t 15694 & TF & 10363 & chr12 & 2184304 & Bind & 4 & ZNF217 & NA & NA & NA & 128267403;128707915;gene\\_id ENSG00000181234.9; gene\\_type protein\\_coding; gene\\_name TMEM132C; level 2; tag ncRNA\\_host; tag overlapping\\_locus; havana\\_gene OTTHUMG00000163736.4;\\textbar{}128399978;128404814;gene\\_id ENSG00000257025.1; gene\\_type sense\\_intronic; gene\\_name RP11-553N19.1; level 2; tag overlapping\\_locus; havana\\_gene OTTHUMG00000168414.1;\\textbar{}128437778;128439206;gene\\_id ENSG00000256630.1; gene\\_type unprocessed\\_pseudogene; gene\\_name RP11-428I12.1; level 1; tag pseudo\\_consens; havana\\_gene OTTHUMG00000168436.1;                                                                                                                                                                                                                                                                                                                                                                                                                                                                                                                                                                                                                                                                                                                                                                         & 128400001 & 128600000 & 4 & Bin643 & GSM935563 & MCF7 & 128449412 & CistromeDB &                                                                                                                                                                                     & 128449835 & NA & NA & NA & NA\\\\\n",
       "\t 15694 & TF & 10342 & chr12 & 2184299 & Bind & 4 & ZNF217 & NA & NA & NA & 123973241;124316024;gene\\_id ENSG00000178882.14; gene\\_type protein\\_coding; gene\\_name FAM101A; level 2; tag overlapping\\_locus; havana\\_gene OTTHUMG00000168609.5;\\textbar{}124206228;124209018;gene\\_id ENSG00000256596.1; gene\\_type lincRNA; gene\\_name RP11-522N14.2; level 2; tag overlapping\\_locus; havana\\_gene OTTHUMG00000168607.1;\\textbar{}124324415;124567589;gene\\_id ENSG00000196498.13; gene\\_type protein\\_coding; gene\\_name NCOR2; level 1; tag ncRNA\\_host; tag overlapping\\_locus; havana\\_gene OTTHUMG00000150455.3;\\textbar{}124337181;124337242;gene\\_id ENSG00000275967.1; gene\\_type miRNA; gene\\_name MIR6880; level 3;\\textbar{}124383381;124383510;gene\\_id ENSG00000255965.1; gene\\_type processed\\_pseudogene; gene\\_name RP11-408I18.9; level 2; havana\\_gene OTTHUMG00000168614.1;                                                                                                                                                                                                                                                                                                                                                                                                                                                                                                                                             & 124200001 & 124400000 & 4 & Bin622 & GSM935563 & MCF7 & 124359704 & CistromeDB & 124360374;124360572;GSM935563\\textbar{}124393007;124393381;GSM935563                                                                                                                         & 124359898 & NA & NA & NA & NA\\\\\n",
       "\\end{tabular}\n"
      ],
      "text/markdown": [
       "\n",
       "A data.frame: 6 × 26\n",
       "\n",
       "| fromNodeID &lt;int&gt; | fromNodeLabel &lt;chr&gt; | toNodeID &lt;int&gt; | toNodeLabel &lt;chr&gt; | Relationship_ID &lt;int&gt; | Relationship &lt;chr&gt; | fromNode_community &lt;int&gt; | fromNode_Name &lt;chr&gt; | fromNode_Details &lt;chr&gt; | fromNode_Start &lt;chr&gt; | ... ... | R_GEO &lt;chr&gt; | R_CellType &lt;chr&gt; | R_Start &lt;chr&gt; | R_SourceDB &lt;chr&gt; | R_OtherGEO &lt;chr&gt; | R_End &lt;chr&gt; | R_Information &lt;chr&gt; | R_value &lt;lgl&gt; | R_PubMedID &lt;chr&gt; | R_Method &lt;chr&gt; |\n",
       "|---|---|---|---|---|---|---|---|---|---|---|---|---|---|---|---|---|---|---|---|---|\n",
       "| 15694 | TF | 10376 | chr12 | 2184310 | Bind | 4 | ZNF217 | NA | NA | ... | GSM935563 | MCF7 | 131028343 | CistromeDB | 131040887;131041033;GSM935563                                                                                                                                                       | 131028601 | NA | NA | NA | NA |\n",
       "| 15694 | TF | 10372 | chr12 | 2184308 | Bind | 4 | ZNF217 | NA | NA | ... | GSM935563 | MCF7 | 130340069 | CistromeDB | <!----> | 130340317 | NA | NA | NA | NA |\n",
       "| 15694 | TF | 10371 | chr12 | 2184307 | Bind | 4 | ZNF217 | NA | NA | ... | GSM935563 | MCF7 | 130046132 | CistromeDB | 130097952;130098347;GSM935563|130133155;130133301;GSM935563|130137156;130137429;GSM935563|130142952;130143177;GSM935563|130152947;130153093;GSM935563|130179131;130179539;GSM935563 | 130046308 | NA | NA | NA | NA |\n",
       "| 15694 | TF | 10366 | chr12 | 2184306 | Bind | 4 | ZNF217 | NA | NA | ... | GSM935563 | MCF7 | 129075682 | CistromeDB | <!----> | 129076064 | NA | NA | NA | NA |\n",
       "| 15694 | TF | 10363 | chr12 | 2184304 | Bind | 4 | ZNF217 | NA | NA | ... | GSM935563 | MCF7 | 128449412 | CistromeDB | <!----> | 128449835 | NA | NA | NA | NA |\n",
       "| 15694 | TF | 10342 | chr12 | 2184299 | Bind | 4 | ZNF217 | NA | NA | ... | GSM935563 | MCF7 | 124359704 | CistromeDB | 124360374;124360572;GSM935563|124393007;124393381;GSM935563                                                                                                                         | 124359898 | NA | NA | NA | NA |\n",
       "\n"
      ],
      "text/plain": [
       "  fromNodeID fromNodeLabel toNodeID toNodeLabel Relationship_ID Relationship\n",
       "1 15694      TF            10376    chr12       2184310         Bind        \n",
       "2 15694      TF            10372    chr12       2184308         Bind        \n",
       "3 15694      TF            10371    chr12       2184307         Bind        \n",
       "4 15694      TF            10366    chr12       2184306         Bind        \n",
       "5 15694      TF            10363    chr12       2184304         Bind        \n",
       "6 15694      TF            10342    chr12       2184299         Bind        \n",
       "  fromNode_community fromNode_Name fromNode_Details fromNode_Start ...\n",
       "1 4                  ZNF217        NA               NA             ...\n",
       "2 4                  ZNF217        NA               NA             ...\n",
       "3 4                  ZNF217        NA               NA             ...\n",
       "4 4                  ZNF217        NA               NA             ...\n",
       "5 4                  ZNF217        NA               NA             ...\n",
       "6 4                  ZNF217        NA               NA             ...\n",
       "  R_GEO     R_CellType R_Start   R_SourceDB\n",
       "1 GSM935563 MCF7       131028343 CistromeDB\n",
       "2 GSM935563 MCF7       130340069 CistromeDB\n",
       "3 GSM935563 MCF7       130046132 CistromeDB\n",
       "4 GSM935563 MCF7       129075682 CistromeDB\n",
       "5 GSM935563 MCF7       128449412 CistromeDB\n",
       "6 GSM935563 MCF7       124359704 CistromeDB\n",
       "  R_OtherGEO                                                                                                                                                                         \n",
       "1 131040887;131041033;GSM935563                                                                                                                                                      \n",
       "2                                                                                                                                                                                    \n",
       "3 130097952;130098347;GSM935563|130133155;130133301;GSM935563|130137156;130137429;GSM935563|130142952;130143177;GSM935563|130152947;130153093;GSM935563|130179131;130179539;GSM935563\n",
       "4                                                                                                                                                                                    \n",
       "5                                                                                                                                                                                    \n",
       "6 124360374;124360572;GSM935563|124393007;124393381;GSM935563                                                                                                                        \n",
       "  R_End     R_Information R_value R_PubMedID R_Method\n",
       "1 131028601 NA            NA      NA         NA      \n",
       "2 130340317 NA            NA      NA         NA      \n",
       "3 130046308 NA            NA      NA         NA      \n",
       "4 129076064 NA            NA      NA         NA      \n",
       "5 128449835 NA            NA      NA         NA      \n",
       "6 124359898 NA            NA      NA         NA      "
      ]
     },
     "metadata": {},
     "output_type": "display_data"
    }
   ],
   "source": [
    "head(mod2_Relationships[[1]])"
   ]
  },
  {
   "cell_type": "code",
   "execution_count": null,
   "metadata": {},
   "outputs": [],
   "source": []
  },
  {
   "cell_type": "markdown",
   "metadata": {},
   "source": [
    "##### If one cell show you `NA` value, it means this relationship or this node not had this property."
   ]
  },
  {
   "cell_type": "markdown",
   "metadata": {},
   "source": [
    "<h1 id = \"14\">14 Gene Set Enrich </h1>"
   ]
  },
  {
   "cell_type": "markdown",
   "metadata": {},
   "source": [
    "At this part, I used all gene at chr12,which not included TF or lncRNA."
   ]
  },
  {
   "cell_type": "markdown",
   "metadata": {},
   "source": [
    "<h2 id = \"14.1\"> 14.1 enrich GO</h2>"
   ]
  },
  {
   "cell_type": "code",
   "execution_count": 43,
   "metadata": {},
   "outputs": [],
   "source": [
    "mod_enrich <- data.frame(mod2[,'community'])"
   ]
  },
  {
   "cell_type": "code",
   "execution_count": 44,
   "metadata": {},
   "outputs": [
    {
     "name": "stderr",
     "output_type": "stream",
     "text": [
      "\n",
      "Registered S3 method overwritten by 'enrichplot':\n",
      "  method               from\n",
      "  fortify.enrichResult DOSE\n",
      "clusterProfiler v3.12.0  For help: https://guangchuangyu.github.io/software/clusterProfiler\n",
      "\n",
      "If you use clusterProfiler in published research, please cite:\n",
      "Guangchuang Yu, Li-Gen Wang, Yanyan Han, Qing-Yu He. clusterProfiler: an R package for comparing biological themes among gene clusters. OMICS: A Journal of Integrative Biology. 2012, 16(5):284-287.\n",
      "Loading required package: org.Hs.eg.db\n",
      "Loading required package: AnnotationDbi\n",
      "Loading required package: stats4\n",
      "Loading required package: BiocGenerics\n",
      "Loading required package: parallel\n",
      "\n",
      "Attaching package: 'BiocGenerics'\n",
      "\n",
      "The following objects are masked from 'package:parallel':\n",
      "\n",
      "    clusterApply, clusterApplyLB, clusterCall, clusterEvalQ,\n",
      "    clusterExport, clusterMap, parApply, parCapply, parLapply,\n",
      "    parLapplyLB, parRapply, parSapply, parSapplyLB\n",
      "\n",
      "The following objects are masked from 'package:stats':\n",
      "\n",
      "    IQR, mad, sd, var, xtabs\n",
      "\n",
      "The following objects are masked from 'package:base':\n",
      "\n",
      "    anyDuplicated, append, as.data.frame, basename, cbind, colnames,\n",
      "    dirname, do.call, duplicated, eval, evalq, Filter, Find, get, grep,\n",
      "    grepl, intersect, is.unsorted, lapply, Map, mapply, match, mget,\n",
      "    order, paste, pmax, pmax.int, pmin, pmin.int, Position, rank,\n",
      "    rbind, Reduce, rownames, sapply, setdiff, sort, table, tapply,\n",
      "    union, unique, unsplit, which, which.max, which.min\n",
      "\n",
      "Loading required package: Biobase\n",
      "Welcome to Bioconductor\n",
      "\n",
      "    Vignettes contain introductory material; view with\n",
      "    'browseVignettes()'. To cite Bioconductor, see\n",
      "    'citation(\"Biobase\")', and for packages 'citation(\"pkgname\")'.\n",
      "\n",
      "Loading required package: IRanges\n",
      "Loading required package: S4Vectors\n",
      "\n",
      "Attaching package: 'S4Vectors'\n",
      "\n",
      "The following object is masked from 'package:base':\n",
      "\n",
      "    expand.grid\n",
      "\n",
      "\n",
      "Attaching package: 'IRanges'\n",
      "\n",
      "The following object is masked from 'package:grDevices':\n",
      "\n",
      "    windows\n",
      "\n",
      "\n"
     ]
    }
   ],
   "source": [
    "\n",
    "library(clusterProfiler)\n",
    "for (i in 1:nrow(mod2)){\n",
    "  module_gene <- unlist(mod2$allGeneAtchr12[[i]])\n",
    "  module_enrichGO <- enrichGO(module_gene, 'org.Hs.eg.db', keyType = 'SYMBOL', pvalueCutoff = 0.05)\n",
    "  mod_enrich$enrichGO[i] <- paste0(module_enrichGO@result$ID, collapse = \"; \")\n",
    "  \n",
    "}"
   ]
  },
  {
   "cell_type": "markdown",
   "metadata": {},
   "source": [
    "<h2 id = \"14.2\"> 14.2 enrich KEGG</h2>"
   ]
  },
  {
   "cell_type": "code",
   "execution_count": 45,
   "metadata": {},
   "outputs": [
    {
     "name": "stderr",
     "output_type": "stream",
     "text": [
      "Your code contains a unicode char which cannot be displayed in your\n",
      "current locale and R will silently convert it to an escaped form when the\n",
      "R kernel executes this code. This can lead to subtle errors if you use\n",
      "such chars to do comparisons. For more information, please see\n",
      "https://github.com/IRkernel/repr/wiki/Problems-with-unicode-on-windows'select()' returned 1:many mapping between keys and columns\n",
      "'select()' returned 1:1 mapping between keys and columns\n",
      "'select()' returned 1:many mapping between keys and columns\n",
      "'select()' returned 1:many mapping between keys and columns\n",
      "'select()' returned 1:1 mapping between keys and columns\n",
      "'select()' returned 1:many mapping between keys and columns\n",
      "'select()' returned 1:many mapping between keys and columns\n",
      "'select()' returned 1:1 mapping between keys and columns\n",
      "'select()' returned 1:1 mapping between keys and columns\n",
      "'select()' returned 1:1 mapping between keys and columns\n",
      "'select()' returned 1:1 mapping between keys and columns\n",
      "'select()' returned 1:many mapping between keys and columns\n",
      "'select()' returned 1:many mapping between keys and columns\n",
      "'select()' returned 1:1 mapping between keys and columns\n",
      "'select()' returned 1:many mapping between keys and columns\n",
      "'select()' returned 1:1 mapping between keys and columns\n",
      "'select()' returned 1:1 mapping between keys and columns\n",
      "'select()' returned 1:1 mapping between keys and columns\n",
      "'select()' returned 1:1 mapping between keys and columns\n",
      "'select()' returned 1:many mapping between keys and columns\n",
      "'select()' returned 1:many mapping between keys and columns\n",
      "'select()' returned 1:many mapping between keys and columns\n",
      "'select()' returned 1:1 mapping between keys and columns\n",
      "'select()' returned 1:1 mapping between keys and columns\n",
      "'select()' returned 1:1 mapping between keys and columns\n",
      "'select()' returned 1:1 mapping between keys and columns\n",
      "'select()' returned 1:many mapping between keys and columns\n",
      "'select()' returned 1:many mapping between keys and columns\n",
      "'select()' returned 1:1 mapping between keys and columns\n",
      "'select()' returned 1:1 mapping between keys and columns\n",
      "'select()' returned 1:many mapping between keys and columns\n",
      "'select()' returned 1:1 mapping between keys and columns\n",
      "'select()' returned 1:many mapping between keys and columns\n",
      "'select()' returned 1:1 mapping between keys and columns\n",
      "'select()' returned 1:1 mapping between keys and columns\n",
      "'select()' returned 1:1 mapping between keys and columns\n",
      "'select()' returned 1:1 mapping between keys and columns\n",
      "'select()' returned 1:many mapping between keys and columns\n",
      "'select()' returned 1:1 mapping between keys and columns\n",
      "'select()' returned 1:many mapping between keys and columns\n",
      "'select()' returned 1:1 mapping between keys and columns\n",
      "'select()' returned 1:1 mapping between keys and columns\n",
      "'select()' returned 1:1 mapping between keys and columns\n",
      "'select()' returned 1:1 mapping between keys and columns\n",
      "'select()' returned 1:1 mapping between keys and columns\n",
      "'select()' returned 1:1 mapping between keys and columns\n",
      "'select()' returned 1:1 mapping between keys and columns\n",
      "'select()' returned 1:1 mapping between keys and columns\n",
      "'select()' returned 1:1 mapping between keys and columns\n"
     ]
    }
   ],
   "source": [
    "library(org.Hs.eg.db)\n",
    "library(clusterProfiler)\n",
    "for (i in 1:nrow(mod2)){\n",
    "  module_gene <- unlist(mod2$allGeneAtchr12[[i]])\n",
    "  geneIDselect <-select(org.Hs.eg.db, #.db是这个芯片数据对应的注释包\n",
    "                        keys= module_gene,\n",
    "                        columns=c(\"ENTREZID\",\"ENSEMBL\",\"GENENAME\"), #clolumns参数是你要转换的ID类型是什么，这里选择三个。\n",
    "                        keytype=\"SYMBOL\" )#函数里面的keytype与keys参数是对应的，keys是你输入的那些数据，keytype是指这些数据是属于什么类型的数据。 \n",
    "  module_enrichKEGG = enrichKEGG(geneIDselect$ENTREZID, organism = 'hsa', keyType = \"kegg\", pvalueCutoff = 0.05)\n",
    "  mod_enrich$enrichKEGG[i] <- paste0(module_enrichKEGG@result$ID, collapse = \"; \")\n",
    "}"
   ]
  },
  {
   "cell_type": "markdown",
   "metadata": {},
   "source": [
    "All results of enrich GO / KEGG show you likes that:"
   ]
  },
  {
   "cell_type": "code",
   "execution_count": 46,
   "metadata": {},
   "outputs": [
    {
     "data": {
      "text/html": [
       "<table>\n",
       "<caption>A data.frame: 2 × 3</caption>\n",
       "<thead>\n",
       "\t<tr><th scope=col>mod2....community..</th><th scope=col>enrichGO</th><th scope=col>enrichKEGG</th></tr>\n",
       "\t<tr><th scope=col>&lt;chr&gt;</th><th scope=col>&lt;chr&gt;</th><th scope=col>&lt;chr&gt;</th></tr>\n",
       "</thead>\n",
       "<tbody>\n",
       "\t<tr><td>module4</td><td>GO:0030246; GO:0033038; GO:0008527; GO:1901618; GO:0008028; GO:0015125; GO:0005001; GO:0019198; GO:0005251; GO:0022839; GO:0022836; GO:0046943; GO:0005342; GO:0005546; GO:0005319; GO:0046873; GO:0035259; GO:0022843; GO:0005545; GO:0004867; GO:0005261; GO:0005244; GO:0022832; GO:0016757; GO:0015077; GO:0015291; GO:0038187; GO:0005216; GO:0022890; GO:0070888; GO:0017075; GO:0022838; GO:0004725; GO:0000030; GO:0008514; GO:0008509; GO:0030159; GO:0099604; GO:0005267; GO:0022804; GO:1902936; GO:0016758; GO:0023023; GO:0008324; GO:0015267; GO:0005544; GO:0022803; GO:0015085; GO:0005249; GO:0017147; GO:0015079; GO:0032947; GO:0005178; GO:0035091; GO:0044325; GO:0099516; GO:0042287; GO:0016879; GO:0035258; GO:0005262; GO:1901981; GO:0030170; GO:0070279; GO:0005080; GO:0004866; GO:0016595; GO:0140035; GO:0140036; GO:0015297; GO:0016597; GO:0061135; GO:0005229; GO:0015295; GO:0016273; GO:0016274; GO:0016840; GO:0035004; GO:0043295; GO:0061778; GO:0004721; GO:0030414; GO:0005179; GO:0003906; GO:0005041; GO:0015269; GO:0016307; GO:0016594; GO:0042301; GO:1900750; GO:0019905; GO:0016667; GO:0004708; GO:0005452; GO:0010181; GO:0008017; GO:0017137; GO:0047485; GO:0005516; GO:0030228; GO:0035497; GO:0048306; GO:0015293; GO:0019003; GO:0005159; GO:0005537; GO:0015278; GO:0030169; GO:0042813; GO:0046965; GO:0070742; GO:0031406; GO:0005518; GO:0015081; GO:0042578; GO:0043177; GO:0004602; GO:0042288; GO:0005248; GO:0008329; GO:0010314; GO:0015491; GO:0000149; GO:0004970; GO:0046527; GO:0019842; GO:0004435; GO:0004653; GO:0008301; GO:0015301; GO:0019239; GO:0050662; GO:0061134; GO:0015294; GO:0001540; GO:0005158; GO:0005328; GO:0005540; GO:0008373; GO:0015298; GO:0140103; GO:0016874; GO:0005184; GO:0015035; GO:0016814; GO:0030547; GO:0035250; GO:0050750; GO:0051861; GO:0033218; GO:0004112; GO:0004114; GO:0004364; GO:0005112; GO:0030742; GO:0005096; GO:0008194; GO:0003714; GO:0005227; GO:0019865; GO:0019956; GO:0008081; GO:0001968; GO:0004629; GO:0042974; GO:0003712; GO:0005217; GO:0046875; GO:0046982; GO:0008083; GO:0035257; GO:0042277; GO:0008066; GO:0016405; GO:0043236; GO:0070325; GO:0043425; GO:0004497; GO:0005543; GO:0017080; GO:0048037; GO:0003924; GO:0016791; GO:0099094; GO:0016878; GO:0031492; GO:0097718; GO:0008376; GO:0008378; GO:0004984; GO:0030695; GO:0016709; GO:0017112; GO:0016620; GO:0071813; GO:0071814; GO:0051427; GO:0030276; GO:0042165; GO:0042169; GO:0043014; GO:0032549; GO:0004601; GO:0005245; GO:0005272; GO:0005326; GO:0015036; GO:0017046; GO:0032266; GO:0048487; GO:0020037; GO:0015631; GO:0001158; GO:0001882; GO:0016903; GO:0004857; GO:0004712; GO:0016684; GO:0016877; GO:0004177; GO:0030331; GO:0015276; GO:0022834; GO:0015459; GO:0050840; GO:0060589; GO:0046906; GO:0005548; GO:0050681; GO:0030545; GO:0003954; GO:0008137; GO:0008375; GO:0050136; GO:0051018; GO:0015103; GO:0002020; GO:0035326; GO:0000978; GO:0000049; GO:0016765; GO:0031491; GO:0050661; GO:0016247; GO:0005044; GO:0004521; GO:0042054; GO:0000987; GO:0019903; GO:0022824; GO:0022835; GO:0015171; GO:0015370; GO:0016705; GO:0016655; GO:0097110; GO:1901681; GO:0033293; GO:0070491; GO:0001227; GO:0001098; GO:0001099; GO:0005254; GO:0005506; GO:0005230; GO:0042626; GO:0048029; GO:0005525; GO:0070063; GO:0048018; GO:0032550; GO:0016209; GO:0072341; GO:0017016; GO:0016835; GO:0001883; GO:0050660; GO:0003727; GO:0015399; GO:0015405; GO:0043492; GO:0015078; GO:0005201; GO:0019001; GO:0032561; GO:0043178; GO:0031267; GO:0005253; GO:0046332; GO:0003729; GO:0015108; GO:0051219; GO:0016829; GO:0031490; GO:0008013; GO:1903231; GO:0008276; GO:0042562; GO:0004553; GO:0004620; GO:0019902; GO:0038024; GO:0003779; GO:0008170; GO:0030594; GO:0000980; GO:0004222; GO:0008022; GO:0004674; GO:0051087; GO:0008168; GO:0004540; GO:0016651; GO:0008238; GO:0009055; GO:0016810; GO:0016741; GO:0016298; GO:0019955; GO:0042826; GO:0003774; GO:0016798; GO:0099106; GO:0004519; GO:0000287; GO:0005126; GO:0043021; GO:0008047; GO:0051020; GO:0019838; GO:0005088; GO:0050839; GO:0004252; GO:0140030; GO:0008757; GO:0051015; GO:0017048; GO:0003823; GO:0140097; GO:0008237; GO:0005125; GO:0008236; GO:0016887; GO:0001228; GO:0017171; GO:0003713; GO:0004518; GO:0003682; GO:0004175; GO:0005085; GO:0005539; GO:0001664; GO:0042623; GO:0140098; GO:0031625; GO:0044389; GO:0004842; GO:0019787</td><td>hsa04742; hsa04612; hsa04740; hsa04625; hsa04976; hsa05144; hsa04650; hsa04970; hsa00790; hsa04145; hsa00640; hsa01230; hsa05152; hsa00260; hsa05332; hsa02010; hsa04550; hsa00270; hsa00510; hsa05014; hsa00603; hsa00604; hsa04730; hsa00360; hsa04623; hsa04014; hsa00061; hsa04137; hsa00220; hsa00562; hsa04020; hsa04610; hsa05418; hsa04950; hsa00601; hsa04146; hsa00052; hsa00512; hsa03020; hsa04657; hsa04713; hsa04640; hsa00250; hsa04070; hsa04960; hsa05143; hsa04750; hsa04916; hsa05330; hsa05340; hsa05225; hsa00513; hsa00620; hsa05010; hsa05033; hsa00380; hsa04066; hsa04940; hsa03050; hsa01200; hsa00520; hsa04919; hsa04672; hsa04913; hsa05030; hsa04152; hsa05135; hsa00330; hsa04330; hsa04114; hsa00480; hsa04270; hsa05322; hsa04015; hsa04213; hsa05217; hsa05012; hsa05321; hsa05224; hsa04720; hsa04072; hsa05031; hsa04920; hsa04924; hsa04622; hsa04520; hsa04150; hsa00982; hsa04115; hsa05218; hsa05160; hsa01524; hsa05214; hsa04310; hsa00980; hsa03320; hsa05140; hsa04721; hsa00983; hsa01521; hsa03018; hsa05132; hsa04144; hsa04022; hsa05204; hsa05164; hsa04080; hsa04911; hsa04512; hsa04211; hsa05235; hsa05410; hsa05032; hsa04658; hsa05323; hsa04350; hsa05167; hsa05202; hsa05414; hsa00564; hsa05215; hsa01522; hsa04914; hsa05016; hsa05142; hsa05146; hsa04510; hsa04620; hsa04660; hsa05169; hsa04922; hsa04659; hsa05205; hsa04931; hsa04010; hsa05145; hsa04724; hsa04726; hsa04024; hsa04722; hsa04935; hsa04142; hsa04611; hsa04380; hsa04926; hsa00230; hsa04068; hsa04728; hsa05165; hsa00190; hsa04120; hsa04210; hsa04140; hsa04371; hsa04910; hsa05162; hsa04514; hsa04151; hsa04723; hsa04932; hsa05226; hsa04390; hsa04934; hsa04218; hsa04217; hsa04630; hsa05161; hsa03013; hsa04360; hsa04621; hsa05034; hsa05206; hsa05130; hsa05170; hsa05166; hsa05163; hsa04714; hsa05168; hsa04060</td></tr>\n",
       "\t<tr><td>module8</td><td>GO:0030246; GO:0042287; GO:0045505; GO:0017016; GO:0031267; GO:0005355; GO:0015149; GO:0017137; GO:0015145; GO:0042288; GO:0051119; GO:0046527; GO:0051020; GO:0003785; GO:0005104; GO:0015144; GO:0016757; GO:0004003; GO:0017112; GO:0003678; GO:0005525; GO:0016763; GO:0032550; GO:0001883; GO:0032549; GO:0060090; GO:0001882; GO:0005088; GO:0019001; GO:0032561; GO:0003924; GO:0008026; GO:0070035; GO:0019003; GO:0005068; GO:0005165; GO:0030957; GO:0045294; GO:0051400; GO:0097617; GO:0140035; GO:0140036; GO:0008094; GO:0005536; GO:0015643; GO:0019211; GO:0035251; GO:0035252; GO:0042285; GO:0043295; GO:0019208; GO:0035591; GO:0001222; GO:0015125; GO:0015269; GO:0032036; GO:0034452; GO:1900750; GO:0004535; GO:0008093; GO:0031432; GO:0086080; GO:0044183; GO:0050811; GO:0035258; GO:0003950; GO:0019215; GO:1990404; GO:0003697; GO:0005085; GO:0004602; GO:0005001; GO:0008483; GO:0019198; GO:0005267; GO:0003714; GO:0017025; GO:0003899; GO:0005251; GO:0016769; GO:0005160; GO:0005184; GO:0050699; GO:0051393; GO:0003712; GO:0004364; GO:0030742; GO:0070840; GO:0015079; GO:0003779; GO:0005227; GO:0034062; GO:0097747; GO:0140142; GO:0044325; GO:0023023; GO:0008028; GO:0016405; GO:0070851; GO:0017147; GO:0008186; GO:0008536; GO:0017080; GO:0004386; GO:0000175; GO:0042805; GO:0016878; GO:0016896; GO:0016874; GO:0140098; GO:0008194; GO:0004532; GO:0098632; GO:0031625; GO:0004812; GO:0016875; GO:0030276; GO:0051539; GO:0008307; GO:0140104; GO:1901618; GO:0017048; GO:0035257; GO:0004601; GO:0044389; GO:0001221; GO:0019212; GO:0048487; GO:0140097; GO:0016684; GO:0016877; GO:0030674; GO:0030331; GO:0045296; GO:0098631; GO:0004842; GO:0008408; GO:0016796; GO:0050681; GO:0005080; GO:0051427; GO:0000049; GO:0016597; GO:0016765; GO:0016830; GO:0048365; GO:0019787; GO:0004197; GO:0051536; GO:0051540; GO:0030971; GO:0048306; GO:0016758; GO:0004860; GO:0017022; GO:0005249; GO:0048029; GO:0019210; GO:0005546; GO:0016209; GO:0072341; GO:0000287; GO:0005126; GO:0004527; GO:0003727; GO:0042623; GO:0046332; GO:0004843; GO:0004867; GO:0005089; GO:0001227; GO:0016791; GO:0005200; GO:1990782; GO:0051082; GO:0008047; GO:0036459; GO:0101005; GO:0005261; GO:0000978; GO:0004725; GO:0004540; GO:1902936; GO:0050839; GO:0015077; GO:0019783; GO:0022839; GO:0022836; GO:0046943; GO:0005342; GO:0140101; GO:0000987; GO:0005179; GO:0005319; GO:0016779; GO:0016887; GO:0022843; GO:0003713; GO:0042578; GO:0046982; GO:0016247; GO:0005216; GO:0140030; GO:0019887; GO:0004857; GO:0008514; GO:0061630; GO:0046873; GO:0022838; GO:1901981; GO:0061659; GO:0008083; GO:0008234; GO:0004866; GO:0003823; GO:0019207; GO:0061135; GO:0004721; GO:0030414; GO:0005244; GO:0022832; GO:0015267; GO:0022803; GO:0016829; GO:0004518; GO:0042393; GO:0031406; GO:0043177; GO:0048018; GO:0061134; GO:0030545; GO:0005096; GO:0001664; GO:0003682; GO:0048037; GO:0022890; GO:0042277; GO:0035091; GO:1901681; GO:0030695; GO:0008324; GO:0008509; GO:0015631; GO:0033218; GO:0060589; GO:0004175; GO:0005543; GO:0001228                                                                                                                                                                                                                                                                                                                                                                                                                                                                                                                                                                                                                                                                                                                                                                                                                                                                                                                                                                                                                                                                                                                                                                                                                                                                                                                                                            </td><td>hsa05144; hsa04650; hsa00280; hsa04137; hsa01210; hsa00770; hsa00514; hsa04068; hsa05322; hsa00650; hsa04371; hsa00030; hsa04136; hsa00051; hsa04130; hsa00500; hsa04217; hsa03013; hsa05225; hsa05332; hsa04621; hsa05034; hsa04151; hsa00270; hsa00510; hsa04340; hsa04510; hsa05203; hsa00480; hsa04810; hsa05166; hsa00970; hsa05230; hsa04917; hsa00982; hsa04115; hsa04976; hsa05218; hsa01524; hsa01230; hsa00980; hsa05412; hsa04612; hsa04721; hsa00983; hsa03018; hsa05204; hsa04260; hsa04911; hsa04727; hsa05410; hsa05414; hsa03008; hsa04922; hsa04928; hsa04931; hsa04668; hsa04670; hsa04722; hsa04152; hsa04110; hsa00230; hsa04270; hsa03040; hsa04120; hsa04140; hsa04910; hsa05162; hsa05418; hsa05224; hsa04261; hsa05226; hsa04390; hsa04218; hsa04310; hsa04630; hsa04022; hsa04530; hsa05167; hsa05202; hsa05169; hsa05205; hsa04015; hsa04714; hsa04014; hsa04010; hsa05206; hsa05165                                                                                                                                                                                                                                                                                                                                                                                                                                                                                                                                                                                                                                                                                                                                                                                                                                                                                                                                              </td></tr>\n",
       "</tbody>\n",
       "</table>\n"
      ],
      "text/latex": [
       "A data.frame: 2 × 3\n",
       "\\begin{tabular}{r|lll}\n",
       " mod2....community.. & enrichGO & enrichKEGG\\\\\n",
       " <chr> & <chr> & <chr>\\\\\n",
       "\\hline\n",
       "\t module4 & GO:0030246; GO:0033038; GO:0008527; GO:1901618; GO:0008028; GO:0015125; GO:0005001; GO:0019198; GO:0005251; GO:0022839; GO:0022836; GO:0046943; GO:0005342; GO:0005546; GO:0005319; GO:0046873; GO:0035259; GO:0022843; GO:0005545; GO:0004867; GO:0005261; GO:0005244; GO:0022832; GO:0016757; GO:0015077; GO:0015291; GO:0038187; GO:0005216; GO:0022890; GO:0070888; GO:0017075; GO:0022838; GO:0004725; GO:0000030; GO:0008514; GO:0008509; GO:0030159; GO:0099604; GO:0005267; GO:0022804; GO:1902936; GO:0016758; GO:0023023; GO:0008324; GO:0015267; GO:0005544; GO:0022803; GO:0015085; GO:0005249; GO:0017147; GO:0015079; GO:0032947; GO:0005178; GO:0035091; GO:0044325; GO:0099516; GO:0042287; GO:0016879; GO:0035258; GO:0005262; GO:1901981; GO:0030170; GO:0070279; GO:0005080; GO:0004866; GO:0016595; GO:0140035; GO:0140036; GO:0015297; GO:0016597; GO:0061135; GO:0005229; GO:0015295; GO:0016273; GO:0016274; GO:0016840; GO:0035004; GO:0043295; GO:0061778; GO:0004721; GO:0030414; GO:0005179; GO:0003906; GO:0005041; GO:0015269; GO:0016307; GO:0016594; GO:0042301; GO:1900750; GO:0019905; GO:0016667; GO:0004708; GO:0005452; GO:0010181; GO:0008017; GO:0017137; GO:0047485; GO:0005516; GO:0030228; GO:0035497; GO:0048306; GO:0015293; GO:0019003; GO:0005159; GO:0005537; GO:0015278; GO:0030169; GO:0042813; GO:0046965; GO:0070742; GO:0031406; GO:0005518; GO:0015081; GO:0042578; GO:0043177; GO:0004602; GO:0042288; GO:0005248; GO:0008329; GO:0010314; GO:0015491; GO:0000149; GO:0004970; GO:0046527; GO:0019842; GO:0004435; GO:0004653; GO:0008301; GO:0015301; GO:0019239; GO:0050662; GO:0061134; GO:0015294; GO:0001540; GO:0005158; GO:0005328; GO:0005540; GO:0008373; GO:0015298; GO:0140103; GO:0016874; GO:0005184; GO:0015035; GO:0016814; GO:0030547; GO:0035250; GO:0050750; GO:0051861; GO:0033218; GO:0004112; GO:0004114; GO:0004364; GO:0005112; GO:0030742; GO:0005096; GO:0008194; GO:0003714; GO:0005227; GO:0019865; GO:0019956; GO:0008081; GO:0001968; GO:0004629; GO:0042974; GO:0003712; GO:0005217; GO:0046875; GO:0046982; GO:0008083; GO:0035257; GO:0042277; GO:0008066; GO:0016405; GO:0043236; GO:0070325; GO:0043425; GO:0004497; GO:0005543; GO:0017080; GO:0048037; GO:0003924; GO:0016791; GO:0099094; GO:0016878; GO:0031492; GO:0097718; GO:0008376; GO:0008378; GO:0004984; GO:0030695; GO:0016709; GO:0017112; GO:0016620; GO:0071813; GO:0071814; GO:0051427; GO:0030276; GO:0042165; GO:0042169; GO:0043014; GO:0032549; GO:0004601; GO:0005245; GO:0005272; GO:0005326; GO:0015036; GO:0017046; GO:0032266; GO:0048487; GO:0020037; GO:0015631; GO:0001158; GO:0001882; GO:0016903; GO:0004857; GO:0004712; GO:0016684; GO:0016877; GO:0004177; GO:0030331; GO:0015276; GO:0022834; GO:0015459; GO:0050840; GO:0060589; GO:0046906; GO:0005548; GO:0050681; GO:0030545; GO:0003954; GO:0008137; GO:0008375; GO:0050136; GO:0051018; GO:0015103; GO:0002020; GO:0035326; GO:0000978; GO:0000049; GO:0016765; GO:0031491; GO:0050661; GO:0016247; GO:0005044; GO:0004521; GO:0042054; GO:0000987; GO:0019903; GO:0022824; GO:0022835; GO:0015171; GO:0015370; GO:0016705; GO:0016655; GO:0097110; GO:1901681; GO:0033293; GO:0070491; GO:0001227; GO:0001098; GO:0001099; GO:0005254; GO:0005506; GO:0005230; GO:0042626; GO:0048029; GO:0005525; GO:0070063; GO:0048018; GO:0032550; GO:0016209; GO:0072341; GO:0017016; GO:0016835; GO:0001883; GO:0050660; GO:0003727; GO:0015399; GO:0015405; GO:0043492; GO:0015078; GO:0005201; GO:0019001; GO:0032561; GO:0043178; GO:0031267; GO:0005253; GO:0046332; GO:0003729; GO:0015108; GO:0051219; GO:0016829; GO:0031490; GO:0008013; GO:1903231; GO:0008276; GO:0042562; GO:0004553; GO:0004620; GO:0019902; GO:0038024; GO:0003779; GO:0008170; GO:0030594; GO:0000980; GO:0004222; GO:0008022; GO:0004674; GO:0051087; GO:0008168; GO:0004540; GO:0016651; GO:0008238; GO:0009055; GO:0016810; GO:0016741; GO:0016298; GO:0019955; GO:0042826; GO:0003774; GO:0016798; GO:0099106; GO:0004519; GO:0000287; GO:0005126; GO:0043021; GO:0008047; GO:0051020; GO:0019838; GO:0005088; GO:0050839; GO:0004252; GO:0140030; GO:0008757; GO:0051015; GO:0017048; GO:0003823; GO:0140097; GO:0008237; GO:0005125; GO:0008236; GO:0016887; GO:0001228; GO:0017171; GO:0003713; GO:0004518; GO:0003682; GO:0004175; GO:0005085; GO:0005539; GO:0001664; GO:0042623; GO:0140098; GO:0031625; GO:0044389; GO:0004842; GO:0019787 & hsa04742; hsa04612; hsa04740; hsa04625; hsa04976; hsa05144; hsa04650; hsa04970; hsa00790; hsa04145; hsa00640; hsa01230; hsa05152; hsa00260; hsa05332; hsa02010; hsa04550; hsa00270; hsa00510; hsa05014; hsa00603; hsa00604; hsa04730; hsa00360; hsa04623; hsa04014; hsa00061; hsa04137; hsa00220; hsa00562; hsa04020; hsa04610; hsa05418; hsa04950; hsa00601; hsa04146; hsa00052; hsa00512; hsa03020; hsa04657; hsa04713; hsa04640; hsa00250; hsa04070; hsa04960; hsa05143; hsa04750; hsa04916; hsa05330; hsa05340; hsa05225; hsa00513; hsa00620; hsa05010; hsa05033; hsa00380; hsa04066; hsa04940; hsa03050; hsa01200; hsa00520; hsa04919; hsa04672; hsa04913; hsa05030; hsa04152; hsa05135; hsa00330; hsa04330; hsa04114; hsa00480; hsa04270; hsa05322; hsa04015; hsa04213; hsa05217; hsa05012; hsa05321; hsa05224; hsa04720; hsa04072; hsa05031; hsa04920; hsa04924; hsa04622; hsa04520; hsa04150; hsa00982; hsa04115; hsa05218; hsa05160; hsa01524; hsa05214; hsa04310; hsa00980; hsa03320; hsa05140; hsa04721; hsa00983; hsa01521; hsa03018; hsa05132; hsa04144; hsa04022; hsa05204; hsa05164; hsa04080; hsa04911; hsa04512; hsa04211; hsa05235; hsa05410; hsa05032; hsa04658; hsa05323; hsa04350; hsa05167; hsa05202; hsa05414; hsa00564; hsa05215; hsa01522; hsa04914; hsa05016; hsa05142; hsa05146; hsa04510; hsa04620; hsa04660; hsa05169; hsa04922; hsa04659; hsa05205; hsa04931; hsa04010; hsa05145; hsa04724; hsa04726; hsa04024; hsa04722; hsa04935; hsa04142; hsa04611; hsa04380; hsa04926; hsa00230; hsa04068; hsa04728; hsa05165; hsa00190; hsa04120; hsa04210; hsa04140; hsa04371; hsa04910; hsa05162; hsa04514; hsa04151; hsa04723; hsa04932; hsa05226; hsa04390; hsa04934; hsa04218; hsa04217; hsa04630; hsa05161; hsa03013; hsa04360; hsa04621; hsa05034; hsa05206; hsa05130; hsa05170; hsa05166; hsa05163; hsa04714; hsa05168; hsa04060\\\\\n",
       "\t module8 & GO:0030246; GO:0042287; GO:0045505; GO:0017016; GO:0031267; GO:0005355; GO:0015149; GO:0017137; GO:0015145; GO:0042288; GO:0051119; GO:0046527; GO:0051020; GO:0003785; GO:0005104; GO:0015144; GO:0016757; GO:0004003; GO:0017112; GO:0003678; GO:0005525; GO:0016763; GO:0032550; GO:0001883; GO:0032549; GO:0060090; GO:0001882; GO:0005088; GO:0019001; GO:0032561; GO:0003924; GO:0008026; GO:0070035; GO:0019003; GO:0005068; GO:0005165; GO:0030957; GO:0045294; GO:0051400; GO:0097617; GO:0140035; GO:0140036; GO:0008094; GO:0005536; GO:0015643; GO:0019211; GO:0035251; GO:0035252; GO:0042285; GO:0043295; GO:0019208; GO:0035591; GO:0001222; GO:0015125; GO:0015269; GO:0032036; GO:0034452; GO:1900750; GO:0004535; GO:0008093; GO:0031432; GO:0086080; GO:0044183; GO:0050811; GO:0035258; GO:0003950; GO:0019215; GO:1990404; GO:0003697; GO:0005085; GO:0004602; GO:0005001; GO:0008483; GO:0019198; GO:0005267; GO:0003714; GO:0017025; GO:0003899; GO:0005251; GO:0016769; GO:0005160; GO:0005184; GO:0050699; GO:0051393; GO:0003712; GO:0004364; GO:0030742; GO:0070840; GO:0015079; GO:0003779; GO:0005227; GO:0034062; GO:0097747; GO:0140142; GO:0044325; GO:0023023; GO:0008028; GO:0016405; GO:0070851; GO:0017147; GO:0008186; GO:0008536; GO:0017080; GO:0004386; GO:0000175; GO:0042805; GO:0016878; GO:0016896; GO:0016874; GO:0140098; GO:0008194; GO:0004532; GO:0098632; GO:0031625; GO:0004812; GO:0016875; GO:0030276; GO:0051539; GO:0008307; GO:0140104; GO:1901618; GO:0017048; GO:0035257; GO:0004601; GO:0044389; GO:0001221; GO:0019212; GO:0048487; GO:0140097; GO:0016684; GO:0016877; GO:0030674; GO:0030331; GO:0045296; GO:0098631; GO:0004842; GO:0008408; GO:0016796; GO:0050681; GO:0005080; GO:0051427; GO:0000049; GO:0016597; GO:0016765; GO:0016830; GO:0048365; GO:0019787; GO:0004197; GO:0051536; GO:0051540; GO:0030971; GO:0048306; GO:0016758; GO:0004860; GO:0017022; GO:0005249; GO:0048029; GO:0019210; GO:0005546; GO:0016209; GO:0072341; GO:0000287; GO:0005126; GO:0004527; GO:0003727; GO:0042623; GO:0046332; GO:0004843; GO:0004867; GO:0005089; GO:0001227; GO:0016791; GO:0005200; GO:1990782; GO:0051082; GO:0008047; GO:0036459; GO:0101005; GO:0005261; GO:0000978; GO:0004725; GO:0004540; GO:1902936; GO:0050839; GO:0015077; GO:0019783; GO:0022839; GO:0022836; GO:0046943; GO:0005342; GO:0140101; GO:0000987; GO:0005179; GO:0005319; GO:0016779; GO:0016887; GO:0022843; GO:0003713; GO:0042578; GO:0046982; GO:0016247; GO:0005216; GO:0140030; GO:0019887; GO:0004857; GO:0008514; GO:0061630; GO:0046873; GO:0022838; GO:1901981; GO:0061659; GO:0008083; GO:0008234; GO:0004866; GO:0003823; GO:0019207; GO:0061135; GO:0004721; GO:0030414; GO:0005244; GO:0022832; GO:0015267; GO:0022803; GO:0016829; GO:0004518; GO:0042393; GO:0031406; GO:0043177; GO:0048018; GO:0061134; GO:0030545; GO:0005096; GO:0001664; GO:0003682; GO:0048037; GO:0022890; GO:0042277; GO:0035091; GO:1901681; GO:0030695; GO:0008324; GO:0008509; GO:0015631; GO:0033218; GO:0060589; GO:0004175; GO:0005543; GO:0001228                                                                                                                                                                                                                                                                                                                                                                                                                                                                                                                                                                                                                                                                                                                                                                                                                                                                                                                                                                                                                                                                                                                                                                                                                                                                                                                                                             & hsa05144; hsa04650; hsa00280; hsa04137; hsa01210; hsa00770; hsa00514; hsa04068; hsa05322; hsa00650; hsa04371; hsa00030; hsa04136; hsa00051; hsa04130; hsa00500; hsa04217; hsa03013; hsa05225; hsa05332; hsa04621; hsa05034; hsa04151; hsa00270; hsa00510; hsa04340; hsa04510; hsa05203; hsa00480; hsa04810; hsa05166; hsa00970; hsa05230; hsa04917; hsa00982; hsa04115; hsa04976; hsa05218; hsa01524; hsa01230; hsa00980; hsa05412; hsa04612; hsa04721; hsa00983; hsa03018; hsa05204; hsa04260; hsa04911; hsa04727; hsa05410; hsa05414; hsa03008; hsa04922; hsa04928; hsa04931; hsa04668; hsa04670; hsa04722; hsa04152; hsa04110; hsa00230; hsa04270; hsa03040; hsa04120; hsa04140; hsa04910; hsa05162; hsa05418; hsa05224; hsa04261; hsa05226; hsa04390; hsa04218; hsa04310; hsa04630; hsa04022; hsa04530; hsa05167; hsa05202; hsa05169; hsa05205; hsa04015; hsa04714; hsa04014; hsa04010; hsa05206; hsa05165                                                                                                                                                                                                                                                                                                                                                                                                                                                                                                                                                                                                                                                                                                                                                                                                                                                                                                                                              \\\\\n",
       "\\end{tabular}\n"
      ],
      "text/markdown": [
       "\n",
       "A data.frame: 2 × 3\n",
       "\n",
       "| mod2....community.. &lt;chr&gt; | enrichGO &lt;chr&gt; | enrichKEGG &lt;chr&gt; |\n",
       "|---|---|---|\n",
       "| module4 | GO:0030246; GO:0033038; GO:0008527; GO:1901618; GO:0008028; GO:0015125; GO:0005001; GO:0019198; GO:0005251; GO:0022839; GO:0022836; GO:0046943; GO:0005342; GO:0005546; GO:0005319; GO:0046873; GO:0035259; GO:0022843; GO:0005545; GO:0004867; GO:0005261; GO:0005244; GO:0022832; GO:0016757; GO:0015077; GO:0015291; GO:0038187; GO:0005216; GO:0022890; GO:0070888; GO:0017075; GO:0022838; GO:0004725; GO:0000030; GO:0008514; GO:0008509; GO:0030159; GO:0099604; GO:0005267; GO:0022804; GO:1902936; GO:0016758; GO:0023023; GO:0008324; GO:0015267; GO:0005544; GO:0022803; GO:0015085; GO:0005249; GO:0017147; GO:0015079; GO:0032947; GO:0005178; GO:0035091; GO:0044325; GO:0099516; GO:0042287; GO:0016879; GO:0035258; GO:0005262; GO:1901981; GO:0030170; GO:0070279; GO:0005080; GO:0004866; GO:0016595; GO:0140035; GO:0140036; GO:0015297; GO:0016597; GO:0061135; GO:0005229; GO:0015295; GO:0016273; GO:0016274; GO:0016840; GO:0035004; GO:0043295; GO:0061778; GO:0004721; GO:0030414; GO:0005179; GO:0003906; GO:0005041; GO:0015269; GO:0016307; GO:0016594; GO:0042301; GO:1900750; GO:0019905; GO:0016667; GO:0004708; GO:0005452; GO:0010181; GO:0008017; GO:0017137; GO:0047485; GO:0005516; GO:0030228; GO:0035497; GO:0048306; GO:0015293; GO:0019003; GO:0005159; GO:0005537; GO:0015278; GO:0030169; GO:0042813; GO:0046965; GO:0070742; GO:0031406; GO:0005518; GO:0015081; GO:0042578; GO:0043177; GO:0004602; GO:0042288; GO:0005248; GO:0008329; GO:0010314; GO:0015491; GO:0000149; GO:0004970; GO:0046527; GO:0019842; GO:0004435; GO:0004653; GO:0008301; GO:0015301; GO:0019239; GO:0050662; GO:0061134; GO:0015294; GO:0001540; GO:0005158; GO:0005328; GO:0005540; GO:0008373; GO:0015298; GO:0140103; GO:0016874; GO:0005184; GO:0015035; GO:0016814; GO:0030547; GO:0035250; GO:0050750; GO:0051861; GO:0033218; GO:0004112; GO:0004114; GO:0004364; GO:0005112; GO:0030742; GO:0005096; GO:0008194; GO:0003714; GO:0005227; GO:0019865; GO:0019956; GO:0008081; GO:0001968; GO:0004629; GO:0042974; GO:0003712; GO:0005217; GO:0046875; GO:0046982; GO:0008083; GO:0035257; GO:0042277; GO:0008066; GO:0016405; GO:0043236; GO:0070325; GO:0043425; GO:0004497; GO:0005543; GO:0017080; GO:0048037; GO:0003924; GO:0016791; GO:0099094; GO:0016878; GO:0031492; GO:0097718; GO:0008376; GO:0008378; GO:0004984; GO:0030695; GO:0016709; GO:0017112; GO:0016620; GO:0071813; GO:0071814; GO:0051427; GO:0030276; GO:0042165; GO:0042169; GO:0043014; GO:0032549; GO:0004601; GO:0005245; GO:0005272; GO:0005326; GO:0015036; GO:0017046; GO:0032266; GO:0048487; GO:0020037; GO:0015631; GO:0001158; GO:0001882; GO:0016903; GO:0004857; GO:0004712; GO:0016684; GO:0016877; GO:0004177; GO:0030331; GO:0015276; GO:0022834; GO:0015459; GO:0050840; GO:0060589; GO:0046906; GO:0005548; GO:0050681; GO:0030545; GO:0003954; GO:0008137; GO:0008375; GO:0050136; GO:0051018; GO:0015103; GO:0002020; GO:0035326; GO:0000978; GO:0000049; GO:0016765; GO:0031491; GO:0050661; GO:0016247; GO:0005044; GO:0004521; GO:0042054; GO:0000987; GO:0019903; GO:0022824; GO:0022835; GO:0015171; GO:0015370; GO:0016705; GO:0016655; GO:0097110; GO:1901681; GO:0033293; GO:0070491; GO:0001227; GO:0001098; GO:0001099; GO:0005254; GO:0005506; GO:0005230; GO:0042626; GO:0048029; GO:0005525; GO:0070063; GO:0048018; GO:0032550; GO:0016209; GO:0072341; GO:0017016; GO:0016835; GO:0001883; GO:0050660; GO:0003727; GO:0015399; GO:0015405; GO:0043492; GO:0015078; GO:0005201; GO:0019001; GO:0032561; GO:0043178; GO:0031267; GO:0005253; GO:0046332; GO:0003729; GO:0015108; GO:0051219; GO:0016829; GO:0031490; GO:0008013; GO:1903231; GO:0008276; GO:0042562; GO:0004553; GO:0004620; GO:0019902; GO:0038024; GO:0003779; GO:0008170; GO:0030594; GO:0000980; GO:0004222; GO:0008022; GO:0004674; GO:0051087; GO:0008168; GO:0004540; GO:0016651; GO:0008238; GO:0009055; GO:0016810; GO:0016741; GO:0016298; GO:0019955; GO:0042826; GO:0003774; GO:0016798; GO:0099106; GO:0004519; GO:0000287; GO:0005126; GO:0043021; GO:0008047; GO:0051020; GO:0019838; GO:0005088; GO:0050839; GO:0004252; GO:0140030; GO:0008757; GO:0051015; GO:0017048; GO:0003823; GO:0140097; GO:0008237; GO:0005125; GO:0008236; GO:0016887; GO:0001228; GO:0017171; GO:0003713; GO:0004518; GO:0003682; GO:0004175; GO:0005085; GO:0005539; GO:0001664; GO:0042623; GO:0140098; GO:0031625; GO:0044389; GO:0004842; GO:0019787 | hsa04742; hsa04612; hsa04740; hsa04625; hsa04976; hsa05144; hsa04650; hsa04970; hsa00790; hsa04145; hsa00640; hsa01230; hsa05152; hsa00260; hsa05332; hsa02010; hsa04550; hsa00270; hsa00510; hsa05014; hsa00603; hsa00604; hsa04730; hsa00360; hsa04623; hsa04014; hsa00061; hsa04137; hsa00220; hsa00562; hsa04020; hsa04610; hsa05418; hsa04950; hsa00601; hsa04146; hsa00052; hsa00512; hsa03020; hsa04657; hsa04713; hsa04640; hsa00250; hsa04070; hsa04960; hsa05143; hsa04750; hsa04916; hsa05330; hsa05340; hsa05225; hsa00513; hsa00620; hsa05010; hsa05033; hsa00380; hsa04066; hsa04940; hsa03050; hsa01200; hsa00520; hsa04919; hsa04672; hsa04913; hsa05030; hsa04152; hsa05135; hsa00330; hsa04330; hsa04114; hsa00480; hsa04270; hsa05322; hsa04015; hsa04213; hsa05217; hsa05012; hsa05321; hsa05224; hsa04720; hsa04072; hsa05031; hsa04920; hsa04924; hsa04622; hsa04520; hsa04150; hsa00982; hsa04115; hsa05218; hsa05160; hsa01524; hsa05214; hsa04310; hsa00980; hsa03320; hsa05140; hsa04721; hsa00983; hsa01521; hsa03018; hsa05132; hsa04144; hsa04022; hsa05204; hsa05164; hsa04080; hsa04911; hsa04512; hsa04211; hsa05235; hsa05410; hsa05032; hsa04658; hsa05323; hsa04350; hsa05167; hsa05202; hsa05414; hsa00564; hsa05215; hsa01522; hsa04914; hsa05016; hsa05142; hsa05146; hsa04510; hsa04620; hsa04660; hsa05169; hsa04922; hsa04659; hsa05205; hsa04931; hsa04010; hsa05145; hsa04724; hsa04726; hsa04024; hsa04722; hsa04935; hsa04142; hsa04611; hsa04380; hsa04926; hsa00230; hsa04068; hsa04728; hsa05165; hsa00190; hsa04120; hsa04210; hsa04140; hsa04371; hsa04910; hsa05162; hsa04514; hsa04151; hsa04723; hsa04932; hsa05226; hsa04390; hsa04934; hsa04218; hsa04217; hsa04630; hsa05161; hsa03013; hsa04360; hsa04621; hsa05034; hsa05206; hsa05130; hsa05170; hsa05166; hsa05163; hsa04714; hsa05168; hsa04060 |\n",
       "| module8 | GO:0030246; GO:0042287; GO:0045505; GO:0017016; GO:0031267; GO:0005355; GO:0015149; GO:0017137; GO:0015145; GO:0042288; GO:0051119; GO:0046527; GO:0051020; GO:0003785; GO:0005104; GO:0015144; GO:0016757; GO:0004003; GO:0017112; GO:0003678; GO:0005525; GO:0016763; GO:0032550; GO:0001883; GO:0032549; GO:0060090; GO:0001882; GO:0005088; GO:0019001; GO:0032561; GO:0003924; GO:0008026; GO:0070035; GO:0019003; GO:0005068; GO:0005165; GO:0030957; GO:0045294; GO:0051400; GO:0097617; GO:0140035; GO:0140036; GO:0008094; GO:0005536; GO:0015643; GO:0019211; GO:0035251; GO:0035252; GO:0042285; GO:0043295; GO:0019208; GO:0035591; GO:0001222; GO:0015125; GO:0015269; GO:0032036; GO:0034452; GO:1900750; GO:0004535; GO:0008093; GO:0031432; GO:0086080; GO:0044183; GO:0050811; GO:0035258; GO:0003950; GO:0019215; GO:1990404; GO:0003697; GO:0005085; GO:0004602; GO:0005001; GO:0008483; GO:0019198; GO:0005267; GO:0003714; GO:0017025; GO:0003899; GO:0005251; GO:0016769; GO:0005160; GO:0005184; GO:0050699; GO:0051393; GO:0003712; GO:0004364; GO:0030742; GO:0070840; GO:0015079; GO:0003779; GO:0005227; GO:0034062; GO:0097747; GO:0140142; GO:0044325; GO:0023023; GO:0008028; GO:0016405; GO:0070851; GO:0017147; GO:0008186; GO:0008536; GO:0017080; GO:0004386; GO:0000175; GO:0042805; GO:0016878; GO:0016896; GO:0016874; GO:0140098; GO:0008194; GO:0004532; GO:0098632; GO:0031625; GO:0004812; GO:0016875; GO:0030276; GO:0051539; GO:0008307; GO:0140104; GO:1901618; GO:0017048; GO:0035257; GO:0004601; GO:0044389; GO:0001221; GO:0019212; GO:0048487; GO:0140097; GO:0016684; GO:0016877; GO:0030674; GO:0030331; GO:0045296; GO:0098631; GO:0004842; GO:0008408; GO:0016796; GO:0050681; GO:0005080; GO:0051427; GO:0000049; GO:0016597; GO:0016765; GO:0016830; GO:0048365; GO:0019787; GO:0004197; GO:0051536; GO:0051540; GO:0030971; GO:0048306; GO:0016758; GO:0004860; GO:0017022; GO:0005249; GO:0048029; GO:0019210; GO:0005546; GO:0016209; GO:0072341; GO:0000287; GO:0005126; GO:0004527; GO:0003727; GO:0042623; GO:0046332; GO:0004843; GO:0004867; GO:0005089; GO:0001227; GO:0016791; GO:0005200; GO:1990782; GO:0051082; GO:0008047; GO:0036459; GO:0101005; GO:0005261; GO:0000978; GO:0004725; GO:0004540; GO:1902936; GO:0050839; GO:0015077; GO:0019783; GO:0022839; GO:0022836; GO:0046943; GO:0005342; GO:0140101; GO:0000987; GO:0005179; GO:0005319; GO:0016779; GO:0016887; GO:0022843; GO:0003713; GO:0042578; GO:0046982; GO:0016247; GO:0005216; GO:0140030; GO:0019887; GO:0004857; GO:0008514; GO:0061630; GO:0046873; GO:0022838; GO:1901981; GO:0061659; GO:0008083; GO:0008234; GO:0004866; GO:0003823; GO:0019207; GO:0061135; GO:0004721; GO:0030414; GO:0005244; GO:0022832; GO:0015267; GO:0022803; GO:0016829; GO:0004518; GO:0042393; GO:0031406; GO:0043177; GO:0048018; GO:0061134; GO:0030545; GO:0005096; GO:0001664; GO:0003682; GO:0048037; GO:0022890; GO:0042277; GO:0035091; GO:1901681; GO:0030695; GO:0008324; GO:0008509; GO:0015631; GO:0033218; GO:0060589; GO:0004175; GO:0005543; GO:0001228                                                                                                                                                                                                                                                                                                                                                                                                                                                                                                                                                                                                                                                                                                                                                                                                                                                                                                                                                                                                                                                                                                                                                                                                                                                                                                                                                             | hsa05144; hsa04650; hsa00280; hsa04137; hsa01210; hsa00770; hsa00514; hsa04068; hsa05322; hsa00650; hsa04371; hsa00030; hsa04136; hsa00051; hsa04130; hsa00500; hsa04217; hsa03013; hsa05225; hsa05332; hsa04621; hsa05034; hsa04151; hsa00270; hsa00510; hsa04340; hsa04510; hsa05203; hsa00480; hsa04810; hsa05166; hsa00970; hsa05230; hsa04917; hsa00982; hsa04115; hsa04976; hsa05218; hsa01524; hsa01230; hsa00980; hsa05412; hsa04612; hsa04721; hsa00983; hsa03018; hsa05204; hsa04260; hsa04911; hsa04727; hsa05410; hsa05414; hsa03008; hsa04922; hsa04928; hsa04931; hsa04668; hsa04670; hsa04722; hsa04152; hsa04110; hsa00230; hsa04270; hsa03040; hsa04120; hsa04140; hsa04910; hsa05162; hsa05418; hsa05224; hsa04261; hsa05226; hsa04390; hsa04218; hsa04310; hsa04630; hsa04022; hsa04530; hsa05167; hsa05202; hsa05169; hsa05205; hsa04015; hsa04714; hsa04014; hsa04010; hsa05206; hsa05165                                                                                                                                                                                                                                                                                                                                                                                                                                                                                                                                                                                                                                                                                                                                                                                                                                                                                                                                               |\n",
       "\n"
      ],
      "text/plain": [
       "  mod2....community..\n",
       "1 module4            \n",
       "2 module8            \n",
       "  enrichGO                                                                                                                                                                                                                                                                                                                                                                                                                                                                                                                                                                                                                                                                                                                                                                                                                                                                                                                                                                                                                                                                                                                                                                                                                                                                                                                                                                                                                                                                                                                                                                                                                                                                                                                                                                                                                                                                                                                                                                                                                                                                                                                                                                                                                                                                                                                                                                                                                                                                                                                                                                                                                                                                                                                                                                                                                                                                                                                                                                                                                                                                                                                                                                                                                                                                                                                                                                                                                                                                                                                                                                                                                                                                                                                                                                                                                                                                                                                                                                                                                                                                                                                                                                                                                                                                                                                                                                                                                                                  \n",
       "1 GO:0030246; GO:0033038; GO:0008527; GO:1901618; GO:0008028; GO:0015125; GO:0005001; GO:0019198; GO:0005251; GO:0022839; GO:0022836; GO:0046943; GO:0005342; GO:0005546; GO:0005319; GO:0046873; GO:0035259; GO:0022843; GO:0005545; GO:0004867; GO:0005261; GO:0005244; GO:0022832; GO:0016757; GO:0015077; GO:0015291; GO:0038187; GO:0005216; GO:0022890; GO:0070888; GO:0017075; GO:0022838; GO:0004725; GO:0000030; GO:0008514; GO:0008509; GO:0030159; GO:0099604; GO:0005267; GO:0022804; GO:1902936; GO:0016758; GO:0023023; GO:0008324; GO:0015267; GO:0005544; GO:0022803; GO:0015085; GO:0005249; GO:0017147; GO:0015079; GO:0032947; GO:0005178; GO:0035091; GO:0044325; GO:0099516; GO:0042287; GO:0016879; GO:0035258; GO:0005262; GO:1901981; GO:0030170; GO:0070279; GO:0005080; GO:0004866; GO:0016595; GO:0140035; GO:0140036; GO:0015297; GO:0016597; GO:0061135; GO:0005229; GO:0015295; GO:0016273; GO:0016274; GO:0016840; GO:0035004; GO:0043295; GO:0061778; GO:0004721; GO:0030414; GO:0005179; GO:0003906; GO:0005041; GO:0015269; GO:0016307; GO:0016594; GO:0042301; GO:1900750; GO:0019905; GO:0016667; GO:0004708; GO:0005452; GO:0010181; GO:0008017; GO:0017137; GO:0047485; GO:0005516; GO:0030228; GO:0035497; GO:0048306; GO:0015293; GO:0019003; GO:0005159; GO:0005537; GO:0015278; GO:0030169; GO:0042813; GO:0046965; GO:0070742; GO:0031406; GO:0005518; GO:0015081; GO:0042578; GO:0043177; GO:0004602; GO:0042288; GO:0005248; GO:0008329; GO:0010314; GO:0015491; GO:0000149; GO:0004970; GO:0046527; GO:0019842; GO:0004435; GO:0004653; GO:0008301; GO:0015301; GO:0019239; GO:0050662; GO:0061134; GO:0015294; GO:0001540; GO:0005158; GO:0005328; GO:0005540; GO:0008373; GO:0015298; GO:0140103; GO:0016874; GO:0005184; GO:0015035; GO:0016814; GO:0030547; GO:0035250; GO:0050750; GO:0051861; GO:0033218; GO:0004112; GO:0004114; GO:0004364; GO:0005112; GO:0030742; GO:0005096; GO:0008194; GO:0003714; GO:0005227; GO:0019865; GO:0019956; GO:0008081; GO:0001968; GO:0004629; GO:0042974; GO:0003712; GO:0005217; GO:0046875; GO:0046982; GO:0008083; GO:0035257; GO:0042277; GO:0008066; GO:0016405; GO:0043236; GO:0070325; GO:0043425; GO:0004497; GO:0005543; GO:0017080; GO:0048037; GO:0003924; GO:0016791; GO:0099094; GO:0016878; GO:0031492; GO:0097718; GO:0008376; GO:0008378; GO:0004984; GO:0030695; GO:0016709; GO:0017112; GO:0016620; GO:0071813; GO:0071814; GO:0051427; GO:0030276; GO:0042165; GO:0042169; GO:0043014; GO:0032549; GO:0004601; GO:0005245; GO:0005272; GO:0005326; GO:0015036; GO:0017046; GO:0032266; GO:0048487; GO:0020037; GO:0015631; GO:0001158; GO:0001882; GO:0016903; GO:0004857; GO:0004712; GO:0016684; GO:0016877; GO:0004177; GO:0030331; GO:0015276; GO:0022834; GO:0015459; GO:0050840; GO:0060589; GO:0046906; GO:0005548; GO:0050681; GO:0030545; GO:0003954; GO:0008137; GO:0008375; GO:0050136; GO:0051018; GO:0015103; GO:0002020; GO:0035326; GO:0000978; GO:0000049; GO:0016765; GO:0031491; GO:0050661; GO:0016247; GO:0005044; GO:0004521; GO:0042054; GO:0000987; GO:0019903; GO:0022824; GO:0022835; GO:0015171; GO:0015370; GO:0016705; GO:0016655; GO:0097110; GO:1901681; GO:0033293; GO:0070491; GO:0001227; GO:0001098; GO:0001099; GO:0005254; GO:0005506; GO:0005230; GO:0042626; GO:0048029; GO:0005525; GO:0070063; GO:0048018; GO:0032550; GO:0016209; GO:0072341; GO:0017016; GO:0016835; GO:0001883; GO:0050660; GO:0003727; GO:0015399; GO:0015405; GO:0043492; GO:0015078; GO:0005201; GO:0019001; GO:0032561; GO:0043178; GO:0031267; GO:0005253; GO:0046332; GO:0003729; GO:0015108; GO:0051219; GO:0016829; GO:0031490; GO:0008013; GO:1903231; GO:0008276; GO:0042562; GO:0004553; GO:0004620; GO:0019902; GO:0038024; GO:0003779; GO:0008170; GO:0030594; GO:0000980; GO:0004222; GO:0008022; GO:0004674; GO:0051087; GO:0008168; GO:0004540; GO:0016651; GO:0008238; GO:0009055; GO:0016810; GO:0016741; GO:0016298; GO:0019955; GO:0042826; GO:0003774; GO:0016798; GO:0099106; GO:0004519; GO:0000287; GO:0005126; GO:0043021; GO:0008047; GO:0051020; GO:0019838; GO:0005088; GO:0050839; GO:0004252; GO:0140030; GO:0008757; GO:0051015; GO:0017048; GO:0003823; GO:0140097; GO:0008237; GO:0005125; GO:0008236; GO:0016887; GO:0001228; GO:0017171; GO:0003713; GO:0004518; GO:0003682; GO:0004175; GO:0005085; GO:0005539; GO:0001664; GO:0042623; GO:0140098; GO:0031625; GO:0044389; GO:0004842; GO:0019787\n",
       "2 GO:0030246; GO:0042287; GO:0045505; GO:0017016; GO:0031267; GO:0005355; GO:0015149; GO:0017137; GO:0015145; GO:0042288; GO:0051119; GO:0046527; GO:0051020; GO:0003785; GO:0005104; GO:0015144; GO:0016757; GO:0004003; GO:0017112; GO:0003678; GO:0005525; GO:0016763; GO:0032550; GO:0001883; GO:0032549; GO:0060090; GO:0001882; GO:0005088; GO:0019001; GO:0032561; GO:0003924; GO:0008026; GO:0070035; GO:0019003; GO:0005068; GO:0005165; GO:0030957; GO:0045294; GO:0051400; GO:0097617; GO:0140035; GO:0140036; GO:0008094; GO:0005536; GO:0015643; GO:0019211; GO:0035251; GO:0035252; GO:0042285; GO:0043295; GO:0019208; GO:0035591; GO:0001222; GO:0015125; GO:0015269; GO:0032036; GO:0034452; GO:1900750; GO:0004535; GO:0008093; GO:0031432; GO:0086080; GO:0044183; GO:0050811; GO:0035258; GO:0003950; GO:0019215; GO:1990404; GO:0003697; GO:0005085; GO:0004602; GO:0005001; GO:0008483; GO:0019198; GO:0005267; GO:0003714; GO:0017025; GO:0003899; GO:0005251; GO:0016769; GO:0005160; GO:0005184; GO:0050699; GO:0051393; GO:0003712; GO:0004364; GO:0030742; GO:0070840; GO:0015079; GO:0003779; GO:0005227; GO:0034062; GO:0097747; GO:0140142; GO:0044325; GO:0023023; GO:0008028; GO:0016405; GO:0070851; GO:0017147; GO:0008186; GO:0008536; GO:0017080; GO:0004386; GO:0000175; GO:0042805; GO:0016878; GO:0016896; GO:0016874; GO:0140098; GO:0008194; GO:0004532; GO:0098632; GO:0031625; GO:0004812; GO:0016875; GO:0030276; GO:0051539; GO:0008307; GO:0140104; GO:1901618; GO:0017048; GO:0035257; GO:0004601; GO:0044389; GO:0001221; GO:0019212; GO:0048487; GO:0140097; GO:0016684; GO:0016877; GO:0030674; GO:0030331; GO:0045296; GO:0098631; GO:0004842; GO:0008408; GO:0016796; GO:0050681; GO:0005080; GO:0051427; GO:0000049; GO:0016597; GO:0016765; GO:0016830; GO:0048365; GO:0019787; GO:0004197; GO:0051536; GO:0051540; GO:0030971; GO:0048306; GO:0016758; GO:0004860; GO:0017022; GO:0005249; GO:0048029; GO:0019210; GO:0005546; GO:0016209; GO:0072341; GO:0000287; GO:0005126; GO:0004527; GO:0003727; GO:0042623; GO:0046332; GO:0004843; GO:0004867; GO:0005089; GO:0001227; GO:0016791; GO:0005200; GO:1990782; GO:0051082; GO:0008047; GO:0036459; GO:0101005; GO:0005261; GO:0000978; GO:0004725; GO:0004540; GO:1902936; GO:0050839; GO:0015077; GO:0019783; GO:0022839; GO:0022836; GO:0046943; GO:0005342; GO:0140101; GO:0000987; GO:0005179; GO:0005319; GO:0016779; GO:0016887; GO:0022843; GO:0003713; GO:0042578; GO:0046982; GO:0016247; GO:0005216; GO:0140030; GO:0019887; GO:0004857; GO:0008514; GO:0061630; GO:0046873; GO:0022838; GO:1901981; GO:0061659; GO:0008083; GO:0008234; GO:0004866; GO:0003823; GO:0019207; GO:0061135; GO:0004721; GO:0030414; GO:0005244; GO:0022832; GO:0015267; GO:0022803; GO:0016829; GO:0004518; GO:0042393; GO:0031406; GO:0043177; GO:0048018; GO:0061134; GO:0030545; GO:0005096; GO:0001664; GO:0003682; GO:0048037; GO:0022890; GO:0042277; GO:0035091; GO:1901681; GO:0030695; GO:0008324; GO:0008509; GO:0015631; GO:0033218; GO:0060589; GO:0004175; GO:0005543; GO:0001228                                                                                                                                                                                                                                                                                                                                                                                                                                                                                                                                                                                                                                                                                                                                                                                                                                                                                                                                                                                                                                                                                                                                                                                                                                                                                                                                                            \n",
       "  enrichKEGG                                                                                                                                                                                                                                                                                                                                                                                                                                                                                                                                                                                                                                                                                                                                                                                                                                                                                                                                                                                                                                                                                                                                                                                                                                                                                                                                                                                                                                                                                                                                                                                                                                                                                                                                                                                                                                                  \n",
       "1 hsa04742; hsa04612; hsa04740; hsa04625; hsa04976; hsa05144; hsa04650; hsa04970; hsa00790; hsa04145; hsa00640; hsa01230; hsa05152; hsa00260; hsa05332; hsa02010; hsa04550; hsa00270; hsa00510; hsa05014; hsa00603; hsa00604; hsa04730; hsa00360; hsa04623; hsa04014; hsa00061; hsa04137; hsa00220; hsa00562; hsa04020; hsa04610; hsa05418; hsa04950; hsa00601; hsa04146; hsa00052; hsa00512; hsa03020; hsa04657; hsa04713; hsa04640; hsa00250; hsa04070; hsa04960; hsa05143; hsa04750; hsa04916; hsa05330; hsa05340; hsa05225; hsa00513; hsa00620; hsa05010; hsa05033; hsa00380; hsa04066; hsa04940; hsa03050; hsa01200; hsa00520; hsa04919; hsa04672; hsa04913; hsa05030; hsa04152; hsa05135; hsa00330; hsa04330; hsa04114; hsa00480; hsa04270; hsa05322; hsa04015; hsa04213; hsa05217; hsa05012; hsa05321; hsa05224; hsa04720; hsa04072; hsa05031; hsa04920; hsa04924; hsa04622; hsa04520; hsa04150; hsa00982; hsa04115; hsa05218; hsa05160; hsa01524; hsa05214; hsa04310; hsa00980; hsa03320; hsa05140; hsa04721; hsa00983; hsa01521; hsa03018; hsa05132; hsa04144; hsa04022; hsa05204; hsa05164; hsa04080; hsa04911; hsa04512; hsa04211; hsa05235; hsa05410; hsa05032; hsa04658; hsa05323; hsa04350; hsa05167; hsa05202; hsa05414; hsa00564; hsa05215; hsa01522; hsa04914; hsa05016; hsa05142; hsa05146; hsa04510; hsa04620; hsa04660; hsa05169; hsa04922; hsa04659; hsa05205; hsa04931; hsa04010; hsa05145; hsa04724; hsa04726; hsa04024; hsa04722; hsa04935; hsa04142; hsa04611; hsa04380; hsa04926; hsa00230; hsa04068; hsa04728; hsa05165; hsa00190; hsa04120; hsa04210; hsa04140; hsa04371; hsa04910; hsa05162; hsa04514; hsa04151; hsa04723; hsa04932; hsa05226; hsa04390; hsa04934; hsa04218; hsa04217; hsa04630; hsa05161; hsa03013; hsa04360; hsa04621; hsa05034; hsa05206; hsa05130; hsa05170; hsa05166; hsa05163; hsa04714; hsa05168; hsa04060\n",
       "2 hsa05144; hsa04650; hsa00280; hsa04137; hsa01210; hsa00770; hsa00514; hsa04068; hsa05322; hsa00650; hsa04371; hsa00030; hsa04136; hsa00051; hsa04130; hsa00500; hsa04217; hsa03013; hsa05225; hsa05332; hsa04621; hsa05034; hsa04151; hsa00270; hsa00510; hsa04340; hsa04510; hsa05203; hsa00480; hsa04810; hsa05166; hsa00970; hsa05230; hsa04917; hsa00982; hsa04115; hsa04976; hsa05218; hsa01524; hsa01230; hsa00980; hsa05412; hsa04612; hsa04721; hsa00983; hsa03018; hsa05204; hsa04260; hsa04911; hsa04727; hsa05410; hsa05414; hsa03008; hsa04922; hsa04928; hsa04931; hsa04668; hsa04670; hsa04722; hsa04152; hsa04110; hsa00230; hsa04270; hsa03040; hsa04120; hsa04140; hsa04910; hsa05162; hsa05418; hsa05224; hsa04261; hsa05226; hsa04390; hsa04218; hsa04310; hsa04630; hsa04022; hsa04530; hsa05167; hsa05202; hsa05169; hsa05205; hsa04015; hsa04714; hsa04014; hsa04010; hsa05206; hsa05165                                                                                                                                                                                                                                                                                                                                                                                                                                                                                                                                                                                                                                                                                                                                                                                                                                                                                                                                              "
      ]
     },
     "metadata": {},
     "output_type": "display_data"
    }
   ],
   "source": [
    "head(mod_enrich)[1:2,]"
   ]
  },
  {
   "cell_type": "markdown",
   "metadata": {},
   "source": [
    "<h1 id = \"15\">15 save data </h1>"
   ]
  },
  {
   "cell_type": "code",
   "execution_count": 47,
   "metadata": {},
   "outputs": [],
   "source": [
    "save(AllgeneName,  TFName,  AllgeneName_TF_LncRNA,  LncRNAName, mod1, mod2,Select1, Select2,TargetNodes,TargetNodes2, gene,gene2, MustIn, OrIn1, OrIn2,mod2_Relationships,mod_enrich, file = \"moduleForchr12.RData\")"
   ]
  },
  {
   "cell_type": "code",
   "execution_count": null,
   "metadata": {},
   "outputs": [],
   "source": []
  }
 ],
 "metadata": {
  "kernelspec": {
   "display_name": "R",
   "language": "R",
   "name": "ir"
  },
  "language_info": {
   "codemirror_mode": "r",
   "file_extension": ".r",
   "mimetype": "text/x-r-source",
   "name": "R",
   "pygments_lexer": "r",
   "version": "3.6.1"
  },
  "toc": {
   "base_numbering": 1,
   "nav_menu": {},
   "number_sections": true,
   "sideBar": true,
   "skip_h1_title": false,
   "title_cell": "Table of Contents",
   "title_sidebar": "Contents",
   "toc_cell": false,
   "toc_position": {},
   "toc_section_display": true,
   "toc_window_display": true
  }
 },
 "nbformat": 4,
 "nbformat_minor": 2
}
