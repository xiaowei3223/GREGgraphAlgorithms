{
 "cells": [
  {
   "cell_type": "markdown",
   "metadata": {},
   "source": [
    "This task uses GREG Bigbin as database.\n",
    "At first, we still need to start neo4j/GREG, if you don't know how to do it, please refer to [my workshop2 about graph Algorithms](https://nbviewer.jupyter.org/github/xiaowei3223/GREGgraphAlgorithms/blob/master/workshop2/GREG_Algorithms.ipynb) to learn for start neo4j/GREG."
   ]
  },
  {
   "cell_type": "markdown",
   "metadata": {},
   "source": [
    "[1. Number of nodes of each type (TF, chr1, etc)](#1)\n",
    "\n",
    "[2. Number of relationships of each type (bind, etc)](#2)\n",
    "\n",
    "[3. List of hubs for chr12 (a hub is a node with a high degree)](#3)\n",
    "\n",
    "[4. Degree distribution for chr12 (GREG-min)](#4)\n",
    "\n",
    "[5. Modules for chromosome 12](#5)\n",
    "\n",
    "[6. Annotate all modules with the genes they contain in their bins](#6)\n",
    "\n",
    "[6.1  learn how to get the genes ](#6.1)\n",
    "\n",
    "[6.2  Get genes in each modules ](#6.2)\n",
    "\n",
    "[6.3  enriched modules in some KEGG pathway or GO term.](#6.3)\n",
    "\n",
    "[ 6.3.1 Enrich GO ](#6.3.1)\n",
    "\n",
    "[ 6.3.2 Enrich KEGG](#6.3.2)\n",
    "\n",
    "[7. Get All genes names](#7)\n",
    "\n",
    "[ 8. Find the modules that contain the gene \"NANOG\" and report all the nodes and relationships inside such modules. Also, report if they are enriched in some KEGG pathway or GO term . ](#8)\n",
    "\n",
    "[ Step1： Find out those nodes about target genes](#8.1)\n",
    "\n",
    "[ Step2: To get modules which includes target genes](#8.2)\n",
    "\n",
    "[ Step3: build a function to get relationships during nodes in each community(module)](#8.3)\n",
    "\n",
    "[ step4: get relationships during nodes in each community(module)](#8.4)\n",
    "\n",
    "[9. Select the modules that include NANOG AND CTCF AND EP300 AND POLR2A AND YY1 AND cohesin (RAD21, SMC3, OR STAG1) AND mediator (MED1 or MED12).](#9)\n",
    "\n",
    "[ Step1: Get nodes in all gene names in chromosomes,TF and LncRNA.](#9.1)\n",
    "\n",
    "[ Step2: A vector about out genes.](#9.2)\n",
    "\n",
    "[ Step3: Create a function `geneMatchIndex` for find out those nodes that genes we want.](#9.3)\n",
    "\n",
    "[ Step4: Find out those nodes that genes we want.](#9.4)\n",
    "\n",
    "[ Step5: To get modules which includes target genes](#9.5)\n",
    "\n",
    "[ Step6: Build a function to judge which modules is we want.](#9.6)\n",
    "\n",
    "[ Step7: Select those mudules as we want](#9.7)\n",
    "\n",
    "[ Step8: get relationships during nodes in each community(module)](#9.8)\n",
    "\n",
    "[10  save all results](#10)"
   ]
  },
  {
   "cell_type": "markdown",
   "metadata": {},
   "source": [
    "Now, we use `RNeo4j` package to get all the results of the task."
   ]
  },
  {
   "cell_type": "code",
   "execution_count": 1,
   "metadata": {},
   "outputs": [],
   "source": [
    "#connect neo4j with RNeo4j\n",
    "library(RNeo4j)\n",
    "\n",
    "graph = startGraph(\"http://localhost:7474/db/data/\", username=\"neo4j\", password=\"xiaowei\")"
   ]
  },
  {
   "cell_type": "code",
   "execution_count": 2,
   "metadata": {},
   "outputs": [
    {
     "name": "stderr",
     "output_type": "stream",
     "text": [
      "Your code contains a unicode char which cannot be displayed in your\n",
      "current locale and R will silently convert it to an escaped form when the\n",
      "R kernel executes this code. This can lead to subtle errors if you use\n",
      "such chars to do comparisons. For more information, please see\n",
      "https://github.com/IRkernel/repr/wiki/Problems-with-unicode-on-windowsRegistered S3 method overwritten by 'grid':\n",
      "  method     from  \n",
      "  print.path RNeo4j\n"
     ]
    }
   ],
   "source": [
    "#---define the backgroup of plot\n",
    "library(ggplot2)\n",
    "backgroup <-   theme(axis.text.x = element_text(vjust = 0.5, hjust = 1, angle = 90 ),\n",
    "                     plot.title = element_text(face =\"bold\" ,hjust = 0.5),\n",
    "                     panel.grid.major = element_blank(), #删除网格线\n",
    "                     panel.grid.minor = element_blank(), #删除网格线\n",
    "                     panel.background=element_rect(fill='transparent',color =\"gray\"))"
   ]
  },
  {
   "cell_type": "markdown",
   "metadata": {},
   "source": [
    "<h1 id='1'>1. Number of nodes of each type (TF, chr1, etc)<h1>"
   ]
  },
  {
   "cell_type": "markdown",
   "metadata": {},
   "source": [
    "Number of the allnode is 1267023."
   ]
  },
  {
   "cell_type": "code",
   "execution_count": 3,
   "metadata": {},
   "outputs": [
    {
     "data": {
      "text/html": [
       "<table>\n",
       "<caption>A data.frame: 1 × 1</caption>\n",
       "<thead>\n",
       "\t<tr><th scope=col>AllNodes</th></tr>\n",
       "\t<tr><th scope=col>&lt;int&gt;</th></tr>\n",
       "</thead>\n",
       "<tbody>\n",
       "\t<tr><td>1267023</td></tr>\n",
       "</tbody>\n",
       "</table>\n"
      ],
      "text/latex": [
       "A data.frame: 1 × 1\n",
       "\\begin{tabular}{r|l}\n",
       " AllNodes\\\\\n",
       " <int>\\\\\n",
       "\\hline\n",
       "\t 1267023\\\\\n",
       "\\end{tabular}\n"
      ],
      "text/markdown": [
       "\n",
       "A data.frame: 1 × 1\n",
       "\n",
       "| AllNodes &lt;int&gt; |\n",
       "|---|\n",
       "| 1267023 |\n",
       "\n"
      ],
      "text/plain": [
       "  AllNodes\n",
       "1 1267023 "
      ]
     },
     "metadata": {},
     "output_type": "display_data"
    }
   ],
   "source": [
    "cypher(graph, query =\"MATCH (n) RETURN count(n) as AllNodes\" )"
   ]
  },
  {
   "cell_type": "code",
   "execution_count": 4,
   "metadata": {},
   "outputs": [],
   "source": [
    "query = \"MATCH (n) RETURN distinct labels(n) as label, count(labels(n)) as count\"\n",
    "\n",
    "labels <- cypher(graph,query) "
   ]
  },
  {
   "cell_type": "code",
   "execution_count": 5,
   "metadata": {},
   "outputs": [
    {
     "data": {
      "text/html": [
       "<table>\n",
       "<caption>A data.frame: 50 × 2</caption>\n",
       "<thead>\n",
       "\t<tr><th scope=col>label</th><th scope=col>count</th></tr>\n",
       "\t<tr><th scope=col>&lt;chr&gt;</th><th scope=col>&lt;int&gt;</th></tr>\n",
       "</thead>\n",
       "<tbody>\n",
       "\t<tr><td>chr1       </td><td>  1245</td></tr>\n",
       "\t<tr><td>chr2       </td><td>  1211</td></tr>\n",
       "\t<tr><td>chr3       </td><td>   992</td></tr>\n",
       "\t<tr><td>chr4       </td><td>   951</td></tr>\n",
       "\t<tr><td>chr5       </td><td>   908</td></tr>\n",
       "\t<tr><td>chr6       </td><td>   854</td></tr>\n",
       "\t<tr><td>chr7       </td><td>   797</td></tr>\n",
       "\t<tr><td>chr8       </td><td>   726</td></tr>\n",
       "\t<tr><td>chr9       </td><td>   692</td></tr>\n",
       "\t<tr><td>chr10      </td><td>   669</td></tr>\n",
       "\t<tr><td>chr11      </td><td>   676</td></tr>\n",
       "\t<tr><td>chr12      </td><td>   667</td></tr>\n",
       "\t<tr><td>chr13      </td><td>   572</td></tr>\n",
       "\t<tr><td>chr14      </td><td>   535</td></tr>\n",
       "\t<tr><td>chr15      </td><td>   510</td></tr>\n",
       "\t<tr><td>chr16      </td><td>   452</td></tr>\n",
       "\t<tr><td>chr17      </td><td>   417</td></tr>\n",
       "\t<tr><td>chr18      </td><td>   402</td></tr>\n",
       "\t<tr><td>chr19      </td><td>   293</td></tr>\n",
       "\t<tr><td>chr20      </td><td>   322</td></tr>\n",
       "\t<tr><td>chr21      </td><td>   234</td></tr>\n",
       "\t<tr><td>chr22      </td><td>   255</td></tr>\n",
       "\t<tr><td>chrX       </td><td>   781</td></tr>\n",
       "\t<tr><td>chrY       </td><td>   287</td></tr>\n",
       "\t<tr><td>TF         </td><td>   261</td></tr>\n",
       "\t<tr><td>chr1_Range </td><td>127334</td></tr>\n",
       "\t<tr><td>chr2_Range </td><td>106646</td></tr>\n",
       "\t<tr><td>chr3_Range </td><td> 77198</td></tr>\n",
       "\t<tr><td>chr4_Range </td><td> 47295</td></tr>\n",
       "\t<tr><td>chr5_Range </td><td> 66077</td></tr>\n",
       "\t<tr><td>chr6_Range </td><td> 76812</td></tr>\n",
       "\t<tr><td>chr7_Range </td><td> 58335</td></tr>\n",
       "\t<tr><td>chr8_Range </td><td> 56539</td></tr>\n",
       "\t<tr><td>chr9_Range </td><td> 54826</td></tr>\n",
       "\t<tr><td>chr10_Range</td><td> 61085</td></tr>\n",
       "\t<tr><td>chr11_Range</td><td> 66916</td></tr>\n",
       "\t<tr><td>chr12_Range</td><td> 62708</td></tr>\n",
       "\t<tr><td>chr13_Range</td><td> 26761</td></tr>\n",
       "\t<tr><td>chr14_Range</td><td> 40299</td></tr>\n",
       "\t<tr><td>chr15_Range</td><td> 47826</td></tr>\n",
       "\t<tr><td>chr16_Range</td><td> 45602</td></tr>\n",
       "\t<tr><td>chr17_Range</td><td> 64562</td></tr>\n",
       "\t<tr><td>chr18_Range</td><td> 25941</td></tr>\n",
       "\t<tr><td>chr19_Range</td><td> 37520</td></tr>\n",
       "\t<tr><td>chr20_Range</td><td> 37620</td></tr>\n",
       "\t<tr><td>chr21_Range</td><td> 18740</td></tr>\n",
       "\t<tr><td>chr22_Range</td><td> 26476</td></tr>\n",
       "\t<tr><td>chrX_Range </td><td> 17992</td></tr>\n",
       "\t<tr><td>chrY_Range </td><td>   169</td></tr>\n",
       "\t<tr><td>LncRNA     </td><td>    35</td></tr>\n",
       "</tbody>\n",
       "</table>\n"
      ],
      "text/latex": [
       "A data.frame: 50 × 2\n",
       "\\begin{tabular}{r|ll}\n",
       " label & count\\\\\n",
       " <chr> & <int>\\\\\n",
       "\\hline\n",
       "\t chr1        &   1245\\\\\n",
       "\t chr2        &   1211\\\\\n",
       "\t chr3        &    992\\\\\n",
       "\t chr4        &    951\\\\\n",
       "\t chr5        &    908\\\\\n",
       "\t chr6        &    854\\\\\n",
       "\t chr7        &    797\\\\\n",
       "\t chr8        &    726\\\\\n",
       "\t chr9        &    692\\\\\n",
       "\t chr10       &    669\\\\\n",
       "\t chr11       &    676\\\\\n",
       "\t chr12       &    667\\\\\n",
       "\t chr13       &    572\\\\\n",
       "\t chr14       &    535\\\\\n",
       "\t chr15       &    510\\\\\n",
       "\t chr16       &    452\\\\\n",
       "\t chr17       &    417\\\\\n",
       "\t chr18       &    402\\\\\n",
       "\t chr19       &    293\\\\\n",
       "\t chr20       &    322\\\\\n",
       "\t chr21       &    234\\\\\n",
       "\t chr22       &    255\\\\\n",
       "\t chrX        &    781\\\\\n",
       "\t chrY        &    287\\\\\n",
       "\t TF          &    261\\\\\n",
       "\t chr1\\_Range  & 127334\\\\\n",
       "\t chr2\\_Range  & 106646\\\\\n",
       "\t chr3\\_Range  &  77198\\\\\n",
       "\t chr4\\_Range  &  47295\\\\\n",
       "\t chr5\\_Range  &  66077\\\\\n",
       "\t chr6\\_Range  &  76812\\\\\n",
       "\t chr7\\_Range  &  58335\\\\\n",
       "\t chr8\\_Range  &  56539\\\\\n",
       "\t chr9\\_Range  &  54826\\\\\n",
       "\t chr10\\_Range &  61085\\\\\n",
       "\t chr11\\_Range &  66916\\\\\n",
       "\t chr12\\_Range &  62708\\\\\n",
       "\t chr13\\_Range &  26761\\\\\n",
       "\t chr14\\_Range &  40299\\\\\n",
       "\t chr15\\_Range &  47826\\\\\n",
       "\t chr16\\_Range &  45602\\\\\n",
       "\t chr17\\_Range &  64562\\\\\n",
       "\t chr18\\_Range &  25941\\\\\n",
       "\t chr19\\_Range &  37520\\\\\n",
       "\t chr20\\_Range &  37620\\\\\n",
       "\t chr21\\_Range &  18740\\\\\n",
       "\t chr22\\_Range &  26476\\\\\n",
       "\t chrX\\_Range  &  17992\\\\\n",
       "\t chrY\\_Range  &    169\\\\\n",
       "\t LncRNA      &     35\\\\\n",
       "\\end{tabular}\n"
      ],
      "text/markdown": [
       "\n",
       "A data.frame: 50 × 2\n",
       "\n",
       "| label &lt;chr&gt; | count &lt;int&gt; |\n",
       "|---|---|\n",
       "| chr1        |   1245 |\n",
       "| chr2        |   1211 |\n",
       "| chr3        |    992 |\n",
       "| chr4        |    951 |\n",
       "| chr5        |    908 |\n",
       "| chr6        |    854 |\n",
       "| chr7        |    797 |\n",
       "| chr8        |    726 |\n",
       "| chr9        |    692 |\n",
       "| chr10       |    669 |\n",
       "| chr11       |    676 |\n",
       "| chr12       |    667 |\n",
       "| chr13       |    572 |\n",
       "| chr14       |    535 |\n",
       "| chr15       |    510 |\n",
       "| chr16       |    452 |\n",
       "| chr17       |    417 |\n",
       "| chr18       |    402 |\n",
       "| chr19       |    293 |\n",
       "| chr20       |    322 |\n",
       "| chr21       |    234 |\n",
       "| chr22       |    255 |\n",
       "| chrX        |    781 |\n",
       "| chrY        |    287 |\n",
       "| TF          |    261 |\n",
       "| chr1_Range  | 127334 |\n",
       "| chr2_Range  | 106646 |\n",
       "| chr3_Range  |  77198 |\n",
       "| chr4_Range  |  47295 |\n",
       "| chr5_Range  |  66077 |\n",
       "| chr6_Range  |  76812 |\n",
       "| chr7_Range  |  58335 |\n",
       "| chr8_Range  |  56539 |\n",
       "| chr9_Range  |  54826 |\n",
       "| chr10_Range |  61085 |\n",
       "| chr11_Range |  66916 |\n",
       "| chr12_Range |  62708 |\n",
       "| chr13_Range |  26761 |\n",
       "| chr14_Range |  40299 |\n",
       "| chr15_Range |  47826 |\n",
       "| chr16_Range |  45602 |\n",
       "| chr17_Range |  64562 |\n",
       "| chr18_Range |  25941 |\n",
       "| chr19_Range |  37520 |\n",
       "| chr20_Range |  37620 |\n",
       "| chr21_Range |  18740 |\n",
       "| chr22_Range |  26476 |\n",
       "| chrX_Range  |  17992 |\n",
       "| chrY_Range  |    169 |\n",
       "| LncRNA      |     35 |\n",
       "\n"
      ],
      "text/plain": [
       "   label       count \n",
       "1  chr1          1245\n",
       "2  chr2          1211\n",
       "3  chr3           992\n",
       "4  chr4           951\n",
       "5  chr5           908\n",
       "6  chr6           854\n",
       "7  chr7           797\n",
       "8  chr8           726\n",
       "9  chr9           692\n",
       "10 chr10          669\n",
       "11 chr11          676\n",
       "12 chr12          667\n",
       "13 chr13          572\n",
       "14 chr14          535\n",
       "15 chr15          510\n",
       "16 chr16          452\n",
       "17 chr17          417\n",
       "18 chr18          402\n",
       "19 chr19          293\n",
       "20 chr20          322\n",
       "21 chr21          234\n",
       "22 chr22          255\n",
       "23 chrX           781\n",
       "24 chrY           287\n",
       "25 TF             261\n",
       "26 chr1_Range  127334\n",
       "27 chr2_Range  106646\n",
       "28 chr3_Range   77198\n",
       "29 chr4_Range   47295\n",
       "30 chr5_Range   66077\n",
       "31 chr6_Range   76812\n",
       "32 chr7_Range   58335\n",
       "33 chr8_Range   56539\n",
       "34 chr9_Range   54826\n",
       "35 chr10_Range  61085\n",
       "36 chr11_Range  66916\n",
       "37 chr12_Range  62708\n",
       "38 chr13_Range  26761\n",
       "39 chr14_Range  40299\n",
       "40 chr15_Range  47826\n",
       "41 chr16_Range  45602\n",
       "42 chr17_Range  64562\n",
       "43 chr18_Range  25941\n",
       "44 chr19_Range  37520\n",
       "45 chr20_Range  37620\n",
       "46 chr21_Range  18740\n",
       "47 chr22_Range  26476\n",
       "48 chrX_Range   17992\n",
       "49 chrY_Range     169\n",
       "50 LncRNA          35"
      ]
     },
     "metadata": {},
     "output_type": "display_data"
    }
   ],
   "source": [
    "labels"
   ]
  },
  {
   "cell_type": "code",
   "execution_count": 6,
   "metadata": {},
   "outputs": [
    {
     "data": {
      "image/png": "[encoded data removed]",
      "text/plain": [
       "plot without title"
      ]
     },
     "metadata": {},
     "output_type": "display_data"
    }
   ],
   "source": [
    "labels$label <- factor(labels$label，levels = c(labels$label))\n",
    "par(mfrow=c(1,2))\n",
    "\n",
    "p = function(data){\n",
    "  library(ggplot2)\n",
    "  ggplot() + \n",
    "    geom_bar(aes(x = data$label, y = data$count),\n",
    "             stat=\"identity\", fill = \"lightblue\")+ \n",
    "    labs(x=\"label\",y = \"count\")+ backgroup\n",
    "}\n",
    "par(mfrow=c(1,2))\n",
    "p1 <- p(labels[c(1:25,50),]) + ggtitle(\"Numbers of Nodes with Chromosome Labels \")\n",
    "p2 <- p(labels[26:49,]) + ggtitle(\"Numbers of Nodes with Chromosome Range Labels\")\n",
    "\n",
    "cowplot::plot_grid(p1, p2, labels = c(\"A\", \"B\"), ncol = 1)"
   ]
  },
  {
   "cell_type": "code",
   "execution_count": 7,
   "metadata": {},
   "outputs": [
    {
     "data": {
      "text/html": [
       "<table>\n",
       "<caption>A data.frame: 1 × 1</caption>\n",
       "<thead>\n",
       "\t<tr><th scope=col>ALLNODES</th></tr>\n",
       "\t<tr><th scope=col>&lt;int&gt;</th></tr>\n",
       "</thead>\n",
       "<tbody>\n",
       "\t<tr><td>1267023</td></tr>\n",
       "</tbody>\n",
       "</table>\n"
      ],
      "text/latex": [
       "A data.frame: 1 × 1\n",
       "\\begin{tabular}{r|l}\n",
       " ALLNODES\\\\\n",
       " <int>\\\\\n",
       "\\hline\n",
       "\t 1267023\\\\\n",
       "\\end{tabular}\n"
      ],
      "text/markdown": [
       "\n",
       "A data.frame: 1 × 1\n",
       "\n",
       "| ALLNODES &lt;int&gt; |\n",
       "|---|\n",
       "| 1267023 |\n",
       "\n"
      ],
      "text/plain": [
       "  ALLNODES\n",
       "1 1267023 "
      ]
     },
     "metadata": {},
     "output_type": "display_data"
    }
   ],
   "source": [
    "query = \"MATCH (n) return count(n) as ALLNODES\"\n",
    "cypher(graph, query)"
   ]
  },
  {
   "cell_type": "code",
   "execution_count": 8,
   "metadata": {},
   "outputs": [
    {
     "name": "stderr",
     "output_type": "stream",
     "text": [
      "Warning message in write.csv(labels, file = \"labels.csv\", sep = \",\", quote = F, :\n",
      "\"attempt to set 'col.names' ignored\"Warning message in write.csv(labels, file = \"labels.csv\", sep = \",\", quote = F, :\n",
      "\"attempt to set 'sep' ignored\""
     ]
    }
   ],
   "source": [
    "write.csv(labels, file = \"labels.csv\", sep=\",\",quote = F, col.names = TRUE, row.names = FALSE)"
   ]
  },
  {
   "cell_type": "markdown",
   "metadata": {},
   "source": [
    "To get `labels.csv` at [here](labels.csv)."
   ]
  },
  {
   "cell_type": "markdown",
   "metadata": {},
   "source": [
    "<h1 id='2'>2. Number of relationships of each type (bind, etc)<h1>"
   ]
  },
  {
   "cell_type": "markdown",
   "metadata": {},
   "source": [
    "To get numbers of relationships of each type."
   ]
  },
  {
   "cell_type": "code",
   "execution_count": 9,
   "metadata": {},
   "outputs": [],
   "source": [
    "query = \"MATCH ()-[r]->() RETURN type(r) as relationshipType, count(*) as count;\"\n",
    "\n",
    "relationshipType <- RNeo4j::cypher(graph,query)"
   ]
  },
  {
   "cell_type": "code",
   "execution_count": 10,
   "metadata": {},
   "outputs": [
    {
     "data": {
      "text/html": [
       "<table>\n",
       "<caption>A data.frame: 3 × 2</caption>\n",
       "<thead>\n",
       "\t<tr><th scope=col>relationshipType</th><th scope=col>count</th></tr>\n",
       "\t<tr><th scope=col>&lt;chr&gt;</th><th scope=col>&lt;int&gt;</th></tr>\n",
       "</thead>\n",
       "<tbody>\n",
       "\t<tr><td>Bind       </td><td>2372086</td></tr>\n",
       "\t<tr><td>Interaction</td><td>1781980</td></tr>\n",
       "\t<tr><td>Inclusion  </td><td>1322494</td></tr>\n",
       "</tbody>\n",
       "</table>\n"
      ],
      "text/latex": [
       "A data.frame: 3 × 2\n",
       "\\begin{tabular}{r|ll}\n",
       " relationshipType & count\\\\\n",
       " <chr> & <int>\\\\\n",
       "\\hline\n",
       "\t Bind        & 2372086\\\\\n",
       "\t Interaction & 1781980\\\\\n",
       "\t Inclusion   & 1322494\\\\\n",
       "\\end{tabular}\n"
      ],
      "text/markdown": [
       "\n",
       "A data.frame: 3 × 2\n",
       "\n",
       "| relationshipType &lt;chr&gt; | count &lt;int&gt; |\n",
       "|---|---|\n",
       "| Bind        | 2372086 |\n",
       "| Interaction | 1781980 |\n",
       "| Inclusion   | 1322494 |\n",
       "\n"
      ],
      "text/plain": [
       "  relationshipType count  \n",
       "1 Bind             2372086\n",
       "2 Interaction      1781980\n",
       "3 Inclusion        1322494"
      ]
     },
     "metadata": {},
     "output_type": "display_data"
    }
   ],
   "source": [
    "relationshipType"
   ]
  },
  {
   "cell_type": "markdown",
   "metadata": {},
   "source": [
    "To get numbers of relationships between two kinds of labels."
   ]
  },
  {
   "cell_type": "code",
   "execution_count": 11,
   "metadata": {},
   "outputs": [],
   "source": [
    "query <- \"MATCH (A)-[r]->(B) \n",
    "return labels(A) AS A, \n",
    "        type(r) AS relationshipType, \n",
    "        labels(B) AS B ,\n",
    "        count(r) AS count\"\n",
    "rel_details <- cypher(graph, query)"
   ]
  },
  {
   "cell_type": "code",
   "execution_count": 12,
   "metadata": {},
   "outputs": [
    {
     "data": {
      "text/html": [
       "<table>\n",
       "<caption>A data.frame: 6 × 4</caption>\n",
       "<thead>\n",
       "\t<tr><th scope=col>A</th><th scope=col>relationshipType</th><th scope=col>B</th><th scope=col>count</th></tr>\n",
       "\t<tr><th scope=col>&lt;chr&gt;</th><th scope=col>&lt;chr&gt;</th><th scope=col>&lt;chr&gt;</th><th scope=col>&lt;int&gt;</th></tr>\n",
       "</thead>\n",
       "<tbody>\n",
       "\t<tr><td>chr1</td><td>Inclusion</td><td>chr1_Range</td><td>134855</td></tr>\n",
       "\t<tr><td>chr2</td><td>Inclusion</td><td>chr2_Range</td><td>114769</td></tr>\n",
       "\t<tr><td>chr3</td><td>Inclusion</td><td>chr3_Range</td><td> 81332</td></tr>\n",
       "\t<tr><td>chr4</td><td>Inclusion</td><td>chr4_Range</td><td> 49491</td></tr>\n",
       "\t<tr><td>chr5</td><td>Inclusion</td><td>chr5_Range</td><td> 69435</td></tr>\n",
       "\t<tr><td>chr6</td><td>Inclusion</td><td>chr6_Range</td><td> 80840</td></tr>\n",
       "</tbody>\n",
       "</table>\n"
      ],
      "text/latex": [
       "A data.frame: 6 × 4\n",
       "\\begin{tabular}{r|llll}\n",
       " A & relationshipType & B & count\\\\\n",
       " <chr> & <chr> & <chr> & <int>\\\\\n",
       "\\hline\n",
       "\t chr1 & Inclusion & chr1\\_Range & 134855\\\\\n",
       "\t chr2 & Inclusion & chr2\\_Range & 114769\\\\\n",
       "\t chr3 & Inclusion & chr3\\_Range &  81332\\\\\n",
       "\t chr4 & Inclusion & chr4\\_Range &  49491\\\\\n",
       "\t chr5 & Inclusion & chr5\\_Range &  69435\\\\\n",
       "\t chr6 & Inclusion & chr6\\_Range &  80840\\\\\n",
       "\\end{tabular}\n"
      ],
      "text/markdown": [
       "\n",
       "A data.frame: 6 × 4\n",
       "\n",
       "| A &lt;chr&gt; | relationshipType &lt;chr&gt; | B &lt;chr&gt; | count &lt;int&gt; |\n",
       "|---|---|---|---|\n",
       "| chr1 | Inclusion | chr1_Range | 134855 |\n",
       "| chr2 | Inclusion | chr2_Range | 114769 |\n",
       "| chr3 | Inclusion | chr3_Range |  81332 |\n",
       "| chr4 | Inclusion | chr4_Range |  49491 |\n",
       "| chr5 | Inclusion | chr5_Range |  69435 |\n",
       "| chr6 | Inclusion | chr6_Range |  80840 |\n",
       "\n"
      ],
      "text/plain": [
       "  A    relationshipType B          count \n",
       "1 chr1 Inclusion        chr1_Range 134855\n",
       "2 chr2 Inclusion        chr2_Range 114769\n",
       "3 chr3 Inclusion        chr3_Range  81332\n",
       "4 chr4 Inclusion        chr4_Range  49491\n",
       "5 chr5 Inclusion        chr5_Range  69435\n",
       "6 chr6 Inclusion        chr6_Range  80840"
      ]
     },
     "metadata": {},
     "output_type": "display_data"
    }
   ],
   "source": [
    "head(rel_details)"
   ]
  },
  {
   "cell_type": "markdown",
   "metadata": {},
   "source": [
    "To see Bind relatioships"
   ]
  },
  {
   "cell_type": "code",
   "execution_count": 13,
   "metadata": {},
   "outputs": [],
   "source": [
    "#-------TF Bind chromosome---------------\n",
    "library(ggplot2)\n",
    "chr_level = c(paste0(\"chr\",1:22),\"chrX\", \"chrY\")\n",
    "BindRel <- rel_details[which(rel_details$relationshipType == \"Bind\"), ] \n",
    "BindRel_TF <- BindRel[which(BindRel$A == \"TF\"),]\n",
    "BindRel_TF$B <- factor(BindRel_TF$B, levels = chr_level)"
   ]
  },
  {
   "cell_type": "code",
   "execution_count": 14,
   "metadata": {},
   "outputs": [],
   "source": [
    "p3 <- ggplot() + \n",
    "      geom_bar(aes(x = BindRel_TF$B, y = BindRel_TF$count),\n",
    "               stat=\"identity\", fill = \"lightblue\")+ \n",
    "      labs(x=\"label\",y = \"count\")+\n",
    "      ggtitle(\"TF Bind Chromosome\") + backgroup"
   ]
  },
  {
   "cell_type": "code",
   "execution_count": 15,
   "metadata": {},
   "outputs": [],
   "source": [
    "#-------LncRNA Bind chromosome---------------\n",
    "BindRel_LncRNA <- BindRel[which(BindRel$A == \"LncRNA\"),]\n",
    "BindRel_LncRNA$B <- factor(BindRel_LncRNA$B, levels = chr_level)\n",
    "\n",
    "p4 <- ggplot() + \n",
    "      geom_bar(aes(x = BindRel_LncRNA$B, y = BindRel_LncRNA$count),\n",
    "               stat=\"identity\", fill = \"lightblue\")+ \n",
    "      labs(x=\"label\",y = \"count\")+\n",
    "      ggtitle(\"LncRNA Bind Chromosome\") + backgroup\n"
   ]
  },
  {
   "cell_type": "code",
   "execution_count": 16,
   "metadata": {},
   "outputs": [
    {
     "data": {
      "image/png": "[encoded data removed]",
      "text/plain": [
       "plot without title"
      ]
     },
     "metadata": {},
     "output_type": "display_data"
    }
   ],
   "source": [
    "#-------grouping plots-------------\n",
    "par(mfrow=c(1,2))\n",
    "cowplot::plot_grid(p3, p4, ncol = 1)"
   ]
  },
  {
   "cell_type": "markdown",
   "metadata": {},
   "source": [
    "To see the Inclusion relationships"
   ]
  },
  {
   "cell_type": "code",
   "execution_count": 17,
   "metadata": {},
   "outputs": [
    {
     "name": "stderr",
     "output_type": "stream",
     "text": [
      "Your code contains a unicode char which cannot be displayed in your\n",
      "current locale and R will silently convert it to an escaped form when the\n",
      "R kernel executes this code. This can lead to subtle errors if you use\n",
      "such chars to do comparisons. For more information, please see\n",
      "https://github.com/IRkernel/repr/wiki/Problems-with-unicode-on-windows"
     ]
    },
    {
     "data": {
      "image/png": "[encoded data removed]",
      "text/plain": [
       "plot without title"
      ]
     },
     "metadata": {},
     "output_type": "display_data"
    }
   ],
   "source": [
    "#--------chr inclusion chr_Range----------------------------\n",
    "InclusionRel <- rel_details[rel_details$relationshipType ==\"Inclusion\",]\n",
    "\n",
    "InclusionRel$rel <- apply(InclusionRel[1:3], 1， FUN = function(X){ y = paste0(X[1],\"-\",X[2],\"->\",X[3]) })\n",
    "chrRange_level <- c(paste0(\"chr\",1:22,\"-Inclusion->chr\",1:22,\"_Range\"),\n",
    "                    \"chrX-Inclusion->chrX_Range\",\n",
    "                    \"chrY-Inclusion->chrY_Range\")\n",
    "InclusionRel$rel <- factor(InclusionRel$rel, levels = chrRange_level)\n",
    "\n",
    "ggplot() + \n",
    "  geom_bar(aes(x = InclusionRel$rel, y = InclusionRel$count),\n",
    "           stat=\"identity\", fill = \"lightblue\")+ \n",
    "  labs(x=\"Relationship\",y = \"count\")+\n",
    "  ggtitle(\"Chromosome Inclusion Chromosome Range\") + backgroup +  #设置背景为白色\n",
    "  coord_flip()+ #将条形图坐标轴转换过来变成横向条形图\n",
    "geom_text(aes(x = InclusionRel$rel, y = InclusionRel$count, label=InclusionRel$count), size = 2.5,hjust=-0.5 )\n"
   ]
  },
  {
   "cell_type": "markdown",
   "metadata": {},
   "source": [
    "To see the Interaction relationships"
   ]
  },
  {
   "cell_type": "markdown",
   "metadata": {},
   "source": [
    "I don't how to create a picture for the Interaction relationships, so I show you its data."
   ]
  },
  {
   "cell_type": "code",
   "execution_count": 18,
   "metadata": {},
   "outputs": [
    {
     "data": {
      "text/html": [
       "<table>\n",
       "<caption>A data.frame: 227 × 4</caption>\n",
       "<thead>\n",
       "\t<tr><th></th><th scope=col>A</th><th scope=col>relationshipType</th><th scope=col>B</th><th scope=col>count</th></tr>\n",
       "\t<tr><th></th><th scope=col>&lt;chr&gt;</th><th scope=col>&lt;chr&gt;</th><th scope=col>&lt;chr&gt;</th><th scope=col>&lt;int&gt;</th></tr>\n",
       "</thead>\n",
       "<tbody>\n",
       "\t<tr><th scope=row>49</th><td>TF        </td><td>Interaction</td><td>TF         </td><td>  2488</td></tr>\n",
       "\t<tr><th scope=row>50</th><td>chr1_Range</td><td>Interaction</td><td>chr1_Range </td><td>166397</td></tr>\n",
       "\t<tr><th scope=row>51</th><td>chr1_Range</td><td>Interaction</td><td>chr2_Range </td><td>    12</td></tr>\n",
       "\t<tr><th scope=row>52</th><td>chr1_Range</td><td>Interaction</td><td>chr9_Range </td><td>     3</td></tr>\n",
       "\t<tr><th scope=row>53</th><td>chr1_Range</td><td>Interaction</td><td>chr5_Range </td><td>    14</td></tr>\n",
       "\t<tr><th scope=row>54</th><td>chr1_Range</td><td>Interaction</td><td>chr4_Range </td><td>     6</td></tr>\n",
       "\t<tr><th scope=row>55</th><td>chr1_Range</td><td>Interaction</td><td>chr3_Range </td><td>    12</td></tr>\n",
       "\t<tr><th scope=row>56</th><td>chr1_Range</td><td>Interaction</td><td>chr17_Range</td><td>    12</td></tr>\n",
       "\t<tr><th scope=row>57</th><td>chr1_Range</td><td>Interaction</td><td>chr7_Range </td><td>     8</td></tr>\n",
       "\t<tr><th scope=row>58</th><td>chr1_Range</td><td>Interaction</td><td>chr15_Range</td><td>     6</td></tr>\n",
       "\t<tr><th scope=row>59</th><td>chr1_Range</td><td>Interaction</td><td>chr16_Range</td><td>     3</td></tr>\n",
       "\t<tr><th scope=row>60</th><td>chr1_Range</td><td>Interaction</td><td>chr10_Range</td><td>     5</td></tr>\n",
       "\t<tr><th scope=row>61</th><td>chr1_Range</td><td>Interaction</td><td>chr13_Range</td><td>     2</td></tr>\n",
       "\t<tr><th scope=row>62</th><td>chr1_Range</td><td>Interaction</td><td>chr8_Range </td><td>    11</td></tr>\n",
       "\t<tr><th scope=row>63</th><td>chr1_Range</td><td>Interaction</td><td>chr12_Range</td><td>     9</td></tr>\n",
       "\t<tr><th scope=row>64</th><td>chr1_Range</td><td>Interaction</td><td>chr11_Range</td><td>     2</td></tr>\n",
       "\t<tr><th scope=row>65</th><td>chr1_Range</td><td>Interaction</td><td>chr14_Range</td><td>     3</td></tr>\n",
       "\t<tr><th scope=row>66</th><td>chr1_Range</td><td>Interaction</td><td>chr6_Range </td><td>     4</td></tr>\n",
       "\t<tr><th scope=row>67</th><td>chr1_Range</td><td>Interaction</td><td>chr19_Range</td><td>     2</td></tr>\n",
       "\t<tr><th scope=row>68</th><td>chr1_Range</td><td>Interaction</td><td>chr20_Range</td><td>    11</td></tr>\n",
       "\t<tr><th scope=row>69</th><td>chr1_Range</td><td>Interaction</td><td>chrX_Range </td><td>     4</td></tr>\n",
       "\t<tr><th scope=row>70</th><td>chr1_Range</td><td>Interaction</td><td>chr21_Range</td><td>     1</td></tr>\n",
       "\t<tr><th scope=row>71</th><td>chr2_Range</td><td>Interaction</td><td>chr2_Range </td><td>136934</td></tr>\n",
       "\t<tr><th scope=row>72</th><td>chr2_Range</td><td>Interaction</td><td>chr21_Range</td><td>     4</td></tr>\n",
       "\t<tr><th scope=row>73</th><td>chr2_Range</td><td>Interaction</td><td>chr11_Range</td><td>     1</td></tr>\n",
       "\t<tr><th scope=row>74</th><td>chr2_Range</td><td>Interaction</td><td>chr8_Range </td><td>    13</td></tr>\n",
       "\t<tr><th scope=row>75</th><td>chr2_Range</td><td>Interaction</td><td>chr6_Range </td><td>     5</td></tr>\n",
       "\t<tr><th scope=row>76</th><td>chr2_Range</td><td>Interaction</td><td>chr20_Range</td><td>    10</td></tr>\n",
       "\t<tr><th scope=row>77</th><td>chr2_Range</td><td>Interaction</td><td>chr7_Range </td><td>    11</td></tr>\n",
       "\t<tr><th scope=row>78</th><td>chr2_Range</td><td>Interaction</td><td>chr9_Range </td><td>     5</td></tr>\n",
       "\t<tr><th scope=row>...</th><td>...</td><td>...</td><td>...</td><td>...</td></tr>\n",
       "\t<tr><th scope=row>246</th><td>chr18_Range</td><td>Interaction</td><td>chr8_Range </td><td>    1</td></tr>\n",
       "\t<tr><th scope=row>247</th><td>chr18_Range</td><td>Interaction</td><td>chr6_Range </td><td>    1</td></tr>\n",
       "\t<tr><th scope=row>248</th><td>chr19_Range</td><td>Interaction</td><td>chr19_Range</td><td>69619</td></tr>\n",
       "\t<tr><th scope=row>249</th><td>chr19_Range</td><td>Interaction</td><td>chr3_Range </td><td>    1</td></tr>\n",
       "\t<tr><th scope=row>250</th><td>chr19_Range</td><td>Interaction</td><td>chr20_Range</td><td>    2</td></tr>\n",
       "\t<tr><th scope=row>251</th><td>chr19_Range</td><td>Interaction</td><td>chr2_Range </td><td>    3</td></tr>\n",
       "\t<tr><th scope=row>252</th><td>chr19_Range</td><td>Interaction</td><td>chr6_Range </td><td>    1</td></tr>\n",
       "\t<tr><th scope=row>253</th><td>chr19_Range</td><td>Interaction</td><td>chr7_Range </td><td>    1</td></tr>\n",
       "\t<tr><th scope=row>254</th><td>chr19_Range</td><td>Interaction</td><td>chr8_Range </td><td>    1</td></tr>\n",
       "\t<tr><th scope=row>255</th><td>chr20_Range</td><td>Interaction</td><td>chr3_Range </td><td>   26</td></tr>\n",
       "\t<tr><th scope=row>256</th><td>chr20_Range</td><td>Interaction</td><td>chr9_Range </td><td>   10</td></tr>\n",
       "\t<tr><th scope=row>257</th><td>chr20_Range</td><td>Interaction</td><td>chr8_Range </td><td>    6</td></tr>\n",
       "\t<tr><th scope=row>258</th><td>chr20_Range</td><td>Interaction</td><td>chr7_Range </td><td>    8</td></tr>\n",
       "\t<tr><th scope=row>259</th><td>chr20_Range</td><td>Interaction</td><td>chr6_Range </td><td>    7</td></tr>\n",
       "\t<tr><th scope=row>260</th><td>chr20_Range</td><td>Interaction</td><td>chr5_Range </td><td>   11</td></tr>\n",
       "\t<tr><th scope=row>261</th><td>chr20_Range</td><td>Interaction</td><td>chr22_Range</td><td>    2</td></tr>\n",
       "\t<tr><th scope=row>262</th><td>chr20_Range</td><td>Interaction</td><td>chr4_Range </td><td>    5</td></tr>\n",
       "\t<tr><th scope=row>263</th><td>chr20_Range</td><td>Interaction</td><td>chr21_Range</td><td>    4</td></tr>\n",
       "\t<tr><th scope=row>264</th><td>chr20_Range</td><td>Interaction</td><td>chrX_Range </td><td>    6</td></tr>\n",
       "\t<tr><th scope=row>265</th><td>chr20_Range</td><td>Interaction</td><td>chr20_Range</td><td>65699</td></tr>\n",
       "\t<tr><th scope=row>266</th><td>chr21_Range</td><td>Interaction</td><td>chr8_Range </td><td>    4</td></tr>\n",
       "\t<tr><th scope=row>267</th><td>chr21_Range</td><td>Interaction</td><td>chr5_Range </td><td>    2</td></tr>\n",
       "\t<tr><th scope=row>268</th><td>chr21_Range</td><td>Interaction</td><td>chr21_Range</td><td>33968</td></tr>\n",
       "\t<tr><th scope=row>269</th><td>chr21_Range</td><td>Interaction</td><td>chr4_Range </td><td>    1</td></tr>\n",
       "\t<tr><th scope=row>270</th><td>chr21_Range</td><td>Interaction</td><td>chr3_Range </td><td>    3</td></tr>\n",
       "\t<tr><th scope=row>271</th><td>chr22_Range</td><td>Interaction</td><td>chr22_Range</td><td>55182</td></tr>\n",
       "\t<tr><th scope=row>272</th><td>chr22_Range</td><td>Interaction</td><td>chr7_Range </td><td>    1</td></tr>\n",
       "\t<tr><th scope=row>273</th><td>chr22_Range</td><td>Interaction</td><td>chr4_Range </td><td>    1</td></tr>\n",
       "\t<tr><th scope=row>274</th><td>chrX_Range </td><td>Interaction</td><td>chrX_Range </td><td>20308</td></tr>\n",
       "\t<tr><th scope=row>275</th><td>chrY_Range </td><td>Interaction</td><td>chrY_Range </td><td>  321</td></tr>\n",
       "</tbody>\n",
       "</table>\n"
      ],
      "text/latex": [
       "A data.frame: 227 × 4\n",
       "\\begin{tabular}{r|llll}\n",
       "  & A & relationshipType & B & count\\\\\n",
       "  & <chr> & <chr> & <chr> & <int>\\\\\n",
       "\\hline\n",
       "\t49 & TF         & Interaction & TF          &   2488\\\\\n",
       "\t50 & chr1\\_Range & Interaction & chr1\\_Range  & 166397\\\\\n",
       "\t51 & chr1\\_Range & Interaction & chr2\\_Range  &     12\\\\\n",
       "\t52 & chr1\\_Range & Interaction & chr9\\_Range  &      3\\\\\n",
       "\t53 & chr1\\_Range & Interaction & chr5\\_Range  &     14\\\\\n",
       "\t54 & chr1\\_Range & Interaction & chr4\\_Range  &      6\\\\\n",
       "\t55 & chr1\\_Range & Interaction & chr3\\_Range  &     12\\\\\n",
       "\t56 & chr1\\_Range & Interaction & chr17\\_Range &     12\\\\\n",
       "\t57 & chr1\\_Range & Interaction & chr7\\_Range  &      8\\\\\n",
       "\t58 & chr1\\_Range & Interaction & chr15\\_Range &      6\\\\\n",
       "\t59 & chr1\\_Range & Interaction & chr16\\_Range &      3\\\\\n",
       "\t60 & chr1\\_Range & Interaction & chr10\\_Range &      5\\\\\n",
       "\t61 & chr1\\_Range & Interaction & chr13\\_Range &      2\\\\\n",
       "\t62 & chr1\\_Range & Interaction & chr8\\_Range  &     11\\\\\n",
       "\t63 & chr1\\_Range & Interaction & chr12\\_Range &      9\\\\\n",
       "\t64 & chr1\\_Range & Interaction & chr11\\_Range &      2\\\\\n",
       "\t65 & chr1\\_Range & Interaction & chr14\\_Range &      3\\\\\n",
       "\t66 & chr1\\_Range & Interaction & chr6\\_Range  &      4\\\\\n",
       "\t67 & chr1\\_Range & Interaction & chr19\\_Range &      2\\\\\n",
       "\t68 & chr1\\_Range & Interaction & chr20\\_Range &     11\\\\\n",
       "\t69 & chr1\\_Range & Interaction & chrX\\_Range  &      4\\\\\n",
       "\t70 & chr1\\_Range & Interaction & chr21\\_Range &      1\\\\\n",
       "\t71 & chr2\\_Range & Interaction & chr2\\_Range  & 136934\\\\\n",
       "\t72 & chr2\\_Range & Interaction & chr21\\_Range &      4\\\\\n",
       "\t73 & chr2\\_Range & Interaction & chr11\\_Range &      1\\\\\n",
       "\t74 & chr2\\_Range & Interaction & chr8\\_Range  &     13\\\\\n",
       "\t75 & chr2\\_Range & Interaction & chr6\\_Range  &      5\\\\\n",
       "\t76 & chr2\\_Range & Interaction & chr20\\_Range &     10\\\\\n",
       "\t77 & chr2\\_Range & Interaction & chr7\\_Range  &     11\\\\\n",
       "\t78 & chr2\\_Range & Interaction & chr9\\_Range  &      5\\\\\n",
       "\t... & ... & ... & ... & ...\\\\\n",
       "\t246 & chr18\\_Range & Interaction & chr8\\_Range  &     1\\\\\n",
       "\t247 & chr18\\_Range & Interaction & chr6\\_Range  &     1\\\\\n",
       "\t248 & chr19\\_Range & Interaction & chr19\\_Range & 69619\\\\\n",
       "\t249 & chr19\\_Range & Interaction & chr3\\_Range  &     1\\\\\n",
       "\t250 & chr19\\_Range & Interaction & chr20\\_Range &     2\\\\\n",
       "\t251 & chr19\\_Range & Interaction & chr2\\_Range  &     3\\\\\n",
       "\t252 & chr19\\_Range & Interaction & chr6\\_Range  &     1\\\\\n",
       "\t253 & chr19\\_Range & Interaction & chr7\\_Range  &     1\\\\\n",
       "\t254 & chr19\\_Range & Interaction & chr8\\_Range  &     1\\\\\n",
       "\t255 & chr20\\_Range & Interaction & chr3\\_Range  &    26\\\\\n",
       "\t256 & chr20\\_Range & Interaction & chr9\\_Range  &    10\\\\\n",
       "\t257 & chr20\\_Range & Interaction & chr8\\_Range  &     6\\\\\n",
       "\t258 & chr20\\_Range & Interaction & chr7\\_Range  &     8\\\\\n",
       "\t259 & chr20\\_Range & Interaction & chr6\\_Range  &     7\\\\\n",
       "\t260 & chr20\\_Range & Interaction & chr5\\_Range  &    11\\\\\n",
       "\t261 & chr20\\_Range & Interaction & chr22\\_Range &     2\\\\\n",
       "\t262 & chr20\\_Range & Interaction & chr4\\_Range  &     5\\\\\n",
       "\t263 & chr20\\_Range & Interaction & chr21\\_Range &     4\\\\\n",
       "\t264 & chr20\\_Range & Interaction & chrX\\_Range  &     6\\\\\n",
       "\t265 & chr20\\_Range & Interaction & chr20\\_Range & 65699\\\\\n",
       "\t266 & chr21\\_Range & Interaction & chr8\\_Range  &     4\\\\\n",
       "\t267 & chr21\\_Range & Interaction & chr5\\_Range  &     2\\\\\n",
       "\t268 & chr21\\_Range & Interaction & chr21\\_Range & 33968\\\\\n",
       "\t269 & chr21\\_Range & Interaction & chr4\\_Range  &     1\\\\\n",
       "\t270 & chr21\\_Range & Interaction & chr3\\_Range  &     3\\\\\n",
       "\t271 & chr22\\_Range & Interaction & chr22\\_Range & 55182\\\\\n",
       "\t272 & chr22\\_Range & Interaction & chr7\\_Range  &     1\\\\\n",
       "\t273 & chr22\\_Range & Interaction & chr4\\_Range  &     1\\\\\n",
       "\t274 & chrX\\_Range  & Interaction & chrX\\_Range  & 20308\\\\\n",
       "\t275 & chrY\\_Range  & Interaction & chrY\\_Range  &   321\\\\\n",
       "\\end{tabular}\n"
      ],
      "text/markdown": [
       "\n",
       "A data.frame: 227 × 4\n",
       "\n",
       "| <!--/--> | A &lt;chr&gt; | relationshipType &lt;chr&gt; | B &lt;chr&gt; | count &lt;int&gt; |\n",
       "|---|---|---|---|---|\n",
       "| 49 | TF         | Interaction | TF          |   2488 |\n",
       "| 50 | chr1_Range | Interaction | chr1_Range  | 166397 |\n",
       "| 51 | chr1_Range | Interaction | chr2_Range  |     12 |\n",
       "| 52 | chr1_Range | Interaction | chr9_Range  |      3 |\n",
       "| 53 | chr1_Range | Interaction | chr5_Range  |     14 |\n",
       "| 54 | chr1_Range | Interaction | chr4_Range  |      6 |\n",
       "| 55 | chr1_Range | Interaction | chr3_Range  |     12 |\n",
       "| 56 | chr1_Range | Interaction | chr17_Range |     12 |\n",
       "| 57 | chr1_Range | Interaction | chr7_Range  |      8 |\n",
       "| 58 | chr1_Range | Interaction | chr15_Range |      6 |\n",
       "| 59 | chr1_Range | Interaction | chr16_Range |      3 |\n",
       "| 60 | chr1_Range | Interaction | chr10_Range |      5 |\n",
       "| 61 | chr1_Range | Interaction | chr13_Range |      2 |\n",
       "| 62 | chr1_Range | Interaction | chr8_Range  |     11 |\n",
       "| 63 | chr1_Range | Interaction | chr12_Range |      9 |\n",
       "| 64 | chr1_Range | Interaction | chr11_Range |      2 |\n",
       "| 65 | chr1_Range | Interaction | chr14_Range |      3 |\n",
       "| 66 | chr1_Range | Interaction | chr6_Range  |      4 |\n",
       "| 67 | chr1_Range | Interaction | chr19_Range |      2 |\n",
       "| 68 | chr1_Range | Interaction | chr20_Range |     11 |\n",
       "| 69 | chr1_Range | Interaction | chrX_Range  |      4 |\n",
       "| 70 | chr1_Range | Interaction | chr21_Range |      1 |\n",
       "| 71 | chr2_Range | Interaction | chr2_Range  | 136934 |\n",
       "| 72 | chr2_Range | Interaction | chr21_Range |      4 |\n",
       "| 73 | chr2_Range | Interaction | chr11_Range |      1 |\n",
       "| 74 | chr2_Range | Interaction | chr8_Range  |     13 |\n",
       "| 75 | chr2_Range | Interaction | chr6_Range  |      5 |\n",
       "| 76 | chr2_Range | Interaction | chr20_Range |     10 |\n",
       "| 77 | chr2_Range | Interaction | chr7_Range  |     11 |\n",
       "| 78 | chr2_Range | Interaction | chr9_Range  |      5 |\n",
       "| ... | ... | ... | ... | ... |\n",
       "| 246 | chr18_Range | Interaction | chr8_Range  |     1 |\n",
       "| 247 | chr18_Range | Interaction | chr6_Range  |     1 |\n",
       "| 248 | chr19_Range | Interaction | chr19_Range | 69619 |\n",
       "| 249 | chr19_Range | Interaction | chr3_Range  |     1 |\n",
       "| 250 | chr19_Range | Interaction | chr20_Range |     2 |\n",
       "| 251 | chr19_Range | Interaction | chr2_Range  |     3 |\n",
       "| 252 | chr19_Range | Interaction | chr6_Range  |     1 |\n",
       "| 253 | chr19_Range | Interaction | chr7_Range  |     1 |\n",
       "| 254 | chr19_Range | Interaction | chr8_Range  |     1 |\n",
       "| 255 | chr20_Range | Interaction | chr3_Range  |    26 |\n",
       "| 256 | chr20_Range | Interaction | chr9_Range  |    10 |\n",
       "| 257 | chr20_Range | Interaction | chr8_Range  |     6 |\n",
       "| 258 | chr20_Range | Interaction | chr7_Range  |     8 |\n",
       "| 259 | chr20_Range | Interaction | chr6_Range  |     7 |\n",
       "| 260 | chr20_Range | Interaction | chr5_Range  |    11 |\n",
       "| 261 | chr20_Range | Interaction | chr22_Range |     2 |\n",
       "| 262 | chr20_Range | Interaction | chr4_Range  |     5 |\n",
       "| 263 | chr20_Range | Interaction | chr21_Range |     4 |\n",
       "| 264 | chr20_Range | Interaction | chrX_Range  |     6 |\n",
       "| 265 | chr20_Range | Interaction | chr20_Range | 65699 |\n",
       "| 266 | chr21_Range | Interaction | chr8_Range  |     4 |\n",
       "| 267 | chr21_Range | Interaction | chr5_Range  |     2 |\n",
       "| 268 | chr21_Range | Interaction | chr21_Range | 33968 |\n",
       "| 269 | chr21_Range | Interaction | chr4_Range  |     1 |\n",
       "| 270 | chr21_Range | Interaction | chr3_Range  |     3 |\n",
       "| 271 | chr22_Range | Interaction | chr22_Range | 55182 |\n",
       "| 272 | chr22_Range | Interaction | chr7_Range  |     1 |\n",
       "| 273 | chr22_Range | Interaction | chr4_Range  |     1 |\n",
       "| 274 | chrX_Range  | Interaction | chrX_Range  | 20308 |\n",
       "| 275 | chrY_Range  | Interaction | chrY_Range  |   321 |\n",
       "\n"
      ],
      "text/plain": [
       "    A           relationshipType B           count \n",
       "49  TF          Interaction      TF            2488\n",
       "50  chr1_Range  Interaction      chr1_Range  166397\n",
       "51  chr1_Range  Interaction      chr2_Range      12\n",
       "52  chr1_Range  Interaction      chr9_Range       3\n",
       "53  chr1_Range  Interaction      chr5_Range      14\n",
       "54  chr1_Range  Interaction      chr4_Range       6\n",
       "55  chr1_Range  Interaction      chr3_Range      12\n",
       "56  chr1_Range  Interaction      chr17_Range     12\n",
       "57  chr1_Range  Interaction      chr7_Range       8\n",
       "58  chr1_Range  Interaction      chr15_Range      6\n",
       "59  chr1_Range  Interaction      chr16_Range      3\n",
       "60  chr1_Range  Interaction      chr10_Range      5\n",
       "61  chr1_Range  Interaction      chr13_Range      2\n",
       "62  chr1_Range  Interaction      chr8_Range      11\n",
       "63  chr1_Range  Interaction      chr12_Range      9\n",
       "64  chr1_Range  Interaction      chr11_Range      2\n",
       "65  chr1_Range  Interaction      chr14_Range      3\n",
       "66  chr1_Range  Interaction      chr6_Range       4\n",
       "67  chr1_Range  Interaction      chr19_Range      2\n",
       "68  chr1_Range  Interaction      chr20_Range     11\n",
       "69  chr1_Range  Interaction      chrX_Range       4\n",
       "70  chr1_Range  Interaction      chr21_Range      1\n",
       "71  chr2_Range  Interaction      chr2_Range  136934\n",
       "72  chr2_Range  Interaction      chr21_Range      4\n",
       "73  chr2_Range  Interaction      chr11_Range      1\n",
       "74  chr2_Range  Interaction      chr8_Range      13\n",
       "75  chr2_Range  Interaction      chr6_Range       5\n",
       "76  chr2_Range  Interaction      chr20_Range     10\n",
       "77  chr2_Range  Interaction      chr7_Range      11\n",
       "78  chr2_Range  Interaction      chr9_Range       5\n",
       "... ...         ...              ...         ...   \n",
       "246 chr18_Range Interaction      chr8_Range      1 \n",
       "247 chr18_Range Interaction      chr6_Range      1 \n",
       "248 chr19_Range Interaction      chr19_Range 69619 \n",
       "249 chr19_Range Interaction      chr3_Range      1 \n",
       "250 chr19_Range Interaction      chr20_Range     2 \n",
       "251 chr19_Range Interaction      chr2_Range      3 \n",
       "252 chr19_Range Interaction      chr6_Range      1 \n",
       "253 chr19_Range Interaction      chr7_Range      1 \n",
       "254 chr19_Range Interaction      chr8_Range      1 \n",
       "255 chr20_Range Interaction      chr3_Range     26 \n",
       "256 chr20_Range Interaction      chr9_Range     10 \n",
       "257 chr20_Range Interaction      chr8_Range      6 \n",
       "258 chr20_Range Interaction      chr7_Range      8 \n",
       "259 chr20_Range Interaction      chr6_Range      7 \n",
       "260 chr20_Range Interaction      chr5_Range     11 \n",
       "261 chr20_Range Interaction      chr22_Range     2 \n",
       "262 chr20_Range Interaction      chr4_Range      5 \n",
       "263 chr20_Range Interaction      chr21_Range     4 \n",
       "264 chr20_Range Interaction      chrX_Range      6 \n",
       "265 chr20_Range Interaction      chr20_Range 65699 \n",
       "266 chr21_Range Interaction      chr8_Range      4 \n",
       "267 chr21_Range Interaction      chr5_Range      2 \n",
       "268 chr21_Range Interaction      chr21_Range 33968 \n",
       "269 chr21_Range Interaction      chr4_Range      1 \n",
       "270 chr21_Range Interaction      chr3_Range      3 \n",
       "271 chr22_Range Interaction      chr22_Range 55182 \n",
       "272 chr22_Range Interaction      chr7_Range      1 \n",
       "273 chr22_Range Interaction      chr4_Range      1 \n",
       "274 chrX_Range  Interaction      chrX_Range  20308 \n",
       "275 chrY_Range  Interaction      chrY_Range    321 "
      ]
     },
     "metadata": {},
     "output_type": "display_data"
    }
   ],
   "source": [
    "InteractionRel <- rel_details[rel_details$relationshipType ==\"Interaction\",]\n",
    "InteractionRel"
   ]
  },
  {
   "cell_type": "markdown",
   "metadata": {},
   "source": [
    "<h1 id='3'>3. List of hubs for chr12 (a hub is a node with a high degree)<h1>"
   ]
  },
  {
   "cell_type": "markdown",
   "metadata": {},
   "source": [
    "chr12 nodes have Bind and Interaction relationships. \n",
    "\n",
    "At the first, we use cypher command `'MATCH (n:chr12)--(m) with id(n) as chr12,id(m) AS m   MATCH (al) where id(al) = m or  id(al) = chr12 return id(al) as id'` for the first argument of `algo.degree.stream`; then we will difine a subgraph with all relationships during all nodes including chr12 and nodes directerly related to chr12.\n",
    "\n",
    "After using degree algorithm, we need to filter all chr12 nodes by `'MATCH (n:chr12)-[r]-(m) RETURN id(n) AS source, id(m) AS target'` and to remove those 0 degree score of chr12. \n",
    "\n",
    "At the end, we return back chr12 nodes names and its degree score. "
   ]
  },
  {
   "cell_type": "code",
   "execution_count": 19,
   "metadata": {},
   "outputs": [],
   "source": [
    "query = \"\n",
    "CALL algo.degree.stream(\n",
    "                        'MATCH (n:chr12)--(m) with id(n) as chr12,id(m) AS m   MATCH (al) where id(al) = m or  id(al) = chr12 return id(al) as id',\n",
    "                        'MATCH (n:chr12)-[r]-(m) RETURN id(n) AS source, id(m) AS target',\n",
    "                        {graph:'cypher',direction: 'both'})\n",
    "YIELD nodeId, score\n",
    "with nodeId, score\n",
    "MATCH (chr12:chr12)\n",
    "where id(chr12) = nodeId and score > 0\n",
    "RETURN chr12.Name AS Name, score as degree\n",
    "ORDER By score DESC\n",
    "\"\n",
    "chr12_hubs <- cypher(graph, query)"
   ]
  },
  {
   "cell_type": "code",
   "execution_count": 20,
   "metadata": {
    "scrolled": true
   },
   "outputs": [
    {
     "data": {
      "text/html": [
       "<table>\n",
       "<caption>A data.frame: 6 × 2</caption>\n",
       "<thead>\n",
       "\t<tr><th scope=col>Name</th><th scope=col>degree</th></tr>\n",
       "\t<tr><th scope=col>&lt;chr&gt;</th><th scope=col>&lt;dbl&gt;</th></tr>\n",
       "</thead>\n",
       "<tbody>\n",
       "\t<tr><td>Bin281</td><td>775</td></tr>\n",
       "\t<tr><td>Bin247</td><td>774</td></tr>\n",
       "\t<tr><td>Bin272</td><td>729</td></tr>\n",
       "\t<tr><td>Bin267</td><td>717</td></tr>\n",
       "\t<tr><td>Bin607</td><td>717</td></tr>\n",
       "\t<tr><td>Bin35 </td><td>695</td></tr>\n",
       "</tbody>\n",
       "</table>\n"
      ],
      "text/latex": [
       "A data.frame: 6 × 2\n",
       "\\begin{tabular}{r|ll}\n",
       " Name & degree\\\\\n",
       " <chr> & <dbl>\\\\\n",
       "\\hline\n",
       "\t Bin281 & 775\\\\\n",
       "\t Bin247 & 774\\\\\n",
       "\t Bin272 & 729\\\\\n",
       "\t Bin267 & 717\\\\\n",
       "\t Bin607 & 717\\\\\n",
       "\t Bin35  & 695\\\\\n",
       "\\end{tabular}\n"
      ],
      "text/markdown": [
       "\n",
       "A data.frame: 6 × 2\n",
       "\n",
       "| Name &lt;chr&gt; | degree &lt;dbl&gt; |\n",
       "|---|---|\n",
       "| Bin281 | 775 |\n",
       "| Bin247 | 774 |\n",
       "| Bin272 | 729 |\n",
       "| Bin267 | 717 |\n",
       "| Bin607 | 717 |\n",
       "| Bin35  | 695 |\n",
       "\n"
      ],
      "text/plain": [
       "  Name   degree\n",
       "1 Bin281 775   \n",
       "2 Bin247 774   \n",
       "3 Bin272 729   \n",
       "4 Bin267 717   \n",
       "5 Bin607 717   \n",
       "6 Bin35  695   "
      ]
     },
     "metadata": {},
     "output_type": "display_data"
    }
   ],
   "source": [
    "head(chr12_hubs)"
   ]
  },
  {
   "cell_type": "code",
   "execution_count": 21,
   "metadata": {},
   "outputs": [
    {
     "data": {
      "text/html": [
       "<ol class=list-inline>\n",
       "\t<li>667</li>\n",
       "\t<li>2</li>\n",
       "</ol>\n"
      ],
      "text/latex": [
       "\\begin{enumerate*}\n",
       "\\item 667\n",
       "\\item 2\n",
       "\\end{enumerate*}\n"
      ],
      "text/markdown": [
       "1. 667\n",
       "2. 2\n",
       "\n",
       "\n"
      ],
      "text/plain": [
       "[1] 667   2"
      ]
     },
     "metadata": {},
     "output_type": "display_data"
    }
   ],
   "source": [
    "dim(chr12_hubs)"
   ]
  },
  {
   "cell_type": "code",
   "execution_count": 22,
   "metadata": {},
   "outputs": [],
   "source": [
    "write.table(chr12_hubs, file = \"chr12_hubs.csv\",sep=\",\",quote = F, col.names = TRUE, row.names = FALSE)"
   ]
  },
  {
   "cell_type": "markdown",
   "metadata": {},
   "source": [
    "To get chr12_hubs.csv at [here](chr12_hubs.csv)"
   ]
  },
  {
   "cell_type": "code",
   "execution_count": 23,
   "metadata": {},
   "outputs": [
    {
     "name": "stderr",
     "output_type": "stream",
     "text": [
      "Your code contains a unicode char which cannot be displayed in your\n",
      "current locale and R will silently convert it to an escaped form when the\n",
      "R kernel executes this code. This can lead to subtle errors if you use\n",
      "such chars to do comparisons. For more information, please see\n",
      "https://github.com/IRkernel/repr/wiki/Problems-with-unicode-on-windows"
     ]
    },
    {
     "data": {
      "image/png": "[encoded data removed]",
      "text/plain": [
       "plot without title"
      ]
     },
     "metadata": {},
     "output_type": "display_data"
    }
   ],
   "source": [
    "chr12_hubs_20 <- chr12_hubs[1:20,]\n",
    "chr12_hubs_20$Name <- factor(chr12_hubs_20$Name, levels = chr12_hubs_20$Name)\n",
    "ggplot() + \n",
    "    geom_bar(aes(x = chr12_hubs_20$Name, y = chr12_hubs_20$degree),\n",
    "           stat=\"identity\", fill = \"lightblue\")+ \n",
    "  labs(x=\"Relationship\",y = \"count\")+\n",
    "  ggtitle(\"Chromosome Inclusion Chromosome Range\") + backgroup   #设置背景为白色"
   ]
  },
  {
   "cell_type": "markdown",
   "metadata": {},
   "source": [
    "<h1 id='4'>4. Degree distribution for chr12 <h1>"
   ]
  },
  {
   "cell_type": "code",
   "execution_count": 24,
   "metadata": {},
   "outputs": [],
   "source": [
    "distribution <- as.data.frame(table(chr12_hubs$degree))\n",
    "library(ggplot2)\n",
    "#ggplot(distribution, aes(x=Freq))+ geom_histogram(binwidth=.5)"
   ]
  },
  {
   "cell_type": "code",
   "execution_count": 25,
   "metadata": {},
   "outputs": [
    {
     "data": {
      "image/png": "[encoded data removed]",
      "text/plain": [
       "plot without title"
      ]
     },
     "metadata": {},
     "output_type": "display_data"
    }
   ],
   "source": [
    "ggplot(chr12_hubs, aes(x=degree))+ \n",
    "  geom_histogram(binwidth=30,colour=\"black\", fill = \"lightblue\")+ #distribution plot\n",
    "  geom_vline(aes(xintercept=mean(degree, na.rm=T)), color=\"red\", linetype=\"dashed\", size=1)+   #mean\n",
    "  ggtitle(\"Ferquency of hubs' degree in chromosome 12\") + backgroup"
   ]
  },
  {
   "cell_type": "code",
   "execution_count": 26,
   "metadata": {},
   "outputs": [
    {
     "data": {
      "image/png": "[encoded data removed]",
      "text/plain": [
       "plot without title"
      ]
     },
     "metadata": {},
     "output_type": "display_data"
    }
   ],
   "source": [
    "ggplot(chr12_hubs, aes(x=degree)) + \n",
    "  geom_histogram(aes(y=..density..),binwidth=30,colour=\"black\", fill = \"lightblue\")+ #distribution plot\n",
    "  geom_density(alpha=.2, color=\"red\")+  #density line,Smoothed density estimates\n",
    "  geom_vline(aes(xintercept=mean(degree, na.rm=T)), color=\"red\", linetype=\"dashed\", size=1)+  #mean\n",
    "  ggtitle(\"Distribution of hubs' degree in chromosome 12\")+ backgroup"
   ]
  },
  {
   "cell_type": "code",
   "execution_count": 27,
   "metadata": {},
   "outputs": [
    {
     "data": {
      "text/html": [
       "<table>\n",
       "<caption>A data.frame: 3 × 2</caption>\n",
       "<thead>\n",
       "\t<tr><th></th><th scope=col>Var1</th><th scope=col>Freq</th></tr>\n",
       "\t<tr><th></th><th scope=col>&lt;fct&gt;</th><th scope=col>&lt;int&gt;</th></tr>\n",
       "</thead>\n",
       "<tbody>\n",
       "\t<tr><th scope=row>1</th><td>3  </td><td>5</td></tr>\n",
       "\t<tr><th scope=row>63</th><td>110</td><td>5</td></tr>\n",
       "\t<tr><th scope=row>122</th><td>189</td><td>5</td></tr>\n",
       "</tbody>\n",
       "</table>\n"
      ],
      "text/latex": [
       "A data.frame: 3 × 2\n",
       "\\begin{tabular}{r|ll}\n",
       "  & Var1 & Freq\\\\\n",
       "  & <fct> & <int>\\\\\n",
       "\\hline\n",
       "\t1 & 3   & 5\\\\\n",
       "\t63 & 110 & 5\\\\\n",
       "\t122 & 189 & 5\\\\\n",
       "\\end{tabular}\n"
      ],
      "text/markdown": [
       "\n",
       "A data.frame: 3 × 2\n",
       "\n",
       "| <!--/--> | Var1 &lt;fct&gt; | Freq &lt;int&gt; |\n",
       "|---|---|---|\n",
       "| 1 | 3   | 5 |\n",
       "| 63 | 110 | 5 |\n",
       "| 122 | 189 | 5 |\n",
       "\n"
      ],
      "text/plain": [
       "    Var1 Freq\n",
       "1   3    5   \n",
       "63  110  5   \n",
       "122 189  5   "
      ]
     },
     "metadata": {},
     "output_type": "display_data"
    }
   ],
   "source": [
    "distribution[distribution$Freq ==max(distribution$Freq),]"
   ]
  },
  {
   "cell_type": "markdown",
   "metadata": {},
   "source": [
    "<h1 id='5'>5. Modules for chromosome 12<h1>"
   ]
  },
  {
   "cell_type": "code",
   "execution_count": 28,
   "metadata": {},
   "outputs": [
    {
     "data": {
      "text/html": [
       "<table>\n",
       "<caption>A data.frame: 1 × 2</caption>\n",
       "<thead>\n",
       "\t<tr><th scope=col>nodes</th><th scope=col>communityCount</th></tr>\n",
       "\t<tr><th scope=col>&lt;int&gt;</th><th scope=col>&lt;int&gt;</th></tr>\n",
       "</thead>\n",
       "<tbody>\n",
       "\t<tr><td>370956</td><td>307385</td></tr>\n",
       "</tbody>\n",
       "</table>\n"
      ],
      "text/latex": [
       "A data.frame: 1 × 2\n",
       "\\begin{tabular}{r|ll}\n",
       " nodes & communityCount\\\\\n",
       " <int> & <int>\\\\\n",
       "\\hline\n",
       "\t 370956 & 307385\\\\\n",
       "\\end{tabular}\n"
      ],
      "text/markdown": [
       "\n",
       "A data.frame: 1 × 2\n",
       "\n",
       "| nodes &lt;int&gt; | communityCount &lt;int&gt; |\n",
       "|---|---|\n",
       "| 370956 | 307385 |\n",
       "\n"
      ],
      "text/plain": [
       "  nodes  communityCount\n",
       "1 370956 307385        "
      ]
     },
     "metadata": {},
     "output_type": "display_data"
    }
   ],
   "source": [
    "# To know the numbers of modules ----------------\n",
    "query = \"CALL algo.louvain(\n",
    "                        'MATCH (n:chr12)--(m) with id(n) as chr12,id(m) AS m   MATCH (al) where id(al) = m or  id(al) = chr12 return id(al) as id',\n",
    "                        'MATCH (n:chr12)-[r]-(m) RETURN id(n) AS source, id(m) AS target',\n",
    "                        {graph:'cypher',direction: 'both'})\n",
    "YIELD nodes, communityCount\"\n",
    "cypher(graph, query)  #Results： nodes:370956 communityCount:307385"
   ]
  },
  {
   "cell_type": "markdown",
   "metadata": {},
   "source": [
    "At here analysis, you need to know 1288086 nodes including all chr12 nodes and all nodes directly related chr12 nodes."
   ]
  },
  {
   "cell_type": "markdown",
   "metadata": {},
   "source": [
    "##### Then we filter all nodes are chr12 in their community as following:"
   ]
  },
  {
   "cell_type": "code",
   "execution_count": 29,
   "metadata": {},
   "outputs": [],
   "source": [
    "# To know the numbers of chr12 nodes in each modules ----------------\n",
    "query = \"\n",
    "// to make louvain modules for chr12\n",
    "CALL algo.louvain.stream(\n",
    "  'MATCH (n:chr12)--(m) with id(n) as chr12,id(m) AS m   MATCH (al) where id(al) = m or  id(al) = chr12 return id(al) as id',\n",
    "  'MATCH (n:chr12)-[r]-(m) RETURN id(n) AS source, id(m) AS target',\n",
    "  {graph:'cypher',direction: 'both'})\n",
    "YIELD nodeId, community\n",
    "\n",
    "// filering community which the number of nodes is more than one\n",
    "with collect(nodeId) AS nodeId , community\n",
    "where size(nodeId) > 1\n",
    "with nodeId, 'Module'+ community as community\n",
    "\n",
    "// to get communities that contain chromosome 12 nodes. \n",
    "MATCH (chr12:chr12)\n",
    "where id(chr12) in nodeId\n",
    "with collect( chr12.Name )  AS GeneList, community\n",
    "RETURN GeneList, community, size(GeneList) AS Size\n",
    "ORDER BY Size DESC\n",
    "\"\n",
    "module_chr12_total = cypher(graph, query) "
   ]
  },
  {
   "cell_type": "code",
   "execution_count": 30,
   "metadata": {},
   "outputs": [
    {
     "data": {
      "text/html": [
       "<table>\n",
       "<caption>A data.frame: 2 × 3</caption>\n",
       "<thead>\n",
       "\t<tr><th scope=col>GeneList</th><th scope=col>community</th><th scope=col>Size</th></tr>\n",
       "\t<tr><th scope=col>&lt;list&gt;</th><th scope=col>&lt;chr&gt;</th><th scope=col>&lt;int&gt;</th></tr>\n",
       "</thead>\n",
       "<tbody>\n",
       "\t<tr><td>Bin17 , Bin37 , Bin39 , Bin43 , Bin46 , Bin47 , Bin50 , Bin55 , Bin56 , Bin57 , Bin68 , Bin69 , Bin70 , Bin71 , Bin76 , Bin78 , Bin82 , Bin83 , Bin85 , Bin86 , Bin87 , Bin88 , Bin89 , Bin90 , Bin91 , Bin93 , Bin94 , Bin96 , Bin97 , Bin99 , Bin100, Bin101, Bin102, Bin103, Bin104, Bin105, Bin106, Bin107, Bin110, Bin112, Bin114, Bin115, Bin116, Bin117, Bin118, Bin119, Bin121, Bin122, Bin123, Bin142, Bin143, Bin144, Bin145, Bin146, Bin148, Bin149, Bin150, Bin151, Bin166, Bin167, Bin170, Bin172, Bin174, Bin175, Bin177, Bin178, Bin181, Bin183, Bin185, Bin188, Bin189, Bin190, Bin193, Bin194, Bin196, Bin197, Bin200, Bin201, Bin203, Bin204, Bin205, Bin206, Bin207, Bin208, Bin209, Bin210, Bin215, Bin216, Bin217, Bin218, Bin221, Bin222, Bin223, Bin224, Bin228, Bin238, Bin271, Bin276, Bin277, Bin278, Bin291, Bin293, Bin294, Bin297, Bin298, Bin299, Bin300, Bin301, Bin303, Bin304, Bin305, Bin307, Bin308, Bin309, Bin310, Bin311, Bin318, Bin322, Bin333, Bin334, Bin335, Bin336, Bin341, Bin344, Bin345, Bin346, Bin355, Bin356, Bin357, Bin361, Bin362, Bin363, Bin364, Bin365, Bin366, Bin367, Bin368, Bin369, Bin370, Bin374, Bin375, Bin376, Bin387, Bin388, Bin389, Bin390, Bin391, Bin392, Bin393, Bin394, Bin395, Bin396, Bin397, Bin398, Bin402, Bin403, Bin404, Bin405, Bin406, Bin407, Bin408, Bin409, Bin410, Bin411, Bin413, Bin414, Bin416, Bin417, Bin418, Bin419, Bin420, Bin421, Bin422, Bin424, Bin425, Bin426, Bin427, Bin428, Bin429, Bin430, Bin431, Bin432, Bin434, Bin435, Bin436, Bin437, Bin438, Bin442, Bin444, Bin445, Bin446, Bin447, Bin451, Bin452, Bin454, Bin456, Bin460, Bin461, Bin486, Bin487, Bin488, Bin490, Bin491, Bin495, Bin496, Bin497, Bin498, Bin499, Bin504, Bin505, Bin506, Bin512, Bin514, Bin516, Bin517, Bin533, Bin542, Bin552, Bin564, Bin575, Bin576, Bin577, Bin583, Bin584, Bin585, Bin587, Bin588, Bin594, Bin595, Bin622, Bin627, Bin628, Bin629, Bin630, Bin632, Bin633, Bin634, Bin635, Bin637, Bin638, Bin639, Bin640, Bin641, Bin643, Bin646, Bin648, Bin650, Bin653, Bin654</td><td>Module11196</td><td>249</td></tr>\n",
       "\t<tr><td>Bin1  , Bin2  , Bin20 , Bin24 , Bin38 , Bin42 , Bin44 , Bin49 , Bin52 , Bin53 , Bin58 , Bin72 , Bin73 , Bin74 , Bin92 , Bin108, Bin111, Bin113, Bin120, Bin126, Bin156, Bin160, Bin161, Bin165, Bin171, Bin179, Bin191, Bin192, Bin195, Bin199, Bin202, Bin211, Bin220, Bin225, Bin226, Bin243, Bin273, Bin275, Bin302, Bin316, Bin325, Bin332, Bin342, Bin351, Bin353, Bin371, Bin373, Bin377, Bin386, Bin455, Bin457, Bin462, Bin463, Bin472, Bin475, Bin484, Bin485, Bin492, Bin500, Bin503, Bin508, Bin515, Bin518, Bin540, Bin547, Bin549, Bin568, Bin597, Bin645, Bin651, Bin656, Bin657</td><td>Module382  </td><td> 72</td></tr>\n",
       "</tbody>\n",
       "</table>\n"
      ],
      "text/latex": [
       "A data.frame: 2 × 3\n",
       "\\begin{tabular}{r|lll}\n",
       " GeneList & community & Size\\\\\n",
       " <list> & <chr> & <int>\\\\\n",
       "\\hline\n",
       "\t Bin17 , Bin37 , Bin39 , Bin43 , Bin46 , Bin47 , Bin50 , Bin55 , Bin56 , Bin57 , Bin68 , Bin69 , Bin70 , Bin71 , Bin76 , Bin78 , Bin82 , Bin83 , Bin85 , Bin86 , Bin87 , Bin88 , Bin89 , Bin90 , Bin91 , Bin93 , Bin94 , Bin96 , Bin97 , Bin99 , Bin100, Bin101, Bin102, Bin103, Bin104, Bin105, Bin106, Bin107, Bin110, Bin112, Bin114, Bin115, Bin116, Bin117, Bin118, Bin119, Bin121, Bin122, Bin123, Bin142, Bin143, Bin144, Bin145, Bin146, Bin148, Bin149, Bin150, Bin151, Bin166, Bin167, Bin170, Bin172, Bin174, Bin175, Bin177, Bin178, Bin181, Bin183, Bin185, Bin188, Bin189, Bin190, Bin193, Bin194, Bin196, Bin197, Bin200, Bin201, Bin203, Bin204, Bin205, Bin206, Bin207, Bin208, Bin209, Bin210, Bin215, Bin216, Bin217, Bin218, Bin221, Bin222, Bin223, Bin224, Bin228, Bin238, Bin271, Bin276, Bin277, Bin278, Bin291, Bin293, Bin294, Bin297, Bin298, Bin299, Bin300, Bin301, Bin303, Bin304, Bin305, Bin307, Bin308, Bin309, Bin310, Bin311, Bin318, Bin322, Bin333, Bin334, Bin335, Bin336, Bin341, Bin344, Bin345, Bin346, Bin355, Bin356, Bin357, Bin361, Bin362, Bin363, Bin364, Bin365, Bin366, Bin367, Bin368, Bin369, Bin370, Bin374, Bin375, Bin376, Bin387, Bin388, Bin389, Bin390, Bin391, Bin392, Bin393, Bin394, Bin395, Bin396, Bin397, Bin398, Bin402, Bin403, Bin404, Bin405, Bin406, Bin407, Bin408, Bin409, Bin410, Bin411, Bin413, Bin414, Bin416, Bin417, Bin418, Bin419, Bin420, Bin421, Bin422, Bin424, Bin425, Bin426, Bin427, Bin428, Bin429, Bin430, Bin431, Bin432, Bin434, Bin435, Bin436, Bin437, Bin438, Bin442, Bin444, Bin445, Bin446, Bin447, Bin451, Bin452, Bin454, Bin456, Bin460, Bin461, Bin486, Bin487, Bin488, Bin490, Bin491, Bin495, Bin496, Bin497, Bin498, Bin499, Bin504, Bin505, Bin506, Bin512, Bin514, Bin516, Bin517, Bin533, Bin542, Bin552, Bin564, Bin575, Bin576, Bin577, Bin583, Bin584, Bin585, Bin587, Bin588, Bin594, Bin595, Bin622, Bin627, Bin628, Bin629, Bin630, Bin632, Bin633, Bin634, Bin635, Bin637, Bin638, Bin639, Bin640, Bin641, Bin643, Bin646, Bin648, Bin650, Bin653, Bin654 & Module11196 & 249\\\\\n",
       "\t Bin1  , Bin2  , Bin20 , Bin24 , Bin38 , Bin42 , Bin44 , Bin49 , Bin52 , Bin53 , Bin58 , Bin72 , Bin73 , Bin74 , Bin92 , Bin108, Bin111, Bin113, Bin120, Bin126, Bin156, Bin160, Bin161, Bin165, Bin171, Bin179, Bin191, Bin192, Bin195, Bin199, Bin202, Bin211, Bin220, Bin225, Bin226, Bin243, Bin273, Bin275, Bin302, Bin316, Bin325, Bin332, Bin342, Bin351, Bin353, Bin371, Bin373, Bin377, Bin386, Bin455, Bin457, Bin462, Bin463, Bin472, Bin475, Bin484, Bin485, Bin492, Bin500, Bin503, Bin508, Bin515, Bin518, Bin540, Bin547, Bin549, Bin568, Bin597, Bin645, Bin651, Bin656, Bin657 & Module382   &  72\\\\\n",
       "\\end{tabular}\n"
      ],
      "text/markdown": [
       "\n",
       "A data.frame: 2 × 3\n",
       "\n",
       "| GeneList &lt;list&gt; | community &lt;chr&gt; | Size &lt;int&gt; |\n",
       "|---|---|---|\n",
       "| Bin17 , Bin37 , Bin39 , Bin43 , Bin46 , Bin47 , Bin50 , Bin55 , Bin56 , Bin57 , Bin68 , Bin69 , Bin70 , Bin71 , Bin76 , Bin78 , Bin82 , Bin83 , Bin85 , Bin86 , Bin87 , Bin88 , Bin89 , Bin90 , Bin91 , Bin93 , Bin94 , Bin96 , Bin97 , Bin99 , Bin100, Bin101, Bin102, Bin103, Bin104, Bin105, Bin106, Bin107, Bin110, Bin112, Bin114, Bin115, Bin116, Bin117, Bin118, Bin119, Bin121, Bin122, Bin123, Bin142, Bin143, Bin144, Bin145, Bin146, Bin148, Bin149, Bin150, Bin151, Bin166, Bin167, Bin170, Bin172, Bin174, Bin175, Bin177, Bin178, Bin181, Bin183, Bin185, Bin188, Bin189, Bin190, Bin193, Bin194, Bin196, Bin197, Bin200, Bin201, Bin203, Bin204, Bin205, Bin206, Bin207, Bin208, Bin209, Bin210, Bin215, Bin216, Bin217, Bin218, Bin221, Bin222, Bin223, Bin224, Bin228, Bin238, Bin271, Bin276, Bin277, Bin278, Bin291, Bin293, Bin294, Bin297, Bin298, Bin299, Bin300, Bin301, Bin303, Bin304, Bin305, Bin307, Bin308, Bin309, Bin310, Bin311, Bin318, Bin322, Bin333, Bin334, Bin335, Bin336, Bin341, Bin344, Bin345, Bin346, Bin355, Bin356, Bin357, Bin361, Bin362, Bin363, Bin364, Bin365, Bin366, Bin367, Bin368, Bin369, Bin370, Bin374, Bin375, Bin376, Bin387, Bin388, Bin389, Bin390, Bin391, Bin392, Bin393, Bin394, Bin395, Bin396, Bin397, Bin398, Bin402, Bin403, Bin404, Bin405, Bin406, Bin407, Bin408, Bin409, Bin410, Bin411, Bin413, Bin414, Bin416, Bin417, Bin418, Bin419, Bin420, Bin421, Bin422, Bin424, Bin425, Bin426, Bin427, Bin428, Bin429, Bin430, Bin431, Bin432, Bin434, Bin435, Bin436, Bin437, Bin438, Bin442, Bin444, Bin445, Bin446, Bin447, Bin451, Bin452, Bin454, Bin456, Bin460, Bin461, Bin486, Bin487, Bin488, Bin490, Bin491, Bin495, Bin496, Bin497, Bin498, Bin499, Bin504, Bin505, Bin506, Bin512, Bin514, Bin516, Bin517, Bin533, Bin542, Bin552, Bin564, Bin575, Bin576, Bin577, Bin583, Bin584, Bin585, Bin587, Bin588, Bin594, Bin595, Bin622, Bin627, Bin628, Bin629, Bin630, Bin632, Bin633, Bin634, Bin635, Bin637, Bin638, Bin639, Bin640, Bin641, Bin643, Bin646, Bin648, Bin650, Bin653, Bin654 | Module11196 | 249 |\n",
       "| Bin1  , Bin2  , Bin20 , Bin24 , Bin38 , Bin42 , Bin44 , Bin49 , Bin52 , Bin53 , Bin58 , Bin72 , Bin73 , Bin74 , Bin92 , Bin108, Bin111, Bin113, Bin120, Bin126, Bin156, Bin160, Bin161, Bin165, Bin171, Bin179, Bin191, Bin192, Bin195, Bin199, Bin202, Bin211, Bin220, Bin225, Bin226, Bin243, Bin273, Bin275, Bin302, Bin316, Bin325, Bin332, Bin342, Bin351, Bin353, Bin371, Bin373, Bin377, Bin386, Bin455, Bin457, Bin462, Bin463, Bin472, Bin475, Bin484, Bin485, Bin492, Bin500, Bin503, Bin508, Bin515, Bin518, Bin540, Bin547, Bin549, Bin568, Bin597, Bin645, Bin651, Bin656, Bin657 | Module382   |  72 |\n",
       "\n"
      ],
      "text/plain": [
       "  GeneList                                                                                                                                                                                                                                                                                                                                                                                                                                                                                                                                                                                                                                                                                                                                                                                                                                                                                                                                                                                                                                                                                                                                                                                                                                                                                                                                                                                                                                                                                                                                                                                                                                                                                                                                                                                                                                                                                                                                                                                                                                                              \n",
       "1 Bin17 , Bin37 , Bin39 , Bin43 , Bin46 , Bin47 , Bin50 , Bin55 , Bin56 , Bin57 , Bin68 , Bin69 , Bin70 , Bin71 , Bin76 , Bin78 , Bin82 , Bin83 , Bin85 , Bin86 , Bin87 , Bin88 , Bin89 , Bin90 , Bin91 , Bin93 , Bin94 , Bin96 , Bin97 , Bin99 , Bin100, Bin101, Bin102, Bin103, Bin104, Bin105, Bin106, Bin107, Bin110, Bin112, Bin114, Bin115, Bin116, Bin117, Bin118, Bin119, Bin121, Bin122, Bin123, Bin142, Bin143, Bin144, Bin145, Bin146, Bin148, Bin149, Bin150, Bin151, Bin166, Bin167, Bin170, Bin172, Bin174, Bin175, Bin177, Bin178, Bin181, Bin183, Bin185, Bin188, Bin189, Bin190, Bin193, Bin194, Bin196, Bin197, Bin200, Bin201, Bin203, Bin204, Bin205, Bin206, Bin207, Bin208, Bin209, Bin210, Bin215, Bin216, Bin217, Bin218, Bin221, Bin222, Bin223, Bin224, Bin228, Bin238, Bin271, Bin276, Bin277, Bin278, Bin291, Bin293, Bin294, Bin297, Bin298, Bin299, Bin300, Bin301, Bin303, Bin304, Bin305, Bin307, Bin308, Bin309, Bin310, Bin311, Bin318, Bin322, Bin333, Bin334, Bin335, Bin336, Bin341, Bin344, Bin345, Bin346, Bin355, Bin356, Bin357, Bin361, Bin362, Bin363, Bin364, Bin365, Bin366, Bin367, Bin368, Bin369, Bin370, Bin374, Bin375, Bin376, Bin387, Bin388, Bin389, Bin390, Bin391, Bin392, Bin393, Bin394, Bin395, Bin396, Bin397, Bin398, Bin402, Bin403, Bin404, Bin405, Bin406, Bin407, Bin408, Bin409, Bin410, Bin411, Bin413, Bin414, Bin416, Bin417, Bin418, Bin419, Bin420, Bin421, Bin422, Bin424, Bin425, Bin426, Bin427, Bin428, Bin429, Bin430, Bin431, Bin432, Bin434, Bin435, Bin436, Bin437, Bin438, Bin442, Bin444, Bin445, Bin446, Bin447, Bin451, Bin452, Bin454, Bin456, Bin460, Bin461, Bin486, Bin487, Bin488, Bin490, Bin491, Bin495, Bin496, Bin497, Bin498, Bin499, Bin504, Bin505, Bin506, Bin512, Bin514, Bin516, Bin517, Bin533, Bin542, Bin552, Bin564, Bin575, Bin576, Bin577, Bin583, Bin584, Bin585, Bin587, Bin588, Bin594, Bin595, Bin622, Bin627, Bin628, Bin629, Bin630, Bin632, Bin633, Bin634, Bin635, Bin637, Bin638, Bin639, Bin640, Bin641, Bin643, Bin646, Bin648, Bin650, Bin653, Bin654\n",
       "2 Bin1  , Bin2  , Bin20 , Bin24 , Bin38 , Bin42 , Bin44 , Bin49 , Bin52 , Bin53 , Bin58 , Bin72 , Bin73 , Bin74 , Bin92 , Bin108, Bin111, Bin113, Bin120, Bin126, Bin156, Bin160, Bin161, Bin165, Bin171, Bin179, Bin191, Bin192, Bin195, Bin199, Bin202, Bin211, Bin220, Bin225, Bin226, Bin243, Bin273, Bin275, Bin302, Bin316, Bin325, Bin332, Bin342, Bin351, Bin353, Bin371, Bin373, Bin377, Bin386, Bin455, Bin457, Bin462, Bin463, Bin472, Bin475, Bin484, Bin485, Bin492, Bin500, Bin503, Bin508, Bin515, Bin518, Bin540, Bin547, Bin549, Bin568, Bin597, Bin645, Bin651, Bin656, Bin657                                                                                                                                                                                                                                                                                                                                                                                                                                                                                                                                                                                                                                                                                                                                                                                                                                                                                                                                                                                                                                                                                                                                                                                                                                                                                                                                                                                                                                                                        \n",
       "  community   Size\n",
       "1 Module11196 249 \n",
       "2 Module382    72 "
      ]
     },
     "metadata": {},
     "output_type": "display_data"
    }
   ],
   "source": [
    "module_chr12_total[1:2,]"
   ]
  },
  {
   "cell_type": "code",
   "execution_count": 31,
   "metadata": {},
   "outputs": [
    {
     "data": {
      "text/html": [
       "<ol class=list-inline>\n",
       "\t<li>49</li>\n",
       "\t<li>3</li>\n",
       "</ol>\n"
      ],
      "text/latex": [
       "\\begin{enumerate*}\n",
       "\\item 49\n",
       "\\item 3\n",
       "\\end{enumerate*}\n"
      ],
      "text/markdown": [
       "1. 49\n",
       "2. 3\n",
       "\n",
       "\n"
      ],
      "text/plain": [
       "[1] 49  3"
      ]
     },
     "metadata": {},
     "output_type": "display_data"
    }
   ],
   "source": [
    "dim(module_chr12_total)"
   ]
  },
  {
   "cell_type": "code",
   "execution_count": 32,
   "metadata": {},
   "outputs": [
    {
     "name": "stderr",
     "output_type": "stream",
     "text": [
      "Your code contains a unicode char which cannot be displayed in your\n",
      "current locale and R will silently convert it to an escaped form when the\n",
      "R kernel executes this code. This can lead to subtle errors if you use\n",
      "such chars to do comparisons. For more information, please see\n",
      "https://github.com/IRkernel/repr/wiki/Problems-with-unicode-on-windows"
     ]
    },
    {
     "data": {
      "image/png": "[encoded data removed]",
      "text/plain": [
       "plot without title"
      ]
     },
     "metadata": {},
     "output_type": "display_data"
    }
   ],
   "source": [
    "ggplot() + \n",
    "  geom_bar(aes(x = module_chr12_total$community, y = module_chr12_total$Size),\n",
    "           stat=\"identity\", fill = \"lightblue\")+ \n",
    "  labs(x=\"Relationship\",y = \"count\")+\n",
    "  ggtitle(\"numbers of genes in each community(module) at chr12\") + backgroup+\n",
    "  geom_text(aes(x = module_chr12_total$community, \n",
    "                y = module_chr12_total$Size,\n",
    "                label=module_chr12_total$Size), hjust=-0.5, size = 2)+\n",
    "  coord_flip() #将条形图坐标轴转换过来变成横向条形图"
   ]
  },
  {
   "cell_type": "markdown",
   "metadata": {},
   "source": [
    "<h1 id='6'>6. Annotate all modules with the genes they contain in their bins<h1>"
   ]
  },
  {
   "cell_type": "markdown",
   "metadata": {},
   "source": [
    "<h2 id='6.1'> learn how to get the genes </h2>"
   ]
  },
  {
   "cell_type": "markdown",
   "metadata": {},
   "source": [
    "Before we run to get genes, we should learn string function `split()` and `substring()`."
   ]
  },
  {
   "cell_type": "markdown",
   "metadata": {},
   "source": [
    "Example is a chr12 node, we use `split()` to get a list of details property of this node.   \n",
    "\n",
    "`split()` returns a list of strings resulting from the splitting of the original string around matches of the given delimiter.\n",
    "\n",
    "Syntax: `split(original, splitDelimiter)`"
   ]
  },
  {
   "cell_type": "code",
   "execution_count": 33,
   "metadata": {},
   "outputs": [
    {
     "data": {
      "text/html": [
       "<table>\n",
       "<caption>A data.frame: 1 × 1</caption>\n",
       "<thead>\n",
       "\t<tr><th scope=col>Details</th></tr>\n",
       "\t<tr><th scope=col>&lt;list&gt;</th></tr>\n",
       "</thead>\n",
       "<tbody>\n",
       "\t<tr><td>3791047                          , 3873448                          , gene_id ENSG00000111224.13       ,  gene_type protein_coding        ,  gene_name PARP11                ,  level 2                         ,  havana_gene OTTHUMG00000156442.5, |3839459                         , 3842525                          , gene_id ENSG00000118976.5        ,  gene_type processed_pseudogene  ,  gene_name HIN1L                 ,  level 1                         ,  tag pseudo_consens              ,  havana_gene OTTHUMG00000168119.1, |3871734                         , 3910338                          , gene_id ENSG00000256862.1        ,  gene_type antisense             ,  gene_name RP11-664D1.1          ,  level 2                         ,  havana_gene OTTHUMG00000168120.1,                                  </td></tr>\n",
       "</tbody>\n",
       "</table>\n"
      ],
      "text/latex": [
       "A data.frame: 1 × 1\n",
       "\\begin{tabular}{r|l}\n",
       " Details\\\\\n",
       " <list>\\\\\n",
       "\\hline\n",
       "\t 3791047                          , 3873448                          , gene\\_id ENSG00000111224.13       ,  gene\\_type protein\\_coding        ,  gene\\_name PARP11                ,  level 2                         ,  havana\\_gene OTTHUMG00000156442.5, \\textbar{}3839459                         , 3842525                          , gene\\_id ENSG00000118976.5        ,  gene\\_type processed\\_pseudogene  ,  gene\\_name HIN1L                 ,  level 1                         ,  tag pseudo\\_consens              ,  havana\\_gene OTTHUMG00000168119.1, \\textbar{}3871734                         , 3910338                          , gene\\_id ENSG00000256862.1        ,  gene\\_type antisense             ,  gene\\_name RP11-664D1.1          ,  level 2                         ,  havana\\_gene OTTHUMG00000168120.1,                                  \\\\\n",
       "\\end{tabular}\n"
      ],
      "text/markdown": [
       "\n",
       "A data.frame: 1 × 1\n",
       "\n",
       "| Details &lt;list&gt; |\n",
       "|---|\n",
       "| 3791047                          , 3873448                          , gene_id ENSG00000111224.13       ,  gene_type protein_coding        ,  gene_name PARP11                ,  level 2                         ,  havana_gene OTTHUMG00000156442.5, |3839459                         , 3842525                          , gene_id ENSG00000118976.5        ,  gene_type processed_pseudogene  ,  gene_name HIN1L                 ,  level 1                         ,  tag pseudo_consens              ,  havana_gene OTTHUMG00000168119.1, |3871734                         , 3910338                          , gene_id ENSG00000256862.1        ,  gene_type antisense             ,  gene_name RP11-664D1.1          ,  level 2                         ,  havana_gene OTTHUMG00000168120.1,                                   |\n",
       "\n"
      ],
      "text/plain": [
       "  Details                                                                                                                                                                                                                                                                                                                                                                                                                                                                                                                                                                                                                                                                                                                                                                                                                            \n",
       "1 3791047                          , 3873448                          , gene_id ENSG00000111224.13       ,  gene_type protein_coding        ,  gene_name PARP11                ,  level 2                         ,  havana_gene OTTHUMG00000156442.5, |3839459                         , 3842525                          , gene_id ENSG00000118976.5        ,  gene_type processed_pseudogene  ,  gene_name HIN1L                 ,  level 1                         ,  tag pseudo_consens              ,  havana_gene OTTHUMG00000168119.1, |3871734                         , 3910338                          , gene_id ENSG00000256862.1        ,  gene_type antisense             ,  gene_name RP11-664D1.1          ,  level 2                         ,  havana_gene OTTHUMG00000168120.1,                                  "
      ]
     },
     "metadata": {},
     "output_type": "display_data"
    }
   ],
   "source": [
    "query = \"MATCH( chr12:chr12{Name: 'Bin20'})\n",
    "RETURN split(chr12.Details, ';') as Details\"\n",
    "cypher(graph,query)"
   ]
  },
  {
   "cell_type": "markdown",
   "metadata": {},
   "source": [
    "In order to you can easy to see that this result is list; we use `UNWIND` to  transform this list back into individual rows."
   ]
  },
  {
   "cell_type": "code",
   "execution_count": 34,
   "metadata": {},
   "outputs": [
    {
     "data": {
      "text/html": [
       "<table>\n",
       "<caption>A data.frame: 23 × 1</caption>\n",
       "<thead>\n",
       "\t<tr><th scope=col>details</th></tr>\n",
       "\t<tr><th scope=col>&lt;chr&gt;</th></tr>\n",
       "</thead>\n",
       "<tbody>\n",
       "\t<tr><td>3791047                          </td></tr>\n",
       "\t<tr><td>3873448                          </td></tr>\n",
       "\t<tr><td>gene_id ENSG00000111224.13       </td></tr>\n",
       "\t<tr><td> gene_type protein_coding        </td></tr>\n",
       "\t<tr><td> gene_name PARP11                </td></tr>\n",
       "\t<tr><td> level 2                         </td></tr>\n",
       "\t<tr><td> havana_gene OTTHUMG00000156442.5</td></tr>\n",
       "\t<tr><td>|3839459                         </td></tr>\n",
       "\t<tr><td>3842525                          </td></tr>\n",
       "\t<tr><td>gene_id ENSG00000118976.5        </td></tr>\n",
       "\t<tr><td> gene_type processed_pseudogene  </td></tr>\n",
       "\t<tr><td> gene_name HIN1L                 </td></tr>\n",
       "\t<tr><td> level 1                         </td></tr>\n",
       "\t<tr><td> tag pseudo_consens              </td></tr>\n",
       "\t<tr><td> havana_gene OTTHUMG00000168119.1</td></tr>\n",
       "\t<tr><td>|3871734                         </td></tr>\n",
       "\t<tr><td>3910338                          </td></tr>\n",
       "\t<tr><td>gene_id ENSG00000256862.1        </td></tr>\n",
       "\t<tr><td> gene_type antisense             </td></tr>\n",
       "\t<tr><td> gene_name RP11-664D1.1          </td></tr>\n",
       "\t<tr><td> level 2                         </td></tr>\n",
       "\t<tr><td> havana_gene OTTHUMG00000168120.1</td></tr>\n",
       "\t<tr><td>                                 </td></tr>\n",
       "</tbody>\n",
       "</table>\n"
      ],
      "text/latex": [
       "A data.frame: 23 × 1\n",
       "\\begin{tabular}{r|l}\n",
       " details\\\\\n",
       " <chr>\\\\\n",
       "\\hline\n",
       "\t 3791047                          \\\\\n",
       "\t 3873448                          \\\\\n",
       "\t gene\\_id ENSG00000111224.13       \\\\\n",
       "\t  gene\\_type protein\\_coding        \\\\\n",
       "\t  gene\\_name PARP11                \\\\\n",
       "\t  level 2                         \\\\\n",
       "\t  havana\\_gene OTTHUMG00000156442.5\\\\\n",
       "\t \\textbar{}3839459                         \\\\\n",
       "\t 3842525                          \\\\\n",
       "\t gene\\_id ENSG00000118976.5        \\\\\n",
       "\t  gene\\_type processed\\_pseudogene  \\\\\n",
       "\t  gene\\_name HIN1L                 \\\\\n",
       "\t  level 1                         \\\\\n",
       "\t  tag pseudo\\_consens              \\\\\n",
       "\t  havana\\_gene OTTHUMG00000168119.1\\\\\n",
       "\t \\textbar{}3871734                         \\\\\n",
       "\t 3910338                          \\\\\n",
       "\t gene\\_id ENSG00000256862.1        \\\\\n",
       "\t  gene\\_type antisense             \\\\\n",
       "\t  gene\\_name RP11-664D1.1          \\\\\n",
       "\t  level 2                         \\\\\n",
       "\t  havana\\_gene OTTHUMG00000168120.1\\\\\n",
       "\t                                  \\\\\n",
       "\\end{tabular}\n"
      ],
      "text/markdown": [
       "\n",
       "A data.frame: 23 × 1\n",
       "\n",
       "| details &lt;chr&gt; |\n",
       "|---|\n",
       "| 3791047                           |\n",
       "| 3873448                           |\n",
       "| gene_id ENSG00000111224.13        |\n",
       "|  gene_type protein_coding         |\n",
       "|  gene_name PARP11                 |\n",
       "|  level 2                          |\n",
       "|  havana_gene OTTHUMG00000156442.5 |\n",
       "| |3839459                          |\n",
       "| 3842525                           |\n",
       "| gene_id ENSG00000118976.5         |\n",
       "|  gene_type processed_pseudogene   |\n",
       "|  gene_name HIN1L                  |\n",
       "|  level 1                          |\n",
       "|  tag pseudo_consens               |\n",
       "|  havana_gene OTTHUMG00000168119.1 |\n",
       "| |3871734                          |\n",
       "| 3910338                           |\n",
       "| gene_id ENSG00000256862.1         |\n",
       "|  gene_type antisense              |\n",
       "|  gene_name RP11-664D1.1           |\n",
       "|  level 2                          |\n",
       "|  havana_gene OTTHUMG00000168120.1 |\n",
       "| <!----> |\n",
       "\n"
      ],
      "text/plain": [
       "   details                          \n",
       "1  3791047                          \n",
       "2  3873448                          \n",
       "3  gene_id ENSG00000111224.13       \n",
       "4   gene_type protein_coding        \n",
       "5   gene_name PARP11                \n",
       "6   level 2                         \n",
       "7   havana_gene OTTHUMG00000156442.5\n",
       "8  |3839459                         \n",
       "9  3842525                          \n",
       "10 gene_id ENSG00000118976.5        \n",
       "11  gene_type processed_pseudogene  \n",
       "12  gene_name HIN1L                 \n",
       "13  level 1                         \n",
       "14  tag pseudo_consens              \n",
       "15  havana_gene OTTHUMG00000168119.1\n",
       "16 |3871734                         \n",
       "17 3910338                          \n",
       "18 gene_id ENSG00000256862.1        \n",
       "19  gene_type antisense             \n",
       "20  gene_name RP11-664D1.1          \n",
       "21  level 2                         \n",
       "22  havana_gene OTTHUMG00000168120.1\n",
       "23                                  "
      ]
     },
     "metadata": {},
     "output_type": "display_data"
    }
   ],
   "source": [
    "query = \"MATCH( chr12:chr12{Name: 'Bin20'})\n",
    "with split(chr12.Details, ';') as Details\n",
    "UNWIND Details AS details\n",
    "RETURN details\n",
    "\"\n",
    "cypher(graph,query)"
   ]
  },
  {
   "cell_type": "markdown",
   "metadata": {},
   "source": [
    "Now, we use `substring()` to get gene names. In Details property, gene names always use `gene_name ` for tell use what its genes contained in this nodes.\n",
    "\n",
    "`substring()` returns a substring of the original string, beginning with a 0-based index start and length.\n",
    "\n",
    "Syntax: `substring(original, start [, length])`"
   ]
  },
  {
   "cell_type": "code",
   "execution_count": 35,
   "metadata": {},
   "outputs": [
    {
     "data": {
      "text/html": [
       "<table>\n",
       "<caption>A data.frame: 3 × 1</caption>\n",
       "<thead>\n",
       "\t<tr><th scope=col>genes</th></tr>\n",
       "\t<tr><th scope=col>&lt;chr&gt;</th></tr>\n",
       "</thead>\n",
       "<tbody>\n",
       "\t<tr><td>PARP11      </td></tr>\n",
       "\t<tr><td>HIN1L       </td></tr>\n",
       "\t<tr><td>RP11-664D1.1</td></tr>\n",
       "</tbody>\n",
       "</table>\n"
      ],
      "text/latex": [
       "A data.frame: 3 × 1\n",
       "\\begin{tabular}{r|l}\n",
       " genes\\\\\n",
       " <chr>\\\\\n",
       "\\hline\n",
       "\t PARP11      \\\\\n",
       "\t HIN1L       \\\\\n",
       "\t RP11-664D1.1\\\\\n",
       "\\end{tabular}\n"
      ],
      "text/markdown": [
       "\n",
       "A data.frame: 3 × 1\n",
       "\n",
       "| genes &lt;chr&gt; |\n",
       "|---|\n",
       "| PARP11       |\n",
       "| HIN1L        |\n",
       "| RP11-664D1.1 |\n",
       "\n"
      ],
      "text/plain": [
       "  genes       \n",
       "1 PARP11      \n",
       "2 HIN1L       \n",
       "3 RP11-664D1.1"
      ]
     },
     "metadata": {},
     "output_type": "display_data"
    }
   ],
   "source": [
    "query = \"MATCH( chr12:chr12{Name: 'Bin20'})\n",
    "with split(chr12.Details, ';') as Details\n",
    "UNWIND Details AS details\n",
    "with details as details\n",
    "where details contains 'gene_name'\n",
    "with details as genes\n",
    "return substring(genes,11) as genes\n",
    "\"\n",
    "cypher(graph,query)"
   ]
  },
  {
   "cell_type": "markdown",
   "metadata": {},
   "source": [
    "<h2 id='6.2'> Get genes in each modules </h2>"
   ]
  },
  {
   "cell_type": "markdown",
   "metadata": {},
   "source": [
    "So, the node chr12 `Bin200` includes 3 genes.\n",
    "\n",
    "###### Now, we can use that functions to do our tasks."
   ]
  },
  {
   "cell_type": "code",
   "execution_count": 36,
   "metadata": {},
   "outputs": [],
   "source": [
    "query = \"\n",
    "// to make louvain modules for chr12\n",
    "CALL algo.louvain.stream(\n",
    "  'MATCH (n:chr12)--(m) with id(n) as chr12,id(m) AS m   MATCH (al) where id(al) = m or  id(al) = chr12 return id(al) as id',\n",
    "  'MATCH (n:chr12)-[r]-(m) RETURN id(n) AS source, id(m) AS target',\n",
    "  {graph:'cypher',direction: 'both'})\n",
    "YIELD nodeId, community\n",
    "\n",
    "// filering community which the number of nodes is more than one\n",
    "with collect(nodeId) AS nodeId , community\n",
    "where size(nodeId) > 1\n",
    "with nodeId, 'Module'+ community AS community\n",
    "\n",
    "// to get communities that contain chromosome 12 nodes. \n",
    "MATCH (chr12:chr12)\n",
    "where id(chr12) in nodeId\n",
    "\n",
    "// split details\n",
    "with split(chr12.Details, ';') as ann, community\n",
    "\n",
    "// then ann is list, we need unlist ann for strings search\n",
    "UNWIND (ann) as ann1\n",
    "with  ann1 as ann1, community\n",
    "\n",
    "// now we want to find out which one terms including gene_name in ann1\n",
    "where ann1 contains 'gene_name'\n",
    "with ann1 as genelist, community\n",
    "\n",
    "// And we can extract the text about real gene names\n",
    "return distinct substring(genelist, 11) as genelist, community\n",
    "\"\n",
    "\n",
    "module_chr12 = cypher(graph, query) "
   ]
  },
  {
   "cell_type": "code",
   "execution_count": 37,
   "metadata": {},
   "outputs": [
    {
     "data": {
      "text/html": [
       "<table>\n",
       "<caption>A data.frame: 6 × 2</caption>\n",
       "<thead>\n",
       "\t<tr><th scope=col>genelist</th><th scope=col>community</th></tr>\n",
       "\t<tr><th scope=col>&lt;chr&gt;</th><th scope=col>&lt;chr&gt;</th></tr>\n",
       "</thead>\n",
       "<tbody>\n",
       "\t<tr><td>DDX11L8           </td><td>Module382</td></tr>\n",
       "\t<tr><td>ABC7-42389800N19.1</td><td>Module382</td></tr>\n",
       "\t<tr><td>RP11-598F7.1      </td><td>Module382</td></tr>\n",
       "\t<tr><td>IQSEC3            </td><td>Module382</td></tr>\n",
       "\t<tr><td>RP11-598F7.3      </td><td>Module382</td></tr>\n",
       "\t<tr><td>RP11-598F7.4      </td><td>Module382</td></tr>\n",
       "</tbody>\n",
       "</table>\n"
      ],
      "text/latex": [
       "A data.frame: 6 × 2\n",
       "\\begin{tabular}{r|ll}\n",
       " genelist & community\\\\\n",
       " <chr> & <chr>\\\\\n",
       "\\hline\n",
       "\t DDX11L8            & Module382\\\\\n",
       "\t ABC7-42389800N19.1 & Module382\\\\\n",
       "\t RP11-598F7.1       & Module382\\\\\n",
       "\t IQSEC3             & Module382\\\\\n",
       "\t RP11-598F7.3       & Module382\\\\\n",
       "\t RP11-598F7.4       & Module382\\\\\n",
       "\\end{tabular}\n"
      ],
      "text/markdown": [
       "\n",
       "A data.frame: 6 × 2\n",
       "\n",
       "| genelist &lt;chr&gt; | community &lt;chr&gt; |\n",
       "|---|---|\n",
       "| DDX11L8            | Module382 |\n",
       "| ABC7-42389800N19.1 | Module382 |\n",
       "| RP11-598F7.1       | Module382 |\n",
       "| IQSEC3             | Module382 |\n",
       "| RP11-598F7.3       | Module382 |\n",
       "| RP11-598F7.4       | Module382 |\n",
       "\n"
      ],
      "text/plain": [
       "  genelist           community\n",
       "1 DDX11L8            Module382\n",
       "2 ABC7-42389800N19.1 Module382\n",
       "3 RP11-598F7.1       Module382\n",
       "4 IQSEC3             Module382\n",
       "5 RP11-598F7.3       Module382\n",
       "6 RP11-598F7.4       Module382"
      ]
     },
     "metadata": {},
     "output_type": "display_data"
    }
   ],
   "source": [
    "head(module_chr12)"
   ]
  },
  {
   "cell_type": "code",
   "execution_count": 38,
   "metadata": {},
   "outputs": [
    {
     "data": {
      "text/html": [
       "<ol class=list-inline>\n",
       "\t<li>3218</li>\n",
       "\t<li>2</li>\n",
       "</ol>\n"
      ],
      "text/latex": [
       "\\begin{enumerate*}\n",
       "\\item 3218\n",
       "\\item 2\n",
       "\\end{enumerate*}\n"
      ],
      "text/markdown": [
       "1. 3218\n",
       "2. 2\n",
       "\n",
       "\n"
      ],
      "text/plain": [
       "[1] 3218    2"
      ]
     },
     "metadata": {},
     "output_type": "display_data"
    }
   ],
   "source": [
    "dim(module_chr12)"
   ]
  },
  {
   "cell_type": "code",
   "execution_count": 39,
   "metadata": {},
   "outputs": [],
   "source": [
    "write.table(module_chr12, file = \"module_chr12.csv\" ,sep=\",\",quote = F, col.names = TRUE, row.names = FALSE)"
   ]
  },
  {
   "cell_type": "markdown",
   "metadata": {},
   "source": [
    "To get `module_chr12.csv` at [here](module_chr12.csv)"
   ]
  },
  {
   "cell_type": "markdown",
   "metadata": {},
   "source": [
    "Or we process the results showing as list of modules with R."
   ]
  },
  {
   "cell_type": "code",
   "execution_count": 40,
   "metadata": {},
   "outputs": [],
   "source": [
    "module_genelist <- aggregate(module_chr12[1], by = module_chr12[2], FUN = as.character)\n",
    "module_genelist <- as.list(module_genelist$genelist)\n",
    "names(module_genelist) <- paste(\"module\",1:length(module_genelist))"
   ]
  },
  {
   "cell_type": "code",
   "execution_count": 41,
   "metadata": {},
   "outputs": [],
   "source": [
    "query = \"\n",
    "// to make louvain modules for chr12\n",
    "CALL algo.louvain.stream(\n",
    "  'MATCH (n:chr12)--(m) with id(n) as chr12,id(m) AS m   MATCH (al) where id(al) = m or  id(al) = chr12 return id(al) as id',\n",
    "  'MATCH (n:chr12)-[r]-(m) RETURN id(n) AS source, id(m) AS target',\n",
    "  {graph:'cypher',direction: 'both'})\n",
    "YIELD nodeId, community\n",
    "\n",
    "// filering community which the number of nodes is more than one\n",
    "with collect(nodeId) AS nodeId , community\n",
    "where size(nodeId) > 1\n",
    "with nodeId, 'Module'+ community AS community\n",
    "\n",
    "// to get communities that contain chromosome 12 nodes. \n",
    "MATCH (chr12:chr12)\n",
    "where id(chr12) in nodeId\n",
    "\n",
    "// split details\n",
    "with split(chr12.Details, ';') as ann, community\n",
    "\n",
    "// then ann is list, we need unlist ann for strings search\n",
    "UNWIND (ann) as ann1\n",
    "with  ann1 as ann1, community\n",
    "\n",
    "// now we want to find out which one terms including gene_name in ann1\n",
    "where ann1 contains 'gene_name'\n",
    "with ann1 as genelist, community\n",
    "\n",
    "// And we can extract the text about real gene names\n",
    "return collect( distinct substring(genelist, 11) ) as genelist, community\n",
    "\"\n",
    "\n",
    "module_chr12_list = RNeo4j::cypher(graph, query)"
   ]
  },
  {
   "cell_type": "markdown",
   "metadata": {},
   "source": [
    "<h2 id='6.3'> enriched modules in some KEGG pathway or GO term.</h2>"
   ]
  },
  {
   "cell_type": "markdown",
   "metadata": {},
   "source": [
    "We use `module_chr12_list` to enrich GO and KEGG."
   ]
  },
  {
   "cell_type": "markdown",
   "metadata": {},
   "source": [
    "<h3 id='6.3.1'> Enrich GO </h3>"
   ]
  },
  {
   "cell_type": "code",
   "execution_count": 42,
   "metadata": {
    "scrolled": false
   },
   "outputs": [
    {
     "name": "stderr",
     "output_type": "stream",
     "text": [
      "\n",
      "Registered S3 method overwritten by 'enrichplot':\n",
      "  method               from\n",
      "  fortify.enrichResult DOSE\n",
      "clusterProfiler v3.12.0  For help: https://guangchuangyu.github.io/software/clusterProfiler\n",
      "\n",
      "If you use clusterProfiler in published research, please cite:\n",
      "Guangchuang Yu, Li-Gen Wang, Yanyan Han, Qing-Yu He. clusterProfiler: an R package for comparing biological themes among gene clusters. OMICS: A Journal of Integrative Biology. 2012, 16(5):284-287.\n",
      "Loading required package: org.Hs.eg.db\n",
      "Loading required package: AnnotationDbi\n",
      "Loading required package: stats4\n",
      "Loading required package: BiocGenerics\n",
      "Loading required package: parallel\n",
      "\n",
      "Attaching package: 'BiocGenerics'\n",
      "\n",
      "The following objects are masked from 'package:parallel':\n",
      "\n",
      "    clusterApply, clusterApplyLB, clusterCall, clusterEvalQ,\n",
      "    clusterExport, clusterMap, parApply, parCapply, parLapply,\n",
      "    parLapplyLB, parRapply, parSapply, parSapplyLB\n",
      "\n",
      "The following objects are masked from 'package:stats':\n",
      "\n",
      "    IQR, mad, sd, var, xtabs\n",
      "\n",
      "The following objects are masked from 'package:base':\n",
      "\n",
      "    anyDuplicated, append, as.data.frame, basename, cbind, colnames,\n",
      "    dirname, do.call, duplicated, eval, evalq, Filter, Find, get, grep,\n",
      "    grepl, intersect, is.unsorted, lapply, Map, mapply, match, mget,\n",
      "    order, paste, pmax, pmax.int, pmin, pmin.int, Position, rank,\n",
      "    rbind, Reduce, rownames, sapply, setdiff, sort, table, tapply,\n",
      "    union, unique, unsplit, which, which.max, which.min\n",
      "\n",
      "Loading required package: Biobase\n",
      "Welcome to Bioconductor\n",
      "\n",
      "    Vignettes contain introductory material; view with\n",
      "    'browseVignettes()'. To cite Bioconductor, see\n",
      "    'citation(\"Biobase\")', and for packages 'citation(\"pkgname\")'.\n",
      "\n",
      "Loading required package: IRanges\n",
      "Loading required package: S4Vectors\n",
      "\n",
      "Attaching package: 'S4Vectors'\n",
      "\n",
      "The following object is masked from 'package:base':\n",
      "\n",
      "    expand.grid\n",
      "\n",
      "\n",
      "Attaching package: 'IRanges'\n",
      "\n",
      "The following object is masked from 'package:grDevices':\n",
      "\n",
      "    windows\n",
      "\n",
      "\n",
      "Warning message in `[<-`(`*tmp*`, i, value = enrichGO(module_gene, \"org.Hs.eg.db\", :\n",
      "\"implicit list embedding of S4 objects is deprecated\"Warning message in `[<-`(`*tmp*`, i, value = enrichGO(module_gene, \"org.Hs.eg.db\", :\n",
      "\"implicit list embedding of S4 objects is deprecated\"Warning message in `[<-`(`*tmp*`, i, value = enrichGO(module_gene, \"org.Hs.eg.db\", :\n",
      "\"implicit list embedding of S4 objects is deprecated\"Warning message in `[<-`(`*tmp*`, i, value = enrichGO(module_gene, \"org.Hs.eg.db\", :\n",
      "\"implicit list embedding of S4 objects is deprecated\"Warning message in `[<-`(`*tmp*`, i, value = enrichGO(module_gene, \"org.Hs.eg.db\", :\n",
      "\"implicit list embedding of S4 objects is deprecated\"Warning message in `[<-`(`*tmp*`, i, value = enrichGO(module_gene, \"org.Hs.eg.db\", :\n",
      "\"implicit list embedding of S4 objects is deprecated\"Warning message in `[<-`(`*tmp*`, i, value = enrichGO(module_gene, \"org.Hs.eg.db\", :\n",
      "\"implicit list embedding of S4 objects is deprecated\"Warning message in `[<-`(`*tmp*`, i, value = enrichGO(module_gene, \"org.Hs.eg.db\", :\n",
      "\"implicit list embedding of S4 objects is deprecated\"Warning message in `[<-`(`*tmp*`, i, value = enrichGO(module_gene, \"org.Hs.eg.db\", :\n",
      "\"implicit list embedding of S4 objects is deprecated\"Warning message in `[<-`(`*tmp*`, i, value = enrichGO(module_gene, \"org.Hs.eg.db\", :\n",
      "\"implicit list embedding of S4 objects is deprecated\"Warning message in `[<-`(`*tmp*`, i, value = enrichGO(module_gene, \"org.Hs.eg.db\", :\n",
      "\"implicit list embedding of S4 objects is deprecated\"Warning message in `[<-`(`*tmp*`, i, value = enrichGO(module_gene, \"org.Hs.eg.db\", :\n",
      "\"implicit list embedding of S4 objects is deprecated\"Warning message in `[<-`(`*tmp*`, i, value = enrichGO(module_gene, \"org.Hs.eg.db\", :\n",
      "\"implicit list embedding of S4 objects is deprecated\"Warning message in `[<-`(`*tmp*`, i, value = enrichGO(module_gene, \"org.Hs.eg.db\", :\n",
      "\"implicit list embedding of S4 objects is deprecated\"Warning message in `[<-`(`*tmp*`, i, value = enrichGO(module_gene, \"org.Hs.eg.db\", :\n",
      "\"implicit list embedding of S4 objects is deprecated\"Warning message in `[<-`(`*tmp*`, i, value = enrichGO(module_gene, \"org.Hs.eg.db\", :\n",
      "\"implicit list embedding of S4 objects is deprecated\"Warning message in `[<-`(`*tmp*`, i, value = enrichGO(module_gene, \"org.Hs.eg.db\", :\n",
      "\"implicit list embedding of S4 objects is deprecated\"Warning message in `[<-`(`*tmp*`, i, value = enrichGO(module_gene, \"org.Hs.eg.db\", :\n",
      "\"implicit list embedding of S4 objects is deprecated\"Warning message in `[<-`(`*tmp*`, i, value = enrichGO(module_gene, \"org.Hs.eg.db\", :\n",
      "\"implicit list embedding of S4 objects is deprecated\"Warning message in `[<-`(`*tmp*`, i, value = enrichGO(module_gene, \"org.Hs.eg.db\", :\n",
      "\"implicit list embedding of S4 objects is deprecated\"Warning message in `[<-`(`*tmp*`, i, value = enrichGO(module_gene, \"org.Hs.eg.db\", :\n",
      "\"implicit list embedding of S4 objects is deprecated\"Warning message in `[<-`(`*tmp*`, i, value = enrichGO(module_gene, \"org.Hs.eg.db\", :\n",
      "\"implicit list embedding of S4 objects is deprecated\"Warning message in `[<-`(`*tmp*`, i, value = enrichGO(module_gene, \"org.Hs.eg.db\", :\n",
      "\"implicit list embedding of S4 objects is deprecated\"Warning message in `[<-`(`*tmp*`, i, value = enrichGO(module_gene, \"org.Hs.eg.db\", :\n",
      "\"implicit list embedding of S4 objects is deprecated\"Warning message in `[<-`(`*tmp*`, i, value = enrichGO(module_gene, \"org.Hs.eg.db\", :\n",
      "\"implicit list embedding of S4 objects is deprecated\"Warning message in `[<-`(`*tmp*`, i, value = enrichGO(module_gene, \"org.Hs.eg.db\", :\n",
      "\"implicit list embedding of S4 objects is deprecated\"Warning message in `[<-`(`*tmp*`, i, value = enrichGO(module_gene, \"org.Hs.eg.db\", :\n",
      "\"implicit list embedding of S4 objects is deprecated\"Warning message in `[<-`(`*tmp*`, i, value = enrichGO(module_gene, \"org.Hs.eg.db\", :\n",
      "\"implicit list embedding of S4 objects is deprecated\"Warning message in `[<-`(`*tmp*`, i, value = enrichGO(module_gene, \"org.Hs.eg.db\", :\n",
      "\"implicit list embedding of S4 objects is deprecated\"Warning message in `[<-`(`*tmp*`, i, value = enrichGO(module_gene, \"org.Hs.eg.db\", :\n",
      "\"implicit list embedding of S4 objects is deprecated\"Warning message in `[<-`(`*tmp*`, i, value = enrichGO(module_gene, \"org.Hs.eg.db\", :\n",
      "\"implicit list embedding of S4 objects is deprecated\"Warning message in `[<-`(`*tmp*`, i, value = enrichGO(module_gene, \"org.Hs.eg.db\", :\n",
      "\"implicit list embedding of S4 objects is deprecated\"Warning message in `[<-`(`*tmp*`, i, value = enrichGO(module_gene, \"org.Hs.eg.db\", :\n",
      "\"implicit list embedding of S4 objects is deprecated\"Warning message in `[<-`(`*tmp*`, i, value = enrichGO(module_gene, \"org.Hs.eg.db\", :\n",
      "\"implicit list embedding of S4 objects is deprecated\"Warning message in `[<-`(`*tmp*`, i, value = enrichGO(module_gene, \"org.Hs.eg.db\", :\n",
      "\"implicit list embedding of S4 objects is deprecated\"Warning message in `[<-`(`*tmp*`, i, value = enrichGO(module_gene, \"org.Hs.eg.db\", :\n",
      "\"implicit list embedding of S4 objects is deprecated\"Warning message in `[<-`(`*tmp*`, i, value = enrichGO(module_gene, \"org.Hs.eg.db\", :\n",
      "\"implicit list embedding of S4 objects is deprecated\"Warning message in `[<-`(`*tmp*`, i, value = enrichGO(module_gene, \"org.Hs.eg.db\", :\n",
      "\"implicit list embedding of S4 objects is deprecated\"Warning message in `[<-`(`*tmp*`, i, value = enrichGO(module_gene, \"org.Hs.eg.db\", :\n",
      "\"implicit list embedding of S4 objects is deprecated\"Warning message in `[<-`(`*tmp*`, i, value = enrichGO(module_gene, \"org.Hs.eg.db\", :\n",
      "\"implicit list embedding of S4 objects is deprecated\"Warning message in `[<-`(`*tmp*`, i, value = enrichGO(module_gene, \"org.Hs.eg.db\", :\n",
      "\"implicit list embedding of S4 objects is deprecated\"Warning message in `[<-`(`*tmp*`, i, value = enrichGO(module_gene, \"org.Hs.eg.db\", :\n",
      "\"implicit list embedding of S4 objects is deprecated\"Warning message in `[<-`(`*tmp*`, i, value = enrichGO(module_gene, \"org.Hs.eg.db\", :\n",
      "\"implicit list embedding of S4 objects is deprecated\"Warning message in `[<-`(`*tmp*`, i, value = enrichGO(module_gene, \"org.Hs.eg.db\", :\n",
      "\"implicit list embedding of S4 objects is deprecated\"Warning message in `[<-`(`*tmp*`, i, value = enrichGO(module_gene, \"org.Hs.eg.db\", :\n",
      "\"implicit list embedding of S4 objects is deprecated\"Warning message in `[<-`(`*tmp*`, i, value = enrichGO(module_gene, \"org.Hs.eg.db\", :\n"
     ]
    },
    {
     "name": "stderr",
     "output_type": "stream",
     "text": [
      "\"implicit list embedding of S4 objects is deprecated\"Warning message in `[<-`(`*tmp*`, i, value = enrichGO(module_gene, \"org.Hs.eg.db\", :\n",
      "\"implicit list embedding of S4 objects is deprecated\"Warning message in `[<-`(`*tmp*`, i, value = enrichGO(module_gene, \"org.Hs.eg.db\", :\n",
      "\"implicit list embedding of S4 objects is deprecated\""
     ]
    }
   ],
   "source": [
    "library(clusterProfiler)\n",
    "module_chr12_list_enrichGO <- list()\n",
    "for (i in 1:nrow(module_chr12_list)){\n",
    "  module_gene <- unlist(module_chr12_list$genelist[i])\n",
    "  module_chr12_list_enrichGO[i] <- enrichGO(module_gene, \n",
    "                                            'org.Hs.eg.db',\n",
    "                                            keyType = 'SYMBOL', \n",
    "                                            pvalueCutoff = 0.05)\n",
    "}\n",
    "names(module_chr12_list_enrichGO) <- module_chr12_list$community"
   ]
  },
  {
   "cell_type": "code",
   "execution_count": 43,
   "metadata": {
    "scrolled": false
   },
   "outputs": [
    {
     "data": {
      "text/html": [
       "<table>\n",
       "<caption>A data.frame: 6 × 9</caption>\n",
       "<thead>\n",
       "\t<tr><th></th><th scope=col>ID</th><th scope=col>Description</th><th scope=col>GeneRatio</th><th scope=col>BgRatio</th><th scope=col>pvalue</th><th scope=col>p.adjust</th><th scope=col>qvalue</th><th scope=col>geneID</th><th scope=col>Count</th></tr>\n",
       "\t<tr><th></th><th scope=col>&lt;chr&gt;</th><th scope=col>&lt;chr&gt;</th><th scope=col>&lt;chr&gt;</th><th scope=col>&lt;chr&gt;</th><th scope=col>&lt;dbl&gt;</th><th scope=col>&lt;dbl&gt;</th><th scope=col>&lt;dbl&gt;</th><th scope=col>&lt;chr&gt;</th><th scope=col>&lt;int&gt;</th></tr>\n",
       "</thead>\n",
       "<tbody>\n",
       "\t<tr><th scope=row>GO:0045505</th><td>GO:0045505</td><td>dynein intermediate chain binding             </td><td>1/10</td><td>10/16969 </td><td>0.005879051</td><td>0.09862894</td><td>0.05956882</td><td>RAN     </td><td>1</td></tr>\n",
       "\t<tr><th scope=row>GO:0000287</th><td>GO:0000287</td><td>magnesium ion binding                         </td><td>2/10</td><td>209/16969</td><td>0.006365894</td><td>0.09862894</td><td>0.05956882</td><td>WNK1/RAN</td><td>2</td></tr>\n",
       "\t<tr><th scope=row>GO:0005086</th><td>GO:0005086</td><td>ARF guanyl-nucleotide exchange factor activity</td><td>1/10</td><td>16/16969 </td><td>0.009391532</td><td>0.09862894</td><td>0.05956882</td><td>IQSEC3  </td><td>1</td></tr>\n",
       "\t<tr><th scope=row>GO:0017081</th><td>GO:0017081</td><td>chloride channel regulator activity           </td><td>1/10</td><td>16/16969 </td><td>0.009391532</td><td>0.09862894</td><td>0.05956882</td><td>WNK1    </td><td>1</td></tr>\n",
       "\t<tr><th scope=row>GO:0140103</th><td>GO:0140103</td><td>catalytic activity, acting on a glycoprotein  </td><td>1/10</td><td>20/16969 </td><td>0.011726977</td><td>0.09862894</td><td>0.05956882</td><td>B4GALNT3</td><td>1</td></tr>\n",
       "\t<tr><th scope=row>GO:0032452</th><td>GO:0032452</td><td>histone demethylase activity                  </td><td>1/10</td><td>22/16969 </td><td>0.012892840</td><td>0.09862894</td><td>0.05956882</td><td>KDM5A   </td><td>1</td></tr>\n",
       "</tbody>\n",
       "</table>\n"
      ],
      "text/latex": [
       "A data.frame: 6 × 9\n",
       "\\begin{tabular}{r|lllllllll}\n",
       "  & ID & Description & GeneRatio & BgRatio & pvalue & p.adjust & qvalue & geneID & Count\\\\\n",
       "  & <chr> & <chr> & <chr> & <chr> & <dbl> & <dbl> & <dbl> & <chr> & <int>\\\\\n",
       "\\hline\n",
       "\tGO:0045505 & GO:0045505 & dynein intermediate chain binding              & 1/10 & 10/16969  & 0.005879051 & 0.09862894 & 0.05956882 & RAN      & 1\\\\\n",
       "\tGO:0000287 & GO:0000287 & magnesium ion binding                          & 2/10 & 209/16969 & 0.006365894 & 0.09862894 & 0.05956882 & WNK1/RAN & 2\\\\\n",
       "\tGO:0005086 & GO:0005086 & ARF guanyl-nucleotide exchange factor activity & 1/10 & 16/16969  & 0.009391532 & 0.09862894 & 0.05956882 & IQSEC3   & 1\\\\\n",
       "\tGO:0017081 & GO:0017081 & chloride channel regulator activity            & 1/10 & 16/16969  & 0.009391532 & 0.09862894 & 0.05956882 & WNK1     & 1\\\\\n",
       "\tGO:0140103 & GO:0140103 & catalytic activity, acting on a glycoprotein   & 1/10 & 20/16969  & 0.011726977 & 0.09862894 & 0.05956882 & B4GALNT3 & 1\\\\\n",
       "\tGO:0032452 & GO:0032452 & histone demethylase activity                   & 1/10 & 22/16969  & 0.012892840 & 0.09862894 & 0.05956882 & KDM5A    & 1\\\\\n",
       "\\end{tabular}\n"
      ],
      "text/markdown": [
       "\n",
       "A data.frame: 6 × 9\n",
       "\n",
       "| <!--/--> | ID &lt;chr&gt; | Description &lt;chr&gt; | GeneRatio &lt;chr&gt; | BgRatio &lt;chr&gt; | pvalue &lt;dbl&gt; | p.adjust &lt;dbl&gt; | qvalue &lt;dbl&gt; | geneID &lt;chr&gt; | Count &lt;int&gt; |\n",
       "|---|---|---|---|---|---|---|---|---|---|\n",
       "| GO:0045505 | GO:0045505 | dynein intermediate chain binding              | 1/10 | 10/16969  | 0.005879051 | 0.09862894 | 0.05956882 | RAN      | 1 |\n",
       "| GO:0000287 | GO:0000287 | magnesium ion binding                          | 2/10 | 209/16969 | 0.006365894 | 0.09862894 | 0.05956882 | WNK1/RAN | 2 |\n",
       "| GO:0005086 | GO:0005086 | ARF guanyl-nucleotide exchange factor activity | 1/10 | 16/16969  | 0.009391532 | 0.09862894 | 0.05956882 | IQSEC3   | 1 |\n",
       "| GO:0017081 | GO:0017081 | chloride channel regulator activity            | 1/10 | 16/16969  | 0.009391532 | 0.09862894 | 0.05956882 | WNK1     | 1 |\n",
       "| GO:0140103 | GO:0140103 | catalytic activity, acting on a glycoprotein   | 1/10 | 20/16969  | 0.011726977 | 0.09862894 | 0.05956882 | B4GALNT3 | 1 |\n",
       "| GO:0032452 | GO:0032452 | histone demethylase activity                   | 1/10 | 22/16969  | 0.012892840 | 0.09862894 | 0.05956882 | KDM5A    | 1 |\n",
       "\n"
      ],
      "text/plain": [
       "           ID         Description                                    GeneRatio\n",
       "GO:0045505 GO:0045505 dynein intermediate chain binding              1/10     \n",
       "GO:0000287 GO:0000287 magnesium ion binding                          2/10     \n",
       "GO:0005086 GO:0005086 ARF guanyl-nucleotide exchange factor activity 1/10     \n",
       "GO:0017081 GO:0017081 chloride channel regulator activity            1/10     \n",
       "GO:0140103 GO:0140103 catalytic activity, acting on a glycoprotein   1/10     \n",
       "GO:0032452 GO:0032452 histone demethylase activity                   1/10     \n",
       "           BgRatio   pvalue      p.adjust   qvalue     geneID   Count\n",
       "GO:0045505 10/16969  0.005879051 0.09862894 0.05956882 RAN      1    \n",
       "GO:0000287 209/16969 0.006365894 0.09862894 0.05956882 WNK1/RAN 2    \n",
       "GO:0005086 16/16969  0.009391532 0.09862894 0.05956882 IQSEC3   1    \n",
       "GO:0017081 16/16969  0.009391532 0.09862894 0.05956882 WNK1     1    \n",
       "GO:0140103 20/16969  0.011726977 0.09862894 0.05956882 B4GALNT3 1    \n",
       "GO:0032452 22/16969  0.012892840 0.09862894 0.05956882 KDM5A    1    "
      ]
     },
     "metadata": {},
     "output_type": "display_data"
    }
   ],
   "source": [
    "head(module_chr12_list_enrichGO[[1]]@result)"
   ]
  },
  {
   "cell_type": "markdown",
   "metadata": {},
   "source": [
    "<h3 id='6.3.2'> Enrich KEGG</h3>"
   ]
  },
  {
   "cell_type": "code",
   "execution_count": 44,
   "metadata": {},
   "outputs": [
    {
     "name": "stderr",
     "output_type": "stream",
     "text": [
      "Your code contains a unicode char which cannot be displayed in your\n",
      "current locale and R will silently convert it to an escaped form when the\n",
      "R kernel executes this code. This can lead to subtle errors if you use\n",
      "such chars to do comparisons. For more information, please see\n",
      "https://github.com/IRkernel/repr/wiki/Problems-with-unicode-on-windows'select()' returned 1:many mapping between keys and columns\n",
      "Warning message in `[<-`(`*tmp*`, i, value = enrichKEGG(geneIDselect$ENTREZID, organism = \"hsa\", :\n",
      "\"implicit list embedding of S4 objects is deprecated\"'select()' returned 1:many mapping between keys and columns\n",
      "Warning message in `[<-`(`*tmp*`, i, value = enrichKEGG(geneIDselect$ENTREZID, organism = \"hsa\", :\n",
      "\"implicit list embedding of S4 objects is deprecated\"'select()' returned 1:many mapping between keys and columns\n",
      "Warning message in `[<-`(`*tmp*`, i, value = enrichKEGG(geneIDselect$ENTREZID, organism = \"hsa\", :\n",
      "\"implicit list embedding of S4 objects is deprecated\"'select()' returned 1:many mapping between keys and columns\n",
      "Warning message in `[<-`(`*tmp*`, i, value = enrichKEGG(geneIDselect$ENTREZID, organism = \"hsa\", :\n",
      "\"implicit list embedding of S4 objects is deprecated\"'select()' returned 1:many mapping between keys and columns\n",
      "Warning message in `[<-`(`*tmp*`, i, value = enrichKEGG(geneIDselect$ENTREZID, organism = \"hsa\", :\n",
      "\"implicit list embedding of S4 objects is deprecated\"'select()' returned 1:many mapping between keys and columns\n",
      "Warning message in `[<-`(`*tmp*`, i, value = enrichKEGG(geneIDselect$ENTREZID, organism = \"hsa\", :\n",
      "\"implicit list embedding of S4 objects is deprecated\"'select()' returned 1:1 mapping between keys and columns\n",
      "Warning message in `[<-`(`*tmp*`, i, value = enrichKEGG(geneIDselect$ENTREZID, organism = \"hsa\", :\n",
      "\"implicit list embedding of S4 objects is deprecated\"'select()' returned 1:1 mapping between keys and columns\n",
      "Warning message in `[<-`(`*tmp*`, i, value = enrichKEGG(geneIDselect$ENTREZID, organism = \"hsa\", :\n",
      "\"implicit list embedding of S4 objects is deprecated\"'select()' returned 1:many mapping between keys and columns\n",
      "Warning message in `[<-`(`*tmp*`, i, value = enrichKEGG(geneIDselect$ENTREZID, organism = \"hsa\", :\n",
      "\"implicit list embedding of S4 objects is deprecated\"'select()' returned 1:1 mapping between keys and columns\n",
      "Warning message in `[<-`(`*tmp*`, i, value = enrichKEGG(geneIDselect$ENTREZID, organism = \"hsa\", :\n",
      "\"implicit list embedding of S4 objects is deprecated\"'select()' returned 1:1 mapping between keys and columns\n",
      "Warning message in `[<-`(`*tmp*`, i, value = enrichKEGG(geneIDselect$ENTREZID, organism = \"hsa\", :\n",
      "\"implicit list embedding of S4 objects is deprecated\"'select()' returned 1:many mapping between keys and columns\n",
      "Warning message in `[<-`(`*tmp*`, i, value = enrichKEGG(geneIDselect$ENTREZID, organism = \"hsa\", :\n",
      "\"implicit list embedding of S4 objects is deprecated\"'select()' returned 1:1 mapping between keys and columns\n",
      "Warning message in `[<-`(`*tmp*`, i, value = enrichKEGG(geneIDselect$ENTREZID, organism = \"hsa\", :\n",
      "\"implicit list embedding of S4 objects is deprecated\"'select()' returned 1:1 mapping between keys and columns\n",
      "Warning message in `[<-`(`*tmp*`, i, value = enrichKEGG(geneIDselect$ENTREZID, organism = \"hsa\", :\n",
      "\"implicit list embedding of S4 objects is deprecated\"'select()' returned 1:1 mapping between keys and columns\n",
      "Warning message in `[<-`(`*tmp*`, i, value = enrichKEGG(geneIDselect$ENTREZID, organism = \"hsa\", :\n",
      "\"implicit list embedding of S4 objects is deprecated\"'select()' returned 1:1 mapping between keys and columns\n",
      "Warning message in `[<-`(`*tmp*`, i, value = enrichKEGG(geneIDselect$ENTREZID, organism = \"hsa\", :\n",
      "\"implicit list embedding of S4 objects is deprecated\"'select()' returned 1:1 mapping between keys and columns\n",
      "Warning message in `[<-`(`*tmp*`, i, value = enrichKEGG(geneIDselect$ENTREZID, organism = \"hsa\", :\n",
      "\"implicit list embedding of S4 objects is deprecated\"'select()' returned 1:1 mapping between keys and columns\n",
      "Warning message in `[<-`(`*tmp*`, i, value = enrichKEGG(geneIDselect$ENTREZID, organism = \"hsa\", :\n",
      "\"implicit list embedding of S4 objects is deprecated\"'select()' returned 1:many mapping between keys and columns\n",
      "Warning message in `[<-`(`*tmp*`, i, value = enrichKEGG(geneIDselect$ENTREZID, organism = \"hsa\", :\n",
      "\"implicit list embedding of S4 objects is deprecated\"'select()' returned 1:many mapping between keys and columns\n",
      "Warning message in `[<-`(`*tmp*`, i, value = enrichKEGG(geneIDselect$ENTREZID, organism = \"hsa\", :\n",
      "\"implicit list embedding of S4 objects is deprecated\"'select()' returned 1:1 mapping between keys and columns\n",
      "Warning message in `[<-`(`*tmp*`, i, value = enrichKEGG(geneIDselect$ENTREZID, organism = \"hsa\", :\n",
      "\"implicit list embedding of S4 objects is deprecated\"'select()' returned 1:1 mapping between keys and columns\n",
      "Warning message in `[<-`(`*tmp*`, i, value = enrichKEGG(geneIDselect$ENTREZID, organism = \"hsa\", :\n",
      "\"implicit list embedding of S4 objects is deprecated\"'select()' returned 1:many mapping between keys and columns\n",
      "Warning message in `[<-`(`*tmp*`, i, value = enrichKEGG(geneIDselect$ENTREZID, organism = \"hsa\", :\n",
      "\"implicit list embedding of S4 objects is deprecated\"'select()' returned 1:1 mapping between keys and columns\n",
      "Warning message in `[<-`(`*tmp*`, i, value = enrichKEGG(geneIDselect$ENTREZID, organism = \"hsa\", :\n",
      "\"implicit list embedding of S4 objects is deprecated\"'select()' returned 1:1 mapping between keys and columns\n",
      "Warning message in `[<-`(`*tmp*`, i, value = enrichKEGG(geneIDselect$ENTREZID, organism = \"hsa\", :\n",
      "\"implicit list embedding of S4 objects is deprecated\"'select()' returned 1:many mapping between keys and columns\n",
      "Warning message in `[<-`(`*tmp*`, i, value = enrichKEGG(geneIDselect$ENTREZID, organism = \"hsa\", :\n",
      "\"implicit list embedding of S4 objects is deprecated\"'select()' returned 1:1 mapping between keys and columns\n",
      "Warning message in `[<-`(`*tmp*`, i, value = enrichKEGG(geneIDselect$ENTREZID, organism = \"hsa\", :\n",
      "\"implicit list embedding of S4 objects is deprecated\"'select()' returned 1:many mapping between keys and columns\n",
      "Warning message in `[<-`(`*tmp*`, i, value = enrichKEGG(geneIDselect$ENTREZID, organism = \"hsa\", :\n",
      "\"implicit list embedding of S4 objects is deprecated\"'select()' returned 1:1 mapping between keys and columns\n",
      "Warning message in `[<-`(`*tmp*`, i, value = enrichKEGG(geneIDselect$ENTREZID, organism = \"hsa\", :\n",
      "\"implicit list embedding of S4 objects is deprecated\"'select()' returned 1:many mapping between keys and columns\n",
      "Warning message in `[<-`(`*tmp*`, i, value = enrichKEGG(geneIDselect$ENTREZID, organism = \"hsa\", :\n",
      "\"implicit list embedding of S4 objects is deprecated\"'select()' returned 1:many mapping between keys and columns\n",
      "Warning message in `[<-`(`*tmp*`, i, value = enrichKEGG(geneIDselect$ENTREZID, organism = \"hsa\", :\n",
      "\"implicit list embedding of S4 objects is deprecated\"'select()' returned 1:1 mapping between keys and columns\n",
      "--> No gene can be mapped....\n",
      "--> Expected input gene ID: 54658,10720,55276,5106,124,219\n",
      "--> return NULL...\n",
      "'select()' returned 1:1 mapping between keys and columns\n",
      "Warning message in `[<-`(`*tmp*`, i, value = enrichKEGG(geneIDselect$ENTREZID, organism = \"hsa\", :\n",
      "\"implicit list embedding of S4 objects is deprecated\"'select()' returned 1:many mapping between keys and columns\n",
      "Warning message in `[<-`(`*tmp*`, i, value = enrichKEGG(geneIDselect$ENTREZID, organism = \"hsa\", :\n",
      "\"implicit list embedding of S4 objects is deprecated\"'select()' returned 1:many mapping between keys and columns\n",
      "Warning message in `[<-`(`*tmp*`, i, value = enrichKEGG(geneIDselect$ENTREZID, organism = \"hsa\", :\n",
      "\"implicit list embedding of S4 objects is deprecated\"'select()' returned 1:1 mapping between keys and columns\n",
      "Warning message in `[<-`(`*tmp*`, i, value = enrichKEGG(geneIDselect$ENTREZID, organism = \"hsa\", :\n",
      "\"implicit list embedding of S4 objects is deprecated\"'select()' returned 1:1 mapping between keys and columns\n",
      "Warning message in `[<-`(`*tmp*`, i, value = enrichKEGG(geneIDselect$ENTREZID, organism = \"hsa\", :\n",
      "\"implicit list embedding of S4 objects is deprecated\"'select()' returned 1:1 mapping between keys and columns\n",
      "Warning message in `[<-`(`*tmp*`, i, value = enrichKEGG(geneIDselect$ENTREZID, organism = \"hsa\", :\n"
     ]
    },
    {
     "name": "stderr",
     "output_type": "stream",
     "text": [
      "\"implicit list embedding of S4 objects is deprecated\"'select()' returned 1:1 mapping between keys and columns\n",
      "Warning message in `[<-`(`*tmp*`, i, value = enrichKEGG(geneIDselect$ENTREZID, organism = \"hsa\", :\n",
      "\"implicit list embedding of S4 objects is deprecated\"'select()' returned 1:1 mapping between keys and columns\n",
      "Warning message in `[<-`(`*tmp*`, i, value = enrichKEGG(geneIDselect$ENTREZID, organism = \"hsa\", :\n",
      "\"implicit list embedding of S4 objects is deprecated\"'select()' returned 1:1 mapping between keys and columns\n",
      "Warning message in `[<-`(`*tmp*`, i, value = enrichKEGG(geneIDselect$ENTREZID, organism = \"hsa\", :\n",
      "\"implicit list embedding of S4 objects is deprecated\"'select()' returned 1:many mapping between keys and columns\n",
      "Warning message in `[<-`(`*tmp*`, i, value = enrichKEGG(geneIDselect$ENTREZID, organism = \"hsa\", :\n",
      "\"implicit list embedding of S4 objects is deprecated\"'select()' returned 1:1 mapping between keys and columns\n",
      "Warning message in `[<-`(`*tmp*`, i, value = enrichKEGG(geneIDselect$ENTREZID, organism = \"hsa\", :\n",
      "\"implicit list embedding of S4 objects is deprecated\"'select()' returned 1:1 mapping between keys and columns\n",
      "Warning message in `[<-`(`*tmp*`, i, value = enrichKEGG(geneIDselect$ENTREZID, organism = \"hsa\", :\n",
      "\"implicit list embedding of S4 objects is deprecated\"'select()' returned 1:1 mapping between keys and columns\n",
      "Warning message in `[<-`(`*tmp*`, i, value = enrichKEGG(geneIDselect$ENTREZID, organism = \"hsa\", :\n",
      "\"implicit list embedding of S4 objects is deprecated\"'select()' returned 1:1 mapping between keys and columns\n",
      "Warning message in `[<-`(`*tmp*`, i, value = enrichKEGG(geneIDselect$ENTREZID, organism = \"hsa\", :\n",
      "\"implicit list embedding of S4 objects is deprecated\"'select()' returned 1:1 mapping between keys and columns\n",
      "Warning message in `[<-`(`*tmp*`, i, value = enrichKEGG(geneIDselect$ENTREZID, organism = \"hsa\", :\n",
      "\"implicit list embedding of S4 objects is deprecated\"'select()' returned 1:1 mapping between keys and columns\n",
      "Warning message in `[<-`(`*tmp*`, i, value = enrichKEGG(geneIDselect$ENTREZID, organism = \"hsa\", :\n",
      "\"implicit list embedding of S4 objects is deprecated\""
     ]
    }
   ],
   "source": [
    "#-------------------------------\n",
    "\n",
    "module_chr12_list_enrichKEGG <- list()\n",
    "library(org.Hs.eg.db)\n",
    "library(clusterProfiler)\n",
    "for (i in 1:nrow(module_chr12_list)){\n",
    "module_gene <- unlist(module_chr12_list$genelist[i])\n",
    "geneIDselect <-select(org.Hs.eg.db, #.db是这个芯片数据对应的注释包\n",
    "                      keys= module_gene,\n",
    "                      columns=c(\"ENTREZID\",\"ENSEMBL\",\"GENENAME\"), #clolumns参数是你要转换的ID类型是什么，这里选择三个。\n",
    "                      keytype=\"SYMBOL\" )#函数里面的keytype与keys参数是对应的，keys是你输入的那些数据，keytype是指这些数据是属于什么类型的数据。 \n",
    "module_chr12_list_enrichKEGG[i] = enrichKEGG(geneIDselect$ENTREZID, organism = 'hsa', keyType = \"kegg\", pvalueCutoff = 0.05)\n",
    "}\n",
    "names(module_chr12_list_enrichKEGG) <- module_chr12_list$community\n",
    "#--------------------------------------------------------------"
   ]
  },
  {
   "cell_type": "code",
   "execution_count": 45,
   "metadata": {},
   "outputs": [
    {
     "data": {
      "text/html": [
       "<table>\n",
       "<caption>A data.frame: 6 × 9</caption>\n",
       "<thead>\n",
       "\t<tr><th></th><th scope=col>ID</th><th scope=col>Description</th><th scope=col>GeneRatio</th><th scope=col>BgRatio</th><th scope=col>pvalue</th><th scope=col>p.adjust</th><th scope=col>qvalue</th><th scope=col>geneID</th><th scope=col>Count</th></tr>\n",
       "\t<tr><th></th><th scope=col>&lt;chr&gt;</th><th scope=col>&lt;chr&gt;</th><th scope=col>&lt;chr&gt;</th><th scope=col>&lt;chr&gt;</th><th scope=col>&lt;dbl&gt;</th><th scope=col>&lt;dbl&gt;</th><th scope=col>&lt;dbl&gt;</th><th scope=col>&lt;chr&gt;</th><th scope=col>&lt;int&gt;</th></tr>\n",
       "</thead>\n",
       "<tbody>\n",
       "\t<tr><th scope=row>hsa04721</th><td>hsa04721</td><td>Synaptic vesicle cycle                   </td><td>3/6</td><td>78/7926 </td><td>1.795361e-05</td><td>0.0001436288</td><td>7.559413e-05</td><td>6539/6540/2054</td><td>3</td></tr>\n",
       "\t<tr><th scope=row>hsa04727</th><td>hsa04727</td><td>GABAergic synapse                        </td><td>2/6</td><td>89/7926 </td><td>1.816203e-03</td><td>0.0072648125</td><td>3.823586e-03</td><td>6539/6540     </td><td>2</td></tr>\n",
       "\t<tr><th scope=row>hsa04130</th><td>hsa04130</td><td>SNARE interactions in vesicular transport</td><td>1/6</td><td>34/7926 </td><td>2.547158e-02</td><td>0.0583427598</td><td>3.070672e-02</td><td>2054          </td><td>1</td></tr>\n",
       "\t<tr><th scope=row>hsa00513</th><td>hsa00513</td><td>Various types of N-glycan biosynthesis   </td><td>1/6</td><td>39/7926 </td><td>2.917138e-02</td><td>0.0583427598</td><td>3.070672e-02</td><td>283358        </td><td>1</td></tr>\n",
       "\t<tr><th scope=row>hsa03008</th><td>hsa03008</td><td>Ribosome biogenesis in eukaryotes        </td><td>1/6</td><td>105/7926</td><td>7.692228e-02</td><td>0.1230756510</td><td>6.477666e-02</td><td>5901          </td><td>1</td></tr>\n",
       "\t<tr><th scope=row>hsa03013</th><td>hsa03013</td><td>RNA transport                            </td><td>1/6</td><td>165/7926</td><td>1.186179e-01</td><td>0.1581572420</td><td>8.324065e-02</td><td>5901          </td><td>1</td></tr>\n",
       "</tbody>\n",
       "</table>\n"
      ],
      "text/latex": [
       "A data.frame: 6 × 9\n",
       "\\begin{tabular}{r|lllllllll}\n",
       "  & ID & Description & GeneRatio & BgRatio & pvalue & p.adjust & qvalue & geneID & Count\\\\\n",
       "  & <chr> & <chr> & <chr> & <chr> & <dbl> & <dbl> & <dbl> & <chr> & <int>\\\\\n",
       "\\hline\n",
       "\thsa04721 & hsa04721 & Synaptic vesicle cycle                    & 3/6 & 78/7926  & 1.795361e-05 & 0.0001436288 & 7.559413e-05 & 6539/6540/2054 & 3\\\\\n",
       "\thsa04727 & hsa04727 & GABAergic synapse                         & 2/6 & 89/7926  & 1.816203e-03 & 0.0072648125 & 3.823586e-03 & 6539/6540      & 2\\\\\n",
       "\thsa04130 & hsa04130 & SNARE interactions in vesicular transport & 1/6 & 34/7926  & 2.547158e-02 & 0.0583427598 & 3.070672e-02 & 2054           & 1\\\\\n",
       "\thsa00513 & hsa00513 & Various types of N-glycan biosynthesis    & 1/6 & 39/7926  & 2.917138e-02 & 0.0583427598 & 3.070672e-02 & 283358         & 1\\\\\n",
       "\thsa03008 & hsa03008 & Ribosome biogenesis in eukaryotes         & 1/6 & 105/7926 & 7.692228e-02 & 0.1230756510 & 6.477666e-02 & 5901           & 1\\\\\n",
       "\thsa03013 & hsa03013 & RNA transport                             & 1/6 & 165/7926 & 1.186179e-01 & 0.1581572420 & 8.324065e-02 & 5901           & 1\\\\\n",
       "\\end{tabular}\n"
      ],
      "text/markdown": [
       "\n",
       "A data.frame: 6 × 9\n",
       "\n",
       "| <!--/--> | ID &lt;chr&gt; | Description &lt;chr&gt; | GeneRatio &lt;chr&gt; | BgRatio &lt;chr&gt; | pvalue &lt;dbl&gt; | p.adjust &lt;dbl&gt; | qvalue &lt;dbl&gt; | geneID &lt;chr&gt; | Count &lt;int&gt; |\n",
       "|---|---|---|---|---|---|---|---|---|---|\n",
       "| hsa04721 | hsa04721 | Synaptic vesicle cycle                    | 3/6 | 78/7926  | 1.795361e-05 | 0.0001436288 | 7.559413e-05 | 6539/6540/2054 | 3 |\n",
       "| hsa04727 | hsa04727 | GABAergic synapse                         | 2/6 | 89/7926  | 1.816203e-03 | 0.0072648125 | 3.823586e-03 | 6539/6540      | 2 |\n",
       "| hsa04130 | hsa04130 | SNARE interactions in vesicular transport | 1/6 | 34/7926  | 2.547158e-02 | 0.0583427598 | 3.070672e-02 | 2054           | 1 |\n",
       "| hsa00513 | hsa00513 | Various types of N-glycan biosynthesis    | 1/6 | 39/7926  | 2.917138e-02 | 0.0583427598 | 3.070672e-02 | 283358         | 1 |\n",
       "| hsa03008 | hsa03008 | Ribosome biogenesis in eukaryotes         | 1/6 | 105/7926 | 7.692228e-02 | 0.1230756510 | 6.477666e-02 | 5901           | 1 |\n",
       "| hsa03013 | hsa03013 | RNA transport                             | 1/6 | 165/7926 | 1.186179e-01 | 0.1581572420 | 8.324065e-02 | 5901           | 1 |\n",
       "\n"
      ],
      "text/plain": [
       "         ID       Description                               GeneRatio BgRatio \n",
       "hsa04721 hsa04721 Synaptic vesicle cycle                    3/6       78/7926 \n",
       "hsa04727 hsa04727 GABAergic synapse                         2/6       89/7926 \n",
       "hsa04130 hsa04130 SNARE interactions in vesicular transport 1/6       34/7926 \n",
       "hsa00513 hsa00513 Various types of N-glycan biosynthesis    1/6       39/7926 \n",
       "hsa03008 hsa03008 Ribosome biogenesis in eukaryotes         1/6       105/7926\n",
       "hsa03013 hsa03013 RNA transport                             1/6       165/7926\n",
       "         pvalue       p.adjust     qvalue       geneID         Count\n",
       "hsa04721 1.795361e-05 0.0001436288 7.559413e-05 6539/6540/2054 3    \n",
       "hsa04727 1.816203e-03 0.0072648125 3.823586e-03 6539/6540      2    \n",
       "hsa04130 2.547158e-02 0.0583427598 3.070672e-02 2054           1    \n",
       "hsa00513 2.917138e-02 0.0583427598 3.070672e-02 283358         1    \n",
       "hsa03008 7.692228e-02 0.1230756510 6.477666e-02 5901           1    \n",
       "hsa03013 1.186179e-01 0.1581572420 8.324065e-02 5901           1    "
      ]
     },
     "metadata": {},
     "output_type": "display_data"
    }
   ],
   "source": [
    "head(module_chr12_list_enrichKEGG[[1]]@result)"
   ]
  },
  {
   "cell_type": "markdown",
   "metadata": {},
   "source": [
    "<h1 id='7'>7. Get All genes names</h1>"
   ]
  },
  {
   "cell_type": "markdown",
   "metadata": {},
   "source": [
    "Create a function to get all genes names in neo4j.\n",
    "\n",
    "As we know, GREG only `Details` property have gene names informations in each chromosome nodes.\n",
    "\n",
    "So, the first step, we get all nodes which had `Details` property.  \n",
    "Second, we use `split` to split the `Details` information, at this step, we get a list of `Details` information.  \n",
    "Thrid, we use command `UNWIND` to change the list format.  \n",
    "Forth, we use `contains` to filter those `Details` information which includes `gene_name`. \n",
    "At the end, we use `substring` to get real gene names."
   ]
  },
  {
   "cell_type": "code",
   "execution_count": 46,
   "metadata": {},
   "outputs": [
    {
     "name": "stderr",
     "output_type": "stream",
     "text": [
      "Your code contains a unicode char which cannot be displayed in your\n",
      "current locale and R will silently convert it to an escaped form when the\n",
      "R kernel executes this code. This can lead to subtle errors if you use\n",
      "such chars to do comparisons. For more information, please see\n",
      "https://github.com/IRkernel/repr/wiki/Problems-with-unicode-on-windows"
     ]
    }
   ],
   "source": [
    "#----------------------------------------------------------------------\n",
    "#---建一个函数来获取数据库里面所有gene names\n",
    "#该基因gene name 存在于 node的Details属性上\n",
    "#返回数据框，包含基因名称，节点的id号和节点label， 节点Name\n",
    "\n",
    "getAllGeneName = function(){\n",
    "  #连接neo4j数据库\n",
    "  \n",
    "  library(RNeo4j)\n",
    "  graph = startGraph(\"http://localhost:7474/db/data/\", username=\"neo4j\", password=\"xiaowei\")\n",
    "  \n",
    "  #cypher语言查询\n",
    "  query = \"\n",
    "        //get all nodes which had `Details` property\n",
    "        //查找有Details属性的节点\n",
    "      MATCH (n)\n",
    "      where exists(n.Details)\n",
    "\n",
    "        //split the Details information\n",
    "        //利用split函数拆分Details属性值\n",
    "      with split(n.Details, ';') AS Details,id(n) AS NodeID, labels(n) AS NodeLabel, n.Name AS NodeNames\n",
    "\n",
    "        //change the list format\n",
    "        //利用UNWIND将Details列表换成表格形式\n",
    "      UNWIND Details AS details\n",
    "      with details, NodeID, NodeLabel, NodeNames\n",
    "\n",
    "        //filter those Details information which includes gene_name\n",
    "        // 筛选出含有gene_name的信息\n",
    "      where details contains 'gene_name'\n",
    "      with details as genes, NodeID, NodeLabel, NodeNames\n",
    "\n",
    "        // use `substring` to get real gene names\n",
    "        // 然后利用substring函数截取基因名称， 返回基因名称，节点的id号和节点label\n",
    "      return substring(genes,11) as geneName, NodeID, NodeLabel, NodeNames\n",
    "  \"\n",
    "  #进行查询\n",
    "  allGenes <- RNeo4j::cypher(graph, query) \n",
    "  \n",
    "  #返回查询结果\n",
    "  return(allGenes)\n",
    "}"
   ]
  },
  {
   "cell_type": "code",
   "execution_count": 47,
   "metadata": {},
   "outputs": [
    {
     "data": {
      "text/html": [
       "<table>\n",
       "<caption>A data.frame: 6 × 4</caption>\n",
       "<thead>\n",
       "\t<tr><th scope=col>geneName</th><th scope=col>NodeID</th><th scope=col>NodeLabel</th><th scope=col>NodeNames</th></tr>\n",
       "\t<tr><th scope=col>&lt;chr&gt;</th><th scope=col>&lt;int&gt;</th><th scope=col>&lt;chr&gt;</th><th scope=col>&lt;chr&gt;</th></tr>\n",
       "</thead>\n",
       "<tbody>\n",
       "\t<tr><td>DDX11L1     </td><td>0</td><td>chr1</td><td>Bin1</td></tr>\n",
       "\t<tr><td>WASH7P      </td><td>0</td><td>chr1</td><td>Bin1</td></tr>\n",
       "\t<tr><td>MIR6859-1   </td><td>0</td><td>chr1</td><td>Bin1</td></tr>\n",
       "\t<tr><td>RP11-34P13.3</td><td>0</td><td>chr1</td><td>Bin1</td></tr>\n",
       "\t<tr><td>MIR1302-2   </td><td>0</td><td>chr1</td><td>Bin1</td></tr>\n",
       "\t<tr><td>FAM138A     </td><td>0</td><td>chr1</td><td>Bin1</td></tr>\n",
       "</tbody>\n",
       "</table>\n"
      ],
      "text/latex": [
       "A data.frame: 6 × 4\n",
       "\\begin{tabular}{r|llll}\n",
       " geneName & NodeID & NodeLabel & NodeNames\\\\\n",
       " <chr> & <int> & <chr> & <chr>\\\\\n",
       "\\hline\n",
       "\t DDX11L1      & 0 & chr1 & Bin1\\\\\n",
       "\t WASH7P       & 0 & chr1 & Bin1\\\\\n",
       "\t MIR6859-1    & 0 & chr1 & Bin1\\\\\n",
       "\t RP11-34P13.3 & 0 & chr1 & Bin1\\\\\n",
       "\t MIR1302-2    & 0 & chr1 & Bin1\\\\\n",
       "\t FAM138A      & 0 & chr1 & Bin1\\\\\n",
       "\\end{tabular}\n"
      ],
      "text/markdown": [
       "\n",
       "A data.frame: 6 × 4\n",
       "\n",
       "| geneName &lt;chr&gt; | NodeID &lt;int&gt; | NodeLabel &lt;chr&gt; | NodeNames &lt;chr&gt; |\n",
       "|---|---|---|---|\n",
       "| DDX11L1      | 0 | chr1 | Bin1 |\n",
       "| WASH7P       | 0 | chr1 | Bin1 |\n",
       "| MIR6859-1    | 0 | chr1 | Bin1 |\n",
       "| RP11-34P13.3 | 0 | chr1 | Bin1 |\n",
       "| MIR1302-2    | 0 | chr1 | Bin1 |\n",
       "| FAM138A      | 0 | chr1 | Bin1 |\n",
       "\n"
      ],
      "text/plain": [
       "  geneName     NodeID NodeLabel NodeNames\n",
       "1 DDX11L1      0      chr1      Bin1     \n",
       "2 WASH7P       0      chr1      Bin1     \n",
       "3 MIR6859-1    0      chr1      Bin1     \n",
       "4 RP11-34P13.3 0      chr1      Bin1     \n",
       "5 MIR1302-2    0      chr1      Bin1     \n",
       "6 FAM138A      0      chr1      Bin1     "
      ]
     },
     "metadata": {},
     "output_type": "display_data"
    }
   ],
   "source": [
    "AllgeneName <- getAllGeneName()\n",
    "head(AllgeneName )"
   ]
  },
  {
   "cell_type": "code",
   "execution_count": 48,
   "metadata": {},
   "outputs": [
    {
     "data": {
      "text/html": [
       "<ol class=list-inline>\n",
       "\t<li>67418</li>\n",
       "\t<li>4</li>\n",
       "</ol>\n"
      ],
      "text/latex": [
       "\\begin{enumerate*}\n",
       "\\item 67418\n",
       "\\item 4\n",
       "\\end{enumerate*}\n"
      ],
      "text/markdown": [
       "1. 67418\n",
       "2. 4\n",
       "\n",
       "\n"
      ],
      "text/plain": [
       "[1] 67418     4"
      ]
     },
     "metadata": {},
     "output_type": "display_data"
    }
   ],
   "source": [
    "dim(AllgeneName)"
   ]
  },
  {
   "cell_type": "markdown",
   "metadata": {},
   "source": [
    "<h1 id='8'>  Find the modules that contain the gene \"NANOG\" and report all the nodes and relationships inside such modules. Also, report if they are enriched in some KEGG pathway or GO term. </h1>"
   ]
  },
  {
   "cell_type": "markdown",
   "metadata": {},
   "source": [
    "<h2 id='8.1'> Step1： Find out those nodes about target genes</h2>\n",
    "Find out those nodes contains the gene `\"NOANOG\"` strings, \n",
    "\n",
    "result is a data.frame including `GeneName`, `NodeID`, `NodeLabel` and `NodeNames`."
   ]
  },
  {
   "cell_type": "code",
   "execution_count": 49,
   "metadata": {
    "scrolled": true
   },
   "outputs": [
    {
     "name": "stderr",
     "output_type": "stream",
     "text": [
      "Your code contains a unicode char which cannot be displayed in your\n",
      "current locale and R will silently convert it to an escaped form when the\n",
      "R kernel executes this code. This can lead to subtle errors if you use\n",
      "such chars to do comparisons. For more information, please see\n",
      "https://github.com/IRkernel/repr/wiki/Problems-with-unicode-on-windows"
     ]
    }
   ],
   "source": [
    "#接下来我们来尝试一下这一步\n",
    "#Find the modules that contain the gene \"NANOG\" \n",
    "#and report all the nodes and relationships inside such modules\n",
    "\n",
    "#首先，我们来得到哪些基因里面包含`NANOG` 的节点信息\n",
    "#This is for those gene names contain 'NANOG' strings.\n",
    "#TargetNodes <- AllgeneName[grep('NANOG',AllgeneName$geneName, fixed = FALSE), ]\n",
    "\n",
    "#Find out node id of `NANOG` as gene name \n",
    "TargetNodes <- AllgeneName[which(AllgeneName$geneName == 'NANOG'), ]"
   ]
  },
  {
   "cell_type": "code",
   "execution_count": 50,
   "metadata": {},
   "outputs": [
    {
     "data": {
      "text/html": [
       "<table>\n",
       "<caption>A data.frame: 1 × 4</caption>\n",
       "<thead>\n",
       "\t<tr><th></th><th scope=col>geneName</th><th scope=col>NodeID</th><th scope=col>NodeLabel</th><th scope=col>NodeNames</th></tr>\n",
       "\t<tr><th></th><th scope=col>&lt;chr&gt;</th><th scope=col>&lt;int&gt;</th><th scope=col>&lt;chr&gt;</th><th scope=col>&lt;chr&gt;</th></tr>\n",
       "</thead>\n",
       "<tbody>\n",
       "\t<tr><th scope=row>39711</th><td>NANOG</td><td>9759</td><td>chr12</td><td>Bin39</td></tr>\n",
       "</tbody>\n",
       "</table>\n"
      ],
      "text/latex": [
       "A data.frame: 1 × 4\n",
       "\\begin{tabular}{r|llll}\n",
       "  & geneName & NodeID & NodeLabel & NodeNames\\\\\n",
       "  & <chr> & <int> & <chr> & <chr>\\\\\n",
       "\\hline\n",
       "\t39711 & NANOG & 9759 & chr12 & Bin39\\\\\n",
       "\\end{tabular}\n"
      ],
      "text/markdown": [
       "\n",
       "A data.frame: 1 × 4\n",
       "\n",
       "| <!--/--> | geneName &lt;chr&gt; | NodeID &lt;int&gt; | NodeLabel &lt;chr&gt; | NodeNames &lt;chr&gt; |\n",
       "|---|---|---|---|---|\n",
       "| 39711 | NANOG | 9759 | chr12 | Bin39 |\n",
       "\n"
      ],
      "text/plain": [
       "      geneName NodeID NodeLabel NodeNames\n",
       "39711 NANOG    9759   chr12     Bin39    "
      ]
     },
     "metadata": {},
     "output_type": "display_data"
    }
   ],
   "source": [
    "TargetNodes"
   ]
  },
  {
   "cell_type": "markdown",
   "metadata": {},
   "source": [
    "<h2 id='8.2'> Step2: To get modules which includes target genes</h2>\n",
    "\n",
    "we use `{}` to input arguments to cypher commands. But at here we need to use cypher command `MATCH (n)   where id(n) in {TargetNodes_NodeID}  with id(n) AS TargetNodes_ID` to get `TargetNodeID` again, then we can follow to match those modules including `TagetNodeID`.\n",
    "\n",
    "For now, we can not find out what's problems at this step if we directly use  `{}` as match arguments in command `where {TargetNodes_ID} in nodeId`.\n",
    "\n",
    "Because sometimes we only one gene as targetNode,we should add `if` as conditions to make query comands efective."
   ]
  },
  {
   "cell_type": "code",
   "execution_count": 51,
   "metadata": {},
   "outputs": [
    {
     "name": "stderr",
     "output_type": "stream",
     "text": [
      "Your code contains a unicode char which cannot be displayed in your\n",
      "current locale and R will silently convert it to an escaped form when the\n",
      "R kernel executes this code. This can lead to subtle errors if you use\n",
      "such chars to do comparisons. For more information, please see\n",
      "https://github.com/IRkernel/repr/wiki/Problems-with-unicode-on-windows"
     ]
    }
   ],
   "source": [
    "#第二步，我们利用{}来传递TargetNode的ID号，并找出含有这些TargetNode的模块\n",
    "\n",
    "\n",
    "queryLouvainForChr12_TargetNodesInModules =function(TargetNodes){\n",
    "    query = paste(\"\n",
    "        // to make louvain modules for chr12\n",
    "        CALL algo.louvain.stream(\n",
    "          'MATCH (n:chr12)--(m) with id(n) as chr12,id(m) AS m   MATCH (al) where id(al) = m or  id(al) = chr12 return id(al) as id',\n",
    "          'MATCH (n:chr12)-[r]-(m) RETURN id(n) AS source, id(m) AS target',\n",
    "          {graph:'cypher',direction: 'both'})\n",
    "        YIELD nodeId, community\n",
    "\n",
    "        // filtering community which the number of nodes is more than one\n",
    "        with collect(nodeId) AS nodeId , community\n",
    "        where size(nodeId) > 1\n",
    "        with nodeId, 'Module'+ community AS community\n",
    "\n",
    "        // filtering community that had target nodes\n",
    "        MATCH (n)\",\n",
    "\n",
    "\n",
    "        if (length(TargetNodes) != 1){\"where id(n) in {TargetNodes_NodeID}\" }\n",
    "        else{\"where id(n) = {TargetNodes_NodeID}\"},\n",
    "\n",
    "        \"with id(n) AS TargetNodes_ID, n.Name AS TargetNodes_Name, nodeId, community\n",
    "        where TargetNodes_ID in nodeId\n",
    "        return nodeId, community,collect(TargetNodes_ID) AS TargetNodes_ID ,collect(TargetNodes_Name) AS TargetNodes_Name\n",
    "        \"\n",
    "        ,sep = ' ')\n",
    "    return(query)\n",
    "}"
   ]
  },
  {
   "cell_type": "code",
   "execution_count": 52,
   "metadata": {},
   "outputs": [],
   "source": [
    "query = queryLouvainForChr12_TargetNodesInModules(TargetNodes$NodeID)\n",
    "chr12Mod <- cypher(graph, query,TargetNodes_NodeID = TargetNodes$NodeID)"
   ]
  },
  {
   "cell_type": "markdown",
   "metadata": {},
   "source": [
    "The result is a data.frame including all nodes ids in each community, community, TargetNodes_ID and TargetNodes_Name."
   ]
  },
  {
   "cell_type": "code",
   "execution_count": 53,
   "metadata": {
    "scrolled": true
   },
   "outputs": [],
   "source": [
    "#chr12Mod[1,]"
   ]
  },
  {
   "cell_type": "markdown",
   "metadata": {},
   "source": [
    "<h2 id='8.3'> Step3: build a function to get relationships during nodes in each community(module)</h2>\n",
    "We build a function to get relationships during nodes in each community(module). The input argument is the result we got at the step2. Results includes two nodes' id, labels, properties and relationship id, type, and properties."
   ]
  },
  {
   "cell_type": "code",
   "execution_count": 54,
   "metadata": {},
   "outputs": [
    {
     "name": "stderr",
     "output_type": "stream",
     "text": [
      "Your code contains a unicode char which cannot be displayed in your\n",
      "current locale and R will silently convert it to an escaped form when the\n",
      "R kernel executes this code. This can lead to subtle errors if you use\n",
      "such chars to do comparisons. For more information, please see\n",
      "https://github.com/IRkernel/repr/wiki/Problems-with-unicode-on-windows"
     ]
    }
   ],
   "source": [
    "#----------------建一个函数来获取每一个模块节点之间的关系--------------------------------------\n",
    "#\n",
    "#The argument is result we get  from step2\n",
    "#module就是我们前面获取的结果\n",
    "Module_Relationship = function(Module){\n",
    "  \n",
    "    #Module_Relationship as an object for save our results\n",
    "    #Module_Relationship作为list来存储数据\n",
    "  Module_Relationship = list()\n",
    "    \n",
    "    #To get relationships during nodes in the same modules\n",
    "    #获取节点之间的关系，返回的结果尽量不要去改变。\n",
    "    #The results include nodes' id ,label and properties, and relationships' type, id and properties.\n",
    "    #返回的结果包括节点的id号，label，还有就是节点的属性；以及关系的id号和关系的类型、关系的属性\n",
    "  for( i in 1:nrow(Module) ){\n",
    "      #for the vector about all nodes id in the same modules\n",
    "    Module_NodeID = unlist(Module[[1]][[i]])\n",
    "    query = \"\n",
    "            // the first we should get all node in the same modules, result is a list\n",
    "            MATCH (n)\n",
    "            where id(n) in {Module_NodeID}\n",
    "            with collect( id(n) ) AS Module_Node_ID\n",
    "        \n",
    "        // get relationships \n",
    "        MATCH (A)-[r]->(B)\n",
    "        where id(A) in Module_Node_ID and id(B) in Module_Node_ID\n",
    "        \n",
    "        //at here, properties() function for all properties at an node or a relationship    \n",
    "        RETURN id(A) AS fromNodeID, \n",
    "              labels(A) AS fromNodeLabel, \n",
    "              \n",
    "              id(B) AS toNodeID,\n",
    "              labels(B) AS toNodeLabel,\n",
    "              \n",
    "              id(r) AS Relationship_ID,\n",
    "              type(r) AS Relationship,\n",
    "          \n",
    "              properties(A) AS AProperties,\n",
    "              properties(B) AS BProperties,\n",
    "              properties(r) AS RProperties\n",
    "        \"\n",
    "     #run the query for results   \n",
    "    #Module_Relationship[[i]]= cypher(graph, query, Module_NodeID = Module_NodeID )\n",
    "    ABRelationship= cypher(graph, query, Module_NodeID = Module_NodeID )\n",
    "    \n",
    "    #Now, we split all properties of nodes using unnest_nodes() function in {neo4r}\n",
    "      #这里解析属性使用的neo4r的unnest_nodes()来拆分\n",
    "    #解析节点A的属性\n",
    "    Ap = ABRelationship[\"AProperties\"]\n",
    "    names(Ap)[1] = \"properties\"\n",
    "    App =  neo4r::unnest_nodes(Ap, what = \"properties\")\n",
    "    names(App) = paste0(\"fromNode_\", names(App) )\n",
    "    \n",
    "    #解析节点B的属性\n",
    "    Bp = ABRelationship[\"BProperties\"]\n",
    "    names(Bp)[1] = \"properties\"\n",
    "    Bpp =  neo4r::unnest_nodes(Bp, what = \"properties\")\n",
    "    names(Bpp) = paste0(\"toNode_\", names(Bpp) )\n",
    "    \n",
    "    \n",
    "    #split properties of relationships,we need make the same formats. If not, there show some wrong and we can not fixed.\n",
    "    #解析关系的属性\n",
    "    #这里需要说明的是数据框的列名称和列的位置不能发生变化，否则容易出错，在解析完关系后我们将它的列名还原过来\n",
    "    Rp = ABRelationship[,c(\"Relationship_ID\",\"Relationship\",\"fromNodeID\",\"toNodeID\",\"RProperties\")]\n",
    "    names(Rp) = c(\"id\", \"type\", \"stratNode\", \"endNode\", \"properties\")\n",
    "    Rpp =  neo4r::unnest_relationships(Rp)\n",
    "    names(Rpp)[1:4] = c(\"Relationship_ID\",\"Relationship\",\"fromNodeID\",\"toNodeID\")\n",
    "    names(Rpp)[c(-(1:4))] = paste0(\"R_\", names(Rpp)[c(-(1:4))] )\n",
    "    \n",
    "    #union all data\n",
    "    #最后，合并每一列\n",
    "    alldataRelationship = cbind(Rpp,App,Bpp, ABRelationship[,c(\"fromNodeLabel\",\"toNodeLabel\")])\n",
    "    ColNames = c(\"fromNodeID\",\"fromNodeLabel\",\"toNodeID\",\"toNodeLabel\",\"Relationship_ID\",\"Relationship\",\n",
    "                 names(App),\n",
    "                 names(Bpp),\n",
    "                 names(Rpp)[c(-(1:4))])\n",
    "    Module_Relationship[[i]] = alldataRelationship[,ColNames]\n",
    "  }\n",
    "  \n",
    "  names(Module_Relationship) = Module$community\n",
    "  \n",
    "  return(Module_Relationship)\n",
    "}\n"
   ]
  },
  {
   "cell_type": "markdown",
   "metadata": {},
   "source": [
    "<h2 id='8.4'> step4: get relationships during nodes in each community(module)</h2>\n",
    "Now, we get relationships during nodes in each community(module), result is a list including data.frame data that have nodeID and their relationship."
   ]
  },
  {
   "cell_type": "code",
   "execution_count": 55,
   "metadata": {},
   "outputs": [
    {
     "name": "stderr",
     "output_type": "stream",
     "text": [
      "Your code contains a unicode char which cannot be displayed in your\n",
      "current locale and R will silently convert it to an escaped form when the\n",
      "R kernel executes this code. This can lead to subtle errors if you use\n",
      "such chars to do comparisons. For more information, please see\n",
      "https://github.com/IRkernel/repr/wiki/Problems-with-unicode-on-windowsWarning message:\n",
      "\"The `.drop` argument of `unnest()` is deprecated as of tidyr 1.0.0.\n",
      "All list-columns are now preserved.\n",
      "\u001b[90mThis warning is displayed once per session.\u001b[39m\n",
      "\u001b[90mCall `lifecycle::last_warnings()` to see where this warning was generated.\u001b[39m\""
     ]
    }
   ],
   "source": [
    "#---------获取Module里的node的关系-------------------------------------------------------------\n",
    "Module_Relationships <- Module_Relationship(chr12Mod)"
   ]
  },
  {
   "cell_type": "markdown",
   "metadata": {},
   "source": [
    "Let's us see what we get.**It includes all properties about nodes and relationships.**"
   ]
  },
  {
   "cell_type": "code",
   "execution_count": 56,
   "metadata": {},
   "outputs": [
    {
     "data": {
      "text/html": [
       "<table>\n",
       "<caption>A data.frame: 6 × 26</caption>\n",
       "<thead>\n",
       "\t<tr><th scope=col>fromNodeID</th><th scope=col>fromNodeLabel</th><th scope=col>toNodeID</th><th scope=col>toNodeLabel</th><th scope=col>Relationship_ID</th><th scope=col>Relationship</th><th scope=col>fromNode_Start</th><th scope=col>fromNode_End</th><th scope=col>fromNode_community</th><th scope=col>fromNode_Details</th><th scope=col>...</th><th scope=col>R_PubMedID</th><th scope=col>R_CellType</th><th scope=col>R_SourceDB</th><th scope=col>R_Method</th><th scope=col>R_value</th><th scope=col>R_GEO</th><th scope=col>R_Start</th><th scope=col>R_OtherGEO</th><th scope=col>R_End</th><th scope=col>R_Information</th></tr>\n",
       "\t<tr><th scope=col>&lt;int&gt;</th><th scope=col>&lt;chr&gt;</th><th scope=col>&lt;int&gt;</th><th scope=col>&lt;chr&gt;</th><th scope=col>&lt;int&gt;</th><th scope=col>&lt;chr&gt;</th><th scope=col>&lt;chr&gt;</th><th scope=col>&lt;chr&gt;</th><th scope=col>&lt;int&gt;</th><th scope=col>&lt;chr&gt;</th><th scope=col>...</th><th scope=col>&lt;chr&gt;</th><th scope=col>&lt;chr&gt;</th><th scope=col>&lt;chr&gt;</th><th scope=col>&lt;chr&gt;</th><th scope=col>&lt;lgl&gt;</th><th scope=col>&lt;chr&gt;</th><th scope=col>&lt;chr&gt;</th><th scope=col>&lt;chr&gt;</th><th scope=col>&lt;chr&gt;</th><th scope=col>&lt;chr&gt;</th></tr>\n",
       "</thead>\n",
       "<tbody>\n",
       "\t<tr><td>834688</td><td>chr12_Range</td><td>834161</td><td>chr12_Range</td><td>4762133</td><td>Interaction</td><td>5387590</td><td>5399902</td><td>15900</td><td>NA</td><td>...</td><td>24141950</td><td>IMR90</td><td>CistromeDB</td><td>Hi-C</td><td>NA</td><td>NA</td><td>NA</td><td>NA</td><td>NA</td><td>NA</td></tr>\n",
       "\t<tr><td>834678</td><td>chr12_Range</td><td>860049</td><td>chr12_Range</td><td>4762119</td><td>Interaction</td><td>5382566</td><td>5399902</td><td>15900</td><td>NA</td><td>...</td><td>24141950</td><td>IMR90</td><td>CistromeDB</td><td>Hi-C</td><td>NA</td><td>NA</td><td>NA</td><td>NA</td><td>NA</td><td>NA</td></tr>\n",
       "\t<tr><td>834677</td><td>chr12_Range</td><td>834618</td><td>chr12_Range</td><td>4762117</td><td>Interaction</td><td>5382566</td><td>5387589</td><td>15900</td><td>NA</td><td>...</td><td>24141950</td><td>IMR90</td><td>CistromeDB</td><td>Hi-C</td><td>NA</td><td>NA</td><td>NA</td><td>NA</td><td>NA</td><td>NA</td></tr>\n",
       "\t<tr><td>834677</td><td>chr12_Range</td><td>834389</td><td>chr12_Range</td><td>4762116</td><td>Interaction</td><td>5382566</td><td>5387589</td><td>15900</td><td>NA</td><td>...</td><td>24141950</td><td>IMR90</td><td>CistromeDB</td><td>Hi-C</td><td>NA</td><td>NA</td><td>NA</td><td>NA</td><td>NA</td><td>NA</td></tr>\n",
       "\t<tr><td>834662</td><td>chr12_Range</td><td>834115</td><td>chr12_Range</td><td>4762098</td><td>Interaction</td><td>5376790</td><td>5387589</td><td>15900</td><td>NA</td><td>...</td><td>24141950</td><td>IMR90</td><td>CistromeDB</td><td>Hi-C</td><td>NA</td><td>NA</td><td>NA</td><td>NA</td><td>NA</td><td>NA</td></tr>\n",
       "\t<tr><td>834662</td><td>chr12_Range</td><td>833788</td><td>chr12_Range</td><td>4762097</td><td>Interaction</td><td>5376790</td><td>5387589</td><td>15900</td><td>NA</td><td>...</td><td>24141950</td><td>IMR90</td><td>CistromeDB</td><td>Hi-C</td><td>NA</td><td>NA</td><td>NA</td><td>NA</td><td>NA</td><td>NA</td></tr>\n",
       "</tbody>\n",
       "</table>\n"
      ],
      "text/latex": [
       "A data.frame: 6 × 26\n",
       "\\begin{tabular}{r|llllllllllllllllllllllllll}\n",
       " fromNodeID & fromNodeLabel & toNodeID & toNodeLabel & Relationship\\_ID & Relationship & fromNode\\_Start & fromNode\\_End & fromNode\\_community & fromNode\\_Details & fromNode\\_Name & toNode\\_Start & toNode\\_End & toNode\\_community & toNode\\_Details & toNode\\_Name & R\\_PubMedID & R\\_CellType & R\\_SourceDB & R\\_Method & R\\_value & R\\_GEO & R\\_Start & R\\_OtherGEO & R\\_End & R\\_Information\\\\\n",
       " <int> & <chr> & <int> & <chr> & <int> & <chr> & <chr> & <chr> & <int> & <chr> & <chr> & <chr> & <chr> & <int> & <chr> & <chr> & <chr> & <chr> & <chr> & <chr> & <lgl> & <chr> & <chr> & <chr> & <chr> & <chr>\\\\\n",
       "\\hline\n",
       "\t 834688 & chr12\\_Range & 834161 & chr12\\_Range & 4762133 & Interaction & 5387590 & 5399902 & 15900 & NA & NA & 5298457 & 5302447 & 15900 & NA & NA & 24141950 & IMR90 & CistromeDB & Hi-C & NA & NA & NA & NA & NA & NA\\\\\n",
       "\t 834678 & chr12\\_Range & 860049 & chr12\\_Range & 4762119 & Interaction & 5382566 & 5399902 & 15900 & NA & NA & 5248002 & 5260657 & 15900 & NA & NA & 24141950 & IMR90 & CistromeDB & Hi-C & NA & NA & NA & NA & NA & NA\\\\\n",
       "\t 834677 & chr12\\_Range & 834618 & chr12\\_Range & 4762117 & Interaction & 5382566 & 5387589 & 15900 & NA & NA & 5370303 & 5376789 & 15900 & NA & NA & 24141950 & IMR90 & CistromeDB & Hi-C & NA & NA & NA & NA & NA & NA\\\\\n",
       "\t 834677 & chr12\\_Range & 834389 & chr12\\_Range & 4762116 & Interaction & 5382566 & 5387589 & 15900 & NA & NA & 5337153 & 5344314 & 15900 & NA & NA & 24141950 & IMR90 & CistromeDB & Hi-C & NA & NA & NA & NA & NA & NA\\\\\n",
       "\t 834662 & chr12\\_Range & 834115 & chr12\\_Range & 4762098 & Interaction & 5376790 & 5387589 & 15900 & NA & NA & 5292209 & 5298456 & 15900 & NA & NA & 24141950 & IMR90 & CistromeDB & Hi-C & NA & NA & NA & NA & NA & NA\\\\\n",
       "\t 834662 & chr12\\_Range & 833788 & chr12\\_Range & 4762097 & Interaction & 5376790 & 5387589 & 15900 & NA & NA & 5238181 & 5244322 & 15900 & NA & NA & 24141950 & IMR90 & CistromeDB & Hi-C & NA & NA & NA & NA & NA & NA\\\\\n",
       "\\end{tabular}\n"
      ],
      "text/markdown": [
       "\n",
       "A data.frame: 6 × 26\n",
       "\n",
       "| fromNodeID &lt;int&gt; | fromNodeLabel &lt;chr&gt; | toNodeID &lt;int&gt; | toNodeLabel &lt;chr&gt; | Relationship_ID &lt;int&gt; | Relationship &lt;chr&gt; | fromNode_Start &lt;chr&gt; | fromNode_End &lt;chr&gt; | fromNode_community &lt;int&gt; | fromNode_Details &lt;chr&gt; | ... ... | R_PubMedID &lt;chr&gt; | R_CellType &lt;chr&gt; | R_SourceDB &lt;chr&gt; | R_Method &lt;chr&gt; | R_value &lt;lgl&gt; | R_GEO &lt;chr&gt; | R_Start &lt;chr&gt; | R_OtherGEO &lt;chr&gt; | R_End &lt;chr&gt; | R_Information &lt;chr&gt; |\n",
       "|---|---|---|---|---|---|---|---|---|---|---|---|---|---|---|---|---|---|---|---|---|\n",
       "| 834688 | chr12_Range | 834161 | chr12_Range | 4762133 | Interaction | 5387590 | 5399902 | 15900 | NA | ... | 24141950 | IMR90 | CistromeDB | Hi-C | NA | NA | NA | NA | NA | NA |\n",
       "| 834678 | chr12_Range | 860049 | chr12_Range | 4762119 | Interaction | 5382566 | 5399902 | 15900 | NA | ... | 24141950 | IMR90 | CistromeDB | Hi-C | NA | NA | NA | NA | NA | NA |\n",
       "| 834677 | chr12_Range | 834618 | chr12_Range | 4762117 | Interaction | 5382566 | 5387589 | 15900 | NA | ... | 24141950 | IMR90 | CistromeDB | Hi-C | NA | NA | NA | NA | NA | NA |\n",
       "| 834677 | chr12_Range | 834389 | chr12_Range | 4762116 | Interaction | 5382566 | 5387589 | 15900 | NA | ... | 24141950 | IMR90 | CistromeDB | Hi-C | NA | NA | NA | NA | NA | NA |\n",
       "| 834662 | chr12_Range | 834115 | chr12_Range | 4762098 | Interaction | 5376790 | 5387589 | 15900 | NA | ... | 24141950 | IMR90 | CistromeDB | Hi-C | NA | NA | NA | NA | NA | NA |\n",
       "| 834662 | chr12_Range | 833788 | chr12_Range | 4762097 | Interaction | 5376790 | 5387589 | 15900 | NA | ... | 24141950 | IMR90 | CistromeDB | Hi-C | NA | NA | NA | NA | NA | NA |\n",
       "\n"
      ],
      "text/plain": [
       "  fromNodeID fromNodeLabel toNodeID toNodeLabel Relationship_ID Relationship\n",
       "1 834688     chr12_Range   834161   chr12_Range 4762133         Interaction \n",
       "2 834678     chr12_Range   860049   chr12_Range 4762119         Interaction \n",
       "3 834677     chr12_Range   834618   chr12_Range 4762117         Interaction \n",
       "4 834677     chr12_Range   834389   chr12_Range 4762116         Interaction \n",
       "5 834662     chr12_Range   834115   chr12_Range 4762098         Interaction \n",
       "6 834662     chr12_Range   833788   chr12_Range 4762097         Interaction \n",
       "  fromNode_Start fromNode_End fromNode_community fromNode_Details ...\n",
       "1 5387590        5399902      15900              NA               ...\n",
       "2 5382566        5399902      15900              NA               ...\n",
       "3 5382566        5387589      15900              NA               ...\n",
       "4 5382566        5387589      15900              NA               ...\n",
       "5 5376790        5387589      15900              NA               ...\n",
       "6 5376790        5387589      15900              NA               ...\n",
       "  R_PubMedID R_CellType R_SourceDB R_Method R_value R_GEO R_Start R_OtherGEO\n",
       "1 24141950   IMR90      CistromeDB Hi-C     NA      NA    NA      NA        \n",
       "2 24141950   IMR90      CistromeDB Hi-C     NA      NA    NA      NA        \n",
       "3 24141950   IMR90      CistromeDB Hi-C     NA      NA    NA      NA        \n",
       "4 24141950   IMR90      CistromeDB Hi-C     NA      NA    NA      NA        \n",
       "5 24141950   IMR90      CistromeDB Hi-C     NA      NA    NA      NA        \n",
       "6 24141950   IMR90      CistromeDB Hi-C     NA      NA    NA      NA        \n",
       "  R_End R_Information\n",
       "1 NA    NA           \n",
       "2 NA    NA           \n",
       "3 NA    NA           \n",
       "4 NA    NA           \n",
       "5 NA    NA           \n",
       "6 NA    NA           "
      ]
     },
     "metadata": {},
     "output_type": "display_data"
    }
   ],
   "source": [
    "head(Module_Relationships[[1]])"
   ]
  },
  {
   "cell_type": "markdown",
   "metadata": {},
   "source": [
    "<h1 id='9'>Select the modules that include NANOG AND CTCF AND EP300 AND POLR2A AND YY1 AND cohesin (RAD21, SMC3, OR STAG1) AND mediator (MED1 or MED12).</h1>"
   ]
  },
  {
   "cell_type": "markdown",
   "metadata": {},
   "source": [
    "<h2 id='9.1'> Step1: Get nodes in all gene names in chromosomes,TF and LncRNA.</h2>\n",
    "For this term, its include TF genes, so we expand nodes of TF and LncRNA labels as following codes:\n"
   ]
  },
  {
   "cell_type": "code",
   "execution_count": 57,
   "metadata": {},
   "outputs": [],
   "source": [
    "#-----------TF----------------------\n",
    "query = \"MATCH (n:TF)\n",
    "        RETURN n.Name AS geneName, id(n) AS NodeID, labels(n) AS NodeLabel, n.Name AS NodeNames\"\n",
    "TF = cypher(graph, query)\n",
    "#-----------LncRNA----------------\n",
    "query = \"MATCH (n:LncRNA)\n",
    "        RETURN n.Name AS geneName, id(n) AS NodeID, labels(n) AS NodeLabel, n.Name AS NodeNames\"\n",
    "LncRNA = cypher(graph, query)\n",
    "#------------AllgeneName_TF_LncRNA--------------------------------------\n",
    "AllgeneName_TF_LncRNA = rbind(TF, LncRNA, AllgeneName)"
   ]
  },
  {
   "cell_type": "markdown",
   "metadata": {},
   "source": [
    "So `AllgeneName_TF_LncRNA` includes all genes in all chromosomes, all transcription factors(TFs) and all LncRNA in GREG."
   ]
  },
  {
   "cell_type": "code",
   "execution_count": 58,
   "metadata": {},
   "outputs": [
    {
     "data": {
      "text/html": [
       "<table>\n",
       "<caption>A data.frame: 6 × 4</caption>\n",
       "<thead>\n",
       "\t<tr><th scope=col>geneName</th><th scope=col>NodeID</th><th scope=col>NodeLabel</th><th scope=col>NodeNames</th></tr>\n",
       "\t<tr><th scope=col>&lt;chr&gt;</th><th scope=col>&lt;int&gt;</th><th scope=col>&lt;chr&gt;</th><th scope=col>&lt;chr&gt;</th></tr>\n",
       "</thead>\n",
       "<tbody>\n",
       "\t<tr><td>AFF4  </td><td>15448</td><td>TF</td><td>AFF4  </td></tr>\n",
       "\t<tr><td>AHR   </td><td>15449</td><td>TF</td><td>AHR   </td></tr>\n",
       "\t<tr><td>ARID3A</td><td>15450</td><td>TF</td><td>ARID3A</td></tr>\n",
       "\t<tr><td>ARNT  </td><td>15451</td><td>TF</td><td>ARNT  </td></tr>\n",
       "\t<tr><td>ARRB1 </td><td>15452</td><td>TF</td><td>ARRB1 </td></tr>\n",
       "\t<tr><td>ATF1  </td><td>15453</td><td>TF</td><td>ATF1  </td></tr>\n",
       "</tbody>\n",
       "</table>\n"
      ],
      "text/latex": [
       "A data.frame: 6 × 4\n",
       "\\begin{tabular}{r|llll}\n",
       " geneName & NodeID & NodeLabel & NodeNames\\\\\n",
       " <chr> & <int> & <chr> & <chr>\\\\\n",
       "\\hline\n",
       "\t AFF4   & 15448 & TF & AFF4  \\\\\n",
       "\t AHR    & 15449 & TF & AHR   \\\\\n",
       "\t ARID3A & 15450 & TF & ARID3A\\\\\n",
       "\t ARNT   & 15451 & TF & ARNT  \\\\\n",
       "\t ARRB1  & 15452 & TF & ARRB1 \\\\\n",
       "\t ATF1   & 15453 & TF & ATF1  \\\\\n",
       "\\end{tabular}\n"
      ],
      "text/markdown": [
       "\n",
       "A data.frame: 6 × 4\n",
       "\n",
       "| geneName &lt;chr&gt; | NodeID &lt;int&gt; | NodeLabel &lt;chr&gt; | NodeNames &lt;chr&gt; |\n",
       "|---|---|---|---|\n",
       "| AFF4   | 15448 | TF | AFF4   |\n",
       "| AHR    | 15449 | TF | AHR    |\n",
       "| ARID3A | 15450 | TF | ARID3A |\n",
       "| ARNT   | 15451 | TF | ARNT   |\n",
       "| ARRB1  | 15452 | TF | ARRB1  |\n",
       "| ATF1   | 15453 | TF | ATF1   |\n",
       "\n"
      ],
      "text/plain": [
       "  geneName NodeID NodeLabel NodeNames\n",
       "1 AFF4     15448  TF        AFF4     \n",
       "2 AHR      15449  TF        AHR      \n",
       "3 ARID3A   15450  TF        ARID3A   \n",
       "4 ARNT     15451  TF        ARNT     \n",
       "5 ARRB1    15452  TF        ARRB1    \n",
       "6 ATF1     15453  TF        ATF1     "
      ]
     },
     "metadata": {},
     "output_type": "display_data"
    }
   ],
   "source": [
    "head(AllgeneName_TF_LncRNA)"
   ]
  },
  {
   "cell_type": "code",
   "execution_count": 59,
   "metadata": {},
   "outputs": [
    {
     "data": {
      "text/html": [
       "<ol class=list-inline>\n",
       "\t<li>67714</li>\n",
       "\t<li>4</li>\n",
       "</ol>\n"
      ],
      "text/latex": [
       "\\begin{enumerate*}\n",
       "\\item 67714\n",
       "\\item 4\n",
       "\\end{enumerate*}\n"
      ],
      "text/markdown": [
       "1. 67714\n",
       "2. 4\n",
       "\n",
       "\n"
      ],
      "text/plain": [
       "[1] 67714     4"
      ]
     },
     "metadata": {},
     "output_type": "display_data"
    }
   ],
   "source": [
    "dim(AllgeneName_TF_LncRNA)"
   ]
  },
  {
   "cell_type": "markdown",
   "metadata": {},
   "source": [
    "<h2 id='9.2'> Step2: A vector about out genes.</h2>"
   ]
  },
  {
   "cell_type": "code",
   "execution_count": 60,
   "metadata": {},
   "outputs": [],
   "source": [
    "#----------Find the gene nodes------------------------------------\n",
    "gene <- c('NANOG', 'CTCF', 'EP300', 'POLR2A', 'YY1', 'RAD21', 'SMC3', 'STAG1', 'MED1', 'MED12')"
   ]
  },
  {
   "cell_type": "markdown",
   "metadata": {},
   "source": [
    "<h2 id='9.3'> Step3: Create a function `geneMatchIndex` for find out those nodes that genes we want.</h2>"
   ]
  },
  {
   "cell_type": "markdown",
   "metadata": {},
   "source": [
    "Here we create a function for match those genes by full match or fuzzy match. Full match means your input is full name of genes, that you only get this nodes that gene names is your input.  \n",
    "\n",
    "This is as defaults. please set argument `FullMatch = 0` If you want use fuzzy match for those gene names contain strings of your input. \n",
    "\n",
    "The argument `by` must one of `\"geneName\"`,  `\"NodeID\"` ,   `\"NodeLabel\"` and `\"NodeNames\"`. It means the type of your input data.\n",
    "\n",
    "Result is a list includes a data frame of `TargetNodes` about genes and a vector `NoGeneIndex` about those genes not in GREG. \n"
   ]
  },
  {
   "cell_type": "code",
   "execution_count": 61,
   "metadata": {},
   "outputs": [
    {
     "name": "stderr",
     "output_type": "stream",
     "text": [
      "Your code contains a unicode char which cannot be displayed in your\n",
      "current locale and R will silently convert it to an escaped form when the\n",
      "R kernel executes this code. This can lead to subtle errors if you use\n",
      "such chars to do comparisons. For more information, please see\n",
      "https://github.com/IRkernel/repr/wiki/Problems-with-unicode-on-windows"
     ]
    }
   ],
   "source": [
    "#-----------grep或者which---------------------\n",
    "#-----------------------------------------\n",
    "#a function geneMatchIndex for find out those nodes that genes we want\n",
    "#一个函数用来查找gene在所有基因数据框内的对应位置和没有匹配的基因\n",
    "\n",
    "#This is as defaults. please set argument `FullMatch = 0` If you want use fuzzy match for those gene names contain strings of your input.\n",
    "#FullMatch默认为1，也就是说默认使用的是完全匹配的方式，找到的基因名称跟输入的是一模一样的\n",
    "#FullMatch如果是其他数字，则用grep的方式查找含有该字符串的基因位置\n",
    "\n",
    "#Result is a list includes a data frame of `TargetNodes` about genes and a vector `NoGeneIndex` about those genes not in GREG.\n",
    "#返回的是两个向量的list，geneIndex是对应基因的位置；NoGeneIndex是该基因在数据库中没有找到\n",
    "\n",
    "#The argument `by` must one of `\"geneName\"`,  `\"NodeID\"` ,   `\"NodeLabel\"` and `\"NodeNames\"`. It means the type of your input data.\n",
    "#第三个参数是指匹配的是哪个类型， 是属于基因名，还是节点id，节点的label和节点名称\n",
    "#第三个参数 即 \"geneName\"  \"NodeID\"    \"NodeLabel\" \"NodeNames\"\n",
    "geneMatchIndex = function(gene, FullMatch = 1, by = \"geneName\"){\n",
    "  geneIndex = c() \n",
    "  NoGeneIndex =  c()\n",
    "  Ag = AllgeneName_TF_LncRNA[by]\n",
    "  if (FullMatch == 1){\n",
    "    #----------which-----------------\n",
    "    for (i in 1:length(gene) ) {\n",
    "      geneIndex1 = which(Ag == gene[i])\n",
    "      if (length(geneIndex1) == 0){NoGeneIndex = c(gene[i], NoGeneIndex)}\n",
    "      else{geneIndex = c(geneIndex,geneIndex1)}\n",
    "    }\n",
    "  }\n",
    "  \n",
    "  else{\n",
    "    #----------grep---------------\n",
    "    for (i in 1:length(gene) ) {\n",
    "      geneIndex1 = grep(gene[i],Ag, fixed = TRUE)\n",
    "      if (length(geneIndex1) == 0){NoGeneIndex = c(gene[i], NoGeneIndex)}\n",
    "      else{geneIndex = c(geneIndex,geneIndex1)}\n",
    "    }\n",
    "  }\n",
    "  \n",
    "  TargetNodes <- AllgeneName_TF_LncRNA[geneIndex, ]\n",
    "  geneInGREG = list(TargetNodes, NoGeneIndex)\n",
    "  names(geneInGREG) = c(\"TargetNodes\", \"NoGeneIndex\")\n",
    "  #返回匹配上的TargetNodes和没有找到基因NoGeneIndex\n",
    "  return (geneInGREG )\n",
    "}\n"
   ]
  },
  {
   "cell_type": "markdown",
   "metadata": {},
   "source": [
    "<h2 id='9.4'> Step4: Find out those nodes that genes we want.</h2>"
   ]
  },
  {
   "cell_type": "code",
   "execution_count": 62,
   "metadata": {},
   "outputs": [
    {
     "data": {
      "text/html": [
       "<table>\n",
       "<caption>A data.frame: 24 × 4</caption>\n",
       "<thead>\n",
       "\t<tr><th></th><th scope=col>geneName</th><th scope=col>NodeID</th><th scope=col>NodeLabel</th><th scope=col>NodeNames</th></tr>\n",
       "\t<tr><th></th><th scope=col>&lt;chr&gt;</th><th scope=col>&lt;int&gt;</th><th scope=col>&lt;chr&gt;</th><th scope=col>&lt;chr&gt;</th></tr>\n",
       "</thead>\n",
       "<tbody>\n",
       "\t<tr><th scope=row>257</th><td>NANOG </td><td>1288081</td><td>TF   </td><td>NANOG </td></tr>\n",
       "\t<tr><th scope=row>40007</th><td>NANOG </td><td>   9759</td><td>chr12</td><td>Bin39 </td></tr>\n",
       "\t<tr><th scope=row>40</th><td>CTCF  </td><td>  15487</td><td>TF   </td><td>CTCF  </td></tr>\n",
       "\t<tr><th scope=row>51743</th><td>CTCF  </td><td>  12342</td><td>chr16</td><td>Bin338</td></tr>\n",
       "\t<tr><th scope=row>51744</th><td>CTCF  </td><td>  12343</td><td>chr16</td><td>Bin339</td></tr>\n",
       "\t<tr><th scope=row>58</th><td>EP300 </td><td>  15505</td><td>TF   </td><td>EP300 </td></tr>\n",
       "\t<tr><th scope=row>64105</th><td>EP300 </td><td>  14330</td><td>chr22</td><td>Bin206</td></tr>\n",
       "\t<tr><th scope=row>155</th><td>POLR2A</td><td>  15602</td><td>TF   </td><td>POLR2A</td></tr>\n",
       "\t<tr><th scope=row>52860</th><td>POLR2A</td><td>  12494</td><td>chr17</td><td>Bin38 </td></tr>\n",
       "\t<tr><th scope=row>240</th><td>YY1   </td><td>  15687</td><td>TF   </td><td>YY1   </td></tr>\n",
       "\t<tr><th scope=row>46700</th><td>YY1   </td><td>  11461</td><td>chr14</td><td>Bin502</td></tr>\n",
       "\t<tr><th scope=row>167</th><td>RAD21 </td><td>  15614</td><td>TF   </td><td>RAD21 </td></tr>\n",
       "\t<tr><th scope=row>30285</th><td>RAD21 </td><td>   7542</td><td>chr8 </td><td>Bin585</td></tr>\n",
       "\t<tr><th scope=row>194</th><td>SMC3  </td><td>  15641</td><td>TF   </td><td>SMC3  </td></tr>\n",
       "\t<tr><th scope=row>35620</th><td>SMC3  </td><td>   8928</td><td>chr10</td><td>Bin553</td></tr>\n",
       "\t<tr><th scope=row>35621</th><td>SMC3  </td><td>   8929</td><td>chr10</td><td>Bin554</td></tr>\n",
       "\t<tr><th scope=row>205</th><td>STAG1 </td><td>  15652</td><td>TF   </td><td>STAG1 </td></tr>\n",
       "\t<tr><th scope=row>13536</th><td>STAG1 </td><td>   3137</td><td>chr3 </td><td>Bin682</td></tr>\n",
       "\t<tr><th scope=row>13537</th><td>STAG1 </td><td>   3138</td><td>chr3 </td><td>Bin683</td></tr>\n",
       "\t<tr><th scope=row>13539</th><td>STAG1 </td><td>   3139</td><td>chr3 </td><td>Bin684</td></tr>\n",
       "\t<tr><th scope=row>125</th><td>MED1  </td><td>  15572</td><td>TF   </td><td>MED1  </td></tr>\n",
       "\t<tr><th scope=row>54100</th><td>MED1  </td><td>  12654</td><td>chr17</td><td>Bin198</td></tr>\n",
       "\t<tr><th scope=row>126</th><td>MED12 </td><td>  15573</td><td>TF   </td><td>MED12 </td></tr>\n",
       "\t<tr><th scope=row>65605</th><td>MED12 </td><td>  14735</td><td>chrX </td><td>Bin356</td></tr>\n",
       "</tbody>\n",
       "</table>\n"
      ],
      "text/latex": [
       "A data.frame: 24 × 4\n",
       "\\begin{tabular}{r|llll}\n",
       "  & geneName & NodeID & NodeLabel & NodeNames\\\\\n",
       "  & <chr> & <int> & <chr> & <chr>\\\\\n",
       "\\hline\n",
       "\t257 & NANOG  & 1288081 & TF    & NANOG \\\\\n",
       "\t40007 & NANOG  &    9759 & chr12 & Bin39 \\\\\n",
       "\t40 & CTCF   &   15487 & TF    & CTCF  \\\\\n",
       "\t51743 & CTCF   &   12342 & chr16 & Bin338\\\\\n",
       "\t51744 & CTCF   &   12343 & chr16 & Bin339\\\\\n",
       "\t58 & EP300  &   15505 & TF    & EP300 \\\\\n",
       "\t64105 & EP300  &   14330 & chr22 & Bin206\\\\\n",
       "\t155 & POLR2A &   15602 & TF    & POLR2A\\\\\n",
       "\t52860 & POLR2A &   12494 & chr17 & Bin38 \\\\\n",
       "\t240 & YY1    &   15687 & TF    & YY1   \\\\\n",
       "\t46700 & YY1    &   11461 & chr14 & Bin502\\\\\n",
       "\t167 & RAD21  &   15614 & TF    & RAD21 \\\\\n",
       "\t30285 & RAD21  &    7542 & chr8  & Bin585\\\\\n",
       "\t194 & SMC3   &   15641 & TF    & SMC3  \\\\\n",
       "\t35620 & SMC3   &    8928 & chr10 & Bin553\\\\\n",
       "\t35621 & SMC3   &    8929 & chr10 & Bin554\\\\\n",
       "\t205 & STAG1  &   15652 & TF    & STAG1 \\\\\n",
       "\t13536 & STAG1  &    3137 & chr3  & Bin682\\\\\n",
       "\t13537 & STAG1  &    3138 & chr3  & Bin683\\\\\n",
       "\t13539 & STAG1  &    3139 & chr3  & Bin684\\\\\n",
       "\t125 & MED1   &   15572 & TF    & MED1  \\\\\n",
       "\t54100 & MED1   &   12654 & chr17 & Bin198\\\\\n",
       "\t126 & MED12  &   15573 & TF    & MED12 \\\\\n",
       "\t65605 & MED12  &   14735 & chrX  & Bin356\\\\\n",
       "\\end{tabular}\n"
      ],
      "text/markdown": [
       "\n",
       "A data.frame: 24 × 4\n",
       "\n",
       "| <!--/--> | geneName &lt;chr&gt; | NodeID &lt;int&gt; | NodeLabel &lt;chr&gt; | NodeNames &lt;chr&gt; |\n",
       "|---|---|---|---|---|\n",
       "| 257 | NANOG  | 1288081 | TF    | NANOG  |\n",
       "| 40007 | NANOG  |    9759 | chr12 | Bin39  |\n",
       "| 40 | CTCF   |   15487 | TF    | CTCF   |\n",
       "| 51743 | CTCF   |   12342 | chr16 | Bin338 |\n",
       "| 51744 | CTCF   |   12343 | chr16 | Bin339 |\n",
       "| 58 | EP300  |   15505 | TF    | EP300  |\n",
       "| 64105 | EP300  |   14330 | chr22 | Bin206 |\n",
       "| 155 | POLR2A |   15602 | TF    | POLR2A |\n",
       "| 52860 | POLR2A |   12494 | chr17 | Bin38  |\n",
       "| 240 | YY1    |   15687 | TF    | YY1    |\n",
       "| 46700 | YY1    |   11461 | chr14 | Bin502 |\n",
       "| 167 | RAD21  |   15614 | TF    | RAD21  |\n",
       "| 30285 | RAD21  |    7542 | chr8  | Bin585 |\n",
       "| 194 | SMC3   |   15641 | TF    | SMC3   |\n",
       "| 35620 | SMC3   |    8928 | chr10 | Bin553 |\n",
       "| 35621 | SMC3   |    8929 | chr10 | Bin554 |\n",
       "| 205 | STAG1  |   15652 | TF    | STAG1  |\n",
       "| 13536 | STAG1  |    3137 | chr3  | Bin682 |\n",
       "| 13537 | STAG1  |    3138 | chr3  | Bin683 |\n",
       "| 13539 | STAG1  |    3139 | chr3  | Bin684 |\n",
       "| 125 | MED1   |   15572 | TF    | MED1   |\n",
       "| 54100 | MED1   |   12654 | chr17 | Bin198 |\n",
       "| 126 | MED12  |   15573 | TF    | MED12  |\n",
       "| 65605 | MED12  |   14735 | chrX  | Bin356 |\n",
       "\n"
      ],
      "text/plain": [
       "      geneName NodeID  NodeLabel NodeNames\n",
       "257   NANOG    1288081 TF        NANOG    \n",
       "40007 NANOG       9759 chr12     Bin39    \n",
       "40    CTCF       15487 TF        CTCF     \n",
       "51743 CTCF       12342 chr16     Bin338   \n",
       "51744 CTCF       12343 chr16     Bin339   \n",
       "58    EP300      15505 TF        EP300    \n",
       "64105 EP300      14330 chr22     Bin206   \n",
       "155   POLR2A     15602 TF        POLR2A   \n",
       "52860 POLR2A     12494 chr17     Bin38    \n",
       "240   YY1        15687 TF        YY1      \n",
       "46700 YY1        11461 chr14     Bin502   \n",
       "167   RAD21      15614 TF        RAD21    \n",
       "30285 RAD21       7542 chr8      Bin585   \n",
       "194   SMC3       15641 TF        SMC3     \n",
       "35620 SMC3        8928 chr10     Bin553   \n",
       "35621 SMC3        8929 chr10     Bin554   \n",
       "205   STAG1      15652 TF        STAG1    \n",
       "13536 STAG1       3137 chr3      Bin682   \n",
       "13537 STAG1       3138 chr3      Bin683   \n",
       "13539 STAG1       3139 chr3      Bin684   \n",
       "125   MED1       15572 TF        MED1     \n",
       "54100 MED1       12654 chr17     Bin198   \n",
       "126   MED12      15573 TF        MED12    \n",
       "65605 MED12      14735 chrX      Bin356   "
      ]
     },
     "metadata": {},
     "output_type": "display_data"
    }
   ],
   "source": [
    "#------------------------------------ \n",
    "geneIndex = geneMatchIndex(gene)\n",
    "TargetNodes <- geneIndex$TargetNodes\n",
    "TargetNodes "
   ]
  },
  {
   "cell_type": "markdown",
   "metadata": {},
   "source": [
    "<h2 id='9.5'> Step5: To get modules which includes target genes</h2>"
   ]
  },
  {
   "cell_type": "markdown",
   "metadata": {},
   "source": [
    "At here, we use the query command at part`8.2` for modules nodes."
   ]
  },
  {
   "cell_type": "code",
   "execution_count": 63,
   "metadata": {},
   "outputs": [
    {
     "name": "stderr",
     "output_type": "stream",
     "text": [
      "Your code contains a unicode char which cannot be displayed in your\n",
      "current locale and R will silently convert it to an escaped form when the\n",
      "R kernel executes this code. This can lead to subtle errors if you use\n",
      "such chars to do comparisons. For more information, please see\n",
      "https://github.com/IRkernel/repr/wiki/Problems-with-unicode-on-windows"
     ]
    }
   ],
   "source": [
    "#---------------------------\n",
    "#找到包含了这些基因节点的模块\n",
    "query = queryLouvainForChr12_TargetNodesInModules(TargetNodes$NodeID)\n",
    "TargetNodesInModules <- cypher(graph, query, TargetNodes_NodeID = TargetNodes$NodeID)"
   ]
  },
  {
   "cell_type": "code",
   "execution_count": 64,
   "metadata": {},
   "outputs": [
    {
     "data": {
      "text/html": [
       "4"
      ],
      "text/latex": [
       "4"
      ],
      "text/markdown": [
       "4"
      ],
      "text/plain": [
       "[1] 4"
      ]
     },
     "metadata": {},
     "output_type": "display_data"
    }
   ],
   "source": [
    "length(TargetNodesInModules)"
   ]
  },
  {
   "cell_type": "markdown",
   "metadata": {},
   "source": [
    "`TargetNodesInModules` has 4 modules."
   ]
  },
  {
   "cell_type": "markdown",
   "metadata": {},
   "source": [
    "<h2 id='9.6'> Step6: Build a function to judge which modules is we want.</h2>"
   ]
  },
  {
   "cell_type": "markdown",
   "metadata": {},
   "source": [
    "`real_TargetNodes_In_Modules` function use to chose those modules includes nodes/genes as we designs(ask).\n",
    "\n",
    "argument `TargetNodesInModules` is like the last result.\n",
    "\n",
    "argument `gene` is a vector which includes all genes we want.\n",
    "\n",
    "argument `MustIn` is a vertor which includes genes we ask must in this modules.\n",
    "\n",
    "Argument `OrIn` is a vertor which includes genes some in this modules, and some may not in, but always at least one genes in. \n",
    "\n",
    "`OrIn2` is the same of `OrIn`."
   ]
  },
  {
   "cell_type": "code",
   "execution_count": 65,
   "metadata": {},
   "outputs": [
    {
     "name": "stderr",
     "output_type": "stream",
     "text": [
      "Your code contains a unicode char which cannot be displayed in your\n",
      "current locale and R will silently convert it to an escaped form when the\n",
      "R kernel executes this code. This can lead to subtle errors if you use\n",
      "such chars to do comparisons. For more information, please see\n",
      "https://github.com/IRkernel/repr/wiki/Problems-with-unicode-on-windows"
     ]
    }
   ],
   "source": [
    "#-------------------------------------------------------------------------------------------------------\n",
    "#real_TargetNodes_In_Modules function use to chose those modules includes nodes/genes as we designs(ask).\n",
    "#这个real_TargetNodes_In_Modules函数是用来选择那些符合要求的基因模块列表\n",
    "#argument TargetNodesInModules is the last result\n",
    "#参数有TargetNodesInModules就是我们上一步得出的结果TargetNodesInModules，结构必须是相同的\n",
    "#gene is a vector which includes all genes we want.\n",
    "#参数gene也是之前使用的\n",
    "# MustIn is a vertor which includes genes we ask must in this modules\n",
    "#参数MustIn就是我们选择的gene一定要出现在模块中\n",
    "#OrIn is a vertor which includes genes some in this modules, and some may not in, but always at least one genes in \n",
    "#参数OrIn就是我们选择的gene中至少有一个要出现在模块中\n",
    "#OrIn2 is the sames of OrIn\n",
    "#参数OrIn2也就是我们选择的gene中至少有一个要出现在模块中\n",
    "real_TargetNodes_In_Modules <- function(TargetNodesInModules,gene,MustIn,OrIn = NULL,OrIn2 = NULL){\n",
    "    index = c()\n",
    "    diffGene = list()\n",
    "    for (i in 1:nrow(TargetNodesInModules)){\n",
    "        #At first, we need to match those genes names about nodes in modules\n",
    "        #找对节点id号对应的基因名称\n",
    "        Mod_TargetNodes = unlist(TargetNodesInModules$TargetNodes_ID[i])\n",
    "        Mod_TargetNodes = geneMatchIndex(Mod_TargetNodes, by = \"NodeID\")\n",
    "        \n",
    "        #find out genes those are not in this module\n",
    "        #找到在对应的模块里面不存在的输入的基因\n",
    "        diff = setdiff(gene, Mod_TargetNodes$TargetNodes$geneName)\n",
    "        \n",
    "        #To judge whather module is we want \n",
    "        #判断diff是属于哪些基因的，是属于必需的，还是属于可选的，还是不要的\n",
    "          #-----------------------\n",
    "          #get an intersection between diff and MustIn, if geneIn was not null, then it judge that this module not as we want \n",
    "          #diff和MustIn的交集geneIn，如果有，则那这个模块不能用\n",
    "          geneIn = intersect(diff,MustIn)\n",
    "          #即如果geneIn的数量大于0， 则说明diff中有基因是跟MustIn相同的,则那这个模块不能用\n",
    "          case1 <- length(geneIn) > 0 \n",
    "          #-----------------------\n",
    "           #get an intersection between diff and OrIn, if geneOrIn have the same number of OrIn, we can not chose the modules\n",
    "          if (length(OrIn) > 1 ) {\n",
    "            #如果diff和OrIn的交集geneOrIn跟OrIn一样多，则说明OrIn中的基因都是diff，那这个模块不能用\n",
    "            geneOrIn = intersect(OrIn,diff)\n",
    "            #如果diff和OrIn的交集geneOrIn跟OrIn一样多，则说明OrIn中的基因都是diff，那这个模块不能用\n",
    "            case2 <- length(geneOrIn) == length(OrIn) }\n",
    "          else{ case2 = FALSE }\n",
    "          #-----------------------\n",
    "          if (length(OrIn2) > 1 ){\n",
    "          geneOrIn2 = intersect(diff,OrIn2)\n",
    "          case3 <- length(geneOrIn2) == length(OrIn2)}\n",
    "          else{ case2 = FALSE }\n",
    "        \n",
    "        #If one of three case is TRUE, the module will not be chose.\n",
    "          #有一个是TRUE则这个模块就不可以用了，这里是case1或者case2或者case3\n",
    "          if( case1 | case2 | case3) { \n",
    "              index = c(index, i)\n",
    "          diffGene[i] = diff}\n",
    "    }\n",
    "    names(diffGene) = TargetNodesInModules$community\n",
    "    #符合所选情况的模块（即根据自己定义了的基因都在对应的模块中）\n",
    "    realTargetNodesInModules = TargetNodesInModules[c(-index),]\n",
    "    \n",
    "    judgeResults = list(realTargetNodesInModules,diffGene)\n",
    "    names(judgeResults) = c(\"realTargetNodesInModules\",\"diffGene\")\n",
    "    return(judgeResults)\n",
    "}\n",
    "#---------------------------------------------------------------------------------------------------------"
   ]
  },
  {
   "cell_type": "markdown",
   "metadata": {},
   "source": [
    "<h2 id='9.7'> Step7: Select those mudules as we want</h2>"
   ]
  },
  {
   "cell_type": "code",
   "execution_count": 66,
   "metadata": {},
   "outputs": [
    {
     "name": "stderr",
     "output_type": "stream",
     "text": [
      "Your code contains a unicode char which cannot be displayed in your\n",
      "current locale and R will silently convert it to an escaped form when the\n",
      "R kernel executes this code. This can lead to subtle errors if you use\n",
      "such chars to do comparisons. For more information, please see\n",
      "https://github.com/IRkernel/repr/wiki/Problems-with-unicode-on-windowsWarning message in diffGene[i] <- diff:\n",
      "\"number of items to replace is not a multiple of replacement length\"Warning message in diffGene[i] <- diff:\n",
      "\"number of items to replace is not a multiple of replacement length\"Warning message in diffGene[i] <- diff:\n",
      "\"number of items to replace is not a multiple of replacement length\"Warning message in diffGene[i] <- diff:\n",
      "\"number of items to replace is not a multiple of replacement length\""
     ]
    }
   ],
   "source": [
    "#查看是否都包含这些基因\n",
    "\n",
    "#现将gene拆分成哪些基因是必需的，哪些是可选的，哪些是不要的\n",
    "#一定要有的基因\n",
    "#Genes must is in modules\n",
    "MustIn = c(\"NANOG\",\"CTCF\", \"EP300\",\"POLR2A\",\"YY1\")\n",
    "\n",
    "#Genes may not in modules, but at least one gene in modules\n",
    "#不一定要有的基因，即可以有，也可以没有，至少有一个在\n",
    "OrIn = c(\"RAD21\",\"SMC3\",\"STAG1\")\n",
    "OrIn2 = c(\"MED1\",\"MED12\")\n",
    "\n",
    "#Select module like we want\n",
    "judgeResults = real_TargetNodes_In_Modules(TargetNodesInModules,\n",
    "                                                       gene,MustIn,OrIn,OrIn2)"
   ]
  },
  {
   "cell_type": "code",
   "execution_count": 67,
   "metadata": {},
   "outputs": [
    {
     "data": {
      "text/html": [
       "<ol class=list-inline>\n",
       "\t<li>0</li>\n",
       "\t<li>4</li>\n",
       "</ol>\n"
      ],
      "text/latex": [
       "\\begin{enumerate*}\n",
       "\\item 0\n",
       "\\item 4\n",
       "\\end{enumerate*}\n"
      ],
      "text/markdown": [
       "1. 0\n",
       "2. 4\n",
       "\n",
       "\n"
      ],
      "text/plain": [
       "[1] 0 4"
      ]
     },
     "metadata": {},
     "output_type": "display_data"
    },
    {
     "data": {
      "text/html": [
       "<dl>\n",
       "\t<dt>$Module11195</dt>\n",
       "\t\t<dd>'POLR2A'</dd>\n",
       "\t<dt>$Module14229</dt>\n",
       "\t\t<dd>'NANOG'</dd>\n",
       "\t<dt>$Module14779</dt>\n",
       "\t\t<dd>'NANOG'</dd>\n",
       "\t<dt>$Module40033</dt>\n",
       "\t\t<dd>'NANOG'</dd>\n",
       "</dl>\n"
      ],
      "text/latex": [
       "\\begin{description}\n",
       "\\item[\\$Module11195] 'POLR2A'\n",
       "\\item[\\$Module14229] 'NANOG'\n",
       "\\item[\\$Module14779] 'NANOG'\n",
       "\\item[\\$Module40033] 'NANOG'\n",
       "\\end{description}\n"
      ],
      "text/markdown": [
       "$Module11195\n",
       ":   'POLR2A'\n",
       "$Module14229\n",
       ":   'NANOG'\n",
       "$Module14779\n",
       ":   'NANOG'\n",
       "$Module40033\n",
       ":   'NANOG'\n",
       "\n",
       "\n"
      ],
      "text/plain": [
       "$Module11195\n",
       "[1] \"POLR2A\"\n",
       "\n",
       "$Module14229\n",
       "[1] \"NANOG\"\n",
       "\n",
       "$Module14779\n",
       "[1] \"NANOG\"\n",
       "\n",
       "$Module40033\n",
       "[1] \"NANOG\"\n"
      ]
     },
     "metadata": {},
     "output_type": "display_data"
    }
   ],
   "source": [
    "realTargetNodesInModules = judgeResults[[1]]\n",
    "\n",
    "diffGene = judgeResults[[2]]\n",
    "\n",
    "dim(realTargetNodesInModules)\n",
    "\n",
    "diffGene"
   ]
  },
  {
   "cell_type": "markdown",
   "metadata": {},
   "source": [
    "So, we didn't get an module as we want. "
   ]
  },
  {
   "cell_type": "markdown",
   "metadata": {},
   "source": [
    "<h2 id='9.8'> Step8: get relationships during nodes in each community(module)</h2>"
   ]
  },
  {
   "cell_type": "markdown",
   "metadata": {},
   "source": [
    "###### If there have modules as we want, we can get relationships by function `Module_Relationship`."
   ]
  },
  {
   "cell_type": "code",
   "execution_count": 68,
   "metadata": {},
   "outputs": [
    {
     "name": "stderr",
     "output_type": "stream",
     "text": [
      "Your code contains a unicode char which cannot be displayed in your\n",
      "current locale and R will silently convert it to an escaped form when the\n",
      "R kernel executes this code. This can lead to subtle errors if you use\n",
      "such chars to do comparisons. For more information, please see\n",
      "https://github.com/IRkernel/repr/wiki/Problems-with-unicode-on-windows"
     ]
    }
   ],
   "source": [
    "#假设有的话，我们继续将这个模块的所有关系都找出来\n",
    "#realTargetNodesInModules = TargetNodesInModules\n",
    "#Relationship_realTargetNodesInModules <- Module_Relationship(realTargetNodesInModules)"
   ]
  },
  {
   "cell_type": "code",
   "execution_count": 69,
   "metadata": {},
   "outputs": [],
   "source": [
    "#head(Relationship_realTargetNodesInModules[[1]])"
   ]
  },
  {
   "cell_type": "markdown",
   "metadata": {},
   "source": [
    "<h1 id='10'> save all results<h1>"
   ]
  },
  {
   "cell_type": "markdown",
   "metadata": {},
   "source": [
    "To get all results at [here](allResults.Rdata)."
   ]
  },
  {
   "cell_type": "code",
   "execution_count": 70,
   "metadata": {},
   "outputs": [],
   "source": [
    "save(labels,  relationshipType,  rel_details,  BindRel,BindRel_TF,  BindRel_LncRNA,InclusionRel, \n",
    "     InteractionRel,  chr12_hubs,  distribution,  module_chr12_total,  module_chr12,module_genelist,\n",
    "     module_chr12_list,  module_chr12_list_enrichGO,  module_chr12_list_enrichKEGG,AllgeneName, \n",
    "     chr12Mod,   Module_Relationships,   AllgeneName_TF_LncRNA,   TargetNodesInModules, \n",
    "      realTargetNodesInModules, diffGene,\n",
    "     file = \"allResults.Rdata\")"
   ]
  },
  {
   "cell_type": "code",
   "execution_count": null,
   "metadata": {},
   "outputs": [],
   "source": []
  }
 ],
 "metadata": {
  "kernelspec": {
   "display_name": "R",
   "language": "R",
   "name": "ir"
  },
  "language_info": {
   "codemirror_mode": "r",
   "file_extension": ".r",
   "mimetype": "text/x-r-source",
   "name": "R",
   "pygments_lexer": "r",
   "version": "3.6.1"
  },
  "toc": {
   "base_numbering": 1,
   "nav_menu": {},
   "number_sections": true,
   "sideBar": true,
   "skip_h1_title": false,
   "title_cell": "Table of Contents",
   "title_sidebar": "Contents",
   "toc_cell": false,
   "toc_position": {
    "height": "calc(100% - 180px)",
    "left": "10px",
    "top": "150px",
    "width": "206.4px"
   },
   "toc_section_display": true,
   "toc_window_display": true
  }
 },
 "nbformat": 4,
 "nbformat_minor": 2
}
