{
 "cells": [
  {
   "cell_type": "markdown",
   "metadata": {},
   "source": [
    "This task uses GREG Bigbin as database.\n",
    "At first, we still need to start neo4j/GREG, if you don't know how to do it, please refer to [my workshop2 about graph Algorithms](https://nbviewer.jupyter.org/github/xiaowei3223/GREGgraphAlgorithms/blob/master/workshop2/GREG_Algorithms.ipynb) to learn for start neo4j/GREG."
   ]
  },
  {
   "cell_type": "markdown",
   "metadata": {},
   "source": [
    "[1. Number of nodes of each type (TF, chr1, etc)](#1)\n",
    "\n",
    "[2. Number of relationships of each type (bind, etc)](#2)\n",
    "\n",
    "[3. List of hubs for chr12 (a hub is a node with a high degree)](#3)\n",
    "\n",
    "[4. Degree distribution for chr12 (GREG-min)](#4)\n",
    "\n",
    "[5. Modules for chromosome 12](#5)\n",
    "\n",
    "[6. Annotate all modules with the genes they contain in their bins](#6)\n",
    "\n",
    "[6.1  learn how to get the genes ](#6.1)\n",
    "\n",
    "[6.2  Get genes in each modules ](#6.2)\n",
    "\n",
    "[6.3  enriched modules in some KEGG pathway or GO term.](#6.3)\n",
    "\n",
    "[ 6.3.1 Enrich GO ](#6.3.1)\n",
    "\n",
    "[ 6.3.2 Enrich KEGG](#6.3.2)\n",
    "\n",
    "[7. Get All genes names](#7)\n",
    "\n",
    "[ 8. Find the modules that contain the gene \"NANOG\" and report all the nodes and relationships inside such modules. Also, report if they are enriched in some KEGG pathway or GO term . ](#8)\n",
    "\n",
    "[ Step1： Find out those nodes about target genes](#8.1)\n",
    "\n",
    "[ Step2: To get modules which includes target genes](#8.2)\n",
    "\n",
    "[ Step3: build a function to get relationships during nodes in each community(module)](#8.3)\n",
    "\n",
    "[ step4: get relationships during nodes in each community(module)](#8.4)\n",
    "\n",
    "[9. Select the modules that include NANOG AND CTCF AND EP300 AND POLR2A AND YY1 AND cohesin (RAD21, SMC3, OR STAG1) AND mediator (MED1 or MED12).](#9)\n",
    "\n",
    "[ Step1: Get nodes in all gene names in chromosomes,TF and LncRNA.](#9.1)\n",
    "\n",
    "[ Step2: A vector about out genes.](#9.2)\n",
    "\n",
    "[ Step3: Create a function `geneMatchIndex` for find out those nodes that genes we want.](#9.3)\n",
    "\n",
    "[ Step4: Find out those nodes that genes we want.](#9.4)\n",
    "\n",
    "[ Step5: To get modules which includes target genes](#9.5)\n",
    "\n",
    "[ Step6: Build a function to judge which modules is we want.](#9.6)\n",
    "\n",
    "[ Step7: Select those mudules as we want](#9.7)\n",
    "\n",
    "[ Step8: get relationships during nodes in each community(module)](#9.8)\n",
    "\n",
    "[10  save all results](#10)"
   ]
  },
  {
   "cell_type": "markdown",
   "metadata": {},
   "source": [
    "Now, we use `RNeo4j` package to get all the results of the task."
   ]
  },
  {
   "cell_type": "code",
   "execution_count": 2,
   "metadata": {},
   "outputs": [],
   "source": [
    "#connect neo4j with RNeo4j\n",
    "library(RNeo4j)\n",
    "\n",
    "graph = startGraph(\"http://localhost:7474/db/data/\", username=\"neo4j\", password=\"xiaowei\")"
   ]
  },
  {
   "cell_type": "code",
   "execution_count": 3,
   "metadata": {},
   "outputs": [
    {
     "name": "stderr",
     "output_type": "stream",
     "text": [
      "Your code contains a unicode char which cannot be displayed in your\n",
      "current locale and R will silently convert it to an escaped form when the\n",
      "R kernel executes this code. This can lead to subtle errors if you use\n",
      "such chars to do comparisons. For more information, please see\n",
      "https://github.com/IRkernel/repr/wiki/Problems-with-unicode-on-windowsRegistered S3 method overwritten by 'grid':\n",
      "  method     from  \n",
      "  print.path RNeo4j\n"
     ]
    }
   ],
   "source": [
    "#---define the backgroup of plot\n",
    "library(ggplot2)\n",
    "backgroup <-   theme(axis.text.x = element_text(vjust = 0.5, hjust = 1, angle = 90 ),\n",
    "                     plot.title = element_text(face =\"bold\" ,hjust = 0.5),\n",
    "                     panel.grid.major = element_blank(), #删除网格线\n",
    "                     panel.grid.minor = element_blank(), #删除网格线\n",
    "                     panel.background=element_rect(fill='transparent',color =\"gray\"))"
   ]
  },
  {
   "cell_type": "markdown",
   "metadata": {},
   "source": [
    "<h1 id='1'>1. Number of nodes of each type (TF, chr1, etc)<h1>"
   ]
  },
  {
   "cell_type": "markdown",
   "metadata": {},
   "source": [
    "Number of the allnode is 1267023."
   ]
  },
  {
   "cell_type": "code",
   "execution_count": 4,
   "metadata": {},
   "outputs": [
    {
     "data": {
      "text/html": [
       "<table>\n",
       "<caption>A data.frame: 1 × 1</caption>\n",
       "<thead>\n",
       "\t<tr><th scope=col>AllNodes</th></tr>\n",
       "\t<tr><th scope=col>&lt;int&gt;</th></tr>\n",
       "</thead>\n",
       "<tbody>\n",
       "\t<tr><td>1267023</td></tr>\n",
       "</tbody>\n",
       "</table>\n"
      ],
      "text/latex": [
       "A data.frame: 1 × 1\n",
       "\\begin{tabular}{r|l}\n",
       " AllNodes\\\\\n",
       " <int>\\\\\n",
       "\\hline\n",
       "\t 1267023\\\\\n",
       "\\end{tabular}\n"
      ],
      "text/markdown": [
       "\n",
       "A data.frame: 1 × 1\n",
       "\n",
       "| AllNodes &lt;int&gt; |\n",
       "|---|\n",
       "| 1267023 |\n",
       "\n"
      ],
      "text/plain": [
       "  AllNodes\n",
       "1 1267023 "
      ]
     },
     "metadata": {},
     "output_type": "display_data"
    }
   ],
   "source": [
    "cypher(graph, query =\"MATCH (n) RETURN count(n) as AllNodes\" )"
   ]
  },
  {
   "cell_type": "code",
   "execution_count": 5,
   "metadata": {},
   "outputs": [],
   "source": [
    "query = \"MATCH (n) RETURN distinct labels(n) as label, count(labels(n)) as count\"\n",
    "\n",
    "labels <- cypher(graph,query) "
   ]
  },
  {
   "cell_type": "code",
   "execution_count": 6,
   "metadata": {},
   "outputs": [
    {
     "data": {
      "text/html": [
       "<table>\n",
       "<caption>A data.frame: 50 × 2</caption>\n",
       "<thead>\n",
       "\t<tr><th scope=col>label</th><th scope=col>count</th></tr>\n",
       "\t<tr><th scope=col>&lt;chr&gt;</th><th scope=col>&lt;int&gt;</th></tr>\n",
       "</thead>\n",
       "<tbody>\n",
       "\t<tr><td>chr1       </td><td>  1245</td></tr>\n",
       "\t<tr><td>chr2       </td><td>  1211</td></tr>\n",
       "\t<tr><td>chr3       </td><td>   992</td></tr>\n",
       "\t<tr><td>chr4       </td><td>   951</td></tr>\n",
       "\t<tr><td>chr5       </td><td>   908</td></tr>\n",
       "\t<tr><td>chr6       </td><td>   854</td></tr>\n",
       "\t<tr><td>chr7       </td><td>   797</td></tr>\n",
       "\t<tr><td>chr8       </td><td>   726</td></tr>\n",
       "\t<tr><td>chr9       </td><td>   692</td></tr>\n",
       "\t<tr><td>chr10      </td><td>   669</td></tr>\n",
       "\t<tr><td>chr11      </td><td>   676</td></tr>\n",
       "\t<tr><td>chr12      </td><td>   667</td></tr>\n",
       "\t<tr><td>chr13      </td><td>   572</td></tr>\n",
       "\t<tr><td>chr14      </td><td>   535</td></tr>\n",
       "\t<tr><td>chr15      </td><td>   510</td></tr>\n",
       "\t<tr><td>chr16      </td><td>   452</td></tr>\n",
       "\t<tr><td>chr17      </td><td>   417</td></tr>\n",
       "\t<tr><td>chr18      </td><td>   402</td></tr>\n",
       "\t<tr><td>chr19      </td><td>   293</td></tr>\n",
       "\t<tr><td>chr20      </td><td>   322</td></tr>\n",
       "\t<tr><td>chr21      </td><td>   234</td></tr>\n",
       "\t<tr><td>chr22      </td><td>   255</td></tr>\n",
       "\t<tr><td>chrX       </td><td>   781</td></tr>\n",
       "\t<tr><td>chrY       </td><td>   287</td></tr>\n",
       "\t<tr><td>TF         </td><td>   261</td></tr>\n",
       "\t<tr><td>chr1_Range </td><td>127334</td></tr>\n",
       "\t<tr><td>chr2_Range </td><td>106646</td></tr>\n",
       "\t<tr><td>chr3_Range </td><td> 77198</td></tr>\n",
       "\t<tr><td>chr4_Range </td><td> 47295</td></tr>\n",
       "\t<tr><td>chr5_Range </td><td> 66077</td></tr>\n",
       "\t<tr><td>chr6_Range </td><td> 76812</td></tr>\n",
       "\t<tr><td>chr7_Range </td><td> 58335</td></tr>\n",
       "\t<tr><td>chr8_Range </td><td> 56539</td></tr>\n",
       "\t<tr><td>chr9_Range </td><td> 54826</td></tr>\n",
       "\t<tr><td>chr10_Range</td><td> 61085</td></tr>\n",
       "\t<tr><td>chr11_Range</td><td> 66916</td></tr>\n",
       "\t<tr><td>chr12_Range</td><td> 62708</td></tr>\n",
       "\t<tr><td>chr13_Range</td><td> 26761</td></tr>\n",
       "\t<tr><td>chr14_Range</td><td> 40299</td></tr>\n",
       "\t<tr><td>chr15_Range</td><td> 47826</td></tr>\n",
       "\t<tr><td>chr16_Range</td><td> 45602</td></tr>\n",
       "\t<tr><td>chr17_Range</td><td> 64562</td></tr>\n",
       "\t<tr><td>chr18_Range</td><td> 25941</td></tr>\n",
       "\t<tr><td>chr19_Range</td><td> 37520</td></tr>\n",
       "\t<tr><td>chr20_Range</td><td> 37620</td></tr>\n",
       "\t<tr><td>chr21_Range</td><td> 18740</td></tr>\n",
       "\t<tr><td>chr22_Range</td><td> 26476</td></tr>\n",
       "\t<tr><td>chrX_Range </td><td> 17992</td></tr>\n",
       "\t<tr><td>chrY_Range </td><td>   169</td></tr>\n",
       "\t<tr><td>LncRNA     </td><td>    35</td></tr>\n",
       "</tbody>\n",
       "</table>\n"
      ],
      "text/latex": [
       "A data.frame: 50 × 2\n",
       "\\begin{tabular}{r|ll}\n",
       " label & count\\\\\n",
       " <chr> & <int>\\\\\n",
       "\\hline\n",
       "\t chr1        &   1245\\\\\n",
       "\t chr2        &   1211\\\\\n",
       "\t chr3        &    992\\\\\n",
       "\t chr4        &    951\\\\\n",
       "\t chr5        &    908\\\\\n",
       "\t chr6        &    854\\\\\n",
       "\t chr7        &    797\\\\\n",
       "\t chr8        &    726\\\\\n",
       "\t chr9        &    692\\\\\n",
       "\t chr10       &    669\\\\\n",
       "\t chr11       &    676\\\\\n",
       "\t chr12       &    667\\\\\n",
       "\t chr13       &    572\\\\\n",
       "\t chr14       &    535\\\\\n",
       "\t chr15       &    510\\\\\n",
       "\t chr16       &    452\\\\\n",
       "\t chr17       &    417\\\\\n",
       "\t chr18       &    402\\\\\n",
       "\t chr19       &    293\\\\\n",
       "\t chr20       &    322\\\\\n",
       "\t chr21       &    234\\\\\n",
       "\t chr22       &    255\\\\\n",
       "\t chrX        &    781\\\\\n",
       "\t chrY        &    287\\\\\n",
       "\t TF          &    261\\\\\n",
       "\t chr1\\_Range  & 127334\\\\\n",
       "\t chr2\\_Range  & 106646\\\\\n",
       "\t chr3\\_Range  &  77198\\\\\n",
       "\t chr4\\_Range  &  47295\\\\\n",
       "\t chr5\\_Range  &  66077\\\\\n",
       "\t chr6\\_Range  &  76812\\\\\n",
       "\t chr7\\_Range  &  58335\\\\\n",
       "\t chr8\\_Range  &  56539\\\\\n",
       "\t chr9\\_Range  &  54826\\\\\n",
       "\t chr10\\_Range &  61085\\\\\n",
       "\t chr11\\_Range &  66916\\\\\n",
       "\t chr12\\_Range &  62708\\\\\n",
       "\t chr13\\_Range &  26761\\\\\n",
       "\t chr14\\_Range &  40299\\\\\n",
       "\t chr15\\_Range &  47826\\\\\n",
       "\t chr16\\_Range &  45602\\\\\n",
       "\t chr17\\_Range &  64562\\\\\n",
       "\t chr18\\_Range &  25941\\\\\n",
       "\t chr19\\_Range &  37520\\\\\n",
       "\t chr20\\_Range &  37620\\\\\n",
       "\t chr21\\_Range &  18740\\\\\n",
       "\t chr22\\_Range &  26476\\\\\n",
       "\t chrX\\_Range  &  17992\\\\\n",
       "\t chrY\\_Range  &    169\\\\\n",
       "\t LncRNA      &     35\\\\\n",
       "\\end{tabular}\n"
      ],
      "text/markdown": [
       "\n",
       "A data.frame: 50 × 2\n",
       "\n",
       "| label &lt;chr&gt; | count &lt;int&gt; |\n",
       "|---|---|\n",
       "| chr1        |   1245 |\n",
       "| chr2        |   1211 |\n",
       "| chr3        |    992 |\n",
       "| chr4        |    951 |\n",
       "| chr5        |    908 |\n",
       "| chr6        |    854 |\n",
       "| chr7        |    797 |\n",
       "| chr8        |    726 |\n",
       "| chr9        |    692 |\n",
       "| chr10       |    669 |\n",
       "| chr11       |    676 |\n",
       "| chr12       |    667 |\n",
       "| chr13       |    572 |\n",
       "| chr14       |    535 |\n",
       "| chr15       |    510 |\n",
       "| chr16       |    452 |\n",
       "| chr17       |    417 |\n",
       "| chr18       |    402 |\n",
       "| chr19       |    293 |\n",
       "| chr20       |    322 |\n",
       "| chr21       |    234 |\n",
       "| chr22       |    255 |\n",
       "| chrX        |    781 |\n",
       "| chrY        |    287 |\n",
       "| TF          |    261 |\n",
       "| chr1_Range  | 127334 |\n",
       "| chr2_Range  | 106646 |\n",
       "| chr3_Range  |  77198 |\n",
       "| chr4_Range  |  47295 |\n",
       "| chr5_Range  |  66077 |\n",
       "| chr6_Range  |  76812 |\n",
       "| chr7_Range  |  58335 |\n",
       "| chr8_Range  |  56539 |\n",
       "| chr9_Range  |  54826 |\n",
       "| chr10_Range |  61085 |\n",
       "| chr11_Range |  66916 |\n",
       "| chr12_Range |  62708 |\n",
       "| chr13_Range |  26761 |\n",
       "| chr14_Range |  40299 |\n",
       "| chr15_Range |  47826 |\n",
       "| chr16_Range |  45602 |\n",
       "| chr17_Range |  64562 |\n",
       "| chr18_Range |  25941 |\n",
       "| chr19_Range |  37520 |\n",
       "| chr20_Range |  37620 |\n",
       "| chr21_Range |  18740 |\n",
       "| chr22_Range |  26476 |\n",
       "| chrX_Range  |  17992 |\n",
       "| chrY_Range  |    169 |\n",
       "| LncRNA      |     35 |\n",
       "\n"
      ],
      "text/plain": [
       "   label       count \n",
       "1  chr1          1245\n",
       "2  chr2          1211\n",
       "3  chr3           992\n",
       "4  chr4           951\n",
       "5  chr5           908\n",
       "6  chr6           854\n",
       "7  chr7           797\n",
       "8  chr8           726\n",
       "9  chr9           692\n",
       "10 chr10          669\n",
       "11 chr11          676\n",
       "12 chr12          667\n",
       "13 chr13          572\n",
       "14 chr14          535\n",
       "15 chr15          510\n",
       "16 chr16          452\n",
       "17 chr17          417\n",
       "18 chr18          402\n",
       "19 chr19          293\n",
       "20 chr20          322\n",
       "21 chr21          234\n",
       "22 chr22          255\n",
       "23 chrX           781\n",
       "24 chrY           287\n",
       "25 TF             261\n",
       "26 chr1_Range  127334\n",
       "27 chr2_Range  106646\n",
       "28 chr3_Range   77198\n",
       "29 chr4_Range   47295\n",
       "30 chr5_Range   66077\n",
       "31 chr6_Range   76812\n",
       "32 chr7_Range   58335\n",
       "33 chr8_Range   56539\n",
       "34 chr9_Range   54826\n",
       "35 chr10_Range  61085\n",
       "36 chr11_Range  66916\n",
       "37 chr12_Range  62708\n",
       "38 chr13_Range  26761\n",
       "39 chr14_Range  40299\n",
       "40 chr15_Range  47826\n",
       "41 chr16_Range  45602\n",
       "42 chr17_Range  64562\n",
       "43 chr18_Range  25941\n",
       "44 chr19_Range  37520\n",
       "45 chr20_Range  37620\n",
       "46 chr21_Range  18740\n",
       "47 chr22_Range  26476\n",
       "48 chrX_Range   17992\n",
       "49 chrY_Range     169\n",
       "50 LncRNA          35"
      ]
     },
     "metadata": {},
     "output_type": "display_data"
    }
   ],
   "source": [
    "labels"
   ]
  },
  {
   "cell_type": "code",
   "execution_count": 7,
   "metadata": {},
   "outputs": [
    {
     "data": {
      "image/png": "[encoded data removed]",
      "text/plain": [
       "plot without title"
      ]
     },
     "metadata": {},
     "output_type": "display_data"
    }
   ],
   "source": [
    "labels$label <- factor(labels$label，levels = c(labels$label))\n",
    "par(mfrow=c(1,2))\n",
    "\n",
    "p = function(data){\n",
    "  library(ggplot2)\n",
    "  ggplot() + \n",
    "    geom_bar(aes(x = data$label, y = data$count),\n",
    "             stat=\"identity\", fill = \"lightblue\")+ \n",
    "    labs(x=\"label\",y = \"count\")+ backgroup\n",
    "}\n",
    "par(mfrow=c(1,2))\n",
    "p1 <- p(labels[c(1:25,50),]) + ggtitle(\"Numbers of Nodes with Chromosome Labels \")\n",
    "p2 <- p(labels[26:49,]) + ggtitle(\"Numbers of Nodes with Chromosome Range Labels\")\n",
    "\n",
    "cowplot::plot_grid(p1, p2, labels = c(\"A\", \"B\"), ncol = 1)"
   ]
  },
  {
   "cell_type": "code",
   "execution_count": 8,
   "metadata": {},
   "outputs": [
    {
     "data": {
      "text/html": [
       "<table>\n",
       "<caption>A data.frame: 1 × 1</caption>\n",
       "<thead>\n",
       "\t<tr><th scope=col>ALLNODES</th></tr>\n",
       "\t<tr><th scope=col>&lt;int&gt;</th></tr>\n",
       "</thead>\n",
       "<tbody>\n",
       "\t<tr><td>1267023</td></tr>\n",
       "</tbody>\n",
       "</table>\n"
      ],
      "text/latex": [
       "A data.frame: 1 × 1\n",
       "\\begin{tabular}{r|l}\n",
       " ALLNODES\\\\\n",
       " <int>\\\\\n",
       "\\hline\n",
       "\t 1267023\\\\\n",
       "\\end{tabular}\n"
      ],
      "text/markdown": [
       "\n",
       "A data.frame: 1 × 1\n",
       "\n",
       "| ALLNODES &lt;int&gt; |\n",
       "|---|\n",
       "| 1267023 |\n",
       "\n"
      ],
      "text/plain": [
       "  ALLNODES\n",
       "1 1267023 "
      ]
     },
     "metadata": {},
     "output_type": "display_data"
    }
   ],
   "source": [
    "query = \"MATCH (n) return count(n) as ALLNODES\"\n",
    "cypher(graph, query)"
   ]
  },
  {
   "cell_type": "code",
   "execution_count": 9,
   "metadata": {},
   "outputs": [
    {
     "name": "stderr",
     "output_type": "stream",
     "text": [
      "Warning message in write.csv(labels, file = \"labels.csv\", sep = \",\", quote = F, :\n",
      "\"attempt to set 'col.names' ignored\"Warning message in write.csv(labels, file = \"labels.csv\", sep = \",\", quote = F, :\n",
      "\"attempt to set 'sep' ignored\""
     ]
    }
   ],
   "source": [
    "write.csv(labels, file = \"labels.csv\", sep=\",\",quote = F, col.names = TRUE, row.names = FALSE)"
   ]
  },
  {
   "cell_type": "markdown",
   "metadata": {},
   "source": [
    "To get `labels.csv` at [here](labels.csv)."
   ]
  },
  {
   "cell_type": "markdown",
   "metadata": {},
   "source": [
    "<h1 id='2'>2. Number of relationships of each type (bind, etc)<h1>"
   ]
  },
  {
   "cell_type": "markdown",
   "metadata": {},
   "source": [
    "To get numbers of relationships of each type."
   ]
  },
  {
   "cell_type": "code",
   "execution_count": 10,
   "metadata": {},
   "outputs": [],
   "source": [
    "query = \"MATCH ()-[r]->() RETURN type(r) as relationshipType, count(*) as count;\"\n",
    "\n",
    "relationshipType <- RNeo4j::cypher(graph,query)"
   ]
  },
  {
   "cell_type": "code",
   "execution_count": 11,
   "metadata": {},
   "outputs": [
    {
     "data": {
      "text/html": [
       "<table>\n",
       "<caption>A data.frame: 3 × 2</caption>\n",
       "<thead>\n",
       "\t<tr><th scope=col>relationshipType</th><th scope=col>count</th></tr>\n",
       "\t<tr><th scope=col>&lt;chr&gt;</th><th scope=col>&lt;int&gt;</th></tr>\n",
       "</thead>\n",
       "<tbody>\n",
       "\t<tr><td>Bind       </td><td>2372086</td></tr>\n",
       "\t<tr><td>Interaction</td><td>1781980</td></tr>\n",
       "\t<tr><td>Inclusion  </td><td>1322494</td></tr>\n",
       "</tbody>\n",
       "</table>\n"
      ],
      "text/latex": [
       "A data.frame: 3 × 2\n",
       "\\begin{tabular}{r|ll}\n",
       " relationshipType & count\\\\\n",
       " <chr> & <int>\\\\\n",
       "\\hline\n",
       "\t Bind        & 2372086\\\\\n",
       "\t Interaction & 1781980\\\\\n",
       "\t Inclusion   & 1322494\\\\\n",
       "\\end{tabular}\n"
      ],
      "text/markdown": [
       "\n",
       "A data.frame: 3 × 2\n",
       "\n",
       "| relationshipType &lt;chr&gt; | count &lt;int&gt; |\n",
       "|---|---|\n",
       "| Bind        | 2372086 |\n",
       "| Interaction | 1781980 |\n",
       "| Inclusion   | 1322494 |\n",
       "\n"
      ],
      "text/plain": [
       "  relationshipType count  \n",
       "1 Bind             2372086\n",
       "2 Interaction      1781980\n",
       "3 Inclusion        1322494"
      ]
     },
     "metadata": {},
     "output_type": "display_data"
    }
   ],
   "source": [
    "relationshipType"
   ]
  },
  {
   "cell_type": "markdown",
   "metadata": {},
   "source": [
    "To get numbers of relationships between two kinds of labels."
   ]
  },
  {
   "cell_type": "code",
   "execution_count": 12,
   "metadata": {},
   "outputs": [],
   "source": [
    "query <- \"MATCH (A)-[r]->(B) \n",
    "return labels(A) AS A, \n",
    "        type(r) AS relationshipType, \n",
    "        labels(B) AS B ,\n",
    "        count(r) AS count\"\n",
    "rel_details <- cypher(graph, query)"
   ]
  },
  {
   "cell_type": "code",
   "execution_count": 13,
   "metadata": {},
   "outputs": [
    {
     "data": {
      "text/html": [
       "<table>\n",
       "<caption>A data.frame: 6 × 4</caption>\n",
       "<thead>\n",
       "\t<tr><th scope=col>A</th><th scope=col>relationshipType</th><th scope=col>B</th><th scope=col>count</th></tr>\n",
       "\t<tr><th scope=col>&lt;chr&gt;</th><th scope=col>&lt;chr&gt;</th><th scope=col>&lt;chr&gt;</th><th scope=col>&lt;int&gt;</th></tr>\n",
       "</thead>\n",
       "<tbody>\n",
       "\t<tr><td>chr1</td><td>Inclusion</td><td>chr1_Range</td><td>134855</td></tr>\n",
       "\t<tr><td>chr2</td><td>Inclusion</td><td>chr2_Range</td><td>114769</td></tr>\n",
       "\t<tr><td>chr3</td><td>Inclusion</td><td>chr3_Range</td><td> 81332</td></tr>\n",
       "\t<tr><td>chr4</td><td>Inclusion</td><td>chr4_Range</td><td> 49491</td></tr>\n",
       "\t<tr><td>chr5</td><td>Inclusion</td><td>chr5_Range</td><td> 69435</td></tr>\n",
       "\t<tr><td>chr6</td><td>Inclusion</td><td>chr6_Range</td><td> 80840</td></tr>\n",
       "</tbody>\n",
       "</table>\n"
      ],
      "text/latex": [
       "A data.frame: 6 × 4\n",
       "\\begin{tabular}{r|llll}\n",
       " A & relationshipType & B & count\\\\\n",
       " <chr> & <chr> & <chr> & <int>\\\\\n",
       "\\hline\n",
       "\t chr1 & Inclusion & chr1\\_Range & 134855\\\\\n",
       "\t chr2 & Inclusion & chr2\\_Range & 114769\\\\\n",
       "\t chr3 & Inclusion & chr3\\_Range &  81332\\\\\n",
       "\t chr4 & Inclusion & chr4\\_Range &  49491\\\\\n",
       "\t chr5 & Inclusion & chr5\\_Range &  69435\\\\\n",
       "\t chr6 & Inclusion & chr6\\_Range &  80840\\\\\n",
       "\\end{tabular}\n"
      ],
      "text/markdown": [
       "\n",
       "A data.frame: 6 × 4\n",
       "\n",
       "| A &lt;chr&gt; | relationshipType &lt;chr&gt; | B &lt;chr&gt; | count &lt;int&gt; |\n",
       "|---|---|---|---|\n",
       "| chr1 | Inclusion | chr1_Range | 134855 |\n",
       "| chr2 | Inclusion | chr2_Range | 114769 |\n",
       "| chr3 | Inclusion | chr3_Range |  81332 |\n",
       "| chr4 | Inclusion | chr4_Range |  49491 |\n",
       "| chr5 | Inclusion | chr5_Range |  69435 |\n",
       "| chr6 | Inclusion | chr6_Range |  80840 |\n",
       "\n"
      ],
      "text/plain": [
       "  A    relationshipType B          count \n",
       "1 chr1 Inclusion        chr1_Range 134855\n",
       "2 chr2 Inclusion        chr2_Range 114769\n",
       "3 chr3 Inclusion        chr3_Range  81332\n",
       "4 chr4 Inclusion        chr4_Range  49491\n",
       "5 chr5 Inclusion        chr5_Range  69435\n",
       "6 chr6 Inclusion        chr6_Range  80840"
      ]
     },
     "metadata": {},
     "output_type": "display_data"
    }
   ],
   "source": [
    "head(rel_details)"
   ]
  },
  {
   "cell_type": "markdown",
   "metadata": {},
   "source": [
    "To see Bind relatioships"
   ]
  },
  {
   "cell_type": "code",
   "execution_count": 14,
   "metadata": {},
   "outputs": [],
   "source": [
    "#-------TF Bind chromosome---------------\n",
    "library(ggplot2)\n",
    "chr_level = c(paste0(\"chr\",1:22),\"chrX\", \"chrY\")\n",
    "BindRel <- rel_details[which(rel_details$relationshipType == \"Bind\"), ] \n",
    "BindRel_TF <- BindRel[which(BindRel$A == \"TF\"),]\n",
    "BindRel_TF$B <- factor(BindRel_TF$B, levels = chr_level)"
   ]
  },
  {
   "cell_type": "code",
   "execution_count": 15,
   "metadata": {},
   "outputs": [],
   "source": [
    "p3 <- ggplot() + \n",
    "      geom_bar(aes(x = BindRel_TF$B, y = BindRel_TF$count),\n",
    "               stat=\"identity\", fill = \"lightblue\")+ \n",
    "      labs(x=\"label\",y = \"count\")+\n",
    "      ggtitle(\"TF Bind Chromosome\") + backgroup"
   ]
  },
  {
   "cell_type": "code",
   "execution_count": 16,
   "metadata": {},
   "outputs": [],
   "source": [
    "#-------LncRNA Bind chromosome---------------\n",
    "BindRel_LncRNA <- BindRel[which(BindRel$A == \"LncRNA\"),]\n",
    "BindRel_LncRNA$B <- factor(BindRel_LncRNA$B, levels = chr_level)\n",
    "\n",
    "p4 <- ggplot() + \n",
    "      geom_bar(aes(x = BindRel_LncRNA$B, y = BindRel_LncRNA$count),\n",
    "               stat=\"identity\", fill = \"lightblue\")+ \n",
    "      labs(x=\"label\",y = \"count\")+\n",
    "      ggtitle(\"LncRNA Bind Chromosome\") + backgroup\n"
   ]
  },
  {
   "cell_type": "code",
   "execution_count": 17,
   "metadata": {},
   "outputs": [
    {
     "data": {
      "image/png": "[encoded data removed]",
      "text/plain": [
       "plot without title"
      ]
     },
     "metadata": {},
     "output_type": "display_data"
    }
   ],
   "source": [
    "#-------grouping plots-------------\n",
    "par(mfrow=c(1,2))\n",
    "cowplot::plot_grid(p3, p4, ncol = 1)"
   ]
  },
  {
   "cell_type": "markdown",
   "metadata": {},
   "source": [
    "To see the Inclusion relationships"
   ]
  },
  {
   "cell_type": "code",
   "execution_count": 18,
   "metadata": {},
   "outputs": [
    {
     "name": "stderr",
     "output_type": "stream",
     "text": [
      "Your code contains a unicode char which cannot be displayed in your\n",
      "current locale and R will silently convert it to an escaped form when the\n",
      "R kernel executes this code. This can lead to subtle errors if you use\n",
      "such chars to do comparisons. For more information, please see\n",
      "https://github.com/IRkernel/repr/wiki/Problems-with-unicode-on-windows"
     ]
    },
    {
     "data": {
      "image/png": "[encoded data removed]",
      "text/plain": [
       "plot without title"
      ]
     },
     "metadata": {},
     "output_type": "display_data"
    }
   ],
   "source": [
    "#--------chr inclusion chr_Range----------------------------\n",
    "InclusionRel <- rel_details[rel_details$relationshipType ==\"Inclusion\",]\n",
    "\n",
    "InclusionRel$rel <- apply(InclusionRel[1:3], 1， FUN = function(X){ y = paste0(X[1],\"-\",X[2],\"->\",X[3]) })\n",
    "chrRange_level <- c(paste0(\"chr\",1:22,\"-Inclusion->chr\",1:22,\"_Range\"),\n",
    "                    \"chrX-Inclusion->chrX_Range\",\n",
    "                    \"chrY-Inclusion->chrY_Range\")\n",
    "InclusionRel$rel <- factor(InclusionRel$rel, levels = chrRange_level)\n",
    "\n",
    "ggplot() + \n",
    "  geom_bar(aes(x = InclusionRel$rel, y = InclusionRel$count),\n",
    "           stat=\"identity\", fill = \"lightblue\")+ \n",
    "  labs(x=\"Relationship\",y = \"count\")+\n",
    "  ggtitle(\"Chromosome Inclusion Chromosome Range\") + backgroup +  #设置背景为白色\n",
    "  coord_flip()+ #将条形图坐标轴转换过来变成横向条形图\n",
    "geom_text(aes(x = InclusionRel$rel, y = InclusionRel$count, label=InclusionRel$count), size = 2.5,hjust=-0.5 )\n"
   ]
  },
  {
   "cell_type": "markdown",
   "metadata": {},
   "source": [
    "To see the Interaction relationships"
   ]
  },
  {
   "cell_type": "markdown",
   "metadata": {},
   "source": [
    "I don't how to create a picture for the Interaction relationships, so I show you its data."
   ]
  },
  {
   "cell_type": "code",
   "execution_count": 19,
   "metadata": {},
   "outputs": [
    {
     "data": {
      "text/html": [
       "<table>\n",
       "<caption>A data.frame: 227 × 4</caption>\n",
       "<thead>\n",
       "\t<tr><th></th><th scope=col>A</th><th scope=col>relationshipType</th><th scope=col>B</th><th scope=col>count</th></tr>\n",
       "\t<tr><th></th><th scope=col>&lt;chr&gt;</th><th scope=col>&lt;chr&gt;</th><th scope=col>&lt;chr&gt;</th><th scope=col>&lt;int&gt;</th></tr>\n",
       "</thead>\n",
       "<tbody>\n",
       "\t<tr><th scope=row>49</th><td>TF        </td><td>Interaction</td><td>TF         </td><td>  2488</td></tr>\n",
       "\t<tr><th scope=row>50</th><td>chr1_Range</td><td>Interaction</td><td>chr1_Range </td><td>166397</td></tr>\n",
       "\t<tr><th scope=row>51</th><td>chr1_Range</td><td>Interaction</td><td>chr2_Range </td><td>    12</td></tr>\n",
       "\t<tr><th scope=row>52</th><td>chr1_Range</td><td>Interaction</td><td>chr9_Range </td><td>     3</td></tr>\n",
       "\t<tr><th scope=row>53</th><td>chr1_Range</td><td>Interaction</td><td>chr5_Range </td><td>    14</td></tr>\n",
       "\t<tr><th scope=row>54</th><td>chr1_Range</td><td>Interaction</td><td>chr4_Range </td><td>     6</td></tr>\n",
       "\t<tr><th scope=row>55</th><td>chr1_Range</td><td>Interaction</td><td>chr3_Range </td><td>    12</td></tr>\n",
       "\t<tr><th scope=row>56</th><td>chr1_Range</td><td>Interaction</td><td>chr17_Range</td><td>    12</td></tr>\n",
       "\t<tr><th scope=row>57</th><td>chr1_Range</td><td>Interaction</td><td>chr7_Range </td><td>     8</td></tr>\n",
       "\t<tr><th scope=row>58</th><td>chr1_Range</td><td>Interaction</td><td>chr15_Range</td><td>     6</td></tr>\n",
       "\t<tr><th scope=row>59</th><td>chr1_Range</td><td>Interaction</td><td>chr16_Range</td><td>     3</td></tr>\n",
       "\t<tr><th scope=row>60</th><td>chr1_Range</td><td>Interaction</td><td>chr10_Range</td><td>     5</td></tr>\n",
       "\t<tr><th scope=row>61</th><td>chr1_Range</td><td>Interaction</td><td>chr13_Range</td><td>     2</td></tr>\n",
       "\t<tr><th scope=row>62</th><td>chr1_Range</td><td>Interaction</td><td>chr8_Range </td><td>    11</td></tr>\n",
       "\t<tr><th scope=row>63</th><td>chr1_Range</td><td>Interaction</td><td>chr12_Range</td><td>     9</td></tr>\n",
       "\t<tr><th scope=row>64</th><td>chr1_Range</td><td>Interaction</td><td>chr11_Range</td><td>     2</td></tr>\n",
       "\t<tr><th scope=row>65</th><td>chr1_Range</td><td>Interaction</td><td>chr14_Range</td><td>     3</td></tr>\n",
       "\t<tr><th scope=row>66</th><td>chr1_Range</td><td>Interaction</td><td>chr6_Range </td><td>     4</td></tr>\n",
       "\t<tr><th scope=row>67</th><td>chr1_Range</td><td>Interaction</td><td>chr19_Range</td><td>     2</td></tr>\n",
       "\t<tr><th scope=row>68</th><td>chr1_Range</td><td>Interaction</td><td>chr20_Range</td><td>    11</td></tr>\n",
       "\t<tr><th scope=row>69</th><td>chr1_Range</td><td>Interaction</td><td>chrX_Range </td><td>     4</td></tr>\n",
       "\t<tr><th scope=row>70</th><td>chr1_Range</td><td>Interaction</td><td>chr21_Range</td><td>     1</td></tr>\n",
       "\t<tr><th scope=row>71</th><td>chr2_Range</td><td>Interaction</td><td>chr2_Range </td><td>136934</td></tr>\n",
       "\t<tr><th scope=row>72</th><td>chr2_Range</td><td>Interaction</td><td>chr21_Range</td><td>     4</td></tr>\n",
       "\t<tr><th scope=row>73</th><td>chr2_Range</td><td>Interaction</td><td>chr11_Range</td><td>     1</td></tr>\n",
       "\t<tr><th scope=row>74</th><td>chr2_Range</td><td>Interaction</td><td>chr8_Range </td><td>    13</td></tr>\n",
       "\t<tr><th scope=row>75</th><td>chr2_Range</td><td>Interaction</td><td>chr6_Range </td><td>     5</td></tr>\n",
       "\t<tr><th scope=row>76</th><td>chr2_Range</td><td>Interaction</td><td>chr20_Range</td><td>    10</td></tr>\n",
       "\t<tr><th scope=row>77</th><td>chr2_Range</td><td>Interaction</td><td>chr7_Range </td><td>    11</td></tr>\n",
       "\t<tr><th scope=row>78</th><td>chr2_Range</td><td>Interaction</td><td>chr9_Range </td><td>     5</td></tr>\n",
       "\t<tr><th scope=row>...</th><td>...</td><td>...</td><td>...</td><td>...</td></tr>\n",
       "\t<tr><th scope=row>246</th><td>chr18_Range</td><td>Interaction</td><td>chr8_Range </td><td>    1</td></tr>\n",
       "\t<tr><th scope=row>247</th><td>chr18_Range</td><td>Interaction</td><td>chr6_Range </td><td>    1</td></tr>\n",
       "\t<tr><th scope=row>248</th><td>chr19_Range</td><td>Interaction</td><td>chr19_Range</td><td>69619</td></tr>\n",
       "\t<tr><th scope=row>249</th><td>chr19_Range</td><td>Interaction</td><td>chr3_Range </td><td>    1</td></tr>\n",
       "\t<tr><th scope=row>250</th><td>chr19_Range</td><td>Interaction</td><td>chr20_Range</td><td>    2</td></tr>\n",
       "\t<tr><th scope=row>251</th><td>chr19_Range</td><td>Interaction</td><td>chr2_Range </td><td>    3</td></tr>\n",
       "\t<tr><th scope=row>252</th><td>chr19_Range</td><td>Interaction</td><td>chr6_Range </td><td>    1</td></tr>\n",
       "\t<tr><th scope=row>253</th><td>chr19_Range</td><td>Interaction</td><td>chr7_Range </td><td>    1</td></tr>\n",
       "\t<tr><th scope=row>254</th><td>chr19_Range</td><td>Interaction</td><td>chr8_Range </td><td>    1</td></tr>\n",
       "\t<tr><th scope=row>255</th><td>chr20_Range</td><td>Interaction</td><td>chr3_Range </td><td>   26</td></tr>\n",
       "\t<tr><th scope=row>256</th><td>chr20_Range</td><td>Interaction</td><td>chr9_Range </td><td>   10</td></tr>\n",
       "\t<tr><th scope=row>257</th><td>chr20_Range</td><td>Interaction</td><td>chr8_Range </td><td>    6</td></tr>\n",
       "\t<tr><th scope=row>258</th><td>chr20_Range</td><td>Interaction</td><td>chr7_Range </td><td>    8</td></tr>\n",
       "\t<tr><th scope=row>259</th><td>chr20_Range</td><td>Interaction</td><td>chr6_Range </td><td>    7</td></tr>\n",
       "\t<tr><th scope=row>260</th><td>chr20_Range</td><td>Interaction</td><td>chr5_Range </td><td>   11</td></tr>\n",
       "\t<tr><th scope=row>261</th><td>chr20_Range</td><td>Interaction</td><td>chr22_Range</td><td>    2</td></tr>\n",
       "\t<tr><th scope=row>262</th><td>chr20_Range</td><td>Interaction</td><td>chr4_Range </td><td>    5</td></tr>\n",
       "\t<tr><th scope=row>263</th><td>chr20_Range</td><td>Interaction</td><td>chr21_Range</td><td>    4</td></tr>\n",
       "\t<tr><th scope=row>264</th><td>chr20_Range</td><td>Interaction</td><td>chrX_Range </td><td>    6</td></tr>\n",
       "\t<tr><th scope=row>265</th><td>chr20_Range</td><td>Interaction</td><td>chr20_Range</td><td>65699</td></tr>\n",
       "\t<tr><th scope=row>266</th><td>chr21_Range</td><td>Interaction</td><td>chr8_Range </td><td>    4</td></tr>\n",
       "\t<tr><th scope=row>267</th><td>chr21_Range</td><td>Interaction</td><td>chr5_Range </td><td>    2</td></tr>\n",
       "\t<tr><th scope=row>268</th><td>chr21_Range</td><td>Interaction</td><td>chr21_Range</td><td>33968</td></tr>\n",
       "\t<tr><th scope=row>269</th><td>chr21_Range</td><td>Interaction</td><td>chr4_Range </td><td>    1</td></tr>\n",
       "\t<tr><th scope=row>270</th><td>chr21_Range</td><td>Interaction</td><td>chr3_Range </td><td>    3</td></tr>\n",
       "\t<tr><th scope=row>271</th><td>chr22_Range</td><td>Interaction</td><td>chr22_Range</td><td>55182</td></tr>\n",
       "\t<tr><th scope=row>272</th><td>chr22_Range</td><td>Interaction</td><td>chr7_Range </td><td>    1</td></tr>\n",
       "\t<tr><th scope=row>273</th><td>chr22_Range</td><td>Interaction</td><td>chr4_Range </td><td>    1</td></tr>\n",
       "\t<tr><th scope=row>274</th><td>chrX_Range </td><td>Interaction</td><td>chrX_Range </td><td>20308</td></tr>\n",
       "\t<tr><th scope=row>275</th><td>chrY_Range </td><td>Interaction</td><td>chrY_Range </td><td>  321</td></tr>\n",
       "</tbody>\n",
       "</table>\n"
      ],
      "text/latex": [
       "A data.frame: 227 × 4\n",
       "\\begin{tabular}{r|llll}\n",
       "  & A & relationshipType & B & count\\\\\n",
       "  & <chr> & <chr> & <chr> & <int>\\\\\n",
       "\\hline\n",
       "\t49 & TF         & Interaction & TF          &   2488\\\\\n",
       "\t50 & chr1\\_Range & Interaction & chr1\\_Range  & 166397\\\\\n",
       "\t51 & chr1\\_Range & Interaction & chr2\\_Range  &     12\\\\\n",
       "\t52 & chr1\\_Range & Interaction & chr9\\_Range  &      3\\\\\n",
       "\t53 & chr1\\_Range & Interaction & chr5\\_Range  &     14\\\\\n",
       "\t54 & chr1\\_Range & Interaction & chr4\\_Range  &      6\\\\\n",
       "\t55 & chr1\\_Range & Interaction & chr3\\_Range  &     12\\\\\n",
       "\t56 & chr1\\_Range & Interaction & chr17\\_Range &     12\\\\\n",
       "\t57 & chr1\\_Range & Interaction & chr7\\_Range  &      8\\\\\n",
       "\t58 & chr1\\_Range & Interaction & chr15\\_Range &      6\\\\\n",
       "\t59 & chr1\\_Range & Interaction & chr16\\_Range &      3\\\\\n",
       "\t60 & chr1\\_Range & Interaction & chr10\\_Range &      5\\\\\n",
       "\t61 & chr1\\_Range & Interaction & chr13\\_Range &      2\\\\\n",
       "\t62 & chr1\\_Range & Interaction & chr8\\_Range  &     11\\\\\n",
       "\t63 & chr1\\_Range & Interaction & chr12\\_Range &      9\\\\\n",
       "\t64 & chr1\\_Range & Interaction & chr11\\_Range &      2\\\\\n",
       "\t65 & chr1\\_Range & Interaction & chr14\\_Range &      3\\\\\n",
       "\t66 & chr1\\_Range & Interaction & chr6\\_Range  &      4\\\\\n",
       "\t67 & chr1\\_Range & Interaction & chr19\\_Range &      2\\\\\n",
       "\t68 & chr1\\_Range & Interaction & chr20\\_Range &     11\\\\\n",
       "\t69 & chr1\\_Range & Interaction & chrX\\_Range  &      4\\\\\n",
       "\t70 & chr1\\_Range & Interaction & chr21\\_Range &      1\\\\\n",
       "\t71 & chr2\\_Range & Interaction & chr2\\_Range  & 136934\\\\\n",
       "\t72 & chr2\\_Range & Interaction & chr21\\_Range &      4\\\\\n",
       "\t73 & chr2\\_Range & Interaction & chr11\\_Range &      1\\\\\n",
       "\t74 & chr2\\_Range & Interaction & chr8\\_Range  &     13\\\\\n",
       "\t75 & chr2\\_Range & Interaction & chr6\\_Range  &      5\\\\\n",
       "\t76 & chr2\\_Range & Interaction & chr20\\_Range &     10\\\\\n",
       "\t77 & chr2\\_Range & Interaction & chr7\\_Range  &     11\\\\\n",
       "\t78 & chr2\\_Range & Interaction & chr9\\_Range  &      5\\\\\n",
       "\t... & ... & ... & ... & ...\\\\\n",
       "\t246 & chr18\\_Range & Interaction & chr8\\_Range  &     1\\\\\n",
       "\t247 & chr18\\_Range & Interaction & chr6\\_Range  &     1\\\\\n",
       "\t248 & chr19\\_Range & Interaction & chr19\\_Range & 69619\\\\\n",
       "\t249 & chr19\\_Range & Interaction & chr3\\_Range  &     1\\\\\n",
       "\t250 & chr19\\_Range & Interaction & chr20\\_Range &     2\\\\\n",
       "\t251 & chr19\\_Range & Interaction & chr2\\_Range  &     3\\\\\n",
       "\t252 & chr19\\_Range & Interaction & chr6\\_Range  &     1\\\\\n",
       "\t253 & chr19\\_Range & Interaction & chr7\\_Range  &     1\\\\\n",
       "\t254 & chr19\\_Range & Interaction & chr8\\_Range  &     1\\\\\n",
       "\t255 & chr20\\_Range & Interaction & chr3\\_Range  &    26\\\\\n",
       "\t256 & chr20\\_Range & Interaction & chr9\\_Range  &    10\\\\\n",
       "\t257 & chr20\\_Range & Interaction & chr8\\_Range  &     6\\\\\n",
       "\t258 & chr20\\_Range & Interaction & chr7\\_Range  &     8\\\\\n",
       "\t259 & chr20\\_Range & Interaction & chr6\\_Range  &     7\\\\\n",
       "\t260 & chr20\\_Range & Interaction & chr5\\_Range  &    11\\\\\n",
       "\t261 & chr20\\_Range & Interaction & chr22\\_Range &     2\\\\\n",
       "\t262 & chr20\\_Range & Interaction & chr4\\_Range  &     5\\\\\n",
       "\t263 & chr20\\_Range & Interaction & chr21\\_Range &     4\\\\\n",
       "\t264 & chr20\\_Range & Interaction & chrX\\_Range  &     6\\\\\n",
       "\t265 & chr20\\_Range & Interaction & chr20\\_Range & 65699\\\\\n",
       "\t266 & chr21\\_Range & Interaction & chr8\\_Range  &     4\\\\\n",
       "\t267 & chr21\\_Range & Interaction & chr5\\_Range  &     2\\\\\n",
       "\t268 & chr21\\_Range & Interaction & chr21\\_Range & 33968\\\\\n",
       "\t269 & chr21\\_Range & Interaction & chr4\\_Range  &     1\\\\\n",
       "\t270 & chr21\\_Range & Interaction & chr3\\_Range  &     3\\\\\n",
       "\t271 & chr22\\_Range & Interaction & chr22\\_Range & 55182\\\\\n",
       "\t272 & chr22\\_Range & Interaction & chr7\\_Range  &     1\\\\\n",
       "\t273 & chr22\\_Range & Interaction & chr4\\_Range  &     1\\\\\n",
       "\t274 & chrX\\_Range  & Interaction & chrX\\_Range  & 20308\\\\\n",
       "\t275 & chrY\\_Range  & Interaction & chrY\\_Range  &   321\\\\\n",
       "\\end{tabular}\n"
      ],
      "text/markdown": [
       "\n",
       "A data.frame: 227 × 4\n",
       "\n",
       "| <!--/--> | A &lt;chr&gt; | relationshipType &lt;chr&gt; | B &lt;chr&gt; | count &lt;int&gt; |\n",
       "|---|---|---|---|---|\n",
       "| 49 | TF         | Interaction | TF          |   2488 |\n",
       "| 50 | chr1_Range | Interaction | chr1_Range  | 166397 |\n",
       "| 51 | chr1_Range | Interaction | chr2_Range  |     12 |\n",
       "| 52 | chr1_Range | Interaction | chr9_Range  |      3 |\n",
       "| 53 | chr1_Range | Interaction | chr5_Range  |     14 |\n",
       "| 54 | chr1_Range | Interaction | chr4_Range  |      6 |\n",
       "| 55 | chr1_Range | Interaction | chr3_Range  |     12 |\n",
       "| 56 | chr1_Range | Interaction | chr17_Range |     12 |\n",
       "| 57 | chr1_Range | Interaction | chr7_Range  |      8 |\n",
       "| 58 | chr1_Range | Interaction | chr15_Range |      6 |\n",
       "| 59 | chr1_Range | Interaction | chr16_Range |      3 |\n",
       "| 60 | chr1_Range | Interaction | chr10_Range |      5 |\n",
       "| 61 | chr1_Range | Interaction | chr13_Range |      2 |\n",
       "| 62 | chr1_Range | Interaction | chr8_Range  |     11 |\n",
       "| 63 | chr1_Range | Interaction | chr12_Range |      9 |\n",
       "| 64 | chr1_Range | Interaction | chr11_Range |      2 |\n",
       "| 65 | chr1_Range | Interaction | chr14_Range |      3 |\n",
       "| 66 | chr1_Range | Interaction | chr6_Range  |      4 |\n",
       "| 67 | chr1_Range | Interaction | chr19_Range |      2 |\n",
       "| 68 | chr1_Range | Interaction | chr20_Range |     11 |\n",
       "| 69 | chr1_Range | Interaction | chrX_Range  |      4 |\n",
       "| 70 | chr1_Range | Interaction | chr21_Range |      1 |\n",
       "| 71 | chr2_Range | Interaction | chr2_Range  | 136934 |\n",
       "| 72 | chr2_Range | Interaction | chr21_Range |      4 |\n",
       "| 73 | chr2_Range | Interaction | chr11_Range |      1 |\n",
       "| 74 | chr2_Range | Interaction | chr8_Range  |     13 |\n",
       "| 75 | chr2_Range | Interaction | chr6_Range  |      5 |\n",
       "| 76 | chr2_Range | Interaction | chr20_Range |     10 |\n",
       "| 77 | chr2_Range | Interaction | chr7_Range  |     11 |\n",
       "| 78 | chr2_Range | Interaction | chr9_Range  |      5 |\n",
       "| ... | ... | ... | ... | ... |\n",
       "| 246 | chr18_Range | Interaction | chr8_Range  |     1 |\n",
       "| 247 | chr18_Range | Interaction | chr6_Range  |     1 |\n",
       "| 248 | chr19_Range | Interaction | chr19_Range | 69619 |\n",
       "| 249 | chr19_Range | Interaction | chr3_Range  |     1 |\n",
       "| 250 | chr19_Range | Interaction | chr20_Range |     2 |\n",
       "| 251 | chr19_Range | Interaction | chr2_Range  |     3 |\n",
       "| 252 | chr19_Range | Interaction | chr6_Range  |     1 |\n",
       "| 253 | chr19_Range | Interaction | chr7_Range  |     1 |\n",
       "| 254 | chr19_Range | Interaction | chr8_Range  |     1 |\n",
       "| 255 | chr20_Range | Interaction | chr3_Range  |    26 |\n",
       "| 256 | chr20_Range | Interaction | chr9_Range  |    10 |\n",
       "| 257 | chr20_Range | Interaction | chr8_Range  |     6 |\n",
       "| 258 | chr20_Range | Interaction | chr7_Range  |     8 |\n",
       "| 259 | chr20_Range | Interaction | chr6_Range  |     7 |\n",
       "| 260 | chr20_Range | Interaction | chr5_Range  |    11 |\n",
       "| 261 | chr20_Range | Interaction | chr22_Range |     2 |\n",
       "| 262 | chr20_Range | Interaction | chr4_Range  |     5 |\n",
       "| 263 | chr20_Range | Interaction | chr21_Range |     4 |\n",
       "| 264 | chr20_Range | Interaction | chrX_Range  |     6 |\n",
       "| 265 | chr20_Range | Interaction | chr20_Range | 65699 |\n",
       "| 266 | chr21_Range | Interaction | chr8_Range  |     4 |\n",
       "| 267 | chr21_Range | Interaction | chr5_Range  |     2 |\n",
       "| 268 | chr21_Range | Interaction | chr21_Range | 33968 |\n",
       "| 269 | chr21_Range | Interaction | chr4_Range  |     1 |\n",
       "| 270 | chr21_Range | Interaction | chr3_Range  |     3 |\n",
       "| 271 | chr22_Range | Interaction | chr22_Range | 55182 |\n",
       "| 272 | chr22_Range | Interaction | chr7_Range  |     1 |\n",
       "| 273 | chr22_Range | Interaction | chr4_Range  |     1 |\n",
       "| 274 | chrX_Range  | Interaction | chrX_Range  | 20308 |\n",
       "| 275 | chrY_Range  | Interaction | chrY_Range  |   321 |\n",
       "\n"
      ],
      "text/plain": [
       "    A           relationshipType B           count \n",
       "49  TF          Interaction      TF            2488\n",
       "50  chr1_Range  Interaction      chr1_Range  166397\n",
       "51  chr1_Range  Interaction      chr2_Range      12\n",
       "52  chr1_Range  Interaction      chr9_Range       3\n",
       "53  chr1_Range  Interaction      chr5_Range      14\n",
       "54  chr1_Range  Interaction      chr4_Range       6\n",
       "55  chr1_Range  Interaction      chr3_Range      12\n",
       "56  chr1_Range  Interaction      chr17_Range     12\n",
       "57  chr1_Range  Interaction      chr7_Range       8\n",
       "58  chr1_Range  Interaction      chr15_Range      6\n",
       "59  chr1_Range  Interaction      chr16_Range      3\n",
       "60  chr1_Range  Interaction      chr10_Range      5\n",
       "61  chr1_Range  Interaction      chr13_Range      2\n",
       "62  chr1_Range  Interaction      chr8_Range      11\n",
       "63  chr1_Range  Interaction      chr12_Range      9\n",
       "64  chr1_Range  Interaction      chr11_Range      2\n",
       "65  chr1_Range  Interaction      chr14_Range      3\n",
       "66  chr1_Range  Interaction      chr6_Range       4\n",
       "67  chr1_Range  Interaction      chr19_Range      2\n",
       "68  chr1_Range  Interaction      chr20_Range     11\n",
       "69  chr1_Range  Interaction      chrX_Range       4\n",
       "70  chr1_Range  Interaction      chr21_Range      1\n",
       "71  chr2_Range  Interaction      chr2_Range  136934\n",
       "72  chr2_Range  Interaction      chr21_Range      4\n",
       "73  chr2_Range  Interaction      chr11_Range      1\n",
       "74  chr2_Range  Interaction      chr8_Range      13\n",
       "75  chr2_Range  Interaction      chr6_Range       5\n",
       "76  chr2_Range  Interaction      chr20_Range     10\n",
       "77  chr2_Range  Interaction      chr7_Range      11\n",
       "78  chr2_Range  Interaction      chr9_Range       5\n",
       "... ...         ...              ...         ...   \n",
       "246 chr18_Range Interaction      chr8_Range      1 \n",
       "247 chr18_Range Interaction      chr6_Range      1 \n",
       "248 chr19_Range Interaction      chr19_Range 69619 \n",
       "249 chr19_Range Interaction      chr3_Range      1 \n",
       "250 chr19_Range Interaction      chr20_Range     2 \n",
       "251 chr19_Range Interaction      chr2_Range      3 \n",
       "252 chr19_Range Interaction      chr6_Range      1 \n",
       "253 chr19_Range Interaction      chr7_Range      1 \n",
       "254 chr19_Range Interaction      chr8_Range      1 \n",
       "255 chr20_Range Interaction      chr3_Range     26 \n",
       "256 chr20_Range Interaction      chr9_Range     10 \n",
       "257 chr20_Range Interaction      chr8_Range      6 \n",
       "258 chr20_Range Interaction      chr7_Range      8 \n",
       "259 chr20_Range Interaction      chr6_Range      7 \n",
       "260 chr20_Range Interaction      chr5_Range     11 \n",
       "261 chr20_Range Interaction      chr22_Range     2 \n",
       "262 chr20_Range Interaction      chr4_Range      5 \n",
       "263 chr20_Range Interaction      chr21_Range     4 \n",
       "264 chr20_Range Interaction      chrX_Range      6 \n",
       "265 chr20_Range Interaction      chr20_Range 65699 \n",
       "266 chr21_Range Interaction      chr8_Range      4 \n",
       "267 chr21_Range Interaction      chr5_Range      2 \n",
       "268 chr21_Range Interaction      chr21_Range 33968 \n",
       "269 chr21_Range Interaction      chr4_Range      1 \n",
       "270 chr21_Range Interaction      chr3_Range      3 \n",
       "271 chr22_Range Interaction      chr22_Range 55182 \n",
       "272 chr22_Range Interaction      chr7_Range      1 \n",
       "273 chr22_Range Interaction      chr4_Range      1 \n",
       "274 chrX_Range  Interaction      chrX_Range  20308 \n",
       "275 chrY_Range  Interaction      chrY_Range    321 "
      ]
     },
     "metadata": {},
     "output_type": "display_data"
    }
   ],
   "source": [
    "InteractionRel <- rel_details[rel_details$relationshipType ==\"Interaction\",]\n",
    "InteractionRel"
   ]
  },
  {
   "cell_type": "markdown",
   "metadata": {},
   "source": [
    "<h1 id='3'>3. List of hubs for chr12 (a hub is a node with a high degree)<h1>"
   ]
  },
  {
   "cell_type": "markdown",
   "metadata": {},
   "source": [
    "chr12 nodes have Bind and Interaction relationships. \n",
    "\n",
    "At the first, we use cypher command `'MATCH (n:chr12)--(m) with id(n) as chr12,id(m) AS m   MATCH (al) where id(al) = m or  id(al) = chr12 return id(al) as id'` for the first argument of `algo.degree.stream`; then we will difine a subgraph with all relationships during all nodes including chr12 and nodes directerly related to chr12.\n",
    "\n",
    "After using degree algorithm, we need to filter all chr12 nodes by `'MATCH (n:chr12)-[r]-(m) RETURN id(n) AS source, id(m) AS target'` and to remove those 0 degree score of chr12. \n",
    "\n",
    "At the end, we return back chr12 nodes names and its degree score. "
   ]
  },
  {
   "cell_type": "code",
   "execution_count": 20,
   "metadata": {},
   "outputs": [],
   "source": [
    "query = \"\n",
    "CALL algo.degree.stream(\n",
    "                        'MATCH (n:chr12)--(m) with id(n) as chr12,id(m) AS m   MATCH (al) where id(al) = m or  id(al) = chr12 return id(al) as id',\n",
    "                        'MATCH (n:chr12)-[r]-(m) RETURN id(n) AS source, id(m) AS target',\n",
    "                        {graph:'cypher',direction: 'both'})\n",
    "YIELD nodeId, score\n",
    "with nodeId, score\n",
    "MATCH (chr12:chr12)\n",
    "where id(chr12) = nodeId and score > 0\n",
    "RETURN chr12.Name AS Name, score as degree\n",
    "ORDER By score DESC\n",
    "\"\n",
    "chr12_hubs <- cypher(graph, query)"
   ]
  },
  {
   "cell_type": "code",
   "execution_count": 21,
   "metadata": {
    "scrolled": true
   },
   "outputs": [
    {
     "data": {
      "text/html": [
       "<table>\n",
       "<caption>A data.frame: 6 × 2</caption>\n",
       "<thead>\n",
       "\t<tr><th scope=col>Name</th><th scope=col>degree</th></tr>\n",
       "\t<tr><th scope=col>&lt;chr&gt;</th><th scope=col>&lt;dbl&gt;</th></tr>\n",
       "</thead>\n",
       "<tbody>\n",
       "\t<tr><td>Bin281</td><td>775</td></tr>\n",
       "\t<tr><td>Bin247</td><td>774</td></tr>\n",
       "\t<tr><td>Bin272</td><td>729</td></tr>\n",
       "\t<tr><td>Bin267</td><td>717</td></tr>\n",
       "\t<tr><td>Bin607</td><td>717</td></tr>\n",
       "\t<tr><td>Bin35 </td><td>695</td></tr>\n",
       "</tbody>\n",
       "</table>\n"
      ],
      "text/latex": [
       "A data.frame: 6 × 2\n",
       "\\begin{tabular}{r|ll}\n",
       " Name & degree\\\\\n",
       " <chr> & <dbl>\\\\\n",
       "\\hline\n",
       "\t Bin281 & 775\\\\\n",
       "\t Bin247 & 774\\\\\n",
       "\t Bin272 & 729\\\\\n",
       "\t Bin267 & 717\\\\\n",
       "\t Bin607 & 717\\\\\n",
       "\t Bin35  & 695\\\\\n",
       "\\end{tabular}\n"
      ],
      "text/markdown": [
       "\n",
       "A data.frame: 6 × 2\n",
       "\n",
       "| Name &lt;chr&gt; | degree &lt;dbl&gt; |\n",
       "|---|---|\n",
       "| Bin281 | 775 |\n",
       "| Bin247 | 774 |\n",
       "| Bin272 | 729 |\n",
       "| Bin267 | 717 |\n",
       "| Bin607 | 717 |\n",
       "| Bin35  | 695 |\n",
       "\n"
      ],
      "text/plain": [
       "  Name   degree\n",
       "1 Bin281 775   \n",
       "2 Bin247 774   \n",
       "3 Bin272 729   \n",
       "4 Bin267 717   \n",
       "5 Bin607 717   \n",
       "6 Bin35  695   "
      ]
     },
     "metadata": {},
     "output_type": "display_data"
    }
   ],
   "source": [
    "head(chr12_hubs)"
   ]
  },
  {
   "cell_type": "code",
   "execution_count": 22,
   "metadata": {},
   "outputs": [
    {
     "data": {
      "text/html": [
       "<ol class=list-inline>\n",
       "\t<li>667</li>\n",
       "\t<li>2</li>\n",
       "</ol>\n"
      ],
      "text/latex": [
       "\\begin{enumerate*}\n",
       "\\item 667\n",
       "\\item 2\n",
       "\\end{enumerate*}\n"
      ],
      "text/markdown": [
       "1. 667\n",
       "2. 2\n",
       "\n",
       "\n"
      ],
      "text/plain": [
       "[1] 667   2"
      ]
     },
     "metadata": {},
     "output_type": "display_data"
    }
   ],
   "source": [
    "dim(chr12_hubs)"
   ]
  },
  {
   "cell_type": "code",
   "execution_count": 23,
   "metadata": {},
   "outputs": [],
   "source": [
    "write.table(chr12_hubs, file = \"chr12_hubs.csv\",sep=\",\",quote = F, col.names = TRUE, row.names = FALSE)"
   ]
  },
  {
   "cell_type": "markdown",
   "metadata": {},
   "source": [
    "To get chr12_hubs.csv at [here](chr12_hubs.csv)"
   ]
  },
  {
   "cell_type": "code",
   "execution_count": 24,
   "metadata": {},
   "outputs": [
    {
     "name": "stderr",
     "output_type": "stream",
     "text": [
      "Your code contains a unicode char which cannot be displayed in your\n",
      "current locale and R will silently convert it to an escaped form when the\n",
      "R kernel executes this code. This can lead to subtle errors if you use\n",
      "such chars to do comparisons. For more information, please see\n",
      "https://github.com/IRkernel/repr/wiki/Problems-with-unicode-on-windows"
     ]
    },
    {
     "data": {
      "image/png": "[encoded data removed]",
      "text/plain": [
       "plot without title"
      ]
     },
     "metadata": {},
     "output_type": "display_data"
    }
   ],
   "source": [
    "chr12_hubs_20 <- chr12_hubs[1:20,]\n",
    "chr12_hubs_20$Name <- factor(chr12_hubs_20$Name, levels = chr12_hubs_20$Name)\n",
    "ggplot() + \n",
    "    geom_bar(aes(x = chr12_hubs_20$Name, y = chr12_hubs_20$degree),\n",
    "           stat=\"identity\", fill = \"lightblue\")+ \n",
    "  labs(x=\"Relationship\",y = \"count\")+\n",
    "  ggtitle(\"Chromosome Inclusion Chromosome Range\") + backgroup   #设置背景为白色"
   ]
  },
  {
   "cell_type": "markdown",
   "metadata": {},
   "source": [
    "<h1 id='4'>4. Degree distribution for chr12 <h1>"
   ]
  },
  {
   "cell_type": "code",
   "execution_count": 25,
   "metadata": {},
   "outputs": [],
   "source": [
    "distribution <- as.data.frame(table(chr12_hubs$degree))\n",
    "library(ggplot2)\n",
    "#ggplot(distribution, aes(x=Freq))+ geom_histogram(binwidth=.5)"
   ]
  },
  {
   "cell_type": "code",
   "execution_count": 26,
   "metadata": {},
   "outputs": [
    {
     "data": {
      "image/png": "[encoded data removed]",
      "text/plain": [
       "plot without title"
      ]
     },
     "metadata": {},
     "output_type": "display_data"
    }
   ],
   "source": [
    "ggplot(chr12_hubs, aes(x=degree))+ \n",
    "  geom_histogram(binwidth=30,colour=\"black\", fill = \"lightblue\")+ #distribution plot\n",
    "  geom_vline(aes(xintercept=mean(degree, na.rm=T)), color=\"red\", linetype=\"dashed\", size=1)+   #mean\n",
    "  ggtitle(\"Ferquency of hubs' degree in chromosome 12\") + backgroup"
   ]
  },
  {
   "cell_type": "code",
   "execution_count": 27,
   "metadata": {},
   "outputs": [
    {
     "data": {
      "image/png": "[encoded data removed]",
      "text/plain": [
       "plot without title"
      ]
     },
     "metadata": {},
     "output_type": "display_data"
    }
   ],
   "source": [
    "ggplot(chr12_hubs, aes(x=degree)) + \n",
    "  geom_histogram(aes(y=..density..),binwidth=30,colour=\"black\", fill = \"lightblue\")+ #distribution plot\n",
    "  geom_density(alpha=.2, color=\"red\")+  #density line,Smoothed density estimates\n",
    "  geom_vline(aes(xintercept=mean(degree, na.rm=T)), color=\"red\", linetype=\"dashed\", size=1)+  #mean\n",
    "  ggtitle(\"Distribution of hubs' degree in chromosome 12\")+ backgroup"
   ]
  },
  {
   "cell_type": "code",
   "execution_count": 28,
   "metadata": {},
   "outputs": [
    {
     "data": {
      "text/html": [
       "<table>\n",
       "<caption>A data.frame: 3 × 2</caption>\n",
       "<thead>\n",
       "\t<tr><th></th><th scope=col>Var1</th><th scope=col>Freq</th></tr>\n",
       "\t<tr><th></th><th scope=col>&lt;fct&gt;</th><th scope=col>&lt;int&gt;</th></tr>\n",
       "</thead>\n",
       "<tbody>\n",
       "\t<tr><th scope=row>1</th><td>3  </td><td>5</td></tr>\n",
       "\t<tr><th scope=row>63</th><td>110</td><td>5</td></tr>\n",
       "\t<tr><th scope=row>122</th><td>189</td><td>5</td></tr>\n",
       "</tbody>\n",
       "</table>\n"
      ],
      "text/latex": [
       "A data.frame: 3 × 2\n",
       "\\begin{tabular}{r|ll}\n",
       "  & Var1 & Freq\\\\\n",
       "  & <fct> & <int>\\\\\n",
       "\\hline\n",
       "\t1 & 3   & 5\\\\\n",
       "\t63 & 110 & 5\\\\\n",
       "\t122 & 189 & 5\\\\\n",
       "\\end{tabular}\n"
      ],
      "text/markdown": [
       "\n",
       "A data.frame: 3 × 2\n",
       "\n",
       "| <!--/--> | Var1 &lt;fct&gt; | Freq &lt;int&gt; |\n",
       "|---|---|---|\n",
       "| 1 | 3   | 5 |\n",
       "| 63 | 110 | 5 |\n",
       "| 122 | 189 | 5 |\n",
       "\n"
      ],
      "text/plain": [
       "    Var1 Freq\n",
       "1   3    5   \n",
       "63  110  5   \n",
       "122 189  5   "
      ]
     },
     "metadata": {},
     "output_type": "display_data"
    }
   ],
   "source": [
    "distribution[distribution$Freq ==max(distribution$Freq),]"
   ]
  },
  {
   "cell_type": "markdown",
   "metadata": {},
   "source": [
    "<h1 id='5'>5. Modules for chromosome 12<h1>"
   ]
  },
  {
   "cell_type": "code",
   "execution_count": 29,
   "metadata": {},
   "outputs": [
    {
     "data": {
      "text/html": [
       "<table>\n",
       "<caption>A data.frame: 1 × 2</caption>\n",
       "<thead>\n",
       "\t<tr><th scope=col>nodes</th><th scope=col>communityCount</th></tr>\n",
       "\t<tr><th scope=col>&lt;int&gt;</th><th scope=col>&lt;int&gt;</th></tr>\n",
       "</thead>\n",
       "<tbody>\n",
       "\t<tr><td>370956</td><td>307385</td></tr>\n",
       "</tbody>\n",
       "</table>\n"
      ],
      "text/latex": [
       "A data.frame: 1 × 2\n",
       "\\begin{tabular}{r|ll}\n",
       " nodes & communityCount\\\\\n",
       " <int> & <int>\\\\\n",
       "\\hline\n",
       "\t 370956 & 307385\\\\\n",
       "\\end{tabular}\n"
      ],
      "text/markdown": [
       "\n",
       "A data.frame: 1 × 2\n",
       "\n",
       "| nodes &lt;int&gt; | communityCount &lt;int&gt; |\n",
       "|---|---|\n",
       "| 370956 | 307385 |\n",
       "\n"
      ],
      "text/plain": [
       "  nodes  communityCount\n",
       "1 370956 307385        "
      ]
     },
     "metadata": {},
     "output_type": "display_data"
    }
   ],
   "source": [
    "# To know the numbers of modules ----------------\n",
    "query = \"CALL algo.louvain(\n",
    "                        'MATCH (n:chr12)--(m) with id(n) as chr12,id(m) AS m   MATCH (al) where id(al) = m or  id(al) = chr12 return id(al) as id',\n",
    "                        'MATCH (n:chr12)-[r]-(m) RETURN id(n) AS source, id(m) AS target',\n",
    "                        {graph:'cypher',direction: 'both'})\n",
    "YIELD nodes, communityCount\"\n",
    "cypher(graph, query)  #Results： nodes:370956 communityCount:307385"
   ]
  },
  {
   "cell_type": "markdown",
   "metadata": {},
   "source": [
    "At here analysis, you need to know 1288086 nodes including all chr12 nodes and all nodes directly related chr12 nodes."
   ]
  },
  {
   "cell_type": "markdown",
   "metadata": {},
   "source": [
    "##### Then we filter all nodes are chr12 in their community as following:"
   ]
  },
  {
   "cell_type": "code",
   "execution_count": 30,
   "metadata": {},
   "outputs": [],
   "source": [
    "# To know the numbers of chr12 nodes in each modules ----------------\n",
    "query = \"\n",
    "// to make louvain modules for chr12\n",
    "CALL algo.louvain.stream(\n",
    "  'MATCH (n:chr12)--(m) with id(n) as chr12,id(m) AS m   MATCH (al) where id(al) = m or  id(al) = chr12 return id(al) as id',\n",
    "  'MATCH (n:chr12)-[r]-(m) RETURN id(n) AS source, id(m) AS target',\n",
    "  {graph:'cypher',direction: 'both'})\n",
    "YIELD nodeId, community\n",
    "\n",
    "// filering community which the number of nodes is more than one\n",
    "with collect(nodeId) AS nodeId , community\n",
    "where size(nodeId) > 1\n",
    "with nodeId, 'Module'+ community as community\n",
    "\n",
    "// to get communities that contain chromosome 12 nodes. \n",
    "MATCH (chr12:chr12)\n",
    "where id(chr12) in nodeId\n",
    "with collect( chr12.Name )  AS GeneList, community\n",
    "RETURN GeneList, community, size(GeneList) AS Size\n",
    "ORDER BY Size DESC\n",
    "\"\n",
    "module_chr12_total = cypher(graph, query) "
   ]
  },
  {
   "cell_type": "code",
   "execution_count": 31,
   "metadata": {},
   "outputs": [
    {
     "data": {
      "text/html": [
       "<table>\n",
       "<caption>A data.frame: 2 × 3</caption>\n",
       "<thead>\n",
       "\t<tr><th scope=col>GeneList</th><th scope=col>community</th><th scope=col>Size</th></tr>\n",
       "\t<tr><th scope=col>&lt;list&gt;</th><th scope=col>&lt;chr&gt;</th><th scope=col>&lt;int&gt;</th></tr>\n",
       "</thead>\n",
       "<tbody>\n",
       "\t<tr><td>Bin17 , Bin42 , Bin43 , Bin44 , Bin45 , Bin46 , Bin47 , Bin48 , Bin50 , Bin53 , Bin56 , Bin57 , Bin66 , Bin68 , Bin69 , Bin70 , Bin71 , Bin72 , Bin76 , Bin78 , Bin83 , Bin85 , Bin86 , Bin87 , Bin88 , Bin89 , Bin90 , Bin91 , Bin92 , Bin93 , Bin94 , Bin99 , Bin103, Bin104, Bin105, Bin106, Bin107, Bin110, Bin111, Bin115, Bin116, Bin117, Bin118, Bin119, Bin120, Bin121, Bin122, Bin123, Bin124, Bin142, Bin146, Bin147, Bin148, Bin149, Bin150, Bin151, Bin160, Bin166, Bin167, Bin170, Bin172, Bin173, Bin174, Bin175, Bin177, Bin178, Bin181, Bin183, Bin185, Bin188, Bin189, Bin190, Bin191, Bin192, Bin193, Bin194, Bin196, Bin197, Bin199, Bin202, Bin203, Bin204, Bin205, Bin206, Bin207, Bin208, Bin209, Bin210, Bin216, Bin218, Bin219, Bin221, Bin222, Bin223, Bin224, Bin226, Bin230, Bin243, Bin258, Bin271, Bin274, Bin276, Bin277, Bin278, Bin291, Bin292, Bin296, Bin297, Bin298, Bin299, Bin300, Bin302, Bin303, Bin304, Bin305, Bin306, Bin307, Bin308, Bin309, Bin310, Bin311, Bin316, Bin317, Bin318, Bin322, Bin325, Bin326, Bin327, Bin333, Bin334, Bin335, Bin336, Bin340, Bin341, Bin351, Bin353, Bin355, Bin356, Bin357, Bin362, Bin363, Bin364, Bin365, Bin366, Bin367, Bin368, Bin369, Bin370, Bin371, Bin372, Bin374, Bin376, Bin387, Bin388, Bin389, Bin390, Bin391, Bin392, Bin393, Bin394, Bin395, Bin396, Bin401, Bin402, Bin403, Bin404, Bin405, Bin406, Bin407, Bin408, Bin409, Bin410, Bin411, Bin413, Bin414, Bin415, Bin416, Bin417, Bin418, Bin419, Bin420, Bin422, Bin423, Bin424, Bin425, Bin426, Bin427, Bin428, Bin429, Bin430, Bin431, Bin432, Bin433, Bin434, Bin435, Bin436, Bin437, Bin439, Bin440, Bin452, Bin453, Bin454, Bin455, Bin458, Bin460, Bin462, Bin465, Bin472, Bin473, Bin474, Bin475, Bin484, Bin486, Bin487, Bin488, Bin489, Bin490, Bin491, Bin492, Bin495, Bin496, Bin497, Bin498, Bin499, Bin500, Bin504, Bin505, Bin511, Bin512, Bin514, Bin515, Bin516, Bin517, Bin518, Bin533, Bin543, Bin564, Bin577, Bin583, Bin584, Bin587, Bin588, Bin590, Bin594, Bin595, Bin597, Bin602, Bin622, Bin627, Bin628, Bin629, Bin630, Bin631, Bin632, Bin633, Bin634, Bin635, Bin638, Bin639, Bin640, Bin641, Bin643, Bin646, Bin648, Bin649, Bin650, Bin652, Bin653, Bin656</td><td>Module11194</td><td>269</td></tr>\n",
       "\t<tr><td>Bin37 , Bin38 , Bin39 , Bin55 , Bin58 , Bin79 , Bin82 , Bin97 , Bin101, Bin102, Bin114, Bin143, Bin144, Bin155, Bin179, Bin198, Bin200, Bin215, Bin217, Bin225, Bin238, Bin275, Bin294, Bin301, Bin343, Bin344, Bin345, Bin346, Bin361, Bin375, Bin397, Bin398, Bin421, Bin438, Bin445, Bin446, Bin506, Bin551, Bin575, Bin576, Bin611, Bin636, Bin637</td><td>Module22980</td><td> 43</td></tr>\n",
       "</tbody>\n",
       "</table>\n"
      ],
      "text/latex": [
       "A data.frame: 2 × 3\n",
       "\\begin{tabular}{r|lll}\n",
       " GeneList & community & Size\\\\\n",
       " <list> & <chr> & <int>\\\\\n",
       "\\hline\n",
       "\t Bin17 , Bin42 , Bin43 , Bin44 , Bin45 , Bin46 , Bin47 , Bin48 , Bin50 , Bin53 , Bin56 , Bin57 , Bin66 , Bin68 , Bin69 , Bin70 , Bin71 , Bin72 , Bin76 , Bin78 , Bin83 , Bin85 , Bin86 , Bin87 , Bin88 , Bin89 , Bin90 , Bin91 , Bin92 , Bin93 , Bin94 , Bin99 , Bin103, Bin104, Bin105, Bin106, Bin107, Bin110, Bin111, Bin115, Bin116, Bin117, Bin118, Bin119, Bin120, Bin121, Bin122, Bin123, Bin124, Bin142, Bin146, Bin147, Bin148, Bin149, Bin150, Bin151, Bin160, Bin166, Bin167, Bin170, Bin172, Bin173, Bin174, Bin175, Bin177, Bin178, Bin181, Bin183, Bin185, Bin188, Bin189, Bin190, Bin191, Bin192, Bin193, Bin194, Bin196, Bin197, Bin199, Bin202, Bin203, Bin204, Bin205, Bin206, Bin207, Bin208, Bin209, Bin210, Bin216, Bin218, Bin219, Bin221, Bin222, Bin223, Bin224, Bin226, Bin230, Bin243, Bin258, Bin271, Bin274, Bin276, Bin277, Bin278, Bin291, Bin292, Bin296, Bin297, Bin298, Bin299, Bin300, Bin302, Bin303, Bin304, Bin305, Bin306, Bin307, Bin308, Bin309, Bin310, Bin311, Bin316, Bin317, Bin318, Bin322, Bin325, Bin326, Bin327, Bin333, Bin334, Bin335, Bin336, Bin340, Bin341, Bin351, Bin353, Bin355, Bin356, Bin357, Bin362, Bin363, Bin364, Bin365, Bin366, Bin367, Bin368, Bin369, Bin370, Bin371, Bin372, Bin374, Bin376, Bin387, Bin388, Bin389, Bin390, Bin391, Bin392, Bin393, Bin394, Bin395, Bin396, Bin401, Bin402, Bin403, Bin404, Bin405, Bin406, Bin407, Bin408, Bin409, Bin410, Bin411, Bin413, Bin414, Bin415, Bin416, Bin417, Bin418, Bin419, Bin420, Bin422, Bin423, Bin424, Bin425, Bin426, Bin427, Bin428, Bin429, Bin430, Bin431, Bin432, Bin433, Bin434, Bin435, Bin436, Bin437, Bin439, Bin440, Bin452, Bin453, Bin454, Bin455, Bin458, Bin460, Bin462, Bin465, Bin472, Bin473, Bin474, Bin475, Bin484, Bin486, Bin487, Bin488, Bin489, Bin490, Bin491, Bin492, Bin495, Bin496, Bin497, Bin498, Bin499, Bin500, Bin504, Bin505, Bin511, Bin512, Bin514, Bin515, Bin516, Bin517, Bin518, Bin533, Bin543, Bin564, Bin577, Bin583, Bin584, Bin587, Bin588, Bin590, Bin594, Bin595, Bin597, Bin602, Bin622, Bin627, Bin628, Bin629, Bin630, Bin631, Bin632, Bin633, Bin634, Bin635, Bin638, Bin639, Bin640, Bin641, Bin643, Bin646, Bin648, Bin649, Bin650, Bin652, Bin653, Bin656 & Module11194 & 269\\\\\n",
       "\t Bin37 , Bin38 , Bin39 , Bin55 , Bin58 , Bin79 , Bin82 , Bin97 , Bin101, Bin102, Bin114, Bin143, Bin144, Bin155, Bin179, Bin198, Bin200, Bin215, Bin217, Bin225, Bin238, Bin275, Bin294, Bin301, Bin343, Bin344, Bin345, Bin346, Bin361, Bin375, Bin397, Bin398, Bin421, Bin438, Bin445, Bin446, Bin506, Bin551, Bin575, Bin576, Bin611, Bin636, Bin637 & Module22980 &  43\\\\\n",
       "\\end{tabular}\n"
      ],
      "text/markdown": [
       "\n",
       "A data.frame: 2 × 3\n",
       "\n",
       "| GeneList &lt;list&gt; | community &lt;chr&gt; | Size &lt;int&gt; |\n",
       "|---|---|---|\n",
       "| Bin17 , Bin42 , Bin43 , Bin44 , Bin45 , Bin46 , Bin47 , Bin48 , Bin50 , Bin53 , Bin56 , Bin57 , Bin66 , Bin68 , Bin69 , Bin70 , Bin71 , Bin72 , Bin76 , Bin78 , Bin83 , Bin85 , Bin86 , Bin87 , Bin88 , Bin89 , Bin90 , Bin91 , Bin92 , Bin93 , Bin94 , Bin99 , Bin103, Bin104, Bin105, Bin106, Bin107, Bin110, Bin111, Bin115, Bin116, Bin117, Bin118, Bin119, Bin120, Bin121, Bin122, Bin123, Bin124, Bin142, Bin146, Bin147, Bin148, Bin149, Bin150, Bin151, Bin160, Bin166, Bin167, Bin170, Bin172, Bin173, Bin174, Bin175, Bin177, Bin178, Bin181, Bin183, Bin185, Bin188, Bin189, Bin190, Bin191, Bin192, Bin193, Bin194, Bin196, Bin197, Bin199, Bin202, Bin203, Bin204, Bin205, Bin206, Bin207, Bin208, Bin209, Bin210, Bin216, Bin218, Bin219, Bin221, Bin222, Bin223, Bin224, Bin226, Bin230, Bin243, Bin258, Bin271, Bin274, Bin276, Bin277, Bin278, Bin291, Bin292, Bin296, Bin297, Bin298, Bin299, Bin300, Bin302, Bin303, Bin304, Bin305, Bin306, Bin307, Bin308, Bin309, Bin310, Bin311, Bin316, Bin317, Bin318, Bin322, Bin325, Bin326, Bin327, Bin333, Bin334, Bin335, Bin336, Bin340, Bin341, Bin351, Bin353, Bin355, Bin356, Bin357, Bin362, Bin363, Bin364, Bin365, Bin366, Bin367, Bin368, Bin369, Bin370, Bin371, Bin372, Bin374, Bin376, Bin387, Bin388, Bin389, Bin390, Bin391, Bin392, Bin393, Bin394, Bin395, Bin396, Bin401, Bin402, Bin403, Bin404, Bin405, Bin406, Bin407, Bin408, Bin409, Bin410, Bin411, Bin413, Bin414, Bin415, Bin416, Bin417, Bin418, Bin419, Bin420, Bin422, Bin423, Bin424, Bin425, Bin426, Bin427, Bin428, Bin429, Bin430, Bin431, Bin432, Bin433, Bin434, Bin435, Bin436, Bin437, Bin439, Bin440, Bin452, Bin453, Bin454, Bin455, Bin458, Bin460, Bin462, Bin465, Bin472, Bin473, Bin474, Bin475, Bin484, Bin486, Bin487, Bin488, Bin489, Bin490, Bin491, Bin492, Bin495, Bin496, Bin497, Bin498, Bin499, Bin500, Bin504, Bin505, Bin511, Bin512, Bin514, Bin515, Bin516, Bin517, Bin518, Bin533, Bin543, Bin564, Bin577, Bin583, Bin584, Bin587, Bin588, Bin590, Bin594, Bin595, Bin597, Bin602, Bin622, Bin627, Bin628, Bin629, Bin630, Bin631, Bin632, Bin633, Bin634, Bin635, Bin638, Bin639, Bin640, Bin641, Bin643, Bin646, Bin648, Bin649, Bin650, Bin652, Bin653, Bin656 | Module11194 | 269 |\n",
       "| Bin37 , Bin38 , Bin39 , Bin55 , Bin58 , Bin79 , Bin82 , Bin97 , Bin101, Bin102, Bin114, Bin143, Bin144, Bin155, Bin179, Bin198, Bin200, Bin215, Bin217, Bin225, Bin238, Bin275, Bin294, Bin301, Bin343, Bin344, Bin345, Bin346, Bin361, Bin375, Bin397, Bin398, Bin421, Bin438, Bin445, Bin446, Bin506, Bin551, Bin575, Bin576, Bin611, Bin636, Bin637 | Module22980 |  43 |\n",
       "\n"
      ],
      "text/plain": [
       "  GeneList                                                                                                                                                                                                                                                                                                                                                                                                                                                                                                                                                                                                                                                                                                                                                                                                                                                                                                                                                                                                                                                                                                                                                                                                                                                                                                                                                                                                                                                                                                                                                                                                                                                                                                                                                                                                                                                                                                                                                                                                                                                                                                                                                                                                                              \n",
       "1 Bin17 , Bin42 , Bin43 , Bin44 , Bin45 , Bin46 , Bin47 , Bin48 , Bin50 , Bin53 , Bin56 , Bin57 , Bin66 , Bin68 , Bin69 , Bin70 , Bin71 , Bin72 , Bin76 , Bin78 , Bin83 , Bin85 , Bin86 , Bin87 , Bin88 , Bin89 , Bin90 , Bin91 , Bin92 , Bin93 , Bin94 , Bin99 , Bin103, Bin104, Bin105, Bin106, Bin107, Bin110, Bin111, Bin115, Bin116, Bin117, Bin118, Bin119, Bin120, Bin121, Bin122, Bin123, Bin124, Bin142, Bin146, Bin147, Bin148, Bin149, Bin150, Bin151, Bin160, Bin166, Bin167, Bin170, Bin172, Bin173, Bin174, Bin175, Bin177, Bin178, Bin181, Bin183, Bin185, Bin188, Bin189, Bin190, Bin191, Bin192, Bin193, Bin194, Bin196, Bin197, Bin199, Bin202, Bin203, Bin204, Bin205, Bin206, Bin207, Bin208, Bin209, Bin210, Bin216, Bin218, Bin219, Bin221, Bin222, Bin223, Bin224, Bin226, Bin230, Bin243, Bin258, Bin271, Bin274, Bin276, Bin277, Bin278, Bin291, Bin292, Bin296, Bin297, Bin298, Bin299, Bin300, Bin302, Bin303, Bin304, Bin305, Bin306, Bin307, Bin308, Bin309, Bin310, Bin311, Bin316, Bin317, Bin318, Bin322, Bin325, Bin326, Bin327, Bin333, Bin334, Bin335, Bin336, Bin340, Bin341, Bin351, Bin353, Bin355, Bin356, Bin357, Bin362, Bin363, Bin364, Bin365, Bin366, Bin367, Bin368, Bin369, Bin370, Bin371, Bin372, Bin374, Bin376, Bin387, Bin388, Bin389, Bin390, Bin391, Bin392, Bin393, Bin394, Bin395, Bin396, Bin401, Bin402, Bin403, Bin404, Bin405, Bin406, Bin407, Bin408, Bin409, Bin410, Bin411, Bin413, Bin414, Bin415, Bin416, Bin417, Bin418, Bin419, Bin420, Bin422, Bin423, Bin424, Bin425, Bin426, Bin427, Bin428, Bin429, Bin430, Bin431, Bin432, Bin433, Bin434, Bin435, Bin436, Bin437, Bin439, Bin440, Bin452, Bin453, Bin454, Bin455, Bin458, Bin460, Bin462, Bin465, Bin472, Bin473, Bin474, Bin475, Bin484, Bin486, Bin487, Bin488, Bin489, Bin490, Bin491, Bin492, Bin495, Bin496, Bin497, Bin498, Bin499, Bin500, Bin504, Bin505, Bin511, Bin512, Bin514, Bin515, Bin516, Bin517, Bin518, Bin533, Bin543, Bin564, Bin577, Bin583, Bin584, Bin587, Bin588, Bin590, Bin594, Bin595, Bin597, Bin602, Bin622, Bin627, Bin628, Bin629, Bin630, Bin631, Bin632, Bin633, Bin634, Bin635, Bin638, Bin639, Bin640, Bin641, Bin643, Bin646, Bin648, Bin649, Bin650, Bin652, Bin653, Bin656\n",
       "2 Bin37 , Bin38 , Bin39 , Bin55 , Bin58 , Bin79 , Bin82 , Bin97 , Bin101, Bin102, Bin114, Bin143, Bin144, Bin155, Bin179, Bin198, Bin200, Bin215, Bin217, Bin225, Bin238, Bin275, Bin294, Bin301, Bin343, Bin344, Bin345, Bin346, Bin361, Bin375, Bin397, Bin398, Bin421, Bin438, Bin445, Bin446, Bin506, Bin551, Bin575, Bin576, Bin611, Bin636, Bin637                                                                                                                                                                                                                                                                                                                                                                                                                                                                                                                                                                                                                                                                                                                                                                                                                                                                                                                                                                                                                                                                                                                                                                                                                                                                                                                                                                                                                                                                                                                                                                                                                                                                                                                                                                                                                                                                                \n",
       "  community   Size\n",
       "1 Module11194 269 \n",
       "2 Module22980  43 "
      ]
     },
     "metadata": {},
     "output_type": "display_data"
    }
   ],
   "source": [
    "module_chr12_total[1:2,]"
   ]
  },
  {
   "cell_type": "code",
   "execution_count": 32,
   "metadata": {},
   "outputs": [
    {
     "data": {
      "text/html": [
       "<ol class=list-inline>\n",
       "\t<li>49</li>\n",
       "\t<li>3</li>\n",
       "</ol>\n"
      ],
      "text/latex": [
       "\\begin{enumerate*}\n",
       "\\item 49\n",
       "\\item 3\n",
       "\\end{enumerate*}\n"
      ],
      "text/markdown": [
       "1. 49\n",
       "2. 3\n",
       "\n",
       "\n"
      ],
      "text/plain": [
       "[1] 49  3"
      ]
     },
     "metadata": {},
     "output_type": "display_data"
    }
   ],
   "source": [
    "dim(module_chr12_total)"
   ]
  },
  {
   "cell_type": "code",
   "execution_count": 33,
   "metadata": {},
   "outputs": [
    {
     "name": "stderr",
     "output_type": "stream",
     "text": [
      "Your code contains a unicode char which cannot be displayed in your\n",
      "current locale and R will silently convert it to an escaped form when the\n",
      "R kernel executes this code. This can lead to subtle errors if you use\n",
      "such chars to do comparisons. For more information, please see\n",
      "https://github.com/IRkernel/repr/wiki/Problems-with-unicode-on-windows"
     ]
    },
    {
     "data": {
      "image/png": "[encoded data removed]",
      "text/plain": [
       "plot without title"
      ]
     },
     "metadata": {},
     "output_type": "display_data"
    }
   ],
   "source": [
    "ggplot() + \n",
    "  geom_bar(aes(x = module_chr12_total$community, y = module_chr12_total$Size),\n",
    "           stat=\"identity\", fill = \"lightblue\")+ \n",
    "  labs(x=\"Relationship\",y = \"count\")+\n",
    "  ggtitle(\"numbers of genes in each community(module) at chr12\") + backgroup+\n",
    "  geom_text(aes(x = module_chr12_total$community, \n",
    "                y = module_chr12_total$Size,\n",
    "                label=module_chr12_total$Size), hjust=-0.5, size = 2)+\n",
    "  coord_flip() #将条形图坐标轴转换过来变成横向条形图"
   ]
  },
  {
   "cell_type": "markdown",
   "metadata": {},
   "source": [
    "<h1 id='6'>6. Annotate all modules with the genes they contain in their bins<h1>"
   ]
  },
  {
   "cell_type": "markdown",
   "metadata": {},
   "source": [
    "<h2 id='6.1'> learn how to get the genes </h2>"
   ]
  },
  {
   "cell_type": "markdown",
   "metadata": {},
   "source": [
    "Before we run to get genes, we should learn string function `split()` and `substring()`."
   ]
  },
  {
   "cell_type": "markdown",
   "metadata": {},
   "source": [
    "Example is a chr12 node, we use `split()` to get a list of details property of this node.   \n",
    "\n",
    "`split()` returns a list of strings resulting from the splitting of the original string around matches of the given delimiter.\n",
    "\n",
    "Syntax: `split(original, splitDelimiter)`"
   ]
  },
  {
   "cell_type": "code",
   "execution_count": 34,
   "metadata": {},
   "outputs": [
    {
     "data": {
      "text/html": [
       "<table>\n",
       "<caption>A data.frame: 1 × 1</caption>\n",
       "<thead>\n",
       "\t<tr><th scope=col>Details</th></tr>\n",
       "\t<tr><th scope=col>&lt;list&gt;</th></tr>\n",
       "</thead>\n",
       "<tbody>\n",
       "\t<tr><td>3791047                          , 3873448                          , gene_id ENSG00000111224.13       ,  gene_type protein_coding        ,  gene_name PARP11                ,  level 2                         ,  havana_gene OTTHUMG00000156442.5, |3839459                         , 3842525                          , gene_id ENSG00000118976.5        ,  gene_type processed_pseudogene  ,  gene_name HIN1L                 ,  level 1                         ,  tag pseudo_consens              ,  havana_gene OTTHUMG00000168119.1, |3871734                         , 3910338                          , gene_id ENSG00000256862.1        ,  gene_type antisense             ,  gene_name RP11-664D1.1          ,  level 2                         ,  havana_gene OTTHUMG00000168120.1,                                  </td></tr>\n",
       "</tbody>\n",
       "</table>\n"
      ],
      "text/latex": [
       "A data.frame: 1 × 1\n",
       "\\begin{tabular}{r|l}\n",
       " Details\\\\\n",
       " <list>\\\\\n",
       "\\hline\n",
       "\t 3791047                          , 3873448                          , gene\\_id ENSG00000111224.13       ,  gene\\_type protein\\_coding        ,  gene\\_name PARP11                ,  level 2                         ,  havana\\_gene OTTHUMG00000156442.5, \\textbar{}3839459                         , 3842525                          , gene\\_id ENSG00000118976.5        ,  gene\\_type processed\\_pseudogene  ,  gene\\_name HIN1L                 ,  level 1                         ,  tag pseudo\\_consens              ,  havana\\_gene OTTHUMG00000168119.1, \\textbar{}3871734                         , 3910338                          , gene\\_id ENSG00000256862.1        ,  gene\\_type antisense             ,  gene\\_name RP11-664D1.1          ,  level 2                         ,  havana\\_gene OTTHUMG00000168120.1,                                  \\\\\n",
       "\\end{tabular}\n"
      ],
      "text/markdown": [
       "\n",
       "A data.frame: 1 × 1\n",
       "\n",
       "| Details &lt;list&gt; |\n",
       "|---|\n",
       "| 3791047                          , 3873448                          , gene_id ENSG00000111224.13       ,  gene_type protein_coding        ,  gene_name PARP11                ,  level 2                         ,  havana_gene OTTHUMG00000156442.5, |3839459                         , 3842525                          , gene_id ENSG00000118976.5        ,  gene_type processed_pseudogene  ,  gene_name HIN1L                 ,  level 1                         ,  tag pseudo_consens              ,  havana_gene OTTHUMG00000168119.1, |3871734                         , 3910338                          , gene_id ENSG00000256862.1        ,  gene_type antisense             ,  gene_name RP11-664D1.1          ,  level 2                         ,  havana_gene OTTHUMG00000168120.1,                                   |\n",
       "\n"
      ],
      "text/plain": [
       "  Details                                                                                                                                                                                                                                                                                                                                                                                                                                                                                                                                                                                                                                                                                                                                                                                                                            \n",
       "1 3791047                          , 3873448                          , gene_id ENSG00000111224.13       ,  gene_type protein_coding        ,  gene_name PARP11                ,  level 2                         ,  havana_gene OTTHUMG00000156442.5, |3839459                         , 3842525                          , gene_id ENSG00000118976.5        ,  gene_type processed_pseudogene  ,  gene_name HIN1L                 ,  level 1                         ,  tag pseudo_consens              ,  havana_gene OTTHUMG00000168119.1, |3871734                         , 3910338                          , gene_id ENSG00000256862.1        ,  gene_type antisense             ,  gene_name RP11-664D1.1          ,  level 2                         ,  havana_gene OTTHUMG00000168120.1,                                  "
      ]
     },
     "metadata": {},
     "output_type": "display_data"
    }
   ],
   "source": [
    "query = \"MATCH( chr12:chr12{Name: 'Bin20'})\n",
    "RETURN split(chr12.Details, ';') as Details\"\n",
    "cypher(graph,query)"
   ]
  },
  {
   "cell_type": "markdown",
   "metadata": {},
   "source": [
    "In order to you can easy to see that this result is list; we use `UNWIND` to  transform this list back into individual rows."
   ]
  },
  {
   "cell_type": "code",
   "execution_count": 35,
   "metadata": {},
   "outputs": [
    {
     "data": {
      "text/html": [
       "<table>\n",
       "<caption>A data.frame: 23 × 1</caption>\n",
       "<thead>\n",
       "\t<tr><th scope=col>details</th></tr>\n",
       "\t<tr><th scope=col>&lt;chr&gt;</th></tr>\n",
       "</thead>\n",
       "<tbody>\n",
       "\t<tr><td>3791047                          </td></tr>\n",
       "\t<tr><td>3873448                          </td></tr>\n",
       "\t<tr><td>gene_id ENSG00000111224.13       </td></tr>\n",
       "\t<tr><td> gene_type protein_coding        </td></tr>\n",
       "\t<tr><td> gene_name PARP11                </td></tr>\n",
       "\t<tr><td> level 2                         </td></tr>\n",
       "\t<tr><td> havana_gene OTTHUMG00000156442.5</td></tr>\n",
       "\t<tr><td>|3839459                         </td></tr>\n",
       "\t<tr><td>3842525                          </td></tr>\n",
       "\t<tr><td>gene_id ENSG00000118976.5        </td></tr>\n",
       "\t<tr><td> gene_type processed_pseudogene  </td></tr>\n",
       "\t<tr><td> gene_name HIN1L                 </td></tr>\n",
       "\t<tr><td> level 1                         </td></tr>\n",
       "\t<tr><td> tag pseudo_consens              </td></tr>\n",
       "\t<tr><td> havana_gene OTTHUMG00000168119.1</td></tr>\n",
       "\t<tr><td>|3871734                         </td></tr>\n",
       "\t<tr><td>3910338                          </td></tr>\n",
       "\t<tr><td>gene_id ENSG00000256862.1        </td></tr>\n",
       "\t<tr><td> gene_type antisense             </td></tr>\n",
       "\t<tr><td> gene_name RP11-664D1.1          </td></tr>\n",
       "\t<tr><td> level 2                         </td></tr>\n",
       "\t<tr><td> havana_gene OTTHUMG00000168120.1</td></tr>\n",
       "\t<tr><td>                                 </td></tr>\n",
       "</tbody>\n",
       "</table>\n"
      ],
      "text/latex": [
       "A data.frame: 23 × 1\n",
       "\\begin{tabular}{r|l}\n",
       " details\\\\\n",
       " <chr>\\\\\n",
       "\\hline\n",
       "\t 3791047                          \\\\\n",
       "\t 3873448                          \\\\\n",
       "\t gene\\_id ENSG00000111224.13       \\\\\n",
       "\t  gene\\_type protein\\_coding        \\\\\n",
       "\t  gene\\_name PARP11                \\\\\n",
       "\t  level 2                         \\\\\n",
       "\t  havana\\_gene OTTHUMG00000156442.5\\\\\n",
       "\t \\textbar{}3839459                         \\\\\n",
       "\t 3842525                          \\\\\n",
       "\t gene\\_id ENSG00000118976.5        \\\\\n",
       "\t  gene\\_type processed\\_pseudogene  \\\\\n",
       "\t  gene\\_name HIN1L                 \\\\\n",
       "\t  level 1                         \\\\\n",
       "\t  tag pseudo\\_consens              \\\\\n",
       "\t  havana\\_gene OTTHUMG00000168119.1\\\\\n",
       "\t \\textbar{}3871734                         \\\\\n",
       "\t 3910338                          \\\\\n",
       "\t gene\\_id ENSG00000256862.1        \\\\\n",
       "\t  gene\\_type antisense             \\\\\n",
       "\t  gene\\_name RP11-664D1.1          \\\\\n",
       "\t  level 2                         \\\\\n",
       "\t  havana\\_gene OTTHUMG00000168120.1\\\\\n",
       "\t                                  \\\\\n",
       "\\end{tabular}\n"
      ],
      "text/markdown": [
       "\n",
       "A data.frame: 23 × 1\n",
       "\n",
       "| details &lt;chr&gt; |\n",
       "|---|\n",
       "| 3791047                           |\n",
       "| 3873448                           |\n",
       "| gene_id ENSG00000111224.13        |\n",
       "|  gene_type protein_coding         |\n",
       "|  gene_name PARP11                 |\n",
       "|  level 2                          |\n",
       "|  havana_gene OTTHUMG00000156442.5 |\n",
       "| |3839459                          |\n",
       "| 3842525                           |\n",
       "| gene_id ENSG00000118976.5         |\n",
       "|  gene_type processed_pseudogene   |\n",
       "|  gene_name HIN1L                  |\n",
       "|  level 1                          |\n",
       "|  tag pseudo_consens               |\n",
       "|  havana_gene OTTHUMG00000168119.1 |\n",
       "| |3871734                          |\n",
       "| 3910338                           |\n",
       "| gene_id ENSG00000256862.1         |\n",
       "|  gene_type antisense              |\n",
       "|  gene_name RP11-664D1.1           |\n",
       "|  level 2                          |\n",
       "|  havana_gene OTTHUMG00000168120.1 |\n",
       "| <!----> |\n",
       "\n"
      ],
      "text/plain": [
       "   details                          \n",
       "1  3791047                          \n",
       "2  3873448                          \n",
       "3  gene_id ENSG00000111224.13       \n",
       "4   gene_type protein_coding        \n",
       "5   gene_name PARP11                \n",
       "6   level 2                         \n",
       "7   havana_gene OTTHUMG00000156442.5\n",
       "8  |3839459                         \n",
       "9  3842525                          \n",
       "10 gene_id ENSG00000118976.5        \n",
       "11  gene_type processed_pseudogene  \n",
       "12  gene_name HIN1L                 \n",
       "13  level 1                         \n",
       "14  tag pseudo_consens              \n",
       "15  havana_gene OTTHUMG00000168119.1\n",
       "16 |3871734                         \n",
       "17 3910338                          \n",
       "18 gene_id ENSG00000256862.1        \n",
       "19  gene_type antisense             \n",
       "20  gene_name RP11-664D1.1          \n",
       "21  level 2                         \n",
       "22  havana_gene OTTHUMG00000168120.1\n",
       "23                                  "
      ]
     },
     "metadata": {},
     "output_type": "display_data"
    }
   ],
   "source": [
    "query = \"MATCH( chr12:chr12{Name: 'Bin20'})\n",
    "with split(chr12.Details, ';') as Details\n",
    "UNWIND Details AS details\n",
    "RETURN details\n",
    "\"\n",
    "cypher(graph,query)"
   ]
  },
  {
   "cell_type": "markdown",
   "metadata": {},
   "source": [
    "Now, we use `substring()` to get gene names. In Details property, gene names always use `gene_name ` for tell use what its genes contained in this nodes.\n",
    "\n",
    "`substring()` returns a substring of the original string, beginning with a 0-based index start and length.\n",
    "\n",
    "Syntax: `substring(original, start [, length])`"
   ]
  },
  {
   "cell_type": "code",
   "execution_count": 36,
   "metadata": {},
   "outputs": [
    {
     "data": {
      "text/html": [
       "<table>\n",
       "<caption>A data.frame: 3 × 1</caption>\n",
       "<thead>\n",
       "\t<tr><th scope=col>genes</th></tr>\n",
       "\t<tr><th scope=col>&lt;chr&gt;</th></tr>\n",
       "</thead>\n",
       "<tbody>\n",
       "\t<tr><td>PARP11      </td></tr>\n",
       "\t<tr><td>HIN1L       </td></tr>\n",
       "\t<tr><td>RP11-664D1.1</td></tr>\n",
       "</tbody>\n",
       "</table>\n"
      ],
      "text/latex": [
       "A data.frame: 3 × 1\n",
       "\\begin{tabular}{r|l}\n",
       " genes\\\\\n",
       " <chr>\\\\\n",
       "\\hline\n",
       "\t PARP11      \\\\\n",
       "\t HIN1L       \\\\\n",
       "\t RP11-664D1.1\\\\\n",
       "\\end{tabular}\n"
      ],
      "text/markdown": [
       "\n",
       "A data.frame: 3 × 1\n",
       "\n",
       "| genes &lt;chr&gt; |\n",
       "|---|\n",
       "| PARP11       |\n",
       "| HIN1L        |\n",
       "| RP11-664D1.1 |\n",
       "\n"
      ],
      "text/plain": [
       "  genes       \n",
       "1 PARP11      \n",
       "2 HIN1L       \n",
       "3 RP11-664D1.1"
      ]
     },
     "metadata": {},
     "output_type": "display_data"
    }
   ],
   "source": [
    "query = \"MATCH( chr12:chr12{Name: 'Bin20'})\n",
    "with split(chr12.Details, ';') as Details\n",
    "UNWIND Details AS details\n",
    "with details as details\n",
    "where details contains 'gene_name'\n",
    "with details as genes\n",
    "return substring(genes,11) as genes\n",
    "\"\n",
    "cypher(graph,query)"
   ]
  },
  {
   "cell_type": "markdown",
   "metadata": {},
   "source": [
    "<h2 id='6.2'> Get genes in each modules </h2>"
   ]
  },
  {
   "cell_type": "markdown",
   "metadata": {},
   "source": [
    "So, the node chr12 `Bin200` includes 3 genes.\n",
    "\n",
    "###### Now, we can use that functions to do our tasks."
   ]
  },
  {
   "cell_type": "code",
   "execution_count": 37,
   "metadata": {},
   "outputs": [],
   "source": [
    "query = \"\n",
    "// to make louvain modules for chr12\n",
    "CALL algo.louvain.stream(\n",
    "  'MATCH (n:chr12)--(m) with id(n) as chr12,id(m) AS m   MATCH (al) where id(al) = m or  id(al) = chr12 return id(al) as id',\n",
    "  'MATCH (n:chr12)-[r]-(m) RETURN id(n) AS source, id(m) AS target',\n",
    "  {graph:'cypher',direction: 'both'})\n",
    "YIELD nodeId, community\n",
    "\n",
    "// filering community which the number of nodes is more than one\n",
    "with collect(nodeId) AS nodeId , community\n",
    "where size(nodeId) > 1\n",
    "with nodeId, 'Module'+ community AS community\n",
    "\n",
    "// to get communities that contain chromosome 12 nodes. \n",
    "MATCH (chr12:chr12)\n",
    "where id(chr12) in nodeId\n",
    "\n",
    "// split details\n",
    "with split(chr12.Details, ';') as ann, community\n",
    "\n",
    "// then ann is list, we need unlist ann for strings search\n",
    "UNWIND (ann) as ann1\n",
    "with  ann1 as ann1, community\n",
    "\n",
    "// now we want to find out which one terms including gene_name in ann1\n",
    "where ann1 contains 'gene_name'\n",
    "with ann1 as genelist, community\n",
    "\n",
    "// And we can extract the text about real gene names\n",
    "return distinct substring(genelist, 11) as genelist, community\n",
    "\"\n",
    "\n",
    "module_chr12 = cypher(graph, query) "
   ]
  },
  {
   "cell_type": "code",
   "execution_count": 38,
   "metadata": {},
   "outputs": [
    {
     "data": {
      "text/html": [
       "<table>\n",
       "<caption>A data.frame: 6 × 2</caption>\n",
       "<thead>\n",
       "\t<tr><th scope=col>genelist</th><th scope=col>community</th></tr>\n",
       "\t<tr><th scope=col>&lt;chr&gt;</th><th scope=col>&lt;chr&gt;</th></tr>\n",
       "</thead>\n",
       "<tbody>\n",
       "\t<tr><td>DDX11L8           </td><td>Module382</td></tr>\n",
       "\t<tr><td>ABC7-42389800N19.1</td><td>Module382</td></tr>\n",
       "\t<tr><td>RP11-598F7.1      </td><td>Module382</td></tr>\n",
       "\t<tr><td>IQSEC3            </td><td>Module382</td></tr>\n",
       "\t<tr><td>RP11-598F7.3      </td><td>Module382</td></tr>\n",
       "\t<tr><td>RP11-598F7.4      </td><td>Module382</td></tr>\n",
       "</tbody>\n",
       "</table>\n"
      ],
      "text/latex": [
       "A data.frame: 6 × 2\n",
       "\\begin{tabular}{r|ll}\n",
       " genelist & community\\\\\n",
       " <chr> & <chr>\\\\\n",
       "\\hline\n",
       "\t DDX11L8            & Module382\\\\\n",
       "\t ABC7-42389800N19.1 & Module382\\\\\n",
       "\t RP11-598F7.1       & Module382\\\\\n",
       "\t IQSEC3             & Module382\\\\\n",
       "\t RP11-598F7.3       & Module382\\\\\n",
       "\t RP11-598F7.4       & Module382\\\\\n",
       "\\end{tabular}\n"
      ],
      "text/markdown": [
       "\n",
       "A data.frame: 6 × 2\n",
       "\n",
       "| genelist &lt;chr&gt; | community &lt;chr&gt; |\n",
       "|---|---|\n",
       "| DDX11L8            | Module382 |\n",
       "| ABC7-42389800N19.1 | Module382 |\n",
       "| RP11-598F7.1       | Module382 |\n",
       "| IQSEC3             | Module382 |\n",
       "| RP11-598F7.3       | Module382 |\n",
       "| RP11-598F7.4       | Module382 |\n",
       "\n"
      ],
      "text/plain": [
       "  genelist           community\n",
       "1 DDX11L8            Module382\n",
       "2 ABC7-42389800N19.1 Module382\n",
       "3 RP11-598F7.1       Module382\n",
       "4 IQSEC3             Module382\n",
       "5 RP11-598F7.3       Module382\n",
       "6 RP11-598F7.4       Module382"
      ]
     },
     "metadata": {},
     "output_type": "display_data"
    }
   ],
   "source": [
    "head(module_chr12)"
   ]
  },
  {
   "cell_type": "code",
   "execution_count": 39,
   "metadata": {},
   "outputs": [
    {
     "data": {
      "text/html": [
       "<ol class=list-inline>\n",
       "\t<li>3210</li>\n",
       "\t<li>2</li>\n",
       "</ol>\n"
      ],
      "text/latex": [
       "\\begin{enumerate*}\n",
       "\\item 3210\n",
       "\\item 2\n",
       "\\end{enumerate*}\n"
      ],
      "text/markdown": [
       "1. 3210\n",
       "2. 2\n",
       "\n",
       "\n"
      ],
      "text/plain": [
       "[1] 3210    2"
      ]
     },
     "metadata": {},
     "output_type": "display_data"
    }
   ],
   "source": [
    "dim(module_chr12)"
   ]
  },
  {
   "cell_type": "code",
   "execution_count": 40,
   "metadata": {},
   "outputs": [],
   "source": [
    "write.table(module_chr12, file = \"module_chr12.csv\" ,sep=\",\",quote = F, col.names = TRUE, row.names = FALSE)"
   ]
  },
  {
   "cell_type": "markdown",
   "metadata": {},
   "source": [
    "To get `module_chr12.csv` at [here](module_chr12.csv)"
   ]
  },
  {
   "cell_type": "markdown",
   "metadata": {},
   "source": [
    "Or we process the results showing as list of modules with R."
   ]
  },
  {
   "cell_type": "code",
   "execution_count": 41,
   "metadata": {},
   "outputs": [],
   "source": [
    "module_genelist <- aggregate(module_chr12[1], by = module_chr12[2], FUN = as.character)\n",
    "module_genelist <- as.list(module_genelist$genelist)\n",
    "names(module_genelist) <- paste(\"module\",1:length(module_genelist))"
   ]
  },
  {
   "cell_type": "code",
   "execution_count": 42,
   "metadata": {},
   "outputs": [],
   "source": [
    "query = \"\n",
    "// to make louvain modules for chr12\n",
    "CALL algo.louvain.stream(\n",
    "  'MATCH (n:chr12)--(m) with id(n) as chr12,id(m) AS m   MATCH (al) where id(al) = m or  id(al) = chr12 return id(al) as id',\n",
    "  'MATCH (n:chr12)-[r]-(m) RETURN id(n) AS source, id(m) AS target',\n",
    "  {graph:'cypher',direction: 'both'})\n",
    "YIELD nodeId, community\n",
    "\n",
    "// filering community which the number of nodes is more than one\n",
    "with collect(nodeId) AS nodeId , community\n",
    "where size(nodeId) > 1\n",
    "with nodeId, 'Module'+ community AS community\n",
    "\n",
    "// to get communities that contain chromosome 12 nodes. \n",
    "MATCH (chr12:chr12)\n",
    "where id(chr12) in nodeId\n",
    "\n",
    "// split details\n",
    "with split(chr12.Details, ';') as ann, community\n",
    "\n",
    "// then ann is list, we need unlist ann for strings search\n",
    "UNWIND (ann) as ann1\n",
    "with  ann1 as ann1, community\n",
    "\n",
    "// now we want to find out which one terms including gene_name in ann1\n",
    "where ann1 contains 'gene_name'\n",
    "with ann1 as genelist, community\n",
    "\n",
    "// And we can extract the text about real gene names\n",
    "return collect( distinct substring(genelist, 11) ) as genelist, community\n",
    "\"\n",
    "\n",
    "module_chr12_list = RNeo4j::cypher(graph, query)"
   ]
  },
  {
   "cell_type": "markdown",
   "metadata": {},
   "source": [
    "<h2 id='6.3'> enriched modules in some KEGG pathway or GO term.</h2>"
   ]
  },
  {
   "cell_type": "markdown",
   "metadata": {},
   "source": [
    "We use `module_chr12_list` to enrich GO and KEGG."
   ]
  },
  {
   "cell_type": "markdown",
   "metadata": {},
   "source": [
    "<h3 id='6.3.1'> Enrich GO </h3>"
   ]
  },
  {
   "cell_type": "code",
   "execution_count": 43,
   "metadata": {},
   "outputs": [
    {
     "name": "stderr",
     "output_type": "stream",
     "text": [
      "\n",
      "Registered S3 method overwritten by 'enrichplot':\n",
      "  method               from\n",
      "  fortify.enrichResult DOSE\n",
      "clusterProfiler v3.12.0  For help: https://guangchuangyu.github.io/software/clusterProfiler\n",
      "\n",
      "If you use clusterProfiler in published research, please cite:\n",
      "Guangchuang Yu, Li-Gen Wang, Yanyan Han, Qing-Yu He. clusterProfiler: an R package for comparing biological themes among gene clusters. OMICS: A Journal of Integrative Biology. 2012, 16(5):284-287.\n",
      "Loading required package: org.Hs.eg.db\n",
      "Loading required package: AnnotationDbi\n",
      "Loading required package: stats4\n",
      "Loading required package: BiocGenerics\n",
      "Loading required package: parallel\n",
      "\n",
      "Attaching package: 'BiocGenerics'\n",
      "\n",
      "The following objects are masked from 'package:parallel':\n",
      "\n",
      "    clusterApply, clusterApplyLB, clusterCall, clusterEvalQ,\n",
      "    clusterExport, clusterMap, parApply, parCapply, parLapply,\n",
      "    parLapplyLB, parRapply, parSapply, parSapplyLB\n",
      "\n",
      "The following objects are masked from 'package:stats':\n",
      "\n",
      "    IQR, mad, sd, var, xtabs\n",
      "\n",
      "The following objects are masked from 'package:base':\n",
      "\n",
      "    anyDuplicated, append, as.data.frame, basename, cbind, colnames,\n",
      "    dirname, do.call, duplicated, eval, evalq, Filter, Find, get, grep,\n",
      "    grepl, intersect, is.unsorted, lapply, Map, mapply, match, mget,\n",
      "    order, paste, pmax, pmax.int, pmin, pmin.int, Position, rank,\n",
      "    rbind, Reduce, rownames, sapply, setdiff, sort, table, tapply,\n",
      "    union, unique, unsplit, which, which.max, which.min\n",
      "\n",
      "Loading required package: Biobase\n",
      "Welcome to Bioconductor\n",
      "\n",
      "    Vignettes contain introductory material; view with\n",
      "    'browseVignettes()'. To cite Bioconductor, see\n",
      "    'citation(\"Biobase\")', and for packages 'citation(\"pkgname\")'.\n",
      "\n",
      "Loading required package: IRanges\n",
      "Loading required package: S4Vectors\n",
      "\n",
      "Attaching package: 'S4Vectors'\n",
      "\n",
      "The following object is masked from 'package:base':\n",
      "\n",
      "    expand.grid\n",
      "\n",
      "\n",
      "Attaching package: 'IRanges'\n",
      "\n",
      "The following object is masked from 'package:grDevices':\n",
      "\n",
      "    windows\n",
      "\n",
      "\n",
      "Warning message in `[<-`(`*tmp*`, i, value = enrichGO(module_gene, \"org.Hs.eg.db\", :\n",
      "\"implicit list embedding of S4 objects is deprecated\"Warning message in `[<-`(`*tmp*`, i, value = enrichGO(module_gene, \"org.Hs.eg.db\", :\n",
      "\"implicit list embedding of S4 objects is deprecated\"Warning message in `[<-`(`*tmp*`, i, value = enrichGO(module_gene, \"org.Hs.eg.db\", :\n",
      "\"implicit list embedding of S4 objects is deprecated\"Warning message in `[<-`(`*tmp*`, i, value = enrichGO(module_gene, \"org.Hs.eg.db\", :\n",
      "\"implicit list embedding of S4 objects is deprecated\"Warning message in `[<-`(`*tmp*`, i, value = enrichGO(module_gene, \"org.Hs.eg.db\", :\n",
      "\"implicit list embedding of S4 objects is deprecated\"Warning message in `[<-`(`*tmp*`, i, value = enrichGO(module_gene, \"org.Hs.eg.db\", :\n",
      "\"implicit list embedding of S4 objects is deprecated\"Warning message in `[<-`(`*tmp*`, i, value = enrichGO(module_gene, \"org.Hs.eg.db\", :\n",
      "\"implicit list embedding of S4 objects is deprecated\"Warning message in `[<-`(`*tmp*`, i, value = enrichGO(module_gene, \"org.Hs.eg.db\", :\n",
      "\"implicit list embedding of S4 objects is deprecated\"Warning message in `[<-`(`*tmp*`, i, value = enrichGO(module_gene, \"org.Hs.eg.db\", :\n",
      "\"implicit list embedding of S4 objects is deprecated\"Warning message in `[<-`(`*tmp*`, i, value = enrichGO(module_gene, \"org.Hs.eg.db\", :\n",
      "\"implicit list embedding of S4 objects is deprecated\"Warning message in `[<-`(`*tmp*`, i, value = enrichGO(module_gene, \"org.Hs.eg.db\", :\n",
      "\"implicit list embedding of S4 objects is deprecated\"Warning message in `[<-`(`*tmp*`, i, value = enrichGO(module_gene, \"org.Hs.eg.db\", :\n",
      "\"implicit list embedding of S4 objects is deprecated\"Warning message in `[<-`(`*tmp*`, i, value = enrichGO(module_gene, \"org.Hs.eg.db\", :\n",
      "\"implicit list embedding of S4 objects is deprecated\"Warning message in `[<-`(`*tmp*`, i, value = enrichGO(module_gene, \"org.Hs.eg.db\", :\n",
      "\"implicit list embedding of S4 objects is deprecated\"Warning message in `[<-`(`*tmp*`, i, value = enrichGO(module_gene, \"org.Hs.eg.db\", :\n",
      "\"implicit list embedding of S4 objects is deprecated\"Warning message in `[<-`(`*tmp*`, i, value = enrichGO(module_gene, \"org.Hs.eg.db\", :\n",
      "\"implicit list embedding of S4 objects is deprecated\"Warning message in `[<-`(`*tmp*`, i, value = enrichGO(module_gene, \"org.Hs.eg.db\", :\n",
      "\"implicit list embedding of S4 objects is deprecated\"Warning message in `[<-`(`*tmp*`, i, value = enrichGO(module_gene, \"org.Hs.eg.db\", :\n",
      "\"implicit list embedding of S4 objects is deprecated\"Warning message in `[<-`(`*tmp*`, i, value = enrichGO(module_gene, \"org.Hs.eg.db\", :\n",
      "\"implicit list embedding of S4 objects is deprecated\"Warning message in `[<-`(`*tmp*`, i, value = enrichGO(module_gene, \"org.Hs.eg.db\", :\n",
      "\"implicit list embedding of S4 objects is deprecated\"Warning message in `[<-`(`*tmp*`, i, value = enrichGO(module_gene, \"org.Hs.eg.db\", :\n",
      "\"implicit list embedding of S4 objects is deprecated\"Warning message in `[<-`(`*tmp*`, i, value = enrichGO(module_gene, \"org.Hs.eg.db\", :\n",
      "\"implicit list embedding of S4 objects is deprecated\"Warning message in `[<-`(`*tmp*`, i, value = enrichGO(module_gene, \"org.Hs.eg.db\", :\n",
      "\"implicit list embedding of S4 objects is deprecated\"Warning message in `[<-`(`*tmp*`, i, value = enrichGO(module_gene, \"org.Hs.eg.db\", :\n",
      "\"implicit list embedding of S4 objects is deprecated\"Warning message in `[<-`(`*tmp*`, i, value = enrichGO(module_gene, \"org.Hs.eg.db\", :\n",
      "\"implicit list embedding of S4 objects is deprecated\"Warning message in `[<-`(`*tmp*`, i, value = enrichGO(module_gene, \"org.Hs.eg.db\", :\n",
      "\"implicit list embedding of S4 objects is deprecated\"Warning message in `[<-`(`*tmp*`, i, value = enrichGO(module_gene, \"org.Hs.eg.db\", :\n",
      "\"implicit list embedding of S4 objects is deprecated\"Warning message in `[<-`(`*tmp*`, i, value = enrichGO(module_gene, \"org.Hs.eg.db\", :\n",
      "\"implicit list embedding of S4 objects is deprecated\"Warning message in `[<-`(`*tmp*`, i, value = enrichGO(module_gene, \"org.Hs.eg.db\", :\n",
      "\"implicit list embedding of S4 objects is deprecated\"Warning message in `[<-`(`*tmp*`, i, value = enrichGO(module_gene, \"org.Hs.eg.db\", :\n",
      "\"implicit list embedding of S4 objects is deprecated\"Warning message in `[<-`(`*tmp*`, i, value = enrichGO(module_gene, \"org.Hs.eg.db\", :\n",
      "\"implicit list embedding of S4 objects is deprecated\"Warning message in `[<-`(`*tmp*`, i, value = enrichGO(module_gene, \"org.Hs.eg.db\", :\n",
      "\"implicit list embedding of S4 objects is deprecated\"Warning message in `[<-`(`*tmp*`, i, value = enrichGO(module_gene, \"org.Hs.eg.db\", :\n",
      "\"implicit list embedding of S4 objects is deprecated\"Warning message in `[<-`(`*tmp*`, i, value = enrichGO(module_gene, \"org.Hs.eg.db\", :\n",
      "\"implicit list embedding of S4 objects is deprecated\"Warning message in `[<-`(`*tmp*`, i, value = enrichGO(module_gene, \"org.Hs.eg.db\", :\n",
      "\"implicit list embedding of S4 objects is deprecated\"Warning message in `[<-`(`*tmp*`, i, value = enrichGO(module_gene, \"org.Hs.eg.db\", :\n",
      "\"implicit list embedding of S4 objects is deprecated\"Warning message in `[<-`(`*tmp*`, i, value = enrichGO(module_gene, \"org.Hs.eg.db\", :\n",
      "\"implicit list embedding of S4 objects is deprecated\"Warning message in `[<-`(`*tmp*`, i, value = enrichGO(module_gene, \"org.Hs.eg.db\", :\n",
      "\"implicit list embedding of S4 objects is deprecated\"Warning message in `[<-`(`*tmp*`, i, value = enrichGO(module_gene, \"org.Hs.eg.db\", :\n",
      "\"implicit list embedding of S4 objects is deprecated\"Warning message in `[<-`(`*tmp*`, i, value = enrichGO(module_gene, \"org.Hs.eg.db\", :\n",
      "\"implicit list embedding of S4 objects is deprecated\"Warning message in `[<-`(`*tmp*`, i, value = enrichGO(module_gene, \"org.Hs.eg.db\", :\n",
      "\"implicit list embedding of S4 objects is deprecated\"Warning message in `[<-`(`*tmp*`, i, value = enrichGO(module_gene, \"org.Hs.eg.db\", :\n",
      "\"implicit list embedding of S4 objects is deprecated\"Warning message in `[<-`(`*tmp*`, i, value = enrichGO(module_gene, \"org.Hs.eg.db\", :\n",
      "\"implicit list embedding of S4 objects is deprecated\"Warning message in `[<-`(`*tmp*`, i, value = enrichGO(module_gene, \"org.Hs.eg.db\", :\n",
      "\"implicit list embedding of S4 objects is deprecated\"Warning message in `[<-`(`*tmp*`, i, value = enrichGO(module_gene, \"org.Hs.eg.db\", :\n",
      "\"implicit list embedding of S4 objects is deprecated\"Warning message in `[<-`(`*tmp*`, i, value = enrichGO(module_gene, \"org.Hs.eg.db\", :\n"
     ]
    },
    {
     "name": "stderr",
     "output_type": "stream",
     "text": [
      "\"implicit list embedding of S4 objects is deprecated\"Warning message in `[<-`(`*tmp*`, i, value = enrichGO(module_gene, \"org.Hs.eg.db\", :\n",
      "\"implicit list embedding of S4 objects is deprecated\"Warning message in `[<-`(`*tmp*`, i, value = enrichGO(module_gene, \"org.Hs.eg.db\", :\n",
      "\"implicit list embedding of S4 objects is deprecated\"Warning message in `[<-`(`*tmp*`, i, value = enrichGO(module_gene, \"org.Hs.eg.db\", :\n",
      "\"implicit list embedding of S4 objects is deprecated\"Warning message in `[<-`(`*tmp*`, i, value = enrichGO(module_gene, \"org.Hs.eg.db\", :\n",
      "\"implicit list embedding of S4 objects is deprecated\"Warning message in `[<-`(`*tmp*`, i, value = enrichGO(module_gene, \"org.Hs.eg.db\", :\n",
      "\"implicit list embedding of S4 objects is deprecated\"Warning message in `[<-`(`*tmp*`, i, value = enrichGO(module_gene, \"org.Hs.eg.db\", :\n",
      "\"implicit list embedding of S4 objects is deprecated\"Warning message in `[<-`(`*tmp*`, i, value = enrichGO(module_gene, \"org.Hs.eg.db\", :\n",
      "\"implicit list embedding of S4 objects is deprecated\""
     ]
    }
   ],
   "source": [
    "library(clusterProfiler)\n",
    "module_chr12_list_enrichGO <- list()\n",
    "for (i in 1:nrow(module_chr12_list)){\n",
    "  module_gene <- unlist(module_chr12_list$genelist[i])\n",
    "  module_chr12_list_enrichGO[i] <- enrichGO(module_gene, \n",
    "                                            'org.Hs.eg.db',\n",
    "                                            keyType = 'SYMBOL', \n",
    "                                            pvalueCutoff = 0.05)\n",
    "}\n",
    "names(module_chr12_list_enrichGO) <- module_chr12_list$community"
   ]
  },
  {
   "cell_type": "code",
   "execution_count": 44,
   "metadata": {
    "scrolled": true
   },
   "outputs": [
    {
     "data": {
      "text/html": [
       "<table>\n",
       "<caption>A data.frame: 6 × 9</caption>\n",
       "<thead>\n",
       "\t<tr><th></th><th scope=col>ID</th><th scope=col>Description</th><th scope=col>GeneRatio</th><th scope=col>BgRatio</th><th scope=col>pvalue</th><th scope=col>p.adjust</th><th scope=col>qvalue</th><th scope=col>geneID</th><th scope=col>Count</th></tr>\n",
       "\t<tr><th></th><th scope=col>&lt;chr&gt;</th><th scope=col>&lt;chr&gt;</th><th scope=col>&lt;chr&gt;</th><th scope=col>&lt;chr&gt;</th><th scope=col>&lt;dbl&gt;</th><th scope=col>&lt;dbl&gt;</th><th scope=col>&lt;dbl&gt;</th><th scope=col>&lt;chr&gt;</th><th scope=col>&lt;int&gt;</th></tr>\n",
       "</thead>\n",
       "<tbody>\n",
       "\t<tr><th scope=row>GO:0005086</th><td>GO:0005086</td><td>ARF guanyl-nucleotide exchange factor activity</td><td>1/5</td><td>16/16969 </td><td>0.004706151</td><td>0.04462419</td><td>0.01483353</td><td>IQSEC3    </td><td>1</td></tr>\n",
       "\t<tr><th scope=row>GO:0032452</th><td>GO:0032452</td><td>histone demethylase activity                  </td><td>1/5</td><td>22/16969 </td><td>0.006466382</td><td>0.04462419</td><td>0.01483353</td><td>KDM5A     </td><td>1</td></tr>\n",
       "\t<tr><th scope=row>GO:0003712</th><td>GO:0003712</td><td>transcription coregulator activity            </td><td>2/5</td><td>494/16969</td><td>0.007978398</td><td>0.04462419</td><td>0.01483353</td><td>KDM5A/BTG1</td><td>2</td></tr>\n",
       "\t<tr><th scope=row>GO:0032451</th><td>GO:0032451</td><td>demethylase activity                          </td><td>1/5</td><td>32/16969 </td><td>0.009394567</td><td>0.04462419</td><td>0.01483353</td><td>KDM5A     </td><td>1</td></tr>\n",
       "\t<tr><th scope=row>GO:0015171</th><td>GO:0015171</td><td>amino acid transmembrane transporter activity </td><td>1/5</td><td>55/16969 </td><td>0.016103194</td><td>0.04980730</td><td>0.01655644</td><td>SLC6A12   </td><td>1</td></tr>\n",
       "\t<tr><th scope=row>GO:0035064</th><td>GO:0035064</td><td>methylated histone binding                    </td><td>1/5</td><td>66/16969 </td><td>0.019298794</td><td>0.04980730</td><td>0.01655644</td><td>KDM5A     </td><td>1</td></tr>\n",
       "</tbody>\n",
       "</table>\n"
      ],
      "text/latex": [
       "A data.frame: 6 × 9\n",
       "\\begin{tabular}{r|lllllllll}\n",
       "  & ID & Description & GeneRatio & BgRatio & pvalue & p.adjust & qvalue & geneID & Count\\\\\n",
       "  & <chr> & <chr> & <chr> & <chr> & <dbl> & <dbl> & <dbl> & <chr> & <int>\\\\\n",
       "\\hline\n",
       "\tGO:0005086 & GO:0005086 & ARF guanyl-nucleotide exchange factor activity & 1/5 & 16/16969  & 0.004706151 & 0.04462419 & 0.01483353 & IQSEC3     & 1\\\\\n",
       "\tGO:0032452 & GO:0032452 & histone demethylase activity                   & 1/5 & 22/16969  & 0.006466382 & 0.04462419 & 0.01483353 & KDM5A      & 1\\\\\n",
       "\tGO:0003712 & GO:0003712 & transcription coregulator activity             & 2/5 & 494/16969 & 0.007978398 & 0.04462419 & 0.01483353 & KDM5A/BTG1 & 2\\\\\n",
       "\tGO:0032451 & GO:0032451 & demethylase activity                           & 1/5 & 32/16969  & 0.009394567 & 0.04462419 & 0.01483353 & KDM5A      & 1\\\\\n",
       "\tGO:0015171 & GO:0015171 & amino acid transmembrane transporter activity  & 1/5 & 55/16969  & 0.016103194 & 0.04980730 & 0.01655644 & SLC6A12    & 1\\\\\n",
       "\tGO:0035064 & GO:0035064 & methylated histone binding                     & 1/5 & 66/16969  & 0.019298794 & 0.04980730 & 0.01655644 & KDM5A      & 1\\\\\n",
       "\\end{tabular}\n"
      ],
      "text/markdown": [
       "\n",
       "A data.frame: 6 × 9\n",
       "\n",
       "| <!--/--> | ID &lt;chr&gt; | Description &lt;chr&gt; | GeneRatio &lt;chr&gt; | BgRatio &lt;chr&gt; | pvalue &lt;dbl&gt; | p.adjust &lt;dbl&gt; | qvalue &lt;dbl&gt; | geneID &lt;chr&gt; | Count &lt;int&gt; |\n",
       "|---|---|---|---|---|---|---|---|---|---|\n",
       "| GO:0005086 | GO:0005086 | ARF guanyl-nucleotide exchange factor activity | 1/5 | 16/16969  | 0.004706151 | 0.04462419 | 0.01483353 | IQSEC3     | 1 |\n",
       "| GO:0032452 | GO:0032452 | histone demethylase activity                   | 1/5 | 22/16969  | 0.006466382 | 0.04462419 | 0.01483353 | KDM5A      | 1 |\n",
       "| GO:0003712 | GO:0003712 | transcription coregulator activity             | 2/5 | 494/16969 | 0.007978398 | 0.04462419 | 0.01483353 | KDM5A/BTG1 | 2 |\n",
       "| GO:0032451 | GO:0032451 | demethylase activity                           | 1/5 | 32/16969  | 0.009394567 | 0.04462419 | 0.01483353 | KDM5A      | 1 |\n",
       "| GO:0015171 | GO:0015171 | amino acid transmembrane transporter activity  | 1/5 | 55/16969  | 0.016103194 | 0.04980730 | 0.01655644 | SLC6A12    | 1 |\n",
       "| GO:0035064 | GO:0035064 | methylated histone binding                     | 1/5 | 66/16969  | 0.019298794 | 0.04980730 | 0.01655644 | KDM5A      | 1 |\n",
       "\n"
      ],
      "text/plain": [
       "           ID         Description                                    GeneRatio\n",
       "GO:0005086 GO:0005086 ARF guanyl-nucleotide exchange factor activity 1/5      \n",
       "GO:0032452 GO:0032452 histone demethylase activity                   1/5      \n",
       "GO:0003712 GO:0003712 transcription coregulator activity             2/5      \n",
       "GO:0032451 GO:0032451 demethylase activity                           1/5      \n",
       "GO:0015171 GO:0015171 amino acid transmembrane transporter activity  1/5      \n",
       "GO:0035064 GO:0035064 methylated histone binding                     1/5      \n",
       "           BgRatio   pvalue      p.adjust   qvalue     geneID     Count\n",
       "GO:0005086 16/16969  0.004706151 0.04462419 0.01483353 IQSEC3     1    \n",
       "GO:0032452 22/16969  0.006466382 0.04462419 0.01483353 KDM5A      1    \n",
       "GO:0003712 494/16969 0.007978398 0.04462419 0.01483353 KDM5A/BTG1 2    \n",
       "GO:0032451 32/16969  0.009394567 0.04462419 0.01483353 KDM5A      1    \n",
       "GO:0015171 55/16969  0.016103194 0.04980730 0.01655644 SLC6A12    1    \n",
       "GO:0035064 66/16969  0.019298794 0.04980730 0.01655644 KDM5A      1    "
      ]
     },
     "metadata": {},
     "output_type": "display_data"
    }
   ],
   "source": [
    "head(module_chr12_list_enrichGO[[1]]@result)"
   ]
  },
  {
   "cell_type": "markdown",
   "metadata": {},
   "source": [
    "<h3 id='6.3.2'> Enrich KEGG</h3>"
   ]
  },
  {
   "cell_type": "code",
   "execution_count": 47,
   "metadata": {},
   "outputs": [
    {
     "name": "stderr",
     "output_type": "stream",
     "text": [
      "Your code contains a unicode char which cannot be displayed in your\n",
      "current locale and R will silently convert it to an escaped form when the\n",
      "R kernel executes this code. This can lead to subtle errors if you use\n",
      "such chars to do comparisons. For more information, please see\n",
      "https://github.com/IRkernel/repr/wiki/Problems-with-unicode-on-windows'select()' returned 1:many mapping between keys and columns\n"
     ]
    },
    {
     "ename": "ERROR",
     "evalue": "Error in download.KEGG.Path(species): 'species' should be one of organisms listed in 'http://www.genome.jp/kegg/catalog/org_list.html'...\n",
     "output_type": "error",
     "traceback": [
      "Error in download.KEGG.Path(species): 'species' should be one of organisms listed in 'http://www.genome.jp/kegg/catalog/org_list.html'...\nTraceback:\n",
      "1. enrichKEGG(geneIDselect$ENTREZID, organism = \"hsa\", keyType = \"kegg\", \n .     pvalueCutoff = 0.05)",
      "2. prepare_KEGG(species, \"KEGG\", keyType)",
      "3. download_KEGG(species, KEGG_Type, keyType)",
      "4. download.KEGG.Path(species)",
      "5. stop(\"'species' should be one of organisms listed in 'http://www.genome.jp/kegg/catalog/org_list.html'...\")"
     ]
    }
   ],
   "source": [
    "#-------------------------------\n",
    "\n",
    "module_chr12_list_enrichKEGG <- list()\n",
    "library(org.Hs.eg.db)\n",
    "library(clusterProfiler)\n",
    "for (i in 1:nrow(module_chr12_list)){\n",
    "module_gene <- unlist(module_chr12_list$genelist[i])\n",
    "geneIDselect <-select(org.Hs.eg.db, #.db是这个芯片数据对应的注释包\n",
    "                      keys= module_gene,\n",
    "                      columns=c(\"ENTREZID\",\"ENSEMBL\",\"GENENAME\"), #clolumns参数是你要转换的ID类型是什么，这里选择三个。\n",
    "                      keytype=\"SYMBOL\" )#函数里面的keytype与keys参数是对应的，keys是你输入的那些数据，keytype是指这些数据是属于什么类型的数据。 \n",
    "module_chr12_list_enrichKEGG[i] = enrichKEGG(geneIDselect$ENTREZID, organism = 'hsa', keyType = \"kegg\", pvalueCutoff = 0.05)\n",
    "}\n",
    "names(module_chr12_list_enrichKEGG) <- module_chr12_list$community\n",
    "#--------------------------------------------------------------"
   ]
  },
  {
   "cell_type": "code",
   "execution_count": null,
   "metadata": {},
   "outputs": [],
   "source": [
    "head(module_chr12_list_enrichKEGG[[1]]@result)"
   ]
  },
  {
   "cell_type": "markdown",
   "metadata": {},
   "source": [
    "<h1 id='7'>7. Get All genes names</h1>"
   ]
  },
  {
   "cell_type": "markdown",
   "metadata": {},
   "source": [
    "Create a function to get all genes names in neo4j.\n",
    "\n",
    "As we know, GREG only `Details` property have gene names informations in each chromosome nodes.\n",
    "\n",
    "So, the first step, we get all nodes which had `Details` property.  \n",
    "Second, we use `split` to split the `Details` information, at this step, we get a list of `Details` information.  \n",
    "Thrid, we use command `UNWIND` to change the list format.  \n",
    "Forth, we use `contains` to filter those `Details` information which includes `gene_name`. \n",
    "At the end, we use `substring` to get real gene names."
   ]
  },
  {
   "cell_type": "code",
   "execution_count": null,
   "metadata": {},
   "outputs": [],
   "source": [
    "#----------------------------------------------------------------------\n",
    "#---建一个函数来获取数据库里面所有gene names\n",
    "#该基因gene name 存在于 node的Details属性上\n",
    "#返回数据框，包含基因名称，节点的id号和节点label， 节点Name\n",
    "\n",
    "getAllGeneName = function(){\n",
    "  #连接neo4j数据库\n",
    "  \n",
    "  library(RNeo4j)\n",
    "  graph = startGraph(\"http://localhost:7474/db/data/\", username=\"neo4j\", password=\"xiaowei\")\n",
    "  \n",
    "  #cypher语言查询\n",
    "  query = \"\n",
    "        //get all nodes which had `Details` property\n",
    "        //查找有Details属性的节点\n",
    "      MATCH (n)\n",
    "      where exists(n.Details)\n",
    "\n",
    "        //split the Details information\n",
    "        //利用split函数拆分Details属性值\n",
    "      with split(n.Details, ';') AS Details,id(n) AS NodeID, labels(n) AS NodeLabel, n.Name AS NodeNames\n",
    "\n",
    "        //change the list format\n",
    "        //利用UNWIND将Details列表换成表格形式\n",
    "      UNWIND Details AS details\n",
    "      with details, NodeID, NodeLabel, NodeNames\n",
    "\n",
    "        //filter those Details information which includes gene_name\n",
    "        // 筛选出含有gene_name的信息\n",
    "      where details contains 'gene_name'\n",
    "      with details as genes, NodeID, NodeLabel, NodeNames\n",
    "\n",
    "        // use `substring` to get real gene names\n",
    "        // 然后利用substring函数截取基因名称， 返回基因名称，节点的id号和节点label\n",
    "      return substring(genes,11) as geneName, NodeID, NodeLabel, NodeNames\n",
    "  \"\n",
    "  #进行查询\n",
    "  allGenes <- RNeo4j::cypher(graph, query) \n",
    "  \n",
    "  #返回查询结果\n",
    "  return(allGenes)\n",
    "}"
   ]
  },
  {
   "cell_type": "code",
   "execution_count": null,
   "metadata": {},
   "outputs": [],
   "source": [
    "AllgeneName <- getAllGeneName()\n",
    "head(AllgeneName )"
   ]
  },
  {
   "cell_type": "code",
   "execution_count": null,
   "metadata": {},
   "outputs": [],
   "source": [
    "dim(AllgeneName)"
   ]
  },
  {
   "cell_type": "markdown",
   "metadata": {},
   "source": [
    "<h1 id='8'>  Find the modules that contain the gene \"NANOG\" and report all the nodes and relationships inside such modules. Also, report if they are enriched in some KEGG pathway or GO term. </h1>"
   ]
  },
  {
   "cell_type": "markdown",
   "metadata": {},
   "source": [
    "<h2 id='8.1'> Step1： Find out those nodes about target genes</h2>\n",
    "Find out those nodes contains the gene `\"NOANOG\"` strings, \n",
    "\n",
    "result is a data.frame including `GeneName`, `NodeID`, `NodeLabel` and `NodeNames`."
   ]
  },
  {
   "cell_type": "code",
   "execution_count": null,
   "metadata": {
    "scrolled": true
   },
   "outputs": [],
   "source": [
    "#接下来我们来尝试一下这一步\n",
    "#Find the modules that contain the gene \"NANOG\" \n",
    "#and report all the nodes and relationships inside such modules\n",
    "\n",
    "#首先，我们来得到哪些基因里面包含`NANOG` 的节点信息\n",
    "#This is for those gene names contain 'NANOG' strings.\n",
    "#TargetNodes <- AllgeneName[grep('NANOG',AllgeneName$geneName, fixed = FALSE), ]\n",
    "\n",
    "#Find out node id of `NANOG` as gene name \n",
    "TargetNodes <- AllgeneName[which(AllgeneName$geneName == 'NANOG'), ]"
   ]
  },
  {
   "cell_type": "code",
   "execution_count": null,
   "metadata": {},
   "outputs": [],
   "source": [
    "TargetNodes"
   ]
  },
  {
   "cell_type": "markdown",
   "metadata": {},
   "source": [
    "<h2 id='8.2'> Step2: To get modules which includes target genes</h2>\n",
    "\n",
    "we use `{}` to input arguments to cypher commands. But at here we need to use cypher command `MATCH (n)   where id(n) in {TargetNodes_NodeID}  with id(n) AS TargetNodes_ID` to get `TargetNodeID` again, then we can follow to match those modules including `TagetNodeID`.\n",
    "\n",
    "For now, we can not find out what's problems at this step if we directly use  `{}` as match arguments in command `where {TargetNodes_ID} in nodeId`.\n",
    "\n",
    "Because sometimes we only one gene as targetNode,we should add `if` as conditions to make query comands efective."
   ]
  },
  {
   "cell_type": "code",
   "execution_count": null,
   "metadata": {},
   "outputs": [],
   "source": [
    "#第二步，我们利用{}来传递TargetNode的ID号，并找出含有这些TargetNode的模块\n",
    "\n",
    "\n",
    "queryLouvainForChr12_TargetNodesInModules =function(TargetNodes){\n",
    "    query = paste(\"\n",
    "        // to make louvain modules for chr12\n",
    "        CALL algo.louvain.stream(\n",
    "          'MATCH (n:chr12)--(m) with id(n) as chr12,id(m) AS m   MATCH (al) where id(al) = m or  id(al) = chr12 return id(al) as id',\n",
    "          'MATCH (n:chr12)-[r]-(m) RETURN id(n) AS source, id(m) AS target',\n",
    "          {graph:'cypher',direction: 'both'})\n",
    "        YIELD nodeId, community\n",
    "\n",
    "        // filtering community which the number of nodes is more than one\n",
    "        with collect(nodeId) AS nodeId , community\n",
    "        where size(nodeId) > 1\n",
    "        with nodeId, 'Module'+ community AS community\n",
    "\n",
    "        // filtering community that had target nodes\n",
    "        MATCH (n)\",\n",
    "\n",
    "\n",
    "        if (length(TargetNodes) != 1){\"where id(n) in {TargetNodes_NodeID}\" }\n",
    "        else{\"where id(n) = {TargetNodes_NodeID}\"},\n",
    "\n",
    "        \"with id(n) AS TargetNodes_ID, n.Name AS TargetNodes_Name, nodeId, community\n",
    "        where TargetNodes_ID in nodeId\n",
    "        return nodeId, community,collect(TargetNodes_ID) AS TargetNodes_ID ,collect(TargetNodes_Name) AS TargetNodes_Name\n",
    "        \"\n",
    "        ,sep = ' ')\n",
    "    return(query)\n",
    "}"
   ]
  },
  {
   "cell_type": "code",
   "execution_count": 55,
   "metadata": {},
   "outputs": [],
   "source": [
    "query = queryLouvainForChr12_TargetNodesInModules(TargetNodes$NodeID)\n",
    "chr12Mod <- cypher(graph, query,TargetNodes_NodeID = TargetNodes$NodeID)"
   ]
  },
  {
   "cell_type": "markdown",
   "metadata": {},
   "source": [
    "The result is a data.frame including all nodes ids in each community, community, TargetNodes_ID and TargetNodes_Name."
   ]
  },
  {
   "cell_type": "code",
   "execution_count": 56,
   "metadata": {
    "scrolled": true
   },
   "outputs": [
    {
     "data": {
      "text/html": [
       "<table>\n",
       "<caption>A data.frame: 1 × 4</caption>\n",
       "<thead>\n",
       "\t<tr><th scope=col>nodeId</th><th scope=col>community</th><th scope=col>TargetNodes_ID</th><th scope=col>TargetNodes_Name</th></tr>\n",
       "\t<tr><th scope=col>&lt;list&gt;</th><th scope=col>&lt;chr&gt;</th><th scope=col>&lt;int&gt;</th><th scope=col>&lt;chr&gt;</th></tr>\n",
       "</thead>\n",
       "<tbody>\n",
       "\t<tr><td>862807, 862804, 860190, 860122, 860077, 860054, 860049, 860046, 859936, 859882, 852474, 834688, 834678, 834677, 834663, 834662, 834624, 834623, 834622, 834621, 834620, 834619, 834618, 834579, 834578, 834540, 834539, 834497, 834496, 834434, 834433, 834432, 834431, 834430, 834429, 834428, 834427, 834413, 834412, 834390, 834389, 834367, 834366, 834365, 834330, 834329, 834296, 834295, 834294, 834282, 834281, 834242, 834208, 834207, 834195, 834194, 834193, 834192, 834185, 834177, 834169, 834168, 834167, 834162, 834161, 834160, 834133, 834132, 834131, 834130, 834121, 834120, 834119, 834118, 834117, 834116, 834115, 834098, 834081, 834080, 834034, 834033, 833896, 833836, 833835, 833834, 833826, 833821, 833820, 833788, 833774, 833773, 833772, 833771, 833743, 833742, 833741, 833723, 833716, 833715, 833714, 833675, 833674, 833673, 833628, 833627, 833626, 833615, 833614, 833613, 833612, 833578, 833577, 833576, 806621, 9747, 862861, 861443, 861433, 861430, 861429, 861320, 861262, 861250, 861248, 861242, 840011, 840010, 840008, 840003, 839995, 839994, 839982, 839981, 839980, 839979, 839978, 839977, 9757, 1261043, 1260827, 1260659, 1260529, 866215, 862895, 862890, 862889, 861241, 861240, 861239, 853375, 841303, 841221, 841217, 841216, 841212, 841204, 841203, 841202, 841199, 841188, 841187, 841186, 9759, 1260910, 1260907, 1260906, 861936, 861667, 861666, 861664, 861658, 861657, 861656, 861635, 855600, 841808, 841806, 841805, 841804, 841803, 841802, 841801, 841800, 841798, 841794, 841793, 841786, 841785, 841784, 841778, 9763, 866229, 862402, 862374, 862252, 845458, 845364, 845359, 9768, 1261052, 1260920, 1260850, 866227, 866097, 862946, 862532, 862510, 862506, 862505, 856042, 855957, 855955, 855931, 855930, 855927, 855918, 855917, 855916, 854597, 845882, 845881, 845878, 809769, 809701, 809700, 809699, 809690, 809637, 809633, 809626, 809625, 809622, 809611, 809610, 809608, 809607, 809603, 809602, 808292, 9770, 856906, 856905, 856733, 856675, 856652, 856651, 854690, 854689, 853840, 813978, 813595, 813431, 813417, 813416, 813407, 813406, 813370, 813328, 813321, 9775, 1260866, 1260865, 863334, 862621, 856607, 850549, 850548, 850547, 847109, 814898, 814878, 814851, 814424, 814186, 814152, 804673, 804672, 804671, 9776, 857072, 856998, 856997, 856930, 856923, 856922, 856915, 856614, 856613, 815714, 815487, 815449, 815173, 815051, 815024, 815023, 815022, 815018, 815017, 815002, 814948, 814947, 814930, 814926, 814917, 9777, 864089, 858131, 858130, 858129, 858126, 858125, 858124, 858122, 858121, 858120, 858118, 858117, 858114, 855760, 855748, 854941, 847864, 822955, 822954, 822953, 822952, 822951, 822950, 822949, 822948, 822947, 822946, 822945, 822944, 822943, 822942, 822941, 822939, 822938, 822937, 822936, 822935, 822929, 822928, 822925, 822924, 822923, 822922, 822918, 805574, 9788, 858144, 858142, 858141, 858140, 858139, 858138, 858137, 858136, 858135, 858134, 858133, 858132, 858128, 858123, 855761, 822987, 822986, 822985, 822984, 822983, 822982, 822981, 822980, 822979, 822978, 822977, 822973, 822972, 822971, 822970, 822969, 822968, 822957, 822956, 9789, 858147, 858146, 858145, 855758, 823002, 823001, 823000, 822995, 809175, 809174, 809173, 809172, 809171, 809170, 809169, 9790, 858159, 858143, 823010, 823006, 9791, 862677, 858203, 858188, 858187, 858186, 858166, 858164, 851483, 823208, 823199, 823190, 823184, 823183, 823182, 808512, 805623, 805622, 805621, 805620, 805619, 9796, 862681, 858236, 858234, 858233, 858231, 858230, 858229, 858228, 858227, 858225, 858223, 858222, 858220, 858219, 858218, 858217, 858216, 858215, 858206, 855768, 855000, 854999, 854998, 854028, 851498, 851497, 851496, 851495, 851494, 851493, 846203, 846202, 823389, 823386, 823377, 823376, 823375, 823374, 823373, 823372, 823371, 823370, 823368, 823367, 823364, 823363, 823362, 823361, 823360, 823359, 823358, 823357, 823356, 823355, 823354, 823353, 823352, 823351, 823350, 823349, 823348, 823347, 823346, 823345, 823344, 823343, 823339, 823338, 823337, 823336, 823333, 823332, 823331, 823330, 823329, 823328, 823327, 823326, 823325, 823324, 823323, 823319, 823318, 823317, 823316, 823315, 823314, 823313, 823312, 823311, 823310, 823309, 823308, 823307, 823306, 823305, 823304, 823298, 823297, 823296, 823295, 823294, 823293, 823292, 823291, 823290, 809185, 809184, 809183, 809182, 809181, 808513, 808074, 805635, 805634, 805633, 805632, 805631, 805630, 805629, 805628, 9799, 864119, 858259, 858257, 858255, 858250, 858248, 855766, 854030, 851511, 851510, 851509, 851508, 851507, 851506, 847895, 823529, 823528, 823522, 823521, 823515, 823514, 823513, 823505, 823504, 823498, 808516, 808076, 805646, 805645, 805644, 805643, 805642, 9802, 858266, 858265, 858264, 858263, 858262, 858261, 823551, 823550, 823546, 823545, 823544, 823543, 823542, 823530, 9803, 858268, 858260, 823601, 9805, 858273, 823613, 823612, 823610, 809189, 809188, 9806, 9807, 858272, 9808, 858294, 823660, 823659, 9809, 858293, 823678, 823677, 9810, 805665, 9811, 858366, 858356, 858344, 858330, 858329, 858328, 858325, 858318, 858309, 858306, 823782, 823781, 823780, 823779, 823778, 823777, 823767, 823766, 823765, 823764, 823763, 823761, 823760, 823753, 823752, 823751, 823750, 823749, 823748, 823747, 823746, 823745, 823740, 823739, 823738, 823737, 823736, 823735, 823734, 823733, 823732, 823731, 823730, 823729, 823728, 823727, 823726, 823721, 823720, 823718, 805666, 9813, 864140, 862688, 858354, 858348, 858339, 858338, 858336, 858335, 858333, 858332, 858331, 858319, 847916, 846213, 823805, 823804, 823803, 823802, 823801, 823800, 823790, 823789, 823786, 823784, 823783, 9814, 858357, 858355, 858352, 858351, 858323, 858317, 858315, 858314, 858313, 858312, 858311, 858308, 858307, 858297, 823864, 823863, 823862, 823861, 823860, 823859, 823858, 823857, 823856, 823855, 823854, 823853, 823852, 823851, 823850, 823849, 823848, 823847, 823846, 823845, 823844, 823843, 823842, 823841, 823840, 823839, 823838, 823837, 823836, 823829, 823827, 823826, 823818, 823815, 823814, 823813, 823812, 9815, 858296, 823867, 823866, 823865, 862689, 858380, 858379, 858378, 858377, 858376, 858365, 858321, 855007, 846215, 823972, 823965, 823961, 823958, 823957, 823953, 823952, 823951, 823950, 823949, 823948, 823947, 823946, 823945, 823944, 823943, 823942, 809192, 809191, 9817, 858421, 858420, 858419, 858418, 858416, 858413, 858412, 858411, 858410, 855017, 824095, 824089, 824088, 824080, 824079, 824078, 824077, 824076, 824073, 824072, 824071, 824070, 824065, 824064, 824063, 824062, 824061, 824060, 824059, 824058, 824057, 824056, 824055, 824054, 824053, 808527, 808526, 808525, 808524, 808523, 9820, 858439, 858438, 858437, 858435, 858434, 858433, 858432, 858431, 855016, 824122, 824120, 824119, 824112, 824111, 824110, 824109, 824108, 824102, 824099, 824098, 824097, 824096, 809195, 808528, 9821, 858441, 858427, 858426, 858415, 855011, 855010, 846220, 824148, 824147, 824146, 824145, 824144, 824143, 824138, 824137, 824136, 824135, 824123, 824121, 808530, 808529, 9822, 1260396, 858447, 858446, 858445, 858444, 858443, 855015, 824180, 824179, 824178, 824156, 824155, 824154, 824153, 809198, 809197, 809196, 805679, 9823, 1260881, 858454, 858424, 855018, 855014, 855013, 824205, 824192, 809200, 809199, 9824, 1260882, 855019, 809201, 9825, 9826, 1261065, 1260591, 864153, 864152, 864151, 864150, 858469, 855778, 855777, 855775, 847929, 847928, 847927, 847926, 824301, 9827, 866154, 866153, 864167, 864166, 864164, 864158, 858500, 858498, 858495, 858485, 858483, 858482, 858481, 858480, 858478, 858476, 855782, 855780, 855024, 855023, 847942, 847941, 847940, 847939, 846225, 824368, 824364, 824363, 824362, 824361, 824360, 824359, 824358, 824357, 824356, 824355, 824354, 824353, 824352, 824351, 824350, 824349, 824348, 824347, 824346, 824345, 824344, 824343, 824342, 824336, 809204, 809203, 808533, 9829, 1260975, 862701, 862699, 862698, 858499, 858497, 858496, 858494, 858491, 858490, 858488, 858484, 846226, 824379, 824377, 824376, 824375, 824374, 824373, 824372, 824371, 824370, 824369, 9830, 824380, 824378, 858536, 858534, 858533, 858532, 858531, 858530, 858529, 858527, 858526, 858525, 824536, 824533, 824532, 824531, 824530, 824529, 824528, 824527, 824523, 824522, 824516, 9835, 858539, 858538, 858537, 824545, 824544, 824543, 824539, 824538, 824537, 9836, 864177, 858541, 858540, 851555, 851554, 847952, 824574, 824565, 824564, 824563, 824557, 805693, 805692, 9837, 864181, 864180, 864179, 864178, 858543, 858542, 858528, 847956, 847955, 847954, 847953, 824597, 824586, 824581, 824580, 9838, 864191, 864190, 864189, 864188, 864187, 864186, 864185, 864184, 864183, 864182, 858594, 858544, 847966, 847965, 847964, 847963, 847962, 847961, 847960, 847959, 847958, 847957, 824641, 9839, 864194, 858605, 858602, 858599, 858596, 858595, 858592, 858591, 858584, 858583, 858582, 858580, 858577, 858564, 847969, 824745, 824744, 824739, 824738, 824737, 824726, 824725, 824724, 824723, 824722, 824721, 824720, 824719, 824713, 824712, 824711, 824710, 824709, 824708, 824704, 824696, 824695, 824694, 824693, 824692, 824691, 824690, 824686, 824685, 824684, 824683, 824682, 9841, 858590, 858589, 858588, 858586, 858585, 858579, 858573, 858571, 858568, 858565, 858562, 824793, 824792, 824791, 824790, 824789, 824788, 824784, 824783, 824782, 824781, 824780, 824779, 824778, 824765, 824764, 824759, 824758, 824757, 824756, 824755, 824754, 824753, 824752, 824750, 824746, 9842, 1260401, 862709, 858601, 858581, 858578, 858576, 858575, 858574, 858570, 858566, 858563, 858561, 858555, 858554, 858551, 858550, 858549, 846251, 824869, 824868, 824867, 824866, 824865, 824864, 824863, 824862, 824861, 824860, 824859, 824858, 824857, 824856, 824855, 824854, 824853, 824852, 824851, 824850, 824849, 824848, 824847, 824846, 824845, 824844, 824842, 824841, 824840, 824839, 824838, 824837, 824836, 824835, 824834, 824829, 824828, 824827, 824826, 824825, 824824, 824823, 824822, 824821, 824820, 824819, 824818, 824817, 824816, 824815, 824814, 824813, 824812, 824801, 824800, 824799, 824798, 824797, 824796, 824795, 824794, 9843, 866156, 864199, 864198, 864197, 864196, 864195, 858604, 858603, 858597, 858587, 858569, 858567, 858560, 858559, 858558, 858557, 858556, 858553, 858552, 858535, 850034, 847974, 847973, 847972, 847971, 847970, 824925, 824924, 824923, 824922, 824921, 824916, 824915, 824914, 824913, 824912, 824911, 824910, 824904, 824898, 824897, 824896, 824895, 824894, 824893, 824892, 824891, 824888, 824887, 824886, 824885, 824884, 824883, 824882, 824879, 824878, 824877, 824876, 824875, 824874, 824873, 824872, 824871, 9844, 866158, 864275, 864274, 864272, 864270, 858972, 858969, 858967, 858952, 858949, 858948, 858944, 858915, 858911, 854040, 851618, 850039, 848051, 848050, 827041, 827037, 827036, 827035, 827034, 827033, 827028, 827027, 827026, 827024, 827023, 827022, 827021, 827020, 827019, 827018, 827013, 827012, 827011, 827010, 827009, 827008, 827007, 827006, 827005, 827004, 805757, 9862, 864278, 864277, 864276, 862743, 858954, 858953, 858950, 858947, 858941, 858918, 858914, 858912, 858900, 858871, 848054, 848053, 848052, 846280, 846279, 827084, 827083, 827081, 827080, 827077, 827076, 827073, 827072, 827071, 827070, 827069, 827068, 827067, 827066, 827064, 827062, 827061, 827056, 827055, 827043, 827042, 827040, 9863, 858966, 858962, 858961, 858960, 858958, 858957, 858955, 858945, 858942, 858921, 858904, 827119, 827118, 827117, 827116, 827115, 827114, 827113, 827112, 827108, 827107, 827106, 827105, 827104, 827103, 827099, 827098, 827097, 827092, 827091, 827090, 827089, 827088, 827087, 827086, 827085, 805758, 9864, 858970, 858968, 858951, 858946, 858940, 858938, 858937, 858934, 858923, 858922, 858909, 858908, 858903, 858902, 858898, 858894, 858893, 858889, 858875, 858872, 827209, 827208, 827207, 827206, 827205, 827204, 827203, 827202, 827201, 827200, 827199, 827198, 827197, 827196, 827195, 827194, 827193, 827192, 827191, 827190, 827189, 827185, 827184, 827183, 827182, 827180, 827179, 827178, 827177, 827176, 827175, 827174, 827171, 827170, 827169, 827168, 827167, 827166, 827165, 827164, 827163, 827162, 827161, 827160, 827155, 827154, 827153, 827152, 827151, 827150, 827149, 827148, 827147, 827146, 827145, 827144, 827143, 827142, 827141, 827140, 827139, 827138, 827137, 827134, 827133, 827129, 827125, 827124, 9865, 1260981, 1260408, 864282, 864281, 864280, 862747, 858985, 858980, 858979, 858978, 858976, 858973, 858943, 851624, 848058, 848057, 848056, 846284, 827232, 827231, 827230, 827229, 827228, 827227, 827226, 827225, 827224, 827223, 827222, 827221, 827216, 827215, 827214, 827212, 827211, 827210, 805764, 9866, 1261068, 1261067, 864285, 864284, 864283, 858995, 858991, 858989, 858987, 858986, 858984, 858983, 858982, 858981, 858977, 851625, 848061, 848060, 848059, 827263, 827261, 827260, 827259, 827258, 827257, 827256, 827251, 827248, 827247, 827246, 827245, 827244, 827243, 827242, 827241, 827240, 827239, 827238, 827237, 827236, 808084, 805765, 804309, 9867, 862748, 859065, 859058, 859046, 859025, 859009, 859006, 859003, 859002, 858997, 858994, 855052, 854045, 846287, 846286, 846285, 827308, 827307, 827306, 827305, 827304, 827303, 827302, 827301, 827300, 827299, 827298, 827295, 827294, 827293, 827292, 827291, 827290, 827289, 827288, 827287, 827286, 827285, 827284, 827283, 827282, 827281, 827280, 827279, 827274, 827273, 827272, 827271, 827270, 827269, 827268, 827267, 827266, 808552, 9868, 859049, 859038, 859036, 859031, 859017, 827381, 827379, 827378, 827375, 827374, 827373, 827372, 827371, 827370, 827369, 827368, 827364, 827361, 827359, 9870, 859037, 859035, 859034, 859033, 859032, 859030, 859014, 859010, 858998, 858992, 858988, 827403, 827399, 827398, 827397, 827396, 827395, 827394, 827393, 827392, 827391, 827390, 827389, 827388, 827387, 827386, 827385, 827384, 827383, 827382, 827380, 9871, 827408, 827407, 827406, 827405, 827404, 859179, 828148, 828147, 828146, 9886, 804318, 9887, 859188, 859182, 859177, 851664, 828185, 828184, 828173, 805807, 805806, 805805, 9890, 1260606, 1260605, 1260418, 1260417, 864338, 864337, 864336, 859200, 848114, 848113, 848112, 828216, 9892, 859209, 828240, 828239, 828238, 9894, 9895, 9897, 9898, 9899, 9901, 9903, 9905, 9908, 9909, 859231, 828437, 9910, 855082, 808574, 9912, 9913, 9914, 9916, 864343, 851672, 848121, 848120, 848119, 805818, 805817, 805816, 805815, 805814, 805813, 9917, 859266, 859265, 828554, 828553, 828551, 828546, 9920, 1260919, 1260612, 1260421, 864358, 864357, 864356, 864355, 862951, 859271, 859270, 859269, 859268, 859267, 851682, 848134, 848133, 848132, 848131, 846725, 846724, 828564, 828563, 828562, 828561, 828557, 828556, 828555, 809245, 808575, 805824, 9921, 1261051, 859278, 859277, 828581, 828580, 828579, 828578, 9923, 1260988, 1260422, 855814, 809249, 809248, 809247, 9924, 855815, 828598, 809250, 9925, 859290, 859285, 828627, 828626, 828625, 828613, 828612, 9926, 859303, 859302, 859300, 859296, 859291, 828646, 828645, 828644, 828642, 828641, 828640, 828639, 828638, 828637, 828636, 828635, 828633, 828632, 828631, 828630, 9927, 859301, 859299, 859298, 859297, 828650, 828649, 828648, 9928, 828661, 828660, 9929, 859393, 859383, 859381, 859380, 859379, 859376, 859373, 859369, 859367, 859361, 859357, 859355, 859349, 859348, 859347, 859346, 859336, 851701, 828939, 828938, 828937, 828936, 828935, 828934, 828933, 828932, 828929, 828928, 828926, 828925, 828924, 828923, 828922, 828921, 828920, 828919, 828918, 828916, 828914, 828913, 828912, 828911, 828910, 828908, 828907, 828906, 828905, 805845, 9935, 862768, 859389, 859387, 859386, 859385, 859382, 859371, 859366, 859365, 859360, 859358, 859350, 859345, 859343, 828977, 828976, 828975, 828972, 828970, 828969, 828968, 828967, 828965, 828964, 828963, 828962, 828961, 828960, 828959, 828958, 828957, 828956, 828953, 828951, 828950, 828949, 828944, 828943, 828942, 828941, 828940, 9936, 864376, 859395, 859370, 859354, 859353, 859352, 859351, 859342, 859334, 859333, 859329, 859328, 859326, 848152, 846317, 829071, 829070, 829069, 829068, 829067, 829062, 829061, 829060, 829059, 829058, 829057, 829056, 829055, 829054, 829053, 829052, 829051, 829050, 829049, 829048, 829047, 829046, 829045, 829044, 829043, 829039, 829038, 829037, 829036, 829035, 829034, 829033, 829032, 829031, 829030, 829029, 829028, 829027, 829026, 829025, 829024, 829023, 829022, 829021, 829020, 829018, 829017, 829016, 829015, 829014, 829013, 829012, 829011, 829010, 829009, 829008, 829007, 829006, 829005, 829004, 829003, 829002, 829001, 828997, 828996, 828995, 828994, 828993, 828992, 828991, 828990, 828989, 828988, 828987, 828982, 828981, 828979, 828978, 9937, 1260619, 1260429, 859408, 859403, 829084, 829078, 9938, 859427, 859423, 829129, 829128, 829127, 829126, 829125, 829124, 829123, 9941, 9942, 804324, 9943, 859432, 829140, 9944, 864400, 864399, 859479, 859476, 859475, 859472, 859453, 859445, 859441, 859440, 859439, 859437, 848175, 848174, 829274, 829273, 829272, 829271, 829270, 829269, 829268, 829267, 829266, 829265, 829264, 829263, 829261, 829260, 829259, 829258, 829257, 829256, 829255, 829254, 829253, 829252, 829251, 829247, 829246, 829245, 829244, 829243, 829242, 829241, 829240, 805880, 805879, 805877, 805876, 805875, 9948, 864426, 864425, 864424, 864423, 864422, 864421, 864420, 864419, 864418, 864417, 864416, 864414, 864413, 864412, 864409, 864408, 864406, 862772, 859492, 859491, 859490, 859489, 859488, 859487, 859486, 859481, 859480, 855094, 854055, 851757, 851751, 851750, 851749, 851748, 851747, 851746, 851744, 851743, 851740, 848205, 848204, 848203, 848202, 848201, 848200, 848199, 848198, 848197, 848196, 848195, 848194, 848193, 848192, 848191, 829329, 829328, 829327, 829326, 829325, 829324, 829323, 829322, 829321, 829320, 829319, 829318, 829317, 829316, 829315, 829311, 829307, 829306, 808094, 805903, 805902, 805901, 805900, 805899, 805898, 805897, 805896, 805895, 805894, 805893, 805892, 805891, 805890, 9950, 864480, 864479, 859621, 859620, 859609, 859606, 859600, 859595, 859593, 859591, 859588, 859494, 848255, 848254, 830156, 830155, 830154, 830153, 830152, 830151, 830150, 830149, 830148, 830147, 830146, 830145, 830144, 830143, 830142, 830141, 830140, 830139, 830138, 830137, 830136, 830135, 830134, 830133, 830132, 830131, 830130, 830129, 830128, 830127, 830126, 830125, 830123, 830122, 830121, 830120, 830119, 830118, 830117, 9958, 1260639, 862800, 859976, 859974, 859965, 859964, 859962, 859961, 859957, 859946, 855216, 855195, 854158, 854142, 852235, 852231, 846402, 832761, 832759, 832758, 832757, 832756, 832755, 832753, 832752, 832751, 832749, 832746, 832739, 832738, 832737, 832730, 832729, 832728, 832727, 832726, 832725, 832724, 832721, 832720, 832719, 832718, 832717, 832716, 832713, 832712, 832711, 832710, 832709, 832708, 832707, 832706, 832705, 832704, 832703, 832702, 832701, 832700, 832699, 832698, 832697, 832696, 832695, 832694, 832693, 832692, 832691, 832690, 832689, 832688, 832687, 832686, 832685, 832684, 832683, 832682, 832681, 832680, 832679, 832678, 832677, 832676, 832675, 832674, 832673, 832672, 832671, 832670, 832669, 832668, 832667, 832666, 832665, 832664, 832663, 832662, 832661, 832660, 832659, 832658, 832657, 832656, 832655, 832654, 832653, 832652, 832651, 832650, 832649, 832648, 832647, 832646, 832645, 832644, 809322, 806382, 9978, 860212, 834811, 834810, 9997, 1260645, 860216, 860215, 860214, 860213, 855306, 855296, 834829, 834828, 834823, 834822, 834819, 834818, 9998, 860512, 860500, 860499, 860491, 860483, 860480, 860469, 860467, 860466, 860438, 860437, 860436, 860435, 860434, 860433, 846504, 846503, 836246, 836244, 836243, 836242, 836241, 836233, 836232, 836231, 836230, 836229, 836225, 836224, 836223, 836222, 836221, 836220, 836219, 836218, 836217, 836216, 836211, 836210, 836209, 836208, 836207, 836206, 836205, 836204, 836203, 836202, 836201, 836200, 836199, 836198, 836197, 836196, 836195, 836194, 836193, 836192, 836191, 836190, 836189, 836188, 836182, 836180, 836179, 10012, 862844, 860497, 860496, 860495, 860490, 860489, 860488, 860487, 860486, 860485, 860479, 860463, 846510, 836432, 836431, 836430, 836429, 836422, 836421, 836420, 836419, 836418, 836414, 836413, 836412, 836411, 836410, 836409, 836408, 836407, 836406, 836405, 836401, 836400, 836399, 836398, 836397, 836389, 836388, 836387, 836386, 836385, 836384, 836383, 836374, 836373, 10014, 1260496, 860528, 860515, 860423, 860414, 836617, 836611, 836609, 836606, 836605, 836604, 836603, 836602, 10017, 1261025, 1260648, 1260647, 860517, 860516, 855366, 846513, 836619, 836618, 808753, 807055, 10018, 860526, 860525, 860524, 860523, 860522, 860521, 860520, 852908, 851665, 836648, 836647, 836641, 836640, 836639, 836637, 836635, 10019, 860543, 860540, 860532, 860531, 860529, 860518, 836658, 836657, 836656, 836651, 836650, 836649, 10020, 860539, 860534, 860527, 860519, 852909, 836665, 836664, 836663, 807056, 10021, 860533, 860530, 836692, 836691, 836688, 836687, 836686, 836685, 10023, 860545, 860544, 860542, 836694, 836693, 10024, 860574, 10025, 852912, 807059, 10026, 860561, 836731, 10027, 860567, 860566, 836750, 836749, 836748, 10028, 836756, 836755, 10029, 860572, 860571, 836765, 10030, 1260805, 1260503, 860632, 860631, 860630, 860629, 860628, 860627, 860621, 860612, 855376, 854441, 837091, 837081, 837080, 837079, 837078, 837077, 837076, 837075, 837074, 837073, 837072, 837071, 837070, 837069, 837068, 837067, 809421, 10036, 860636, 860635, 860634, 837107, 837106, 10037, 862845, 860637, 837109, 837108, 10038, 1260505, 866199, 865467, 865463, 865462, 860697, 860694, 860693, 860692, 860691, 860655, 860652, 860651, 860650, 860647, 860646, 855392, 855391, 855390, 854454, 854453, 854450, 853056, 853052, 853051, 853049, 853048, 853047, 853045, 853038, 853028, 853019, 853006, 853005, 849244, 849242, 849238, 849237, 837464, 837463, 837461, 837460, 837452, 837451, 837450, 837446, 837445, 837444, 837443, 837439, 837438, 837437, 837436, 837435, 837434, 837433, 837432, 837431, 837430, 837429, 837428, 837427, 837426, 837425, 837424, 837423, 837422, 837421, 837420, 837419, 837418, 837417, 837416, 837415, 837414, 837413, 837412, 837411, 837410, 837409, 837408, 837407, 837406, 837405, 837404, 837403, 837401, 837399, 837398, 837397, 837396, 837395, 837394, 837393, 837392, 837387, 808226, 807209, 807207, 807205, 807203, 807201, 807200, 10042, 1260809, 1260808, 1260651, 1260507, 1260506, 865479, 865478, 865477, 865476, 865475, 865474, 865472, 865470, 865469, 862846, 860733, 860730, 860728, 860725, 860721, 860719, 860718, 860715, 860708, 860707, 860705, 860704, 860702, 860701, 860700, 860699, 860698, 854463, 853071, 853070, 853069, 853067, 853066, 853065, 853064, 853063, 853062, 853061, 853060, 853058, 853054, 850149, 849254, 849253, 849252, 849251, 849250, 849249, 849247, 849246, 849245, 846539, 846538, 837604, 837603, 837601, 837600, 837599, 837598, 837597, 837596, 837595, 837594, 837593, 837591, 837590, 837589, 837588, 837587, 837586, 837585, 837584, 837583, 837582, 837581, 837580, 837579, 837578, 837577, 837576, 837575, 837574, 837573, 837572, 837571, 837570, 837569, 837568, 837567, 837566, 837565, 837564, 837563, 837562, 837561, 837560, 837559, 837558, 837557, 837556, 837555, 837554, 837553, 837552, 837551, 837550, 837549, 837548, 837547, 837546, 837545, 837544, 837543, 837542, 837541, 837540, 837539, 837538, 837537, 837536, 837535, 837534, 837533, 837532, 837531, 837529, 837528, 837527, 837526, 837525, 837524, 837523, 837522, 837521, 837520, 837519, 837518, 837517, 837516, 837515, 837514, 837513, 837512, 837511, 837510, 837509, 837508, 837507, 837506, 837505, 837504, 837503, 837502, 837501, 837500, 837499, 837498, 837497, 837496, 837495, 837494, 837493, 837492, 837491, 837490, 837489, 837488, 837487, 837486, 837485, 837484, 837483, 837482, 837481, 837480, 837479, 837478, 837477, 837476, 837475, 837474, 837473, 837472, 837471, 837470, 837469, 837468, 837467, 837466, 837465, 837462, 808774, 808228, 808227, 807225, 807224, 807223, 807221, 807220, 807219, 807218, 807216, 807215, 807214, 807213, 807212, 807211, 807210, 10043, 865494, 865493, 862850, 862849, 860769, 860768, 860767, 860766, 860765, 860764, 860756, 860752, 860751, 860750, 860749, 860747, 860744, 860742, 860737, 860736, 855409, 855402, 854468, 853133, 853131, 853129, 853128, 853127, 853126, 849269, 849268, 846541, 837814, 837813, 837810, 837808, 837804, 837803, 837802, 837801, 837800, 837799, 837798, 837797, 837796, 837795, 837794, 837793, 837792, 837791, 837790, 837789, 837788, 837787, 837786, 837785, 837784, 837783, 837782, 837773, 808783, 808234, 807282, 807280, 807279, 807278, 807277, 807276, 807275, 10046, 865496, 862847, 860836, 860822, 860811, 860802, 860798, 860797, 860795, 860775, 860773, 860772, 860771, 860770, 855408, 854469, 854465, 853130, 849271, 846545, 846544, 846543, 846542, 837944, 837943, 837942, 837940, 837939, 837938, 837937, 837936, 837935, 837934, 837933, 837932, 837931, 837930, 837929, 837928, 837927, 837926, 837925, 837924, 837923, 837922, 837921, 837920, 837919, 837916, 837915, 837914, 837913, 837912, 837911, 837910, 837909, 837908, 837907, 837906, 837905, 837904, 837903, 837902, 837901, 837900, 837899, 837898, 837897, 837896, 837895, 837888, 837887, 837886, 837885, 837884, 837883, 837882, 837881, 837880, 837879, 837878, 837877, 837876, 837875, 837874, 837873, 837872, 837871, 837870, 837869, 837868, 837867, 837866, 837865, 837864, 837863, 837862, 837861, 837860, 837859, 837858, 837857, 837856, 837855, 837854, 837853, 837852, 837851, 837842, 837841, 837840, 837839, 837838, 837837, 837836, 837835, 837834, 837833, 837832, 837831, 837830, 837829, 837828, 837827, 837826, 837825, 837824, 837823, 837822, 837821, 837820, 808784, 10047, 1260810, 860875, 860873, 860856, 860855, 860852, 838746, 838745, 838742, 838741, 838740, 838733, 838732, 838731, 838730, 838729, 838728, 838726, 838717, 10053, 865541, 860887, 860884, 860883, 860882, 860881, 860880, 860878, 860877, 860876, 860874, 860863, 860860, 853192, 849316, 838772, 838766, 838765, 838764, 838763, 838762, 838761, 838757, 838756, 838755, 838754, 838753, 838747, 807343, 807342, 10054, 1261074, 1261035, 1260513, 865561, 860902, 860900, 860899, 860898, 860897, 860896, 860895, 853206, 853204, 853203, 853201, 853200, 853199, 849336, 838803, 838802, 838798, 838797, 838796, 838789, 838788, 838787, 838785, 838784, 809455, 807358, 807357, 807356, 807355, 807354, 807353, 807352, 807351, 10056, 865583, 862857, 860980, 860979, 860978, 860977, 860975, 860974, 860973, 860972, 860947, 860941, 860934, 860911, 860901, 849358, 839096, 839095, 839094, 839093, 839089, 839085, 839084, 839083, 839082, 839081, 839079, 839078, 839077, 839072, 839071, 839070, 839069, 839068, 839067, 839066, 10061, 861053, 861052, 861050, 861045, 861044, 861043, 861042, 861040, 861038, 861035, 861034, 861033, 861031, 861030, 846580, 839439, 839438, 839437, 839436, 839435, 839432, 839431, 839430, 839429, 839428, 839427, 839426, 839425, 839424, 839423, 839422, 839421, 839420, 839419, 839418, 839417, 839416, 839415, 839414, 839413, 839412, 839411, 839410, 839409, 839408, 839407, 839405, 839404, 839403, 839402, 839401, 839400, 839399, 839398, 839397, 839396, 839395, 839394, 839393, 839392, 839391, 839390, 839389, 839388, 839387, 809462, 808803, 808802, 807455, 807454, 10066, 1261039, 866202, 865670, 865664, 865660, 865658, 865657, 865656, 865655, 865654, 865653, 865650, 865649, 865648, 865647, 865646, 865645, 865644, 862864, 862863, 861084, 861077, 861072, 861066, 861060, 861056, 861055, 861054, 861041, 861039, 861032, 861028, 855868, 855479, 855478, 855472, 855471, 854512, 854511, 853312, 853310, 853305, 853304, 853301, 853300, 850162, 849445, 849439, 849438, 849435, 849433, 849432, 849431, 849430, 849429, 849428, 849425, 849424, 849423, 849422, 849421, 849420, 849419, 839467, 839465, 839464, 839463, 839462, 839461, 839460, 839459, 839458, 839456, 839455, 839454, 839453, 839452, 839451, 839450, 839449, 839448, 839447, 839446, 839445, 839444, 839442, 839441, 839440, 808804, 808249, 808248, 807469, 807468, 807467, 807465, 807460, 807459, 807458, 10067, 839470, 839469, 839468, 839466, 839457, 865743, 861163, 861162, 861161, 849519, 839787, 839786, 839780, 839779, 839778, 808896, 10075, 866209, 866208, 862867, 861164, 855871, 855510, 855509, 839799, 839798, 839797, 808819, 10076, 1260819, 865770, 865769, 865767, 865766, 862870, 861200, 861199, 861197, 861195, 861194, 861193, 861190, 861189, 861188, 861187, 861186, 861185, 861184, 855517, 855516, 855493, 853428, 850173, 849546, 849545, 846598, 846597, 839878, 839877, 839876, 839875, 839874, 839873, 839872, 839871, 839870, 839869, 839868, 839867, 839866, 839865, 839864, 839863, 839862, 808259, 807584, 10080, 861215, 861214, 861213, 861212, 861211, 861210, 861209, 861208, 861207, 861206, 861204, 861203, 861202, 861201, 861198, 861196, 855519, 854543, 839904, 839900, 839899, 839898, 839897, 839896, 839895, 839894, 839893, 839892, 839891, 839890, 839881, 839880, 839879, 807585, 10081, 861232, 861231, 861230, 861229, 861228, 861227, 861226, 861224, 861223, 839963, 839962, 839959, 839958, 839957, 839956, 839955, 839954, 839953, 839945, 839944, 10083, 861235, 861234, 839968, 839965, 10084, 865777, 861247, 849553, 10085, 807593, 10086, 10087, 10088, 10089, 866213, 807599, 807598, 10090, 865785, 865783, 865782, 855524, 849561, 849559, 10092, 849562, 853443, 10094, 853449, 853448, 840009, 809478, 807610, 807609, 10095, 861254, 861253, 861251, 840013, 840012, 10096, 861445, 861444, 861441, 861438, 861437, 861436, 861435, 861419, 861418, 861417, 861416, 841222, 841220, 841219, 841218, 841215, 841214, 841213, 841211, 841210, 841209, 841208, 841207, 10108, 861447, 861446, 861442, 861415, 861414, 861406, 855551, 841234, 841233, 841232, 841231, 841230, 841229, 841228, 841227, 841226, 841225, 841224, 841223, 10109, 861457, 861453, 861452, 861451, 861450, 861449, 861448, 855552, 853524, 841248, 841247, 841246, 841245, 841244, 841243, 841242, 841241, 841240, 841239, 841238, 841237, 841236, 841235, 809501, 807685, 10110, 861471, 861470, 861469, 861467, 861465, 861464, 861463, 861462, 861461, 861460, 861459, 861458, 861456, 861455, 861454, 841278, 841277, 841276, 841275, 841274, 841273, 841272, 841271, 841270, 841269, 841268, 841267, 841266, 841265, 841264, 841263, 841262, 841261, 841260, 841259, 841258, 841257, 841253, 841252, 841251, 841250, 841249, 10111, 861505, 861504, 861503, 861484, 861481, 861477, 861476, 861473, 861472, 855879, 841291, 841290, 841289, 841287, 841286, 841285, 841283, 841282, 841281, 807686, 10112, 1260658, 861502, 861501, 861496, 861490, 861487, 861485, 861482, 841306, 841305, 841304, 841302, 841301, 841300, 841299, 841298, 841295, 841294, 841293, 841292, 841288, 10113, 861495, 861493, 841312, 841311, 841310, 841309, 841308, 841307, 10114, 1261044, 1260528, 861498, 861497, 861494, 861491, 855881, 855880, 841315, 841314, 841313, 809503, 809502, 10115, 861500, 861499, 861492, 861483, 861478, 853527, 853526, 853525, 841323, 841322, 841321, 841319, 841318, 841317, 841316, 807689, 807688, 807687, 10116, 861508, 861506, 861488, 861486, 861480, 861479, 861475, 861474, 861468, 861466, 841336, 841335, 841334, 841333, 841332, 841331, 841330, 841329, 841328, 841327, 841326, 841325, 841324, 809507, 809506, 809505, 809504, 807690, 10117, 861579, 861539, 861533, 861532, 861530, 861524, 861523, 861518, 861517, 854554, 854553, 853534, 853533, 853531, 853529, 841411, 841410, 841409, 841408, 841407, 841406, 841405, 841404, 841403, 841402, 841401, 841400, 841399, 841398, 841397, 841396, 841395, 841394, 841393, 841392, 841391, 841390, 841389, 841388, 841387, 841386, 841385, 841384, 841383, 841382, 841381, 841380, 841379, 841378, 841377, 841376, 841375, 841374, 841373, 841372, 841371, 841370, 841369, 841367, 841364, 841363, 841362, 841361, 841360, 841359, 841358, 841357, 841356, 841355, 841354, 841353, 841352, 841351, 841350, 841349, 841348, 841347, 841346, 841345, 841344, 841343, 841342, 841341, 841340, 841339, 841338, 841337, 809509, 809508, 808266, 807706, 807705, 807704, 807703, 807702, 807701, 807700, 807699, 807698, 807697, 807696, 807695, 807694, 807693, 807692, 807691, 10118, 865849, 861569, 861565, 861564, 861563, 861562, 861561, 861559, 861551, 861550, 861534, 861521, 861511, 861510, 853562, 853561, 849624, 841584, 841582, 841581, 841580, 841579, 841578, 841577, 841576, 841575, 841574, 841573, 841572, 841571, 841570, 841569, 841568, 841567, 841566, 841562, 841561, 841560, 841559, 841558, 841557, 841556, 841554, 841553, 841552, 841551, 841550, 841546, 841545, 841544, 841543, 10121, 861607, 861582, 861581, 861580, 861558, 861526, 861522, 861515, 841603, 841599, 841598, 841597, 841595, 841594, 841592, 841590, 841589, 841588, 841587, 841586, 841585, 10122, 1260899, 862894, 861604, 861603, 861602, 861600, 861599, 861598, 861597, 861596, 861595, 861594, 861592, 861591, 861590, 861589, 861584, 846641, 841628, 841627, 841626, 841625, 841624, 841623, 841622, 841621, 841620, 841619, 841618, 841615, 841614, 841613, 841610, 841609, 841608, 841607, 841606, 841605, 841604, 807727, 10123, 861601, 861593, 861587, 861586, 861585, 846643, 841644, 841640, 841639, 841638, 841637, 841636, 841635, 841634, 841633, 841632, 841631, 841630, 841629, 10124, 862897, 861606, 861605, 861588, 861583, 841654, 841653, 841652, 841651, 841650, 841649, 841648, 841647, 841646, 841645, 10125, 1260829, 853564, 841663, 841656, 807728, 10126, 1260900, 861608, 10127, 841683, 841682, 841679, 841678, 10128, 1260901, 854560, 807735, 10129, 10130, 10131, 1260903, 861621, 861620, 861619, 861618, 861617, 861616, 855883, 855562, 841714, 841713, 841712, 841710, 809513, 10133, 855884, 853580, 853579, 853578, 853577, 853576, 853575, 809514, 808846, 808270, 807744, 807743, 807742, 807741, 807740, 807739, 10134, 866216, 861624, 853583, 841716, 807747, 10135, 865873, 865872, 865871, 865870, 865869, 865868, 861623, 855563, 850183, 850182, 849648, 849647, 849646, 849645, 849644, 849643, 841717, 10136, 841719, 841718, 10137, 10138, 10139, 853584, 807748, 10140, 10141, 10142, 841739, 10144, 1260532, 861637, 861636, 861634, 861633, 861632, 861631, 861630, 861629, 855570, 855568, 855566, 855565, 846650, 841755, 841754, 841753, 841752, 841751, 841750, 841749, 841748, 841747, 841746, 841745, 841744, 841743, 841742, 809516, 808848, 808847, 807749, 10145, 861628, 861627, 861626, 861625, 855564, 853585, 841762, 841761, 841760, 841759, 841758, 841757, 808849, 10146, 1261045, 1260533, 861638, 855569, 855567, 841765, 841764, 808850, 10147, 861655, 861654, 861653, 861648, 861647, 861646, 861642, 861641, 861640, 841776, 841775, 841774, 841773, 841772, 841771, 841770, 841769, 841768, 841767, 841766, 10148, 861652, 861651, 861650, 841780, 841779, 841777, 10149, 1260904, 1260832, 861675, 861645, 861644, 861643, 861639, 855887, 855886, 855572, 855571, 841789, 841788, 841787, 841783, 841782, 841781, 809518, 808851, 10150, 861665, 861662, 841795, 841792, 841791, 841790, 807751, 10151, 841799, 10152, 861660, 10153, 861690, 861685, 809520, 809519, 10154, 861668, 861661, 841807, 10155, 10156, 861682, 861681, 861680, 861673, 861672, 841819, 841818, 841817, 841816, 841815, 841814, 841813, 841812, 841811, 841810, 841809, 10157, 861683, 861676, 841826, 841825, 841824, 841822, 841821, 841820, 10158, 861684, 861679, 861678, 861677, 855888, 841840, 841839, 841838, 841837, 841833, 841829, 841828, 10159, 861689, 861688, 861686, 861671, 861670, 861663, 861659, 841854, 841853, 841852, 841851, 841849, 841848, 841847, 841846, 841845, 841844, 841843, 841842, 841841, 809525, 809524, 809523, 809522, 809521, 10160, 861745, 861730, 861727, 861724, 861723, 861722, 861721, 861716, 861706, 861705, 846652, 841967, 841966, 841965, 841964, 841962, 841961, 841960, 841959, 841958, 841957, 841956, 841954, 841953, 841952, 841951, 841950, 841949, 841948, 841947, 841946, 841943, 841942, 841941, 841940, 841939, 841938, 841937, 841936, 841935, 841934, 841933, 841932, 841931, 841930, 841929, 841928, 841927, 841926, 841925, 841924, 841923, 841922, 841921, 841920, 841919, 841918, 841917, 841916, 841915, 841914, 841913, 841912, 841911, 841910, 841909, 841908, 841907, 841906, 841904, 841903, 841902, 841901, 841900, 841899, 841898, 841897, 841896, 841895, 841894, 841893, 809527, 809526, 10162, 1260537, 865882, 861776, 861769, 861742, 861740, 861738, 861737, 861728, 861720, 861719, 861718, 861717, 861712, 861708, 861707, 861703, 861702, 861701, 861695, 855891, 855890, 855592, 853597, 853596, 853595, 853594, 853593, 853592, 849657, 846653, 842061, 842053, 842051, 842050, 842049, 842048, 842047, 842044, 842043, 842042, 842041, 842040, 842036, 842035, 842034, 842033, 842032, 842031, 842030, 842029, 842028, 842027, 842026, 842025, 842024, 842023, 842022, 842021, 842020, 842019, 842018, 842017, 842016, 842015, 842014, 842013, 842012, 842011, 842010, 842009, 842007, 842006, 842005, 842004, 842003, 842002, 842001, 842000, 841999, 841998, 841997, 841996, 841995, 841994, 841993, 841992, 841991, 841990, 841989, 841988, 841986, 841984, 841983, 841982, 841981, 841980, 841979, 841978, 841977, 841976, 841975, 841974, 841973, 841972, 841971, 841970, 841969, 841968, 841963, 809529, 808272, 807764, 807763, 807762, 807761, 807760, 807759, 807758, 10163, 861778, 861777, 861775, 861774, 861773, 861771, 861764, 861763, 861762, 861761, 861759, 861758, 861757, 861755, 861754, 861752, 861751, 861739, 861726, 861710, 861704, 861698, 861694, 842129, 842128, 842127, 842126, 842125, 842124, 842123, 842122, 842120, 842119, 842118, 842117, 842116, 842115, 842114, 842113, 842112, 842111, 842110, 842109, 842108, 842107, 842106, 842105, 842104, 842103, 842102, 842101, 842100, 842099, 842098, 842097, 842096, 842095, 842094, 842093, 842092, 842091, 842090, 842089, 842088, 842087, 842086, 842085, 842084, 842083, 842082, 842081, 842080, 842079, 842078, 842077, 842076, 842075, 842074, 842073, 842072, 842071, 842070, 842069, 842068, 842067, 842066, 842065, 842064, 842063, 842062, 842060, 842059, 842058, 842057, 842056, 842055, 842054, 842052, 842046, 842045, 804326, 10164, 861779, 861772, 861770, 861768, 861767, 861766, 861760, 861756, 861753, 861750, 861747, 861746, 861743, 861736, 861731, 861725, 861715, 861711, 861709, 861700, 861699, 853598, 842217, 842211, 842210, 842205, 842204, 842203, 842199, 842198, 842197, 842195, 842194, 842192, 842191, 842190, 842189, 842188, 842187, 842186, 842184, 842183, 842182, 842181, 842180, 842179, 842178, 842177, 842176, 842175, 842174, 842173, 842172, 842171, 842170, 842169, 842168, 842167, 842166, 842165, 842164, 842163, 842162, 842161, 842159, 842158, 842157, 842156, 842155, 842154, 842153, 842152, 842151, 842150, 842149, 842148, 842147, 842146, 842145, 842144, 842143, 842142, 842141, 842140, 842139, 842138, 842137, 842136, 842135, 842134, 842133, 842132, 842131, 842130, 809530, 808856, 10165, 1260835, 865883, 861834, 861833, 861832, 861826, 861825, 861824, 861822, 861818, 861817, 861816, 861814, 861806, 861801, 861795, 861696, 861693, 855893, 849658, 846654, 842391, 842390, 842389, 842388, 842387, 842386, 842385, 842384, 842383, 842382, 842381, 842380, 842379, 842378, 842377, 842376, 842375, 842374, 842373, 842372, 842371, 842370, 842369, 842368, 842367, 842366, 842365, 842364, 842363, 842362, 842361, 842360, 842359, 842358, 842357, 842356, 842355, 842354, 842353, 842352, 842351, 842350, 842349, 842348, 842347, 842346, 842345, 842344, 842343, 842342, 842341, 842340, 842339, 842338, 842337, 842336, 842335, 842334, 842333, 842332, 842331, 842330, 842329, 842328, 842327, 842326, 842325, 842324, 842323, 842322, 842321, 842320, 842319, 842318, 842317, 842316, 842315, 842314, 842313, 842312, 842311, 842310, 842309, 842308, 842307, 842306, 842305, 842304, 842303, 842302, 842301, 842300, 842299, 842298, 842297, 842296, 842295, 842294, 842293, 842292, 842291, 842290, 842289, 842288, 842287, 842286, 842285, 842284, 842283, 842282, 842281, 842280, 842279, 842278, 842277, 842276, 842275, 842274, 842273, 842272, 842271, 842270, 842269, 842268, 842267, 842266, 842265, 842264, 842263, 842262, 842261, 842260, 842259, 842258, 842257, 842256, 842255, 842254, 842253, 842252, 842251, 842250, 842249, 842248, 842247, 842246, 842245, 842244, 842243, 842242, 842241, 842240, 842239, 842238, 842237, 842236, 842235, 842234, 842233, 842232, 842231, 842230, 842229, 842228, 842227, 842226, 842225, 842224, 842223, 842222, 842221, 842220, 842219, 842218, 842216, 842215, 842214, 842213, 842212, 842209, 842208, 842207, 842206, 842202, 842201, 842200, 842196, 842193, 842185, 807773, 807772, 807771, 807770, 807769, 807768, 807767, 807766, 807765, 10166, 865914, 861898, 861897, 861890, 861888, 861884, 861865, 861862, 861860, 861855, 861849, 861848, 861843, 861842, 855599, 849689, 842881, 842880, 842879, 842878, 842877, 842876, 842875, 842874, 842873, 842872, 842871, 842870, 842869, 842868, 842867, 842866, 842865, 842864, 842863, 842862, 842861, 842860, 842859, 842858, 842857, 842856, 842855, 842854, 842853, 842852, 842851, 842850, 842849, 842848, 842847, 842846, 842845, 842844, 842843, 842842, 842841, 842840, 842839, 842838, 842837, 842836, 842835, 842834, 842833, 842832, 842831, 842830, 842829, 842827, 842826, 842825, 842824, 842823, 842822, 842821, 842820, 842819, 842818, 842817, 842816, 842815, 842814, 842813, 842812, 842811, 809538, 808864, 10171, 861916, 861908, 861907, 861906, 861905, 861899, 861896, 861892, 861838, 861836, 855597, 842892, 842891, 842890, 842889, 842888, 842886, 842885, 842884, 842883, 842882, 10172, 861914, 861912, 842912, 842911, 842910, 842909, 842908, 842907, 842906, 842905, 842904, 842903, 842897, 842896, 842895, 842894, 842893, 10173, 861917, 861913, 861911, 861910, 861909, 861904, 861895, 842916, 842915, 842914, 10174, 862913, 862912, 862911, 862910, 862907, 861958, 861955, 861954, 861952, 861950, 861949, 861948, 861947, 861942, 861940, 861939, 861934, 861932, 861931, 861930, 861928, 861927, 861923, 861921, 855892, 855603, 855589, 846666, 846665, 846664, 846663, 846662, 843035, 843034, 843033, 843032, 843031, 843030, 843029, 843028, 843027, 843026, 843025, 843024, 843023, 843022, 843021, 843020, 843019, 843018, 843017, 843016, 843015, 843014, 843013, 843012, 843011, 843010, 843009, 843008, 843007, 843006, 843005, 843004, 843003, 843002, 843001, 843000, 842999, 842998, 842997, 842996, 842995, 842994, 842993, 842992, 842991, 842990, 842989, 842988, 842987, 842986, 842985, 842984, 842983, 842982, 842981, 842980, 842979, 842978, 842977, 842976, 842975, 842974, 842973, 842972, 842971, 842970, 842969, 842968, 842967, 842965, 842964, 842963, 842962, 842961, 842960, 842959, 842958, 842957, 842956, 842955, 842954, 842953, 842952, 842946, 842945, 10176, 865932, 862914, 862081, 862077, 862073, 862045, 862043, 862042, 862040, 862034, 862033, 862032, 862031, 862030, 862029, 862028, 862027, 862026, 862024, 862019, 862018, 861974, 855604, 849713, 849712, 849711, 849710, 849709, 849708, 849707, 846670, 843258, 843257, 843256, 843254, 843253, 843252, 843251, 843250, 843249, 843248, 843247, 843246, 843245, 843244, 843243, 843242, 843241, 843240, 843239, 843238, 843237, 843236, 843235, 843234, 843233, 843232, 843231, 843230, 843229, 843228, 843227, 843226, 843225, 843224, 843223, 843222, 843221, 843220, 843219, 843218, 843217, 843216, 843215, 843214, 843213, 843212, 843211, 807853, 807852, 807851, 807850, 807849, 10180, 1260913, 866031, 862266, 862255, 862246, 862240, 862235, 862234, 862233, 862231, 862230, 862229, 862228, 862227, 862226, 862225, 862223, 862221, 862220, 862217, 862216, 862214, 862213, 855632, 853741, 853740, 849807, 844813, 844811, 844810, 844809, 844808, 844807, 844805, 844804, 844803, 844802, 844801, 844800, 844799, 844798, 844796, 844795, 844794, 844793, 844792, 844791, 844790, 844789, 844788, 844787, 844786, 844785, 844784, 844783, 844782, 844781, 844780, 844779, 844778, 844770, 844769, 844768, 844767, 844766, 844765, 844764, 844763, 844762, 844761, 844760, 844759, 844758, 844757, 844756, 844755, 844754, 844751, 844750, 844749, 844748, 844747, 844746, 844745, 844744, 844743, 844742, 844741, 844740, 844739, 844738, 844737, 844736, 844735, 844734, 844733, 844732, 844731, 844730, 807909, 807908, 807907, 10193, 1261047, 1260915, 1260542, 862280, 862277, 862273, 862272, 862271, 862270, 862269, 862268, 862267, 862265, 862261, 862259, 862258, 862242, 862222, 862215, 855629, 844862, 844861, 844860, 844859, 844858, 844857, 844855, 844854, 844853, 844852, 844851, 844850, 844849, 844848, 844847, 844846, 844845, 844844, 844843, 844842, 844841, 844840, 844839, 844838, 844837, 844836, 844835, 844834, 844833, 844832, 844831, 844830, 844829, 844828, 844827, 844826, 844825, 844824, 844823, 844822, 844821, 844820, 844819, 844818, 844817, 844816, 844815, 844814, 844812, 809560, 808876, 10194, 1261048, 1260545, 1260544, 866045, 866044, 866043, 866042, 866041, 866038, 862939, 862938, 862937, 862368, 862353, 862338, 862332, 862330, 862329, 862328, 862327, 862326, 862325, 862309, 855904, 855652, 855647, 855646, 855645, 855643, 855635, 855634, 853752, 853750, 849821, 849820, 849819, 849818, 849817, 846702, 846701, 846700, 845199, 845198, 845197, 845196, 845195, 845194, 845193, 845192, 845191, 845190, 845189, 845188, 845187, 845186, 845185, 845184, 845183, 845182, 845181, 845180, 845179, 845178, 845177, 845176, 845175, 845174, 845172, 845171, 845170, 845169, 845168, 845166, 845165, 845164, 845163, 845162, 845161, 845160, 845159, 845158, 845157, 845156, 845155, 845154, 845153, 845152, 845151, 845150, 845149, 845148, 845147, 845146, 845145, 845144, 845143, 845142, 845141, 845140, 845139, 845138, 845137, 845136, 845135, 845134, 845133, 845132, 845131, 845130, 845129, 845128, 845127, 845126, 845125, 845124, 845123, 845122, 845121, 845120, 845115, 845114, 845113, 845112, 845111, 845110, 845109, 845108, 845107, 845106, 845105, 845104, 845103, 845102, 845101, 845100, 845099, 845098, 845097, 845096, 845095, 845094, 845093, 808280, 807921, 10198, 1261075, 862449, 862448, 862447, 862446, 862445, 862444, 862442, 862426, 850207, 845677, 845676, 845675, 845674, 845673, 845669, 845668, 845667, 845666, 845665, 845664, 10206, 862459, 862457, 862453, 862452, 862450, 845691, 845689, 845688, 845682, 845681, 845680, 845678, 10207, 1260847, 862463, 854585, 853793, 853792, 853789, 853788, 853786, 853784, 853783, 853782, 853781, 853780, 853779, 853777, 845704, 808288, 808287, 808286, 808285, 808284, 807962, 807961, 807960, 807959, 807958, 807957, 807956, 807955, 807954, 807953, 807952, 807951, 807950, 807949, 807948, 807946, 10208, 862464, 854586, 853798, 853791, 853790, 853787, 853785, 807968, 807967, 807966, 10209, 862468, 862467, 862466, 862465, 845713, 845712, 845711, 845708, 845707, 10210, 862483, 862482, 862477, 862475, 862471, 853797, 845725, 845724, 845717, 10211, 866104, 862523, 862522, 862521, 862520, 862514, 849879, 845856, 845846, 845845, 845844, 845843, 845842, 845841, 10215, 1260918, 862528, 862527, 862526, 862525, 862524, 845869, 845868, 845867, 845865, 845863, 845862, 845858, 845857, 10216, 862530, 862529, 845879, 10217, 862531, 845880, 10218, 855911, 809601, 10219, 1260666, 1260292, 862966, 862535, 862534, 855972, 855971, 855970, 855969, 855968, 855967, 855966, 855964, 855956, 854599, 854598, 846739, 845884, 809731, 809730, 809729, 809728, 809727, 809726, 809725, 809724, 809723, 809722, 809721, 809720, 809719, 809718, 809717, 809716, 809715, 809714, 809713, 809712, 809711, 809710, 809709, 809702, 10224, 1260848, 1260667, 855994, 855992, 855991, 855989, 855987, 855980, 855979, 855976, 855975, 855973, 845886, 845885, 809760, 809759, 809758, 809757, 809756, 809755, 809754, 809753, 809752, 809751, 809750, 809749, 809748, 809747, 809741, 809740, 809739, 809738, 809737, 809736, 809735, 809734, 809733, 809732, 10225, 1260849, 856002, 855997, 855996, 855995, 855993, 855990, 855988, 855981, 855978, 855977, 845887, 809788, 809787, 809786, 809785, 809784, 809783, 809782, 809779, 809776, 809775, 809774, 809773, 809772, 809771, 809770, 809768, 809767, 809766, 809765, 809764, 809763, 809762, 809761, 10226, 862996, 862995, 862994, 862993, 862992, 862991, 862990, 862545, 862544, 856132, 856064, 856063, 856058, 856051, 856048, 856046, 856044, 856041, 856039, 856037, 856036, 856035, 856023, 854609, 854608, 854607, 850234, 850233, 850232, 850231, 850230, 850229, 850228, 850227, 850226, 850219, 849884, 849883, 846769, 846768, 846767, 846766, 846765, 845894, 845893, 845892, 845891, 845890, 809957, 809956, 809955, 809954, 809952, 809951, 809950, 809949, 809946, 809945, 809944, 809943, 809942, 809941, 809940, 809939, 809938, 809937, 809936, 809935, 809934, 809933, 809932, 809931, 809930, 809929, 809928, 809927, 809926, 809925, 809924, 809923, 809922, 809921, 809920, 809919, 809918, 809917, 809916, 809915, 809912, 809911, 809910, 809909, 809908, 809907, 809906, 809905, 809904, 809903, 809902, 808898, 808299, 808298, 808297, 804354, 804353, 804352, 804351, 804350, 804349, 804348, 804347, 804346, 10230, 15610, 856171, 856170, 856169, 856168, 856167, 856140, 856139, 856135, 856078, 850238, 810283, 810282, 810281, 810280, 810279, 810278, 810277, 810276, 810271, 810270, 810269, 810268, 810267, 810264, 810263, 804359, 804358, 10235, 856156, 856155, 856153, 850239, 810292, 810291, 810290, 810289, 810288, 810284, 804360, 10236, 856161, 856160, 856159, 856158, 856157, 856154, 850240, 810309, 810308, 810306, 810305, 810304, 810303, 810302, 810301, 810300, 810299, 810298, 10237, 1260921, 863062, 863061, 863060, 863059, 863058, 856281, 856276, 856273, 856267, 856263, 856262, 856261, 856260, 856259, 856258, 856252, 854655, 854654, 854653, 854652, 850287, 849894, 849893, 849892, 849891, 849890, 849889, 846836, 846835, 846834, 846833, 846832, 810829, 810824, 810823, 810819, 810818, 810817, 810816, 810815, 810814, 810813, 810812, 810811, 810810, 810809, 810808, 810807, 810806, 810805, 810804, 810803, 810802, 810801, 810800, 810799, 810798, 810797, 810796, 810795, 810794, 810793, 810792, 810791, 810790, 810789, 810788, 810787, 810786, 810785, 810784, 810783, 810782, 810781, 810775, 810774, 810773, 810772, 810771, 810770, 810769, 810768, 810767, 810766, 810765, 810764, 810763, 810762, 810761, 810760, 810759, 810758, 810757, 810756, 810755, 810754, 810753, 810752, 810751, 810750, 810749, 810748, 810747, 810746, 810745, 810744, 810743, 810742, 810741, 810740, 810739, 810738, 810737, 810736, 810735, 810734, 810733, 810732, 810731, 810730, 810729, 810728, 810727, 810726, 810725, 810724, 810723, 810722, 810721, 810720, 810719, 810718, 810717, 810716, 810715, 810714, 810713, 810712, 810711, 810710, 810709, 810708, 810707, 810706, 810705, 810704, 810703, 810702, 810701, 810700, 810699, 810698, 810697, 810696, 810695, 810694, 810693, 810692, 810691, 808924, 808923, 808922, 804409, 10243, 1260852, 1260299, 856441, 856437, 856430, 856428, 856427, 856426, 856425, 856423, 856419, 856418, 856417, 856415, 856414, 856411, 856406, 856405, 856398, 854676, 812289, 812288, 812287, 812286, 812285, 812284, 812283, 812282, 812281, 812280, 812279, 812278, 812277, 812276, 812275, 812274, 812273, 812272, 812271, 812270, 812269, 812268, 812267, 812266, 812265, 812264, 812263, 812262, 812261, 812260, 812259, 812258, 812257, 812256, 812255, 812254, 812253, 812252, 812251, 812250, 812249, 812248, 812247, 812246, 812245, 812244, 812243, 812242, 812241, 812239, 812238, 812237, 812236, 812235, 812234, 812233, 812231, 812230, 812229, 812228, 10253, 1260858, 1260687, 856872, 856870, 856869, 856868, 856867, 856866, 856865, 856864, 856863, 856862, 856861, 856860, 856859, 854793, 814874, 814873, 814872, 814871, 814870, 814869, 814868, 814867, 814866, 814865, 814864, 814863, 814862, 814861, 814860, 814859, 814858, 814857, 814856, 814855, 814854, 814853, 814852, 814850, 814849, 814848, 814847, 814846, 814845, 814844, 10284, 1260936, 1260935, 1260934, 1260933, 1260692, 1260691, 1260690, 1260568, 1260323, 866122, 863369, 863368, 863367, 863366, 863365, 863364, 863360, 856944, 856938, 856931, 856929, 856926, 856913, 856896, 856889, 855711, 855710, 855709, 854806, 854805, 850592, 849935, 847146, 847145, 847144, 847143, 847142, 847141, 847140, 847139, 815074, 815071, 815070, 815068, 815067, 815066, 815065, 815064, 815063, 815062, 815061, 815060, 815059, 815058, 815057, 815056, 815055, 815054, 815053, 815052, 815050, 815049, 815048, 815047, 815046, 815045, 815044, 815043, 815042, 815036, 815035, 815034, 815033, 815032, 815031, 815030, 815029, 815028, 815027, 815026, 815025, 815021, 815020, 815019, 815016, 815015, 815014, 815013, 815012, 815011, 815010, 815009, 815008, 815007, 815006, 815005, 815004, 815003, 814998, 809004, 809003, 808377, 10288, 863371, 863370, 815078, 815077, 815076, 815075, 815073, 815072, 815069, 857089, 857088, 857087, 857086, 857084, 857078, 857068, 857062, 857056, 857055, 857051, 857047, 857046, 857045, 857043, 857042, 857036, 857034, 857030, 855714, 850604, 846028, 846027, 816186, 816184, 816183, 816182, 816181, 816180, 816179, 816178, 816177, 816175, 816173, 816172, 816171, 816170, 816169, 816168, 816167, 816166, 816165, 816164, 816163, 816162, 816161, 816160, 816159, 816158, 816157, 816156, 816155, 816154, 816153, 816152, 816151, 816150, 816149, 816148, 816147, 816146, 816145, 816144, 816143, 816142, 816141, 816140, 816139, 816138, 816137, 816136, 816135, 816134, 816133, 816132, 816131, 816129, 816128, 816127, 816126, 816125, 816124, 816123, 816122, 816121, 816120, 816119, 816118, 816117, 816116, 816115, 816114, 816113, 816112, 816111, 816110, 816109, 816108, 816107, 816106, 816105, 816104, 816103, 816102, 816101, 816100, 816099, 816098, 816097, 816096, 816095, 816094, 816093, 816092, 816091, 816090, 816089, 816088, 816087, 816086, 816085, 816084, 816083, 816082, 816081, 816080, 816079, 816078, 816077, 816076, 816075, 816074, 816073, 816072, 816071, 816070, 816069, 816068, 816067, 816066, 816065, 816064, 816063, 816062, 816061, 816060, 816059, 816058, 816057, 816056, 816055, 816054, 816053, 816052, 816051, 816050, 816049, 816048, 816047, 816046, 816045, 816044, 816043, 816042, 816041, 809012, 809011, 804730, 10297, 1260698, 863410, 863409, 863408, 863407, 862607, 857152, 857151, 857147, 857141, 857138, 857137, 857135, 857134, 857133, 857132, 857131, 857130, 857129, 857128, 857123, 857122, 857115, 857109, 857108, 857105, 857102, 855717, 855716, 854812, 854811, 850666, 850665, 850664, 850663, 850662, 850661, 850660, 850659, 850658, 850657, 850656, 850655, 850654, 850653, 850651, 850650, 850648, 850647, 850646, 850645, 850644, 850643, 850642, 850641, 850640, 850637, 850633, 850631, 850627, 850626, 850625, 850624, 849946, 849945, 849944, 849943, 847185, 847184, 847183, 847182, 846033, 846032, 846031, 817285, 817276, 817274, 817270, 817269, 817262, 817261, 817260, 817259, 817256, 817254, 817253, 817252, 817245, 817244, 817242, 817241, 817240, 817239, 817238, 817237, 817236, 817235, 817234, 817233, 817232, 817231, 817230, 817229, 817228, 817227, 817226, 817225, 817224, 817223, 817222, 817221, 817220, 817219, 817218, 817217, 817216, 817215, 817214, 817213, 817212, 817211, 817210, 817209, 817208, 817207, 817206, 817205, 817204, 817203, 817202, 817201, 817199, 817198, 817197, 817196, 817195, 817194, 817193, 817192, 817191, 817190, 817189, 817188, 817187, 817186, 817185, 817184, 817183, 817182, 817181, 817180, 817176, 817175, 817174, 817173, 817172, 817171, 817170, 817169, 817168, 817167, 817166, 817165, 817164, 817163, 817162, 817161, 817160, 817159, 817158, 817157, 817156, 817155, 817154, 817153, 817152, 817151, 817150, 817149, 817148, 817147, 817146, 817145, 817144, 817143, 817142, 817141, 817140, 817139, 817138, 817137, 817136, 817135, 817134, 817133, 817132, 817131, 817130, 817129, 817128, 817127, 817126, 817125, 817124, 817123, 817122, 817121, 817120, 817119, 817118, 817117, 817116, 817115, 817114, 817113, 817112, 817111, 817110, 817109, 817108, 817107, 817106, 817105, 817104, 817103, 817102, 817101, 817100, 817099, 817098, 817097, 817096, 817095, 817094, 817093, 817092, 817091, 817090, 817089, 817088, 817087, 817086, 817085, 817084, 817083, 817082, 817081, 817080, 817079, 809032, 809031, 809030, 809029, 809028, 809027, 809026, 809025, 809024, 809023, 808383, 808382, 804792, 804791, 804790, 804789, 804788, 804787, 804786, 804785, 804784, 804783, 804782, 804781, 10303, 866127, 863415, 863414, 863413, 863412, 863411, 863400, 862606, 857170, 857168, 857124, 857120, 857119, 857107, 857104, 857103, 857101, 855715, 854815, 854814, 853875, 850674, 850673, 850672, 850671, 850670, 850669, 850668, 850667, 850652, 850649, 850629, 849947, 847190, 847189, 847188, 847187, 847186, 817393, 817392, 817391, 817390, 817389, 817388, 817387, 817386, 817385, 817384, 817383, 817382, 817381, 817380, 817379, 817378, 817377, 817376, 817375, 817374, 817373, 817372, 817371, 817370, 817369, 817368, 817367, 817366, 817365, 817364, 817363, 817362, 817361, 817360, 817359, 817358, 817357, 817356, 817355, 817354, 817353, 817352, 817351, 817350, 817349, 817348, 817347, 817346, 817345, 817344, 817343, 817342, 817341, 817340, 817339, 817338, 817337, 817336, 817335, 817334, 817333, 817332, 817331, 817330, 817327, 817326, 817325, 817323, 817322, 817321, 817320, 817319, 817318, 817317, 817316, 817315, 817314, 817313, 817312, 817311, 817310, 817309, 817308, 817307, 817306, 817305, 817299, 817298, 817297, 817296, 817295, 817290, 817289, 817288, 817287, 817286, 817284, 817283, 817282, 817281, 817280, 817279, 817278, 817277, 817275, 817273, 817272, 817271, 817268, 817267, 817266, 817265, 817264, 817263, 817258, 817257, 817255, 804801, 804800, 804799, 804798, 804797, 804796, 804795, 804794, 804793, 10304, 1260940, 1260939, 1260699, 866129, 866128, 863418, 863417, 863416, 857195, 857193, 857192, 857191, 857181, 857180, 857179, 857178, 857177, 857176, 857175, 857174, 857172, 857171, 857169, 857164, 857112, 855720, 854817, 853876, 850679, 850678, 850677, 850676, 850675, 849949, 849948, 847193, 847192, 847191, 817496, 817495, 817493, 817492, 817491, 817490, 817489, 817488, 817484, 817483, 817479, 817478, 817477, 817476, 817475, 817474, 817473, 817472, 817471, 817469, 817468, 817467, 817466, 817465, 817464, 817463, 817460, 817459, 817458, 817457, 817456, 817455, 817447, 817446, 817445, 817444, 817443, 817440, 817436, 817435, 817429, 817428, 817427, 817426, 817425, 817424, 817423, 817422, 817421, 817420, 817419, 817418, 817417, 817416, 817412, 817411, 817410, 817409, 817402, 817401, 817400, 817399, 817398, 817397, 817396, 817395, 809033, 808385, 808384, 808014, 804805, 804804, 804803, 804802, 10305, 1260702, 857241, 857240, 857239, 857238, 857234, 857233, 857226, 857218, 857216, 857214, 855722, 855721, 817701, 817698, 817695, 817681, 817680, 817672, 817671, 817670, 817669, 817668, 809044, 809043, 10309, 1260863, 862616, 862615, 857328, 857318, 857317, 857308, 857307, 857296, 854829, 818034, 818033, 818032, 818031, 818029, 818028, 818027, 818026, 818022, 818021, 818020, 818014, 818010, 818009, 818008, 818002, 804844, 10315, 1260358, 863819, 863818, 863817, 863816, 863815, 863814, 863813, 863812, 863811, 863810, 862652, 857759, 857755, 857754, 857744, 857742, 857739, 857738, 857733, 857732, 857720, 857715, 857710, 857697, 854918, 851105, 851104, 851102, 851101, 851100, 851099, 851098, 851097, 851095, 847594, 847593, 847592, 847591, 847590, 847589, 847588, 847587, 847586, 847585, 846123, 846122, 846121, 846120, 821119, 821115, 821114, 821111, 821110, 821109, 821108, 821107, 821106, 821105, 821100, 821099, 821098, 821097, 821096, 821095, 821094, 821088, 821087, 821086, 821085, 821083, 821080, 821079, 821078, 821077, 821076, 821075, 821074, 821066, 821065, 821064, 821063, 821062, 821061, 821060, 821059, 821058, 821057, 821056, 821055, 821054, 821053, 821052, 821051, 821050, 821049, 821048, 821047, 821046, 821045, 821044, 821043, 821042, 821041, 821040, 821039, 821038, 821037, 821036, 821035, 821034, 821033, 821032, 821031, 821030, 821029, 821028, 821027, 821026, 821025, 821024, 821023, 821022, 821021, 821020, 821019, 821018, 821017, 821016, 821011, 821010, 821009, 821008, 821007, 821006, 821005, 821004, 821003, 821002, 821001, 821000, 820999, 820998, 820997, 820996, 820995, 820994, 820993, 820992, 820991, 820990, 820989, 820988, 820987, 820986, 820985, 820984, 820983, 820982, 820981, 820980, 820979, 820978, 820977, 820976, 820975, 820974, 820973, 820972, 820971, 820965, 820964, 820963, 820962, 820961, 820960, 820959, 820958, 820957, 820956, 820955, 820954, 820953, 809111, 809110, 809109, 808442, 808054, 805243, 805242, 805241, 805240, 805239, 805238, 805237, 805236, 805235, 805234, 805233, 805232, 805231, 805230, 805229, 805228, 10342, 15679, 1260960, 857829, 821494, 10350, 1260580, 1260370, 857882, 857835, 857834, 857833, 821524, 821523, 821508, 10351, 857886, 857844, 857841, 857840, 857839, 821545, 821544, 821543, 821541, 821540, 821535, 821534, 804323, 821525, 821526, 821531, 821532, 821533, 10352, 857847, 821573, 821554, 821546, 821547, 821551, 10353, 1260732, 1260371, 866136, 863923, 863922, 863921, 863920, 863919, 863918, 863917, 863916, 863915, 863914, 863913, 863912, 857901, 857865, 857857, 857856, 857854, 857815, 855745, 854935, 850006, 850005, 850004, 850003, 850002, 850001, 847699, 847698, 847697, 847696, 847695, 847694, 847693, 847692, 847691, 847690, 847689, 847688, 821623, 821619, 821611, 809132, 808465, 10356, 866137, 863925, 863924, 857869, 857868, 857867, 857866, 857864, 857863, 857862, 857861, 857860, 857859, 857858, 857836, 847701, 847700, 821651, 821646, 821645, 821644, 821638, 821637, 821636, 821635, 821634, 821633, 821632, 821631, 821630, 821629, 821628, 821627, 821626, 821625, 821624, 10357, 857880, 857877, 857876, 857875, 857874, 857872, 821678, 821677, 821676, 821675, 821674, 821673, 821672, 821671, 821670, 821669, 821668, 821667, 821666, 10358, 857879, 857878, 857873, 857846, 857842, 857837, 821697, 821695, 821687, 821686, 821685, 821682, 10359, 857883, 857881, 821716, 821715, 821714, 821707, 821706, 821705, 10360, 857887, 857885, 857884, 821743, 821735, 821734, 821729, 10361, 857952, 857909, 857908, 857895, 821793, 821792, 821791, 821790, 821789, 821782, 821781, 821780, 821777, 10363, 857951, 857923, 857919, 857918, 857913, 821835, 821834, 821832, 821831, 821830, 821829, 821828, 821822, 821821, 821820, 821819, 821818, 821817, 821816, 821815, 821807, 821806, 821805, 821800, 821799, 805351, 10364, 857920, 857955, 857945, 857943, 857942, 857910, 821906, 821901, 821900, 821899, 821898, 821897, 821896, 821895, 821894, 821890, 10368, 857949, 857946, 857905, 857902, 857898, 854945, 821911, 821907, 808474, 10369, 1260962, 1260961, 857957, 857956, 857954, 857953, 857950, 857948, 857947, 857904, 857892, 821944, 821943, 821942, 821941, 821940, 821939, 821938, 821937, 821936, 821935, 821934, 821933, 821932, 821931, 821930, 821929, 821928, 821927, 821926, 821923, 821922, 821914, 10370, 15669, 858003, 857967, 857964, 854952, 821993, 821992, 821991, 821990, 821986, 821968, 821967, 808485, 808484, 10372, 15465, 15469, 15673, 15608, 15606, 15627, 15581, 15588, 15694, 15674, 15631, 15644, 15504, 15671, 15649, 15615, 15611, 15580, 15576, 15572, 15523, 15486, 15451, 15661, 15641, 15555, 15550, 15519, 15475, 15620, 15617, 15571, 15583, 15513, 15597, 15483, 15505, 15676, 15652, 15579, 15449, 15511, 15614, 15636, 15476, 15485, 15487, 15518, 15563</td><td>Module15900</td><td>9759</td><td>Bin39</td></tr>\n",
       "</tbody>\n",
       "</table>\n"
      ],
      "text/latex": [
       "A data.frame: 1 × 4\n",
       "\\begin{tabular}{r|llll}\n",
       " nodeId & community & TargetNodes\\_ID & TargetNodes\\_Name\\\\\n",
       " <list> & <chr> & <int> & <chr>\\\\\n",
       "\\hline\n",
       "\t 862807, 862804, 860190, 860122, 860077, 860054, 860049, 860046, 859936, 859882, 852474, 834688, 834678, 834677, 834663, 834662, 834624, 834623, 834622, 834621, 834620, 834619, 834618, 834579, 834578, 834540, 834539, 834497, 834496, 834434, 834433, 834432, 834431, 834430, 834429, 834428, 834427, 834413, 834412, 834390, 834389, 834367, 834366, 834365, 834330, 834329, 834296, 834295, 834294, 834282, 834281, 834242, 834208, 834207, 834195, 834194, 834193, 834192, 834185, 834177, 834169, 834168, 834167, 834162, 834161, 834160, 834133, 834132, 834131, 834130, 834121, 834120, 834119, 834118, 834117, 834116, 834115, 834098, 834081, 834080, 834034, 834033, 833896, 833836, 833835, 833834, 833826, 833821, 833820, 833788, 833774, 833773, 833772, 833771, 833743, 833742, 833741, 833723, 833716, 833715, 833714, 833675, 833674, 833673, 833628, 833627, 833626, 833615, 833614, 833613, 833612, 833578, 833577, 833576, 806621, 9747, 862861, 861443, 861433, 861430, 861429, 861320, 861262, 861250, 861248, 861242, 840011, 840010, 840008, 840003, 839995, 839994, 839982, 839981, 839980, 839979, 839978, 839977, 9757, 1261043, 1260827, 1260659, 1260529, 866215, 862895, 862890, 862889, 861241, 861240, 861239, 853375, 841303, 841221, 841217, 841216, 841212, 841204, 841203, 841202, 841199, 841188, 841187, 841186, 9759, 1260910, 1260907, 1260906, 861936, 861667, 861666, 861664, 861658, 861657, 861656, 861635, 855600, 841808, 841806, 841805, 841804, 841803, 841802, 841801, 841800, 841798, 841794, 841793, 841786, 841785, 841784, 841778, 9763, 866229, 862402, 862374, 862252, 845458, 845364, 845359, 9768, 1261052, 1260920, 1260850, 866227, 866097, 862946, 862532, 862510, 862506, 862505, 856042, 855957, 855955, 855931, 855930, 855927, 855918, 855917, 855916, 854597, 845882, 845881, 845878, 809769, 809701, 809700, 809699, 809690, 809637, 809633, 809626, 809625, 809622, 809611, 809610, 809608, 809607, 809603, 809602, 808292, 9770, 856906, 856905, 856733, 856675, 856652, 856651, 854690, 854689, 853840, 813978, 813595, 813431, 813417, 813416, 813407, 813406, 813370, 813328, 813321, 9775, 1260866, 1260865, 863334, 862621, 856607, 850549, 850548, 850547, 847109, 814898, 814878, 814851, 814424, 814186, 814152, 804673, 804672, 804671, 9776, 857072, 856998, 856997, 856930, 856923, 856922, 856915, 856614, 856613, 815714, 815487, 815449, 815173, 815051, 815024, 815023, 815022, 815018, 815017, 815002, 814948, 814947, 814930, 814926, 814917, 9777, 864089, 858131, 858130, 858129, 858126, 858125, 858124, 858122, 858121, 858120, 858118, 858117, 858114, 855760, 855748, 854941, 847864, 822955, 822954, 822953, 822952, 822951, 822950, 822949, 822948, 822947, 822946, 822945, 822944, 822943, 822942, 822941, 822939, 822938, 822937, 822936, 822935, 822929, 822928, 822925, 822924, 822923, 822922, 822918, 805574, 9788, 858144, 858142, 858141, 858140, 858139, 858138, 858137, 858136, 858135, 858134, 858133, 858132, 858128, 858123, 855761, 822987, 822986, 822985, 822984, 822983, 822982, 822981, 822980, 822979, 822978, 822977, 822973, 822972, 822971, 822970, 822969, 822968, 822957, 822956, 9789, 858147, 858146, 858145, 855758, 823002, 823001, 823000, 822995, 809175, 809174, 809173, 809172, 809171, 809170, 809169, 9790, 858159, 858143, 823010, 823006, 9791, 862677, 858203, 858188, 858187, 858186, 858166, 858164, 851483, 823208, 823199, 823190, 823184, 823183, 823182, 808512, 805623, 805622, 805621, 805620, 805619, 9796, 862681, 858236, 858234, 858233, 858231, 858230, 858229, 858228, 858227, 858225, 858223, 858222, 858220, 858219, 858218, 858217, 858216, 858215, 858206, 855768, 855000, 854999, 854998, 854028, 851498, 851497, 851496, 851495, 851494, 851493, 846203, 846202, 823389, 823386, 823377, 823376, 823375, 823374, 823373, 823372, 823371, 823370, 823368, 823367, 823364, 823363, 823362, 823361, 823360, 823359, 823358, 823357, 823356, 823355, 823354, 823353, 823352, 823351, 823350, 823349, 823348, 823347, 823346, 823345, 823344, 823343, 823339, 823338, 823337, 823336, 823333, 823332, 823331, 823330, 823329, 823328, 823327, 823326, 823325, 823324, 823323, 823319, 823318, 823317, 823316, 823315, 823314, 823313, 823312, 823311, 823310, 823309, 823308, 823307, 823306, 823305, 823304, 823298, 823297, 823296, 823295, 823294, 823293, 823292, 823291, 823290, 809185, 809184, 809183, 809182, 809181, 808513, 808074, 805635, 805634, 805633, 805632, 805631, 805630, 805629, 805628, 9799, 864119, 858259, 858257, 858255, 858250, 858248, 855766, 854030, 851511, 851510, 851509, 851508, 851507, 851506, 847895, 823529, 823528, 823522, 823521, 823515, 823514, 823513, 823505, 823504, 823498, 808516, 808076, 805646, 805645, 805644, 805643, 805642, 9802, 858266, 858265, 858264, 858263, 858262, 858261, 823551, 823550, 823546, 823545, 823544, 823543, 823542, 823530, 9803, 858268, 858260, 823601, 9805, 858273, 823613, 823612, 823610, 809189, 809188, 9806, 9807, 858272, 9808, 858294, 823660, 823659, 9809, 858293, 823678, 823677, 9810, 805665, 9811, 858366, 858356, 858344, 858330, 858329, 858328, 858325, 858318, 858309, 858306, 823782, 823781, 823780, 823779, 823778, 823777, 823767, 823766, 823765, 823764, 823763, 823761, 823760, 823753, 823752, 823751, 823750, 823749, 823748, 823747, 823746, 823745, 823740, 823739, 823738, 823737, 823736, 823735, 823734, 823733, 823732, 823731, 823730, 823729, 823728, 823727, 823726, 823721, 823720, 823718, 805666, 9813, 864140, 862688, 858354, 858348, 858339, 858338, 858336, 858335, 858333, 858332, 858331, 858319, 847916, 846213, 823805, 823804, 823803, 823802, 823801, 823800, 823790, 823789, 823786, 823784, 823783, 9814, 858357, 858355, 858352, 858351, 858323, 858317, 858315, 858314, 858313, 858312, 858311, 858308, 858307, 858297, 823864, 823863, 823862, 823861, 823860, 823859, 823858, 823857, 823856, 823855, 823854, 823853, 823852, 823851, 823850, 823849, 823848, 823847, 823846, 823845, 823844, 823843, 823842, 823841, 823840, 823839, 823838, 823837, 823836, 823829, 823827, 823826, 823818, 823815, 823814, 823813, 823812, 9815, 858296, 823867, 823866, 823865, 862689, 858380, 858379, 858378, 858377, 858376, 858365, 858321, 855007, 846215, 823972, 823965, 823961, 823958, 823957, 823953, 823952, 823951, 823950, 823949, 823948, 823947, 823946, 823945, 823944, 823943, 823942, 809192, 809191, 9817, 858421, 858420, 858419, 858418, 858416, 858413, 858412, 858411, 858410, 855017, 824095, 824089, 824088, 824080, 824079, 824078, 824077, 824076, 824073, 824072, 824071, 824070, 824065, 824064, 824063, 824062, 824061, 824060, 824059, 824058, 824057, 824056, 824055, 824054, 824053, 808527, 808526, 808525, 808524, 808523, 9820, 858439, 858438, 858437, 858435, 858434, 858433, 858432, 858431, 855016, 824122, 824120, 824119, 824112, 824111, 824110, 824109, 824108, 824102, 824099, 824098, 824097, 824096, 809195, 808528, 9821, 858441, 858427, 858426, 858415, 855011, 855010, 846220, 824148, 824147, 824146, 824145, 824144, 824143, 824138, 824137, 824136, 824135, 824123, 824121, 808530, 808529, 9822, 1260396, 858447, 858446, 858445, 858444, 858443, 855015, 824180, 824179, 824178, 824156, 824155, 824154, 824153, 809198, 809197, 809196, 805679, 9823, 1260881, 858454, 858424, 855018, 855014, 855013, 824205, 824192, 809200, 809199, 9824, 1260882, 855019, 809201, 9825, 9826, 1261065, 1260591, 864153, 864152, 864151, 864150, 858469, 855778, 855777, 855775, 847929, 847928, 847927, 847926, 824301, 9827, 866154, 866153, 864167, 864166, 864164, 864158, 858500, 858498, 858495, 858485, 858483, 858482, 858481, 858480, 858478, 858476, 855782, 855780, 855024, 855023, 847942, 847941, 847940, 847939, 846225, 824368, 824364, 824363, 824362, 824361, 824360, 824359, 824358, 824357, 824356, 824355, 824354, 824353, 824352, 824351, 824350, 824349, 824348, 824347, 824346, 824345, 824344, 824343, 824342, 824336, 809204, 809203, 808533, 9829, 1260975, 862701, 862699, 862698, 858499, 858497, 858496, 858494, 858491, 858490, 858488, 858484, 846226, 824379, 824377, 824376, 824375, 824374, 824373, 824372, 824371, 824370, 824369, 9830, 824380, 824378, 858536, 858534, 858533, 858532, 858531, 858530, 858529, 858527, 858526, 858525, 824536, 824533, 824532, 824531, 824530, 824529, 824528, 824527, 824523, 824522, 824516, 9835, 858539, 858538, 858537, 824545, 824544, 824543, 824539, 824538, 824537, 9836, 864177, 858541, 858540, 851555, 851554, 847952, 824574, 824565, 824564, 824563, 824557, 805693, 805692, 9837, 864181, 864180, 864179, 864178, 858543, 858542, 858528, 847956, 847955, 847954, 847953, 824597, 824586, 824581, 824580, 9838, 864191, 864190, 864189, 864188, 864187, 864186, 864185, 864184, 864183, 864182, 858594, 858544, 847966, 847965, 847964, 847963, 847962, 847961, 847960, 847959, 847958, 847957, 824641, 9839, 864194, 858605, 858602, 858599, 858596, 858595, 858592, 858591, 858584, 858583, 858582, 858580, 858577, 858564, 847969, 824745, 824744, 824739, 824738, 824737, 824726, 824725, 824724, 824723, 824722, 824721, 824720, 824719, 824713, 824712, 824711, 824710, 824709, 824708, 824704, 824696, 824695, 824694, 824693, 824692, 824691, 824690, 824686, 824685, 824684, 824683, 824682, 9841, 858590, 858589, 858588, 858586, 858585, 858579, 858573, 858571, 858568, 858565, 858562, 824793, 824792, 824791, 824790, 824789, 824788, 824784, 824783, 824782, 824781, 824780, 824779, 824778, 824765, 824764, 824759, 824758, 824757, 824756, 824755, 824754, 824753, 824752, 824750, 824746, 9842, 1260401, 862709, 858601, 858581, 858578, 858576, 858575, 858574, 858570, 858566, 858563, 858561, 858555, 858554, 858551, 858550, 858549, 846251, 824869, 824868, 824867, 824866, 824865, 824864, 824863, 824862, 824861, 824860, 824859, 824858, 824857, 824856, 824855, 824854, 824853, 824852, 824851, 824850, 824849, 824848, 824847, 824846, 824845, 824844, 824842, 824841, 824840, 824839, 824838, 824837, 824836, 824835, 824834, 824829, 824828, 824827, 824826, 824825, 824824, 824823, 824822, 824821, 824820, 824819, 824818, 824817, 824816, 824815, 824814, 824813, 824812, 824801, 824800, 824799, 824798, 824797, 824796, 824795, 824794, 9843, 866156, 864199, 864198, 864197, 864196, 864195, 858604, 858603, 858597, 858587, 858569, 858567, 858560, 858559, 858558, 858557, 858556, 858553, 858552, 858535, 850034, 847974, 847973, 847972, 847971, 847970, 824925, 824924, 824923, 824922, 824921, 824916, 824915, 824914, 824913, 824912, 824911, 824910, 824904, 824898, 824897, 824896, 824895, 824894, 824893, 824892, 824891, 824888, 824887, 824886, 824885, 824884, 824883, 824882, 824879, 824878, 824877, 824876, 824875, 824874, 824873, 824872, 824871, 9844, 866158, 864275, 864274, 864272, 864270, 858972, 858969, 858967, 858952, 858949, 858948, 858944, 858915, 858911, 854040, 851618, 850039, 848051, 848050, 827041, 827037, 827036, 827035, 827034, 827033, 827028, 827027, 827026, 827024, 827023, 827022, 827021, 827020, 827019, 827018, 827013, 827012, 827011, 827010, 827009, 827008, 827007, 827006, 827005, 827004, 805757, 9862, 864278, 864277, 864276, 862743, 858954, 858953, 858950, 858947, 858941, 858918, 858914, 858912, 858900, 858871, 848054, 848053, 848052, 846280, 846279, 827084, 827083, 827081, 827080, 827077, 827076, 827073, 827072, 827071, 827070, 827069, 827068, 827067, 827066, 827064, 827062, 827061, 827056, 827055, 827043, 827042, 827040, 9863, 858966, 858962, 858961, 858960, 858958, 858957, 858955, 858945, 858942, 858921, 858904, 827119, 827118, 827117, 827116, 827115, 827114, 827113, 827112, 827108, 827107, 827106, 827105, 827104, 827103, 827099, 827098, 827097, 827092, 827091, 827090, 827089, 827088, 827087, 827086, 827085, 805758, 9864, 858970, 858968, 858951, 858946, 858940, 858938, 858937, 858934, 858923, 858922, 858909, 858908, 858903, 858902, 858898, 858894, 858893, 858889, 858875, 858872, 827209, 827208, 827207, 827206, 827205, 827204, 827203, 827202, 827201, 827200, 827199, 827198, 827197, 827196, 827195, 827194, 827193, 827192, 827191, 827190, 827189, 827185, 827184, 827183, 827182, 827180, 827179, 827178, 827177, 827176, 827175, 827174, 827171, 827170, 827169, 827168, 827167, 827166, 827165, 827164, 827163, 827162, 827161, 827160, 827155, 827154, 827153, 827152, 827151, 827150, 827149, 827148, 827147, 827146, 827145, 827144, 827143, 827142, 827141, 827140, 827139, 827138, 827137, 827134, 827133, 827129, 827125, 827124, 9865, 1260981, 1260408, 864282, 864281, 864280, 862747, 858985, 858980, 858979, 858978, 858976, 858973, 858943, 851624, 848058, 848057, 848056, 846284, 827232, 827231, 827230, 827229, 827228, 827227, 827226, 827225, 827224, 827223, 827222, 827221, 827216, 827215, 827214, 827212, 827211, 827210, 805764, 9866, 1261068, 1261067, 864285, 864284, 864283, 858995, 858991, 858989, 858987, 858986, 858984, 858983, 858982, 858981, 858977, 851625, 848061, 848060, 848059, 827263, 827261, 827260, 827259, 827258, 827257, 827256, 827251, 827248, 827247, 827246, 827245, 827244, 827243, 827242, 827241, 827240, 827239, 827238, 827237, 827236, 808084, 805765, 804309, 9867, 862748, 859065, 859058, 859046, 859025, 859009, 859006, 859003, 859002, 858997, 858994, 855052, 854045, 846287, 846286, 846285, 827308, 827307, 827306, 827305, 827304, 827303, 827302, 827301, 827300, 827299, 827298, 827295, 827294, 827293, 827292, 827291, 827290, 827289, 827288, 827287, 827286, 827285, 827284, 827283, 827282, 827281, 827280, 827279, 827274, 827273, 827272, 827271, 827270, 827269, 827268, 827267, 827266, 808552, 9868, 859049, 859038, 859036, 859031, 859017, 827381, 827379, 827378, 827375, 827374, 827373, 827372, 827371, 827370, 827369, 827368, 827364, 827361, 827359, 9870, 859037, 859035, 859034, 859033, 859032, 859030, 859014, 859010, 858998, 858992, 858988, 827403, 827399, 827398, 827397, 827396, 827395, 827394, 827393, 827392, 827391, 827390, 827389, 827388, 827387, 827386, 827385, 827384, 827383, 827382, 827380, 9871, 827408, 827407, 827406, 827405, 827404, 859179, 828148, 828147, 828146, 9886, 804318, 9887, 859188, 859182, 859177, 851664, 828185, 828184, 828173, 805807, 805806, 805805, 9890, 1260606, 1260605, 1260418, 1260417, 864338, 864337, 864336, 859200, 848114, 848113, 848112, 828216, 9892, 859209, 828240, 828239, 828238, 9894, 9895, 9897, 9898, 9899, 9901, 9903, 9905, 9908, 9909, 859231, 828437, 9910, 855082, 808574, 9912, 9913, 9914, 9916, 864343, 851672, 848121, 848120, 848119, 805818, 805817, 805816, 805815, 805814, 805813, 9917, 859266, 859265, 828554, 828553, 828551, 828546, 9920, 1260919, 1260612, 1260421, 864358, 864357, 864356, 864355, 862951, 859271, 859270, 859269, 859268, 859267, 851682, 848134, 848133, 848132, 848131, 846725, 846724, 828564, 828563, 828562, 828561, 828557, 828556, 828555, 809245, 808575, 805824, 9921, 1261051, 859278, 859277, 828581, 828580, 828579, 828578, 9923, 1260988, 1260422, 855814, 809249, 809248, 809247, 9924, 855815, 828598, 809250, 9925, 859290, 859285, 828627, 828626, 828625, 828613, 828612, 9926, 859303, 859302, 859300, 859296, 859291, 828646, 828645, 828644, 828642, 828641, 828640, 828639, 828638, 828637, 828636, 828635, 828633, 828632, 828631, 828630, 9927, 859301, 859299, 859298, 859297, 828650, 828649, 828648, 9928, 828661, 828660, 9929, 859393, 859383, 859381, 859380, 859379, 859376, 859373, 859369, 859367, 859361, 859357, 859355, 859349, 859348, 859347, 859346, 859336, 851701, 828939, 828938, 828937, 828936, 828935, 828934, 828933, 828932, 828929, 828928, 828926, 828925, 828924, 828923, 828922, 828921, 828920, 828919, 828918, 828916, 828914, 828913, 828912, 828911, 828910, 828908, 828907, 828906, 828905, 805845, 9935, 862768, 859389, 859387, 859386, 859385, 859382, 859371, 859366, 859365, 859360, 859358, 859350, 859345, 859343, 828977, 828976, 828975, 828972, 828970, 828969, 828968, 828967, 828965, 828964, 828963, 828962, 828961, 828960, 828959, 828958, 828957, 828956, 828953, 828951, 828950, 828949, 828944, 828943, 828942, 828941, 828940, 9936, 864376, 859395, 859370, 859354, 859353, 859352, 859351, 859342, 859334, 859333, 859329, 859328, 859326, 848152, 846317, 829071, 829070, 829069, 829068, 829067, 829062, 829061, 829060, 829059, 829058, 829057, 829056, 829055, 829054, 829053, 829052, 829051, 829050, 829049, 829048, 829047, 829046, 829045, 829044, 829043, 829039, 829038, 829037, 829036, 829035, 829034, 829033, 829032, 829031, 829030, 829029, 829028, 829027, 829026, 829025, 829024, 829023, 829022, 829021, 829020, 829018, 829017, 829016, 829015, 829014, 829013, 829012, 829011, 829010, 829009, 829008, 829007, 829006, 829005, 829004, 829003, 829002, 829001, 828997, 828996, 828995, 828994, 828993, 828992, 828991, 828990, 828989, 828988, 828987, 828982, 828981, 828979, 828978, 9937, 1260619, 1260429, 859408, 859403, 829084, 829078, 9938, 859427, 859423, 829129, 829128, 829127, 829126, 829125, 829124, 829123, 9941, 9942, 804324, 9943, 859432, 829140, 9944, 864400, 864399, 859479, 859476, 859475, 859472, 859453, 859445, 859441, 859440, 859439, 859437, 848175, 848174, 829274, 829273, 829272, 829271, 829270, 829269, 829268, 829267, 829266, 829265, 829264, 829263, 829261, 829260, 829259, 829258, 829257, 829256, 829255, 829254, 829253, 829252, 829251, 829247, 829246, 829245, 829244, 829243, 829242, 829241, 829240, 805880, 805879, 805877, 805876, 805875, 9948, 864426, 864425, 864424, 864423, 864422, 864421, 864420, 864419, 864418, 864417, 864416, 864414, 864413, 864412, 864409, 864408, 864406, 862772, 859492, 859491, 859490, 859489, 859488, 859487, 859486, 859481, 859480, 855094, 854055, 851757, 851751, 851750, 851749, 851748, 851747, 851746, 851744, 851743, 851740, 848205, 848204, 848203, 848202, 848201, 848200, 848199, 848198, 848197, 848196, 848195, 848194, 848193, 848192, 848191, 829329, 829328, 829327, 829326, 829325, 829324, 829323, 829322, 829321, 829320, 829319, 829318, 829317, 829316, 829315, 829311, 829307, 829306, 808094, 805903, 805902, 805901, 805900, 805899, 805898, 805897, 805896, 805895, 805894, 805893, 805892, 805891, 805890, 9950, 864480, 864479, 859621, 859620, 859609, 859606, 859600, 859595, 859593, 859591, 859588, 859494, 848255, 848254, 830156, 830155, 830154, 830153, 830152, 830151, 830150, 830149, 830148, 830147, 830146, 830145, 830144, 830143, 830142, 830141, 830140, 830139, 830138, 830137, 830136, 830135, 830134, 830133, 830132, 830131, 830130, 830129, 830128, 830127, 830126, 830125, 830123, 830122, 830121, 830120, 830119, 830118, 830117, 9958, 1260639, 862800, 859976, 859974, 859965, 859964, 859962, 859961, 859957, 859946, 855216, 855195, 854158, 854142, 852235, 852231, 846402, 832761, 832759, 832758, 832757, 832756, 832755, 832753, 832752, 832751, 832749, 832746, 832739, 832738, 832737, 832730, 832729, 832728, 832727, 832726, 832725, 832724, 832721, 832720, 832719, 832718, 832717, 832716, 832713, 832712, 832711, 832710, 832709, 832708, 832707, 832706, 832705, 832704, 832703, 832702, 832701, 832700, 832699, 832698, 832697, 832696, 832695, 832694, 832693, 832692, 832691, 832690, 832689, 832688, 832687, 832686, 832685, 832684, 832683, 832682, 832681, 832680, 832679, 832678, 832677, 832676, 832675, 832674, 832673, 832672, 832671, 832670, 832669, 832668, 832667, 832666, 832665, 832664, 832663, 832662, 832661, 832660, 832659, 832658, 832657, 832656, 832655, 832654, 832653, 832652, 832651, 832650, 832649, 832648, 832647, 832646, 832645, 832644, 809322, 806382, 9978, 860212, 834811, 834810, 9997, 1260645, 860216, 860215, 860214, 860213, 855306, 855296, 834829, 834828, 834823, 834822, 834819, 834818, 9998, 860512, 860500, 860499, 860491, 860483, 860480, 860469, 860467, 860466, 860438, 860437, 860436, 860435, 860434, 860433, 846504, 846503, 836246, 836244, 836243, 836242, 836241, 836233, 836232, 836231, 836230, 836229, 836225, 836224, 836223, 836222, 836221, 836220, 836219, 836218, 836217, 836216, 836211, 836210, 836209, 836208, 836207, 836206, 836205, 836204, 836203, 836202, 836201, 836200, 836199, 836198, 836197, 836196, 836195, 836194, 836193, 836192, 836191, 836190, 836189, 836188, 836182, 836180, 836179, 10012, 862844, 860497, 860496, 860495, 860490, 860489, 860488, 860487, 860486, 860485, 860479, 860463, 846510, 836432, 836431, 836430, 836429, 836422, 836421, 836420, 836419, 836418, 836414, 836413, 836412, 836411, 836410, 836409, 836408, 836407, 836406, 836405, 836401, 836400, 836399, 836398, 836397, 836389, 836388, 836387, 836386, 836385, 836384, 836383, 836374, 836373, 10014, 1260496, 860528, 860515, 860423, 860414, 836617, 836611, 836609, 836606, 836605, 836604, 836603, 836602, 10017, 1261025, 1260648, 1260647, 860517, 860516, 855366, 846513, 836619, 836618, 808753, 807055, 10018, 860526, 860525, 860524, 860523, 860522, 860521, 860520, 852908, 851665, 836648, 836647, 836641, 836640, 836639, 836637, 836635, 10019, 860543, 860540, 860532, 860531, 860529, 860518, 836658, 836657, 836656, 836651, 836650, 836649, 10020, 860539, 860534, 860527, 860519, 852909, 836665, 836664, 836663, 807056, 10021, 860533, 860530, 836692, 836691, 836688, 836687, 836686, 836685, 10023, 860545, 860544, 860542, 836694, 836693, 10024, 860574, 10025, 852912, 807059, 10026, 860561, 836731, 10027, 860567, 860566, 836750, 836749, 836748, 10028, 836756, 836755, 10029, 860572, 860571, 836765, 10030, 1260805, 1260503, 860632, 860631, 860630, 860629, 860628, 860627, 860621, 860612, 855376, 854441, 837091, 837081, 837080, 837079, 837078, 837077, 837076, 837075, 837074, 837073, 837072, 837071, 837070, 837069, 837068, 837067, 809421, 10036, 860636, 860635, 860634, 837107, 837106, 10037, 862845, 860637, 837109, 837108, 10038, 1260505, 866199, 865467, 865463, 865462, 860697, 860694, 860693, 860692, 860691, 860655, 860652, 860651, 860650, 860647, 860646, 855392, 855391, 855390, 854454, 854453, 854450, 853056, 853052, 853051, 853049, 853048, 853047, 853045, 853038, 853028, 853019, 853006, 853005, 849244, 849242, 849238, 849237, 837464, 837463, 837461, 837460, 837452, 837451, 837450, 837446, 837445, 837444, 837443, 837439, 837438, 837437, 837436, 837435, 837434, 837433, 837432, 837431, 837430, 837429, 837428, 837427, 837426, 837425, 837424, 837423, 837422, 837421, 837420, 837419, 837418, 837417, 837416, 837415, 837414, 837413, 837412, 837411, 837410, 837409, 837408, 837407, 837406, 837405, 837404, 837403, 837401, 837399, 837398, 837397, 837396, 837395, 837394, 837393, 837392, 837387, 808226, 807209, 807207, 807205, 807203, 807201, 807200, 10042, 1260809, 1260808, 1260651, 1260507, 1260506, 865479, 865478, 865477, 865476, 865475, 865474, 865472, 865470, 865469, 862846, 860733, 860730, 860728, 860725, 860721, 860719, 860718, 860715, 860708, 860707, 860705, 860704, 860702, 860701, 860700, 860699, 860698, 854463, 853071, 853070, 853069, 853067, 853066, 853065, 853064, 853063, 853062, 853061, 853060, 853058, 853054, 850149, 849254, 849253, 849252, 849251, 849250, 849249, 849247, 849246, 849245, 846539, 846538, 837604, 837603, 837601, 837600, 837599, 837598, 837597, 837596, 837595, 837594, 837593, 837591, 837590, 837589, 837588, 837587, 837586, 837585, 837584, 837583, 837582, 837581, 837580, 837579, 837578, 837577, 837576, 837575, 837574, 837573, 837572, 837571, 837570, 837569, 837568, 837567, 837566, 837565, 837564, 837563, 837562, 837561, 837560, 837559, 837558, 837557, 837556, 837555, 837554, 837553, 837552, 837551, 837550, 837549, 837548, 837547, 837546, 837545, 837544, 837543, 837542, 837541, 837540, 837539, 837538, 837537, 837536, 837535, 837534, 837533, 837532, 837531, 837529, 837528, 837527, 837526, 837525, 837524, 837523, 837522, 837521, 837520, 837519, 837518, 837517, 837516, 837515, 837514, 837513, 837512, 837511, 837510, 837509, 837508, 837507, 837506, 837505, 837504, 837503, 837502, 837501, 837500, 837499, 837498, 837497, 837496, 837495, 837494, 837493, 837492, 837491, 837490, 837489, 837488, 837487, 837486, 837485, 837484, 837483, 837482, 837481, 837480, 837479, 837478, 837477, 837476, 837475, 837474, 837473, 837472, 837471, 837470, 837469, 837468, 837467, 837466, 837465, 837462, 808774, 808228, 808227, 807225, 807224, 807223, 807221, 807220, 807219, 807218, 807216, 807215, 807214, 807213, 807212, 807211, 807210, 10043, 865494, 865493, 862850, 862849, 860769, 860768, 860767, 860766, 860765, 860764, 860756, 860752, 860751, 860750, 860749, 860747, 860744, 860742, 860737, 860736, 855409, 855402, 854468, 853133, 853131, 853129, 853128, 853127, 853126, 849269, 849268, 846541, 837814, 837813, 837810, 837808, 837804, 837803, 837802, 837801, 837800, 837799, 837798, 837797, 837796, 837795, 837794, 837793, 837792, 837791, 837790, 837789, 837788, 837787, 837786, 837785, 837784, 837783, 837782, 837773, 808783, 808234, 807282, 807280, 807279, 807278, 807277, 807276, 807275, 10046, 865496, 862847, 860836, 860822, 860811, 860802, 860798, 860797, 860795, 860775, 860773, 860772, 860771, 860770, 855408, 854469, 854465, 853130, 849271, 846545, 846544, 846543, 846542, 837944, 837943, 837942, 837940, 837939, 837938, 837937, 837936, 837935, 837934, 837933, 837932, 837931, 837930, 837929, 837928, 837927, 837926, 837925, 837924, 837923, 837922, 837921, 837920, 837919, 837916, 837915, 837914, 837913, 837912, 837911, 837910, 837909, 837908, 837907, 837906, 837905, 837904, 837903, 837902, 837901, 837900, 837899, 837898, 837897, 837896, 837895, 837888, 837887, 837886, 837885, 837884, 837883, 837882, 837881, 837880, 837879, 837878, 837877, 837876, 837875, 837874, 837873, 837872, 837871, 837870, 837869, 837868, 837867, 837866, 837865, 837864, 837863, 837862, 837861, 837860, 837859, 837858, 837857, 837856, 837855, 837854, 837853, 837852, 837851, 837842, 837841, 837840, 837839, 837838, 837837, 837836, 837835, 837834, 837833, 837832, 837831, 837830, 837829, 837828, 837827, 837826, 837825, 837824, 837823, 837822, 837821, 837820, 808784, 10047, 1260810, 860875, 860873, 860856, 860855, 860852, 838746, 838745, 838742, 838741, 838740, 838733, 838732, 838731, 838730, 838729, 838728, 838726, 838717, 10053, 865541, 860887, 860884, 860883, 860882, 860881, 860880, 860878, 860877, 860876, 860874, 860863, 860860, 853192, 849316, 838772, 838766, 838765, 838764, 838763, 838762, 838761, 838757, 838756, 838755, 838754, 838753, 838747, 807343, 807342, 10054, 1261074, 1261035, 1260513, 865561, 860902, 860900, 860899, 860898, 860897, 860896, 860895, 853206, 853204, 853203, 853201, 853200, 853199, 849336, 838803, 838802, 838798, 838797, 838796, 838789, 838788, 838787, 838785, 838784, 809455, 807358, 807357, 807356, 807355, 807354, 807353, 807352, 807351, 10056, 865583, 862857, 860980, 860979, 860978, 860977, 860975, 860974, 860973, 860972, 860947, 860941, 860934, 860911, 860901, 849358, 839096, 839095, 839094, 839093, 839089, 839085, 839084, 839083, 839082, 839081, 839079, 839078, 839077, 839072, 839071, 839070, 839069, 839068, 839067, 839066, 10061, 861053, 861052, 861050, 861045, 861044, 861043, 861042, 861040, 861038, 861035, 861034, 861033, 861031, 861030, 846580, 839439, 839438, 839437, 839436, 839435, 839432, 839431, 839430, 839429, 839428, 839427, 839426, 839425, 839424, 839423, 839422, 839421, 839420, 839419, 839418, 839417, 839416, 839415, 839414, 839413, 839412, 839411, 839410, 839409, 839408, 839407, 839405, 839404, 839403, 839402, 839401, 839400, 839399, 839398, 839397, 839396, 839395, 839394, 839393, 839392, 839391, 839390, 839389, 839388, 839387, 809462, 808803, 808802, 807455, 807454, 10066, 1261039, 866202, 865670, 865664, 865660, 865658, 865657, 865656, 865655, 865654, 865653, 865650, 865649, 865648, 865647, 865646, 865645, 865644, 862864, 862863, 861084, 861077, 861072, 861066, 861060, 861056, 861055, 861054, 861041, 861039, 861032, 861028, 855868, 855479, 855478, 855472, 855471, 854512, 854511, 853312, 853310, 853305, 853304, 853301, 853300, 850162, 849445, 849439, 849438, 849435, 849433, 849432, 849431, 849430, 849429, 849428, 849425, 849424, 849423, 849422, 849421, 849420, 849419, 839467, 839465, 839464, 839463, 839462, 839461, 839460, 839459, 839458, 839456, 839455, 839454, 839453, 839452, 839451, 839450, 839449, 839448, 839447, 839446, 839445, 839444, 839442, 839441, 839440, 808804, 808249, 808248, 807469, 807468, 807467, 807465, 807460, 807459, 807458, 10067, 839470, 839469, 839468, 839466, 839457, 865743, 861163, 861162, 861161, 849519, 839787, 839786, 839780, 839779, 839778, 808896, 10075, 866209, 866208, 862867, 861164, 855871, 855510, 855509, 839799, 839798, 839797, 808819, 10076, 1260819, 865770, 865769, 865767, 865766, 862870, 861200, 861199, 861197, 861195, 861194, 861193, 861190, 861189, 861188, 861187, 861186, 861185, 861184, 855517, 855516, 855493, 853428, 850173, 849546, 849545, 846598, 846597, 839878, 839877, 839876, 839875, 839874, 839873, 839872, 839871, 839870, 839869, 839868, 839867, 839866, 839865, 839864, 839863, 839862, 808259, 807584, 10080, 861215, 861214, 861213, 861212, 861211, 861210, 861209, 861208, 861207, 861206, 861204, 861203, 861202, 861201, 861198, 861196, 855519, 854543, 839904, 839900, 839899, 839898, 839897, 839896, 839895, 839894, 839893, 839892, 839891, 839890, 839881, 839880, 839879, 807585, 10081, 861232, 861231, 861230, 861229, 861228, 861227, 861226, 861224, 861223, 839963, 839962, 839959, 839958, 839957, 839956, 839955, 839954, 839953, 839945, 839944, 10083, 861235, 861234, 839968, 839965, 10084, 865777, 861247, 849553, 10085, 807593, 10086, 10087, 10088, 10089, 866213, 807599, 807598, 10090, 865785, 865783, 865782, 855524, 849561, 849559, 10092, 849562, 853443, 10094, 853449, 853448, 840009, 809478, 807610, 807609, 10095, 861254, 861253, 861251, 840013, 840012, 10096, 861445, 861444, 861441, 861438, 861437, 861436, 861435, 861419, 861418, 861417, 861416, 841222, 841220, 841219, 841218, 841215, 841214, 841213, 841211, 841210, 841209, 841208, 841207, 10108, 861447, 861446, 861442, 861415, 861414, 861406, 855551, 841234, 841233, 841232, 841231, 841230, 841229, 841228, 841227, 841226, 841225, 841224, 841223, 10109, 861457, 861453, 861452, 861451, 861450, 861449, 861448, 855552, 853524, 841248, 841247, 841246, 841245, 841244, 841243, 841242, 841241, 841240, 841239, 841238, 841237, 841236, 841235, 809501, 807685, 10110, 861471, 861470, 861469, 861467, 861465, 861464, 861463, 861462, 861461, 861460, 861459, 861458, 861456, 861455, 861454, 841278, 841277, 841276, 841275, 841274, 841273, 841272, 841271, 841270, 841269, 841268, 841267, 841266, 841265, 841264, 841263, 841262, 841261, 841260, 841259, 841258, 841257, 841253, 841252, 841251, 841250, 841249, 10111, 861505, 861504, 861503, 861484, 861481, 861477, 861476, 861473, 861472, 855879, 841291, 841290, 841289, 841287, 841286, 841285, 841283, 841282, 841281, 807686, 10112, 1260658, 861502, 861501, 861496, 861490, 861487, 861485, 861482, 841306, 841305, 841304, 841302, 841301, 841300, 841299, 841298, 841295, 841294, 841293, 841292, 841288, 10113, 861495, 861493, 841312, 841311, 841310, 841309, 841308, 841307, 10114, 1261044, 1260528, 861498, 861497, 861494, 861491, 855881, 855880, 841315, 841314, 841313, 809503, 809502, 10115, 861500, 861499, 861492, 861483, 861478, 853527, 853526, 853525, 841323, 841322, 841321, 841319, 841318, 841317, 841316, 807689, 807688, 807687, 10116, 861508, 861506, 861488, 861486, 861480, 861479, 861475, 861474, 861468, 861466, 841336, 841335, 841334, 841333, 841332, 841331, 841330, 841329, 841328, 841327, 841326, 841325, 841324, 809507, 809506, 809505, 809504, 807690, 10117, 861579, 861539, 861533, 861532, 861530, 861524, 861523, 861518, 861517, 854554, 854553, 853534, 853533, 853531, 853529, 841411, 841410, 841409, 841408, 841407, 841406, 841405, 841404, 841403, 841402, 841401, 841400, 841399, 841398, 841397, 841396, 841395, 841394, 841393, 841392, 841391, 841390, 841389, 841388, 841387, 841386, 841385, 841384, 841383, 841382, 841381, 841380, 841379, 841378, 841377, 841376, 841375, 841374, 841373, 841372, 841371, 841370, 841369, 841367, 841364, 841363, 841362, 841361, 841360, 841359, 841358, 841357, 841356, 841355, 841354, 841353, 841352, 841351, 841350, 841349, 841348, 841347, 841346, 841345, 841344, 841343, 841342, 841341, 841340, 841339, 841338, 841337, 809509, 809508, 808266, 807706, 807705, 807704, 807703, 807702, 807701, 807700, 807699, 807698, 807697, 807696, 807695, 807694, 807693, 807692, 807691, 10118, 865849, 861569, 861565, 861564, 861563, 861562, 861561, 861559, 861551, 861550, 861534, 861521, 861511, 861510, 853562, 853561, 849624, 841584, 841582, 841581, 841580, 841579, 841578, 841577, 841576, 841575, 841574, 841573, 841572, 841571, 841570, 841569, 841568, 841567, 841566, 841562, 841561, 841560, 841559, 841558, 841557, 841556, 841554, 841553, 841552, 841551, 841550, 841546, 841545, 841544, 841543, 10121, 861607, 861582, 861581, 861580, 861558, 861526, 861522, 861515, 841603, 841599, 841598, 841597, 841595, 841594, 841592, 841590, 841589, 841588, 841587, 841586, 841585, 10122, 1260899, 862894, 861604, 861603, 861602, 861600, 861599, 861598, 861597, 861596, 861595, 861594, 861592, 861591, 861590, 861589, 861584, 846641, 841628, 841627, 841626, 841625, 841624, 841623, 841622, 841621, 841620, 841619, 841618, 841615, 841614, 841613, 841610, 841609, 841608, 841607, 841606, 841605, 841604, 807727, 10123, 861601, 861593, 861587, 861586, 861585, 846643, 841644, 841640, 841639, 841638, 841637, 841636, 841635, 841634, 841633, 841632, 841631, 841630, 841629, 10124, 862897, 861606, 861605, 861588, 861583, 841654, 841653, 841652, 841651, 841650, 841649, 841648, 841647, 841646, 841645, 10125, 1260829, 853564, 841663, 841656, 807728, 10126, 1260900, 861608, 10127, 841683, 841682, 841679, 841678, 10128, 1260901, 854560, 807735, 10129, 10130, 10131, 1260903, 861621, 861620, 861619, 861618, 861617, 861616, 855883, 855562, 841714, 841713, 841712, 841710, 809513, 10133, 855884, 853580, 853579, 853578, 853577, 853576, 853575, 809514, 808846, 808270, 807744, 807743, 807742, 807741, 807740, 807739, 10134, 866216, 861624, 853583, 841716, 807747, 10135, 865873, 865872, 865871, 865870, 865869, 865868, 861623, 855563, 850183, 850182, 849648, 849647, 849646, 849645, 849644, 849643, 841717, 10136, 841719, 841718, 10137, 10138, 10139, 853584, 807748, 10140, 10141, 10142, 841739, 10144, 1260532, 861637, 861636, 861634, 861633, 861632, 861631, 861630, 861629, 855570, 855568, 855566, 855565, 846650, 841755, 841754, 841753, 841752, 841751, 841750, 841749, 841748, 841747, 841746, 841745, 841744, 841743, 841742, 809516, 808848, 808847, 807749, 10145, 861628, 861627, 861626, 861625, 855564, 853585, 841762, 841761, 841760, 841759, 841758, 841757, 808849, 10146, 1261045, 1260533, 861638, 855569, 855567, 841765, 841764, 808850, 10147, 861655, 861654, 861653, 861648, 861647, 861646, 861642, 861641, 861640, 841776, 841775, 841774, 841773, 841772, 841771, 841770, 841769, 841768, 841767, 841766, 10148, 861652, 861651, 861650, 841780, 841779, 841777, 10149, 1260904, 1260832, 861675, 861645, 861644, 861643, 861639, 855887, 855886, 855572, 855571, 841789, 841788, 841787, 841783, 841782, 841781, 809518, 808851, 10150, 861665, 861662, 841795, 841792, 841791, 841790, 807751, 10151, 841799, 10152, 861660, 10153, 861690, 861685, 809520, 809519, 10154, 861668, 861661, 841807, 10155, 10156, 861682, 861681, 861680, 861673, 861672, 841819, 841818, 841817, 841816, 841815, 841814, 841813, 841812, 841811, 841810, 841809, 10157, 861683, 861676, 841826, 841825, 841824, 841822, 841821, 841820, 10158, 861684, 861679, 861678, 861677, 855888, 841840, 841839, 841838, 841837, 841833, 841829, 841828, 10159, 861689, 861688, 861686, 861671, 861670, 861663, 861659, 841854, 841853, 841852, 841851, 841849, 841848, 841847, 841846, 841845, 841844, 841843, 841842, 841841, 809525, 809524, 809523, 809522, 809521, 10160, 861745, 861730, 861727, 861724, 861723, 861722, 861721, 861716, 861706, 861705, 846652, 841967, 841966, 841965, 841964, 841962, 841961, 841960, 841959, 841958, 841957, 841956, 841954, 841953, 841952, 841951, 841950, 841949, 841948, 841947, 841946, 841943, 841942, 841941, 841940, 841939, 841938, 841937, 841936, 841935, 841934, 841933, 841932, 841931, 841930, 841929, 841928, 841927, 841926, 841925, 841924, 841923, 841922, 841921, 841920, 841919, 841918, 841917, 841916, 841915, 841914, 841913, 841912, 841911, 841910, 841909, 841908, 841907, 841906, 841904, 841903, 841902, 841901, 841900, 841899, 841898, 841897, 841896, 841895, 841894, 841893, 809527, 809526, 10162, 1260537, 865882, 861776, 861769, 861742, 861740, 861738, 861737, 861728, 861720, 861719, 861718, 861717, 861712, 861708, 861707, 861703, 861702, 861701, 861695, 855891, 855890, 855592, 853597, 853596, 853595, 853594, 853593, 853592, 849657, 846653, 842061, 842053, 842051, 842050, 842049, 842048, 842047, 842044, 842043, 842042, 842041, 842040, 842036, 842035, 842034, 842033, 842032, 842031, 842030, 842029, 842028, 842027, 842026, 842025, 842024, 842023, 842022, 842021, 842020, 842019, 842018, 842017, 842016, 842015, 842014, 842013, 842012, 842011, 842010, 842009, 842007, 842006, 842005, 842004, 842003, 842002, 842001, 842000, 841999, 841998, 841997, 841996, 841995, 841994, 841993, 841992, 841991, 841990, 841989, 841988, 841986, 841984, 841983, 841982, 841981, 841980, 841979, 841978, 841977, 841976, 841975, 841974, 841973, 841972, 841971, 841970, 841969, 841968, 841963, 809529, 808272, 807764, 807763, 807762, 807761, 807760, 807759, 807758, 10163, 861778, 861777, 861775, 861774, 861773, 861771, 861764, 861763, 861762, 861761, 861759, 861758, 861757, 861755, 861754, 861752, 861751, 861739, 861726, 861710, 861704, 861698, 861694, 842129, 842128, 842127, 842126, 842125, 842124, 842123, 842122, 842120, 842119, 842118, 842117, 842116, 842115, 842114, 842113, 842112, 842111, 842110, 842109, 842108, 842107, 842106, 842105, 842104, 842103, 842102, 842101, 842100, 842099, 842098, 842097, 842096, 842095, 842094, 842093, 842092, 842091, 842090, 842089, 842088, 842087, 842086, 842085, 842084, 842083, 842082, 842081, 842080, 842079, 842078, 842077, 842076, 842075, 842074, 842073, 842072, 842071, 842070, 842069, 842068, 842067, 842066, 842065, 842064, 842063, 842062, 842060, 842059, 842058, 842057, 842056, 842055, 842054, 842052, 842046, 842045, 804326, 10164, 861779, 861772, 861770, 861768, 861767, 861766, 861760, 861756, 861753, 861750, 861747, 861746, 861743, 861736, 861731, 861725, 861715, 861711, 861709, 861700, 861699, 853598, 842217, 842211, 842210, 842205, 842204, 842203, 842199, 842198, 842197, 842195, 842194, 842192, 842191, 842190, 842189, 842188, 842187, 842186, 842184, 842183, 842182, 842181, 842180, 842179, 842178, 842177, 842176, 842175, 842174, 842173, 842172, 842171, 842170, 842169, 842168, 842167, 842166, 842165, 842164, 842163, 842162, 842161, 842159, 842158, 842157, 842156, 842155, 842154, 842153, 842152, 842151, 842150, 842149, 842148, 842147, 842146, 842145, 842144, 842143, 842142, 842141, 842140, 842139, 842138, 842137, 842136, 842135, 842134, 842133, 842132, 842131, 842130, 809530, 808856, 10165, 1260835, 865883, 861834, 861833, 861832, 861826, 861825, 861824, 861822, 861818, 861817, 861816, 861814, 861806, 861801, 861795, 861696, 861693, 855893, 849658, 846654, 842391, 842390, 842389, 842388, 842387, 842386, 842385, 842384, 842383, 842382, 842381, 842380, 842379, 842378, 842377, 842376, 842375, 842374, 842373, 842372, 842371, 842370, 842369, 842368, 842367, 842366, 842365, 842364, 842363, 842362, 842361, 842360, 842359, 842358, 842357, 842356, 842355, 842354, 842353, 842352, 842351, 842350, 842349, 842348, 842347, 842346, 842345, 842344, 842343, 842342, 842341, 842340, 842339, 842338, 842337, 842336, 842335, 842334, 842333, 842332, 842331, 842330, 842329, 842328, 842327, 842326, 842325, 842324, 842323, 842322, 842321, 842320, 842319, 842318, 842317, 842316, 842315, 842314, 842313, 842312, 842311, 842310, 842309, 842308, 842307, 842306, 842305, 842304, 842303, 842302, 842301, 842300, 842299, 842298, 842297, 842296, 842295, 842294, 842293, 842292, 842291, 842290, 842289, 842288, 842287, 842286, 842285, 842284, 842283, 842282, 842281, 842280, 842279, 842278, 842277, 842276, 842275, 842274, 842273, 842272, 842271, 842270, 842269, 842268, 842267, 842266, 842265, 842264, 842263, 842262, 842261, 842260, 842259, 842258, 842257, 842256, 842255, 842254, 842253, 842252, 842251, 842250, 842249, 842248, 842247, 842246, 842245, 842244, 842243, 842242, 842241, 842240, 842239, 842238, 842237, 842236, 842235, 842234, 842233, 842232, 842231, 842230, 842229, 842228, 842227, 842226, 842225, 842224, 842223, 842222, 842221, 842220, 842219, 842218, 842216, 842215, 842214, 842213, 842212, 842209, 842208, 842207, 842206, 842202, 842201, 842200, 842196, 842193, 842185, 807773, 807772, 807771, 807770, 807769, 807768, 807767, 807766, 807765, 10166, 865914, 861898, 861897, 861890, 861888, 861884, 861865, 861862, 861860, 861855, 861849, 861848, 861843, 861842, 855599, 849689, 842881, 842880, 842879, 842878, 842877, 842876, 842875, 842874, 842873, 842872, 842871, 842870, 842869, 842868, 842867, 842866, 842865, 842864, 842863, 842862, 842861, 842860, 842859, 842858, 842857, 842856, 842855, 842854, 842853, 842852, 842851, 842850, 842849, 842848, 842847, 842846, 842845, 842844, 842843, 842842, 842841, 842840, 842839, 842838, 842837, 842836, 842835, 842834, 842833, 842832, 842831, 842830, 842829, 842827, 842826, 842825, 842824, 842823, 842822, 842821, 842820, 842819, 842818, 842817, 842816, 842815, 842814, 842813, 842812, 842811, 809538, 808864, 10171, 861916, 861908, 861907, 861906, 861905, 861899, 861896, 861892, 861838, 861836, 855597, 842892, 842891, 842890, 842889, 842888, 842886, 842885, 842884, 842883, 842882, 10172, 861914, 861912, 842912, 842911, 842910, 842909, 842908, 842907, 842906, 842905, 842904, 842903, 842897, 842896, 842895, 842894, 842893, 10173, 861917, 861913, 861911, 861910, 861909, 861904, 861895, 842916, 842915, 842914, 10174, 862913, 862912, 862911, 862910, 862907, 861958, 861955, 861954, 861952, 861950, 861949, 861948, 861947, 861942, 861940, 861939, 861934, 861932, 861931, 861930, 861928, 861927, 861923, 861921, 855892, 855603, 855589, 846666, 846665, 846664, 846663, 846662, 843035, 843034, 843033, 843032, 843031, 843030, 843029, 843028, 843027, 843026, 843025, 843024, 843023, 843022, 843021, 843020, 843019, 843018, 843017, 843016, 843015, 843014, 843013, 843012, 843011, 843010, 843009, 843008, 843007, 843006, 843005, 843004, 843003, 843002, 843001, 843000, 842999, 842998, 842997, 842996, 842995, 842994, 842993, 842992, 842991, 842990, 842989, 842988, 842987, 842986, 842985, 842984, 842983, 842982, 842981, 842980, 842979, 842978, 842977, 842976, 842975, 842974, 842973, 842972, 842971, 842970, 842969, 842968, 842967, 842965, 842964, 842963, 842962, 842961, 842960, 842959, 842958, 842957, 842956, 842955, 842954, 842953, 842952, 842946, 842945, 10176, 865932, 862914, 862081, 862077, 862073, 862045, 862043, 862042, 862040, 862034, 862033, 862032, 862031, 862030, 862029, 862028, 862027, 862026, 862024, 862019, 862018, 861974, 855604, 849713, 849712, 849711, 849710, 849709, 849708, 849707, 846670, 843258, 843257, 843256, 843254, 843253, 843252, 843251, 843250, 843249, 843248, 843247, 843246, 843245, 843244, 843243, 843242, 843241, 843240, 843239, 843238, 843237, 843236, 843235, 843234, 843233, 843232, 843231, 843230, 843229, 843228, 843227, 843226, 843225, 843224, 843223, 843222, 843221, 843220, 843219, 843218, 843217, 843216, 843215, 843214, 843213, 843212, 843211, 807853, 807852, 807851, 807850, 807849, 10180, 1260913, 866031, 862266, 862255, 862246, 862240, 862235, 862234, 862233, 862231, 862230, 862229, 862228, 862227, 862226, 862225, 862223, 862221, 862220, 862217, 862216, 862214, 862213, 855632, 853741, 853740, 849807, 844813, 844811, 844810, 844809, 844808, 844807, 844805, 844804, 844803, 844802, 844801, 844800, 844799, 844798, 844796, 844795, 844794, 844793, 844792, 844791, 844790, 844789, 844788, 844787, 844786, 844785, 844784, 844783, 844782, 844781, 844780, 844779, 844778, 844770, 844769, 844768, 844767, 844766, 844765, 844764, 844763, 844762, 844761, 844760, 844759, 844758, 844757, 844756, 844755, 844754, 844751, 844750, 844749, 844748, 844747, 844746, 844745, 844744, 844743, 844742, 844741, 844740, 844739, 844738, 844737, 844736, 844735, 844734, 844733, 844732, 844731, 844730, 807909, 807908, 807907, 10193, 1261047, 1260915, 1260542, 862280, 862277, 862273, 862272, 862271, 862270, 862269, 862268, 862267, 862265, 862261, 862259, 862258, 862242, 862222, 862215, 855629, 844862, 844861, 844860, 844859, 844858, 844857, 844855, 844854, 844853, 844852, 844851, 844850, 844849, 844848, 844847, 844846, 844845, 844844, 844843, 844842, 844841, 844840, 844839, 844838, 844837, 844836, 844835, 844834, 844833, 844832, 844831, 844830, 844829, 844828, 844827, 844826, 844825, 844824, 844823, 844822, 844821, 844820, 844819, 844818, 844817, 844816, 844815, 844814, 844812, 809560, 808876, 10194, 1261048, 1260545, 1260544, 866045, 866044, 866043, 866042, 866041, 866038, 862939, 862938, 862937, 862368, 862353, 862338, 862332, 862330, 862329, 862328, 862327, 862326, 862325, 862309, 855904, 855652, 855647, 855646, 855645, 855643, 855635, 855634, 853752, 853750, 849821, 849820, 849819, 849818, 849817, 846702, 846701, 846700, 845199, 845198, 845197, 845196, 845195, 845194, 845193, 845192, 845191, 845190, 845189, 845188, 845187, 845186, 845185, 845184, 845183, 845182, 845181, 845180, 845179, 845178, 845177, 845176, 845175, 845174, 845172, 845171, 845170, 845169, 845168, 845166, 845165, 845164, 845163, 845162, 845161, 845160, 845159, 845158, 845157, 845156, 845155, 845154, 845153, 845152, 845151, 845150, 845149, 845148, 845147, 845146, 845145, 845144, 845143, 845142, 845141, 845140, 845139, 845138, 845137, 845136, 845135, 845134, 845133, 845132, 845131, 845130, 845129, 845128, 845127, 845126, 845125, 845124, 845123, 845122, 845121, 845120, 845115, 845114, 845113, 845112, 845111, 845110, 845109, 845108, 845107, 845106, 845105, 845104, 845103, 845102, 845101, 845100, 845099, 845098, 845097, 845096, 845095, 845094, 845093, 808280, 807921, 10198, 1261075, 862449, 862448, 862447, 862446, 862445, 862444, 862442, 862426, 850207, 845677, 845676, 845675, 845674, 845673, 845669, 845668, 845667, 845666, 845665, 845664, 10206, 862459, 862457, 862453, 862452, 862450, 845691, 845689, 845688, 845682, 845681, 845680, 845678, 10207, 1260847, 862463, 854585, 853793, 853792, 853789, 853788, 853786, 853784, 853783, 853782, 853781, 853780, 853779, 853777, 845704, 808288, 808287, 808286, 808285, 808284, 807962, 807961, 807960, 807959, 807958, 807957, 807956, 807955, 807954, 807953, 807952, 807951, 807950, 807949, 807948, 807946, 10208, 862464, 854586, 853798, 853791, 853790, 853787, 853785, 807968, 807967, 807966, 10209, 862468, 862467, 862466, 862465, 845713, 845712, 845711, 845708, 845707, 10210, 862483, 862482, 862477, 862475, 862471, 853797, 845725, 845724, 845717, 10211, 866104, 862523, 862522, 862521, 862520, 862514, 849879, 845856, 845846, 845845, 845844, 845843, 845842, 845841, 10215, 1260918, 862528, 862527, 862526, 862525, 862524, 845869, 845868, 845867, 845865, 845863, 845862, 845858, 845857, 10216, 862530, 862529, 845879, 10217, 862531, 845880, 10218, 855911, 809601, 10219, 1260666, 1260292, 862966, 862535, 862534, 855972, 855971, 855970, 855969, 855968, 855967, 855966, 855964, 855956, 854599, 854598, 846739, 845884, 809731, 809730, 809729, 809728, 809727, 809726, 809725, 809724, 809723, 809722, 809721, 809720, 809719, 809718, 809717, 809716, 809715, 809714, 809713, 809712, 809711, 809710, 809709, 809702, 10224, 1260848, 1260667, 855994, 855992, 855991, 855989, 855987, 855980, 855979, 855976, 855975, 855973, 845886, 845885, 809760, 809759, 809758, 809757, 809756, 809755, 809754, 809753, 809752, 809751, 809750, 809749, 809748, 809747, 809741, 809740, 809739, 809738, 809737, 809736, 809735, 809734, 809733, 809732, 10225, 1260849, 856002, 855997, 855996, 855995, 855993, 855990, 855988, 855981, 855978, 855977, 845887, 809788, 809787, 809786, 809785, 809784, 809783, 809782, 809779, 809776, 809775, 809774, 809773, 809772, 809771, 809770, 809768, 809767, 809766, 809765, 809764, 809763, 809762, 809761, 10226, 862996, 862995, 862994, 862993, 862992, 862991, 862990, 862545, 862544, 856132, 856064, 856063, 856058, 856051, 856048, 856046, 856044, 856041, 856039, 856037, 856036, 856035, 856023, 854609, 854608, 854607, 850234, 850233, 850232, 850231, 850230, 850229, 850228, 850227, 850226, 850219, 849884, 849883, 846769, 846768, 846767, 846766, 846765, 845894, 845893, 845892, 845891, 845890, 809957, 809956, 809955, 809954, 809952, 809951, 809950, 809949, 809946, 809945, 809944, 809943, 809942, 809941, 809940, 809939, 809938, 809937, 809936, 809935, 809934, 809933, 809932, 809931, 809930, 809929, 809928, 809927, 809926, 809925, 809924, 809923, 809922, 809921, 809920, 809919, 809918, 809917, 809916, 809915, 809912, 809911, 809910, 809909, 809908, 809907, 809906, 809905, 809904, 809903, 809902, 808898, 808299, 808298, 808297, 804354, 804353, 804352, 804351, 804350, 804349, 804348, 804347, 804346, 10230, 15610, 856171, 856170, 856169, 856168, 856167, 856140, 856139, 856135, 856078, 850238, 810283, 810282, 810281, 810280, 810279, 810278, 810277, 810276, 810271, 810270, 810269, 810268, 810267, 810264, 810263, 804359, 804358, 10235, 856156, 856155, 856153, 850239, 810292, 810291, 810290, 810289, 810288, 810284, 804360, 10236, 856161, 856160, 856159, 856158, 856157, 856154, 850240, 810309, 810308, 810306, 810305, 810304, 810303, 810302, 810301, 810300, 810299, 810298, 10237, 1260921, 863062, 863061, 863060, 863059, 863058, 856281, 856276, 856273, 856267, 856263, 856262, 856261, 856260, 856259, 856258, 856252, 854655, 854654, 854653, 854652, 850287, 849894, 849893, 849892, 849891, 849890, 849889, 846836, 846835, 846834, 846833, 846832, 810829, 810824, 810823, 810819, 810818, 810817, 810816, 810815, 810814, 810813, 810812, 810811, 810810, 810809, 810808, 810807, 810806, 810805, 810804, 810803, 810802, 810801, 810800, 810799, 810798, 810797, 810796, 810795, 810794, 810793, 810792, 810791, 810790, 810789, 810788, 810787, 810786, 810785, 810784, 810783, 810782, 810781, 810775, 810774, 810773, 810772, 810771, 810770, 810769, 810768, 810767, 810766, 810765, 810764, 810763, 810762, 810761, 810760, 810759, 810758, 810757, 810756, 810755, 810754, 810753, 810752, 810751, 810750, 810749, 810748, 810747, 810746, 810745, 810744, 810743, 810742, 810741, 810740, 810739, 810738, 810737, 810736, 810735, 810734, 810733, 810732, 810731, 810730, 810729, 810728, 810727, 810726, 810725, 810724, 810723, 810722, 810721, 810720, 810719, 810718, 810717, 810716, 810715, 810714, 810713, 810712, 810711, 810710, 810709, 810708, 810707, 810706, 810705, 810704, 810703, 810702, 810701, 810700, 810699, 810698, 810697, 810696, 810695, 810694, 810693, 810692, 810691, 808924, 808923, 808922, 804409, 10243, 1260852, 1260299, 856441, 856437, 856430, 856428, 856427, 856426, 856425, 856423, 856419, 856418, 856417, 856415, 856414, 856411, 856406, 856405, 856398, 854676, 812289, 812288, 812287, 812286, 812285, 812284, 812283, 812282, 812281, 812280, 812279, 812278, 812277, 812276, 812275, 812274, 812273, 812272, 812271, 812270, 812269, 812268, 812267, 812266, 812265, 812264, 812263, 812262, 812261, 812260, 812259, 812258, 812257, 812256, 812255, 812254, 812253, 812252, 812251, 812250, 812249, 812248, 812247, 812246, 812245, 812244, 812243, 812242, 812241, 812239, 812238, 812237, 812236, 812235, 812234, 812233, 812231, 812230, 812229, 812228, 10253, 1260858, 1260687, 856872, 856870, 856869, 856868, 856867, 856866, 856865, 856864, 856863, 856862, 856861, 856860, 856859, 854793, 814874, 814873, 814872, 814871, 814870, 814869, 814868, 814867, 814866, 814865, 814864, 814863, 814862, 814861, 814860, 814859, 814858, 814857, 814856, 814855, 814854, 814853, 814852, 814850, 814849, 814848, 814847, 814846, 814845, 814844, 10284, 1260936, 1260935, 1260934, 1260933, 1260692, 1260691, 1260690, 1260568, 1260323, 866122, 863369, 863368, 863367, 863366, 863365, 863364, 863360, 856944, 856938, 856931, 856929, 856926, 856913, 856896, 856889, 855711, 855710, 855709, 854806, 854805, 850592, 849935, 847146, 847145, 847144, 847143, 847142, 847141, 847140, 847139, 815074, 815071, 815070, 815068, 815067, 815066, 815065, 815064, 815063, 815062, 815061, 815060, 815059, 815058, 815057, 815056, 815055, 815054, 815053, 815052, 815050, 815049, 815048, 815047, 815046, 815045, 815044, 815043, 815042, 815036, 815035, 815034, 815033, 815032, 815031, 815030, 815029, 815028, 815027, 815026, 815025, 815021, 815020, 815019, 815016, 815015, 815014, 815013, 815012, 815011, 815010, 815009, 815008, 815007, 815006, 815005, 815004, 815003, 814998, 809004, 809003, 808377, 10288, 863371, 863370, 815078, 815077, 815076, 815075, 815073, 815072, 815069, 857089, 857088, 857087, 857086, 857084, 857078, 857068, 857062, 857056, 857055, 857051, 857047, 857046, 857045, 857043, 857042, 857036, 857034, 857030, 855714, 850604, 846028, 846027, 816186, 816184, 816183, 816182, 816181, 816180, 816179, 816178, 816177, 816175, 816173, 816172, 816171, 816170, 816169, 816168, 816167, 816166, 816165, 816164, 816163, 816162, 816161, 816160, 816159, 816158, 816157, 816156, 816155, 816154, 816153, 816152, 816151, 816150, 816149, 816148, 816147, 816146, 816145, 816144, 816143, 816142, 816141, 816140, 816139, 816138, 816137, 816136, 816135, 816134, 816133, 816132, 816131, 816129, 816128, 816127, 816126, 816125, 816124, 816123, 816122, 816121, 816120, 816119, 816118, 816117, 816116, 816115, 816114, 816113, 816112, 816111, 816110, 816109, 816108, 816107, 816106, 816105, 816104, 816103, 816102, 816101, 816100, 816099, 816098, 816097, 816096, 816095, 816094, 816093, 816092, 816091, 816090, 816089, 816088, 816087, 816086, 816085, 816084, 816083, 816082, 816081, 816080, 816079, 816078, 816077, 816076, 816075, 816074, 816073, 816072, 816071, 816070, 816069, 816068, 816067, 816066, 816065, 816064, 816063, 816062, 816061, 816060, 816059, 816058, 816057, 816056, 816055, 816054, 816053, 816052, 816051, 816050, 816049, 816048, 816047, 816046, 816045, 816044, 816043, 816042, 816041, 809012, 809011, 804730, 10297, 1260698, 863410, 863409, 863408, 863407, 862607, 857152, 857151, 857147, 857141, 857138, 857137, 857135, 857134, 857133, 857132, 857131, 857130, 857129, 857128, 857123, 857122, 857115, 857109, 857108, 857105, 857102, 855717, 855716, 854812, 854811, 850666, 850665, 850664, 850663, 850662, 850661, 850660, 850659, 850658, 850657, 850656, 850655, 850654, 850653, 850651, 850650, 850648, 850647, 850646, 850645, 850644, 850643, 850642, 850641, 850640, 850637, 850633, 850631, 850627, 850626, 850625, 850624, 849946, 849945, 849944, 849943, 847185, 847184, 847183, 847182, 846033, 846032, 846031, 817285, 817276, 817274, 817270, 817269, 817262, 817261, 817260, 817259, 817256, 817254, 817253, 817252, 817245, 817244, 817242, 817241, 817240, 817239, 817238, 817237, 817236, 817235, 817234, 817233, 817232, 817231, 817230, 817229, 817228, 817227, 817226, 817225, 817224, 817223, 817222, 817221, 817220, 817219, 817218, 817217, 817216, 817215, 817214, 817213, 817212, 817211, 817210, 817209, 817208, 817207, 817206, 817205, 817204, 817203, 817202, 817201, 817199, 817198, 817197, 817196, 817195, 817194, 817193, 817192, 817191, 817190, 817189, 817188, 817187, 817186, 817185, 817184, 817183, 817182, 817181, 817180, 817176, 817175, 817174, 817173, 817172, 817171, 817170, 817169, 817168, 817167, 817166, 817165, 817164, 817163, 817162, 817161, 817160, 817159, 817158, 817157, 817156, 817155, 817154, 817153, 817152, 817151, 817150, 817149, 817148, 817147, 817146, 817145, 817144, 817143, 817142, 817141, 817140, 817139, 817138, 817137, 817136, 817135, 817134, 817133, 817132, 817131, 817130, 817129, 817128, 817127, 817126, 817125, 817124, 817123, 817122, 817121, 817120, 817119, 817118, 817117, 817116, 817115, 817114, 817113, 817112, 817111, 817110, 817109, 817108, 817107, 817106, 817105, 817104, 817103, 817102, 817101, 817100, 817099, 817098, 817097, 817096, 817095, 817094, 817093, 817092, 817091, 817090, 817089, 817088, 817087, 817086, 817085, 817084, 817083, 817082, 817081, 817080, 817079, 809032, 809031, 809030, 809029, 809028, 809027, 809026, 809025, 809024, 809023, 808383, 808382, 804792, 804791, 804790, 804789, 804788, 804787, 804786, 804785, 804784, 804783, 804782, 804781, 10303, 866127, 863415, 863414, 863413, 863412, 863411, 863400, 862606, 857170, 857168, 857124, 857120, 857119, 857107, 857104, 857103, 857101, 855715, 854815, 854814, 853875, 850674, 850673, 850672, 850671, 850670, 850669, 850668, 850667, 850652, 850649, 850629, 849947, 847190, 847189, 847188, 847187, 847186, 817393, 817392, 817391, 817390, 817389, 817388, 817387, 817386, 817385, 817384, 817383, 817382, 817381, 817380, 817379, 817378, 817377, 817376, 817375, 817374, 817373, 817372, 817371, 817370, 817369, 817368, 817367, 817366, 817365, 817364, 817363, 817362, 817361, 817360, 817359, 817358, 817357, 817356, 817355, 817354, 817353, 817352, 817351, 817350, 817349, 817348, 817347, 817346, 817345, 817344, 817343, 817342, 817341, 817340, 817339, 817338, 817337, 817336, 817335, 817334, 817333, 817332, 817331, 817330, 817327, 817326, 817325, 817323, 817322, 817321, 817320, 817319, 817318, 817317, 817316, 817315, 817314, 817313, 817312, 817311, 817310, 817309, 817308, 817307, 817306, 817305, 817299, 817298, 817297, 817296, 817295, 817290, 817289, 817288, 817287, 817286, 817284, 817283, 817282, 817281, 817280, 817279, 817278, 817277, 817275, 817273, 817272, 817271, 817268, 817267, 817266, 817265, 817264, 817263, 817258, 817257, 817255, 804801, 804800, 804799, 804798, 804797, 804796, 804795, 804794, 804793, 10304, 1260940, 1260939, 1260699, 866129, 866128, 863418, 863417, 863416, 857195, 857193, 857192, 857191, 857181, 857180, 857179, 857178, 857177, 857176, 857175, 857174, 857172, 857171, 857169, 857164, 857112, 855720, 854817, 853876, 850679, 850678, 850677, 850676, 850675, 849949, 849948, 847193, 847192, 847191, 817496, 817495, 817493, 817492, 817491, 817490, 817489, 817488, 817484, 817483, 817479, 817478, 817477, 817476, 817475, 817474, 817473, 817472, 817471, 817469, 817468, 817467, 817466, 817465, 817464, 817463, 817460, 817459, 817458, 817457, 817456, 817455, 817447, 817446, 817445, 817444, 817443, 817440, 817436, 817435, 817429, 817428, 817427, 817426, 817425, 817424, 817423, 817422, 817421, 817420, 817419, 817418, 817417, 817416, 817412, 817411, 817410, 817409, 817402, 817401, 817400, 817399, 817398, 817397, 817396, 817395, 809033, 808385, 808384, 808014, 804805, 804804, 804803, 804802, 10305, 1260702, 857241, 857240, 857239, 857238, 857234, 857233, 857226, 857218, 857216, 857214, 855722, 855721, 817701, 817698, 817695, 817681, 817680, 817672, 817671, 817670, 817669, 817668, 809044, 809043, 10309, 1260863, 862616, 862615, 857328, 857318, 857317, 857308, 857307, 857296, 854829, 818034, 818033, 818032, 818031, 818029, 818028, 818027, 818026, 818022, 818021, 818020, 818014, 818010, 818009, 818008, 818002, 804844, 10315, 1260358, 863819, 863818, 863817, 863816, 863815, 863814, 863813, 863812, 863811, 863810, 862652, 857759, 857755, 857754, 857744, 857742, 857739, 857738, 857733, 857732, 857720, 857715, 857710, 857697, 854918, 851105, 851104, 851102, 851101, 851100, 851099, 851098, 851097, 851095, 847594, 847593, 847592, 847591, 847590, 847589, 847588, 847587, 847586, 847585, 846123, 846122, 846121, 846120, 821119, 821115, 821114, 821111, 821110, 821109, 821108, 821107, 821106, 821105, 821100, 821099, 821098, 821097, 821096, 821095, 821094, 821088, 821087, 821086, 821085, 821083, 821080, 821079, 821078, 821077, 821076, 821075, 821074, 821066, 821065, 821064, 821063, 821062, 821061, 821060, 821059, 821058, 821057, 821056, 821055, 821054, 821053, 821052, 821051, 821050, 821049, 821048, 821047, 821046, 821045, 821044, 821043, 821042, 821041, 821040, 821039, 821038, 821037, 821036, 821035, 821034, 821033, 821032, 821031, 821030, 821029, 821028, 821027, 821026, 821025, 821024, 821023, 821022, 821021, 821020, 821019, 821018, 821017, 821016, 821011, 821010, 821009, 821008, 821007, 821006, 821005, 821004, 821003, 821002, 821001, 821000, 820999, 820998, 820997, 820996, 820995, 820994, 820993, 820992, 820991, 820990, 820989, 820988, 820987, 820986, 820985, 820984, 820983, 820982, 820981, 820980, 820979, 820978, 820977, 820976, 820975, 820974, 820973, 820972, 820971, 820965, 820964, 820963, 820962, 820961, 820960, 820959, 820958, 820957, 820956, 820955, 820954, 820953, 809111, 809110, 809109, 808442, 808054, 805243, 805242, 805241, 805240, 805239, 805238, 805237, 805236, 805235, 805234, 805233, 805232, 805231, 805230, 805229, 805228, 10342, 15679, 1260960, 857829, 821494, 10350, 1260580, 1260370, 857882, 857835, 857834, 857833, 821524, 821523, 821508, 10351, 857886, 857844, 857841, 857840, 857839, 821545, 821544, 821543, 821541, 821540, 821535, 821534, 804323, 821525, 821526, 821531, 821532, 821533, 10352, 857847, 821573, 821554, 821546, 821547, 821551, 10353, 1260732, 1260371, 866136, 863923, 863922, 863921, 863920, 863919, 863918, 863917, 863916, 863915, 863914, 863913, 863912, 857901, 857865, 857857, 857856, 857854, 857815, 855745, 854935, 850006, 850005, 850004, 850003, 850002, 850001, 847699, 847698, 847697, 847696, 847695, 847694, 847693, 847692, 847691, 847690, 847689, 847688, 821623, 821619, 821611, 809132, 808465, 10356, 866137, 863925, 863924, 857869, 857868, 857867, 857866, 857864, 857863, 857862, 857861, 857860, 857859, 857858, 857836, 847701, 847700, 821651, 821646, 821645, 821644, 821638, 821637, 821636, 821635, 821634, 821633, 821632, 821631, 821630, 821629, 821628, 821627, 821626, 821625, 821624, 10357, 857880, 857877, 857876, 857875, 857874, 857872, 821678, 821677, 821676, 821675, 821674, 821673, 821672, 821671, 821670, 821669, 821668, 821667, 821666, 10358, 857879, 857878, 857873, 857846, 857842, 857837, 821697, 821695, 821687, 821686, 821685, 821682, 10359, 857883, 857881, 821716, 821715, 821714, 821707, 821706, 821705, 10360, 857887, 857885, 857884, 821743, 821735, 821734, 821729, 10361, 857952, 857909, 857908, 857895, 821793, 821792, 821791, 821790, 821789, 821782, 821781, 821780, 821777, 10363, 857951, 857923, 857919, 857918, 857913, 821835, 821834, 821832, 821831, 821830, 821829, 821828, 821822, 821821, 821820, 821819, 821818, 821817, 821816, 821815, 821807, 821806, 821805, 821800, 821799, 805351, 10364, 857920, 857955, 857945, 857943, 857942, 857910, 821906, 821901, 821900, 821899, 821898, 821897, 821896, 821895, 821894, 821890, 10368, 857949, 857946, 857905, 857902, 857898, 854945, 821911, 821907, 808474, 10369, 1260962, 1260961, 857957, 857956, 857954, 857953, 857950, 857948, 857947, 857904, 857892, 821944, 821943, 821942, 821941, 821940, 821939, 821938, 821937, 821936, 821935, 821934, 821933, 821932, 821931, 821930, 821929, 821928, 821927, 821926, 821923, 821922, 821914, 10370, 15669, 858003, 857967, 857964, 854952, 821993, 821992, 821991, 821990, 821986, 821968, 821967, 808485, 808484, 10372, 15465, 15469, 15673, 15608, 15606, 15627, 15581, 15588, 15694, 15674, 15631, 15644, 15504, 15671, 15649, 15615, 15611, 15580, 15576, 15572, 15523, 15486, 15451, 15661, 15641, 15555, 15550, 15519, 15475, 15620, 15617, 15571, 15583, 15513, 15597, 15483, 15505, 15676, 15652, 15579, 15449, 15511, 15614, 15636, 15476, 15485, 15487, 15518, 15563 & Module15900 & 9759 & Bin39\\\\\n",
       "\\end{tabular}\n"
      ],
      "text/markdown": [
       "\n",
       "A data.frame: 1 × 4\n",
       "\n",
       "| nodeId &lt;list&gt; | community &lt;chr&gt; | TargetNodes_ID &lt;int&gt; | TargetNodes_Name &lt;chr&gt; |\n",
       "|---|---|---|---|\n",
       "| 862807, 862804, 860190, 860122, 860077, 860054, 860049, 860046, 859936, 859882, 852474, 834688, 834678, 834677, 834663, 834662, 834624, 834623, 834622, 834621, 834620, 834619, 834618, 834579, 834578, 834540, 834539, 834497, 834496, 834434, 834433, 834432, 834431, 834430, 834429, 834428, 834427, 834413, 834412, 834390, 834389, 834367, 834366, 834365, 834330, 834329, 834296, 834295, 834294, 834282, 834281, 834242, 834208, 834207, 834195, 834194, 834193, 834192, 834185, 834177, 834169, 834168, 834167, 834162, 834161, 834160, 834133, 834132, 834131, 834130, 834121, 834120, 834119, 834118, 834117, 834116, 834115, 834098, 834081, 834080, 834034, 834033, 833896, 833836, 833835, 833834, 833826, 833821, 833820, 833788, 833774, 833773, 833772, 833771, 833743, 833742, 833741, 833723, 833716, 833715, 833714, 833675, 833674, 833673, 833628, 833627, 833626, 833615, 833614, 833613, 833612, 833578, 833577, 833576, 806621, 9747, 862861, 861443, 861433, 861430, 861429, 861320, 861262, 861250, 861248, 861242, 840011, 840010, 840008, 840003, 839995, 839994, 839982, 839981, 839980, 839979, 839978, 839977, 9757, 1261043, 1260827, 1260659, 1260529, 866215, 862895, 862890, 862889, 861241, 861240, 861239, 853375, 841303, 841221, 841217, 841216, 841212, 841204, 841203, 841202, 841199, 841188, 841187, 841186, 9759, 1260910, 1260907, 1260906, 861936, 861667, 861666, 861664, 861658, 861657, 861656, 861635, 855600, 841808, 841806, 841805, 841804, 841803, 841802, 841801, 841800, 841798, 841794, 841793, 841786, 841785, 841784, 841778, 9763, 866229, 862402, 862374, 862252, 845458, 845364, 845359, 9768, 1261052, 1260920, 1260850, 866227, 866097, 862946, 862532, 862510, 862506, 862505, 856042, 855957, 855955, 855931, 855930, 855927, 855918, 855917, 855916, 854597, 845882, 845881, 845878, 809769, 809701, 809700, 809699, 809690, 809637, 809633, 809626, 809625, 809622, 809611, 809610, 809608, 809607, 809603, 809602, 808292, 9770, 856906, 856905, 856733, 856675, 856652, 856651, 854690, 854689, 853840, 813978, 813595, 813431, 813417, 813416, 813407, 813406, 813370, 813328, 813321, 9775, 1260866, 1260865, 863334, 862621, 856607, 850549, 850548, 850547, 847109, 814898, 814878, 814851, 814424, 814186, 814152, 804673, 804672, 804671, 9776, 857072, 856998, 856997, 856930, 856923, 856922, 856915, 856614, 856613, 815714, 815487, 815449, 815173, 815051, 815024, 815023, 815022, 815018, 815017, 815002, 814948, 814947, 814930, 814926, 814917, 9777, 864089, 858131, 858130, 858129, 858126, 858125, 858124, 858122, 858121, 858120, 858118, 858117, 858114, 855760, 855748, 854941, 847864, 822955, 822954, 822953, 822952, 822951, 822950, 822949, 822948, 822947, 822946, 822945, 822944, 822943, 822942, 822941, 822939, 822938, 822937, 822936, 822935, 822929, 822928, 822925, 822924, 822923, 822922, 822918, 805574, 9788, 858144, 858142, 858141, 858140, 858139, 858138, 858137, 858136, 858135, 858134, 858133, 858132, 858128, 858123, 855761, 822987, 822986, 822985, 822984, 822983, 822982, 822981, 822980, 822979, 822978, 822977, 822973, 822972, 822971, 822970, 822969, 822968, 822957, 822956, 9789, 858147, 858146, 858145, 855758, 823002, 823001, 823000, 822995, 809175, 809174, 809173, 809172, 809171, 809170, 809169, 9790, 858159, 858143, 823010, 823006, 9791, 862677, 858203, 858188, 858187, 858186, 858166, 858164, 851483, 823208, 823199, 823190, 823184, 823183, 823182, 808512, 805623, 805622, 805621, 805620, 805619, 9796, 862681, 858236, 858234, 858233, 858231, 858230, 858229, 858228, 858227, 858225, 858223, 858222, 858220, 858219, 858218, 858217, 858216, 858215, 858206, 855768, 855000, 854999, 854998, 854028, 851498, 851497, 851496, 851495, 851494, 851493, 846203, 846202, 823389, 823386, 823377, 823376, 823375, 823374, 823373, 823372, 823371, 823370, 823368, 823367, 823364, 823363, 823362, 823361, 823360, 823359, 823358, 823357, 823356, 823355, 823354, 823353, 823352, 823351, 823350, 823349, 823348, 823347, 823346, 823345, 823344, 823343, 823339, 823338, 823337, 823336, 823333, 823332, 823331, 823330, 823329, 823328, 823327, 823326, 823325, 823324, 823323, 823319, 823318, 823317, 823316, 823315, 823314, 823313, 823312, 823311, 823310, 823309, 823308, 823307, 823306, 823305, 823304, 823298, 823297, 823296, 823295, 823294, 823293, 823292, 823291, 823290, 809185, 809184, 809183, 809182, 809181, 808513, 808074, 805635, 805634, 805633, 805632, 805631, 805630, 805629, 805628, 9799, 864119, 858259, 858257, 858255, 858250, 858248, 855766, 854030, 851511, 851510, 851509, 851508, 851507, 851506, 847895, 823529, 823528, 823522, 823521, 823515, 823514, 823513, 823505, 823504, 823498, 808516, 808076, 805646, 805645, 805644, 805643, 805642, 9802, 858266, 858265, 858264, 858263, 858262, 858261, 823551, 823550, 823546, 823545, 823544, 823543, 823542, 823530, 9803, 858268, 858260, 823601, 9805, 858273, 823613, 823612, 823610, 809189, 809188, 9806, 9807, 858272, 9808, 858294, 823660, 823659, 9809, 858293, 823678, 823677, 9810, 805665, 9811, 858366, 858356, 858344, 858330, 858329, 858328, 858325, 858318, 858309, 858306, 823782, 823781, 823780, 823779, 823778, 823777, 823767, 823766, 823765, 823764, 823763, 823761, 823760, 823753, 823752, 823751, 823750, 823749, 823748, 823747, 823746, 823745, 823740, 823739, 823738, 823737, 823736, 823735, 823734, 823733, 823732, 823731, 823730, 823729, 823728, 823727, 823726, 823721, 823720, 823718, 805666, 9813, 864140, 862688, 858354, 858348, 858339, 858338, 858336, 858335, 858333, 858332, 858331, 858319, 847916, 846213, 823805, 823804, 823803, 823802, 823801, 823800, 823790, 823789, 823786, 823784, 823783, 9814, 858357, 858355, 858352, 858351, 858323, 858317, 858315, 858314, 858313, 858312, 858311, 858308, 858307, 858297, 823864, 823863, 823862, 823861, 823860, 823859, 823858, 823857, 823856, 823855, 823854, 823853, 823852, 823851, 823850, 823849, 823848, 823847, 823846, 823845, 823844, 823843, 823842, 823841, 823840, 823839, 823838, 823837, 823836, 823829, 823827, 823826, 823818, 823815, 823814, 823813, 823812, 9815, 858296, 823867, 823866, 823865, 862689, 858380, 858379, 858378, 858377, 858376, 858365, 858321, 855007, 846215, 823972, 823965, 823961, 823958, 823957, 823953, 823952, 823951, 823950, 823949, 823948, 823947, 823946, 823945, 823944, 823943, 823942, 809192, 809191, 9817, 858421, 858420, 858419, 858418, 858416, 858413, 858412, 858411, 858410, 855017, 824095, 824089, 824088, 824080, 824079, 824078, 824077, 824076, 824073, 824072, 824071, 824070, 824065, 824064, 824063, 824062, 824061, 824060, 824059, 824058, 824057, 824056, 824055, 824054, 824053, 808527, 808526, 808525, 808524, 808523, 9820, 858439, 858438, 858437, 858435, 858434, 858433, 858432, 858431, 855016, 824122, 824120, 824119, 824112, 824111, 824110, 824109, 824108, 824102, 824099, 824098, 824097, 824096, 809195, 808528, 9821, 858441, 858427, 858426, 858415, 855011, 855010, 846220, 824148, 824147, 824146, 824145, 824144, 824143, 824138, 824137, 824136, 824135, 824123, 824121, 808530, 808529, 9822, 1260396, 858447, 858446, 858445, 858444, 858443, 855015, 824180, 824179, 824178, 824156, 824155, 824154, 824153, 809198, 809197, 809196, 805679, 9823, 1260881, 858454, 858424, 855018, 855014, 855013, 824205, 824192, 809200, 809199, 9824, 1260882, 855019, 809201, 9825, 9826, 1261065, 1260591, 864153, 864152, 864151, 864150, 858469, 855778, 855777, 855775, 847929, 847928, 847927, 847926, 824301, 9827, 866154, 866153, 864167, 864166, 864164, 864158, 858500, 858498, 858495, 858485, 858483, 858482, 858481, 858480, 858478, 858476, 855782, 855780, 855024, 855023, 847942, 847941, 847940, 847939, 846225, 824368, 824364, 824363, 824362, 824361, 824360, 824359, 824358, 824357, 824356, 824355, 824354, 824353, 824352, 824351, 824350, 824349, 824348, 824347, 824346, 824345, 824344, 824343, 824342, 824336, 809204, 809203, 808533, 9829, 1260975, 862701, 862699, 862698, 858499, 858497, 858496, 858494, 858491, 858490, 858488, 858484, 846226, 824379, 824377, 824376, 824375, 824374, 824373, 824372, 824371, 824370, 824369, 9830, 824380, 824378, 858536, 858534, 858533, 858532, 858531, 858530, 858529, 858527, 858526, 858525, 824536, 824533, 824532, 824531, 824530, 824529, 824528, 824527, 824523, 824522, 824516, 9835, 858539, 858538, 858537, 824545, 824544, 824543, 824539, 824538, 824537, 9836, 864177, 858541, 858540, 851555, 851554, 847952, 824574, 824565, 824564, 824563, 824557, 805693, 805692, 9837, 864181, 864180, 864179, 864178, 858543, 858542, 858528, 847956, 847955, 847954, 847953, 824597, 824586, 824581, 824580, 9838, 864191, 864190, 864189, 864188, 864187, 864186, 864185, 864184, 864183, 864182, 858594, 858544, 847966, 847965, 847964, 847963, 847962, 847961, 847960, 847959, 847958, 847957, 824641, 9839, 864194, 858605, 858602, 858599, 858596, 858595, 858592, 858591, 858584, 858583, 858582, 858580, 858577, 858564, 847969, 824745, 824744, 824739, 824738, 824737, 824726, 824725, 824724, 824723, 824722, 824721, 824720, 824719, 824713, 824712, 824711, 824710, 824709, 824708, 824704, 824696, 824695, 824694, 824693, 824692, 824691, 824690, 824686, 824685, 824684, 824683, 824682, 9841, 858590, 858589, 858588, 858586, 858585, 858579, 858573, 858571, 858568, 858565, 858562, 824793, 824792, 824791, 824790, 824789, 824788, 824784, 824783, 824782, 824781, 824780, 824779, 824778, 824765, 824764, 824759, 824758, 824757, 824756, 824755, 824754, 824753, 824752, 824750, 824746, 9842, 1260401, 862709, 858601, 858581, 858578, 858576, 858575, 858574, 858570, 858566, 858563, 858561, 858555, 858554, 858551, 858550, 858549, 846251, 824869, 824868, 824867, 824866, 824865, 824864, 824863, 824862, 824861, 824860, 824859, 824858, 824857, 824856, 824855, 824854, 824853, 824852, 824851, 824850, 824849, 824848, 824847, 824846, 824845, 824844, 824842, 824841, 824840, 824839, 824838, 824837, 824836, 824835, 824834, 824829, 824828, 824827, 824826, 824825, 824824, 824823, 824822, 824821, 824820, 824819, 824818, 824817, 824816, 824815, 824814, 824813, 824812, 824801, 824800, 824799, 824798, 824797, 824796, 824795, 824794, 9843, 866156, 864199, 864198, 864197, 864196, 864195, 858604, 858603, 858597, 858587, 858569, 858567, 858560, 858559, 858558, 858557, 858556, 858553, 858552, 858535, 850034, 847974, 847973, 847972, 847971, 847970, 824925, 824924, 824923, 824922, 824921, 824916, 824915, 824914, 824913, 824912, 824911, 824910, 824904, 824898, 824897, 824896, 824895, 824894, 824893, 824892, 824891, 824888, 824887, 824886, 824885, 824884, 824883, 824882, 824879, 824878, 824877, 824876, 824875, 824874, 824873, 824872, 824871, 9844, 866158, 864275, 864274, 864272, 864270, 858972, 858969, 858967, 858952, 858949, 858948, 858944, 858915, 858911, 854040, 851618, 850039, 848051, 848050, 827041, 827037, 827036, 827035, 827034, 827033, 827028, 827027, 827026, 827024, 827023, 827022, 827021, 827020, 827019, 827018, 827013, 827012, 827011, 827010, 827009, 827008, 827007, 827006, 827005, 827004, 805757, 9862, 864278, 864277, 864276, 862743, 858954, 858953, 858950, 858947, 858941, 858918, 858914, 858912, 858900, 858871, 848054, 848053, 848052, 846280, 846279, 827084, 827083, 827081, 827080, 827077, 827076, 827073, 827072, 827071, 827070, 827069, 827068, 827067, 827066, 827064, 827062, 827061, 827056, 827055, 827043, 827042, 827040, 9863, 858966, 858962, 858961, 858960, 858958, 858957, 858955, 858945, 858942, 858921, 858904, 827119, 827118, 827117, 827116, 827115, 827114, 827113, 827112, 827108, 827107, 827106, 827105, 827104, 827103, 827099, 827098, 827097, 827092, 827091, 827090, 827089, 827088, 827087, 827086, 827085, 805758, 9864, 858970, 858968, 858951, 858946, 858940, 858938, 858937, 858934, 858923, 858922, 858909, 858908, 858903, 858902, 858898, 858894, 858893, 858889, 858875, 858872, 827209, 827208, 827207, 827206, 827205, 827204, 827203, 827202, 827201, 827200, 827199, 827198, 827197, 827196, 827195, 827194, 827193, 827192, 827191, 827190, 827189, 827185, 827184, 827183, 827182, 827180, 827179, 827178, 827177, 827176, 827175, 827174, 827171, 827170, 827169, 827168, 827167, 827166, 827165, 827164, 827163, 827162, 827161, 827160, 827155, 827154, 827153, 827152, 827151, 827150, 827149, 827148, 827147, 827146, 827145, 827144, 827143, 827142, 827141, 827140, 827139, 827138, 827137, 827134, 827133, 827129, 827125, 827124, 9865, 1260981, 1260408, 864282, 864281, 864280, 862747, 858985, 858980, 858979, 858978, 858976, 858973, 858943, 851624, 848058, 848057, 848056, 846284, 827232, 827231, 827230, 827229, 827228, 827227, 827226, 827225, 827224, 827223, 827222, 827221, 827216, 827215, 827214, 827212, 827211, 827210, 805764, 9866, 1261068, 1261067, 864285, 864284, 864283, 858995, 858991, 858989, 858987, 858986, 858984, 858983, 858982, 858981, 858977, 851625, 848061, 848060, 848059, 827263, 827261, 827260, 827259, 827258, 827257, 827256, 827251, 827248, 827247, 827246, 827245, 827244, 827243, 827242, 827241, 827240, 827239, 827238, 827237, 827236, 808084, 805765, 804309, 9867, 862748, 859065, 859058, 859046, 859025, 859009, 859006, 859003, 859002, 858997, 858994, 855052, 854045, 846287, 846286, 846285, 827308, 827307, 827306, 827305, 827304, 827303, 827302, 827301, 827300, 827299, 827298, 827295, 827294, 827293, 827292, 827291, 827290, 827289, 827288, 827287, 827286, 827285, 827284, 827283, 827282, 827281, 827280, 827279, 827274, 827273, 827272, 827271, 827270, 827269, 827268, 827267, 827266, 808552, 9868, 859049, 859038, 859036, 859031, 859017, 827381, 827379, 827378, 827375, 827374, 827373, 827372, 827371, 827370, 827369, 827368, 827364, 827361, 827359, 9870, 859037, 859035, 859034, 859033, 859032, 859030, 859014, 859010, 858998, 858992, 858988, 827403, 827399, 827398, 827397, 827396, 827395, 827394, 827393, 827392, 827391, 827390, 827389, 827388, 827387, 827386, 827385, 827384, 827383, 827382, 827380, 9871, 827408, 827407, 827406, 827405, 827404, 859179, 828148, 828147, 828146, 9886, 804318, 9887, 859188, 859182, 859177, 851664, 828185, 828184, 828173, 805807, 805806, 805805, 9890, 1260606, 1260605, 1260418, 1260417, 864338, 864337, 864336, 859200, 848114, 848113, 848112, 828216, 9892, 859209, 828240, 828239, 828238, 9894, 9895, 9897, 9898, 9899, 9901, 9903, 9905, 9908, 9909, 859231, 828437, 9910, 855082, 808574, 9912, 9913, 9914, 9916, 864343, 851672, 848121, 848120, 848119, 805818, 805817, 805816, 805815, 805814, 805813, 9917, 859266, 859265, 828554, 828553, 828551, 828546, 9920, 1260919, 1260612, 1260421, 864358, 864357, 864356, 864355, 862951, 859271, 859270, 859269, 859268, 859267, 851682, 848134, 848133, 848132, 848131, 846725, 846724, 828564, 828563, 828562, 828561, 828557, 828556, 828555, 809245, 808575, 805824, 9921, 1261051, 859278, 859277, 828581, 828580, 828579, 828578, 9923, 1260988, 1260422, 855814, 809249, 809248, 809247, 9924, 855815, 828598, 809250, 9925, 859290, 859285, 828627, 828626, 828625, 828613, 828612, 9926, 859303, 859302, 859300, 859296, 859291, 828646, 828645, 828644, 828642, 828641, 828640, 828639, 828638, 828637, 828636, 828635, 828633, 828632, 828631, 828630, 9927, 859301, 859299, 859298, 859297, 828650, 828649, 828648, 9928, 828661, 828660, 9929, 859393, 859383, 859381, 859380, 859379, 859376, 859373, 859369, 859367, 859361, 859357, 859355, 859349, 859348, 859347, 859346, 859336, 851701, 828939, 828938, 828937, 828936, 828935, 828934, 828933, 828932, 828929, 828928, 828926, 828925, 828924, 828923, 828922, 828921, 828920, 828919, 828918, 828916, 828914, 828913, 828912, 828911, 828910, 828908, 828907, 828906, 828905, 805845, 9935, 862768, 859389, 859387, 859386, 859385, 859382, 859371, 859366, 859365, 859360, 859358, 859350, 859345, 859343, 828977, 828976, 828975, 828972, 828970, 828969, 828968, 828967, 828965, 828964, 828963, 828962, 828961, 828960, 828959, 828958, 828957, 828956, 828953, 828951, 828950, 828949, 828944, 828943, 828942, 828941, 828940, 9936, 864376, 859395, 859370, 859354, 859353, 859352, 859351, 859342, 859334, 859333, 859329, 859328, 859326, 848152, 846317, 829071, 829070, 829069, 829068, 829067, 829062, 829061, 829060, 829059, 829058, 829057, 829056, 829055, 829054, 829053, 829052, 829051, 829050, 829049, 829048, 829047, 829046, 829045, 829044, 829043, 829039, 829038, 829037, 829036, 829035, 829034, 829033, 829032, 829031, 829030, 829029, 829028, 829027, 829026, 829025, 829024, 829023, 829022, 829021, 829020, 829018, 829017, 829016, 829015, 829014, 829013, 829012, 829011, 829010, 829009, 829008, 829007, 829006, 829005, 829004, 829003, 829002, 829001, 828997, 828996, 828995, 828994, 828993, 828992, 828991, 828990, 828989, 828988, 828987, 828982, 828981, 828979, 828978, 9937, 1260619, 1260429, 859408, 859403, 829084, 829078, 9938, 859427, 859423, 829129, 829128, 829127, 829126, 829125, 829124, 829123, 9941, 9942, 804324, 9943, 859432, 829140, 9944, 864400, 864399, 859479, 859476, 859475, 859472, 859453, 859445, 859441, 859440, 859439, 859437, 848175, 848174, 829274, 829273, 829272, 829271, 829270, 829269, 829268, 829267, 829266, 829265, 829264, 829263, 829261, 829260, 829259, 829258, 829257, 829256, 829255, 829254, 829253, 829252, 829251, 829247, 829246, 829245, 829244, 829243, 829242, 829241, 829240, 805880, 805879, 805877, 805876, 805875, 9948, 864426, 864425, 864424, 864423, 864422, 864421, 864420, 864419, 864418, 864417, 864416, 864414, 864413, 864412, 864409, 864408, 864406, 862772, 859492, 859491, 859490, 859489, 859488, 859487, 859486, 859481, 859480, 855094, 854055, 851757, 851751, 851750, 851749, 851748, 851747, 851746, 851744, 851743, 851740, 848205, 848204, 848203, 848202, 848201, 848200, 848199, 848198, 848197, 848196, 848195, 848194, 848193, 848192, 848191, 829329, 829328, 829327, 829326, 829325, 829324, 829323, 829322, 829321, 829320, 829319, 829318, 829317, 829316, 829315, 829311, 829307, 829306, 808094, 805903, 805902, 805901, 805900, 805899, 805898, 805897, 805896, 805895, 805894, 805893, 805892, 805891, 805890, 9950, 864480, 864479, 859621, 859620, 859609, 859606, 859600, 859595, 859593, 859591, 859588, 859494, 848255, 848254, 830156, 830155, 830154, 830153, 830152, 830151, 830150, 830149, 830148, 830147, 830146, 830145, 830144, 830143, 830142, 830141, 830140, 830139, 830138, 830137, 830136, 830135, 830134, 830133, 830132, 830131, 830130, 830129, 830128, 830127, 830126, 830125, 830123, 830122, 830121, 830120, 830119, 830118, 830117, 9958, 1260639, 862800, 859976, 859974, 859965, 859964, 859962, 859961, 859957, 859946, 855216, 855195, 854158, 854142, 852235, 852231, 846402, 832761, 832759, 832758, 832757, 832756, 832755, 832753, 832752, 832751, 832749, 832746, 832739, 832738, 832737, 832730, 832729, 832728, 832727, 832726, 832725, 832724, 832721, 832720, 832719, 832718, 832717, 832716, 832713, 832712, 832711, 832710, 832709, 832708, 832707, 832706, 832705, 832704, 832703, 832702, 832701, 832700, 832699, 832698, 832697, 832696, 832695, 832694, 832693, 832692, 832691, 832690, 832689, 832688, 832687, 832686, 832685, 832684, 832683, 832682, 832681, 832680, 832679, 832678, 832677, 832676, 832675, 832674, 832673, 832672, 832671, 832670, 832669, 832668, 832667, 832666, 832665, 832664, 832663, 832662, 832661, 832660, 832659, 832658, 832657, 832656, 832655, 832654, 832653, 832652, 832651, 832650, 832649, 832648, 832647, 832646, 832645, 832644, 809322, 806382, 9978, 860212, 834811, 834810, 9997, 1260645, 860216, 860215, 860214, 860213, 855306, 855296, 834829, 834828, 834823, 834822, 834819, 834818, 9998, 860512, 860500, 860499, 860491, 860483, 860480, 860469, 860467, 860466, 860438, 860437, 860436, 860435, 860434, 860433, 846504, 846503, 836246, 836244, 836243, 836242, 836241, 836233, 836232, 836231, 836230, 836229, 836225, 836224, 836223, 836222, 836221, 836220, 836219, 836218, 836217, 836216, 836211, 836210, 836209, 836208, 836207, 836206, 836205, 836204, 836203, 836202, 836201, 836200, 836199, 836198, 836197, 836196, 836195, 836194, 836193, 836192, 836191, 836190, 836189, 836188, 836182, 836180, 836179, 10012, 862844, 860497, 860496, 860495, 860490, 860489, 860488, 860487, 860486, 860485, 860479, 860463, 846510, 836432, 836431, 836430, 836429, 836422, 836421, 836420, 836419, 836418, 836414, 836413, 836412, 836411, 836410, 836409, 836408, 836407, 836406, 836405, 836401, 836400, 836399, 836398, 836397, 836389, 836388, 836387, 836386, 836385, 836384, 836383, 836374, 836373, 10014, 1260496, 860528, 860515, 860423, 860414, 836617, 836611, 836609, 836606, 836605, 836604, 836603, 836602, 10017, 1261025, 1260648, 1260647, 860517, 860516, 855366, 846513, 836619, 836618, 808753, 807055, 10018, 860526, 860525, 860524, 860523, 860522, 860521, 860520, 852908, 851665, 836648, 836647, 836641, 836640, 836639, 836637, 836635, 10019, 860543, 860540, 860532, 860531, 860529, 860518, 836658, 836657, 836656, 836651, 836650, 836649, 10020, 860539, 860534, 860527, 860519, 852909, 836665, 836664, 836663, 807056, 10021, 860533, 860530, 836692, 836691, 836688, 836687, 836686, 836685, 10023, 860545, 860544, 860542, 836694, 836693, 10024, 860574, 10025, 852912, 807059, 10026, 860561, 836731, 10027, 860567, 860566, 836750, 836749, 836748, 10028, 836756, 836755, 10029, 860572, 860571, 836765, 10030, 1260805, 1260503, 860632, 860631, 860630, 860629, 860628, 860627, 860621, 860612, 855376, 854441, 837091, 837081, 837080, 837079, 837078, 837077, 837076, 837075, 837074, 837073, 837072, 837071, 837070, 837069, 837068, 837067, 809421, 10036, 860636, 860635, 860634, 837107, 837106, 10037, 862845, 860637, 837109, 837108, 10038, 1260505, 866199, 865467, 865463, 865462, 860697, 860694, 860693, 860692, 860691, 860655, 860652, 860651, 860650, 860647, 860646, 855392, 855391, 855390, 854454, 854453, 854450, 853056, 853052, 853051, 853049, 853048, 853047, 853045, 853038, 853028, 853019, 853006, 853005, 849244, 849242, 849238, 849237, 837464, 837463, 837461, 837460, 837452, 837451, 837450, 837446, 837445, 837444, 837443, 837439, 837438, 837437, 837436, 837435, 837434, 837433, 837432, 837431, 837430, 837429, 837428, 837427, 837426, 837425, 837424, 837423, 837422, 837421, 837420, 837419, 837418, 837417, 837416, 837415, 837414, 837413, 837412, 837411, 837410, 837409, 837408, 837407, 837406, 837405, 837404, 837403, 837401, 837399, 837398, 837397, 837396, 837395, 837394, 837393, 837392, 837387, 808226, 807209, 807207, 807205, 807203, 807201, 807200, 10042, 1260809, 1260808, 1260651, 1260507, 1260506, 865479, 865478, 865477, 865476, 865475, 865474, 865472, 865470, 865469, 862846, 860733, 860730, 860728, 860725, 860721, 860719, 860718, 860715, 860708, 860707, 860705, 860704, 860702, 860701, 860700, 860699, 860698, 854463, 853071, 853070, 853069, 853067, 853066, 853065, 853064, 853063, 853062, 853061, 853060, 853058, 853054, 850149, 849254, 849253, 849252, 849251, 849250, 849249, 849247, 849246, 849245, 846539, 846538, 837604, 837603, 837601, 837600, 837599, 837598, 837597, 837596, 837595, 837594, 837593, 837591, 837590, 837589, 837588, 837587, 837586, 837585, 837584, 837583, 837582, 837581, 837580, 837579, 837578, 837577, 837576, 837575, 837574, 837573, 837572, 837571, 837570, 837569, 837568, 837567, 837566, 837565, 837564, 837563, 837562, 837561, 837560, 837559, 837558, 837557, 837556, 837555, 837554, 837553, 837552, 837551, 837550, 837549, 837548, 837547, 837546, 837545, 837544, 837543, 837542, 837541, 837540, 837539, 837538, 837537, 837536, 837535, 837534, 837533, 837532, 837531, 837529, 837528, 837527, 837526, 837525, 837524, 837523, 837522, 837521, 837520, 837519, 837518, 837517, 837516, 837515, 837514, 837513, 837512, 837511, 837510, 837509, 837508, 837507, 837506, 837505, 837504, 837503, 837502, 837501, 837500, 837499, 837498, 837497, 837496, 837495, 837494, 837493, 837492, 837491, 837490, 837489, 837488, 837487, 837486, 837485, 837484, 837483, 837482, 837481, 837480, 837479, 837478, 837477, 837476, 837475, 837474, 837473, 837472, 837471, 837470, 837469, 837468, 837467, 837466, 837465, 837462, 808774, 808228, 808227, 807225, 807224, 807223, 807221, 807220, 807219, 807218, 807216, 807215, 807214, 807213, 807212, 807211, 807210, 10043, 865494, 865493, 862850, 862849, 860769, 860768, 860767, 860766, 860765, 860764, 860756, 860752, 860751, 860750, 860749, 860747, 860744, 860742, 860737, 860736, 855409, 855402, 854468, 853133, 853131, 853129, 853128, 853127, 853126, 849269, 849268, 846541, 837814, 837813, 837810, 837808, 837804, 837803, 837802, 837801, 837800, 837799, 837798, 837797, 837796, 837795, 837794, 837793, 837792, 837791, 837790, 837789, 837788, 837787, 837786, 837785, 837784, 837783, 837782, 837773, 808783, 808234, 807282, 807280, 807279, 807278, 807277, 807276, 807275, 10046, 865496, 862847, 860836, 860822, 860811, 860802, 860798, 860797, 860795, 860775, 860773, 860772, 860771, 860770, 855408, 854469, 854465, 853130, 849271, 846545, 846544, 846543, 846542, 837944, 837943, 837942, 837940, 837939, 837938, 837937, 837936, 837935, 837934, 837933, 837932, 837931, 837930, 837929, 837928, 837927, 837926, 837925, 837924, 837923, 837922, 837921, 837920, 837919, 837916, 837915, 837914, 837913, 837912, 837911, 837910, 837909, 837908, 837907, 837906, 837905, 837904, 837903, 837902, 837901, 837900, 837899, 837898, 837897, 837896, 837895, 837888, 837887, 837886, 837885, 837884, 837883, 837882, 837881, 837880, 837879, 837878, 837877, 837876, 837875, 837874, 837873, 837872, 837871, 837870, 837869, 837868, 837867, 837866, 837865, 837864, 837863, 837862, 837861, 837860, 837859, 837858, 837857, 837856, 837855, 837854, 837853, 837852, 837851, 837842, 837841, 837840, 837839, 837838, 837837, 837836, 837835, 837834, 837833, 837832, 837831, 837830, 837829, 837828, 837827, 837826, 837825, 837824, 837823, 837822, 837821, 837820, 808784, 10047, 1260810, 860875, 860873, 860856, 860855, 860852, 838746, 838745, 838742, 838741, 838740, 838733, 838732, 838731, 838730, 838729, 838728, 838726, 838717, 10053, 865541, 860887, 860884, 860883, 860882, 860881, 860880, 860878, 860877, 860876, 860874, 860863, 860860, 853192, 849316, 838772, 838766, 838765, 838764, 838763, 838762, 838761, 838757, 838756, 838755, 838754, 838753, 838747, 807343, 807342, 10054, 1261074, 1261035, 1260513, 865561, 860902, 860900, 860899, 860898, 860897, 860896, 860895, 853206, 853204, 853203, 853201, 853200, 853199, 849336, 838803, 838802, 838798, 838797, 838796, 838789, 838788, 838787, 838785, 838784, 809455, 807358, 807357, 807356, 807355, 807354, 807353, 807352, 807351, 10056, 865583, 862857, 860980, 860979, 860978, 860977, 860975, 860974, 860973, 860972, 860947, 860941, 860934, 860911, 860901, 849358, 839096, 839095, 839094, 839093, 839089, 839085, 839084, 839083, 839082, 839081, 839079, 839078, 839077, 839072, 839071, 839070, 839069, 839068, 839067, 839066, 10061, 861053, 861052, 861050, 861045, 861044, 861043, 861042, 861040, 861038, 861035, 861034, 861033, 861031, 861030, 846580, 839439, 839438, 839437, 839436, 839435, 839432, 839431, 839430, 839429, 839428, 839427, 839426, 839425, 839424, 839423, 839422, 839421, 839420, 839419, 839418, 839417, 839416, 839415, 839414, 839413, 839412, 839411, 839410, 839409, 839408, 839407, 839405, 839404, 839403, 839402, 839401, 839400, 839399, 839398, 839397, 839396, 839395, 839394, 839393, 839392, 839391, 839390, 839389, 839388, 839387, 809462, 808803, 808802, 807455, 807454, 10066, 1261039, 866202, 865670, 865664, 865660, 865658, 865657, 865656, 865655, 865654, 865653, 865650, 865649, 865648, 865647, 865646, 865645, 865644, 862864, 862863, 861084, 861077, 861072, 861066, 861060, 861056, 861055, 861054, 861041, 861039, 861032, 861028, 855868, 855479, 855478, 855472, 855471, 854512, 854511, 853312, 853310, 853305, 853304, 853301, 853300, 850162, 849445, 849439, 849438, 849435, 849433, 849432, 849431, 849430, 849429, 849428, 849425, 849424, 849423, 849422, 849421, 849420, 849419, 839467, 839465, 839464, 839463, 839462, 839461, 839460, 839459, 839458, 839456, 839455, 839454, 839453, 839452, 839451, 839450, 839449, 839448, 839447, 839446, 839445, 839444, 839442, 839441, 839440, 808804, 808249, 808248, 807469, 807468, 807467, 807465, 807460, 807459, 807458, 10067, 839470, 839469, 839468, 839466, 839457, 865743, 861163, 861162, 861161, 849519, 839787, 839786, 839780, 839779, 839778, 808896, 10075, 866209, 866208, 862867, 861164, 855871, 855510, 855509, 839799, 839798, 839797, 808819, 10076, 1260819, 865770, 865769, 865767, 865766, 862870, 861200, 861199, 861197, 861195, 861194, 861193, 861190, 861189, 861188, 861187, 861186, 861185, 861184, 855517, 855516, 855493, 853428, 850173, 849546, 849545, 846598, 846597, 839878, 839877, 839876, 839875, 839874, 839873, 839872, 839871, 839870, 839869, 839868, 839867, 839866, 839865, 839864, 839863, 839862, 808259, 807584, 10080, 861215, 861214, 861213, 861212, 861211, 861210, 861209, 861208, 861207, 861206, 861204, 861203, 861202, 861201, 861198, 861196, 855519, 854543, 839904, 839900, 839899, 839898, 839897, 839896, 839895, 839894, 839893, 839892, 839891, 839890, 839881, 839880, 839879, 807585, 10081, 861232, 861231, 861230, 861229, 861228, 861227, 861226, 861224, 861223, 839963, 839962, 839959, 839958, 839957, 839956, 839955, 839954, 839953, 839945, 839944, 10083, 861235, 861234, 839968, 839965, 10084, 865777, 861247, 849553, 10085, 807593, 10086, 10087, 10088, 10089, 866213, 807599, 807598, 10090, 865785, 865783, 865782, 855524, 849561, 849559, 10092, 849562, 853443, 10094, 853449, 853448, 840009, 809478, 807610, 807609, 10095, 861254, 861253, 861251, 840013, 840012, 10096, 861445, 861444, 861441, 861438, 861437, 861436, 861435, 861419, 861418, 861417, 861416, 841222, 841220, 841219, 841218, 841215, 841214, 841213, 841211, 841210, 841209, 841208, 841207, 10108, 861447, 861446, 861442, 861415, 861414, 861406, 855551, 841234, 841233, 841232, 841231, 841230, 841229, 841228, 841227, 841226, 841225, 841224, 841223, 10109, 861457, 861453, 861452, 861451, 861450, 861449, 861448, 855552, 853524, 841248, 841247, 841246, 841245, 841244, 841243, 841242, 841241, 841240, 841239, 841238, 841237, 841236, 841235, 809501, 807685, 10110, 861471, 861470, 861469, 861467, 861465, 861464, 861463, 861462, 861461, 861460, 861459, 861458, 861456, 861455, 861454, 841278, 841277, 841276, 841275, 841274, 841273, 841272, 841271, 841270, 841269, 841268, 841267, 841266, 841265, 841264, 841263, 841262, 841261, 841260, 841259, 841258, 841257, 841253, 841252, 841251, 841250, 841249, 10111, 861505, 861504, 861503, 861484, 861481, 861477, 861476, 861473, 861472, 855879, 841291, 841290, 841289, 841287, 841286, 841285, 841283, 841282, 841281, 807686, 10112, 1260658, 861502, 861501, 861496, 861490, 861487, 861485, 861482, 841306, 841305, 841304, 841302, 841301, 841300, 841299, 841298, 841295, 841294, 841293, 841292, 841288, 10113, 861495, 861493, 841312, 841311, 841310, 841309, 841308, 841307, 10114, 1261044, 1260528, 861498, 861497, 861494, 861491, 855881, 855880, 841315, 841314, 841313, 809503, 809502, 10115, 861500, 861499, 861492, 861483, 861478, 853527, 853526, 853525, 841323, 841322, 841321, 841319, 841318, 841317, 841316, 807689, 807688, 807687, 10116, 861508, 861506, 861488, 861486, 861480, 861479, 861475, 861474, 861468, 861466, 841336, 841335, 841334, 841333, 841332, 841331, 841330, 841329, 841328, 841327, 841326, 841325, 841324, 809507, 809506, 809505, 809504, 807690, 10117, 861579, 861539, 861533, 861532, 861530, 861524, 861523, 861518, 861517, 854554, 854553, 853534, 853533, 853531, 853529, 841411, 841410, 841409, 841408, 841407, 841406, 841405, 841404, 841403, 841402, 841401, 841400, 841399, 841398, 841397, 841396, 841395, 841394, 841393, 841392, 841391, 841390, 841389, 841388, 841387, 841386, 841385, 841384, 841383, 841382, 841381, 841380, 841379, 841378, 841377, 841376, 841375, 841374, 841373, 841372, 841371, 841370, 841369, 841367, 841364, 841363, 841362, 841361, 841360, 841359, 841358, 841357, 841356, 841355, 841354, 841353, 841352, 841351, 841350, 841349, 841348, 841347, 841346, 841345, 841344, 841343, 841342, 841341, 841340, 841339, 841338, 841337, 809509, 809508, 808266, 807706, 807705, 807704, 807703, 807702, 807701, 807700, 807699, 807698, 807697, 807696, 807695, 807694, 807693, 807692, 807691, 10118, 865849, 861569, 861565, 861564, 861563, 861562, 861561, 861559, 861551, 861550, 861534, 861521, 861511, 861510, 853562, 853561, 849624, 841584, 841582, 841581, 841580, 841579, 841578, 841577, 841576, 841575, 841574, 841573, 841572, 841571, 841570, 841569, 841568, 841567, 841566, 841562, 841561, 841560, 841559, 841558, 841557, 841556, 841554, 841553, 841552, 841551, 841550, 841546, 841545, 841544, 841543, 10121, 861607, 861582, 861581, 861580, 861558, 861526, 861522, 861515, 841603, 841599, 841598, 841597, 841595, 841594, 841592, 841590, 841589, 841588, 841587, 841586, 841585, 10122, 1260899, 862894, 861604, 861603, 861602, 861600, 861599, 861598, 861597, 861596, 861595, 861594, 861592, 861591, 861590, 861589, 861584, 846641, 841628, 841627, 841626, 841625, 841624, 841623, 841622, 841621, 841620, 841619, 841618, 841615, 841614, 841613, 841610, 841609, 841608, 841607, 841606, 841605, 841604, 807727, 10123, 861601, 861593, 861587, 861586, 861585, 846643, 841644, 841640, 841639, 841638, 841637, 841636, 841635, 841634, 841633, 841632, 841631, 841630, 841629, 10124, 862897, 861606, 861605, 861588, 861583, 841654, 841653, 841652, 841651, 841650, 841649, 841648, 841647, 841646, 841645, 10125, 1260829, 853564, 841663, 841656, 807728, 10126, 1260900, 861608, 10127, 841683, 841682, 841679, 841678, 10128, 1260901, 854560, 807735, 10129, 10130, 10131, 1260903, 861621, 861620, 861619, 861618, 861617, 861616, 855883, 855562, 841714, 841713, 841712, 841710, 809513, 10133, 855884, 853580, 853579, 853578, 853577, 853576, 853575, 809514, 808846, 808270, 807744, 807743, 807742, 807741, 807740, 807739, 10134, 866216, 861624, 853583, 841716, 807747, 10135, 865873, 865872, 865871, 865870, 865869, 865868, 861623, 855563, 850183, 850182, 849648, 849647, 849646, 849645, 849644, 849643, 841717, 10136, 841719, 841718, 10137, 10138, 10139, 853584, 807748, 10140, 10141, 10142, 841739, 10144, 1260532, 861637, 861636, 861634, 861633, 861632, 861631, 861630, 861629, 855570, 855568, 855566, 855565, 846650, 841755, 841754, 841753, 841752, 841751, 841750, 841749, 841748, 841747, 841746, 841745, 841744, 841743, 841742, 809516, 808848, 808847, 807749, 10145, 861628, 861627, 861626, 861625, 855564, 853585, 841762, 841761, 841760, 841759, 841758, 841757, 808849, 10146, 1261045, 1260533, 861638, 855569, 855567, 841765, 841764, 808850, 10147, 861655, 861654, 861653, 861648, 861647, 861646, 861642, 861641, 861640, 841776, 841775, 841774, 841773, 841772, 841771, 841770, 841769, 841768, 841767, 841766, 10148, 861652, 861651, 861650, 841780, 841779, 841777, 10149, 1260904, 1260832, 861675, 861645, 861644, 861643, 861639, 855887, 855886, 855572, 855571, 841789, 841788, 841787, 841783, 841782, 841781, 809518, 808851, 10150, 861665, 861662, 841795, 841792, 841791, 841790, 807751, 10151, 841799, 10152, 861660, 10153, 861690, 861685, 809520, 809519, 10154, 861668, 861661, 841807, 10155, 10156, 861682, 861681, 861680, 861673, 861672, 841819, 841818, 841817, 841816, 841815, 841814, 841813, 841812, 841811, 841810, 841809, 10157, 861683, 861676, 841826, 841825, 841824, 841822, 841821, 841820, 10158, 861684, 861679, 861678, 861677, 855888, 841840, 841839, 841838, 841837, 841833, 841829, 841828, 10159, 861689, 861688, 861686, 861671, 861670, 861663, 861659, 841854, 841853, 841852, 841851, 841849, 841848, 841847, 841846, 841845, 841844, 841843, 841842, 841841, 809525, 809524, 809523, 809522, 809521, 10160, 861745, 861730, 861727, 861724, 861723, 861722, 861721, 861716, 861706, 861705, 846652, 841967, 841966, 841965, 841964, 841962, 841961, 841960, 841959, 841958, 841957, 841956, 841954, 841953, 841952, 841951, 841950, 841949, 841948, 841947, 841946, 841943, 841942, 841941, 841940, 841939, 841938, 841937, 841936, 841935, 841934, 841933, 841932, 841931, 841930, 841929, 841928, 841927, 841926, 841925, 841924, 841923, 841922, 841921, 841920, 841919, 841918, 841917, 841916, 841915, 841914, 841913, 841912, 841911, 841910, 841909, 841908, 841907, 841906, 841904, 841903, 841902, 841901, 841900, 841899, 841898, 841897, 841896, 841895, 841894, 841893, 809527, 809526, 10162, 1260537, 865882, 861776, 861769, 861742, 861740, 861738, 861737, 861728, 861720, 861719, 861718, 861717, 861712, 861708, 861707, 861703, 861702, 861701, 861695, 855891, 855890, 855592, 853597, 853596, 853595, 853594, 853593, 853592, 849657, 846653, 842061, 842053, 842051, 842050, 842049, 842048, 842047, 842044, 842043, 842042, 842041, 842040, 842036, 842035, 842034, 842033, 842032, 842031, 842030, 842029, 842028, 842027, 842026, 842025, 842024, 842023, 842022, 842021, 842020, 842019, 842018, 842017, 842016, 842015, 842014, 842013, 842012, 842011, 842010, 842009, 842007, 842006, 842005, 842004, 842003, 842002, 842001, 842000, 841999, 841998, 841997, 841996, 841995, 841994, 841993, 841992, 841991, 841990, 841989, 841988, 841986, 841984, 841983, 841982, 841981, 841980, 841979, 841978, 841977, 841976, 841975, 841974, 841973, 841972, 841971, 841970, 841969, 841968, 841963, 809529, 808272, 807764, 807763, 807762, 807761, 807760, 807759, 807758, 10163, 861778, 861777, 861775, 861774, 861773, 861771, 861764, 861763, 861762, 861761, 861759, 861758, 861757, 861755, 861754, 861752, 861751, 861739, 861726, 861710, 861704, 861698, 861694, 842129, 842128, 842127, 842126, 842125, 842124, 842123, 842122, 842120, 842119, 842118, 842117, 842116, 842115, 842114, 842113, 842112, 842111, 842110, 842109, 842108, 842107, 842106, 842105, 842104, 842103, 842102, 842101, 842100, 842099, 842098, 842097, 842096, 842095, 842094, 842093, 842092, 842091, 842090, 842089, 842088, 842087, 842086, 842085, 842084, 842083, 842082, 842081, 842080, 842079, 842078, 842077, 842076, 842075, 842074, 842073, 842072, 842071, 842070, 842069, 842068, 842067, 842066, 842065, 842064, 842063, 842062, 842060, 842059, 842058, 842057, 842056, 842055, 842054, 842052, 842046, 842045, 804326, 10164, 861779, 861772, 861770, 861768, 861767, 861766, 861760, 861756, 861753, 861750, 861747, 861746, 861743, 861736, 861731, 861725, 861715, 861711, 861709, 861700, 861699, 853598, 842217, 842211, 842210, 842205, 842204, 842203, 842199, 842198, 842197, 842195, 842194, 842192, 842191, 842190, 842189, 842188, 842187, 842186, 842184, 842183, 842182, 842181, 842180, 842179, 842178, 842177, 842176, 842175, 842174, 842173, 842172, 842171, 842170, 842169, 842168, 842167, 842166, 842165, 842164, 842163, 842162, 842161, 842159, 842158, 842157, 842156, 842155, 842154, 842153, 842152, 842151, 842150, 842149, 842148, 842147, 842146, 842145, 842144, 842143, 842142, 842141, 842140, 842139, 842138, 842137, 842136, 842135, 842134, 842133, 842132, 842131, 842130, 809530, 808856, 10165, 1260835, 865883, 861834, 861833, 861832, 861826, 861825, 861824, 861822, 861818, 861817, 861816, 861814, 861806, 861801, 861795, 861696, 861693, 855893, 849658, 846654, 842391, 842390, 842389, 842388, 842387, 842386, 842385, 842384, 842383, 842382, 842381, 842380, 842379, 842378, 842377, 842376, 842375, 842374, 842373, 842372, 842371, 842370, 842369, 842368, 842367, 842366, 842365, 842364, 842363, 842362, 842361, 842360, 842359, 842358, 842357, 842356, 842355, 842354, 842353, 842352, 842351, 842350, 842349, 842348, 842347, 842346, 842345, 842344, 842343, 842342, 842341, 842340, 842339, 842338, 842337, 842336, 842335, 842334, 842333, 842332, 842331, 842330, 842329, 842328, 842327, 842326, 842325, 842324, 842323, 842322, 842321, 842320, 842319, 842318, 842317, 842316, 842315, 842314, 842313, 842312, 842311, 842310, 842309, 842308, 842307, 842306, 842305, 842304, 842303, 842302, 842301, 842300, 842299, 842298, 842297, 842296, 842295, 842294, 842293, 842292, 842291, 842290, 842289, 842288, 842287, 842286, 842285, 842284, 842283, 842282, 842281, 842280, 842279, 842278, 842277, 842276, 842275, 842274, 842273, 842272, 842271, 842270, 842269, 842268, 842267, 842266, 842265, 842264, 842263, 842262, 842261, 842260, 842259, 842258, 842257, 842256, 842255, 842254, 842253, 842252, 842251, 842250, 842249, 842248, 842247, 842246, 842245, 842244, 842243, 842242, 842241, 842240, 842239, 842238, 842237, 842236, 842235, 842234, 842233, 842232, 842231, 842230, 842229, 842228, 842227, 842226, 842225, 842224, 842223, 842222, 842221, 842220, 842219, 842218, 842216, 842215, 842214, 842213, 842212, 842209, 842208, 842207, 842206, 842202, 842201, 842200, 842196, 842193, 842185, 807773, 807772, 807771, 807770, 807769, 807768, 807767, 807766, 807765, 10166, 865914, 861898, 861897, 861890, 861888, 861884, 861865, 861862, 861860, 861855, 861849, 861848, 861843, 861842, 855599, 849689, 842881, 842880, 842879, 842878, 842877, 842876, 842875, 842874, 842873, 842872, 842871, 842870, 842869, 842868, 842867, 842866, 842865, 842864, 842863, 842862, 842861, 842860, 842859, 842858, 842857, 842856, 842855, 842854, 842853, 842852, 842851, 842850, 842849, 842848, 842847, 842846, 842845, 842844, 842843, 842842, 842841, 842840, 842839, 842838, 842837, 842836, 842835, 842834, 842833, 842832, 842831, 842830, 842829, 842827, 842826, 842825, 842824, 842823, 842822, 842821, 842820, 842819, 842818, 842817, 842816, 842815, 842814, 842813, 842812, 842811, 809538, 808864, 10171, 861916, 861908, 861907, 861906, 861905, 861899, 861896, 861892, 861838, 861836, 855597, 842892, 842891, 842890, 842889, 842888, 842886, 842885, 842884, 842883, 842882, 10172, 861914, 861912, 842912, 842911, 842910, 842909, 842908, 842907, 842906, 842905, 842904, 842903, 842897, 842896, 842895, 842894, 842893, 10173, 861917, 861913, 861911, 861910, 861909, 861904, 861895, 842916, 842915, 842914, 10174, 862913, 862912, 862911, 862910, 862907, 861958, 861955, 861954, 861952, 861950, 861949, 861948, 861947, 861942, 861940, 861939, 861934, 861932, 861931, 861930, 861928, 861927, 861923, 861921, 855892, 855603, 855589, 846666, 846665, 846664, 846663, 846662, 843035, 843034, 843033, 843032, 843031, 843030, 843029, 843028, 843027, 843026, 843025, 843024, 843023, 843022, 843021, 843020, 843019, 843018, 843017, 843016, 843015, 843014, 843013, 843012, 843011, 843010, 843009, 843008, 843007, 843006, 843005, 843004, 843003, 843002, 843001, 843000, 842999, 842998, 842997, 842996, 842995, 842994, 842993, 842992, 842991, 842990, 842989, 842988, 842987, 842986, 842985, 842984, 842983, 842982, 842981, 842980, 842979, 842978, 842977, 842976, 842975, 842974, 842973, 842972, 842971, 842970, 842969, 842968, 842967, 842965, 842964, 842963, 842962, 842961, 842960, 842959, 842958, 842957, 842956, 842955, 842954, 842953, 842952, 842946, 842945, 10176, 865932, 862914, 862081, 862077, 862073, 862045, 862043, 862042, 862040, 862034, 862033, 862032, 862031, 862030, 862029, 862028, 862027, 862026, 862024, 862019, 862018, 861974, 855604, 849713, 849712, 849711, 849710, 849709, 849708, 849707, 846670, 843258, 843257, 843256, 843254, 843253, 843252, 843251, 843250, 843249, 843248, 843247, 843246, 843245, 843244, 843243, 843242, 843241, 843240, 843239, 843238, 843237, 843236, 843235, 843234, 843233, 843232, 843231, 843230, 843229, 843228, 843227, 843226, 843225, 843224, 843223, 843222, 843221, 843220, 843219, 843218, 843217, 843216, 843215, 843214, 843213, 843212, 843211, 807853, 807852, 807851, 807850, 807849, 10180, 1260913, 866031, 862266, 862255, 862246, 862240, 862235, 862234, 862233, 862231, 862230, 862229, 862228, 862227, 862226, 862225, 862223, 862221, 862220, 862217, 862216, 862214, 862213, 855632, 853741, 853740, 849807, 844813, 844811, 844810, 844809, 844808, 844807, 844805, 844804, 844803, 844802, 844801, 844800, 844799, 844798, 844796, 844795, 844794, 844793, 844792, 844791, 844790, 844789, 844788, 844787, 844786, 844785, 844784, 844783, 844782, 844781, 844780, 844779, 844778, 844770, 844769, 844768, 844767, 844766, 844765, 844764, 844763, 844762, 844761, 844760, 844759, 844758, 844757, 844756, 844755, 844754, 844751, 844750, 844749, 844748, 844747, 844746, 844745, 844744, 844743, 844742, 844741, 844740, 844739, 844738, 844737, 844736, 844735, 844734, 844733, 844732, 844731, 844730, 807909, 807908, 807907, 10193, 1261047, 1260915, 1260542, 862280, 862277, 862273, 862272, 862271, 862270, 862269, 862268, 862267, 862265, 862261, 862259, 862258, 862242, 862222, 862215, 855629, 844862, 844861, 844860, 844859, 844858, 844857, 844855, 844854, 844853, 844852, 844851, 844850, 844849, 844848, 844847, 844846, 844845, 844844, 844843, 844842, 844841, 844840, 844839, 844838, 844837, 844836, 844835, 844834, 844833, 844832, 844831, 844830, 844829, 844828, 844827, 844826, 844825, 844824, 844823, 844822, 844821, 844820, 844819, 844818, 844817, 844816, 844815, 844814, 844812, 809560, 808876, 10194, 1261048, 1260545, 1260544, 866045, 866044, 866043, 866042, 866041, 866038, 862939, 862938, 862937, 862368, 862353, 862338, 862332, 862330, 862329, 862328, 862327, 862326, 862325, 862309, 855904, 855652, 855647, 855646, 855645, 855643, 855635, 855634, 853752, 853750, 849821, 849820, 849819, 849818, 849817, 846702, 846701, 846700, 845199, 845198, 845197, 845196, 845195, 845194, 845193, 845192, 845191, 845190, 845189, 845188, 845187, 845186, 845185, 845184, 845183, 845182, 845181, 845180, 845179, 845178, 845177, 845176, 845175, 845174, 845172, 845171, 845170, 845169, 845168, 845166, 845165, 845164, 845163, 845162, 845161, 845160, 845159, 845158, 845157, 845156, 845155, 845154, 845153, 845152, 845151, 845150, 845149, 845148, 845147, 845146, 845145, 845144, 845143, 845142, 845141, 845140, 845139, 845138, 845137, 845136, 845135, 845134, 845133, 845132, 845131, 845130, 845129, 845128, 845127, 845126, 845125, 845124, 845123, 845122, 845121, 845120, 845115, 845114, 845113, 845112, 845111, 845110, 845109, 845108, 845107, 845106, 845105, 845104, 845103, 845102, 845101, 845100, 845099, 845098, 845097, 845096, 845095, 845094, 845093, 808280, 807921, 10198, 1261075, 862449, 862448, 862447, 862446, 862445, 862444, 862442, 862426, 850207, 845677, 845676, 845675, 845674, 845673, 845669, 845668, 845667, 845666, 845665, 845664, 10206, 862459, 862457, 862453, 862452, 862450, 845691, 845689, 845688, 845682, 845681, 845680, 845678, 10207, 1260847, 862463, 854585, 853793, 853792, 853789, 853788, 853786, 853784, 853783, 853782, 853781, 853780, 853779, 853777, 845704, 808288, 808287, 808286, 808285, 808284, 807962, 807961, 807960, 807959, 807958, 807957, 807956, 807955, 807954, 807953, 807952, 807951, 807950, 807949, 807948, 807946, 10208, 862464, 854586, 853798, 853791, 853790, 853787, 853785, 807968, 807967, 807966, 10209, 862468, 862467, 862466, 862465, 845713, 845712, 845711, 845708, 845707, 10210, 862483, 862482, 862477, 862475, 862471, 853797, 845725, 845724, 845717, 10211, 866104, 862523, 862522, 862521, 862520, 862514, 849879, 845856, 845846, 845845, 845844, 845843, 845842, 845841, 10215, 1260918, 862528, 862527, 862526, 862525, 862524, 845869, 845868, 845867, 845865, 845863, 845862, 845858, 845857, 10216, 862530, 862529, 845879, 10217, 862531, 845880, 10218, 855911, 809601, 10219, 1260666, 1260292, 862966, 862535, 862534, 855972, 855971, 855970, 855969, 855968, 855967, 855966, 855964, 855956, 854599, 854598, 846739, 845884, 809731, 809730, 809729, 809728, 809727, 809726, 809725, 809724, 809723, 809722, 809721, 809720, 809719, 809718, 809717, 809716, 809715, 809714, 809713, 809712, 809711, 809710, 809709, 809702, 10224, 1260848, 1260667, 855994, 855992, 855991, 855989, 855987, 855980, 855979, 855976, 855975, 855973, 845886, 845885, 809760, 809759, 809758, 809757, 809756, 809755, 809754, 809753, 809752, 809751, 809750, 809749, 809748, 809747, 809741, 809740, 809739, 809738, 809737, 809736, 809735, 809734, 809733, 809732, 10225, 1260849, 856002, 855997, 855996, 855995, 855993, 855990, 855988, 855981, 855978, 855977, 845887, 809788, 809787, 809786, 809785, 809784, 809783, 809782, 809779, 809776, 809775, 809774, 809773, 809772, 809771, 809770, 809768, 809767, 809766, 809765, 809764, 809763, 809762, 809761, 10226, 862996, 862995, 862994, 862993, 862992, 862991, 862990, 862545, 862544, 856132, 856064, 856063, 856058, 856051, 856048, 856046, 856044, 856041, 856039, 856037, 856036, 856035, 856023, 854609, 854608, 854607, 850234, 850233, 850232, 850231, 850230, 850229, 850228, 850227, 850226, 850219, 849884, 849883, 846769, 846768, 846767, 846766, 846765, 845894, 845893, 845892, 845891, 845890, 809957, 809956, 809955, 809954, 809952, 809951, 809950, 809949, 809946, 809945, 809944, 809943, 809942, 809941, 809940, 809939, 809938, 809937, 809936, 809935, 809934, 809933, 809932, 809931, 809930, 809929, 809928, 809927, 809926, 809925, 809924, 809923, 809922, 809921, 809920, 809919, 809918, 809917, 809916, 809915, 809912, 809911, 809910, 809909, 809908, 809907, 809906, 809905, 809904, 809903, 809902, 808898, 808299, 808298, 808297, 804354, 804353, 804352, 804351, 804350, 804349, 804348, 804347, 804346, 10230, 15610, 856171, 856170, 856169, 856168, 856167, 856140, 856139, 856135, 856078, 850238, 810283, 810282, 810281, 810280, 810279, 810278, 810277, 810276, 810271, 810270, 810269, 810268, 810267, 810264, 810263, 804359, 804358, 10235, 856156, 856155, 856153, 850239, 810292, 810291, 810290, 810289, 810288, 810284, 804360, 10236, 856161, 856160, 856159, 856158, 856157, 856154, 850240, 810309, 810308, 810306, 810305, 810304, 810303, 810302, 810301, 810300, 810299, 810298, 10237, 1260921, 863062, 863061, 863060, 863059, 863058, 856281, 856276, 856273, 856267, 856263, 856262, 856261, 856260, 856259, 856258, 856252, 854655, 854654, 854653, 854652, 850287, 849894, 849893, 849892, 849891, 849890, 849889, 846836, 846835, 846834, 846833, 846832, 810829, 810824, 810823, 810819, 810818, 810817, 810816, 810815, 810814, 810813, 810812, 810811, 810810, 810809, 810808, 810807, 810806, 810805, 810804, 810803, 810802, 810801, 810800, 810799, 810798, 810797, 810796, 810795, 810794, 810793, 810792, 810791, 810790, 810789, 810788, 810787, 810786, 810785, 810784, 810783, 810782, 810781, 810775, 810774, 810773, 810772, 810771, 810770, 810769, 810768, 810767, 810766, 810765, 810764, 810763, 810762, 810761, 810760, 810759, 810758, 810757, 810756, 810755, 810754, 810753, 810752, 810751, 810750, 810749, 810748, 810747, 810746, 810745, 810744, 810743, 810742, 810741, 810740, 810739, 810738, 810737, 810736, 810735, 810734, 810733, 810732, 810731, 810730, 810729, 810728, 810727, 810726, 810725, 810724, 810723, 810722, 810721, 810720, 810719, 810718, 810717, 810716, 810715, 810714, 810713, 810712, 810711, 810710, 810709, 810708, 810707, 810706, 810705, 810704, 810703, 810702, 810701, 810700, 810699, 810698, 810697, 810696, 810695, 810694, 810693, 810692, 810691, 808924, 808923, 808922, 804409, 10243, 1260852, 1260299, 856441, 856437, 856430, 856428, 856427, 856426, 856425, 856423, 856419, 856418, 856417, 856415, 856414, 856411, 856406, 856405, 856398, 854676, 812289, 812288, 812287, 812286, 812285, 812284, 812283, 812282, 812281, 812280, 812279, 812278, 812277, 812276, 812275, 812274, 812273, 812272, 812271, 812270, 812269, 812268, 812267, 812266, 812265, 812264, 812263, 812262, 812261, 812260, 812259, 812258, 812257, 812256, 812255, 812254, 812253, 812252, 812251, 812250, 812249, 812248, 812247, 812246, 812245, 812244, 812243, 812242, 812241, 812239, 812238, 812237, 812236, 812235, 812234, 812233, 812231, 812230, 812229, 812228, 10253, 1260858, 1260687, 856872, 856870, 856869, 856868, 856867, 856866, 856865, 856864, 856863, 856862, 856861, 856860, 856859, 854793, 814874, 814873, 814872, 814871, 814870, 814869, 814868, 814867, 814866, 814865, 814864, 814863, 814862, 814861, 814860, 814859, 814858, 814857, 814856, 814855, 814854, 814853, 814852, 814850, 814849, 814848, 814847, 814846, 814845, 814844, 10284, 1260936, 1260935, 1260934, 1260933, 1260692, 1260691, 1260690, 1260568, 1260323, 866122, 863369, 863368, 863367, 863366, 863365, 863364, 863360, 856944, 856938, 856931, 856929, 856926, 856913, 856896, 856889, 855711, 855710, 855709, 854806, 854805, 850592, 849935, 847146, 847145, 847144, 847143, 847142, 847141, 847140, 847139, 815074, 815071, 815070, 815068, 815067, 815066, 815065, 815064, 815063, 815062, 815061, 815060, 815059, 815058, 815057, 815056, 815055, 815054, 815053, 815052, 815050, 815049, 815048, 815047, 815046, 815045, 815044, 815043, 815042, 815036, 815035, 815034, 815033, 815032, 815031, 815030, 815029, 815028, 815027, 815026, 815025, 815021, 815020, 815019, 815016, 815015, 815014, 815013, 815012, 815011, 815010, 815009, 815008, 815007, 815006, 815005, 815004, 815003, 814998, 809004, 809003, 808377, 10288, 863371, 863370, 815078, 815077, 815076, 815075, 815073, 815072, 815069, 857089, 857088, 857087, 857086, 857084, 857078, 857068, 857062, 857056, 857055, 857051, 857047, 857046, 857045, 857043, 857042, 857036, 857034, 857030, 855714, 850604, 846028, 846027, 816186, 816184, 816183, 816182, 816181, 816180, 816179, 816178, 816177, 816175, 816173, 816172, 816171, 816170, 816169, 816168, 816167, 816166, 816165, 816164, 816163, 816162, 816161, 816160, 816159, 816158, 816157, 816156, 816155, 816154, 816153, 816152, 816151, 816150, 816149, 816148, 816147, 816146, 816145, 816144, 816143, 816142, 816141, 816140, 816139, 816138, 816137, 816136, 816135, 816134, 816133, 816132, 816131, 816129, 816128, 816127, 816126, 816125, 816124, 816123, 816122, 816121, 816120, 816119, 816118, 816117, 816116, 816115, 816114, 816113, 816112, 816111, 816110, 816109, 816108, 816107, 816106, 816105, 816104, 816103, 816102, 816101, 816100, 816099, 816098, 816097, 816096, 816095, 816094, 816093, 816092, 816091, 816090, 816089, 816088, 816087, 816086, 816085, 816084, 816083, 816082, 816081, 816080, 816079, 816078, 816077, 816076, 816075, 816074, 816073, 816072, 816071, 816070, 816069, 816068, 816067, 816066, 816065, 816064, 816063, 816062, 816061, 816060, 816059, 816058, 816057, 816056, 816055, 816054, 816053, 816052, 816051, 816050, 816049, 816048, 816047, 816046, 816045, 816044, 816043, 816042, 816041, 809012, 809011, 804730, 10297, 1260698, 863410, 863409, 863408, 863407, 862607, 857152, 857151, 857147, 857141, 857138, 857137, 857135, 857134, 857133, 857132, 857131, 857130, 857129, 857128, 857123, 857122, 857115, 857109, 857108, 857105, 857102, 855717, 855716, 854812, 854811, 850666, 850665, 850664, 850663, 850662, 850661, 850660, 850659, 850658, 850657, 850656, 850655, 850654, 850653, 850651, 850650, 850648, 850647, 850646, 850645, 850644, 850643, 850642, 850641, 850640, 850637, 850633, 850631, 850627, 850626, 850625, 850624, 849946, 849945, 849944, 849943, 847185, 847184, 847183, 847182, 846033, 846032, 846031, 817285, 817276, 817274, 817270, 817269, 817262, 817261, 817260, 817259, 817256, 817254, 817253, 817252, 817245, 817244, 817242, 817241, 817240, 817239, 817238, 817237, 817236, 817235, 817234, 817233, 817232, 817231, 817230, 817229, 817228, 817227, 817226, 817225, 817224, 817223, 817222, 817221, 817220, 817219, 817218, 817217, 817216, 817215, 817214, 817213, 817212, 817211, 817210, 817209, 817208, 817207, 817206, 817205, 817204, 817203, 817202, 817201, 817199, 817198, 817197, 817196, 817195, 817194, 817193, 817192, 817191, 817190, 817189, 817188, 817187, 817186, 817185, 817184, 817183, 817182, 817181, 817180, 817176, 817175, 817174, 817173, 817172, 817171, 817170, 817169, 817168, 817167, 817166, 817165, 817164, 817163, 817162, 817161, 817160, 817159, 817158, 817157, 817156, 817155, 817154, 817153, 817152, 817151, 817150, 817149, 817148, 817147, 817146, 817145, 817144, 817143, 817142, 817141, 817140, 817139, 817138, 817137, 817136, 817135, 817134, 817133, 817132, 817131, 817130, 817129, 817128, 817127, 817126, 817125, 817124, 817123, 817122, 817121, 817120, 817119, 817118, 817117, 817116, 817115, 817114, 817113, 817112, 817111, 817110, 817109, 817108, 817107, 817106, 817105, 817104, 817103, 817102, 817101, 817100, 817099, 817098, 817097, 817096, 817095, 817094, 817093, 817092, 817091, 817090, 817089, 817088, 817087, 817086, 817085, 817084, 817083, 817082, 817081, 817080, 817079, 809032, 809031, 809030, 809029, 809028, 809027, 809026, 809025, 809024, 809023, 808383, 808382, 804792, 804791, 804790, 804789, 804788, 804787, 804786, 804785, 804784, 804783, 804782, 804781, 10303, 866127, 863415, 863414, 863413, 863412, 863411, 863400, 862606, 857170, 857168, 857124, 857120, 857119, 857107, 857104, 857103, 857101, 855715, 854815, 854814, 853875, 850674, 850673, 850672, 850671, 850670, 850669, 850668, 850667, 850652, 850649, 850629, 849947, 847190, 847189, 847188, 847187, 847186, 817393, 817392, 817391, 817390, 817389, 817388, 817387, 817386, 817385, 817384, 817383, 817382, 817381, 817380, 817379, 817378, 817377, 817376, 817375, 817374, 817373, 817372, 817371, 817370, 817369, 817368, 817367, 817366, 817365, 817364, 817363, 817362, 817361, 817360, 817359, 817358, 817357, 817356, 817355, 817354, 817353, 817352, 817351, 817350, 817349, 817348, 817347, 817346, 817345, 817344, 817343, 817342, 817341, 817340, 817339, 817338, 817337, 817336, 817335, 817334, 817333, 817332, 817331, 817330, 817327, 817326, 817325, 817323, 817322, 817321, 817320, 817319, 817318, 817317, 817316, 817315, 817314, 817313, 817312, 817311, 817310, 817309, 817308, 817307, 817306, 817305, 817299, 817298, 817297, 817296, 817295, 817290, 817289, 817288, 817287, 817286, 817284, 817283, 817282, 817281, 817280, 817279, 817278, 817277, 817275, 817273, 817272, 817271, 817268, 817267, 817266, 817265, 817264, 817263, 817258, 817257, 817255, 804801, 804800, 804799, 804798, 804797, 804796, 804795, 804794, 804793, 10304, 1260940, 1260939, 1260699, 866129, 866128, 863418, 863417, 863416, 857195, 857193, 857192, 857191, 857181, 857180, 857179, 857178, 857177, 857176, 857175, 857174, 857172, 857171, 857169, 857164, 857112, 855720, 854817, 853876, 850679, 850678, 850677, 850676, 850675, 849949, 849948, 847193, 847192, 847191, 817496, 817495, 817493, 817492, 817491, 817490, 817489, 817488, 817484, 817483, 817479, 817478, 817477, 817476, 817475, 817474, 817473, 817472, 817471, 817469, 817468, 817467, 817466, 817465, 817464, 817463, 817460, 817459, 817458, 817457, 817456, 817455, 817447, 817446, 817445, 817444, 817443, 817440, 817436, 817435, 817429, 817428, 817427, 817426, 817425, 817424, 817423, 817422, 817421, 817420, 817419, 817418, 817417, 817416, 817412, 817411, 817410, 817409, 817402, 817401, 817400, 817399, 817398, 817397, 817396, 817395, 809033, 808385, 808384, 808014, 804805, 804804, 804803, 804802, 10305, 1260702, 857241, 857240, 857239, 857238, 857234, 857233, 857226, 857218, 857216, 857214, 855722, 855721, 817701, 817698, 817695, 817681, 817680, 817672, 817671, 817670, 817669, 817668, 809044, 809043, 10309, 1260863, 862616, 862615, 857328, 857318, 857317, 857308, 857307, 857296, 854829, 818034, 818033, 818032, 818031, 818029, 818028, 818027, 818026, 818022, 818021, 818020, 818014, 818010, 818009, 818008, 818002, 804844, 10315, 1260358, 863819, 863818, 863817, 863816, 863815, 863814, 863813, 863812, 863811, 863810, 862652, 857759, 857755, 857754, 857744, 857742, 857739, 857738, 857733, 857732, 857720, 857715, 857710, 857697, 854918, 851105, 851104, 851102, 851101, 851100, 851099, 851098, 851097, 851095, 847594, 847593, 847592, 847591, 847590, 847589, 847588, 847587, 847586, 847585, 846123, 846122, 846121, 846120, 821119, 821115, 821114, 821111, 821110, 821109, 821108, 821107, 821106, 821105, 821100, 821099, 821098, 821097, 821096, 821095, 821094, 821088, 821087, 821086, 821085, 821083, 821080, 821079, 821078, 821077, 821076, 821075, 821074, 821066, 821065, 821064, 821063, 821062, 821061, 821060, 821059, 821058, 821057, 821056, 821055, 821054, 821053, 821052, 821051, 821050, 821049, 821048, 821047, 821046, 821045, 821044, 821043, 821042, 821041, 821040, 821039, 821038, 821037, 821036, 821035, 821034, 821033, 821032, 821031, 821030, 821029, 821028, 821027, 821026, 821025, 821024, 821023, 821022, 821021, 821020, 821019, 821018, 821017, 821016, 821011, 821010, 821009, 821008, 821007, 821006, 821005, 821004, 821003, 821002, 821001, 821000, 820999, 820998, 820997, 820996, 820995, 820994, 820993, 820992, 820991, 820990, 820989, 820988, 820987, 820986, 820985, 820984, 820983, 820982, 820981, 820980, 820979, 820978, 820977, 820976, 820975, 820974, 820973, 820972, 820971, 820965, 820964, 820963, 820962, 820961, 820960, 820959, 820958, 820957, 820956, 820955, 820954, 820953, 809111, 809110, 809109, 808442, 808054, 805243, 805242, 805241, 805240, 805239, 805238, 805237, 805236, 805235, 805234, 805233, 805232, 805231, 805230, 805229, 805228, 10342, 15679, 1260960, 857829, 821494, 10350, 1260580, 1260370, 857882, 857835, 857834, 857833, 821524, 821523, 821508, 10351, 857886, 857844, 857841, 857840, 857839, 821545, 821544, 821543, 821541, 821540, 821535, 821534, 804323, 821525, 821526, 821531, 821532, 821533, 10352, 857847, 821573, 821554, 821546, 821547, 821551, 10353, 1260732, 1260371, 866136, 863923, 863922, 863921, 863920, 863919, 863918, 863917, 863916, 863915, 863914, 863913, 863912, 857901, 857865, 857857, 857856, 857854, 857815, 855745, 854935, 850006, 850005, 850004, 850003, 850002, 850001, 847699, 847698, 847697, 847696, 847695, 847694, 847693, 847692, 847691, 847690, 847689, 847688, 821623, 821619, 821611, 809132, 808465, 10356, 866137, 863925, 863924, 857869, 857868, 857867, 857866, 857864, 857863, 857862, 857861, 857860, 857859, 857858, 857836, 847701, 847700, 821651, 821646, 821645, 821644, 821638, 821637, 821636, 821635, 821634, 821633, 821632, 821631, 821630, 821629, 821628, 821627, 821626, 821625, 821624, 10357, 857880, 857877, 857876, 857875, 857874, 857872, 821678, 821677, 821676, 821675, 821674, 821673, 821672, 821671, 821670, 821669, 821668, 821667, 821666, 10358, 857879, 857878, 857873, 857846, 857842, 857837, 821697, 821695, 821687, 821686, 821685, 821682, 10359, 857883, 857881, 821716, 821715, 821714, 821707, 821706, 821705, 10360, 857887, 857885, 857884, 821743, 821735, 821734, 821729, 10361, 857952, 857909, 857908, 857895, 821793, 821792, 821791, 821790, 821789, 821782, 821781, 821780, 821777, 10363, 857951, 857923, 857919, 857918, 857913, 821835, 821834, 821832, 821831, 821830, 821829, 821828, 821822, 821821, 821820, 821819, 821818, 821817, 821816, 821815, 821807, 821806, 821805, 821800, 821799, 805351, 10364, 857920, 857955, 857945, 857943, 857942, 857910, 821906, 821901, 821900, 821899, 821898, 821897, 821896, 821895, 821894, 821890, 10368, 857949, 857946, 857905, 857902, 857898, 854945, 821911, 821907, 808474, 10369, 1260962, 1260961, 857957, 857956, 857954, 857953, 857950, 857948, 857947, 857904, 857892, 821944, 821943, 821942, 821941, 821940, 821939, 821938, 821937, 821936, 821935, 821934, 821933, 821932, 821931, 821930, 821929, 821928, 821927, 821926, 821923, 821922, 821914, 10370, 15669, 858003, 857967, 857964, 854952, 821993, 821992, 821991, 821990, 821986, 821968, 821967, 808485, 808484, 10372, 15465, 15469, 15673, 15608, 15606, 15627, 15581, 15588, 15694, 15674, 15631, 15644, 15504, 15671, 15649, 15615, 15611, 15580, 15576, 15572, 15523, 15486, 15451, 15661, 15641, 15555, 15550, 15519, 15475, 15620, 15617, 15571, 15583, 15513, 15597, 15483, 15505, 15676, 15652, 15579, 15449, 15511, 15614, 15636, 15476, 15485, 15487, 15518, 15563 | Module15900 | 9759 | Bin39 |\n",
       "\n"
      ],
      "text/plain": [
       "  nodeId                                                                                                                                                                                                                                                                                                                                                                                                                                                                                                                                                                                                                                                                                                                                                                                                                                                                                                                                                                                                                                                                                                                                                                                                                                                                                                                                                                                                                                                                                                                                                                                                                                                                                                                                                                                                                                                                                                                                                                                                                                                                                                                                                                                                                                                                                                                                                                                                                                                                                                                                                                                                                                                                                                                                                                                                                                                                                                                                                                                                                                                                                                                                                                                                                                                                                                                                                                                                                                                                                                                                                                                                                                                                                                                                                                                                                                                                                                                                                                                                                                                                                                                                                                                                                                                                                                                                                                                                                                                                                                                                                                                                                                                                                                                                                                                                                                                                                                                                                                                                                                                                                                                                                                                                                                                                                                                                                                                                                                                                                                                                                                                                                                                                                                                                                                                                                                                                                                                                                                                                                                                                                                                                                                                                                                                                                                                                                                                                                                                                                                                                                                                                                                                                                                                                                                                                                                                                                                                                                                                                                                                                                                                                                                                                                                                                                                                                                                                                                                                                                                                                                                                                                                                                                                                                                                                                                                                                                                                                                                                                                                                                                                                                                                                                                                                                                                                                                                                                                                                                                                                                                                                                                                                                                                                                                                                                                                                                                                                                                                                                                                                                                                                                                                                                                                                                                                                                                                                                                                                                                                                                                                                                                                                                                                                                                                                                                                                                                                                                                                                                                                                                                                                                                                                                                                                                                                                                                                                                                                                                                                                                                                                                                                                                                                                                                                                                                                                                                                                                                                                                                                                                                                                                                                                                                                                                                                                                                                                                                                                                                                                                                                                                                                                                                                                                                                                                                                                                                                                                                                                                                                                                                                                                                                                                                                                                                                                                                                                                                                                                                                                                                                                                                                                                                                                                                                                                                                                                                                                                                                                                                                                                                                                                                                                                                                                                                                                                                                                                                                                                                                                                                                                                                                                                                                                                                                                                                                                                                                                                                                                                                                                                                                                                                                                                                                                                                                                                                                                                                                                                                                                                                                                                                                                                                                                                                                                                                                                                                                                                                                                                                                                                                                                                                                                                                                                                                                                                                                                                                                                                                                                                                                                                                                                                                                                                                                                                                                                                                                                                                                                                                                                                                                                                                                                                                                                                                                                                                                                                                                                                                                                                                                                                                                                                                                                                                                                                                                                                                                                                                                                                                                                                                                                                                                                                                                                                                                                                                                                                                                                                                                                                                                                                                                                                                                                                                                                                                                                                                                                                                                                                                                                                                                                                                                                                                                                                                                                                                                                                                                                                                                                                                                                                                                                                                                                                                                                                                                                                                                                                                                                                                                                                                                                                                                                                                                                                                                                                                                                                                                                                                                                                                                                                                                                                                                                                                                                                                                                                                                                                                                                                                                                                                                                                                                                                                                                                                                                                                                                                                                                                                                                                                                                                                                                                                                                                                                                                                                                                                                                                                                                                                                                                                                                                                                                                                                                                                                                                                                                                                                                                                                                                                                                                                                                                                                                                                                                                                                                                                                                                                                                                                                                                                                                                                                                                                                                                                                                                                                                                                                                                                                                                                                                                                                                                                                                                                                                                                                                                                                                                                                                                                                                                                                                                                                                                                                                                                                                                                                                                                                                                                                                                                                                                                                                                                                                                                                                                                                                                                                                                                                                                                                                                                                                                                                                                                                                                                                                                                                                                                                                                                                                                                                                                                                                                                                                                                                                                                                                                                                                                                                                                                                                                                                                                                                                                                                                                                                                                                                                                                                                                                                                                                                                                                                                                                                                                                                                                                                                                                                                                                                                                                                                                                                                                                                                                                                                                                                                                                                                                                                                                                                                                                                                                                                                                                                                                                                                                                                                                                                                                                                                                                                                                                                                                                                                                                                                                                                                                                                                                                                                                                                                                                                                                                                                                                                                                                                                                                                                                                                                                                                                                                                                                                                                                                                                                                                                                                                                                                                                                                                                                                                                                                                                                                                                                                                                                                                                                                                                                                                                                                                                                                                                                                                                                                                                                                                                                                                                                                                                                                                                                                                                                                                                                                                                                                                                                                                                                                                                                                                                                                                                                                                                                                                                                                                                                                                                                                                                                                                                                                                                                                                                                                                                                                                                                                                                                                                                                                                                                                                                                                                                                                                                                                                                                                                                                                                                                                                                                                                                                                                                                                                                                                                                                                                                                                                                                                                                                                                                                                                                                                                                                                                                                                                                                                                                                                                                                                                                                                                                                                                                                                                                                                                                                                                                                                                                                                                                                                                                                                                                                                                                                                                                                                                                                                                                                                                                                                                                                                                                                                                                                                                                                                                                                                                                                                                                                                                                                                                                                                                                                                                                                                                                                                                                                                                                                                                                                                                                                                                                                                                                                                                                                                                                                                                                                                                                                                                                                                                                                                                                                                                                                                                                                                                                                                                                                                                                                                                                                                                                                                                                                                                                                                                                                                                                                                                                                                                                                                                                                                                                                                                                                                                                                                                                                                                                                                                                                                                                                                                                                                                                                                                                                                                                                                                                                                                                                                                                                                                                                                                                                                                                                                                                                                                                                                                                                                                                                                                                                                                                                                                                                                                                                                                                                                                                                                                                                                                                                                                                                                                                                                                                                                                                                                                                                                                                                                                                                                                                                                                                                                                                                                                                                                                                                                                                                                                                                                                                                                                                                                                                                                                                                                                                                                                                                                                                                                                                                                                                                                                                                                                                                                                                                                                                                                                                                                                                                                                                                                                                                                                                                                                                                                                                                                                                                                                                                                                                                                                                                                                                                                                                                                                                                                                                                                                                                                                                                                                                                                                                                                                                                                                                                                                                                                                                                                                                                                                                                                                                                                                                                                                                                                                                                                                                                                                                                                                                                                                                                                                                                                                                                                                                                                                                                                                                                                                                                                                                                                                                                                                                                                                                                                                                                                                                                                                                                                                                                                                                                                                                                                                                                                                                                                                                                                                                                                                                                                                                                                                                                                                                                                                                                                                                                                                                                                                                                                                                                                                                                                                                                                                                                                                                                                                                                                                                                                                                                                                                                                                                                                                                                                                                                                                                                                                                                                                                                                                                                                                                                                                                                                                                                                                                                                                                                                                                                                                                                                                                                                                                                                                                                                                                                                                                                                                                                                                                                                                                                                                                                                                                                                                                                                                                                                                                                                                                                                                                                                                                                                                                                                                                                                                                                                                                                                                                                                                                                                                                                                                                                                                                                                                                                                                                                                                                                                                                                                                                                                                                                                                                                                                                                                                                                                                                                                                                                                                                                                                                                                                                                                                                                                                                                                                                                                                                                                                                                                                                                                                                                                                                                                                                                                                                                                                                                                                                                                                                                                                                                                                                                                                                                                                                                                                                                                                                                                                                                                                                                                                                                                                                                                                                                                                                                                                                                                                                                                                                                                                                                                                                                                                                                                                                                                                                                                                                                                                                                                                                                                                                                                                                                                                                                                                                                                                                                                                                                                                                                                                                                                                                                                                                                                                                                                                                                                                                                                                                                                                                                                                                                                                                                                                                                                                                                                                                                                                                                                                                                                                                                                                                                                                                                                                                                                                                                                                                                                                                                                                                                                                                                                                                                                                                                                                                                                                                                                                                                                                                                                                                                                                                                                                                                                                                                                                                                                                                                                                                                                                                                                                                                                                                                                                                                                                                                                                                                                                                                                                                                                                                                                                                                                                                                                                                                                                                                                                                                                                                                                                                                                                                                                                                                                                                                                                                                                                                                                                                                                                                                                                                                                                                                                                                                                                                                                                                                                                                                                                                                                                                                                                                                                                                                                                                                                                                                                                                                                                                                                                                                                                                                                                                                                                                                                                                                                                                                                                                                                                                                                                                                                                                                                                                                                                                                                                                                                                                                                                                                                                                                                                                                                                                                                                                                                                                                                                                                                                                                                                                                                                                                                                                                                                                                                                                                                                                                                                                                                                                                                                                                                                                                                                                                                                                                                                                                                                                                                                                                                                                                                                                                                                                                                                                                                                                                                                                                                                                                                                                                                                                                                                                                                                                                                                                                                                                                                                                                                                                                                                                                                                                                                                                                                                                                                                                                                                                                                                                                                                                                                                                                                                                                                                                                                                                                                                                                                                                                                                                                                                                                                                                                                                                                                                                                                                                                                                                                                                                                                                                                                                                                                                                                                                                                                                                                                                                                                                                                                                                                                                                                                                                                                                                                                                                                                                                                                                                                                                                                                                                                                                                                                                                                                                                                                                                                                                                                                                                                                                                                                                                                                                                                                                                                                                                                                                                                                                                                                                                                                                                                                                                                                                                                                                                                                                                                                                                                                                                                                                                                                                                                                                                                                                                                                                                                                                                                                                                                                                                                                                                                                                                                                                                                                                                                                                                                                                                                                                                                                                                                                                                                                                                                                                                                                                                                                                                                                                                                                                                                                                                                                                                                                                                                                                                                                                                                                                                                                                                                                                                                                                                                                                                                                                                                                                                                                                                                       \n",
       "1 862807, 862804, 860190, 860122, 860077, 860054, 860049, 860046, 859936, 859882, 852474, 834688, 834678, 834677, 834663, 834662, 834624, 834623, 834622, 834621, 834620, 834619, 834618, 834579, 834578, 834540, 834539, 834497, 834496, 834434, 834433, 834432, 834431, 834430, 834429, 834428, 834427, 834413, 834412, 834390, 834389, 834367, 834366, 834365, 834330, 834329, 834296, 834295, 834294, 834282, 834281, 834242, 834208, 834207, 834195, 834194, 834193, 834192, 834185, 834177, 834169, 834168, 834167, 834162, 834161, 834160, 834133, 834132, 834131, 834130, 834121, 834120, 834119, 834118, 834117, 834116, 834115, 834098, 834081, 834080, 834034, 834033, 833896, 833836, 833835, 833834, 833826, 833821, 833820, 833788, 833774, 833773, 833772, 833771, 833743, 833742, 833741, 833723, 833716, 833715, 833714, 833675, 833674, 833673, 833628, 833627, 833626, 833615, 833614, 833613, 833612, 833578, 833577, 833576, 806621, 9747, 862861, 861443, 861433, 861430, 861429, 861320, 861262, 861250, 861248, 861242, 840011, 840010, 840008, 840003, 839995, 839994, 839982, 839981, 839980, 839979, 839978, 839977, 9757, 1261043, 1260827, 1260659, 1260529, 866215, 862895, 862890, 862889, 861241, 861240, 861239, 853375, 841303, 841221, 841217, 841216, 841212, 841204, 841203, 841202, 841199, 841188, 841187, 841186, 9759, 1260910, 1260907, 1260906, 861936, 861667, 861666, 861664, 861658, 861657, 861656, 861635, 855600, 841808, 841806, 841805, 841804, 841803, 841802, 841801, 841800, 841798, 841794, 841793, 841786, 841785, 841784, 841778, 9763, 866229, 862402, 862374, 862252, 845458, 845364, 845359, 9768, 1261052, 1260920, 1260850, 866227, 866097, 862946, 862532, 862510, 862506, 862505, 856042, 855957, 855955, 855931, 855930, 855927, 855918, 855917, 855916, 854597, 845882, 845881, 845878, 809769, 809701, 809700, 809699, 809690, 809637, 809633, 809626, 809625, 809622, 809611, 809610, 809608, 809607, 809603, 809602, 808292, 9770, 856906, 856905, 856733, 856675, 856652, 856651, 854690, 854689, 853840, 813978, 813595, 813431, 813417, 813416, 813407, 813406, 813370, 813328, 813321, 9775, 1260866, 1260865, 863334, 862621, 856607, 850549, 850548, 850547, 847109, 814898, 814878, 814851, 814424, 814186, 814152, 804673, 804672, 804671, 9776, 857072, 856998, 856997, 856930, 856923, 856922, 856915, 856614, 856613, 815714, 815487, 815449, 815173, 815051, 815024, 815023, 815022, 815018, 815017, 815002, 814948, 814947, 814930, 814926, 814917, 9777, 864089, 858131, 858130, 858129, 858126, 858125, 858124, 858122, 858121, 858120, 858118, 858117, 858114, 855760, 855748, 854941, 847864, 822955, 822954, 822953, 822952, 822951, 822950, 822949, 822948, 822947, 822946, 822945, 822944, 822943, 822942, 822941, 822939, 822938, 822937, 822936, 822935, 822929, 822928, 822925, 822924, 822923, 822922, 822918, 805574, 9788, 858144, 858142, 858141, 858140, 858139, 858138, 858137, 858136, 858135, 858134, 858133, 858132, 858128, 858123, 855761, 822987, 822986, 822985, 822984, 822983, 822982, 822981, 822980, 822979, 822978, 822977, 822973, 822972, 822971, 822970, 822969, 822968, 822957, 822956, 9789, 858147, 858146, 858145, 855758, 823002, 823001, 823000, 822995, 809175, 809174, 809173, 809172, 809171, 809170, 809169, 9790, 858159, 858143, 823010, 823006, 9791, 862677, 858203, 858188, 858187, 858186, 858166, 858164, 851483, 823208, 823199, 823190, 823184, 823183, 823182, 808512, 805623, 805622, 805621, 805620, 805619, 9796, 862681, 858236, 858234, 858233, 858231, 858230, 858229, 858228, 858227, 858225, 858223, 858222, 858220, 858219, 858218, 858217, 858216, 858215, 858206, 855768, 855000, 854999, 854998, 854028, 851498, 851497, 851496, 851495, 851494, 851493, 846203, 846202, 823389, 823386, 823377, 823376, 823375, 823374, 823373, 823372, 823371, 823370, 823368, 823367, 823364, 823363, 823362, 823361, 823360, 823359, 823358, 823357, 823356, 823355, 823354, 823353, 823352, 823351, 823350, 823349, 823348, 823347, 823346, 823345, 823344, 823343, 823339, 823338, 823337, 823336, 823333, 823332, 823331, 823330, 823329, 823328, 823327, 823326, 823325, 823324, 823323, 823319, 823318, 823317, 823316, 823315, 823314, 823313, 823312, 823311, 823310, 823309, 823308, 823307, 823306, 823305, 823304, 823298, 823297, 823296, 823295, 823294, 823293, 823292, 823291, 823290, 809185, 809184, 809183, 809182, 809181, 808513, 808074, 805635, 805634, 805633, 805632, 805631, 805630, 805629, 805628, 9799, 864119, 858259, 858257, 858255, 858250, 858248, 855766, 854030, 851511, 851510, 851509, 851508, 851507, 851506, 847895, 823529, 823528, 823522, 823521, 823515, 823514, 823513, 823505, 823504, 823498, 808516, 808076, 805646, 805645, 805644, 805643, 805642, 9802, 858266, 858265, 858264, 858263, 858262, 858261, 823551, 823550, 823546, 823545, 823544, 823543, 823542, 823530, 9803, 858268, 858260, 823601, 9805, 858273, 823613, 823612, 823610, 809189, 809188, 9806, 9807, 858272, 9808, 858294, 823660, 823659, 9809, 858293, 823678, 823677, 9810, 805665, 9811, 858366, 858356, 858344, 858330, 858329, 858328, 858325, 858318, 858309, 858306, 823782, 823781, 823780, 823779, 823778, 823777, 823767, 823766, 823765, 823764, 823763, 823761, 823760, 823753, 823752, 823751, 823750, 823749, 823748, 823747, 823746, 823745, 823740, 823739, 823738, 823737, 823736, 823735, 823734, 823733, 823732, 823731, 823730, 823729, 823728, 823727, 823726, 823721, 823720, 823718, 805666, 9813, 864140, 862688, 858354, 858348, 858339, 858338, 858336, 858335, 858333, 858332, 858331, 858319, 847916, 846213, 823805, 823804, 823803, 823802, 823801, 823800, 823790, 823789, 823786, 823784, 823783, 9814, 858357, 858355, 858352, 858351, 858323, 858317, 858315, 858314, 858313, 858312, 858311, 858308, 858307, 858297, 823864, 823863, 823862, 823861, 823860, 823859, 823858, 823857, 823856, 823855, 823854, 823853, 823852, 823851, 823850, 823849, 823848, 823847, 823846, 823845, 823844, 823843, 823842, 823841, 823840, 823839, 823838, 823837, 823836, 823829, 823827, 823826, 823818, 823815, 823814, 823813, 823812, 9815, 858296, 823867, 823866, 823865, 862689, 858380, 858379, 858378, 858377, 858376, 858365, 858321, 855007, 846215, 823972, 823965, 823961, 823958, 823957, 823953, 823952, 823951, 823950, 823949, 823948, 823947, 823946, 823945, 823944, 823943, 823942, 809192, 809191, 9817, 858421, 858420, 858419, 858418, 858416, 858413, 858412, 858411, 858410, 855017, 824095, 824089, 824088, 824080, 824079, 824078, 824077, 824076, 824073, 824072, 824071, 824070, 824065, 824064, 824063, 824062, 824061, 824060, 824059, 824058, 824057, 824056, 824055, 824054, 824053, 808527, 808526, 808525, 808524, 808523, 9820, 858439, 858438, 858437, 858435, 858434, 858433, 858432, 858431, 855016, 824122, 824120, 824119, 824112, 824111, 824110, 824109, 824108, 824102, 824099, 824098, 824097, 824096, 809195, 808528, 9821, 858441, 858427, 858426, 858415, 855011, 855010, 846220, 824148, 824147, 824146, 824145, 824144, 824143, 824138, 824137, 824136, 824135, 824123, 824121, 808530, 808529, 9822, 1260396, 858447, 858446, 858445, 858444, 858443, 855015, 824180, 824179, 824178, 824156, 824155, 824154, 824153, 809198, 809197, 809196, 805679, 9823, 1260881, 858454, 858424, 855018, 855014, 855013, 824205, 824192, 809200, 809199, 9824, 1260882, 855019, 809201, 9825, 9826, 1261065, 1260591, 864153, 864152, 864151, 864150, 858469, 855778, 855777, 855775, 847929, 847928, 847927, 847926, 824301, 9827, 866154, 866153, 864167, 864166, 864164, 864158, 858500, 858498, 858495, 858485, 858483, 858482, 858481, 858480, 858478, 858476, 855782, 855780, 855024, 855023, 847942, 847941, 847940, 847939, 846225, 824368, 824364, 824363, 824362, 824361, 824360, 824359, 824358, 824357, 824356, 824355, 824354, 824353, 824352, 824351, 824350, 824349, 824348, 824347, 824346, 824345, 824344, 824343, 824342, 824336, 809204, 809203, 808533, 9829, 1260975, 862701, 862699, 862698, 858499, 858497, 858496, 858494, 858491, 858490, 858488, 858484, 846226, 824379, 824377, 824376, 824375, 824374, 824373, 824372, 824371, 824370, 824369, 9830, 824380, 824378, 858536, 858534, 858533, 858532, 858531, 858530, 858529, 858527, 858526, 858525, 824536, 824533, 824532, 824531, 824530, 824529, 824528, 824527, 824523, 824522, 824516, 9835, 858539, 858538, 858537, 824545, 824544, 824543, 824539, 824538, 824537, 9836, 864177, 858541, 858540, 851555, 851554, 847952, 824574, 824565, 824564, 824563, 824557, 805693, 805692, 9837, 864181, 864180, 864179, 864178, 858543, 858542, 858528, 847956, 847955, 847954, 847953, 824597, 824586, 824581, 824580, 9838, 864191, 864190, 864189, 864188, 864187, 864186, 864185, 864184, 864183, 864182, 858594, 858544, 847966, 847965, 847964, 847963, 847962, 847961, 847960, 847959, 847958, 847957, 824641, 9839, 864194, 858605, 858602, 858599, 858596, 858595, 858592, 858591, 858584, 858583, 858582, 858580, 858577, 858564, 847969, 824745, 824744, 824739, 824738, 824737, 824726, 824725, 824724, 824723, 824722, 824721, 824720, 824719, 824713, 824712, 824711, 824710, 824709, 824708, 824704, 824696, 824695, 824694, 824693, 824692, 824691, 824690, 824686, 824685, 824684, 824683, 824682, 9841, 858590, 858589, 858588, 858586, 858585, 858579, 858573, 858571, 858568, 858565, 858562, 824793, 824792, 824791, 824790, 824789, 824788, 824784, 824783, 824782, 824781, 824780, 824779, 824778, 824765, 824764, 824759, 824758, 824757, 824756, 824755, 824754, 824753, 824752, 824750, 824746, 9842, 1260401, 862709, 858601, 858581, 858578, 858576, 858575, 858574, 858570, 858566, 858563, 858561, 858555, 858554, 858551, 858550, 858549, 846251, 824869, 824868, 824867, 824866, 824865, 824864, 824863, 824862, 824861, 824860, 824859, 824858, 824857, 824856, 824855, 824854, 824853, 824852, 824851, 824850, 824849, 824848, 824847, 824846, 824845, 824844, 824842, 824841, 824840, 824839, 824838, 824837, 824836, 824835, 824834, 824829, 824828, 824827, 824826, 824825, 824824, 824823, 824822, 824821, 824820, 824819, 824818, 824817, 824816, 824815, 824814, 824813, 824812, 824801, 824800, 824799, 824798, 824797, 824796, 824795, 824794, 9843, 866156, 864199, 864198, 864197, 864196, 864195, 858604, 858603, 858597, 858587, 858569, 858567, 858560, 858559, 858558, 858557, 858556, 858553, 858552, 858535, 850034, 847974, 847973, 847972, 847971, 847970, 824925, 824924, 824923, 824922, 824921, 824916, 824915, 824914, 824913, 824912, 824911, 824910, 824904, 824898, 824897, 824896, 824895, 824894, 824893, 824892, 824891, 824888, 824887, 824886, 824885, 824884, 824883, 824882, 824879, 824878, 824877, 824876, 824875, 824874, 824873, 824872, 824871, 9844, 866158, 864275, 864274, 864272, 864270, 858972, 858969, 858967, 858952, 858949, 858948, 858944, 858915, 858911, 854040, 851618, 850039, 848051, 848050, 827041, 827037, 827036, 827035, 827034, 827033, 827028, 827027, 827026, 827024, 827023, 827022, 827021, 827020, 827019, 827018, 827013, 827012, 827011, 827010, 827009, 827008, 827007, 827006, 827005, 827004, 805757, 9862, 864278, 864277, 864276, 862743, 858954, 858953, 858950, 858947, 858941, 858918, 858914, 858912, 858900, 858871, 848054, 848053, 848052, 846280, 846279, 827084, 827083, 827081, 827080, 827077, 827076, 827073, 827072, 827071, 827070, 827069, 827068, 827067, 827066, 827064, 827062, 827061, 827056, 827055, 827043, 827042, 827040, 9863, 858966, 858962, 858961, 858960, 858958, 858957, 858955, 858945, 858942, 858921, 858904, 827119, 827118, 827117, 827116, 827115, 827114, 827113, 827112, 827108, 827107, 827106, 827105, 827104, 827103, 827099, 827098, 827097, 827092, 827091, 827090, 827089, 827088, 827087, 827086, 827085, 805758, 9864, 858970, 858968, 858951, 858946, 858940, 858938, 858937, 858934, 858923, 858922, 858909, 858908, 858903, 858902, 858898, 858894, 858893, 858889, 858875, 858872, 827209, 827208, 827207, 827206, 827205, 827204, 827203, 827202, 827201, 827200, 827199, 827198, 827197, 827196, 827195, 827194, 827193, 827192, 827191, 827190, 827189, 827185, 827184, 827183, 827182, 827180, 827179, 827178, 827177, 827176, 827175, 827174, 827171, 827170, 827169, 827168, 827167, 827166, 827165, 827164, 827163, 827162, 827161, 827160, 827155, 827154, 827153, 827152, 827151, 827150, 827149, 827148, 827147, 827146, 827145, 827144, 827143, 827142, 827141, 827140, 827139, 827138, 827137, 827134, 827133, 827129, 827125, 827124, 9865, 1260981, 1260408, 864282, 864281, 864280, 862747, 858985, 858980, 858979, 858978, 858976, 858973, 858943, 851624, 848058, 848057, 848056, 846284, 827232, 827231, 827230, 827229, 827228, 827227, 827226, 827225, 827224, 827223, 827222, 827221, 827216, 827215, 827214, 827212, 827211, 827210, 805764, 9866, 1261068, 1261067, 864285, 864284, 864283, 858995, 858991, 858989, 858987, 858986, 858984, 858983, 858982, 858981, 858977, 851625, 848061, 848060, 848059, 827263, 827261, 827260, 827259, 827258, 827257, 827256, 827251, 827248, 827247, 827246, 827245, 827244, 827243, 827242, 827241, 827240, 827239, 827238, 827237, 827236, 808084, 805765, 804309, 9867, 862748, 859065, 859058, 859046, 859025, 859009, 859006, 859003, 859002, 858997, 858994, 855052, 854045, 846287, 846286, 846285, 827308, 827307, 827306, 827305, 827304, 827303, 827302, 827301, 827300, 827299, 827298, 827295, 827294, 827293, 827292, 827291, 827290, 827289, 827288, 827287, 827286, 827285, 827284, 827283, 827282, 827281, 827280, 827279, 827274, 827273, 827272, 827271, 827270, 827269, 827268, 827267, 827266, 808552, 9868, 859049, 859038, 859036, 859031, 859017, 827381, 827379, 827378, 827375, 827374, 827373, 827372, 827371, 827370, 827369, 827368, 827364, 827361, 827359, 9870, 859037, 859035, 859034, 859033, 859032, 859030, 859014, 859010, 858998, 858992, 858988, 827403, 827399, 827398, 827397, 827396, 827395, 827394, 827393, 827392, 827391, 827390, 827389, 827388, 827387, 827386, 827385, 827384, 827383, 827382, 827380, 9871, 827408, 827407, 827406, 827405, 827404, 859179, 828148, 828147, 828146, 9886, 804318, 9887, 859188, 859182, 859177, 851664, 828185, 828184, 828173, 805807, 805806, 805805, 9890, 1260606, 1260605, 1260418, 1260417, 864338, 864337, 864336, 859200, 848114, 848113, 848112, 828216, 9892, 859209, 828240, 828239, 828238, 9894, 9895, 9897, 9898, 9899, 9901, 9903, 9905, 9908, 9909, 859231, 828437, 9910, 855082, 808574, 9912, 9913, 9914, 9916, 864343, 851672, 848121, 848120, 848119, 805818, 805817, 805816, 805815, 805814, 805813, 9917, 859266, 859265, 828554, 828553, 828551, 828546, 9920, 1260919, 1260612, 1260421, 864358, 864357, 864356, 864355, 862951, 859271, 859270, 859269, 859268, 859267, 851682, 848134, 848133, 848132, 848131, 846725, 846724, 828564, 828563, 828562, 828561, 828557, 828556, 828555, 809245, 808575, 805824, 9921, 1261051, 859278, 859277, 828581, 828580, 828579, 828578, 9923, 1260988, 1260422, 855814, 809249, 809248, 809247, 9924, 855815, 828598, 809250, 9925, 859290, 859285, 828627, 828626, 828625, 828613, 828612, 9926, 859303, 859302, 859300, 859296, 859291, 828646, 828645, 828644, 828642, 828641, 828640, 828639, 828638, 828637, 828636, 828635, 828633, 828632, 828631, 828630, 9927, 859301, 859299, 859298, 859297, 828650, 828649, 828648, 9928, 828661, 828660, 9929, 859393, 859383, 859381, 859380, 859379, 859376, 859373, 859369, 859367, 859361, 859357, 859355, 859349, 859348, 859347, 859346, 859336, 851701, 828939, 828938, 828937, 828936, 828935, 828934, 828933, 828932, 828929, 828928, 828926, 828925, 828924, 828923, 828922, 828921, 828920, 828919, 828918, 828916, 828914, 828913, 828912, 828911, 828910, 828908, 828907, 828906, 828905, 805845, 9935, 862768, 859389, 859387, 859386, 859385, 859382, 859371, 859366, 859365, 859360, 859358, 859350, 859345, 859343, 828977, 828976, 828975, 828972, 828970, 828969, 828968, 828967, 828965, 828964, 828963, 828962, 828961, 828960, 828959, 828958, 828957, 828956, 828953, 828951, 828950, 828949, 828944, 828943, 828942, 828941, 828940, 9936, 864376, 859395, 859370, 859354, 859353, 859352, 859351, 859342, 859334, 859333, 859329, 859328, 859326, 848152, 846317, 829071, 829070, 829069, 829068, 829067, 829062, 829061, 829060, 829059, 829058, 829057, 829056, 829055, 829054, 829053, 829052, 829051, 829050, 829049, 829048, 829047, 829046, 829045, 829044, 829043, 829039, 829038, 829037, 829036, 829035, 829034, 829033, 829032, 829031, 829030, 829029, 829028, 829027, 829026, 829025, 829024, 829023, 829022, 829021, 829020, 829018, 829017, 829016, 829015, 829014, 829013, 829012, 829011, 829010, 829009, 829008, 829007, 829006, 829005, 829004, 829003, 829002, 829001, 828997, 828996, 828995, 828994, 828993, 828992, 828991, 828990, 828989, 828988, 828987, 828982, 828981, 828979, 828978, 9937, 1260619, 1260429, 859408, 859403, 829084, 829078, 9938, 859427, 859423, 829129, 829128, 829127, 829126, 829125, 829124, 829123, 9941, 9942, 804324, 9943, 859432, 829140, 9944, 864400, 864399, 859479, 859476, 859475, 859472, 859453, 859445, 859441, 859440, 859439, 859437, 848175, 848174, 829274, 829273, 829272, 829271, 829270, 829269, 829268, 829267, 829266, 829265, 829264, 829263, 829261, 829260, 829259, 829258, 829257, 829256, 829255, 829254, 829253, 829252, 829251, 829247, 829246, 829245, 829244, 829243, 829242, 829241, 829240, 805880, 805879, 805877, 805876, 805875, 9948, 864426, 864425, 864424, 864423, 864422, 864421, 864420, 864419, 864418, 864417, 864416, 864414, 864413, 864412, 864409, 864408, 864406, 862772, 859492, 859491, 859490, 859489, 859488, 859487, 859486, 859481, 859480, 855094, 854055, 851757, 851751, 851750, 851749, 851748, 851747, 851746, 851744, 851743, 851740, 848205, 848204, 848203, 848202, 848201, 848200, 848199, 848198, 848197, 848196, 848195, 848194, 848193, 848192, 848191, 829329, 829328, 829327, 829326, 829325, 829324, 829323, 829322, 829321, 829320, 829319, 829318, 829317, 829316, 829315, 829311, 829307, 829306, 808094, 805903, 805902, 805901, 805900, 805899, 805898, 805897, 805896, 805895, 805894, 805893, 805892, 805891, 805890, 9950, 864480, 864479, 859621, 859620, 859609, 859606, 859600, 859595, 859593, 859591, 859588, 859494, 848255, 848254, 830156, 830155, 830154, 830153, 830152, 830151, 830150, 830149, 830148, 830147, 830146, 830145, 830144, 830143, 830142, 830141, 830140, 830139, 830138, 830137, 830136, 830135, 830134, 830133, 830132, 830131, 830130, 830129, 830128, 830127, 830126, 830125, 830123, 830122, 830121, 830120, 830119, 830118, 830117, 9958, 1260639, 862800, 859976, 859974, 859965, 859964, 859962, 859961, 859957, 859946, 855216, 855195, 854158, 854142, 852235, 852231, 846402, 832761, 832759, 832758, 832757, 832756, 832755, 832753, 832752, 832751, 832749, 832746, 832739, 832738, 832737, 832730, 832729, 832728, 832727, 832726, 832725, 832724, 832721, 832720, 832719, 832718, 832717, 832716, 832713, 832712, 832711, 832710, 832709, 832708, 832707, 832706, 832705, 832704, 832703, 832702, 832701, 832700, 832699, 832698, 832697, 832696, 832695, 832694, 832693, 832692, 832691, 832690, 832689, 832688, 832687, 832686, 832685, 832684, 832683, 832682, 832681, 832680, 832679, 832678, 832677, 832676, 832675, 832674, 832673, 832672, 832671, 832670, 832669, 832668, 832667, 832666, 832665, 832664, 832663, 832662, 832661, 832660, 832659, 832658, 832657, 832656, 832655, 832654, 832653, 832652, 832651, 832650, 832649, 832648, 832647, 832646, 832645, 832644, 809322, 806382, 9978, 860212, 834811, 834810, 9997, 1260645, 860216, 860215, 860214, 860213, 855306, 855296, 834829, 834828, 834823, 834822, 834819, 834818, 9998, 860512, 860500, 860499, 860491, 860483, 860480, 860469, 860467, 860466, 860438, 860437, 860436, 860435, 860434, 860433, 846504, 846503, 836246, 836244, 836243, 836242, 836241, 836233, 836232, 836231, 836230, 836229, 836225, 836224, 836223, 836222, 836221, 836220, 836219, 836218, 836217, 836216, 836211, 836210, 836209, 836208, 836207, 836206, 836205, 836204, 836203, 836202, 836201, 836200, 836199, 836198, 836197, 836196, 836195, 836194, 836193, 836192, 836191, 836190, 836189, 836188, 836182, 836180, 836179, 10012, 862844, 860497, 860496, 860495, 860490, 860489, 860488, 860487, 860486, 860485, 860479, 860463, 846510, 836432, 836431, 836430, 836429, 836422, 836421, 836420, 836419, 836418, 836414, 836413, 836412, 836411, 836410, 836409, 836408, 836407, 836406, 836405, 836401, 836400, 836399, 836398, 836397, 836389, 836388, 836387, 836386, 836385, 836384, 836383, 836374, 836373, 10014, 1260496, 860528, 860515, 860423, 860414, 836617, 836611, 836609, 836606, 836605, 836604, 836603, 836602, 10017, 1261025, 1260648, 1260647, 860517, 860516, 855366, 846513, 836619, 836618, 808753, 807055, 10018, 860526, 860525, 860524, 860523, 860522, 860521, 860520, 852908, 851665, 836648, 836647, 836641, 836640, 836639, 836637, 836635, 10019, 860543, 860540, 860532, 860531, 860529, 860518, 836658, 836657, 836656, 836651, 836650, 836649, 10020, 860539, 860534, 860527, 860519, 852909, 836665, 836664, 836663, 807056, 10021, 860533, 860530, 836692, 836691, 836688, 836687, 836686, 836685, 10023, 860545, 860544, 860542, 836694, 836693, 10024, 860574, 10025, 852912, 807059, 10026, 860561, 836731, 10027, 860567, 860566, 836750, 836749, 836748, 10028, 836756, 836755, 10029, 860572, 860571, 836765, 10030, 1260805, 1260503, 860632, 860631, 860630, 860629, 860628, 860627, 860621, 860612, 855376, 854441, 837091, 837081, 837080, 837079, 837078, 837077, 837076, 837075, 837074, 837073, 837072, 837071, 837070, 837069, 837068, 837067, 809421, 10036, 860636, 860635, 860634, 837107, 837106, 10037, 862845, 860637, 837109, 837108, 10038, 1260505, 866199, 865467, 865463, 865462, 860697, 860694, 860693, 860692, 860691, 860655, 860652, 860651, 860650, 860647, 860646, 855392, 855391, 855390, 854454, 854453, 854450, 853056, 853052, 853051, 853049, 853048, 853047, 853045, 853038, 853028, 853019, 853006, 853005, 849244, 849242, 849238, 849237, 837464, 837463, 837461, 837460, 837452, 837451, 837450, 837446, 837445, 837444, 837443, 837439, 837438, 837437, 837436, 837435, 837434, 837433, 837432, 837431, 837430, 837429, 837428, 837427, 837426, 837425, 837424, 837423, 837422, 837421, 837420, 837419, 837418, 837417, 837416, 837415, 837414, 837413, 837412, 837411, 837410, 837409, 837408, 837407, 837406, 837405, 837404, 837403, 837401, 837399, 837398, 837397, 837396, 837395, 837394, 837393, 837392, 837387, 808226, 807209, 807207, 807205, 807203, 807201, 807200, 10042, 1260809, 1260808, 1260651, 1260507, 1260506, 865479, 865478, 865477, 865476, 865475, 865474, 865472, 865470, 865469, 862846, 860733, 860730, 860728, 860725, 860721, 860719, 860718, 860715, 860708, 860707, 860705, 860704, 860702, 860701, 860700, 860699, 860698, 854463, 853071, 853070, 853069, 853067, 853066, 853065, 853064, 853063, 853062, 853061, 853060, 853058, 853054, 850149, 849254, 849253, 849252, 849251, 849250, 849249, 849247, 849246, 849245, 846539, 846538, 837604, 837603, 837601, 837600, 837599, 837598, 837597, 837596, 837595, 837594, 837593, 837591, 837590, 837589, 837588, 837587, 837586, 837585, 837584, 837583, 837582, 837581, 837580, 837579, 837578, 837577, 837576, 837575, 837574, 837573, 837572, 837571, 837570, 837569, 837568, 837567, 837566, 837565, 837564, 837563, 837562, 837561, 837560, 837559, 837558, 837557, 837556, 837555, 837554, 837553, 837552, 837551, 837550, 837549, 837548, 837547, 837546, 837545, 837544, 837543, 837542, 837541, 837540, 837539, 837538, 837537, 837536, 837535, 837534, 837533, 837532, 837531, 837529, 837528, 837527, 837526, 837525, 837524, 837523, 837522, 837521, 837520, 837519, 837518, 837517, 837516, 837515, 837514, 837513, 837512, 837511, 837510, 837509, 837508, 837507, 837506, 837505, 837504, 837503, 837502, 837501, 837500, 837499, 837498, 837497, 837496, 837495, 837494, 837493, 837492, 837491, 837490, 837489, 837488, 837487, 837486, 837485, 837484, 837483, 837482, 837481, 837480, 837479, 837478, 837477, 837476, 837475, 837474, 837473, 837472, 837471, 837470, 837469, 837468, 837467, 837466, 837465, 837462, 808774, 808228, 808227, 807225, 807224, 807223, 807221, 807220, 807219, 807218, 807216, 807215, 807214, 807213, 807212, 807211, 807210, 10043, 865494, 865493, 862850, 862849, 860769, 860768, 860767, 860766, 860765, 860764, 860756, 860752, 860751, 860750, 860749, 860747, 860744, 860742, 860737, 860736, 855409, 855402, 854468, 853133, 853131, 853129, 853128, 853127, 853126, 849269, 849268, 846541, 837814, 837813, 837810, 837808, 837804, 837803, 837802, 837801, 837800, 837799, 837798, 837797, 837796, 837795, 837794, 837793, 837792, 837791, 837790, 837789, 837788, 837787, 837786, 837785, 837784, 837783, 837782, 837773, 808783, 808234, 807282, 807280, 807279, 807278, 807277, 807276, 807275, 10046, 865496, 862847, 860836, 860822, 860811, 860802, 860798, 860797, 860795, 860775, 860773, 860772, 860771, 860770, 855408, 854469, 854465, 853130, 849271, 846545, 846544, 846543, 846542, 837944, 837943, 837942, 837940, 837939, 837938, 837937, 837936, 837935, 837934, 837933, 837932, 837931, 837930, 837929, 837928, 837927, 837926, 837925, 837924, 837923, 837922, 837921, 837920, 837919, 837916, 837915, 837914, 837913, 837912, 837911, 837910, 837909, 837908, 837907, 837906, 837905, 837904, 837903, 837902, 837901, 837900, 837899, 837898, 837897, 837896, 837895, 837888, 837887, 837886, 837885, 837884, 837883, 837882, 837881, 837880, 837879, 837878, 837877, 837876, 837875, 837874, 837873, 837872, 837871, 837870, 837869, 837868, 837867, 837866, 837865, 837864, 837863, 837862, 837861, 837860, 837859, 837858, 837857, 837856, 837855, 837854, 837853, 837852, 837851, 837842, 837841, 837840, 837839, 837838, 837837, 837836, 837835, 837834, 837833, 837832, 837831, 837830, 837829, 837828, 837827, 837826, 837825, 837824, 837823, 837822, 837821, 837820, 808784, 10047, 1260810, 860875, 860873, 860856, 860855, 860852, 838746, 838745, 838742, 838741, 838740, 838733, 838732, 838731, 838730, 838729, 838728, 838726, 838717, 10053, 865541, 860887, 860884, 860883, 860882, 860881, 860880, 860878, 860877, 860876, 860874, 860863, 860860, 853192, 849316, 838772, 838766, 838765, 838764, 838763, 838762, 838761, 838757, 838756, 838755, 838754, 838753, 838747, 807343, 807342, 10054, 1261074, 1261035, 1260513, 865561, 860902, 860900, 860899, 860898, 860897, 860896, 860895, 853206, 853204, 853203, 853201, 853200, 853199, 849336, 838803, 838802, 838798, 838797, 838796, 838789, 838788, 838787, 838785, 838784, 809455, 807358, 807357, 807356, 807355, 807354, 807353, 807352, 807351, 10056, 865583, 862857, 860980, 860979, 860978, 860977, 860975, 860974, 860973, 860972, 860947, 860941, 860934, 860911, 860901, 849358, 839096, 839095, 839094, 839093, 839089, 839085, 839084, 839083, 839082, 839081, 839079, 839078, 839077, 839072, 839071, 839070, 839069, 839068, 839067, 839066, 10061, 861053, 861052, 861050, 861045, 861044, 861043, 861042, 861040, 861038, 861035, 861034, 861033, 861031, 861030, 846580, 839439, 839438, 839437, 839436, 839435, 839432, 839431, 839430, 839429, 839428, 839427, 839426, 839425, 839424, 839423, 839422, 839421, 839420, 839419, 839418, 839417, 839416, 839415, 839414, 839413, 839412, 839411, 839410, 839409, 839408, 839407, 839405, 839404, 839403, 839402, 839401, 839400, 839399, 839398, 839397, 839396, 839395, 839394, 839393, 839392, 839391, 839390, 839389, 839388, 839387, 809462, 808803, 808802, 807455, 807454, 10066, 1261039, 866202, 865670, 865664, 865660, 865658, 865657, 865656, 865655, 865654, 865653, 865650, 865649, 865648, 865647, 865646, 865645, 865644, 862864, 862863, 861084, 861077, 861072, 861066, 861060, 861056, 861055, 861054, 861041, 861039, 861032, 861028, 855868, 855479, 855478, 855472, 855471, 854512, 854511, 853312, 853310, 853305, 853304, 853301, 853300, 850162, 849445, 849439, 849438, 849435, 849433, 849432, 849431, 849430, 849429, 849428, 849425, 849424, 849423, 849422, 849421, 849420, 849419, 839467, 839465, 839464, 839463, 839462, 839461, 839460, 839459, 839458, 839456, 839455, 839454, 839453, 839452, 839451, 839450, 839449, 839448, 839447, 839446, 839445, 839444, 839442, 839441, 839440, 808804, 808249, 808248, 807469, 807468, 807467, 807465, 807460, 807459, 807458, 10067, 839470, 839469, 839468, 839466, 839457, 865743, 861163, 861162, 861161, 849519, 839787, 839786, 839780, 839779, 839778, 808896, 10075, 866209, 866208, 862867, 861164, 855871, 855510, 855509, 839799, 839798, 839797, 808819, 10076, 1260819, 865770, 865769, 865767, 865766, 862870, 861200, 861199, 861197, 861195, 861194, 861193, 861190, 861189, 861188, 861187, 861186, 861185, 861184, 855517, 855516, 855493, 853428, 850173, 849546, 849545, 846598, 846597, 839878, 839877, 839876, 839875, 839874, 839873, 839872, 839871, 839870, 839869, 839868, 839867, 839866, 839865, 839864, 839863, 839862, 808259, 807584, 10080, 861215, 861214, 861213, 861212, 861211, 861210, 861209, 861208, 861207, 861206, 861204, 861203, 861202, 861201, 861198, 861196, 855519, 854543, 839904, 839900, 839899, 839898, 839897, 839896, 839895, 839894, 839893, 839892, 839891, 839890, 839881, 839880, 839879, 807585, 10081, 861232, 861231, 861230, 861229, 861228, 861227, 861226, 861224, 861223, 839963, 839962, 839959, 839958, 839957, 839956, 839955, 839954, 839953, 839945, 839944, 10083, 861235, 861234, 839968, 839965, 10084, 865777, 861247, 849553, 10085, 807593, 10086, 10087, 10088, 10089, 866213, 807599, 807598, 10090, 865785, 865783, 865782, 855524, 849561, 849559, 10092, 849562, 853443, 10094, 853449, 853448, 840009, 809478, 807610, 807609, 10095, 861254, 861253, 861251, 840013, 840012, 10096, 861445, 861444, 861441, 861438, 861437, 861436, 861435, 861419, 861418, 861417, 861416, 841222, 841220, 841219, 841218, 841215, 841214, 841213, 841211, 841210, 841209, 841208, 841207, 10108, 861447, 861446, 861442, 861415, 861414, 861406, 855551, 841234, 841233, 841232, 841231, 841230, 841229, 841228, 841227, 841226, 841225, 841224, 841223, 10109, 861457, 861453, 861452, 861451, 861450, 861449, 861448, 855552, 853524, 841248, 841247, 841246, 841245, 841244, 841243, 841242, 841241, 841240, 841239, 841238, 841237, 841236, 841235, 809501, 807685, 10110, 861471, 861470, 861469, 861467, 861465, 861464, 861463, 861462, 861461, 861460, 861459, 861458, 861456, 861455, 861454, 841278, 841277, 841276, 841275, 841274, 841273, 841272, 841271, 841270, 841269, 841268, 841267, 841266, 841265, 841264, 841263, 841262, 841261, 841260, 841259, 841258, 841257, 841253, 841252, 841251, 841250, 841249, 10111, 861505, 861504, 861503, 861484, 861481, 861477, 861476, 861473, 861472, 855879, 841291, 841290, 841289, 841287, 841286, 841285, 841283, 841282, 841281, 807686, 10112, 1260658, 861502, 861501, 861496, 861490, 861487, 861485, 861482, 841306, 841305, 841304, 841302, 841301, 841300, 841299, 841298, 841295, 841294, 841293, 841292, 841288, 10113, 861495, 861493, 841312, 841311, 841310, 841309, 841308, 841307, 10114, 1261044, 1260528, 861498, 861497, 861494, 861491, 855881, 855880, 841315, 841314, 841313, 809503, 809502, 10115, 861500, 861499, 861492, 861483, 861478, 853527, 853526, 853525, 841323, 841322, 841321, 841319, 841318, 841317, 841316, 807689, 807688, 807687, 10116, 861508, 861506, 861488, 861486, 861480, 861479, 861475, 861474, 861468, 861466, 841336, 841335, 841334, 841333, 841332, 841331, 841330, 841329, 841328, 841327, 841326, 841325, 841324, 809507, 809506, 809505, 809504, 807690, 10117, 861579, 861539, 861533, 861532, 861530, 861524, 861523, 861518, 861517, 854554, 854553, 853534, 853533, 853531, 853529, 841411, 841410, 841409, 841408, 841407, 841406, 841405, 841404, 841403, 841402, 841401, 841400, 841399, 841398, 841397, 841396, 841395, 841394, 841393, 841392, 841391, 841390, 841389, 841388, 841387, 841386, 841385, 841384, 841383, 841382, 841381, 841380, 841379, 841378, 841377, 841376, 841375, 841374, 841373, 841372, 841371, 841370, 841369, 841367, 841364, 841363, 841362, 841361, 841360, 841359, 841358, 841357, 841356, 841355, 841354, 841353, 841352, 841351, 841350, 841349, 841348, 841347, 841346, 841345, 841344, 841343, 841342, 841341, 841340, 841339, 841338, 841337, 809509, 809508, 808266, 807706, 807705, 807704, 807703, 807702, 807701, 807700, 807699, 807698, 807697, 807696, 807695, 807694, 807693, 807692, 807691, 10118, 865849, 861569, 861565, 861564, 861563, 861562, 861561, 861559, 861551, 861550, 861534, 861521, 861511, 861510, 853562, 853561, 849624, 841584, 841582, 841581, 841580, 841579, 841578, 841577, 841576, 841575, 841574, 841573, 841572, 841571, 841570, 841569, 841568, 841567, 841566, 841562, 841561, 841560, 841559, 841558, 841557, 841556, 841554, 841553, 841552, 841551, 841550, 841546, 841545, 841544, 841543, 10121, 861607, 861582, 861581, 861580, 861558, 861526, 861522, 861515, 841603, 841599, 841598, 841597, 841595, 841594, 841592, 841590, 841589, 841588, 841587, 841586, 841585, 10122, 1260899, 862894, 861604, 861603, 861602, 861600, 861599, 861598, 861597, 861596, 861595, 861594, 861592, 861591, 861590, 861589, 861584, 846641, 841628, 841627, 841626, 841625, 841624, 841623, 841622, 841621, 841620, 841619, 841618, 841615, 841614, 841613, 841610, 841609, 841608, 841607, 841606, 841605, 841604, 807727, 10123, 861601, 861593, 861587, 861586, 861585, 846643, 841644, 841640, 841639, 841638, 841637, 841636, 841635, 841634, 841633, 841632, 841631, 841630, 841629, 10124, 862897, 861606, 861605, 861588, 861583, 841654, 841653, 841652, 841651, 841650, 841649, 841648, 841647, 841646, 841645, 10125, 1260829, 853564, 841663, 841656, 807728, 10126, 1260900, 861608, 10127, 841683, 841682, 841679, 841678, 10128, 1260901, 854560, 807735, 10129, 10130, 10131, 1260903, 861621, 861620, 861619, 861618, 861617, 861616, 855883, 855562, 841714, 841713, 841712, 841710, 809513, 10133, 855884, 853580, 853579, 853578, 853577, 853576, 853575, 809514, 808846, 808270, 807744, 807743, 807742, 807741, 807740, 807739, 10134, 866216, 861624, 853583, 841716, 807747, 10135, 865873, 865872, 865871, 865870, 865869, 865868, 861623, 855563, 850183, 850182, 849648, 849647, 849646, 849645, 849644, 849643, 841717, 10136, 841719, 841718, 10137, 10138, 10139, 853584, 807748, 10140, 10141, 10142, 841739, 10144, 1260532, 861637, 861636, 861634, 861633, 861632, 861631, 861630, 861629, 855570, 855568, 855566, 855565, 846650, 841755, 841754, 841753, 841752, 841751, 841750, 841749, 841748, 841747, 841746, 841745, 841744, 841743, 841742, 809516, 808848, 808847, 807749, 10145, 861628, 861627, 861626, 861625, 855564, 853585, 841762, 841761, 841760, 841759, 841758, 841757, 808849, 10146, 1261045, 1260533, 861638, 855569, 855567, 841765, 841764, 808850, 10147, 861655, 861654, 861653, 861648, 861647, 861646, 861642, 861641, 861640, 841776, 841775, 841774, 841773, 841772, 841771, 841770, 841769, 841768, 841767, 841766, 10148, 861652, 861651, 861650, 841780, 841779, 841777, 10149, 1260904, 1260832, 861675, 861645, 861644, 861643, 861639, 855887, 855886, 855572, 855571, 841789, 841788, 841787, 841783, 841782, 841781, 809518, 808851, 10150, 861665, 861662, 841795, 841792, 841791, 841790, 807751, 10151, 841799, 10152, 861660, 10153, 861690, 861685, 809520, 809519, 10154, 861668, 861661, 841807, 10155, 10156, 861682, 861681, 861680, 861673, 861672, 841819, 841818, 841817, 841816, 841815, 841814, 841813, 841812, 841811, 841810, 841809, 10157, 861683, 861676, 841826, 841825, 841824, 841822, 841821, 841820, 10158, 861684, 861679, 861678, 861677, 855888, 841840, 841839, 841838, 841837, 841833, 841829, 841828, 10159, 861689, 861688, 861686, 861671, 861670, 861663, 861659, 841854, 841853, 841852, 841851, 841849, 841848, 841847, 841846, 841845, 841844, 841843, 841842, 841841, 809525, 809524, 809523, 809522, 809521, 10160, 861745, 861730, 861727, 861724, 861723, 861722, 861721, 861716, 861706, 861705, 846652, 841967, 841966, 841965, 841964, 841962, 841961, 841960, 841959, 841958, 841957, 841956, 841954, 841953, 841952, 841951, 841950, 841949, 841948, 841947, 841946, 841943, 841942, 841941, 841940, 841939, 841938, 841937, 841936, 841935, 841934, 841933, 841932, 841931, 841930, 841929, 841928, 841927, 841926, 841925, 841924, 841923, 841922, 841921, 841920, 841919, 841918, 841917, 841916, 841915, 841914, 841913, 841912, 841911, 841910, 841909, 841908, 841907, 841906, 841904, 841903, 841902, 841901, 841900, 841899, 841898, 841897, 841896, 841895, 841894, 841893, 809527, 809526, 10162, 1260537, 865882, 861776, 861769, 861742, 861740, 861738, 861737, 861728, 861720, 861719, 861718, 861717, 861712, 861708, 861707, 861703, 861702, 861701, 861695, 855891, 855890, 855592, 853597, 853596, 853595, 853594, 853593, 853592, 849657, 846653, 842061, 842053, 842051, 842050, 842049, 842048, 842047, 842044, 842043, 842042, 842041, 842040, 842036, 842035, 842034, 842033, 842032, 842031, 842030, 842029, 842028, 842027, 842026, 842025, 842024, 842023, 842022, 842021, 842020, 842019, 842018, 842017, 842016, 842015, 842014, 842013, 842012, 842011, 842010, 842009, 842007, 842006, 842005, 842004, 842003, 842002, 842001, 842000, 841999, 841998, 841997, 841996, 841995, 841994, 841993, 841992, 841991, 841990, 841989, 841988, 841986, 841984, 841983, 841982, 841981, 841980, 841979, 841978, 841977, 841976, 841975, 841974, 841973, 841972, 841971, 841970, 841969, 841968, 841963, 809529, 808272, 807764, 807763, 807762, 807761, 807760, 807759, 807758, 10163, 861778, 861777, 861775, 861774, 861773, 861771, 861764, 861763, 861762, 861761, 861759, 861758, 861757, 861755, 861754, 861752, 861751, 861739, 861726, 861710, 861704, 861698, 861694, 842129, 842128, 842127, 842126, 842125, 842124, 842123, 842122, 842120, 842119, 842118, 842117, 842116, 842115, 842114, 842113, 842112, 842111, 842110, 842109, 842108, 842107, 842106, 842105, 842104, 842103, 842102, 842101, 842100, 842099, 842098, 842097, 842096, 842095, 842094, 842093, 842092, 842091, 842090, 842089, 842088, 842087, 842086, 842085, 842084, 842083, 842082, 842081, 842080, 842079, 842078, 842077, 842076, 842075, 842074, 842073, 842072, 842071, 842070, 842069, 842068, 842067, 842066, 842065, 842064, 842063, 842062, 842060, 842059, 842058, 842057, 842056, 842055, 842054, 842052, 842046, 842045, 804326, 10164, 861779, 861772, 861770, 861768, 861767, 861766, 861760, 861756, 861753, 861750, 861747, 861746, 861743, 861736, 861731, 861725, 861715, 861711, 861709, 861700, 861699, 853598, 842217, 842211, 842210, 842205, 842204, 842203, 842199, 842198, 842197, 842195, 842194, 842192, 842191, 842190, 842189, 842188, 842187, 842186, 842184, 842183, 842182, 842181, 842180, 842179, 842178, 842177, 842176, 842175, 842174, 842173, 842172, 842171, 842170, 842169, 842168, 842167, 842166, 842165, 842164, 842163, 842162, 842161, 842159, 842158, 842157, 842156, 842155, 842154, 842153, 842152, 842151, 842150, 842149, 842148, 842147, 842146, 842145, 842144, 842143, 842142, 842141, 842140, 842139, 842138, 842137, 842136, 842135, 842134, 842133, 842132, 842131, 842130, 809530, 808856, 10165, 1260835, 865883, 861834, 861833, 861832, 861826, 861825, 861824, 861822, 861818, 861817, 861816, 861814, 861806, 861801, 861795, 861696, 861693, 855893, 849658, 846654, 842391, 842390, 842389, 842388, 842387, 842386, 842385, 842384, 842383, 842382, 842381, 842380, 842379, 842378, 842377, 842376, 842375, 842374, 842373, 842372, 842371, 842370, 842369, 842368, 842367, 842366, 842365, 842364, 842363, 842362, 842361, 842360, 842359, 842358, 842357, 842356, 842355, 842354, 842353, 842352, 842351, 842350, 842349, 842348, 842347, 842346, 842345, 842344, 842343, 842342, 842341, 842340, 842339, 842338, 842337, 842336, 842335, 842334, 842333, 842332, 842331, 842330, 842329, 842328, 842327, 842326, 842325, 842324, 842323, 842322, 842321, 842320, 842319, 842318, 842317, 842316, 842315, 842314, 842313, 842312, 842311, 842310, 842309, 842308, 842307, 842306, 842305, 842304, 842303, 842302, 842301, 842300, 842299, 842298, 842297, 842296, 842295, 842294, 842293, 842292, 842291, 842290, 842289, 842288, 842287, 842286, 842285, 842284, 842283, 842282, 842281, 842280, 842279, 842278, 842277, 842276, 842275, 842274, 842273, 842272, 842271, 842270, 842269, 842268, 842267, 842266, 842265, 842264, 842263, 842262, 842261, 842260, 842259, 842258, 842257, 842256, 842255, 842254, 842253, 842252, 842251, 842250, 842249, 842248, 842247, 842246, 842245, 842244, 842243, 842242, 842241, 842240, 842239, 842238, 842237, 842236, 842235, 842234, 842233, 842232, 842231, 842230, 842229, 842228, 842227, 842226, 842225, 842224, 842223, 842222, 842221, 842220, 842219, 842218, 842216, 842215, 842214, 842213, 842212, 842209, 842208, 842207, 842206, 842202, 842201, 842200, 842196, 842193, 842185, 807773, 807772, 807771, 807770, 807769, 807768, 807767, 807766, 807765, 10166, 865914, 861898, 861897, 861890, 861888, 861884, 861865, 861862, 861860, 861855, 861849, 861848, 861843, 861842, 855599, 849689, 842881, 842880, 842879, 842878, 842877, 842876, 842875, 842874, 842873, 842872, 842871, 842870, 842869, 842868, 842867, 842866, 842865, 842864, 842863, 842862, 842861, 842860, 842859, 842858, 842857, 842856, 842855, 842854, 842853, 842852, 842851, 842850, 842849, 842848, 842847, 842846, 842845, 842844, 842843, 842842, 842841, 842840, 842839, 842838, 842837, 842836, 842835, 842834, 842833, 842832, 842831, 842830, 842829, 842827, 842826, 842825, 842824, 842823, 842822, 842821, 842820, 842819, 842818, 842817, 842816, 842815, 842814, 842813, 842812, 842811, 809538, 808864, 10171, 861916, 861908, 861907, 861906, 861905, 861899, 861896, 861892, 861838, 861836, 855597, 842892, 842891, 842890, 842889, 842888, 842886, 842885, 842884, 842883, 842882, 10172, 861914, 861912, 842912, 842911, 842910, 842909, 842908, 842907, 842906, 842905, 842904, 842903, 842897, 842896, 842895, 842894, 842893, 10173, 861917, 861913, 861911, 861910, 861909, 861904, 861895, 842916, 842915, 842914, 10174, 862913, 862912, 862911, 862910, 862907, 861958, 861955, 861954, 861952, 861950, 861949, 861948, 861947, 861942, 861940, 861939, 861934, 861932, 861931, 861930, 861928, 861927, 861923, 861921, 855892, 855603, 855589, 846666, 846665, 846664, 846663, 846662, 843035, 843034, 843033, 843032, 843031, 843030, 843029, 843028, 843027, 843026, 843025, 843024, 843023, 843022, 843021, 843020, 843019, 843018, 843017, 843016, 843015, 843014, 843013, 843012, 843011, 843010, 843009, 843008, 843007, 843006, 843005, 843004, 843003, 843002, 843001, 843000, 842999, 842998, 842997, 842996, 842995, 842994, 842993, 842992, 842991, 842990, 842989, 842988, 842987, 842986, 842985, 842984, 842983, 842982, 842981, 842980, 842979, 842978, 842977, 842976, 842975, 842974, 842973, 842972, 842971, 842970, 842969, 842968, 842967, 842965, 842964, 842963, 842962, 842961, 842960, 842959, 842958, 842957, 842956, 842955, 842954, 842953, 842952, 842946, 842945, 10176, 865932, 862914, 862081, 862077, 862073, 862045, 862043, 862042, 862040, 862034, 862033, 862032, 862031, 862030, 862029, 862028, 862027, 862026, 862024, 862019, 862018, 861974, 855604, 849713, 849712, 849711, 849710, 849709, 849708, 849707, 846670, 843258, 843257, 843256, 843254, 843253, 843252, 843251, 843250, 843249, 843248, 843247, 843246, 843245, 843244, 843243, 843242, 843241, 843240, 843239, 843238, 843237, 843236, 843235, 843234, 843233, 843232, 843231, 843230, 843229, 843228, 843227, 843226, 843225, 843224, 843223, 843222, 843221, 843220, 843219, 843218, 843217, 843216, 843215, 843214, 843213, 843212, 843211, 807853, 807852, 807851, 807850, 807849, 10180, 1260913, 866031, 862266, 862255, 862246, 862240, 862235, 862234, 862233, 862231, 862230, 862229, 862228, 862227, 862226, 862225, 862223, 862221, 862220, 862217, 862216, 862214, 862213, 855632, 853741, 853740, 849807, 844813, 844811, 844810, 844809, 844808, 844807, 844805, 844804, 844803, 844802, 844801, 844800, 844799, 844798, 844796, 844795, 844794, 844793, 844792, 844791, 844790, 844789, 844788, 844787, 844786, 844785, 844784, 844783, 844782, 844781, 844780, 844779, 844778, 844770, 844769, 844768, 844767, 844766, 844765, 844764, 844763, 844762, 844761, 844760, 844759, 844758, 844757, 844756, 844755, 844754, 844751, 844750, 844749, 844748, 844747, 844746, 844745, 844744, 844743, 844742, 844741, 844740, 844739, 844738, 844737, 844736, 844735, 844734, 844733, 844732, 844731, 844730, 807909, 807908, 807907, 10193, 1261047, 1260915, 1260542, 862280, 862277, 862273, 862272, 862271, 862270, 862269, 862268, 862267, 862265, 862261, 862259, 862258, 862242, 862222, 862215, 855629, 844862, 844861, 844860, 844859, 844858, 844857, 844855, 844854, 844853, 844852, 844851, 844850, 844849, 844848, 844847, 844846, 844845, 844844, 844843, 844842, 844841, 844840, 844839, 844838, 844837, 844836, 844835, 844834, 844833, 844832, 844831, 844830, 844829, 844828, 844827, 844826, 844825, 844824, 844823, 844822, 844821, 844820, 844819, 844818, 844817, 844816, 844815, 844814, 844812, 809560, 808876, 10194, 1261048, 1260545, 1260544, 866045, 866044, 866043, 866042, 866041, 866038, 862939, 862938, 862937, 862368, 862353, 862338, 862332, 862330, 862329, 862328, 862327, 862326, 862325, 862309, 855904, 855652, 855647, 855646, 855645, 855643, 855635, 855634, 853752, 853750, 849821, 849820, 849819, 849818, 849817, 846702, 846701, 846700, 845199, 845198, 845197, 845196, 845195, 845194, 845193, 845192, 845191, 845190, 845189, 845188, 845187, 845186, 845185, 845184, 845183, 845182, 845181, 845180, 845179, 845178, 845177, 845176, 845175, 845174, 845172, 845171, 845170, 845169, 845168, 845166, 845165, 845164, 845163, 845162, 845161, 845160, 845159, 845158, 845157, 845156, 845155, 845154, 845153, 845152, 845151, 845150, 845149, 845148, 845147, 845146, 845145, 845144, 845143, 845142, 845141, 845140, 845139, 845138, 845137, 845136, 845135, 845134, 845133, 845132, 845131, 845130, 845129, 845128, 845127, 845126, 845125, 845124, 845123, 845122, 845121, 845120, 845115, 845114, 845113, 845112, 845111, 845110, 845109, 845108, 845107, 845106, 845105, 845104, 845103, 845102, 845101, 845100, 845099, 845098, 845097, 845096, 845095, 845094, 845093, 808280, 807921, 10198, 1261075, 862449, 862448, 862447, 862446, 862445, 862444, 862442, 862426, 850207, 845677, 845676, 845675, 845674, 845673, 845669, 845668, 845667, 845666, 845665, 845664, 10206, 862459, 862457, 862453, 862452, 862450, 845691, 845689, 845688, 845682, 845681, 845680, 845678, 10207, 1260847, 862463, 854585, 853793, 853792, 853789, 853788, 853786, 853784, 853783, 853782, 853781, 853780, 853779, 853777, 845704, 808288, 808287, 808286, 808285, 808284, 807962, 807961, 807960, 807959, 807958, 807957, 807956, 807955, 807954, 807953, 807952, 807951, 807950, 807949, 807948, 807946, 10208, 862464, 854586, 853798, 853791, 853790, 853787, 853785, 807968, 807967, 807966, 10209, 862468, 862467, 862466, 862465, 845713, 845712, 845711, 845708, 845707, 10210, 862483, 862482, 862477, 862475, 862471, 853797, 845725, 845724, 845717, 10211, 866104, 862523, 862522, 862521, 862520, 862514, 849879, 845856, 845846, 845845, 845844, 845843, 845842, 845841, 10215, 1260918, 862528, 862527, 862526, 862525, 862524, 845869, 845868, 845867, 845865, 845863, 845862, 845858, 845857, 10216, 862530, 862529, 845879, 10217, 862531, 845880, 10218, 855911, 809601, 10219, 1260666, 1260292, 862966, 862535, 862534, 855972, 855971, 855970, 855969, 855968, 855967, 855966, 855964, 855956, 854599, 854598, 846739, 845884, 809731, 809730, 809729, 809728, 809727, 809726, 809725, 809724, 809723, 809722, 809721, 809720, 809719, 809718, 809717, 809716, 809715, 809714, 809713, 809712, 809711, 809710, 809709, 809702, 10224, 1260848, 1260667, 855994, 855992, 855991, 855989, 855987, 855980, 855979, 855976, 855975, 855973, 845886, 845885, 809760, 809759, 809758, 809757, 809756, 809755, 809754, 809753, 809752, 809751, 809750, 809749, 809748, 809747, 809741, 809740, 809739, 809738, 809737, 809736, 809735, 809734, 809733, 809732, 10225, 1260849, 856002, 855997, 855996, 855995, 855993, 855990, 855988, 855981, 855978, 855977, 845887, 809788, 809787, 809786, 809785, 809784, 809783, 809782, 809779, 809776, 809775, 809774, 809773, 809772, 809771, 809770, 809768, 809767, 809766, 809765, 809764, 809763, 809762, 809761, 10226, 862996, 862995, 862994, 862993, 862992, 862991, 862990, 862545, 862544, 856132, 856064, 856063, 856058, 856051, 856048, 856046, 856044, 856041, 856039, 856037, 856036, 856035, 856023, 854609, 854608, 854607, 850234, 850233, 850232, 850231, 850230, 850229, 850228, 850227, 850226, 850219, 849884, 849883, 846769, 846768, 846767, 846766, 846765, 845894, 845893, 845892, 845891, 845890, 809957, 809956, 809955, 809954, 809952, 809951, 809950, 809949, 809946, 809945, 809944, 809943, 809942, 809941, 809940, 809939, 809938, 809937, 809936, 809935, 809934, 809933, 809932, 809931, 809930, 809929, 809928, 809927, 809926, 809925, 809924, 809923, 809922, 809921, 809920, 809919, 809918, 809917, 809916, 809915, 809912, 809911, 809910, 809909, 809908, 809907, 809906, 809905, 809904, 809903, 809902, 808898, 808299, 808298, 808297, 804354, 804353, 804352, 804351, 804350, 804349, 804348, 804347, 804346, 10230, 15610, 856171, 856170, 856169, 856168, 856167, 856140, 856139, 856135, 856078, 850238, 810283, 810282, 810281, 810280, 810279, 810278, 810277, 810276, 810271, 810270, 810269, 810268, 810267, 810264, 810263, 804359, 804358, 10235, 856156, 856155, 856153, 850239, 810292, 810291, 810290, 810289, 810288, 810284, 804360, 10236, 856161, 856160, 856159, 856158, 856157, 856154, 850240, 810309, 810308, 810306, 810305, 810304, 810303, 810302, 810301, 810300, 810299, 810298, 10237, 1260921, 863062, 863061, 863060, 863059, 863058, 856281, 856276, 856273, 856267, 856263, 856262, 856261, 856260, 856259, 856258, 856252, 854655, 854654, 854653, 854652, 850287, 849894, 849893, 849892, 849891, 849890, 849889, 846836, 846835, 846834, 846833, 846832, 810829, 810824, 810823, 810819, 810818, 810817, 810816, 810815, 810814, 810813, 810812, 810811, 810810, 810809, 810808, 810807, 810806, 810805, 810804, 810803, 810802, 810801, 810800, 810799, 810798, 810797, 810796, 810795, 810794, 810793, 810792, 810791, 810790, 810789, 810788, 810787, 810786, 810785, 810784, 810783, 810782, 810781, 810775, 810774, 810773, 810772, 810771, 810770, 810769, 810768, 810767, 810766, 810765, 810764, 810763, 810762, 810761, 810760, 810759, 810758, 810757, 810756, 810755, 810754, 810753, 810752, 810751, 810750, 810749, 810748, 810747, 810746, 810745, 810744, 810743, 810742, 810741, 810740, 810739, 810738, 810737, 810736, 810735, 810734, 810733, 810732, 810731, 810730, 810729, 810728, 810727, 810726, 810725, 810724, 810723, 810722, 810721, 810720, 810719, 810718, 810717, 810716, 810715, 810714, 810713, 810712, 810711, 810710, 810709, 810708, 810707, 810706, 810705, 810704, 810703, 810702, 810701, 810700, 810699, 810698, 810697, 810696, 810695, 810694, 810693, 810692, 810691, 808924, 808923, 808922, 804409, 10243, 1260852, 1260299, 856441, 856437, 856430, 856428, 856427, 856426, 856425, 856423, 856419, 856418, 856417, 856415, 856414, 856411, 856406, 856405, 856398, 854676, 812289, 812288, 812287, 812286, 812285, 812284, 812283, 812282, 812281, 812280, 812279, 812278, 812277, 812276, 812275, 812274, 812273, 812272, 812271, 812270, 812269, 812268, 812267, 812266, 812265, 812264, 812263, 812262, 812261, 812260, 812259, 812258, 812257, 812256, 812255, 812254, 812253, 812252, 812251, 812250, 812249, 812248, 812247, 812246, 812245, 812244, 812243, 812242, 812241, 812239, 812238, 812237, 812236, 812235, 812234, 812233, 812231, 812230, 812229, 812228, 10253, 1260858, 1260687, 856872, 856870, 856869, 856868, 856867, 856866, 856865, 856864, 856863, 856862, 856861, 856860, 856859, 854793, 814874, 814873, 814872, 814871, 814870, 814869, 814868, 814867, 814866, 814865, 814864, 814863, 814862, 814861, 814860, 814859, 814858, 814857, 814856, 814855, 814854, 814853, 814852, 814850, 814849, 814848, 814847, 814846, 814845, 814844, 10284, 1260936, 1260935, 1260934, 1260933, 1260692, 1260691, 1260690, 1260568, 1260323, 866122, 863369, 863368, 863367, 863366, 863365, 863364, 863360, 856944, 856938, 856931, 856929, 856926, 856913, 856896, 856889, 855711, 855710, 855709, 854806, 854805, 850592, 849935, 847146, 847145, 847144, 847143, 847142, 847141, 847140, 847139, 815074, 815071, 815070, 815068, 815067, 815066, 815065, 815064, 815063, 815062, 815061, 815060, 815059, 815058, 815057, 815056, 815055, 815054, 815053, 815052, 815050, 815049, 815048, 815047, 815046, 815045, 815044, 815043, 815042, 815036, 815035, 815034, 815033, 815032, 815031, 815030, 815029, 815028, 815027, 815026, 815025, 815021, 815020, 815019, 815016, 815015, 815014, 815013, 815012, 815011, 815010, 815009, 815008, 815007, 815006, 815005, 815004, 815003, 814998, 809004, 809003, 808377, 10288, 863371, 863370, 815078, 815077, 815076, 815075, 815073, 815072, 815069, 857089, 857088, 857087, 857086, 857084, 857078, 857068, 857062, 857056, 857055, 857051, 857047, 857046, 857045, 857043, 857042, 857036, 857034, 857030, 855714, 850604, 846028, 846027, 816186, 816184, 816183, 816182, 816181, 816180, 816179, 816178, 816177, 816175, 816173, 816172, 816171, 816170, 816169, 816168, 816167, 816166, 816165, 816164, 816163, 816162, 816161, 816160, 816159, 816158, 816157, 816156, 816155, 816154, 816153, 816152, 816151, 816150, 816149, 816148, 816147, 816146, 816145, 816144, 816143, 816142, 816141, 816140, 816139, 816138, 816137, 816136, 816135, 816134, 816133, 816132, 816131, 816129, 816128, 816127, 816126, 816125, 816124, 816123, 816122, 816121, 816120, 816119, 816118, 816117, 816116, 816115, 816114, 816113, 816112, 816111, 816110, 816109, 816108, 816107, 816106, 816105, 816104, 816103, 816102, 816101, 816100, 816099, 816098, 816097, 816096, 816095, 816094, 816093, 816092, 816091, 816090, 816089, 816088, 816087, 816086, 816085, 816084, 816083, 816082, 816081, 816080, 816079, 816078, 816077, 816076, 816075, 816074, 816073, 816072, 816071, 816070, 816069, 816068, 816067, 816066, 816065, 816064, 816063, 816062, 816061, 816060, 816059, 816058, 816057, 816056, 816055, 816054, 816053, 816052, 816051, 816050, 816049, 816048, 816047, 816046, 816045, 816044, 816043, 816042, 816041, 809012, 809011, 804730, 10297, 1260698, 863410, 863409, 863408, 863407, 862607, 857152, 857151, 857147, 857141, 857138, 857137, 857135, 857134, 857133, 857132, 857131, 857130, 857129, 857128, 857123, 857122, 857115, 857109, 857108, 857105, 857102, 855717, 855716, 854812, 854811, 850666, 850665, 850664, 850663, 850662, 850661, 850660, 850659, 850658, 850657, 850656, 850655, 850654, 850653, 850651, 850650, 850648, 850647, 850646, 850645, 850644, 850643, 850642, 850641, 850640, 850637, 850633, 850631, 850627, 850626, 850625, 850624, 849946, 849945, 849944, 849943, 847185, 847184, 847183, 847182, 846033, 846032, 846031, 817285, 817276, 817274, 817270, 817269, 817262, 817261, 817260, 817259, 817256, 817254, 817253, 817252, 817245, 817244, 817242, 817241, 817240, 817239, 817238, 817237, 817236, 817235, 817234, 817233, 817232, 817231, 817230, 817229, 817228, 817227, 817226, 817225, 817224, 817223, 817222, 817221, 817220, 817219, 817218, 817217, 817216, 817215, 817214, 817213, 817212, 817211, 817210, 817209, 817208, 817207, 817206, 817205, 817204, 817203, 817202, 817201, 817199, 817198, 817197, 817196, 817195, 817194, 817193, 817192, 817191, 817190, 817189, 817188, 817187, 817186, 817185, 817184, 817183, 817182, 817181, 817180, 817176, 817175, 817174, 817173, 817172, 817171, 817170, 817169, 817168, 817167, 817166, 817165, 817164, 817163, 817162, 817161, 817160, 817159, 817158, 817157, 817156, 817155, 817154, 817153, 817152, 817151, 817150, 817149, 817148, 817147, 817146, 817145, 817144, 817143, 817142, 817141, 817140, 817139, 817138, 817137, 817136, 817135, 817134, 817133, 817132, 817131, 817130, 817129, 817128, 817127, 817126, 817125, 817124, 817123, 817122, 817121, 817120, 817119, 817118, 817117, 817116, 817115, 817114, 817113, 817112, 817111, 817110, 817109, 817108, 817107, 817106, 817105, 817104, 817103, 817102, 817101, 817100, 817099, 817098, 817097, 817096, 817095, 817094, 817093, 817092, 817091, 817090, 817089, 817088, 817087, 817086, 817085, 817084, 817083, 817082, 817081, 817080, 817079, 809032, 809031, 809030, 809029, 809028, 809027, 809026, 809025, 809024, 809023, 808383, 808382, 804792, 804791, 804790, 804789, 804788, 804787, 804786, 804785, 804784, 804783, 804782, 804781, 10303, 866127, 863415, 863414, 863413, 863412, 863411, 863400, 862606, 857170, 857168, 857124, 857120, 857119, 857107, 857104, 857103, 857101, 855715, 854815, 854814, 853875, 850674, 850673, 850672, 850671, 850670, 850669, 850668, 850667, 850652, 850649, 850629, 849947, 847190, 847189, 847188, 847187, 847186, 817393, 817392, 817391, 817390, 817389, 817388, 817387, 817386, 817385, 817384, 817383, 817382, 817381, 817380, 817379, 817378, 817377, 817376, 817375, 817374, 817373, 817372, 817371, 817370, 817369, 817368, 817367, 817366, 817365, 817364, 817363, 817362, 817361, 817360, 817359, 817358, 817357, 817356, 817355, 817354, 817353, 817352, 817351, 817350, 817349, 817348, 817347, 817346, 817345, 817344, 817343, 817342, 817341, 817340, 817339, 817338, 817337, 817336, 817335, 817334, 817333, 817332, 817331, 817330, 817327, 817326, 817325, 817323, 817322, 817321, 817320, 817319, 817318, 817317, 817316, 817315, 817314, 817313, 817312, 817311, 817310, 817309, 817308, 817307, 817306, 817305, 817299, 817298, 817297, 817296, 817295, 817290, 817289, 817288, 817287, 817286, 817284, 817283, 817282, 817281, 817280, 817279, 817278, 817277, 817275, 817273, 817272, 817271, 817268, 817267, 817266, 817265, 817264, 817263, 817258, 817257, 817255, 804801, 804800, 804799, 804798, 804797, 804796, 804795, 804794, 804793, 10304, 1260940, 1260939, 1260699, 866129, 866128, 863418, 863417, 863416, 857195, 857193, 857192, 857191, 857181, 857180, 857179, 857178, 857177, 857176, 857175, 857174, 857172, 857171, 857169, 857164, 857112, 855720, 854817, 853876, 850679, 850678, 850677, 850676, 850675, 849949, 849948, 847193, 847192, 847191, 817496, 817495, 817493, 817492, 817491, 817490, 817489, 817488, 817484, 817483, 817479, 817478, 817477, 817476, 817475, 817474, 817473, 817472, 817471, 817469, 817468, 817467, 817466, 817465, 817464, 817463, 817460, 817459, 817458, 817457, 817456, 817455, 817447, 817446, 817445, 817444, 817443, 817440, 817436, 817435, 817429, 817428, 817427, 817426, 817425, 817424, 817423, 817422, 817421, 817420, 817419, 817418, 817417, 817416, 817412, 817411, 817410, 817409, 817402, 817401, 817400, 817399, 817398, 817397, 817396, 817395, 809033, 808385, 808384, 808014, 804805, 804804, 804803, 804802, 10305, 1260702, 857241, 857240, 857239, 857238, 857234, 857233, 857226, 857218, 857216, 857214, 855722, 855721, 817701, 817698, 817695, 817681, 817680, 817672, 817671, 817670, 817669, 817668, 809044, 809043, 10309, 1260863, 862616, 862615, 857328, 857318, 857317, 857308, 857307, 857296, 854829, 818034, 818033, 818032, 818031, 818029, 818028, 818027, 818026, 818022, 818021, 818020, 818014, 818010, 818009, 818008, 818002, 804844, 10315, 1260358, 863819, 863818, 863817, 863816, 863815, 863814, 863813, 863812, 863811, 863810, 862652, 857759, 857755, 857754, 857744, 857742, 857739, 857738, 857733, 857732, 857720, 857715, 857710, 857697, 854918, 851105, 851104, 851102, 851101, 851100, 851099, 851098, 851097, 851095, 847594, 847593, 847592, 847591, 847590, 847589, 847588, 847587, 847586, 847585, 846123, 846122, 846121, 846120, 821119, 821115, 821114, 821111, 821110, 821109, 821108, 821107, 821106, 821105, 821100, 821099, 821098, 821097, 821096, 821095, 821094, 821088, 821087, 821086, 821085, 821083, 821080, 821079, 821078, 821077, 821076, 821075, 821074, 821066, 821065, 821064, 821063, 821062, 821061, 821060, 821059, 821058, 821057, 821056, 821055, 821054, 821053, 821052, 821051, 821050, 821049, 821048, 821047, 821046, 821045, 821044, 821043, 821042, 821041, 821040, 821039, 821038, 821037, 821036, 821035, 821034, 821033, 821032, 821031, 821030, 821029, 821028, 821027, 821026, 821025, 821024, 821023, 821022, 821021, 821020, 821019, 821018, 821017, 821016, 821011, 821010, 821009, 821008, 821007, 821006, 821005, 821004, 821003, 821002, 821001, 821000, 820999, 820998, 820997, 820996, 820995, 820994, 820993, 820992, 820991, 820990, 820989, 820988, 820987, 820986, 820985, 820984, 820983, 820982, 820981, 820980, 820979, 820978, 820977, 820976, 820975, 820974, 820973, 820972, 820971, 820965, 820964, 820963, 820962, 820961, 820960, 820959, 820958, 820957, 820956, 820955, 820954, 820953, 809111, 809110, 809109, 808442, 808054, 805243, 805242, 805241, 805240, 805239, 805238, 805237, 805236, 805235, 805234, 805233, 805232, 805231, 805230, 805229, 805228, 10342, 15679, 1260960, 857829, 821494, 10350, 1260580, 1260370, 857882, 857835, 857834, 857833, 821524, 821523, 821508, 10351, 857886, 857844, 857841, 857840, 857839, 821545, 821544, 821543, 821541, 821540, 821535, 821534, 804323, 821525, 821526, 821531, 821532, 821533, 10352, 857847, 821573, 821554, 821546, 821547, 821551, 10353, 1260732, 1260371, 866136, 863923, 863922, 863921, 863920, 863919, 863918, 863917, 863916, 863915, 863914, 863913, 863912, 857901, 857865, 857857, 857856, 857854, 857815, 855745, 854935, 850006, 850005, 850004, 850003, 850002, 850001, 847699, 847698, 847697, 847696, 847695, 847694, 847693, 847692, 847691, 847690, 847689, 847688, 821623, 821619, 821611, 809132, 808465, 10356, 866137, 863925, 863924, 857869, 857868, 857867, 857866, 857864, 857863, 857862, 857861, 857860, 857859, 857858, 857836, 847701, 847700, 821651, 821646, 821645, 821644, 821638, 821637, 821636, 821635, 821634, 821633, 821632, 821631, 821630, 821629, 821628, 821627, 821626, 821625, 821624, 10357, 857880, 857877, 857876, 857875, 857874, 857872, 821678, 821677, 821676, 821675, 821674, 821673, 821672, 821671, 821670, 821669, 821668, 821667, 821666, 10358, 857879, 857878, 857873, 857846, 857842, 857837, 821697, 821695, 821687, 821686, 821685, 821682, 10359, 857883, 857881, 821716, 821715, 821714, 821707, 821706, 821705, 10360, 857887, 857885, 857884, 821743, 821735, 821734, 821729, 10361, 857952, 857909, 857908, 857895, 821793, 821792, 821791, 821790, 821789, 821782, 821781, 821780, 821777, 10363, 857951, 857923, 857919, 857918, 857913, 821835, 821834, 821832, 821831, 821830, 821829, 821828, 821822, 821821, 821820, 821819, 821818, 821817, 821816, 821815, 821807, 821806, 821805, 821800, 821799, 805351, 10364, 857920, 857955, 857945, 857943, 857942, 857910, 821906, 821901, 821900, 821899, 821898, 821897, 821896, 821895, 821894, 821890, 10368, 857949, 857946, 857905, 857902, 857898, 854945, 821911, 821907, 808474, 10369, 1260962, 1260961, 857957, 857956, 857954, 857953, 857950, 857948, 857947, 857904, 857892, 821944, 821943, 821942, 821941, 821940, 821939, 821938, 821937, 821936, 821935, 821934, 821933, 821932, 821931, 821930, 821929, 821928, 821927, 821926, 821923, 821922, 821914, 10370, 15669, 858003, 857967, 857964, 854952, 821993, 821992, 821991, 821990, 821986, 821968, 821967, 808485, 808484, 10372, 15465, 15469, 15673, 15608, 15606, 15627, 15581, 15588, 15694, 15674, 15631, 15644, 15504, 15671, 15649, 15615, 15611, 15580, 15576, 15572, 15523, 15486, 15451, 15661, 15641, 15555, 15550, 15519, 15475, 15620, 15617, 15571, 15583, 15513, 15597, 15483, 15505, 15676, 15652, 15579, 15449, 15511, 15614, 15636, 15476, 15485, 15487, 15518, 15563\n",
       "  community   TargetNodes_ID TargetNodes_Name\n",
       "1 Module15900 9759           Bin39           "
      ]
     },
     "metadata": {},
     "output_type": "display_data"
    }
   ],
   "source": [
    "chr12Mod[1,]"
   ]
  },
  {
   "cell_type": "markdown",
   "metadata": {},
   "source": [
    "<h2 id='8.3'> Step3: build a function to get relationships during nodes in each community(module)</h2>\n",
    "We build a function to get relationships during nodes in each community(module). The input argument is the result we got at the step2. Results includes two nodes' id, labels, properties and relationship id, type, and properties."
   ]
  },
  {
   "cell_type": "code",
   "execution_count": 46,
   "metadata": {},
   "outputs": [
    {
     "name": "stderr",
     "output_type": "stream",
     "text": [
      "Your code contains a unicode char which cannot be displayed in your\n",
      "current locale and R will silently convert it to an escaped form when the\n",
      "R kernel executes this code. This can lead to subtle errors if you use\n",
      "such chars to do comparisons. For more information, please see\n",
      "https://github.com/IRkernel/repr/wiki/Problems-with-unicode-on-windows"
     ]
    }
   ],
   "source": [
    "#----------------建一个函数来获取每一个模块节点之间的关系--------------------------------------\n",
    "#\n",
    "#The argument is result we get  from step2\n",
    "#module就是我们前面获取的结果\n",
    "Module_Relationship = function(Module){\n",
    "  \n",
    "    #Module_Relationship as an object for save our results\n",
    "    #Module_Relationship作为list来存储数据\n",
    "  Module_Relationship = list()\n",
    "    \n",
    "    #To get relationships during nodes in the same modules\n",
    "    #获取节点之间的关系，返回的结果尽量不要去改变。\n",
    "    #The results include nodes' id ,label and properties, and relationships' type, id and properties.\n",
    "    #返回的结果包括节点的id号，label，还有就是节点的属性；以及关系的id号和关系的类型、关系的属性\n",
    "  for( i in 1:nrow(Module) ){\n",
    "      #for the vector about all nodes id in the same modules\n",
    "    Module_NodeID = unlist(Module[[1]][[i]])\n",
    "    query = \"\n",
    "            // the first we should get all node in the same modules, result is a list\n",
    "            MATCH (n)\n",
    "            where id(n) in {Module_NodeID}\n",
    "            with collect( id(n) ) AS Module_Node_ID\n",
    "        \n",
    "        // get relationships \n",
    "        MATCH (A)-[r]->(B)\n",
    "        where id(A) in Module_Node_ID and id(B) in Module_Node_ID\n",
    "        \n",
    "        //at here, properties() function for all properties at an node or a relationship    \n",
    "        RETURN id(A) AS fromNodeID, \n",
    "              labels(A) AS fromNodeLabel, \n",
    "              \n",
    "              id(B) AS toNodeID,\n",
    "              labels(B) AS toNodeLabel,\n",
    "              \n",
    "              id(r) AS Relationship_ID,\n",
    "              type(r) AS Relationship,\n",
    "          \n",
    "              properties(A) AS AProperties,\n",
    "              properties(B) AS BProperties,\n",
    "              properties(r) AS RProperties\n",
    "        \"\n",
    "     #run the query for results   \n",
    "    #Module_Relationship[[i]]= cypher(graph, query, Module_NodeID = Module_NodeID )\n",
    "    ABRelationship= cypher(graph, query, Module_NodeID = Module_NodeID )\n",
    "    \n",
    "    #Now, we split all properties of nodes using unnest_nodes() function in {neo4r}\n",
    "      #这里解析属性使用的neo4r的unnest_nodes()来拆分\n",
    "    #解析节点A的属性\n",
    "    Ap = ABRelationship[\"AProperties\"]\n",
    "    names(Ap)[1] = \"properties\"\n",
    "    App =  neo4r::unnest_nodes(Ap, what = \"properties\")\n",
    "    names(App) = paste0(\"fromNode_\", names(App) )\n",
    "    \n",
    "    #解析节点B的属性\n",
    "    Bp = ABRelationship[\"BProperties\"]\n",
    "    names(Bp)[1] = \"properties\"\n",
    "    Bpp =  neo4r::unnest_nodes(Bp, what = \"properties\")\n",
    "    names(Bpp) = paste0(\"toNode_\", names(Bpp) )\n",
    "    \n",
    "    \n",
    "    #split properties of relationships,we need make the same formats. If not, there show some wrong and we can not fixed.\n",
    "    #解析关系的属性\n",
    "    #这里需要说明的是数据框的列名称和列的位置不能发生变化，否则容易出错，在解析完关系后我们将它的列名还原过来\n",
    "    Rp = ABRelationship[,c(\"Relationship_ID\",\"Relationship\",\"fromNodeID\",\"toNodeID\",\"RProperties\")]\n",
    "    names(Rp) = c(\"id\", \"type\", \"stratNode\", \"endNode\", \"properties\")\n",
    "    Rpp =  neo4r::unnest_relationships(Rp)\n",
    "    names(Rpp)[1:4] = c(\"Relationship_ID\",\"Relationship\",\"fromNodeID\",\"toNodeID\")\n",
    "    names(Rpp)[c(-(1:4))] = paste0(\"R_\", names(Rpp)[c(-(1:4))] )\n",
    "    \n",
    "    #union all data\n",
    "    #最后，合并每一列\n",
    "    alldataRelationship = cbind(Rpp,App,Bpp, ABRelationship[,c(\"fromNodeLabel\",\"toNodeLabel\")])\n",
    "    ColNames = c(\"fromNodeID\",\"fromNodeLabel\",\"toNodeID\",\"toNodeLabel\",\"Relationship_ID\",\"Relationship\",\n",
    "                 names(App),\n",
    "                 names(Bpp),\n",
    "                 names(Rpp)[c(-(1:4))])\n",
    "    Module_Relationship[[i]] = alldataRelationship[,ColNames]\n",
    "  }\n",
    "  \n",
    "  names(Module_Relationship) = Module$community\n",
    "  \n",
    "  return(Module_Relationship)\n",
    "}\n"
   ]
  },
  {
   "cell_type": "markdown",
   "metadata": {},
   "source": [
    "<h2 id='8.4'> step4: get relationships during nodes in each community(module)</h2>\n",
    "Now, we get relationships during nodes in each community(module), result is a list including data.frame data that have nodeID and their relationship."
   ]
  },
  {
   "cell_type": "code",
   "execution_count": 58,
   "metadata": {},
   "outputs": [
    {
     "name": "stderr",
     "output_type": "stream",
     "text": [
      "Your code contains a unicode char which cannot be displayed in your\n",
      "current locale and R will silently convert it to an escaped form when the\n",
      "R kernel executes this code. This can lead to subtle errors if you use\n",
      "such chars to do comparisons. For more information, please see\n",
      "https://github.com/IRkernel/repr/wiki/Problems-with-unicode-on-windowsWarning message:\n",
      "\"The `.drop` argument of `unnest()` is deprecated as of tidyr 1.0.0.\n",
      "All list-columns are now preserved.\n",
      "\u001b[90mThis warning is displayed once per session.\u001b[39m\n",
      "\u001b[90mCall `lifecycle::last_warnings()` to see where this warning was generated.\u001b[39m\""
     ]
    }
   ],
   "source": [
    "#---------获取Module里的node的关系-------------------------------------------------------------\n",
    "Module_Relationships <- Module_Relationship(chr12Mod)"
   ]
  },
  {
   "cell_type": "markdown",
   "metadata": {},
   "source": [
    "Let's us see what we get.**It includes all properties about nodes and relationships.**"
   ]
  },
  {
   "cell_type": "code",
   "execution_count": 59,
   "metadata": {},
   "outputs": [
    {
     "data": {
      "text/html": [
       "<table>\n",
       "<caption>A data.frame: 6 × 26</caption>\n",
       "<thead>\n",
       "\t<tr><th scope=col>fromNodeID</th><th scope=col>fromNodeLabel</th><th scope=col>toNodeID</th><th scope=col>toNodeLabel</th><th scope=col>Relationship_ID</th><th scope=col>Relationship</th><th scope=col>fromNode_Start</th><th scope=col>fromNode_End</th><th scope=col>fromNode_community</th><th scope=col>fromNode_Details</th><th scope=col>...</th><th scope=col>R_PubMedID</th><th scope=col>R_CellType</th><th scope=col>R_SourceDB</th><th scope=col>R_Method</th><th scope=col>R_value</th><th scope=col>R_GEO</th><th scope=col>R_Start</th><th scope=col>R_OtherGEO</th><th scope=col>R_End</th><th scope=col>R_Information</th></tr>\n",
       "\t<tr><th scope=col>&lt;int&gt;</th><th scope=col>&lt;chr&gt;</th><th scope=col>&lt;int&gt;</th><th scope=col>&lt;chr&gt;</th><th scope=col>&lt;int&gt;</th><th scope=col>&lt;chr&gt;</th><th scope=col>&lt;chr&gt;</th><th scope=col>&lt;chr&gt;</th><th scope=col>&lt;int&gt;</th><th scope=col>&lt;chr&gt;</th><th scope=col>...</th><th scope=col>&lt;chr&gt;</th><th scope=col>&lt;chr&gt;</th><th scope=col>&lt;chr&gt;</th><th scope=col>&lt;chr&gt;</th><th scope=col>&lt;lgl&gt;</th><th scope=col>&lt;chr&gt;</th><th scope=col>&lt;chr&gt;</th><th scope=col>&lt;chr&gt;</th><th scope=col>&lt;chr&gt;</th><th scope=col>&lt;chr&gt;</th></tr>\n",
       "</thead>\n",
       "<tbody>\n",
       "\t<tr><td>834688</td><td>chr12_Range</td><td>834161</td><td>chr12_Range</td><td>4762133</td><td>Interaction</td><td>5387590</td><td>5399902</td><td>15900</td><td>NA</td><td>...</td><td>24141950</td><td>IMR90</td><td>CistromeDB</td><td>Hi-C</td><td>NA</td><td>NA</td><td>NA</td><td>NA</td><td>NA</td><td>NA</td></tr>\n",
       "\t<tr><td>834678</td><td>chr12_Range</td><td>860049</td><td>chr12_Range</td><td>4762119</td><td>Interaction</td><td>5382566</td><td>5399902</td><td>15900</td><td>NA</td><td>...</td><td>24141950</td><td>IMR90</td><td>CistromeDB</td><td>Hi-C</td><td>NA</td><td>NA</td><td>NA</td><td>NA</td><td>NA</td><td>NA</td></tr>\n",
       "\t<tr><td>834677</td><td>chr12_Range</td><td>834618</td><td>chr12_Range</td><td>4762117</td><td>Interaction</td><td>5382566</td><td>5387589</td><td>15900</td><td>NA</td><td>...</td><td>24141950</td><td>IMR90</td><td>CistromeDB</td><td>Hi-C</td><td>NA</td><td>NA</td><td>NA</td><td>NA</td><td>NA</td><td>NA</td></tr>\n",
       "\t<tr><td>834677</td><td>chr12_Range</td><td>834389</td><td>chr12_Range</td><td>4762116</td><td>Interaction</td><td>5382566</td><td>5387589</td><td>15900</td><td>NA</td><td>...</td><td>24141950</td><td>IMR90</td><td>CistromeDB</td><td>Hi-C</td><td>NA</td><td>NA</td><td>NA</td><td>NA</td><td>NA</td><td>NA</td></tr>\n",
       "\t<tr><td>834662</td><td>chr12_Range</td><td>834115</td><td>chr12_Range</td><td>4762098</td><td>Interaction</td><td>5376790</td><td>5387589</td><td>15900</td><td>NA</td><td>...</td><td>24141950</td><td>IMR90</td><td>CistromeDB</td><td>Hi-C</td><td>NA</td><td>NA</td><td>NA</td><td>NA</td><td>NA</td><td>NA</td></tr>\n",
       "\t<tr><td>834662</td><td>chr12_Range</td><td>833788</td><td>chr12_Range</td><td>4762097</td><td>Interaction</td><td>5376790</td><td>5387589</td><td>15900</td><td>NA</td><td>...</td><td>24141950</td><td>IMR90</td><td>CistromeDB</td><td>Hi-C</td><td>NA</td><td>NA</td><td>NA</td><td>NA</td><td>NA</td><td>NA</td></tr>\n",
       "</tbody>\n",
       "</table>\n"
      ],
      "text/latex": [
       "A data.frame: 6 × 26\n",
       "\\begin{tabular}{r|llllllllllllllllllllllllll}\n",
       " fromNodeID & fromNodeLabel & toNodeID & toNodeLabel & Relationship\\_ID & Relationship & fromNode\\_Start & fromNode\\_End & fromNode\\_community & fromNode\\_Details & fromNode\\_Name & toNode\\_Start & toNode\\_End & toNode\\_community & toNode\\_Details & toNode\\_Name & R\\_PubMedID & R\\_CellType & R\\_SourceDB & R\\_Method & R\\_value & R\\_GEO & R\\_Start & R\\_OtherGEO & R\\_End & R\\_Information\\\\\n",
       " <int> & <chr> & <int> & <chr> & <int> & <chr> & <chr> & <chr> & <int> & <chr> & <chr> & <chr> & <chr> & <int> & <chr> & <chr> & <chr> & <chr> & <chr> & <chr> & <lgl> & <chr> & <chr> & <chr> & <chr> & <chr>\\\\\n",
       "\\hline\n",
       "\t 834688 & chr12\\_Range & 834161 & chr12\\_Range & 4762133 & Interaction & 5387590 & 5399902 & 15900 & NA & NA & 5298457 & 5302447 & 15900 & NA & NA & 24141950 & IMR90 & CistromeDB & Hi-C & NA & NA & NA & NA & NA & NA\\\\\n",
       "\t 834678 & chr12\\_Range & 860049 & chr12\\_Range & 4762119 & Interaction & 5382566 & 5399902 & 15900 & NA & NA & 5248002 & 5260657 & 15900 & NA & NA & 24141950 & IMR90 & CistromeDB & Hi-C & NA & NA & NA & NA & NA & NA\\\\\n",
       "\t 834677 & chr12\\_Range & 834618 & chr12\\_Range & 4762117 & Interaction & 5382566 & 5387589 & 15900 & NA & NA & 5370303 & 5376789 & 15900 & NA & NA & 24141950 & IMR90 & CistromeDB & Hi-C & NA & NA & NA & NA & NA & NA\\\\\n",
       "\t 834677 & chr12\\_Range & 834389 & chr12\\_Range & 4762116 & Interaction & 5382566 & 5387589 & 15900 & NA & NA & 5337153 & 5344314 & 15900 & NA & NA & 24141950 & IMR90 & CistromeDB & Hi-C & NA & NA & NA & NA & NA & NA\\\\\n",
       "\t 834662 & chr12\\_Range & 834115 & chr12\\_Range & 4762098 & Interaction & 5376790 & 5387589 & 15900 & NA & NA & 5292209 & 5298456 & 15900 & NA & NA & 24141950 & IMR90 & CistromeDB & Hi-C & NA & NA & NA & NA & NA & NA\\\\\n",
       "\t 834662 & chr12\\_Range & 833788 & chr12\\_Range & 4762097 & Interaction & 5376790 & 5387589 & 15900 & NA & NA & 5238181 & 5244322 & 15900 & NA & NA & 24141950 & IMR90 & CistromeDB & Hi-C & NA & NA & NA & NA & NA & NA\\\\\n",
       "\\end{tabular}\n"
      ],
      "text/markdown": [
       "\n",
       "A data.frame: 6 × 26\n",
       "\n",
       "| fromNodeID &lt;int&gt; | fromNodeLabel &lt;chr&gt; | toNodeID &lt;int&gt; | toNodeLabel &lt;chr&gt; | Relationship_ID &lt;int&gt; | Relationship &lt;chr&gt; | fromNode_Start &lt;chr&gt; | fromNode_End &lt;chr&gt; | fromNode_community &lt;int&gt; | fromNode_Details &lt;chr&gt; | ... ... | R_PubMedID &lt;chr&gt; | R_CellType &lt;chr&gt; | R_SourceDB &lt;chr&gt; | R_Method &lt;chr&gt; | R_value &lt;lgl&gt; | R_GEO &lt;chr&gt; | R_Start &lt;chr&gt; | R_OtherGEO &lt;chr&gt; | R_End &lt;chr&gt; | R_Information &lt;chr&gt; |\n",
       "|---|---|---|---|---|---|---|---|---|---|---|---|---|---|---|---|---|---|---|---|---|\n",
       "| 834688 | chr12_Range | 834161 | chr12_Range | 4762133 | Interaction | 5387590 | 5399902 | 15900 | NA | ... | 24141950 | IMR90 | CistromeDB | Hi-C | NA | NA | NA | NA | NA | NA |\n",
       "| 834678 | chr12_Range | 860049 | chr12_Range | 4762119 | Interaction | 5382566 | 5399902 | 15900 | NA | ... | 24141950 | IMR90 | CistromeDB | Hi-C | NA | NA | NA | NA | NA | NA |\n",
       "| 834677 | chr12_Range | 834618 | chr12_Range | 4762117 | Interaction | 5382566 | 5387589 | 15900 | NA | ... | 24141950 | IMR90 | CistromeDB | Hi-C | NA | NA | NA | NA | NA | NA |\n",
       "| 834677 | chr12_Range | 834389 | chr12_Range | 4762116 | Interaction | 5382566 | 5387589 | 15900 | NA | ... | 24141950 | IMR90 | CistromeDB | Hi-C | NA | NA | NA | NA | NA | NA |\n",
       "| 834662 | chr12_Range | 834115 | chr12_Range | 4762098 | Interaction | 5376790 | 5387589 | 15900 | NA | ... | 24141950 | IMR90 | CistromeDB | Hi-C | NA | NA | NA | NA | NA | NA |\n",
       "| 834662 | chr12_Range | 833788 | chr12_Range | 4762097 | Interaction | 5376790 | 5387589 | 15900 | NA | ... | 24141950 | IMR90 | CistromeDB | Hi-C | NA | NA | NA | NA | NA | NA |\n",
       "\n"
      ],
      "text/plain": [
       "  fromNodeID fromNodeLabel toNodeID toNodeLabel Relationship_ID Relationship\n",
       "1 834688     chr12_Range   834161   chr12_Range 4762133         Interaction \n",
       "2 834678     chr12_Range   860049   chr12_Range 4762119         Interaction \n",
       "3 834677     chr12_Range   834618   chr12_Range 4762117         Interaction \n",
       "4 834677     chr12_Range   834389   chr12_Range 4762116         Interaction \n",
       "5 834662     chr12_Range   834115   chr12_Range 4762098         Interaction \n",
       "6 834662     chr12_Range   833788   chr12_Range 4762097         Interaction \n",
       "  fromNode_Start fromNode_End fromNode_community fromNode_Details ...\n",
       "1 5387590        5399902      15900              NA               ...\n",
       "2 5382566        5399902      15900              NA               ...\n",
       "3 5382566        5387589      15900              NA               ...\n",
       "4 5382566        5387589      15900              NA               ...\n",
       "5 5376790        5387589      15900              NA               ...\n",
       "6 5376790        5387589      15900              NA               ...\n",
       "  R_PubMedID R_CellType R_SourceDB R_Method R_value R_GEO R_Start R_OtherGEO\n",
       "1 24141950   IMR90      CistromeDB Hi-C     NA      NA    NA      NA        \n",
       "2 24141950   IMR90      CistromeDB Hi-C     NA      NA    NA      NA        \n",
       "3 24141950   IMR90      CistromeDB Hi-C     NA      NA    NA      NA        \n",
       "4 24141950   IMR90      CistromeDB Hi-C     NA      NA    NA      NA        \n",
       "5 24141950   IMR90      CistromeDB Hi-C     NA      NA    NA      NA        \n",
       "6 24141950   IMR90      CistromeDB Hi-C     NA      NA    NA      NA        \n",
       "  R_End R_Information\n",
       "1 NA    NA           \n",
       "2 NA    NA           \n",
       "3 NA    NA           \n",
       "4 NA    NA           \n",
       "5 NA    NA           \n",
       "6 NA    NA           "
      ]
     },
     "metadata": {},
     "output_type": "display_data"
    }
   ],
   "source": [
    "head(Module_Relationships[[1]])"
   ]
  },
  {
   "cell_type": "markdown",
   "metadata": {},
   "source": [
    "<h1 id='9'>Select the modules that include NANOG AND CTCF AND EP300 AND POLR2A AND YY1 AND cohesin (RAD21, SMC3, OR STAG1) AND mediator (MED1 or MED12).</h1>"
   ]
  },
  {
   "cell_type": "markdown",
   "metadata": {},
   "source": [
    "<h2 id='9.1'> Step1: Get nodes in all gene names in chromosomes,TF and LncRNA.</h2>\n",
    "For this term, its include TF genes, so we expand nodes of TF and LncRNA labels as following codes:\n"
   ]
  },
  {
   "cell_type": "code",
   "execution_count": 60,
   "metadata": {},
   "outputs": [],
   "source": [
    "#-----------TF----------------------\n",
    "query = \"MATCH (n:TF)\n",
    "        RETURN n.Name AS geneName, id(n) AS NodeID, labels(n) AS NodeLabel, n.Name AS NodeNames\"\n",
    "TF = cypher(graph, query)\n",
    "#-----------LncRNA----------------\n",
    "query = \"MATCH (n:LncRNA)\n",
    "        RETURN n.Name AS geneName, id(n) AS NodeID, labels(n) AS NodeLabel, n.Name AS NodeNames\"\n",
    "LncRNA = cypher(graph, query)\n",
    "#------------AllgeneName_TF_LncRNA--------------------------------------\n",
    "AllgeneName_TF_LncRNA = rbind(TF, LncRNA, AllgeneName)"
   ]
  },
  {
   "cell_type": "markdown",
   "metadata": {},
   "source": [
    "So `AllgeneName_TF_LncRNA` includes all genes in all chromosomes, all transcription factors(TFs) and all LncRNA in GREG."
   ]
  },
  {
   "cell_type": "code",
   "execution_count": 61,
   "metadata": {},
   "outputs": [
    {
     "data": {
      "text/html": [
       "<table>\n",
       "<caption>A data.frame: 6 × 4</caption>\n",
       "<thead>\n",
       "\t<tr><th scope=col>geneName</th><th scope=col>NodeID</th><th scope=col>NodeLabel</th><th scope=col>NodeNames</th></tr>\n",
       "\t<tr><th scope=col>&lt;chr&gt;</th><th scope=col>&lt;int&gt;</th><th scope=col>&lt;chr&gt;</th><th scope=col>&lt;chr&gt;</th></tr>\n",
       "</thead>\n",
       "<tbody>\n",
       "\t<tr><td>AFF4  </td><td>15448</td><td>TF</td><td>AFF4  </td></tr>\n",
       "\t<tr><td>AHR   </td><td>15449</td><td>TF</td><td>AHR   </td></tr>\n",
       "\t<tr><td>ARID3A</td><td>15450</td><td>TF</td><td>ARID3A</td></tr>\n",
       "\t<tr><td>ARNT  </td><td>15451</td><td>TF</td><td>ARNT  </td></tr>\n",
       "\t<tr><td>ARRB1 </td><td>15452</td><td>TF</td><td>ARRB1 </td></tr>\n",
       "\t<tr><td>ATF1  </td><td>15453</td><td>TF</td><td>ATF1  </td></tr>\n",
       "</tbody>\n",
       "</table>\n"
      ],
      "text/latex": [
       "A data.frame: 6 × 4\n",
       "\\begin{tabular}{r|llll}\n",
       " geneName & NodeID & NodeLabel & NodeNames\\\\\n",
       " <chr> & <int> & <chr> & <chr>\\\\\n",
       "\\hline\n",
       "\t AFF4   & 15448 & TF & AFF4  \\\\\n",
       "\t AHR    & 15449 & TF & AHR   \\\\\n",
       "\t ARID3A & 15450 & TF & ARID3A\\\\\n",
       "\t ARNT   & 15451 & TF & ARNT  \\\\\n",
       "\t ARRB1  & 15452 & TF & ARRB1 \\\\\n",
       "\t ATF1   & 15453 & TF & ATF1  \\\\\n",
       "\\end{tabular}\n"
      ],
      "text/markdown": [
       "\n",
       "A data.frame: 6 × 4\n",
       "\n",
       "| geneName &lt;chr&gt; | NodeID &lt;int&gt; | NodeLabel &lt;chr&gt; | NodeNames &lt;chr&gt; |\n",
       "|---|---|---|---|\n",
       "| AFF4   | 15448 | TF | AFF4   |\n",
       "| AHR    | 15449 | TF | AHR    |\n",
       "| ARID3A | 15450 | TF | ARID3A |\n",
       "| ARNT   | 15451 | TF | ARNT   |\n",
       "| ARRB1  | 15452 | TF | ARRB1  |\n",
       "| ATF1   | 15453 | TF | ATF1   |\n",
       "\n"
      ],
      "text/plain": [
       "  geneName NodeID NodeLabel NodeNames\n",
       "1 AFF4     15448  TF        AFF4     \n",
       "2 AHR      15449  TF        AHR      \n",
       "3 ARID3A   15450  TF        ARID3A   \n",
       "4 ARNT     15451  TF        ARNT     \n",
       "5 ARRB1    15452  TF        ARRB1    \n",
       "6 ATF1     15453  TF        ATF1     "
      ]
     },
     "metadata": {},
     "output_type": "display_data"
    }
   ],
   "source": [
    "head(AllgeneName_TF_LncRNA)"
   ]
  },
  {
   "cell_type": "code",
   "execution_count": 62,
   "metadata": {},
   "outputs": [
    {
     "data": {
      "text/html": [
       "<ol class=list-inline>\n",
       "\t<li>67714</li>\n",
       "\t<li>4</li>\n",
       "</ol>\n"
      ],
      "text/latex": [
       "\\begin{enumerate*}\n",
       "\\item 67714\n",
       "\\item 4\n",
       "\\end{enumerate*}\n"
      ],
      "text/markdown": [
       "1. 67714\n",
       "2. 4\n",
       "\n",
       "\n"
      ],
      "text/plain": [
       "[1] 67714     4"
      ]
     },
     "metadata": {},
     "output_type": "display_data"
    }
   ],
   "source": [
    "dim(AllgeneName_TF_LncRNA)"
   ]
  },
  {
   "cell_type": "markdown",
   "metadata": {},
   "source": [
    "<h2 id='9.2'> Step2: A vector about out genes.</h2>"
   ]
  },
  {
   "cell_type": "code",
   "execution_count": 63,
   "metadata": {},
   "outputs": [],
   "source": [
    "#----------Find the gene nodes------------------------------------\n",
    "gene <- c('NANOG', 'CTCF', 'EP300', 'POLR2A', 'YY1', 'RAD21', 'SMC3', 'STAG1', 'MED1', 'MED12')"
   ]
  },
  {
   "cell_type": "markdown",
   "metadata": {},
   "source": [
    "<h2 id='9.3'> Step3: Create a function `geneMatchIndex` for find out those nodes that genes we want.</h2>"
   ]
  },
  {
   "cell_type": "markdown",
   "metadata": {},
   "source": [
    "Here we create a function for match those genes by full match or fuzzy match. Full match means your input is full name of genes, that you only get this nodes that gene names is your input.  \n",
    "\n",
    "This is as defaults. please set argument `FullMatch = 0` If you want use fuzzy match for those gene names contain strings of your input. \n",
    "\n",
    "The argument `by` must one of `\"geneName\"`,  `\"NodeID\"` ,   `\"NodeLabel\"` and `\"NodeNames\"`. It means the type of your input data.\n",
    "\n",
    "Result is a list includes a data frame of `TargetNodes` about genes and a vector `NoGeneIndex` about those genes not in GREG. \n"
   ]
  },
  {
   "cell_type": "code",
   "execution_count": 64,
   "metadata": {},
   "outputs": [
    {
     "name": "stderr",
     "output_type": "stream",
     "text": [
      "Your code contains a unicode char which cannot be displayed in your\n",
      "current locale and R will silently convert it to an escaped form when the\n",
      "R kernel executes this code. This can lead to subtle errors if you use\n",
      "such chars to do comparisons. For more information, please see\n",
      "https://github.com/IRkernel/repr/wiki/Problems-with-unicode-on-windows"
     ]
    }
   ],
   "source": [
    "#-----------grep或者which---------------------\n",
    "#-----------------------------------------\n",
    "#a function geneMatchIndex for find out those nodes that genes we want\n",
    "#一个函数用来查找gene在所有基因数据框内的对应位置和没有匹配的基因\n",
    "\n",
    "#This is as defaults. please set argument `FullMatch = 0` If you want use fuzzy match for those gene names contain strings of your input.\n",
    "#FullMatch默认为1，也就是说默认使用的是完全匹配的方式，找到的基因名称跟输入的是一模一样的\n",
    "#FullMatch如果是其他数字，则用grep的方式查找含有该字符串的基因位置\n",
    "\n",
    "#Result is a list includes a data frame of `TargetNodes` about genes and a vector `NoGeneIndex` about those genes not in GREG.\n",
    "#返回的是两个向量的list，geneIndex是对应基因的位置；NoGeneIndex是该基因在数据库中没有找到\n",
    "\n",
    "#The argument `by` must one of `\"geneName\"`,  `\"NodeID\"` ,   `\"NodeLabel\"` and `\"NodeNames\"`. It means the type of your input data.\n",
    "#第三个参数是指匹配的是哪个类型， 是属于基因名，还是节点id，节点的label和节点名称\n",
    "#第三个参数 即 \"geneName\"  \"NodeID\"    \"NodeLabel\" \"NodeNames\"\n",
    "geneMatchIndex = function(gene, FullMatch = 1, by = \"geneName\"){\n",
    "  geneIndex = c() \n",
    "  NoGeneIndex =  c()\n",
    "  Ag = AllgeneName_TF_LncRNA[by]\n",
    "  if (FullMatch == 1){\n",
    "    #----------which-----------------\n",
    "    for (i in 1:length(gene) ) {\n",
    "      geneIndex1 = which(Ag == gene[i])\n",
    "      if (length(geneIndex1) == 0){NoGeneIndex = c(gene[i], NoGeneIndex)}\n",
    "      else{geneIndex = c(geneIndex,geneIndex1)}\n",
    "    }\n",
    "  }\n",
    "  \n",
    "  else{\n",
    "    #----------grep---------------\n",
    "    for (i in 1:length(gene) ) {\n",
    "      geneIndex1 = grep(gene[i],Ag, fixed = TRUE)\n",
    "      if (length(geneIndex1) == 0){NoGeneIndex = c(gene[i], NoGeneIndex)}\n",
    "      else{geneIndex = c(geneIndex,geneIndex1)}\n",
    "    }\n",
    "  }\n",
    "  \n",
    "  TargetNodes <- AllgeneName_TF_LncRNA[geneIndex, ]\n",
    "  geneInGREG = list(TargetNodes, NoGeneIndex)\n",
    "  names(geneInGREG) = c(\"TargetNodes\", \"NoGeneIndex\")\n",
    "  #返回匹配上的TargetNodes和没有找到基因NoGeneIndex\n",
    "  return (geneInGREG )\n",
    "}\n"
   ]
  },
  {
   "cell_type": "markdown",
   "metadata": {},
   "source": [
    "<h2 id='9.4'> Step4: Find out those nodes that genes we want.</h2>"
   ]
  },
  {
   "cell_type": "code",
   "execution_count": 65,
   "metadata": {},
   "outputs": [
    {
     "data": {
      "text/html": [
       "<table>\n",
       "<caption>A data.frame: 24 × 4</caption>\n",
       "<thead>\n",
       "\t<tr><th></th><th scope=col>geneName</th><th scope=col>NodeID</th><th scope=col>NodeLabel</th><th scope=col>NodeNames</th></tr>\n",
       "\t<tr><th></th><th scope=col>&lt;chr&gt;</th><th scope=col>&lt;int&gt;</th><th scope=col>&lt;chr&gt;</th><th scope=col>&lt;chr&gt;</th></tr>\n",
       "</thead>\n",
       "<tbody>\n",
       "\t<tr><th scope=row>257</th><td>NANOG </td><td>1288081</td><td>TF   </td><td>NANOG </td></tr>\n",
       "\t<tr><th scope=row>40007</th><td>NANOG </td><td>   9759</td><td>chr12</td><td>Bin39 </td></tr>\n",
       "\t<tr><th scope=row>40</th><td>CTCF  </td><td>  15487</td><td>TF   </td><td>CTCF  </td></tr>\n",
       "\t<tr><th scope=row>51743</th><td>CTCF  </td><td>  12342</td><td>chr16</td><td>Bin338</td></tr>\n",
       "\t<tr><th scope=row>51744</th><td>CTCF  </td><td>  12343</td><td>chr16</td><td>Bin339</td></tr>\n",
       "\t<tr><th scope=row>58</th><td>EP300 </td><td>  15505</td><td>TF   </td><td>EP300 </td></tr>\n",
       "\t<tr><th scope=row>64105</th><td>EP300 </td><td>  14330</td><td>chr22</td><td>Bin206</td></tr>\n",
       "\t<tr><th scope=row>155</th><td>POLR2A</td><td>  15602</td><td>TF   </td><td>POLR2A</td></tr>\n",
       "\t<tr><th scope=row>52860</th><td>POLR2A</td><td>  12494</td><td>chr17</td><td>Bin38 </td></tr>\n",
       "\t<tr><th scope=row>240</th><td>YY1   </td><td>  15687</td><td>TF   </td><td>YY1   </td></tr>\n",
       "\t<tr><th scope=row>46700</th><td>YY1   </td><td>  11461</td><td>chr14</td><td>Bin502</td></tr>\n",
       "\t<tr><th scope=row>167</th><td>RAD21 </td><td>  15614</td><td>TF   </td><td>RAD21 </td></tr>\n",
       "\t<tr><th scope=row>30285</th><td>RAD21 </td><td>   7542</td><td>chr8 </td><td>Bin585</td></tr>\n",
       "\t<tr><th scope=row>194</th><td>SMC3  </td><td>  15641</td><td>TF   </td><td>SMC3  </td></tr>\n",
       "\t<tr><th scope=row>35620</th><td>SMC3  </td><td>   8928</td><td>chr10</td><td>Bin553</td></tr>\n",
       "\t<tr><th scope=row>35621</th><td>SMC3  </td><td>   8929</td><td>chr10</td><td>Bin554</td></tr>\n",
       "\t<tr><th scope=row>205</th><td>STAG1 </td><td>  15652</td><td>TF   </td><td>STAG1 </td></tr>\n",
       "\t<tr><th scope=row>13536</th><td>STAG1 </td><td>   3137</td><td>chr3 </td><td>Bin682</td></tr>\n",
       "\t<tr><th scope=row>13537</th><td>STAG1 </td><td>   3138</td><td>chr3 </td><td>Bin683</td></tr>\n",
       "\t<tr><th scope=row>13539</th><td>STAG1 </td><td>   3139</td><td>chr3 </td><td>Bin684</td></tr>\n",
       "\t<tr><th scope=row>125</th><td>MED1  </td><td>  15572</td><td>TF   </td><td>MED1  </td></tr>\n",
       "\t<tr><th scope=row>54100</th><td>MED1  </td><td>  12654</td><td>chr17</td><td>Bin198</td></tr>\n",
       "\t<tr><th scope=row>126</th><td>MED12 </td><td>  15573</td><td>TF   </td><td>MED12 </td></tr>\n",
       "\t<tr><th scope=row>65605</th><td>MED12 </td><td>  14735</td><td>chrX </td><td>Bin356</td></tr>\n",
       "</tbody>\n",
       "</table>\n"
      ],
      "text/latex": [
       "A data.frame: 24 × 4\n",
       "\\begin{tabular}{r|llll}\n",
       "  & geneName & NodeID & NodeLabel & NodeNames\\\\\n",
       "  & <chr> & <int> & <chr> & <chr>\\\\\n",
       "\\hline\n",
       "\t257 & NANOG  & 1288081 & TF    & NANOG \\\\\n",
       "\t40007 & NANOG  &    9759 & chr12 & Bin39 \\\\\n",
       "\t40 & CTCF   &   15487 & TF    & CTCF  \\\\\n",
       "\t51743 & CTCF   &   12342 & chr16 & Bin338\\\\\n",
       "\t51744 & CTCF   &   12343 & chr16 & Bin339\\\\\n",
       "\t58 & EP300  &   15505 & TF    & EP300 \\\\\n",
       "\t64105 & EP300  &   14330 & chr22 & Bin206\\\\\n",
       "\t155 & POLR2A &   15602 & TF    & POLR2A\\\\\n",
       "\t52860 & POLR2A &   12494 & chr17 & Bin38 \\\\\n",
       "\t240 & YY1    &   15687 & TF    & YY1   \\\\\n",
       "\t46700 & YY1    &   11461 & chr14 & Bin502\\\\\n",
       "\t167 & RAD21  &   15614 & TF    & RAD21 \\\\\n",
       "\t30285 & RAD21  &    7542 & chr8  & Bin585\\\\\n",
       "\t194 & SMC3   &   15641 & TF    & SMC3  \\\\\n",
       "\t35620 & SMC3   &    8928 & chr10 & Bin553\\\\\n",
       "\t35621 & SMC3   &    8929 & chr10 & Bin554\\\\\n",
       "\t205 & STAG1  &   15652 & TF    & STAG1 \\\\\n",
       "\t13536 & STAG1  &    3137 & chr3  & Bin682\\\\\n",
       "\t13537 & STAG1  &    3138 & chr3  & Bin683\\\\\n",
       "\t13539 & STAG1  &    3139 & chr3  & Bin684\\\\\n",
       "\t125 & MED1   &   15572 & TF    & MED1  \\\\\n",
       "\t54100 & MED1   &   12654 & chr17 & Bin198\\\\\n",
       "\t126 & MED12  &   15573 & TF    & MED12 \\\\\n",
       "\t65605 & MED12  &   14735 & chrX  & Bin356\\\\\n",
       "\\end{tabular}\n"
      ],
      "text/markdown": [
       "\n",
       "A data.frame: 24 × 4\n",
       "\n",
       "| <!--/--> | geneName &lt;chr&gt; | NodeID &lt;int&gt; | NodeLabel &lt;chr&gt; | NodeNames &lt;chr&gt; |\n",
       "|---|---|---|---|---|\n",
       "| 257 | NANOG  | 1288081 | TF    | NANOG  |\n",
       "| 40007 | NANOG  |    9759 | chr12 | Bin39  |\n",
       "| 40 | CTCF   |   15487 | TF    | CTCF   |\n",
       "| 51743 | CTCF   |   12342 | chr16 | Bin338 |\n",
       "| 51744 | CTCF   |   12343 | chr16 | Bin339 |\n",
       "| 58 | EP300  |   15505 | TF    | EP300  |\n",
       "| 64105 | EP300  |   14330 | chr22 | Bin206 |\n",
       "| 155 | POLR2A |   15602 | TF    | POLR2A |\n",
       "| 52860 | POLR2A |   12494 | chr17 | Bin38  |\n",
       "| 240 | YY1    |   15687 | TF    | YY1    |\n",
       "| 46700 | YY1    |   11461 | chr14 | Bin502 |\n",
       "| 167 | RAD21  |   15614 | TF    | RAD21  |\n",
       "| 30285 | RAD21  |    7542 | chr8  | Bin585 |\n",
       "| 194 | SMC3   |   15641 | TF    | SMC3   |\n",
       "| 35620 | SMC3   |    8928 | chr10 | Bin553 |\n",
       "| 35621 | SMC3   |    8929 | chr10 | Bin554 |\n",
       "| 205 | STAG1  |   15652 | TF    | STAG1  |\n",
       "| 13536 | STAG1  |    3137 | chr3  | Bin682 |\n",
       "| 13537 | STAG1  |    3138 | chr3  | Bin683 |\n",
       "| 13539 | STAG1  |    3139 | chr3  | Bin684 |\n",
       "| 125 | MED1   |   15572 | TF    | MED1   |\n",
       "| 54100 | MED1   |   12654 | chr17 | Bin198 |\n",
       "| 126 | MED12  |   15573 | TF    | MED12  |\n",
       "| 65605 | MED12  |   14735 | chrX  | Bin356 |\n",
       "\n"
      ],
      "text/plain": [
       "      geneName NodeID  NodeLabel NodeNames\n",
       "257   NANOG    1288081 TF        NANOG    \n",
       "40007 NANOG       9759 chr12     Bin39    \n",
       "40    CTCF       15487 TF        CTCF     \n",
       "51743 CTCF       12342 chr16     Bin338   \n",
       "51744 CTCF       12343 chr16     Bin339   \n",
       "58    EP300      15505 TF        EP300    \n",
       "64105 EP300      14330 chr22     Bin206   \n",
       "155   POLR2A     15602 TF        POLR2A   \n",
       "52860 POLR2A     12494 chr17     Bin38    \n",
       "240   YY1        15687 TF        YY1      \n",
       "46700 YY1        11461 chr14     Bin502   \n",
       "167   RAD21      15614 TF        RAD21    \n",
       "30285 RAD21       7542 chr8      Bin585   \n",
       "194   SMC3       15641 TF        SMC3     \n",
       "35620 SMC3        8928 chr10     Bin553   \n",
       "35621 SMC3        8929 chr10     Bin554   \n",
       "205   STAG1      15652 TF        STAG1    \n",
       "13536 STAG1       3137 chr3      Bin682   \n",
       "13537 STAG1       3138 chr3      Bin683   \n",
       "13539 STAG1       3139 chr3      Bin684   \n",
       "125   MED1       15572 TF        MED1     \n",
       "54100 MED1       12654 chr17     Bin198   \n",
       "126   MED12      15573 TF        MED12    \n",
       "65605 MED12      14735 chrX      Bin356   "
      ]
     },
     "metadata": {},
     "output_type": "display_data"
    }
   ],
   "source": [
    "#------------------------------------ \n",
    "geneIndex = geneMatchIndex(gene)\n",
    "TargetNodes <- geneIndex$TargetNodes\n",
    "TargetNodes "
   ]
  },
  {
   "cell_type": "markdown",
   "metadata": {},
   "source": [
    "<h2 id='9.5'> Step5: To get modules which includes target genes</h2>"
   ]
  },
  {
   "cell_type": "markdown",
   "metadata": {},
   "source": [
    "At here, we use the query command at part`8.2` for modules nodes."
   ]
  },
  {
   "cell_type": "code",
   "execution_count": 66,
   "metadata": {},
   "outputs": [
    {
     "name": "stderr",
     "output_type": "stream",
     "text": [
      "Your code contains a unicode char which cannot be displayed in your\n",
      "current locale and R will silently convert it to an escaped form when the\n",
      "R kernel executes this code. This can lead to subtle errors if you use\n",
      "such chars to do comparisons. For more information, please see\n",
      "https://github.com/IRkernel/repr/wiki/Problems-with-unicode-on-windows"
     ]
    }
   ],
   "source": [
    "#---------------------------\n",
    "#找到包含了这些基因节点的模块\n",
    "query = queryLouvainForChr12_TargetNodesInModules(TargetNodes$NodeID)\n",
    "TargetNodesInModules <- cypher(graph, query, TargetNodes_NodeID = TargetNodes$NodeID)"
   ]
  },
  {
   "cell_type": "code",
   "execution_count": 67,
   "metadata": {},
   "outputs": [
    {
     "data": {
      "text/html": [
       "4"
      ],
      "text/latex": [
       "4"
      ],
      "text/markdown": [
       "4"
      ],
      "text/plain": [
       "[1] 4"
      ]
     },
     "metadata": {},
     "output_type": "display_data"
    }
   ],
   "source": [
    "length(TargetNodesInModules)"
   ]
  },
  {
   "cell_type": "markdown",
   "metadata": {},
   "source": [
    "`TargetNodesInModules` has 4 modules."
   ]
  },
  {
   "cell_type": "markdown",
   "metadata": {},
   "source": [
    "<h2 id='9.6'> Step6: Build a function to judge which modules is we want.</h2>"
   ]
  },
  {
   "cell_type": "markdown",
   "metadata": {},
   "source": [
    "`real_TargetNodes_In_Modules` function use to chose those modules includes nodes/genes as we designs(ask).\n",
    "\n",
    "argument `TargetNodesInModules` is like the last result.\n",
    "\n",
    "argument `gene` is a vector which includes all genes we want.\n",
    "\n",
    "argument `MustIn` is a vertor which includes genes we ask must in this modules.\n",
    "\n",
    "Argument `OrIn` is a vertor which includes genes some in this modules, and some may not in, but always at least one genes in. \n",
    "\n",
    "`OrIn2` is the same of `OrIn`."
   ]
  },
  {
   "cell_type": "code",
   "execution_count": 68,
   "metadata": {},
   "outputs": [
    {
     "name": "stderr",
     "output_type": "stream",
     "text": [
      "Your code contains a unicode char which cannot be displayed in your\n",
      "current locale and R will silently convert it to an escaped form when the\n",
      "R kernel executes this code. This can lead to subtle errors if you use\n",
      "such chars to do comparisons. For more information, please see\n",
      "https://github.com/IRkernel/repr/wiki/Problems-with-unicode-on-windows"
     ]
    }
   ],
   "source": [
    "#-------------------------------------------------------------------------------------------------------\n",
    "#real_TargetNodes_In_Modules function use to chose those modules includes nodes/genes as we designs(ask).\n",
    "#这个real_TargetNodes_In_Modules函数是用来选择那些符合要求的基因模块列表\n",
    "#argument TargetNodesInModules is the last result\n",
    "#参数有TargetNodesInModules就是我们上一步得出的结果TargetNodesInModules，结构必须是相同的\n",
    "#gene is a vector which includes all genes we want.\n",
    "#参数gene也是之前使用的\n",
    "# MustIn is a vertor which includes genes we ask must in this modules\n",
    "#参数MustIn就是我们选择的gene一定要出现在模块中\n",
    "#OrIn is a vertor which includes genes some in this modules, and some may not in, but always at least one genes in \n",
    "#参数OrIn就是我们选择的gene中至少有一个要出现在模块中\n",
    "#OrIn2 is the sames of OrIn\n",
    "#参数OrIn2也就是我们选择的gene中至少有一个要出现在模块中\n",
    "real_TargetNodes_In_Modules <- function(TargetNodesInModules,gene,MustIn,OrIn = NULL,OrIn2 = NULL){\n",
    "    index = c()\n",
    "    diffGene = list()\n",
    "    for (i in 1:nrow(TargetNodesInModules)){\n",
    "        #At first, we need to match those genes names about nodes in modules\n",
    "        #找对节点id号对应的基因名称\n",
    "        Mod_TargetNodes = unlist(TargetNodesInModules$TargetNodes_ID[i])\n",
    "        Mod_TargetNodes = geneMatchIndex(Mod_TargetNodes, by = \"NodeID\")\n",
    "        \n",
    "        #find out genes those are not in this module\n",
    "        #找到在对应的模块里面不存在的输入的基因\n",
    "        diff = setdiff(gene, Mod_TargetNodes$TargetNodes$geneName)\n",
    "        \n",
    "        #To judge whather module is we want \n",
    "        #判断diff是属于哪些基因的，是属于必需的，还是属于可选的，还是不要的\n",
    "          #-----------------------\n",
    "          #get an intersection between diff and MustIn, if geneIn was not null, then it judge that this module not as we want \n",
    "          #diff和MustIn的交集geneIn，如果有，则那这个模块不能用\n",
    "          geneIn = intersect(diff,MustIn)\n",
    "          #即如果geneIn的数量大于0， 则说明diff中有基因是跟MustIn相同的,则那这个模块不能用\n",
    "          case1 <- length(geneIn) > 0 \n",
    "          #-----------------------\n",
    "           #get an intersection between diff and OrIn, if geneOrIn have the same number of OrIn, we can not chose the modules\n",
    "          if (length(OrIn) > 1 ) {\n",
    "            #如果diff和OrIn的交集geneOrIn跟OrIn一样多，则说明OrIn中的基因都是diff，那这个模块不能用\n",
    "            geneOrIn = intersect(OrIn,diff)\n",
    "            #如果diff和OrIn的交集geneOrIn跟OrIn一样多，则说明OrIn中的基因都是diff，那这个模块不能用\n",
    "            case2 <- length(geneOrIn) == length(OrIn) }\n",
    "          else{ case2 = FALSE }\n",
    "          #-----------------------\n",
    "          if (length(OrIn2) > 1 ){\n",
    "          geneOrIn2 = intersect(diff,OrIn2)\n",
    "          case3 <- length(geneOrIn2) == length(OrIn2)}\n",
    "          else{ case2 = FALSE }\n",
    "        \n",
    "        #If one of three case is TRUE, the module will not be chose.\n",
    "          #有一个是TRUE则这个模块就不可以用了，这里是case1或者case2或者case3\n",
    "          if( case1 | case2 | case3) { \n",
    "              index = c(index, i)\n",
    "          diffGene[i] = diff}\n",
    "    }\n",
    "    names(diffGene) = TargetNodesInModules$community\n",
    "    #符合所选情况的模块（即根据自己定义了的基因都在对应的模块中）\n",
    "    realTargetNodesInModules = TargetNodesInModules[c(-index),]\n",
    "    \n",
    "    judgeResults = list(realTargetNodesInModules,diffGene)\n",
    "    names(judgeResults) = c(\"realTargetNodesInModules\",\"diffGene\")\n",
    "    return(judgeResults)\n",
    "}\n",
    "#---------------------------------------------------------------------------------------------------------"
   ]
  },
  {
   "cell_type": "markdown",
   "metadata": {},
   "source": [
    "<h2 id='9.7'> Step7: Select those mudules as we want</h2>"
   ]
  },
  {
   "cell_type": "code",
   "execution_count": 71,
   "metadata": {},
   "outputs": [
    {
     "name": "stderr",
     "output_type": "stream",
     "text": [
      "Your code contains a unicode char which cannot be displayed in your\n",
      "current locale and R will silently convert it to an escaped form when the\n",
      "R kernel executes this code. This can lead to subtle errors if you use\n",
      "such chars to do comparisons. For more information, please see\n",
      "https://github.com/IRkernel/repr/wiki/Problems-with-unicode-on-windowsWarning message in diffGene[i] <- diff:\n",
      "\"number of items to replace is not a multiple of replacement length\"Warning message in diffGene[i] <- diff:\n",
      "\"number of items to replace is not a multiple of replacement length\"Warning message in diffGene[i] <- diff:\n",
      "\"number of items to replace is not a multiple of replacement length\"Warning message in diffGene[i] <- diff:\n",
      "\"number of items to replace is not a multiple of replacement length\""
     ]
    }
   ],
   "source": [
    "#查看是否都包含这些基因\n",
    "\n",
    "#现将gene拆分成哪些基因是必需的，哪些是可选的，哪些是不要的\n",
    "#一定要有的基因\n",
    "#Genes must is in modules\n",
    "MustIn = c(\"NANOG\",\"CTCF\", \"EP300\",\"POLR2A\",\"YY1\")\n",
    "\n",
    "#Genes may not in modules, but at least one gene in modules\n",
    "#不一定要有的基因，即可以有，也可以没有，至少有一个在\n",
    "OrIn = c(\"RAD21\",\"SMC3\",\"STAG1\")\n",
    "OrIn2 = c(\"MED1\",\"MED12\")\n",
    "\n",
    "#Select module like we want\n",
    "judgeResults = real_TargetNodes_In_Modules(TargetNodesInModules,\n",
    "                                                       gene,MustIn,OrIn,OrIn2)"
   ]
  },
  {
   "cell_type": "code",
   "execution_count": 1,
   "metadata": {},
   "outputs": [
    {
     "ename": "ERROR",
     "evalue": "Error in eval(expr, envir, enclos): object 'judgeResults' not found\n",
     "output_type": "error",
     "traceback": [
      "Error in eval(expr, envir, enclos): object 'judgeResults' not found\nTraceback:\n"
     ]
    }
   ],
   "source": [
    "realTargetNodesInModules = judgeResults[[1]]\n",
    "\n",
    "diffGene = judgeResults[[2]]\n",
    "\n",
    "dim(realTargetNodesInModules)\n",
    "\n",
    "diffGene"
   ]
  },
  {
   "cell_type": "markdown",
   "metadata": {},
   "source": [
    "So, we didn't get an module as we want. "
   ]
  },
  {
   "cell_type": "markdown",
   "metadata": {},
   "source": [
    "<h2 id='9.8'> Step8: get relationships during nodes in each community(module)</h2>"
   ]
  },
  {
   "cell_type": "markdown",
   "metadata": {},
   "source": [
    "###### If there have modules as we want, we can get relationships by function `Module_Relationship`."
   ]
  },
  {
   "cell_type": "code",
   "execution_count": 108,
   "metadata": {},
   "outputs": [
    {
     "name": "stderr",
     "output_type": "stream",
     "text": [
      "Your code contains a unicode char which cannot be displayed in your\n",
      "current locale and R will silently convert it to an escaped form when the\n",
      "R kernel executes this code. This can lead to subtle errors if you use\n",
      "such chars to do comparisons. For more information, please see\n",
      "https://github.com/IRkernel/repr/wiki/Problems-with-unicode-on-windows"
     ]
    }
   ],
   "source": [
    "#假设有的话，我们继续将这个模块的所有关系都找出来\n",
    "#realTargetNodesInModules = TargetNodesInModules\n",
    "#Relationship_realTargetNodesInModules <- Module_Relationship(realTargetNodesInModules)"
   ]
  },
  {
   "cell_type": "code",
   "execution_count": 109,
   "metadata": {},
   "outputs": [
    {
     "data": {
      "text/html": [
       "<table>\n",
       "<caption>A data.frame: 6 × 26</caption>\n",
       "<thead>\n",
       "\t<tr><th scope=col>fromNodeID</th><th scope=col>fromNodeLabel</th><th scope=col>toNodeID</th><th scope=col>toNodeLabel</th><th scope=col>Relationship_ID</th><th scope=col>Relationship</th><th scope=col>fromNode_Start</th><th scope=col>fromNode_End</th><th scope=col>fromNode_community</th><th scope=col>fromNode_Details</th><th scope=col>...</th><th scope=col>R_PubMedID</th><th scope=col>R_CellType</th><th scope=col>R_SourceDB</th><th scope=col>R_Method</th><th scope=col>R_value</th><th scope=col>R_GEO</th><th scope=col>R_Start</th><th scope=col>R_OtherGEO</th><th scope=col>R_End</th><th scope=col>R_Information</th></tr>\n",
       "\t<tr><th scope=col>&lt;int&gt;</th><th scope=col>&lt;chr&gt;</th><th scope=col>&lt;int&gt;</th><th scope=col>&lt;chr&gt;</th><th scope=col>&lt;int&gt;</th><th scope=col>&lt;chr&gt;</th><th scope=col>&lt;chr&gt;</th><th scope=col>&lt;chr&gt;</th><th scope=col>&lt;int&gt;</th><th scope=col>&lt;chr&gt;</th><th scope=col>...</th><th scope=col>&lt;chr&gt;</th><th scope=col>&lt;chr&gt;</th><th scope=col>&lt;chr&gt;</th><th scope=col>&lt;chr&gt;</th><th scope=col>&lt;lgl&gt;</th><th scope=col>&lt;chr&gt;</th><th scope=col>&lt;chr&gt;</th><th scope=col>&lt;chr&gt;</th><th scope=col>&lt;chr&gt;</th><th scope=col>&lt;chr&gt;</th></tr>\n",
       "</thead>\n",
       "<tbody>\n",
       "\t<tr><td>1260758</td><td>chr12_Range</td><td>1260608</td><td>chr12_Range</td><td>5445098</td><td>Interaction</td><td>3364835</td><td>3366835</td><td>11194</td><td>NA</td><td>...</td><td>24821768</td><td>IPS6.9  </td><td>CistromeDB</td><td>IM-PET</td><td>NA</td><td>NA</td><td>NA</td><td>NA</td><td>NA</td><td>NA</td></tr>\n",
       "\t<tr><td>1260419</td><td>chr12_Range</td><td>1260608</td><td>chr12_Range</td><td>5387397</td><td>Interaction</td><td>3365035</td><td>3367035</td><td>11194</td><td>NA</td><td>...</td><td>24821768</td><td>IPS19.11</td><td>CistromeDB</td><td>IM-PET</td><td>NA</td><td>NA</td><td>NA</td><td>NA</td><td>NA</td><td>NA</td></tr>\n",
       "\t<tr><td> 846310</td><td>chr12_Range</td><td> 862700</td><td>chr12_Range</td><td>4781208</td><td>Interaction</td><td>3217835</td><td>3219835</td><td>11194</td><td>NA</td><td>...</td><td>24821768</td><td>IMR90   </td><td>CistromeDB</td><td>IM-PET</td><td>NA</td><td>NA</td><td>NA</td><td>NA</td><td>NA</td><td>NA</td></tr>\n",
       "\t<tr><td> 828244</td><td>chr12_Range</td><td> 828221</td><td>chr12_Range</td><td>4752100</td><td>Interaction</td><td>3387216</td><td>3396473</td><td>11194</td><td>NA</td><td>...</td><td>24141950</td><td>IMR90   </td><td>CistromeDB</td><td>Hi-C  </td><td>NA</td><td>NA</td><td>NA</td><td>NA</td><td>NA</td><td>NA</td></tr>\n",
       "\t<tr><td> 828244</td><td>chr12_Range</td><td> 828197</td><td>chr12_Range</td><td>4752099</td><td>Interaction</td><td>3387216</td><td>3396473</td><td>11194</td><td>NA</td><td>...</td><td>24141950</td><td>IMR90   </td><td>CistromeDB</td><td>Hi-C  </td><td>NA</td><td>NA</td><td>NA</td><td>NA</td><td>NA</td><td>NA</td></tr>\n",
       "\t<tr><td> 828230</td><td>chr12_Range</td><td> 828197</td><td>chr12_Range</td><td>4752080</td><td>Interaction</td><td>3357413</td><td>3361741</td><td>11194</td><td>NA</td><td>...</td><td>24141950</td><td>IMR90   </td><td>CistromeDB</td><td>Hi-C  </td><td>NA</td><td>NA</td><td>NA</td><td>NA</td><td>NA</td><td>NA</td></tr>\n",
       "</tbody>\n",
       "</table>\n"
      ],
      "text/latex": [
       "A data.frame: 6 × 26\n",
       "\\begin{tabular}{r|llllllllllllllllllllllllll}\n",
       " fromNodeID & fromNodeLabel & toNodeID & toNodeLabel & Relationship\\_ID & Relationship & fromNode\\_Start & fromNode\\_End & fromNode\\_community & fromNode\\_Details & fromNode\\_Name & toNode\\_Start & toNode\\_End & toNode\\_community & toNode\\_Details & toNode\\_Name & R\\_PubMedID & R\\_CellType & R\\_SourceDB & R\\_Method & R\\_value & R\\_GEO & R\\_Start & R\\_OtherGEO & R\\_End & R\\_Information\\\\\n",
       " <int> & <chr> & <int> & <chr> & <int> & <chr> & <chr> & <chr> & <int> & <chr> & <chr> & <chr> & <chr> & <int> & <chr> & <chr> & <chr> & <chr> & <chr> & <chr> & <lgl> & <chr> & <chr> & <chr> & <chr> & <chr>\\\\\n",
       "\\hline\n",
       "\t 1260758 & chr12\\_Range & 1260608 & chr12\\_Range & 5445098 & Interaction & 3364835 & 3366835 & 11194 & NA & NA & 3317718 & 3319718 & 11194 & NA & NA & 24821768 & IPS6.9   & CistromeDB & IM-PET & NA & NA & NA & NA & NA & NA\\\\\n",
       "\t 1260419 & chr12\\_Range & 1260608 & chr12\\_Range & 5387397 & Interaction & 3365035 & 3367035 & 11194 & NA & NA & 3317718 & 3319718 & 11194 & NA & NA & 24821768 & IPS19.11 & CistromeDB & IM-PET & NA & NA & NA & NA & NA & NA\\\\\n",
       "\t  846310 & chr12\\_Range &  862700 & chr12\\_Range & 4781208 & Interaction & 3217835 & 3219835 & 11194 & NA & NA & 3200175 & 3202175 & 11194 & NA & NA & 24821768 & IMR90    & CistromeDB & IM-PET & NA & NA & NA & NA & NA & NA\\\\\n",
       "\t  828244 & chr12\\_Range &  828221 & chr12\\_Range & 4752100 & Interaction & 3387216 & 3396473 & 11194 & NA & NA & 3351388 & 3355160 & 11194 & NA & NA & 24141950 & IMR90    & CistromeDB & Hi-C   & NA & NA & NA & NA & NA & NA\\\\\n",
       "\t  828244 & chr12\\_Range &  828197 & chr12\\_Range & 4752099 & Interaction & 3387216 & 3396473 & 11194 & NA & NA & 3326008 & 3331161 & 11194 & NA & NA & 24141950 & IMR90    & CistromeDB & Hi-C   & NA & NA & NA & NA & NA & NA\\\\\n",
       "\t  828230 & chr12\\_Range &  828197 & chr12\\_Range & 4752080 & Interaction & 3357413 & 3361741 & 11194 & NA & NA & 3326008 & 3331161 & 11194 & NA & NA & 24141950 & IMR90    & CistromeDB & Hi-C   & NA & NA & NA & NA & NA & NA\\\\\n",
       "\\end{tabular}\n"
      ],
      "text/markdown": [
       "\n",
       "A data.frame: 6 × 26\n",
       "\n",
       "| fromNodeID &lt;int&gt; | fromNodeLabel &lt;chr&gt; | toNodeID &lt;int&gt; | toNodeLabel &lt;chr&gt; | Relationship_ID &lt;int&gt; | Relationship &lt;chr&gt; | fromNode_Start &lt;chr&gt; | fromNode_End &lt;chr&gt; | fromNode_community &lt;int&gt; | fromNode_Details &lt;chr&gt; | ... ... | R_PubMedID &lt;chr&gt; | R_CellType &lt;chr&gt; | R_SourceDB &lt;chr&gt; | R_Method &lt;chr&gt; | R_value &lt;lgl&gt; | R_GEO &lt;chr&gt; | R_Start &lt;chr&gt; | R_OtherGEO &lt;chr&gt; | R_End &lt;chr&gt; | R_Information &lt;chr&gt; |\n",
       "|---|---|---|---|---|---|---|---|---|---|---|---|---|---|---|---|---|---|---|---|---|\n",
       "| 1260758 | chr12_Range | 1260608 | chr12_Range | 5445098 | Interaction | 3364835 | 3366835 | 11194 | NA | ... | 24821768 | IPS6.9   | CistromeDB | IM-PET | NA | NA | NA | NA | NA | NA |\n",
       "| 1260419 | chr12_Range | 1260608 | chr12_Range | 5387397 | Interaction | 3365035 | 3367035 | 11194 | NA | ... | 24821768 | IPS19.11 | CistromeDB | IM-PET | NA | NA | NA | NA | NA | NA |\n",
       "|  846310 | chr12_Range |  862700 | chr12_Range | 4781208 | Interaction | 3217835 | 3219835 | 11194 | NA | ... | 24821768 | IMR90    | CistromeDB | IM-PET | NA | NA | NA | NA | NA | NA |\n",
       "|  828244 | chr12_Range |  828221 | chr12_Range | 4752100 | Interaction | 3387216 | 3396473 | 11194 | NA | ... | 24141950 | IMR90    | CistromeDB | Hi-C   | NA | NA | NA | NA | NA | NA |\n",
       "|  828244 | chr12_Range |  828197 | chr12_Range | 4752099 | Interaction | 3387216 | 3396473 | 11194 | NA | ... | 24141950 | IMR90    | CistromeDB | Hi-C   | NA | NA | NA | NA | NA | NA |\n",
       "|  828230 | chr12_Range |  828197 | chr12_Range | 4752080 | Interaction | 3357413 | 3361741 | 11194 | NA | ... | 24141950 | IMR90    | CistromeDB | Hi-C   | NA | NA | NA | NA | NA | NA |\n",
       "\n"
      ],
      "text/plain": [
       "  fromNodeID fromNodeLabel toNodeID toNodeLabel Relationship_ID Relationship\n",
       "1 1260758    chr12_Range   1260608  chr12_Range 5445098         Interaction \n",
       "2 1260419    chr12_Range   1260608  chr12_Range 5387397         Interaction \n",
       "3  846310    chr12_Range    862700  chr12_Range 4781208         Interaction \n",
       "4  828244    chr12_Range    828221  chr12_Range 4752100         Interaction \n",
       "5  828244    chr12_Range    828197  chr12_Range 4752099         Interaction \n",
       "6  828230    chr12_Range    828197  chr12_Range 4752080         Interaction \n",
       "  fromNode_Start fromNode_End fromNode_community fromNode_Details ...\n",
       "1 3364835        3366835      11194              NA               ...\n",
       "2 3365035        3367035      11194              NA               ...\n",
       "3 3217835        3219835      11194              NA               ...\n",
       "4 3387216        3396473      11194              NA               ...\n",
       "5 3387216        3396473      11194              NA               ...\n",
       "6 3357413        3361741      11194              NA               ...\n",
       "  R_PubMedID R_CellType R_SourceDB R_Method R_value R_GEO R_Start R_OtherGEO\n",
       "1 24821768   IPS6.9     CistromeDB IM-PET   NA      NA    NA      NA        \n",
       "2 24821768   IPS19.11   CistromeDB IM-PET   NA      NA    NA      NA        \n",
       "3 24821768   IMR90      CistromeDB IM-PET   NA      NA    NA      NA        \n",
       "4 24141950   IMR90      CistromeDB Hi-C     NA      NA    NA      NA        \n",
       "5 24141950   IMR90      CistromeDB Hi-C     NA      NA    NA      NA        \n",
       "6 24141950   IMR90      CistromeDB Hi-C     NA      NA    NA      NA        \n",
       "  R_End R_Information\n",
       "1 NA    NA           \n",
       "2 NA    NA           \n",
       "3 NA    NA           \n",
       "4 NA    NA           \n",
       "5 NA    NA           \n",
       "6 NA    NA           "
      ]
     },
     "metadata": {},
     "output_type": "display_data"
    }
   ],
   "source": [
    "#head(Relationship_realTargetNodesInModules[[1]])"
   ]
  },
  {
   "cell_type": "markdown",
   "metadata": {},
   "source": [
    "<h1 id='10'> save all results<h1>"
   ]
  },
  {
   "cell_type": "markdown",
   "metadata": {},
   "source": [
    "To get all results at [here](allResults.Rdata)."
   ]
  },
  {
   "cell_type": "code",
   "execution_count": 73,
   "metadata": {},
   "outputs": [],
   "source": [
    "save(labels,  relationshipType,  rel_details,  BindRel,BindRel_TF,  BindRel_LncRNA,InclusionRel, \n",
    "     InteractionRel,  chr12_hubs,  distribution,  module_chr12_total,  module_chr12,module_genelist,\n",
    "     module_chr12_list,  module_chr12_list_enrichGO,  module_chr12_list_enrichKEGG,AllgeneName, \n",
    "     chr12Mod,   Module_Relationships,   AllgeneName_TF_LncRNA,   TargetNodesInModules, \n",
    "      realTargetNodesInModules, diffGene,\n",
    "     file = \"allResults.Rdata\")"
   ]
  },
  {
   "cell_type": "code",
   "execution_count": null,
   "metadata": {},
   "outputs": [],
   "source": []
  }
 ],
 "metadata": {
  "kernelspec": {
   "display_name": "R",
   "language": "R",
   "name": "ir"
  },
  "language_info": {
   "codemirror_mode": "r",
   "file_extension": ".r",
   "mimetype": "text/x-r-source",
   "name": "R",
   "pygments_lexer": "r",
   "version": "3.6.1"
  },
  "toc": {
   "base_numbering": 1,
   "nav_menu": {},
   "number_sections": true,
   "sideBar": true,
   "skip_h1_title": false,
   "title_cell": "Table of Contents",
   "title_sidebar": "Contents",
   "toc_cell": false,
   "toc_position": {
    "height": "calc(100% - 180px)",
    "left": "10px",
    "top": "150px",
    "width": "206.4px"
   },
   "toc_section_display": true,
   "toc_window_display": true
  }
 },
 "nbformat": 4,
 "nbformat_minor": 2
}
