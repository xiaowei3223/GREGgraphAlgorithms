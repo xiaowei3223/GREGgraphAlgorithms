{
 "cells": [
  {
   "cell_type": "markdown",
   "metadata": {},
   "source": [
    "# Connect neo4j"
   ]
  },
  {
   "cell_type": "code",
   "execution_count": 1,
   "metadata": {},
   "outputs": [],
   "source": [
    "#connect neo4j with RNeo4j\n",
    "library(RNeo4j)\n",
    "\n",
    "graph = startGraph(\"http://localhost:7474/db/data/\", username=\"neo4j\", password=\"xiaowei\")"
   ]
  },
  {
   "cell_type": "markdown",
   "metadata": {},
   "source": [
    "# Get all gene names in GREG"
   ]
  },
  {
   "cell_type": "markdown",
   "metadata": {},
   "source": [
    "## Make a function to get all gene names."
   ]
  },
  {
   "cell_type": "code",
   "execution_count": 2,
   "metadata": {},
   "outputs": [
    {
     "name": "stderr",
     "output_type": "stream",
     "text": [
      "Your code contains a unicode char which cannot be displayed in your\n",
      "current locale and R will silently convert it to an escaped form when the\n",
      "R kernel executes this code. This can lead to subtle errors if you use\n",
      "such chars to do comparisons. For more information, please see\n",
      "https://github.com/IRkernel/repr/wiki/Problems-with-unicode-on-windows"
     ]
    }
   ],
   "source": [
    "#----------------------------------------------------------------------------------------------------------------------\n",
    "#----------------------------------------------------------------------------------------------------------------------\n",
    "#--------------------#获取所有基因\n",
    "#----------------------------------------------------------------------\n",
    "#---建一个函数来获取数据库里面所有gene names\n",
    "#该基因gene name 存在于 node的Details属性上\n",
    "#返回数据框，包含基因名称，节点的id号和节点label， 节点Name\n",
    "\n",
    "getAllGeneName = function(){\n",
    "  #连接neo4j数据库\n",
    "  \n",
    "  library(RNeo4j)\n",
    "  graph = startGraph(\"http://localhost:7474/db/data/\", username=\"neo4j\", password=\"xiaowei\")\n",
    "  \n",
    "  #cypher语言查询\n",
    "  query = \"\n",
    "        //get all nodes which had `Details` property\n",
    "        //查找有Details属性的节点\n",
    "      MATCH (n)\n",
    "      where exists(n.Details)\n",
    "\n",
    "        //split the Details information\n",
    "        //利用split函数拆分Details属性值\n",
    "      with split(n.Details, ';') AS Details,id(n) AS NodeID, labels(n) AS NodeLabel, n.Name AS NodeNames\n",
    "\n",
    "        //change the list format\n",
    "        //利用UNWIND将Details列表换成表格形式\n",
    "      UNWIND Details AS details\n",
    "      with details, NodeID, NodeLabel, NodeNames\n",
    "\n",
    "        //filter those Details information which includes gene_name\n",
    "        // 筛选出含有gene_name的信息\n",
    "      where details contains 'gene_name'\n",
    "      with details as genes, NodeID, NodeLabel, NodeNames\n",
    "\n",
    "        // use `substring` to get real gene names\n",
    "        // 然后利用substring函数截取基因名称， 返回基因名称，节点的id号和节点label\n",
    "      return substring(genes,11) as geneName, NodeID, NodeLabel, NodeNames\n",
    "  \"\n",
    "  #进行查询\n",
    "  allGenes <- RNeo4j::cypher(graph, query) \n",
    "  \n",
    "  #返回查询结果\n",
    "  return(allGenes)\n",
    "}"
   ]
  },
  {
   "cell_type": "markdown",
   "metadata": {},
   "source": [
    "## a data frame of  all gene in chromosome"
   ]
  },
  {
   "cell_type": "code",
   "execution_count": 3,
   "metadata": {},
   "outputs": [],
   "source": [
    "#-----------all gene in chromosome---------------------\n",
    "AllgeneName <- getAllGeneName()"
   ]
  },
  {
   "cell_type": "code",
   "execution_count": 4,
   "metadata": {},
   "outputs": [],
   "source": [
    "AllgeneName <- unique(AllgeneName)"
   ]
  },
  {
   "cell_type": "code",
   "execution_count": 5,
   "metadata": {},
   "outputs": [
    {
     "data": {
      "text/html": [
       "<table>\n",
       "<caption>A data.frame: 6 × 4</caption>\n",
       "<thead>\n",
       "\t<tr><th scope=col>geneName</th><th scope=col>NodeID</th><th scope=col>NodeLabel</th><th scope=col>NodeNames</th></tr>\n",
       "\t<tr><th scope=col>&lt;chr&gt;</th><th scope=col>&lt;int&gt;</th><th scope=col>&lt;chr&gt;</th><th scope=col>&lt;chr&gt;</th></tr>\n",
       "</thead>\n",
       "<tbody>\n",
       "\t<tr><td>DDX11L1     </td><td>0</td><td>chr1</td><td>Bin1</td></tr>\n",
       "\t<tr><td>WASH7P      </td><td>0</td><td>chr1</td><td>Bin1</td></tr>\n",
       "\t<tr><td>MIR6859-1   </td><td>0</td><td>chr1</td><td>Bin1</td></tr>\n",
       "\t<tr><td>RP11-34P13.3</td><td>0</td><td>chr1</td><td>Bin1</td></tr>\n",
       "\t<tr><td>MIR1302-2   </td><td>0</td><td>chr1</td><td>Bin1</td></tr>\n",
       "\t<tr><td>FAM138A     </td><td>0</td><td>chr1</td><td>Bin1</td></tr>\n",
       "</tbody>\n",
       "</table>\n"
      ],
      "text/latex": [
       "A data.frame: 6 × 4\n",
       "\\begin{tabular}{r|llll}\n",
       " geneName & NodeID & NodeLabel & NodeNames\\\\\n",
       " <chr> & <int> & <chr> & <chr>\\\\\n",
       "\\hline\n",
       "\t DDX11L1      & 0 & chr1 & Bin1\\\\\n",
       "\t WASH7P       & 0 & chr1 & Bin1\\\\\n",
       "\t MIR6859-1    & 0 & chr1 & Bin1\\\\\n",
       "\t RP11-34P13.3 & 0 & chr1 & Bin1\\\\\n",
       "\t MIR1302-2    & 0 & chr1 & Bin1\\\\\n",
       "\t FAM138A      & 0 & chr1 & Bin1\\\\\n",
       "\\end{tabular}\n"
      ],
      "text/markdown": [
       "\n",
       "A data.frame: 6 × 4\n",
       "\n",
       "| geneName &lt;chr&gt; | NodeID &lt;int&gt; | NodeLabel &lt;chr&gt; | NodeNames &lt;chr&gt; |\n",
       "|---|---|---|---|\n",
       "| DDX11L1      | 0 | chr1 | Bin1 |\n",
       "| WASH7P       | 0 | chr1 | Bin1 |\n",
       "| MIR6859-1    | 0 | chr1 | Bin1 |\n",
       "| RP11-34P13.3 | 0 | chr1 | Bin1 |\n",
       "| MIR1302-2    | 0 | chr1 | Bin1 |\n",
       "| FAM138A      | 0 | chr1 | Bin1 |\n",
       "\n"
      ],
      "text/plain": [
       "  geneName     NodeID NodeLabel NodeNames\n",
       "1 DDX11L1      0      chr1      Bin1     \n",
       "2 WASH7P       0      chr1      Bin1     \n",
       "3 MIR6859-1    0      chr1      Bin1     \n",
       "4 RP11-34P13.3 0      chr1      Bin1     \n",
       "5 MIR1302-2    0      chr1      Bin1     \n",
       "6 FAM138A      0      chr1      Bin1     "
      ]
     },
     "metadata": {},
     "output_type": "display_data"
    }
   ],
   "source": [
    "head(AllgeneName)"
   ]
  },
  {
   "cell_type": "code",
   "execution_count": 24,
   "metadata": {},
   "outputs": [
    {
     "data": {
      "text/html": [
       "<ol class=list-inline>\n",
       "\t<li>67300</li>\n",
       "\t<li>4</li>\n",
       "</ol>\n"
      ],
      "text/latex": [
       "\\begin{enumerate*}\n",
       "\\item 67300\n",
       "\\item 4\n",
       "\\end{enumerate*}\n"
      ],
      "text/markdown": [
       "1. 67300\n",
       "2. 4\n",
       "\n",
       "\n"
      ],
      "text/plain": [
       "[1] 67300     4"
      ]
     },
     "metadata": {},
     "output_type": "display_data"
    }
   ],
   "source": [
    "dim(AllgeneName)"
   ]
  },
  {
   "cell_type": "markdown",
   "metadata": {},
   "source": [
    "GREG have 67418 genes names. "
   ]
  },
  {
   "cell_type": "markdown",
   "metadata": {},
   "source": [
    "## a data frame of  all TF "
   ]
  },
  {
   "cell_type": "code",
   "execution_count": 6,
   "metadata": {},
   "outputs": [],
   "source": [
    "#-----------TF----------------------\n",
    "query = \"MATCH (n:TF)\n",
    "        RETURN n.Name AS geneName, id(n) AS NodeID, labels(n) AS NodeLabel, n.Name AS NodeNames\"\n",
    "TFName =unique( cypher(graph, query) )"
   ]
  },
  {
   "cell_type": "code",
   "execution_count": 7,
   "metadata": {},
   "outputs": [
    {
     "data": {
      "text/html": [
       "<table>\n",
       "<caption>A data.frame: 6 × 4</caption>\n",
       "<thead>\n",
       "\t<tr><th scope=col>geneName</th><th scope=col>NodeID</th><th scope=col>NodeLabel</th><th scope=col>NodeNames</th></tr>\n",
       "\t<tr><th scope=col>&lt;chr&gt;</th><th scope=col>&lt;int&gt;</th><th scope=col>&lt;chr&gt;</th><th scope=col>&lt;chr&gt;</th></tr>\n",
       "</thead>\n",
       "<tbody>\n",
       "\t<tr><td>AFF4  </td><td>15448</td><td>TF</td><td>AFF4  </td></tr>\n",
       "\t<tr><td>AHR   </td><td>15449</td><td>TF</td><td>AHR   </td></tr>\n",
       "\t<tr><td>ARID3A</td><td>15450</td><td>TF</td><td>ARID3A</td></tr>\n",
       "\t<tr><td>ARNT  </td><td>15451</td><td>TF</td><td>ARNT  </td></tr>\n",
       "\t<tr><td>ARRB1 </td><td>15452</td><td>TF</td><td>ARRB1 </td></tr>\n",
       "\t<tr><td>ATF1  </td><td>15453</td><td>TF</td><td>ATF1  </td></tr>\n",
       "</tbody>\n",
       "</table>\n"
      ],
      "text/latex": [
       "A data.frame: 6 × 4\n",
       "\\begin{tabular}{r|llll}\n",
       " geneName & NodeID & NodeLabel & NodeNames\\\\\n",
       " <chr> & <int> & <chr> & <chr>\\\\\n",
       "\\hline\n",
       "\t AFF4   & 15448 & TF & AFF4  \\\\\n",
       "\t AHR    & 15449 & TF & AHR   \\\\\n",
       "\t ARID3A & 15450 & TF & ARID3A\\\\\n",
       "\t ARNT   & 15451 & TF & ARNT  \\\\\n",
       "\t ARRB1  & 15452 & TF & ARRB1 \\\\\n",
       "\t ATF1   & 15453 & TF & ATF1  \\\\\n",
       "\\end{tabular}\n"
      ],
      "text/markdown": [
       "\n",
       "A data.frame: 6 × 4\n",
       "\n",
       "| geneName &lt;chr&gt; | NodeID &lt;int&gt; | NodeLabel &lt;chr&gt; | NodeNames &lt;chr&gt; |\n",
       "|---|---|---|---|\n",
       "| AFF4   | 15448 | TF | AFF4   |\n",
       "| AHR    | 15449 | TF | AHR    |\n",
       "| ARID3A | 15450 | TF | ARID3A |\n",
       "| ARNT   | 15451 | TF | ARNT   |\n",
       "| ARRB1  | 15452 | TF | ARRB1  |\n",
       "| ATF1   | 15453 | TF | ATF1   |\n",
       "\n"
      ],
      "text/plain": [
       "  geneName NodeID NodeLabel NodeNames\n",
       "1 AFF4     15448  TF        AFF4     \n",
       "2 AHR      15449  TF        AHR      \n",
       "3 ARID3A   15450  TF        ARID3A   \n",
       "4 ARNT     15451  TF        ARNT     \n",
       "5 ARRB1    15452  TF        ARRB1    \n",
       "6 ATF1     15453  TF        ATF1     "
      ]
     },
     "metadata": {},
     "output_type": "display_data"
    },
    {
     "data": {
      "text/html": [
       "<ol class=list-inline>\n",
       "\t<li>261</li>\n",
       "\t<li>4</li>\n",
       "</ol>\n"
      ],
      "text/latex": [
       "\\begin{enumerate*}\n",
       "\\item 261\n",
       "\\item 4\n",
       "\\end{enumerate*}\n"
      ],
      "text/markdown": [
       "1. 261\n",
       "2. 4\n",
       "\n",
       "\n"
      ],
      "text/plain": [
       "[1] 261   4"
      ]
     },
     "metadata": {},
     "output_type": "display_data"
    }
   ],
   "source": [
    "head(TFName)\n",
    "dim(TFName)"
   ]
  },
  {
   "cell_type": "markdown",
   "metadata": {},
   "source": [
    "## a data frame of  LncRNA "
   ]
  },
  {
   "cell_type": "code",
   "execution_count": 8,
   "metadata": {},
   "outputs": [],
   "source": [
    "#-----------LncRNA----------------\n",
    "query = \"MATCH (n:LncRNA)\n",
    "        RETURN n.Name AS geneName, id(n) AS NodeID, labels(n) AS NodeLabel, n.Name AS NodeNames\"\n",
    "LncRNAName = unique( cypher(graph, query) )\n"
   ]
  },
  {
   "cell_type": "code",
   "execution_count": 9,
   "metadata": {},
   "outputs": [
    {
     "data": {
      "text/html": [
       "<table>\n",
       "<caption>A data.frame: 6 × 4</caption>\n",
       "<thead>\n",
       "\t<tr><th scope=col>geneName</th><th scope=col>NodeID</th><th scope=col>NodeLabel</th><th scope=col>NodeNames</th></tr>\n",
       "\t<tr><th scope=col>&lt;chr&gt;</th><th scope=col>&lt;int&gt;</th><th scope=col>&lt;chr&gt;</th><th scope=col>&lt;chr&gt;</th></tr>\n",
       "</thead>\n",
       "<tbody>\n",
       "\t<tr><td>ANRASSF1   </td><td>1288086</td><td>LncRNA</td><td>ANRASSF1   </td></tr>\n",
       "\t<tr><td>C5-AS1     </td><td>1288087</td><td>LncRNA</td><td>C5-AS1     </td></tr>\n",
       "\t<tr><td>lincRNA-p21</td><td>1288088</td><td>LncRNA</td><td>lincRNA-p21</td></tr>\n",
       "\t<tr><td>SRA        </td><td>1288089</td><td>LncRNA</td><td>SRA        </td></tr>\n",
       "\t<tr><td>CAT7       </td><td>1288090</td><td>LncRNA</td><td>CAT7       </td></tr>\n",
       "\t<tr><td>ANRIL      </td><td>1288091</td><td>LncRNA</td><td>ANRIL      </td></tr>\n",
       "</tbody>\n",
       "</table>\n"
      ],
      "text/latex": [
       "A data.frame: 6 × 4\n",
       "\\begin{tabular}{r|llll}\n",
       " geneName & NodeID & NodeLabel & NodeNames\\\\\n",
       " <chr> & <int> & <chr> & <chr>\\\\\n",
       "\\hline\n",
       "\t ANRASSF1    & 1288086 & LncRNA & ANRASSF1   \\\\\n",
       "\t C5-AS1      & 1288087 & LncRNA & C5-AS1     \\\\\n",
       "\t lincRNA-p21 & 1288088 & LncRNA & lincRNA-p21\\\\\n",
       "\t SRA         & 1288089 & LncRNA & SRA        \\\\\n",
       "\t CAT7        & 1288090 & LncRNA & CAT7       \\\\\n",
       "\t ANRIL       & 1288091 & LncRNA & ANRIL      \\\\\n",
       "\\end{tabular}\n"
      ],
      "text/markdown": [
       "\n",
       "A data.frame: 6 × 4\n",
       "\n",
       "| geneName &lt;chr&gt; | NodeID &lt;int&gt; | NodeLabel &lt;chr&gt; | NodeNames &lt;chr&gt; |\n",
       "|---|---|---|---|\n",
       "| ANRASSF1    | 1288086 | LncRNA | ANRASSF1    |\n",
       "| C5-AS1      | 1288087 | LncRNA | C5-AS1      |\n",
       "| lincRNA-p21 | 1288088 | LncRNA | lincRNA-p21 |\n",
       "| SRA         | 1288089 | LncRNA | SRA         |\n",
       "| CAT7        | 1288090 | LncRNA | CAT7        |\n",
       "| ANRIL       | 1288091 | LncRNA | ANRIL       |\n",
       "\n"
      ],
      "text/plain": [
       "  geneName    NodeID  NodeLabel NodeNames  \n",
       "1 ANRASSF1    1288086 LncRNA    ANRASSF1   \n",
       "2 C5-AS1      1288087 LncRNA    C5-AS1     \n",
       "3 lincRNA-p21 1288088 LncRNA    lincRNA-p21\n",
       "4 SRA         1288089 LncRNA    SRA        \n",
       "5 CAT7        1288090 LncRNA    CAT7       \n",
       "6 ANRIL       1288091 LncRNA    ANRIL      "
      ]
     },
     "metadata": {},
     "output_type": "display_data"
    },
    {
     "data": {
      "text/html": [
       "<ol class=list-inline>\n",
       "\t<li>35</li>\n",
       "\t<li>4</li>\n",
       "</ol>\n"
      ],
      "text/latex": [
       "\\begin{enumerate*}\n",
       "\\item 35\n",
       "\\item 4\n",
       "\\end{enumerate*}\n"
      ],
      "text/markdown": [
       "1. 35\n",
       "2. 4\n",
       "\n",
       "\n"
      ],
      "text/plain": [
       "[1] 35  4"
      ]
     },
     "metadata": {},
     "output_type": "display_data"
    }
   ],
   "source": [
    "head(LncRNAName)\n",
    "dim(LncRNAName)"
   ]
  },
  {
   "cell_type": "markdown",
   "metadata": {},
   "source": [
    "## a data frame of  all gene names and TF and LncRNA"
   ]
  },
  {
   "cell_type": "code",
   "execution_count": 10,
   "metadata": {},
   "outputs": [
    {
     "name": "stderr",
     "output_type": "stream",
     "text": [
      "Your code contains a unicode char which cannot be displayed in your\n",
      "current locale and R will silently convert it to an escaped form when the\n",
      "R kernel executes this code. This can lead to subtle errors if you use\n",
      "such chars to do comparisons. For more information, please see\n",
      "https://github.com/IRkernel/repr/wiki/Problems-with-unicode-on-windows"
     ]
    }
   ],
   "source": [
    "#------------AllgeneName_TF_LncRNA--------------------------------------\n",
    "AllgeneName_TF_LncRNA = unique( rbind(TFName, LncRNAName, AllgeneName) )\n",
    "#AllgeneName_TF_LncRNA就是整个数据库里面所有的基因名称和TF以及LncRNA"
   ]
  },
  {
   "cell_type": "code",
   "execution_count": 11,
   "metadata": {},
   "outputs": [
    {
     "data": {
      "text/html": [
       "<table>\n",
       "<caption>A data.frame: 6 × 4</caption>\n",
       "<thead>\n",
       "\t<tr><th scope=col>geneName</th><th scope=col>NodeID</th><th scope=col>NodeLabel</th><th scope=col>NodeNames</th></tr>\n",
       "\t<tr><th scope=col>&lt;chr&gt;</th><th scope=col>&lt;int&gt;</th><th scope=col>&lt;chr&gt;</th><th scope=col>&lt;chr&gt;</th></tr>\n",
       "</thead>\n",
       "<tbody>\n",
       "\t<tr><td>AFF4  </td><td>15448</td><td>TF</td><td>AFF4  </td></tr>\n",
       "\t<tr><td>AHR   </td><td>15449</td><td>TF</td><td>AHR   </td></tr>\n",
       "\t<tr><td>ARID3A</td><td>15450</td><td>TF</td><td>ARID3A</td></tr>\n",
       "\t<tr><td>ARNT  </td><td>15451</td><td>TF</td><td>ARNT  </td></tr>\n",
       "\t<tr><td>ARRB1 </td><td>15452</td><td>TF</td><td>ARRB1 </td></tr>\n",
       "\t<tr><td>ATF1  </td><td>15453</td><td>TF</td><td>ATF1  </td></tr>\n",
       "</tbody>\n",
       "</table>\n"
      ],
      "text/latex": [
       "A data.frame: 6 × 4\n",
       "\\begin{tabular}{r|llll}\n",
       " geneName & NodeID & NodeLabel & NodeNames\\\\\n",
       " <chr> & <int> & <chr> & <chr>\\\\\n",
       "\\hline\n",
       "\t AFF4   & 15448 & TF & AFF4  \\\\\n",
       "\t AHR    & 15449 & TF & AHR   \\\\\n",
       "\t ARID3A & 15450 & TF & ARID3A\\\\\n",
       "\t ARNT   & 15451 & TF & ARNT  \\\\\n",
       "\t ARRB1  & 15452 & TF & ARRB1 \\\\\n",
       "\t ATF1   & 15453 & TF & ATF1  \\\\\n",
       "\\end{tabular}\n"
      ],
      "text/markdown": [
       "\n",
       "A data.frame: 6 × 4\n",
       "\n",
       "| geneName &lt;chr&gt; | NodeID &lt;int&gt; | NodeLabel &lt;chr&gt; | NodeNames &lt;chr&gt; |\n",
       "|---|---|---|---|\n",
       "| AFF4   | 15448 | TF | AFF4   |\n",
       "| AHR    | 15449 | TF | AHR    |\n",
       "| ARID3A | 15450 | TF | ARID3A |\n",
       "| ARNT   | 15451 | TF | ARNT   |\n",
       "| ARRB1  | 15452 | TF | ARRB1  |\n",
       "| ATF1   | 15453 | TF | ATF1   |\n",
       "\n"
      ],
      "text/plain": [
       "  geneName NodeID NodeLabel NodeNames\n",
       "1 AFF4     15448  TF        AFF4     \n",
       "2 AHR      15449  TF        AHR      \n",
       "3 ARID3A   15450  TF        ARID3A   \n",
       "4 ARNT     15451  TF        ARNT     \n",
       "5 ARRB1    15452  TF        ARRB1    \n",
       "6 ATF1     15453  TF        ATF1     "
      ]
     },
     "metadata": {},
     "output_type": "display_data"
    },
    {
     "data": {
      "text/html": [
       "<ol class=list-inline>\n",
       "\t<li>67596</li>\n",
       "\t<li>4</li>\n",
       "</ol>\n"
      ],
      "text/latex": [
       "\\begin{enumerate*}\n",
       "\\item 67596\n",
       "\\item 4\n",
       "\\end{enumerate*}\n"
      ],
      "text/markdown": [
       "1. 67596\n",
       "2. 4\n",
       "\n",
       "\n"
      ],
      "text/plain": [
       "[1] 67596     4"
      ]
     },
     "metadata": {},
     "output_type": "display_data"
    }
   ],
   "source": [
    "head(AllgeneName_TF_LncRNA)\n",
    "dim(AllgeneName_TF_LncRNA)"
   ]
  },
  {
   "cell_type": "code",
   "execution_count": 12,
   "metadata": {},
   "outputs": [
    {
     "data": {
      "text/html": [
       "<ol class=list-inline>\n",
       "\t<li>67596</li>\n",
       "\t<li>4</li>\n",
       "</ol>\n"
      ],
      "text/latex": [
       "\\begin{enumerate*}\n",
       "\\item 67596\n",
       "\\item 4\n",
       "\\end{enumerate*}\n"
      ],
      "text/markdown": [
       "1. 67596\n",
       "2. 4\n",
       "\n",
       "\n"
      ],
      "text/plain": [
       "[1] 67596     4"
      ]
     },
     "metadata": {},
     "output_type": "display_data"
    }
   ],
   "source": [
    "dim(unique(AllgeneName_TF_LncRNA))"
   ]
  },
  {
   "cell_type": "markdown",
   "metadata": {},
   "source": [
    "# a function `geneMatchIndex` for find out those nodes that genes we want"
   ]
  },
  {
   "cell_type": "markdown",
   "metadata": {},
   "source": [
    "The format of geneMatchIndex is:\n",
    "\n",
    "`geneMatchIndex(gene, allGeneNode, FullMatch = 1, by = \"geneName\")`\n",
    "\n",
    ">**`gene`：** a vector, what genes you want to match.  \n",
    ">\n",
    ">**`allGeneNode`:**  `allGeneNode` is data you chose which one as your match. It must is one of `AllgeneName_TF_LncRNA`, `TFName`, `LncRNAName` and `AllgeneName`.  \n",
    ">\n",
    ">**`FullMatch = 1`** : This is as defaults. please set argument `FullMatch = 0` ,if you want use fuzzy match for those gene names contain strings of your input. \n",
    ">\n",
    ">**`by`** : one type of  `\"geneName\"`,  `\"NodeID\"`,   ` \"NodeLabel\"` and  `\"NodeNames\"`, it should be as your genes types.\n",
    "\n",
    "**Results**\n",
    "\n",
    "A list contains `TargetNodes` and `NoGeneIndex`.\n",
    "\n",
    "`TargetNodes` is a frame data of those matched in `allGeneNode`. `NoGeneIndex` is a vector included those didnot find out in `allGeneNode`. "
   ]
  },
  {
   "cell_type": "code",
   "execution_count": 13,
   "metadata": {},
   "outputs": [
    {
     "name": "stderr",
     "output_type": "stream",
     "text": [
      "Your code contains a unicode char which cannot be displayed in your\n",
      "current locale and R will silently convert it to an escaped form when the\n",
      "R kernel executes this code. This can lead to subtle errors if you use\n",
      "such chars to do comparisons. For more information, please see\n",
      "https://github.com/IRkernel/repr/wiki/Problems-with-unicode-on-windows"
     ]
    }
   ],
   "source": [
    "#----------------------------------------------------------------------------------------------------------------------\n",
    "#这是一个函数，用来匹配一个list的节点对应的id，基因名称等等\n",
    "\n",
    "#-----------grep或者which---------------------\n",
    "#-----------------------------------------\n",
    "#a function geneMatchIndex for find out those nodes that genes we want\n",
    "#一个函数用来查找gene在所有基因数据框内的对应位置和没有匹配的基因\n",
    "\n",
    "# allGeneNode is you chose which one as your match. It must is one of AllgeneName_TF_LncRNA, TFName, LncRNAName and AllgeneName.\n",
    "\n",
    "#This is as defaults. please set argument `FullMatch = 0` If you want use fuzzy match for those gene names contain strings of your input.\n",
    "#FullMatch默认为1，也就是说默认使用的是完全匹配的方式，找到的基因名称跟输入的是一模一样的\n",
    "#FullMatch如果是其他数字，则用grep的方式查找含有该字符串的基因位置\n",
    "\n",
    "#Result is a list includes a data frame of `TargetNodes` about genes and a vector `NoGeneIndex` about those genes not in GREG.\n",
    "#返回的是两个向量的list，geneIndex是对应基因的位置；NoGeneIndex是该基因在数据库中没有找到\n",
    "\n",
    "#The argument `by` must one of `\"geneName\"`,  `\"NodeID\"` ,   `\"NodeLabel\"` and `\"NodeNames\"`. It means the type of your input data.\n",
    "#第三个参数是指匹配的是哪个类型， 是属于基因名，还是节点id，节点的label和节点名称\n",
    "#第三个参数 即 \"geneName\"  \"NodeID\"    \"NodeLabel\" \"NodeNames\"\n",
    "\n",
    "geneMatchIndex = function(gene, allGeneNode, FullMatch = 1, by = \"geneName\"){\n",
    "  geneIndex = c() \n",
    "  NoGeneIndex =  c()\n",
    "  Ag = allGeneNode[by]\n",
    "  if (FullMatch == 1){\n",
    "    #----------which-----------------\n",
    "    for (i in 1:length(gene) ) {\n",
    "      geneIndex1 = which(Ag == gene[i] )\n",
    "      if (length(geneIndex1) == 0){NoGeneIndex = c(gene[i], NoGeneIndex)}\n",
    "      else{geneIndex = c(geneIndex,geneIndex1)}\n",
    "    }\n",
    "  }\n",
    "  \n",
    "  else{\n",
    "    #----------grep---------------\n",
    "    for (i in 1:length(gene) ) {\n",
    "      geneIndex1 = grep(gene[i],Ag, fixed = TRUE)\n",
    "      if (length(geneIndex1) == 0){NoGeneIndex = c(gene[i], NoGeneIndex)}\n",
    "      else{geneIndex = c(geneIndex,geneIndex1)}\n",
    "    }\n",
    "  }\n",
    "  \n",
    "  TargetNodes <- allGeneNode[geneIndex, ]\n",
    "  geneInGREG = list(TargetNodes, NoGeneIndex)\n",
    "  names(geneInGREG) = c(\"TargetNodes\", \"NoGeneIndex\")\n",
    "  #返回匹配上的TargetNodes和没有找到基因NoGeneIndex\n",
    "  return (geneInGREG )\n",
    "}\n",
    "\n",
    "\n",
    "#--------------geneMatchIndex函数说明--------------------------------------------------------------------------------------------------------\n",
    "#geneMatchIndex(gene, allGeneNode, FullMatch = 1, by = \"geneName\")\n",
    "#gene：你自己选择基因列表，可以使基因对应的节点id，也可以是基因名称，还可以是基因对应节点的Name属性。\n",
    "#allGeneNode #It must is one of AllgeneName_TF_LncRNA, TFName, LncRNAName and AllgeneName.\n",
    "#FullMatch = 1， 直接匹配；\n",
    "#by: 选择对应的类型 \"geneName\"  \"NodeID\"    \"NodeLabel\" \"NodeNames\"\n",
    "\n",
    "#返回匹配上的TargetNodes和没有找到基因NoGeneIndex\n",
    "#----------------------------------------------------------------------------------------------------------------------"
   ]
  },
  {
   "cell_type": "markdown",
   "metadata": {},
   "source": [
    "# Use cypher command to make modules for chr12\n"
   ]
  },
  {
   "cell_type": "markdown",
   "metadata": {},
   "source": [
    "## Make modules for chr12"
   ]
  },
  {
   "cell_type": "code",
   "execution_count": 14,
   "metadata": {},
   "outputs": [],
   "source": [
    "query = \"\n",
    "// to make louvain modules for chr12\n",
    "CALL algo.louvain.stream(\n",
    "  'MATCH (n:chr12)--(m) with id(n) as chr12,id(m) AS m   MATCH (al) where id(al) = m or  id(al) = chr12 with distinct al As al return id(al) as id',\n",
    "  'MATCH (n:chr12)-[r]-(m) RETURN id(n) AS source, id(m) AS target',\n",
    "  {graph:'cypher',direction: 'both'})\n",
    "YIELD nodeId, community\n",
    "\n",
    "MATCH (n)\n",
    "where id(n) = nodeId\n",
    "\n",
    "with collect (id(n)) AS AllnodeId, 'module'+community AS community, collect(n.Name) AS AllNodeNames\n",
    "RETURN AllnodeId, community, AllNodeNames, size(AllnodeId) AS size_of_allnode\n",
    "\""
   ]
  },
  {
   "cell_type": "code",
   "execution_count": 15,
   "metadata": {},
   "outputs": [],
   "source": [
    "mod1 = cypher(graph, query)"
   ]
  },
  {
   "cell_type": "code",
   "execution_count": 16,
   "metadata": {},
   "outputs": [
    {
     "data": {
      "text/html": [
       "'data.frame'"
      ],
      "text/latex": [
       "'data.frame'"
      ],
      "text/markdown": [
       "'data.frame'"
      ],
      "text/plain": [
       "[1] \"data.frame\""
      ]
     },
     "metadata": {},
     "output_type": "display_data"
    },
    {
     "data": {
      "text/html": [
       "<ol class=list-inline>\n",
       "\t<li>'AllnodeId'</li>\n",
       "\t<li>'community'</li>\n",
       "\t<li>'AllNodeNames'</li>\n",
       "\t<li>'size_of_allnode'</li>\n",
       "</ol>\n"
      ],
      "text/latex": [
       "\\begin{enumerate*}\n",
       "\\item 'AllnodeId'\n",
       "\\item 'community'\n",
       "\\item 'AllNodeNames'\n",
       "\\item 'size\\_of\\_allnode'\n",
       "\\end{enumerate*}\n"
      ],
      "text/markdown": [
       "1. 'AllnodeId'\n",
       "2. 'community'\n",
       "3. 'AllNodeNames'\n",
       "4. 'size_of_allnode'\n",
       "\n",
       "\n"
      ],
      "text/plain": [
       "[1] \"AllnodeId\"       \"community\"       \"AllNodeNames\"    \"size_of_allnode\""
      ]
     },
     "metadata": {},
     "output_type": "display_data"
    }
   ],
   "source": [
    "class(mod1)\n",
    "names(mod1)"
   ]
  },
  {
   "cell_type": "markdown",
   "metadata": {},
   "source": [
    "`AllnodeId` just is columns of nodes ids in each module. \n",
    "\n",
    "`community` is columns  of modules names.\n",
    "\n",
    "`AllNodeNames` is columns for all nodes those have `Name` properties.\n",
    "\n",
    "`size_of_allnode` is calculated by `AllnodeId`."
   ]
  },
  {
   "cell_type": "markdown",
   "metadata": {},
   "source": [
    "## How many modules(communities) in mod1?"
   ]
  },
  {
   "cell_type": "code",
   "execution_count": 17,
   "metadata": {
    "scrolled": true
   },
   "outputs": [
    {
     "data": {
      "text/html": [
       "50"
      ],
      "text/latex": [
       "50"
      ],
      "text/markdown": [
       "50"
      ],
      "text/plain": [
       "[1] 50"
      ]
     },
     "metadata": {},
     "output_type": "display_data"
    }
   ],
   "source": [
    "nrow(mod1)"
   ]
  },
  {
   "cell_type": "markdown",
   "metadata": {},
   "source": [
    "# Get all gene names/chr12 names/ TF names in each modules"
   ]
  },
  {
   "cell_type": "code",
   "execution_count": 18,
   "metadata": {},
   "outputs": [
    {
     "name": "stderr",
     "output_type": "stream",
     "text": [
      "Your code contains a unicode char which cannot be displayed in your\n",
      "current locale and R will silently convert it to an escaped form when the\n",
      "R kernel executes this code. This can lead to subtle errors if you use\n",
      "such chars to do comparisons. For more information, please see\n",
      "https://github.com/IRkernel/repr/wiki/Problems-with-unicode-on-windows"
     ]
    }
   ],
   "source": [
    "mod2 <- mod1\n",
    "\n",
    "#mod1_match_gene to save all match results.\n",
    "mod1_match_gene <- list() #用来存放每个模块nodeid匹配后对应的gene列表，里面包括\n",
    "for (i in 1:nrow(mod2)){\n",
    "  Mod_nodeId_list = unlist(mod1$AllnodeId[i])\n",
    "  Mod_nodes_list = geneMatchIndex(Mod_nodeId_list, AllgeneName_TF_LncRNA, FullMatch = 1, by = \"NodeID\")\n",
    "  Mod_gene_nodes_list = unique(Mod_nodes_list$TargetNodes) #得到每个模块nodeID匹配后基因的列表,加上一个unique来避免重复\n",
    "  \n",
    "  mod1_match_gene[[i]] <-  Mod_gene_nodes_list #保存匹配后的结果\n",
    "  \n",
    "  #Get all gene , TF and LncRNA names in each modules\n",
    "  mod2$allGeneTFLncRNA[[i]] <- unique(Mod_gene_nodes_list$geneName) #得到每个模块对应的基因数量，加上一个unique来避免重复\n",
    "  mod2$size_of_allGeneTFLncRNA[i] <- length(mod2$allGeneTFLncRNA[[i]])  #统计每个匹配后基因的数量\n",
    "  \n",
    "  #Get all chr12 names in each modules\n",
    "  mod2$allchr12Name[[i]] <- unique(Mod_gene_nodes_list$NodeNames[which(Mod_gene_nodes_list$NodeLabel == 'chr12')]) #获取每个模块里chr12的节点名称,加上一个unique来避免重复\n",
    "  mod2$size_of_allchr12Name[i] <- length(mod2$allchr12Name[[i]]) #统计每个模块匹配后chr12节点的数量\n",
    "  \n",
    "  #Get all TF names in each modules\n",
    "  mod2$AllTF[[i]] <- unique(Mod_gene_nodes_list$NodeNames[which(Mod_gene_nodes_list$NodeLabel == 'TF')]) ##获取每个模块里TF的节点名称,加上一个unique来避免重复\n",
    "  mod2$size_of_AllTF[i] <- length(mod2$AllTF[[i]]) #统计每个模块匹配后TF节点的数量\n",
    "}\n",
    "names(mod1_match_gene) <- mod2$community"
   ]
  },
  {
   "cell_type": "code",
   "execution_count": 19,
   "metadata": {},
   "outputs": [
    {
     "data": {
      "text/html": [
       "<ol class=list-inline>\n",
       "\t<li>'AllnodeId'</li>\n",
       "\t<li>'community'</li>\n",
       "\t<li>'AllNodeNames'</li>\n",
       "\t<li>'size_of_allnode'</li>\n",
       "\t<li>'allGeneTFLncRNA'</li>\n",
       "\t<li>'size_of_allGeneTFLncRNA'</li>\n",
       "\t<li>'allchr12Name'</li>\n",
       "\t<li>'size_of_allchr12Name'</li>\n",
       "\t<li>'AllTF'</li>\n",
       "\t<li>'size_of_AllTF'</li>\n",
       "</ol>\n"
      ],
      "text/latex": [
       "\\begin{enumerate*}\n",
       "\\item 'AllnodeId'\n",
       "\\item 'community'\n",
       "\\item 'AllNodeNames'\n",
       "\\item 'size\\_of\\_allnode'\n",
       "\\item 'allGeneTFLncRNA'\n",
       "\\item 'size\\_of\\_allGeneTFLncRNA'\n",
       "\\item 'allchr12Name'\n",
       "\\item 'size\\_of\\_allchr12Name'\n",
       "\\item 'AllTF'\n",
       "\\item 'size\\_of\\_AllTF'\n",
       "\\end{enumerate*}\n"
      ],
      "text/markdown": [
       "1. 'AllnodeId'\n",
       "2. 'community'\n",
       "3. 'AllNodeNames'\n",
       "4. 'size_of_allnode'\n",
       "5. 'allGeneTFLncRNA'\n",
       "6. 'size_of_allGeneTFLncRNA'\n",
       "7. 'allchr12Name'\n",
       "8. 'size_of_allchr12Name'\n",
       "9. 'AllTF'\n",
       "10. 'size_of_AllTF'\n",
       "\n",
       "\n"
      ],
      "text/plain": [
       " [1] \"AllnodeId\"               \"community\"              \n",
       " [3] \"AllNodeNames\"            \"size_of_allnode\"        \n",
       " [5] \"allGeneTFLncRNA\"         \"size_of_allGeneTFLncRNA\"\n",
       " [7] \"allchr12Name\"            \"size_of_allchr12Name\"   \n",
       " [9] \"AllTF\"                   \"size_of_AllTF\"          "
      ]
     },
     "metadata": {},
     "output_type": "display_data"
    }
   ],
   "source": [
    "names(mod2)"
   ]
  },
  {
   "cell_type": "code",
   "execution_count": 20,
   "metadata": {},
   "outputs": [],
   "source": [
    "#mod2[1,]"
   ]
  },
  {
   "cell_type": "markdown",
   "metadata": {},
   "source": [
    "# numbers of genes / chr12 node / all node in each community(module)"
   ]
  },
  {
   "cell_type": "code",
   "execution_count": 21,
   "metadata": {},
   "outputs": [
    {
     "name": "stderr",
     "output_type": "stream",
     "text": [
      "Your code contains a unicode char which cannot be displayed in your\n",
      "current locale and R will silently convert it to an escaped form when the\n",
      "R kernel executes this code. This can lead to subtle errors if you use\n",
      "such chars to do comparisons. For more information, please see\n",
      "https://github.com/IRkernel/repr/wiki/Problems-with-unicode-on-windowsRegistered S3 method overwritten by 'grid':\n",
      "  method     from  \n",
      "  print.path RNeo4j\n"
     ]
    }
   ],
   "source": [
    "#---define the backgroup of plot\n",
    "library(ggplot2)\n",
    "backgroup <-   theme(axis.text.x = element_text(vjust = 0.5, hjust = 1, angle = 90 ),\n",
    "                     plot.title = element_text(face =\"bold\" ,hjust = 0.5),\n",
    "                     panel.grid.major = element_blank(), #删除网格线\n",
    "                     panel.grid.minor = element_blank(), #删除网格线\n",
    "                     panel.background=element_rect(fill='transparent',color =\"gray\"))"
   ]
  },
  {
   "cell_type": "markdown",
   "metadata": {},
   "source": [
    "We chose data in the top 10 of `size_of_allGeneTFLncRNA` to plot."
   ]
  },
  {
   "cell_type": "code",
   "execution_count": 22,
   "metadata": {},
   "outputs": [
    {
     "name": "stderr",
     "output_type": "stream",
     "text": [
      "Your code contains a unicode char which cannot be displayed in your\n",
      "current locale and R will silently convert it to an escaped form when the\n",
      "R kernel executes this code. This can lead to subtle errors if you use\n",
      "such chars to do comparisons. For more information, please see\n",
      "https://github.com/IRkernel/repr/wiki/Problems-with-unicode-on-windows"
     ]
    },
    {
     "data": {
      "image/png": "[encoded data removed]",
      "text/plain": [
       "plot without title"
      ]
     },
     "metadata": {},
     "output_type": "display_data"
    }
   ],
   "source": [
    "mod2 <- mod2[order(-mod2[,'size_of_allGeneTFLncRNA']),]\n",
    "number_gene = mod2[,c('community','size_of_allGeneTFLncRNA')][1:10,]\n",
    "number_gene$type = rep('Gene/TF/LncRNA', nrow(number_gene))\n",
    "names(number_gene)[2] = 'count' \n",
    "\n",
    "number_chr12node = mod2[,c('community','size_of_allchr12Name')][1:10,]\n",
    "number_chr12node$type = rep('chr12Name', nrow(number_chr12node))\n",
    "names(number_chr12node)[2] = 'count'\n",
    "\n",
    "number_AllNode = mod2[,c('community','size_of_allnode')][1:10,]\n",
    "number_AllNode$type = rep('Allnode', nrow(number_AllNode))\n",
    "names(number_AllNode)[2] = 'count'\n",
    "\n",
    "number_gene_chr12node_AllNode = rbind(number_gene,number_chr12node,number_AllNode)\n",
    "\n",
    "library(ggplot2)\n",
    "ggplot(number_gene_chr12node_AllNode, aes(x = community, y = count,fill = type)) +\n",
    "  geom_bar(stat=\"identity\", position = 'dodge',width=0.8)+  ##identity意味着把y当做值去输入，如果改成bin，就会计算y出现的频数。dodge意味是各组是左右分布而不是上下重叠\n",
    "  labs(x=\"community(Modules)\",y = \"Number\")+\n",
    "  ggtitle(\"numbers of genes / chr12 node / all node in each community(module)\", ) + backgroup+\n",
    "  geom_text(aes(x = number_gene_chr12node_AllNode$community, \n",
    "                y = number_gene_chr12node_AllNode$count,\n",
    "                group = number_gene_chr12node_AllNode$type, \n",
    "                label=number_gene_chr12node_AllNode$count), position=position_dodge(0.8),hjust=0.5, size = 2, vjust = -0.5)"
   ]
  },
  {
   "cell_type": "code",
   "execution_count": 24,
   "metadata": {},
   "outputs": [],
   "source": [
    "save(AllgeneName,TFName,LncRNAName,AllgeneName_TF_LncRNA, mod1,mod2, file = \"moduleForchr12.RData\")"
   ]
  },
  {
   "cell_type": "code",
   "execution_count": null,
   "metadata": {},
   "outputs": [],
   "source": []
  },
  {
   "cell_type": "code",
   "execution_count": null,
   "metadata": {},
   "outputs": [],
   "source": []
  }
 ],
 "metadata": {
  "kernelspec": {
   "display_name": "R",
   "language": "R",
   "name": "ir"
  },
  "language_info": {
   "codemirror_mode": "r",
   "file_extension": ".r",
   "mimetype": "text/x-r-source",
   "name": "R",
   "pygments_lexer": "r",
   "version": "3.6.1"
  },
  "toc": {
   "base_numbering": 1,
   "nav_menu": {},
   "number_sections": true,
   "sideBar": true,
   "skip_h1_title": false,
   "title_cell": "Table of Contents",
   "title_sidebar": "Contents",
   "toc_cell": false,
   "toc_position": {},
   "toc_section_display": true,
   "toc_window_display": false
  }
 },
 "nbformat": 4,
 "nbformat_minor": 2
}
