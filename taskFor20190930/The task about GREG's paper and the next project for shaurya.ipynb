{
 "cells": [
  {
   "cell_type": "markdown",
   "metadata": {},
   "source": [
    "This task uses GREG Bigbin as database.\n",
    "At first, we still need to start neo4j/GREG, if you don't know how to do it, please refer to [my workshop2 about graph Algorithms](https://nbviewer.jupyter.org/github/xiaowei3223/GREGgraphAlgorithms/blob/master/workshop2/GREG_Algorithms.ipynb) to learn for start neo4j/GREG."
   ]
  },
  {
   "cell_type": "markdown",
   "metadata": {},
   "source": [
    "[1. Number of nodes of each type (TF, chr1, etc)](#1)\n",
    "\n",
    "[2. Number of relationships of each type (bind, etc)](#2)\n",
    "\n",
    "[3. List of hubs for chr12 (a hub is a node with a high degree)](#3)\n",
    "\n",
    "[4. Degree distribution for chr12 (GREG-min)](#4)\n",
    "\n",
    "[5. Modules for chromosome 12](#5)\n",
    "\n",
    "[6. Annotate all modules with the genes they contain in their bins](#6)"
   ]
  },
  {
   "cell_type": "markdown",
   "metadata": {},
   "source": [
    "Now, we use `RNeo4j` package to get all the results of the task."
   ]
  },
  {
   "cell_type": "code",
   "execution_count": 3,
   "metadata": {},
   "outputs": [],
   "source": [
    "#connect neo4j with RNeo4j\n",
    "library(RNeo4j)\n",
    "\n",
    "graph = startGraph(\"http://localhost:7474/db/data/\", username=\"neo4j\", password=\"xiaowei\")"
   ]
  },
  {
   "cell_type": "markdown",
   "metadata": {},
   "source": [
    "<h1 id='1'>1. Number of nodes of each type (TF, chr1, etc)<h1>"
   ]
  },
  {
   "cell_type": "code",
   "execution_count": 4,
   "metadata": {},
   "outputs": [],
   "source": [
    "query = \"MATCH (n) RETURN distinct labels(n), count(labels(n)) as count\"\n",
    "labels <- cypher(graph,query)"
   ]
  },
  {
   "cell_type": "code",
   "execution_count": 5,
   "metadata": {},
   "outputs": [
    {
     "data": {
      "text/html": [
       "<table>\n",
       "<caption>A data.frame: 50 × 2</caption>\n",
       "<thead>\n",
       "\t<tr><th scope=col>labels(n)</th><th scope=col>count(labels(n))</th></tr>\n",
       "\t<tr><th scope=col>&lt;chr&gt;</th><th scope=col>&lt;int&gt;</th></tr>\n",
       "</thead>\n",
       "<tbody>\n",
       "\t<tr><td>chr1       </td><td>  1245</td></tr>\n",
       "\t<tr><td>chr2       </td><td>  1211</td></tr>\n",
       "\t<tr><td>chr3       </td><td>   992</td></tr>\n",
       "\t<tr><td>chr4       </td><td>   951</td></tr>\n",
       "\t<tr><td>chr5       </td><td>   908</td></tr>\n",
       "\t<tr><td>chr6       </td><td>   854</td></tr>\n",
       "\t<tr><td>chr7       </td><td>   797</td></tr>\n",
       "\t<tr><td>chr8       </td><td>   726</td></tr>\n",
       "\t<tr><td>chr9       </td><td>   692</td></tr>\n",
       "\t<tr><td>chr10      </td><td>   669</td></tr>\n",
       "\t<tr><td>chr11      </td><td>   676</td></tr>\n",
       "\t<tr><td>chr12      </td><td>   667</td></tr>\n",
       "\t<tr><td>chr13      </td><td>   572</td></tr>\n",
       "\t<tr><td>chr14      </td><td>   535</td></tr>\n",
       "\t<tr><td>chr15      </td><td>   510</td></tr>\n",
       "\t<tr><td>chr16      </td><td>   452</td></tr>\n",
       "\t<tr><td>chr17      </td><td>   417</td></tr>\n",
       "\t<tr><td>chr18      </td><td>   402</td></tr>\n",
       "\t<tr><td>chr19      </td><td>   293</td></tr>\n",
       "\t<tr><td>chr20      </td><td>   322</td></tr>\n",
       "\t<tr><td>chr21      </td><td>   234</td></tr>\n",
       "\t<tr><td>chr22      </td><td>   255</td></tr>\n",
       "\t<tr><td>chrX       </td><td>   781</td></tr>\n",
       "\t<tr><td>chrY       </td><td>   287</td></tr>\n",
       "\t<tr><td>TF         </td><td>   261</td></tr>\n",
       "\t<tr><td>chr1_Range </td><td>127334</td></tr>\n",
       "\t<tr><td>chr2_Range </td><td>106646</td></tr>\n",
       "\t<tr><td>chr3_Range </td><td> 77198</td></tr>\n",
       "\t<tr><td>chr4_Range </td><td> 47295</td></tr>\n",
       "\t<tr><td>chr5_Range </td><td> 66077</td></tr>\n",
       "\t<tr><td>chr6_Range </td><td> 76812</td></tr>\n",
       "\t<tr><td>chr7_Range </td><td> 58335</td></tr>\n",
       "\t<tr><td>chr8_Range </td><td> 56539</td></tr>\n",
       "\t<tr><td>chr9_Range </td><td> 54826</td></tr>\n",
       "\t<tr><td>chr10_Range</td><td> 61085</td></tr>\n",
       "\t<tr><td>chr11_Range</td><td> 66916</td></tr>\n",
       "\t<tr><td>chr12_Range</td><td> 62708</td></tr>\n",
       "\t<tr><td>chr13_Range</td><td> 26761</td></tr>\n",
       "\t<tr><td>chr14_Range</td><td> 40299</td></tr>\n",
       "\t<tr><td>chr15_Range</td><td> 47826</td></tr>\n",
       "\t<tr><td>chr16_Range</td><td> 45602</td></tr>\n",
       "\t<tr><td>chr17_Range</td><td> 64562</td></tr>\n",
       "\t<tr><td>chr18_Range</td><td> 25941</td></tr>\n",
       "\t<tr><td>chr19_Range</td><td> 37520</td></tr>\n",
       "\t<tr><td>chr20_Range</td><td> 37620</td></tr>\n",
       "\t<tr><td>chr21_Range</td><td> 18740</td></tr>\n",
       "\t<tr><td>chr22_Range</td><td> 26476</td></tr>\n",
       "\t<tr><td>chrX_Range </td><td> 17992</td></tr>\n",
       "\t<tr><td>chrY_Range </td><td>   169</td></tr>\n",
       "\t<tr><td>LncRNA     </td><td> 21098</td></tr>\n",
       "</tbody>\n",
       "</table>\n"
      ],
      "text/latex": [
       "A data.frame: 50 × 2\n",
       "\\begin{tabular}{r|ll}\n",
       " labels(n) & count(labels(n))\\\\\n",
       " <chr> & <int>\\\\\n",
       "\\hline\n",
       "\t chr1        &   1245\\\\\n",
       "\t chr2        &   1211\\\\\n",
       "\t chr3        &    992\\\\\n",
       "\t chr4        &    951\\\\\n",
       "\t chr5        &    908\\\\\n",
       "\t chr6        &    854\\\\\n",
       "\t chr7        &    797\\\\\n",
       "\t chr8        &    726\\\\\n",
       "\t chr9        &    692\\\\\n",
       "\t chr10       &    669\\\\\n",
       "\t chr11       &    676\\\\\n",
       "\t chr12       &    667\\\\\n",
       "\t chr13       &    572\\\\\n",
       "\t chr14       &    535\\\\\n",
       "\t chr15       &    510\\\\\n",
       "\t chr16       &    452\\\\\n",
       "\t chr17       &    417\\\\\n",
       "\t chr18       &    402\\\\\n",
       "\t chr19       &    293\\\\\n",
       "\t chr20       &    322\\\\\n",
       "\t chr21       &    234\\\\\n",
       "\t chr22       &    255\\\\\n",
       "\t chrX        &    781\\\\\n",
       "\t chrY        &    287\\\\\n",
       "\t TF          &    261\\\\\n",
       "\t chr1\\_Range  & 127334\\\\\n",
       "\t chr2\\_Range  & 106646\\\\\n",
       "\t chr3\\_Range  &  77198\\\\\n",
       "\t chr4\\_Range  &  47295\\\\\n",
       "\t chr5\\_Range  &  66077\\\\\n",
       "\t chr6\\_Range  &  76812\\\\\n",
       "\t chr7\\_Range  &  58335\\\\\n",
       "\t chr8\\_Range  &  56539\\\\\n",
       "\t chr9\\_Range  &  54826\\\\\n",
       "\t chr10\\_Range &  61085\\\\\n",
       "\t chr11\\_Range &  66916\\\\\n",
       "\t chr12\\_Range &  62708\\\\\n",
       "\t chr13\\_Range &  26761\\\\\n",
       "\t chr14\\_Range &  40299\\\\\n",
       "\t chr15\\_Range &  47826\\\\\n",
       "\t chr16\\_Range &  45602\\\\\n",
       "\t chr17\\_Range &  64562\\\\\n",
       "\t chr18\\_Range &  25941\\\\\n",
       "\t chr19\\_Range &  37520\\\\\n",
       "\t chr20\\_Range &  37620\\\\\n",
       "\t chr21\\_Range &  18740\\\\\n",
       "\t chr22\\_Range &  26476\\\\\n",
       "\t chrX\\_Range  &  17992\\\\\n",
       "\t chrY\\_Range  &    169\\\\\n",
       "\t LncRNA      &  21098\\\\\n",
       "\\end{tabular}\n"
      ],
      "text/markdown": [
       "\n",
       "A data.frame: 50 × 2\n",
       "\n",
       "| labels(n) &lt;chr&gt; | count(labels(n)) &lt;int&gt; |\n",
       "|---|---|\n",
       "| chr1        |   1245 |\n",
       "| chr2        |   1211 |\n",
       "| chr3        |    992 |\n",
       "| chr4        |    951 |\n",
       "| chr5        |    908 |\n",
       "| chr6        |    854 |\n",
       "| chr7        |    797 |\n",
       "| chr8        |    726 |\n",
       "| chr9        |    692 |\n",
       "| chr10       |    669 |\n",
       "| chr11       |    676 |\n",
       "| chr12       |    667 |\n",
       "| chr13       |    572 |\n",
       "| chr14       |    535 |\n",
       "| chr15       |    510 |\n",
       "| chr16       |    452 |\n",
       "| chr17       |    417 |\n",
       "| chr18       |    402 |\n",
       "| chr19       |    293 |\n",
       "| chr20       |    322 |\n",
       "| chr21       |    234 |\n",
       "| chr22       |    255 |\n",
       "| chrX        |    781 |\n",
       "| chrY        |    287 |\n",
       "| TF          |    261 |\n",
       "| chr1_Range  | 127334 |\n",
       "| chr2_Range  | 106646 |\n",
       "| chr3_Range  |  77198 |\n",
       "| chr4_Range  |  47295 |\n",
       "| chr5_Range  |  66077 |\n",
       "| chr6_Range  |  76812 |\n",
       "| chr7_Range  |  58335 |\n",
       "| chr8_Range  |  56539 |\n",
       "| chr9_Range  |  54826 |\n",
       "| chr10_Range |  61085 |\n",
       "| chr11_Range |  66916 |\n",
       "| chr12_Range |  62708 |\n",
       "| chr13_Range |  26761 |\n",
       "| chr14_Range |  40299 |\n",
       "| chr15_Range |  47826 |\n",
       "| chr16_Range |  45602 |\n",
       "| chr17_Range |  64562 |\n",
       "| chr18_Range |  25941 |\n",
       "| chr19_Range |  37520 |\n",
       "| chr20_Range |  37620 |\n",
       "| chr21_Range |  18740 |\n",
       "| chr22_Range |  26476 |\n",
       "| chrX_Range  |  17992 |\n",
       "| chrY_Range  |    169 |\n",
       "| LncRNA      |  21098 |\n",
       "\n"
      ],
      "text/plain": [
       "   labels(n)   count(labels(n))\n",
       "1  chr1          1245          \n",
       "2  chr2          1211          \n",
       "3  chr3           992          \n",
       "4  chr4           951          \n",
       "5  chr5           908          \n",
       "6  chr6           854          \n",
       "7  chr7           797          \n",
       "8  chr8           726          \n",
       "9  chr9           692          \n",
       "10 chr10          669          \n",
       "11 chr11          676          \n",
       "12 chr12          667          \n",
       "13 chr13          572          \n",
       "14 chr14          535          \n",
       "15 chr15          510          \n",
       "16 chr16          452          \n",
       "17 chr17          417          \n",
       "18 chr18          402          \n",
       "19 chr19          293          \n",
       "20 chr20          322          \n",
       "21 chr21          234          \n",
       "22 chr22          255          \n",
       "23 chrX           781          \n",
       "24 chrY           287          \n",
       "25 TF             261          \n",
       "26 chr1_Range  127334          \n",
       "27 chr2_Range  106646          \n",
       "28 chr3_Range   77198          \n",
       "29 chr4_Range   47295          \n",
       "30 chr5_Range   66077          \n",
       "31 chr6_Range   76812          \n",
       "32 chr7_Range   58335          \n",
       "33 chr8_Range   56539          \n",
       "34 chr9_Range   54826          \n",
       "35 chr10_Range  61085          \n",
       "36 chr11_Range  66916          \n",
       "37 chr12_Range  62708          \n",
       "38 chr13_Range  26761          \n",
       "39 chr14_Range  40299          \n",
       "40 chr15_Range  47826          \n",
       "41 chr16_Range  45602          \n",
       "42 chr17_Range  64562          \n",
       "43 chr18_Range  25941          \n",
       "44 chr19_Range  37520          \n",
       "45 chr20_Range  37620          \n",
       "46 chr21_Range  18740          \n",
       "47 chr22_Range  26476          \n",
       "48 chrX_Range   17992          \n",
       "49 chrY_Range     169          \n",
       "50 LncRNA       21098          "
      ]
     },
     "metadata": {},
     "output_type": "display_data"
    }
   ],
   "source": [
    "labels"
   ]
  },
  {
   "cell_type": "code",
   "execution_count": null,
   "metadata": {},
   "outputs": [],
   "source": [
    "write.csv(labels, file = \"labels.csv\", sep=\",\",quote = F, col.names = TRUE, row.names = FALSE)"
   ]
  },
  {
   "cell_type": "markdown",
   "metadata": {},
   "source": [
    "<h1 id='2'>2. Number of relationships of each type (bind, etc)<h1>"
   ]
  },
  {
   "cell_type": "code",
   "execution_count": 8,
   "metadata": {},
   "outputs": [],
   "source": [
    "query = \"MATCH ()-[r]->() RETURN type(r), count(*) as count;\"\n",
    "relationshipType <- RNeo4j::cypher(graph,query)"
   ]
  },
  {
   "cell_type": "code",
   "execution_count": 9,
   "metadata": {},
   "outputs": [
    {
     "data": {
      "text/html": [
       "<table>\n",
       "<caption>A data.frame: 3 × 2</caption>\n",
       "<thead>\n",
       "\t<tr><th scope=col>type(r)</th><th scope=col>count</th></tr>\n",
       "\t<tr><th scope=col>&lt;chr&gt;</th><th scope=col>&lt;int&gt;</th></tr>\n",
       "</thead>\n",
       "<tbody>\n",
       "\t<tr><td>Bind       </td><td>2372086</td></tr>\n",
       "\t<tr><td>Interaction</td><td>1781980</td></tr>\n",
       "\t<tr><td>Inclusion  </td><td>1322494</td></tr>\n",
       "</tbody>\n",
       "</table>\n"
      ],
      "text/latex": [
       "A data.frame: 3 × 2\n",
       "\\begin{tabular}{r|ll}\n",
       " type(r) & count\\\\\n",
       " <chr> & <int>\\\\\n",
       "\\hline\n",
       "\t Bind        & 2372086\\\\\n",
       "\t Interaction & 1781980\\\\\n",
       "\t Inclusion   & 1322494\\\\\n",
       "\\end{tabular}\n"
      ],
      "text/markdown": [
       "\n",
       "A data.frame: 3 × 2\n",
       "\n",
       "| type(r) &lt;chr&gt; | count &lt;int&gt; |\n",
       "|---|---|\n",
       "| Bind        | 2372086 |\n",
       "| Interaction | 1781980 |\n",
       "| Inclusion   | 1322494 |\n",
       "\n"
      ],
      "text/plain": [
       "  type(r)     count  \n",
       "1 Bind        2372086\n",
       "2 Interaction 1781980\n",
       "3 Inclusion   1322494"
      ]
     },
     "metadata": {},
     "output_type": "display_data"
    }
   ],
   "source": [
    "relationshipType"
   ]
  },
  {
   "cell_type": "markdown",
   "metadata": {},
   "source": [
    "<h1 id='3'>3. List of hubs for chr12 (a hub is a node with a high degree)<h1>"
   ]
  },
  {
   "cell_type": "code",
   "execution_count": 30,
   "metadata": {},
   "outputs": [],
   "source": [
    "query = \"\n",
    "CALL algo.degree.stream(\n",
    "  'MATCH (n:chr12)-[r]-(m) with {m,n} as chr12_And_rel',\n",
    "  'Bind | Interaction',\n",
    "  {direction: 'both'})\n",
    "YIELD nodeId, score\n",
    "with algo.asNode(nodeId).Name AS chr12_And_rel, score\n",
    "MATCH (chr12:chr12)\n",
    "where chr12.Name = chr12_And_rel and score > 0\n",
    "RETURN chr12.Name AS Name, score as degree\n",
    "ORDER By score DESC\n",
    "\"\n",
    "chr12_hubs <- cypher(graph, query)"
   ]
  },
  {
   "cell_type": "code",
   "execution_count": 31,
   "metadata": {
    "scrolled": true
   },
   "outputs": [
    {
     "data": {
      "text/html": [
       "<table>\n",
       "<caption>A data.frame: 6 × 2</caption>\n",
       "<thead>\n",
       "\t<tr><th scope=col>Name</th><th scope=col>degree</th></tr>\n",
       "\t<tr><th scope=col>&lt;chr&gt;</th><th scope=col>&lt;dbl&gt;</th></tr>\n",
       "</thead>\n",
       "<tbody>\n",
       "\t<tr><td>Bin314</td><td>780</td></tr>\n",
       "\t<tr><td>Bin321</td><td>700</td></tr>\n",
       "\t<tr><td>Bin175</td><td>697</td></tr>\n",
       "\t<tr><td>Bin344</td><td>687</td></tr>\n",
       "\t<tr><td>Bin247</td><td>678</td></tr>\n",
       "\t<tr><td>Bin428</td><td>674</td></tr>\n",
       "</tbody>\n",
       "</table>\n"
      ],
      "text/latex": [
       "A data.frame: 6 × 2\n",
       "\\begin{tabular}{r|ll}\n",
       " Name & degree\\\\\n",
       " <chr> & <dbl>\\\\\n",
       "\\hline\n",
       "\t Bin314 & 780\\\\\n",
       "\t Bin321 & 700\\\\\n",
       "\t Bin175 & 697\\\\\n",
       "\t Bin344 & 687\\\\\n",
       "\t Bin247 & 678\\\\\n",
       "\t Bin428 & 674\\\\\n",
       "\\end{tabular}\n"
      ],
      "text/markdown": [
       "\n",
       "A data.frame: 6 × 2\n",
       "\n",
       "| Name &lt;chr&gt; | degree &lt;dbl&gt; |\n",
       "|---|---|\n",
       "| Bin314 | 780 |\n",
       "| Bin321 | 700 |\n",
       "| Bin175 | 697 |\n",
       "| Bin344 | 687 |\n",
       "| Bin247 | 678 |\n",
       "| Bin428 | 674 |\n",
       "\n"
      ],
      "text/plain": [
       "  Name   degree\n",
       "1 Bin314 780   \n",
       "2 Bin321 700   \n",
       "3 Bin175 697   \n",
       "4 Bin344 687   \n",
       "5 Bin247 678   \n",
       "6 Bin428 674   "
      ]
     },
     "metadata": {},
     "output_type": "display_data"
    }
   ],
   "source": [
    "head(chr12_hubs)"
   ]
  },
  {
   "cell_type": "code",
   "execution_count": 32,
   "metadata": {},
   "outputs": [
    {
     "data": {
      "text/html": [
       "<ol class=list-inline>\n",
       "\t<li>12167</li>\n",
       "\t<li>2</li>\n",
       "</ol>\n"
      ],
      "text/latex": [
       "\\begin{enumerate*}\n",
       "\\item 12167\n",
       "\\item 2\n",
       "\\end{enumerate*}\n"
      ],
      "text/markdown": [
       "1. 12167\n",
       "2. 2\n",
       "\n",
       "\n"
      ],
      "text/plain": [
       "[1] 12167     2"
      ]
     },
     "metadata": {},
     "output_type": "display_data"
    }
   ],
   "source": [
    "dim(chr12_hubs)"
   ]
  },
  {
   "cell_type": "code",
   "execution_count": null,
   "metadata": {},
   "outputs": [],
   "source": [
    "write.table(chr12_hubs, file = \"chr12_hubs.csv\",sep=\",\",quote = F, col.names = TRUE, row.names = FALSE)"
   ]
  },
  {
   "cell_type": "markdown",
   "metadata": {},
   "source": [
    "<h1 id='4'>4. Degree distribution for chr12 <h1>"
   ]
  },
  {
   "cell_type": "code",
   "execution_count": 36,
   "metadata": {},
   "outputs": [
    {
     "data": {
      "image/png": "[encoded data removed]",
      "text/plain": [
       "Plot with title \"Degree distribution for chr12\""
      ]
     },
     "metadata": {},
     "output_type": "display_data"
    }
   ],
   "source": [
    "distribution <- table(chr12_hubs$degree)\n",
    "plot(distribution,\n",
    "     #xlim = c(0,500),\n",
    "     ylim = c(0,70),\n",
    "     xlab = \"Degree\", \n",
    "     ylab = \"Frequency\",\n",
    "     main = \"Degree distribution for chr12\")\n",
    "\n",
    "abline(h=max(distribution), col=\"red\")"
   ]
  },
  {
   "cell_type": "code",
   "execution_count": 37,
   "metadata": {},
   "outputs": [
    {
     "data": {
      "text/html": [
       "68"
      ],
      "text/latex": [
       "68"
      ],
      "text/markdown": [
       "68"
      ],
      "text/plain": [
       "[1] 68"
      ]
     },
     "metadata": {},
     "output_type": "display_data"
    }
   ],
   "source": [
    "max(distribution)"
   ]
  },
  {
   "cell_type": "code",
   "execution_count": 38,
   "metadata": {},
   "outputs": [
    {
     "data": {
      "text/html": [
       "20"
      ],
      "text/latex": [
       "20"
      ],
      "text/markdown": [
       "20"
      ],
      "text/plain": [
       "[1] 20"
      ]
     },
     "metadata": {},
     "output_type": "display_data"
    }
   ],
   "source": [
    "median(distribution)"
   ]
  },
  {
   "cell_type": "code",
   "execution_count": null,
   "metadata": {},
   "outputs": [],
   "source": []
  },
  {
   "cell_type": "markdown",
   "metadata": {},
   "source": [
    "<h1 id='5'>5. Modules for chromosome 12<h1>"
   ]
  },
  {
   "cell_type": "code",
   "execution_count": null,
   "metadata": {},
   "outputs": [],
   "source": [
    "# To know the numbers of modules ----------------\n",
    "query = \"CALL algo.louvain(\n",
    "          'MATCH (n:chr12)-[r]-(m) with {m,n} as chr12_And_rel',\n",
    "          'Bind | Interaction',\n",
    "          {direction: 'both'})\n",
    "        YIELD nodes, communityCount\"\n",
    "cypher(graph, query)  #Results： nodes:1288086 communityCount:23929"
   ]
  },
  {
   "cell_type": "code",
   "execution_count": 39,
   "metadata": {},
   "outputs": [],
   "source": [
    "query = \"\n",
    "CALL algo.louvain.stream(\n",
    "          'MATCH (n:chr12)-[r]-(m) with {m,n} as chr12_And_rel',\n",
    "          'Bind | Interaction',\n",
    "          {direction: 'both'})\n",
    "YIELD nodeId, community\n",
    "RETURN collect(algo.asNode(nodeId).Name) AS　Name, community\n",
    "ORDER BY size(Name) DESC\n",
    "\"\n",
    "module_chr12_total = cypher(graph, query) "
   ]
  },
  {
   "cell_type": "code",
   "execution_count": null,
   "metadata": {},
   "outputs": [],
   "source": []
  },
  {
   "cell_type": "code",
   "execution_count": null,
   "metadata": {},
   "outputs": [],
   "source": []
  },
  {
   "cell_type": "code",
   "execution_count": null,
   "metadata": {},
   "outputs": [],
   "source": []
  },
  {
   "cell_type": "code",
   "execution_count": null,
   "metadata": {},
   "outputs": [],
   "source": [
    "write.table(module_chr12_total,file = \"module_chr12_total.csv\",sep=\",\",quote = F, col.names = TRUE, row.names = FALSE)"
   ]
  },
  {
   "cell_type": "markdown",
   "metadata": {},
   "source": [
    "<h1 id='6'>6. Annotate all modules with the genes they contain in their bins<h1>"
   ]
  },
  {
   "cell_type": "code",
   "execution_count": 40,
   "metadata": {},
   "outputs": [],
   "source": [
    "query = \"\n",
    "// to make louvain modules for chr12\n",
    "CALL algo.louvain.stream(\n",
    "          'MATCH (n:chr12)-[r]-(m) with {m,n} as chr12_And_rel',\n",
    "          'Bind | Interaction',\n",
    "          {direction: 'both'})\n",
    "YIELD nodeId, community\n",
    "with algo.asNode(nodeId).Details AS　Details, community\n",
    "\n",
    "// filter the number of community(Details) > 1 and split details\n",
    "//where size(Details) > 1 \n",
    "with split(Details, ';') as ann, community\n",
    "\n",
    "// then ann is list, we need unlist ann for strings search\n",
    "UNWIND (ann) as ann1\n",
    "with DISTINCT ann1 as ann1, community\n",
    "\n",
    "// now we want to find out which one terms including gene_name in ann1\n",
    "where ann1 contains 'gene_name'\n",
    "with ann1 as genelist, community\n",
    "\n",
    "// And we can extract the text about real gene names\n",
    "return distinct substring(genelist, 11) as genelist, community\n",
    "\"\n",
    "\n",
    "module_chr12 = cypher(graph, query) "
   ]
  },
  {
   "cell_type": "code",
   "execution_count": null,
   "metadata": {},
   "outputs": [],
   "source": []
  },
  {
   "cell_type": "code",
   "execution_count": 41,
   "metadata": {},
   "outputs": [],
   "source": [
    "query = \"\n",
    "// to make louvain modules for chr12\n",
    "CALL algo.louvain.stream(\n",
    "          'MATCH (n:chr12)-[r]-(m) with {m,n} as chr12_And_rel',\n",
    "          'Bind | Interaction',\n",
    "          {direction: 'both'})\n",
    "YIELD nodeId, community\n",
    "with algo.asNode(nodeId).Details AS　Details, community\n",
    "\n",
    "// filter the number of community(Details) > 1 and split details\n",
    "//where size(Details) > 1 \n",
    "with split(Details, ';') as ann, community\n",
    "\n",
    "// then ann is list, we need unlist ann for strings search\n",
    "UNWIND (ann) as ann1\n",
    "with DISTINCT ann1 as ann1, community\n",
    "\n",
    "// now we want to find out which one terms including gene_name in ann1\n",
    "where ann1 contains 'gene_name'\n",
    "with ann1 as genelist, community\n",
    "\n",
    "// And we can extract the text about real gene names\n",
    "return collect( distinct substring(genelist, 11) ) as genelist, community\n",
    "\"\n",
    "\n",
    "module_chr12_list = RNeo4j::cypher(graph, query)"
   ]
  },
  {
   "cell_type": "code",
   "execution_count": null,
   "metadata": {},
   "outputs": [],
   "source": [
    "write.table(module_chr12_list, file = \"module_chr12_list.csv\" ,sep=\",\",quote = F, col.names = TRUE, row.names = FALSE)"
   ]
  },
  {
   "cell_type": "code",
   "execution_count": null,
   "metadata": {},
   "outputs": [],
   "source": []
  }
 ],
 "metadata": {
  "kernelspec": {
   "display_name": "R",
   "language": "R",
   "name": "ir"
  },
  "language_info": {
   "codemirror_mode": "r",
   "file_extension": ".r",
   "mimetype": "text/x-r-source",
   "name": "R",
   "pygments_lexer": "r",
   "version": "3.6.1"
  },
  "toc": {
   "base_numbering": 1,
   "nav_menu": {},
   "number_sections": true,
   "sideBar": true,
   "skip_h1_title": false,
   "title_cell": "Table of Contents",
   "title_sidebar": "Contents",
   "toc_cell": false,
   "toc_position": {},
   "toc_section_display": true,
   "toc_window_display": false
  }
 },
 "nbformat": 4,
 "nbformat_minor": 2
}
