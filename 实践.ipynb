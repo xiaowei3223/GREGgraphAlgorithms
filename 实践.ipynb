{
 "cells": [
  {
   "cell_type": "markdown",
   "metadata": {},
   "source": [
    "用我自己的数据库"
   ]
  },
  {
   "cell_type": "markdown",
   "metadata": {},
   "source": [
    "删除之间多建的却没有用到的node（就是删除除了前面4500个基因其他的基因）"
   ]
  },
  {
   "cell_type": "raw",
   "metadata": {},
   "source": [
    "LOAD CSV WITH HEADERS FROM \"file:///rawdata_delete.csv\" as row\n",
    "Match (p:node)\n",
    "where p.name = row.SYMBOL\n",
    "delete p"
   ]
  },
  {
   "cell_type": "markdown",
   "metadata": {},
   "source": [
    "# Shortest Path"
   ]
  },
  {
   "cell_type": "markdown",
   "metadata": {},
   "source": [
    "## Shortest Path"
   ]
  },
  {
   "cell_type": "raw",
   "metadata": {},
   "source": [
    "CALL algo.shortestPaths.stream(startNode:Node,\n",
    "                        weightProperty:String\n",
    "                        {nodeQuery:'labelName', \n",
    "                        relationshipQuery:'relationshipName', \n",
    "                        defaultValue:1.0}) \n",
    "YIELD nodeId, distance\n",
    "\n",
    "\n",
    "- yields a stream of {nodeId, cost} from start to end (inclusive)\n"
   ]
  },
  {
   "cell_type": "raw",
   "metadata": {},
   "source": [
    "MATCH (source:node{name:\"Gm6793\"}) ,\n",
    "\t(destination:node{name:\"Alkal1\"})\n",
    "CALL algo.shortestPath.stream(source,destination,null)\n",
    "YIELD nodeId, cost\n",
    "RETURN algo.getNodeById(nodeId).name AS SYMBOL, cost"
   ]
  },
  {
   "cell_type": "markdown",
   "metadata": {},
   "source": [
    "## All Pairs Shortest Path "
   ]
  },
  {
   "cell_type": "raw",
   "metadata": {},
   "source": [
    "CALL algo.allShortestPaths.stream( weightProperty: String\n",
    "                       {nodeQuery:'labelName', \t\n",
    "                       relationshipQuery:'relationshipName',\n",
    "                       defaultValue:1.0, \n",
    "                       concurrency:4}) \n",
    "YIELD sourceNodeId, targetNodeId, distance - yields a stream of {sourceNodeId, targetNodeId, distance}\n"
   ]
  },
  {
   "cell_type": "raw",
   "metadata": {},
   "source": [
    "CALL algo.allShortestPaths.stream(null)\n",
    "YIELD sourceNodeId, targetNodeId, distance\n",
    "WHERE sourceNodeId < targetNodeId\n",
    "RETURN algo.getNodeById(sourceNodeId).name AS source,\n",
    "algo.getNodeById(targetNodeId).name AS target,\n",
    "distance\n",
    "ORDER BY distance DESC\n",
    "LIMIT 10"
   ]
  },
  {
   "cell_type": "markdown",
   "metadata": {},
   "source": [
    "# centrality"
   ]
  },
  {
   "cell_type": "markdown",
   "metadata": {},
   "source": [
    "**计算每个节点的贴近度中心性**\n"
   ]
  },
  {
   "cell_type": "markdown",
   "metadata": {},
   "source": [
    "## Closeness Centrality"
   ]
  },
  {
   "cell_type": "raw",
   "metadata": {},
   "source": [
    "CALL algo.closeness.stream(\"node\", \"day3\")\n",
    "YIELD nodeId, centrality\n",
    "RETURN algo.getNodeById(nodeId).name, centrality\n",
    "ORDER BY centrality DESC"
   ]
  },
  {
   "cell_type": "markdown",
   "metadata": {},
   "source": [
    "## Closeness Centrality Variation: Wasserman and Faust\n"
   ]
  },
  {
   "cell_type": "raw",
   "metadata": {},
   "source": [
    "CALL algo.closeness.stream(\"node\", \"day3\", {improved: true})\n",
    "YIELD nodeId, centrality\n",
    "RETURN algo.getNodeById(nodeId).name, centrality\n",
    "ORDER BY centrality DESC"
   ]
  },
  {
   "cell_type": "markdown",
   "metadata": {},
   "source": [
    "## Closeness Centrality Variation: Harmonic Centrality"
   ]
  },
  {
   "cell_type": "raw",
   "metadata": {},
   "source": [
    "CALL algo.closeness.harmonic.stream(\"node\", \"day3\")\n",
    "YIELD nodeId, centrality\n",
    "RETURN algo.getNodeById(nodeId).name, centrality\n",
    "ORDER BY centrality DESC"
   ]
  },
  {
   "cell_type": "markdown",
   "metadata": {},
   "source": [
    "## Betweenness Centrality\n"
   ]
  },
  {
   "cell_type": "raw",
   "metadata": {},
   "source": [
    "CALL algo.betweenness.stream(\"node\", \"day3\")\n",
    "YIELD nodeId, centrality\n",
    "RETURN algo.getNodeById(nodeId).name, centrality\n",
    "ORDER BY centrality DESC"
   ]
  },
  {
   "cell_type": "markdown",
   "metadata": {},
   "source": [
    "## Betweenness Centrality Variation: Randomized-Approximate Brandes"
   ]
  },
  {
   "cell_type": "raw",
   "metadata": {},
   "source": [
    "CALL algo.betweenness.sampled.stream(\"node\", \"day3\", {strategy:\"degree\"})\n",
    "YIELD nodeId, centrality\n",
    "RETURN algo.getNodeById(nodeId).name AS user, centrality\n",
    "ORDER BY centrality DESC"
   ]
  },
  {
   "cell_type": "markdown",
   "metadata": {},
   "source": [
    "## PageRank"
   ]
  },
  {
   "cell_type": "raw",
   "metadata": {},
   "source": [
    "CALL algo.pageRank.stream(\"node\", \"day3\", {iterations:20, dampingFactor:0.85})\n",
    "YIELD nodeId, score\n",
    "RETURN algo.getNodeById(nodeId).name, score\n",
    "ORDER BY score DESC"
   ]
  },
  {
   "cell_type": "markdown",
   "metadata": {},
   "source": [
    "# clustering"
   ]
  },
  {
   "cell_type": "markdown",
   "metadata": {},
   "source": [
    "## Triangles with Neo4j\n"
   ]
  },
  {
   "cell_type": "raw",
   "metadata": {},
   "source": [
    "CALL algo.triangle.stream(\"node\",\"day3\")\n",
    "YIELD nodeA, nodeB, nodeC\n",
    "RETURN algo.getNodeById(nodeA).name AS nodeA,\n",
    "\talgo.getNodeById(nodeB).name AS nodeB,\n",
    "\talgo.getNodeById(nodeC).name AS nodeC"
   ]
  },
  {
   "cell_type": "markdown",
   "metadata": {},
   "source": [
    "## Local Clustering Coefficient with Neo4j"
   ]
  },
  {
   "cell_type": "raw",
   "metadata": {},
   "source": [
    "CALL algo.triangleCount.stream(\"node\",\"day3\")\n",
    "YIELD nodeId, triangles, coefficient\n",
    "WHERE coefficient > 0\n",
    "RETURN algo.getNodeById(nodeId).name AS SYMBOL, coefficient\n",
    "ORDER BY coefficient DESC"
   ]
  },
  {
   "cell_type": "markdown",
   "metadata": {},
   "source": [
    "## Strongly Connected Components\n"
   ]
  },
  {
   "cell_type": "code",
   "execution_count": null,
   "metadata": {},
   "outputs": [],
   "source": [
    "CALL algo.scc.stream(\"node\",\"day3\")\n",
    "YIELD loadMillis, computeMillis,setCount\n",
    "RETURN loadMillis, computeMillis,setCount"
   ]
  },
  {
   "cell_type": "raw",
   "metadata": {},
   "source": [
    "CALL algo.scc.stream(\"node\",\"day3\") \n",
    "YIELD nodeId, partition\n",
    "RETURN partition, collect(algo.getNodeById(nodeId)) AS SYMBOL\n",
    "ORDER BY size(SYMBOL) DESC Limit 10"
   ]
  },
  {
   "cell_type": "markdown",
   "metadata": {},
   "source": [
    "## Connected Components"
   ]
  },
  {
   "cell_type": "raw",
   "metadata": {},
   "source": [
    "CALL algo.unionFind.stream(\"node\",\"day3\")\n",
    "YIELD nodeId,setId\n",
    "RETURN setId, collect(algo.getNodeById(nodeId)) AS SYMBOL\n",
    "ORDER BY size(SYMBOL) DESC LIMIT 10"
   ]
  },
  {
   "cell_type": "markdown",
   "metadata": {},
   "source": [
    "## Label Propagation "
   ]
  },
  {
   "cell_type": "raw",
   "metadata": {},
   "source": [
    "//出错了\n",
    "CALL algo.labelPropagation.stream(\"node\",\"day3\",{ iterations: 10 })\n",
    "YIELD nodeId, label\n",
    "RETURN label,\n",
    "collect(algo.getNodeById(nodeId).id) AS libraries\n",
    "ORDER BY size(libraries) DESC LIMIT 10"
   ]
  },
  {
   "cell_type": "raw",
   "metadata": {},
   "source": [
    "//出错了\n",
    "CALL algo.labelPropagation.stream(\"node\",\"day3\",{ iterations: 10, direction: \"BOTH\" })\n",
    "YIELD nodeId, label\n",
    "RETURN label,\n",
    "collect(algo.getNodeById(nodeId).name) AS libraries\n",
    "ORDER BY size(libraries) DESC"
   ]
  },
  {
   "cell_type": "markdown",
   "metadata": {},
   "source": [
    "## Louvain"
   ]
  },
  {
   "cell_type": "raw",
   "metadata": {},
   "source": [
    "CALL algo.louvain(label:String, \n",
    "            relationship:String,\n",
    "            {weightProperty:'weight', \n",
    "            defaultValue:1.0,\n",
    "            write: true, \n",
    "            writeProperty:'community', \n",
    "            concurrency:4, \n",
    "            communityProperty:'propertyOfPredefinedCommunity',\n",
    "            innerIterations:10, \n",
    "            communitySelection:'classic'}) \n",
    "YIELD nodes, communityCount, iterations, loadMillis, computeMillis, writeMillis\n"
   ]
  },
  {
   "cell_type": "raw",
   "metadata": {},
   "source": [
    "//结果都是null，怪怪的，要改\n",
    "CALL algo.louvain.stream(\"node\",\"day3\")\n",
    "YIELD nodeId, communities\n",
    "RETURN algo.getNodeById(nodeId).name AS libraries, communities\n"
   ]
  },
  {
   "cell_type": "raw",
   "metadata": {},
   "source": [
    "CALL algo.louvain(\"node\",\"day3\")\n",
    "YIELD nodes,communityCount"
   ]
  },
  {
   "cell_type": "markdown",
   "metadata": {},
   "source": [
    "# Similarity"
   ]
  },
  {
   "cell_type": "markdown",
   "metadata": {},
   "source": [
    "## Community detection based on Jaccard similarity index with Neo4j\n"
   ]
  },
  {
   "cell_type": "raw",
   "metadata": {},
   "source": [
    "algo.similarity.jaccard([vector1], [vector2]) \n",
    "\n",
    "given two collection vectors, calculate jaccard similarity\n"
   ]
  },
  {
   "cell_type": "raw",
   "metadata": {},
   "source": [
    "CALL algo.similarity.jaccard([{item:id, \n",
    "                            categories:[ids]}], \n",
    "                            {similarityCutoff:-1,\n",
    "                            degreeCutoff:0}) \n",
    "YIELD p50, p75, p90, p99, p999, p100 - computes jaccard similarities\n"
   ]
  },
  {
   "cell_type": "raw",
   "metadata": {},
   "source": [
    "MATCH (m:node)-[:day3]->(n:node)\n",
    "\n",
    "WITH {item:id(n), categories: collect(id(m))} as productData\n",
    "WITH collect(productData) as data\n",
    "CALL algo.similarity.jaccard(data, {similarityCutoff:0.5, write:true})\n",
    "YIELD nodes, similarityPairs, stdDev, p25, p50, p75, p90, p95\n",
    "RETURN nodes, similarityPairs, stdDev, p25, p50, p75, p90, p95\n"
   ]
  },
  {
   "cell_type": "markdown",
   "metadata": {},
   "source": [
    "## Pearson"
   ]
  },
  {
   "cell_type": "raw",
   "metadata": {},
   "source": [
    "algo.similarity.pearson([vector1], [vector2]) \n",
    "\n",
    "\n",
    "given two collection vectors, calculate pearson similarity\n"
   ]
  },
  {
   "cell_type": "raw",
   "metadata": {},
   "source": [
    "CALL algo.similarity.pearson([{item:id, \n",
    "                    weights:[weights]}], \n",
    "                    {similarityCutoff:-1,\n",
    "                    degreeCutoff:0}) \n",
    "YIELD p50, p75, p90, p99, p999, p100 - computes cosine similarities\n"
   ]
  }
 ],
 "metadata": {
  "kernelspec": {
   "display_name": "Python 3",
   "language": "python",
   "name": "python3"
  },
  "language_info": {
   "codemirror_mode": {
    "name": "ipython",
    "version": 3
   },
   "file_extension": ".py",
   "mimetype": "text/x-python",
   "name": "python",
   "nbconvert_exporter": "python",
   "pygments_lexer": "ipython3",
   "version": "3.7.1"
  },
  "toc": {
   "base_numbering": 1,
   "nav_menu": {},
   "number_sections": true,
   "sideBar": true,
   "skip_h1_title": false,
   "title_cell": "Table of Contents",
   "title_sidebar": "Contents",
   "toc_cell": false,
   "toc_position": {},
   "toc_section_display": true,
   "toc_window_display": true
  }
 },
 "nbformat": 4,
 "nbformat_minor": 2
}
