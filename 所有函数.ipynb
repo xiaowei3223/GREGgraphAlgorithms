{
 "cells": [
  {
   "cell_type": "raw",
   "metadata": {},
   "source": [
    "\t\n",
    "CALL algo.allShortestPaths.stream( weightProperty: String\n",
    "\t\t\t\t{nodeQuery:'labelName', \t\t\t\t\t\trelationshipQuery:'relationshipName',\t\t\t\t defaultValue:1.0, \n",
    "\t\t\t\tconcurrency:4}) \n",
    "YIELD sourceNodeId, targetNodeId, distance - yields a stream of {sourceNodeId, targetNodeId, distance}\n"
   ]
  },
  {
   "cell_type": "raw",
   "metadata": {},
   "source": [
    "CALL  algo.articleRank(label:String, relationship:String, \n",
    "{iterations:5, \n",
    "dampingFactor:0.85, \n",
    "weightProperty: null, \n",
    "write: true, \n",
    "writeProperty:'articlerank',\n",
    " concurrency:4}) \n",
    "\n",
    "YIELD nodes, \n",
    "\titerations,\n",
    "\t loadMillis, \n",
    "\tcomputeMillis,\n",
    "\t writeMillis,\n",
    "\t dampingFactor, \n",
    "\twrite, \n",
    "\twriteProperty - calculates page rank and potentially writes back\n"
   ]
  },
  {
   "cell_type": "raw",
   "metadata": {},
   "source": [
    "CALL algo.articleRank.stream(label:String, relationship:String, \t\t\t\t{iterations:20, \n",
    "\t\t\tdampingFactor:0.85, \n",
    "\t\t\tweightProperty: null, \n",
    "\t\t\tconcurrency:4}) \n",
    "YIELD node, score - calculates page rank and streams results\n"
   ]
  },
  {
   "cell_type": "raw",
   "metadata": {},
   "source": [
    "CALL algo.shortestPath.astar.stream(startNode:Node, \t\t\t\t\t\tendNode:Node, \t\t\t\t\t\t\tweightProperty:String,\n",
    " \t\t\t\tpropertyKeyLat:String,\n",
    "\t\t\t\tpropertyKeyLon:String, \n",
    "\t\t\t\t{nodeQuery:'labelName', \t\t\t\t\trelationshipQuery:'relationshipName', \t\t\t\tdirection:'BOTH', \n",
    "\t\t\tdefaultValue:1.0}) \n",
    "YIELD nodeId, cost - yields a stream of {nodeId, cost} from start to end (inclusive)\n"
   ]
  },
  {
   "cell_type": "raw",
   "metadata": {},
   "source": [
    "CALL algo.balancedTriads(label, relationship\n",
    "{concurrency:4, \n",
    "write:true, \n",
    "weightProperty:'w', \n",
    "balancedProperty:'balanced', \n",
    "unbalancedProperty:'unbalanced'}) \n",
    "YIELD loadMillis, computeMillis, writeMillis, nodeCount, balancedTriadCount, unbalancedTriadCount\n"
   ]
  },
  {
   "cell_type": "raw",
   "metadata": {},
   "source": [
    "CALL algo.balancedTriads.stream(label, relationship, \t\t\t\t\t{concurrency:8}) \n",
    "YIELD nodeId, balanced, unbalanced\n"
   ]
  },
  {
   "cell_type": "raw",
   "metadata": {},
   "source": [
    "CALL algo.betweenness(label:String, relationship:String, \n",
    "{direction:'out',\n",
    "write:true, \n",
    "writeProperty:'centrality', \n",
    "stats:true, \n",
    "concurrency:4}) \n",
    "YIELD loadMillis, computeMillis, writeMillis, nodes, minCentrality, maxCentrality, sumCentrality - yields status of evaluation\n"
   ]
  },
  {
   "cell_type": "raw",
   "metadata": {},
   "source": [
    "CALL algo.betweenness.sampled.stream(label:String, \n",
    "relationship:String, \n",
    "{strategy:{'random', 'degree'},\n",
    " probability:double, \n",
    "maxDepth:int, \n",
    "direction:String, \n",
    "concurrency:int}) \n",
    "YIELD nodeId, centrality - yields centrality for each node\n"
   ]
  },
  {
   "cell_type": "raw",
   "metadata": {},
   "source": [
    "CALL algo.betweenness.sampled(label:String, \n",
    "relationship:String, \n",
    "{strategy:'random', \n",
    "probability:double, \n",
    "maxDepth:5, \n",
    "direction:'out',\n",
    "write:true, \n",
    "writeProperty:'centrality', \n",
    "stats:true, \n",
    "concurrency:4}) \n",
    "YIELD loadMillis, computeMillis, writeMillis, nodes, minCentrality, maxCentrality, sumCentrality - yields status of evaluation\n"
   ]
  },
  {
   "cell_type": "raw",
   "metadata": {},
   "source": [
    "CALL algo.betweenness.stream(label:String, \n",
    "relationship:String, \n",
    "{direction:'out', \n",
    "concurrency :4})\n",
    "YIELD nodeId, centrality - yields centrality for each node\n"
   ]
  },
  {
   "cell_type": "raw",
   "metadata": {},
   "source": [
    "CALL algo.bfs.stream(label:String, \n",
    "relationshipType:String, \n",
    "startNodeId:long, \n",
    "direction:Direction, \n",
    "{writeProperty:String, \n",
    "target:long, \n",
    "maxDepth:long, \n",
    "weightProperty:String, \n",
    "maxCost:double}) \n",
    "YIELD nodeId\n"
   ]
  },
  {
   "cell_type": "code",
   "execution_count": null,
   "metadata": {},
   "outputs": [],
   "source": [
    "CALL algo.closeness(label:String, \n",
    "relationship:String, \n",
    "{write:true, \n",
    "writeProperty:'centrality, concurrency:4'}) \n",
    "YIELD loadMillis, computeMillis, writeMillis, nodes] - yields evaluation details\n"
   ]
  },
  {
   "cell_type": "raw",
   "metadata": {},
   "source": [
    "CALL algo.closeness.stream(label:String, \n",
    "                            relationship:String，\n",
    "                            {concurrency:4}) \n",
    "YIELD nodeId, centrality - yields centrality for each node"
   ]
  },
  {
   "cell_type": "raw",
   "metadata": {},
   "source": [
    "CALL algo.similarity.cosine([{item:id, \n",
    "weights:[weights]}], \n",
    "{similarityCutoff:-1,\n",
    "degreeCutoff:0}) \n",
    "YIELD p50, p75, p90, p99, p999, p100 - computes cosine similarities\n"
   ]
  },
  {
   "cell_type": "raw",
   "metadata": {},
   "source": [
    "CALL algo.similarity.cosine.stream([{item:id, \n",
    "weights:[weights]}],\n",
    " {similarityCutoff:-1,\n",
    "degreeCutoff:0}) \n",
    "YIELD item1, item2, count1, count2, intersection, similarity - computes cosine distance\n"
   ]
  },
  {
   "cell_type": "raw",
   "metadata": {},
   "source": [
    "CALL algo.closeness.dangalchev(label:String, \n",
    "relationship:String,\n",
    " {write:true, \n",
    "writeProperty:'centrality, concurrency:4'}) \n",
    "YIELD loadMillis, computeMillis, writeMillis, nodes] - yields evaluation details\n"
   ]
  },
  {
   "cell_type": "raw",
   "metadata": {},
   "source": [
    "CALL algo.closeness.dangalchev.stream(label:String,\n",
    " relationship:String\n",
    "{concurrency:4}) \n",
    "YIELD nodeId, centrality - yields centrality for each node\n"
   ]
  },
  {
   "cell_type": "raw",
   "metadata": {},
   "source": [
    "CALL algo.spanningTree(label:String, \n",
    "relationshipType:String, \n",
    "weightProperty:String, \n",
    "startNodeId:long, \n",
    "{writeProperty:String}) \n",
    "YIELD loadMillis, computeMillis, writeMillis, effectiveNodeCount\n"
   ]
  },
  {
   "cell_type": "raw",
   "metadata": {},
   "source": [
    "CALL algo.degree(label:String, \n",
    "relationship:String, \n",
    "{ weightProperty: null, \n",
    "write: true, \n",
    "writeProperty:'degree', \n",
    "concurrency:4}) \n",
    "YIELD nodes, iterations, loadMillis, computeMillis, writeMillis, dampingFactor, write, writeProperty - calculates degree centrality and potentially writes back\n"
   ]
  },
  {
   "cell_type": "raw",
   "metadata": {},
   "source": [
    "CALL algo.degree.stream(label:String, \n",
    "relationship:String,\n",
    " {weightProperty: null, \n",
    "concurrency:4}) \n",
    "YIELD node, score - calculates degree centrality and streams results\n"
   ]
  },
  {
   "cell_type": "raw",
   "metadata": {},
   "source": [
    "CALL algo.shortestPath.deltaStepping(startNode:Node,\n",
    " weightProperty:String,\n",
    " delta:Double\n",
    "{label:'labelName', \n",
    "relationship:'relationshipName', \n",
    "defaultValue:1.0, \n",
    "write:true, \n",
    "writeProperty:'sssp'}) \n",
    "YIELD loadDuration, evalDuration, writeDuration, nodeCount\n"
   ]
  },
  {
   "cell_type": "raw",
   "metadata": {},
   "source": [
    "CALL algo.shortestPath.deltaStepping.stream(startNode:Node, \n",
    "weightProperty:String, \n",
    "delta:Double\n",
    "{label:'labelName', \n",
    "relationship:'relationshipName', \n",
    "defaultValue:1.0, \n",
    "concurrency:4}) \n",
    "YIELD nodeId, distance - yields a stream of {nodeId, distance} from start to end (inclusive)\n"
   ]
  },
  {
   "cell_type": "raw",
   "metadata": {},
   "source": [
    "CALL algo.mst(label:String, \n",
    "relationshipType:String, \n",
    "weightProperty:String, \n",
    "startNodeId:long, \n",
    "{writeProperty:String}) \n",
    "YIELD loadMillis, computeMillis, writeMillis, effectiveNodeCount\n"
   ]
  },
  {
   "cell_type": "raw",
   "metadata": {},
   "source": [
    "CALL algo.dfs.stream(label:String, \n",
    "relationshipType:String, \n",
    "startNodeId:long, \n",
    "direction:Direction, \n",
    "{writeProperty:String, \n",
    "target:long, \n",
    "maxDepth:long, \n",
    "weightProperty:String, \n",
    "maxCost:double}) \n",
    "YIELD nodeId\n"
   ]
  },
  {
   "cell_type": "raw",
   "metadata": {},
   "source": [
    "CALL algo.shortestPaths(startNode:Node, \n",
    "weightProperty:String\n",
    "{write:true, \n",
    "targetProperty:'path', \n",
    "nodeQuery:'labelName', \n",
    "relationshipQuery:'relationshipName', \n",
    "defaultValue:1.0}) \n",
    "YIELD loadDuration, evalDuration, writeDuration, nodeCount, targetProperty - yields nodeCount, totalCost, loadDuration, evalDuration\n"
   ]
  },
  {
   "cell_type": "raw",
   "metadata": {},
   "source": [
    "CALL algo.shortestPaths.stream(startNode:Node,\n",
    "weightProperty:String\n",
    "{nodeQuery:'labelName', \n",
    "relationshipQuery:'relationshipName', \n",
    "defaultValue:1.0}) \n",
    "YIELD nodeId, distance - yields a stream of {nodeId, cost} from start to end (inclusive)\n"
   ]
  },
  {
   "cell_type": "raw",
   "metadata": {},
   "source": [
    "CALL algo.similarity.euclidean([{item:id, \n",
    "weights:[weights]}], \n",
    "{similarityCutoff:-1,\n",
    "degreeCutoff:0}) \n",
    "YIELD p50, p75, p90, p99, p999, p100 \n",
    "- computes euclidean similarities\n"
   ]
  },
  {
   "cell_type": "raw",
   "metadata": {},
   "source": [
    "CALL algo.similarity.euclidean.stream([{item:id,\n",
    " weights:[weights]}], \n",
    "{similarityCutoff:-1,\n",
    "degreeCutoff:0}) \n",
    "YIELD item1, item2, count1, count2, intersection, similarity - computes euclidean distance\n"
   ]
  },
  {
   "cell_type": "raw",
   "metadata": {},
   "source": [
    "CALL algo.scc.forwardBackward.stream(long startNodeId, \n",
    "label:String,\n",
    "relationship:String, \n",
    "{write:true, \n",
    "concurrency:4}) \n",
    "YIELD nodeId, partition\n"
   ]
  },
  {
   "cell_type": "raw",
   "metadata": {},
   "source": [
    "CALL algo.closeness.harmonic(label:String, \n",
    "relationship:String, \n",
    "{write:true, \n",
    "writeProperty:'centrality, concurrency:4'}) \n",
    "YIELD loadMillis, computeMillis, writeMillis, nodes] - yields evaluation details\n"
   ]
  },
  {
   "cell_type": "raw",
   "metadata": {},
   "source": [
    "CALL algo.closeness.harmonic.stream(label:String, \n",
    "relationship:String,\n",
    "{concurrency:4}) \n",
    "YIELD nodeId, centrality - yields centrality for each node\n"
   ]
  },
  {
   "cell_type": "raw",
   "metadata": {},
   "source": [
    "CALL algo.graph.info(name:String\n"
   ]
  },
  {
   "cell_type": "raw",
   "metadata": {},
   "source": [
    "CALL algo.similarity.jaccard([{item:id, \n",
    "categories:[ids]}], \n",
    "{similarityCutoff:-1,\n",
    "degreeCutoff:0}) \n",
    "YIELD p50, p75, p90, p99, p999, p100 - computes jaccard similarities\n"
   ]
  },
  {
   "cell_type": "raw",
   "metadata": {},
   "source": [
    "CALL algo.spanningTree.kmax(label:String, \n",
    "relationshipType:String, \n",
    "weightProperty:String, \n",
    "startNodeId:long, \n",
    "k:int, \n",
    "{writeProperty:String}) \n",
    "YIELD loadMillis, computeMillis, writeMillis, effectiveNodeCount\n"
   ]
  },
  {
   "cell_type": "raw",
   "metadata": {},
   "source": [
    "CALL algo.spanningTree.kmin(label:String, \n",
    "relationshipType:String, \n",
    "weightProperty:String, \n",
    "startNodeId:long, \n",
    "k:int, \n",
    "{writeProperty:String}) \n",
    "YIELD loadMillis, computeMillis, writeMillis, effectiveNodeCount\n"
   ]
  },
  {
   "cell_type": "raw",
   "metadata": {},
   "source": [
    "CALL algo.labelPropagation(label:String, \n",
    "relationship:String, \n",
    "direction:String, \n",
    "{iterations:1, \n",
    "weightProperty:'weight', \n",
    "partitionProperty:'partition', \n",
    "write:true, \n",
    "concurrency:4}) \n",
    "YIELD nodes, iterations, didConverge, loadMillis, computeMillis, writeMillis, write, weightProperty, partitionProperty - simple label propagation kernel\n"
   ]
  },
  {
   "cell_type": "raw",
   "metadata": {},
   "source": [
    "CALL algo.labelPropagation.stream(label:String, \n",
    "relationship:String, \n",
    "config:Map<String, Object>) \n",
    "YIELD nodeId, label\n"
   ]
  },
  {
   "cell_type": "raw",
   "metadata": {},
   "source": [
    "CALL algo.list - lists all algorithm procedures, their description and signature\n"
   ]
  },
  {
   "cell_type": "raw",
   "metadata": {},
   "source": [
    "CALL algo.graph.load(name:String, \n",
    "label:String, \n",
    "relationship:String\n",
    "{direction:'OUT/IN/BOTH', \n",
    "undirected:true/false, \n",
    "sorted:true/false, \n",
    "nodeProperty:'value', \n",
    "nodeWeight:'weight', \n",
    "relationshipWeight: 'weight', \n",
    "graph:'heavy/huge/cypher'}) \n",
    "YIELD nodes, relationships, loadMillis, computeMillis, writeMillis, write, nodeProperty, nodeWeight, relationshipWeight - load named graph\n"
   ]
  },
  {
   "cell_type": "raw",
   "metadata": {},
   "source": [
    "CALL algo.louvain(label:String, \n",
    "relationship:String,\n",
    " {weightProperty:'weight', \n",
    "defaultValue:1.0,\n",
    " write: true, \n",
    "writeProperty:'community', \n",
    "concurrency:4, \n",
    "communityProperty:'propertyOfPredefinedCommunity',\n",
    " innerIterations:10, \n",
    "communitySelection:'classic'}) \n",
    "YIELD nodes, communityCount, iterations, loadMillis, computeMillis, writeMillis\n"
   ]
  },
  {
   "cell_type": "raw",
   "metadata": {},
   "source": [
    "CALL algo.louvain.stream(label:String, \n",
    "relationship:String, \n",
    "{weightProperty:'propertyName', \n",
    "defaultValue:1.0, \n",
    "concurrency:4, \n",
    "communityProperty:'propertyOfPredefinedCommunity', \n",
    "innerIterations:10, \n",
    "communitySelection:'classic') \n",
    "YIELD nodeId, community - yields a setId to each node id\n"
   ]
  },
  {
   "cell_type": "raw",
   "metadata": {},
   "source": [
    "CALL algo.louvain.stream(label:String, \n",
    "relationship:String, \n",
    "{weightProperty:'propertyName', \n",
    "defaultValue:1.0, \n",
    "concurrency:4, \n",
    "communityProperty:'propertyOfPredefinedCommunity', \n",
    "innerIterations:10, \n",
    "communitySelection:'classic') \n",
    "YIELD nodeId, community - yields a setId to each node id\n"
   ]
  },
  {
   "cell_type": "raw",
   "metadata": {},
   "source": [
    "CALL algo.spanningTree.maximum(label:String, \n",
    "relationshipType:String, \n",
    "weightProperty:String, \n",
    "startNodeId:long, \n",
    "{writeProperty:String}) \n",
    "YIELD loadMillis, computeMillis, writeMillis, effectiveNodeCount\n"
   ]
  },
  {
   "cell_type": "raw",
   "metadata": {},
   "source": [
    "CALL algo.spanningTree.minimum(label:String, \n",
    "relationshipType:String, \n",
    "weightProperty:String, \n",
    "startNodeId:long, \n",
    "{writeProperty:String}) \n",
    "YIELD loadMillis, computeMillis, writeMillis, effectiveNodeCount\n"
   ]
  },
  {
   "cell_type": "raw",
   "metadata": {},
   "source": [
    "CALL algo.scc.multistep(label:String, \n",
    "relationship:String, \n",
    "{write:true, \n",
    "concurrency:4, \n",
    "cutoff:100000}) \n",
    "YIELD loadMillis, computeMillis, writeMillis, setCount, maxSetSize, minSetSize\n"
   ]
  },
  {
   "cell_type": "raw",
   "metadata": {},
   "source": [
    "CALL algo.scc.multistep.stream(label:String, \n",
    "relationship:String, \n",
    "{write:true, \n",
    "concurrency:4, \n",
    "cutoff:100000}) \n",
    "YIELD nodeId, partition\n"
   ]
  },
  {
   "cell_type": "raw",
   "metadata": {},
   "source": [
    "CALL algo.similarity.overlap([{item:id, \n",
    "\t\t\ttargets:[ids]}], \n",
    "{similarityCutoff:-1,\n",
    "degreeCutoff:0}) \n",
    "YIELD p50, p75, p90, p99, p999, p100 - computes overlap similarities\n"
   ]
  },
  {
   "cell_type": "raw",
   "metadata": {},
   "source": [
    "CALL algo.pageRank(label:String, \n",
    "relationship:String,\n",
    "{iterations:5, \n",
    "dampingFactor:0.85,\n",
    " weightProperty: null, \n",
    "write: true, \n",
    "writeProperty:'pagerank', \n",
    "concurrency:4}) \n",
    "YIELD nodes, iterations, loadMillis, computeMillis, writeMillis, dampingFactor, write, writeProperty - calculates page rank and potentially writes back\n"
   ]
  },
  {
   "cell_type": "raw",
   "metadata": {},
   "source": [
    "CALL algo.pageRank.stream(label:String, \n",
    "relationship:String,\n",
    " {iterations:20, \n",
    "dampingFactor:0.85, \n",
    "weightProperty: null, \n",
    "concurrency:4}) \n",
    "YIELD node, score - calculates page rank and streams results\n"
   ]
  },
  {
   "cell_type": "raw",
   "metadata": {},
   "source": [
    "CALL algo.similarity.pearson([{item:id, \n",
    "weights:[weights]}], \n",
    "{similarityCutoff:-1,\n",
    "degreeCutoff:0}) \n",
    "YIELD p50, p75, p90, p99, p999, p100 - computes cosine similarities\n"
   ]
  },
  {
   "cell_type": "raw",
   "metadata": {},
   "source": [
    "CALL algo.similarity.pearson.stream([{item:id, \n",
    "weights:[weights]}],\n",
    "{similarityCutoff:-1,\n",
    "degreeCutoff:0}) \n",
    "YIELD item1, item2, count1, count2, intersection, similarity - computes cosine distance\n"
   ]
  },
  {
   "cell_type": "raw",
   "metadata": {},
   "source": [
    "CALL algo.randomWalk.stream(start:null=all/[ids]/label, \n",
    "steps, \n",
    "walks, \n",
    "{graph: 'heavy/cypher', \n",
    "nodeQuery:nodeLabel/query, \n",
    "relationshipQuery:relType/query, \n",
    "mode:random/node2vec, \n",
    "return:1.0, \n",
    "inOut:1.0, \n",
    "path:false/true concurrency:4, \n",
    "direction:'BOTH'}) \n",
    "YIELD nodes, path - computes random walks from given starting points\n"
   ]
  },
  {
   "cell_type": "raw",
   "metadata": {},
   "source": [
    "CALL algo.graph.remove(name:String\n"
   ]
  },
  {
   "cell_type": "raw",
   "metadata": {},
   "source": [
    "CALL algo.scc(label:String, \n",
    "relationship:String, \n",
    "config:Map<String, \n",
    "Object>) \n",
    "YIELD loadMillis, computeMillis, writeMillis, setCount, maxSetSize, minSetSize\n"
   ]
  },
  {
   "cell_type": "raw",
   "metadata": {},
   "source": [
    "CALL algo.scc.stream(label:String, \n",
    "relationship:String, \n",
    "config:Map<String, \n",
    "Object>) \n",
    "YIELD loadMillis, computeMillis, writeMillis, setCount, maxSetSize, minSetSize\n"
   ]
  },
  {
   "cell_type": "raw",
   "metadata": {},
   "source": [
    "CALL algo.scc.tarjan(label:String, \n",
    "relationship:String, \n",
    "config:Map<String, \n",
    "Object>) \n",
    "YIELD loadMillis, computeMillis, writeMillis, setCount, maxSetSize, minSetSize\n"
   ]
  },
  {
   "cell_type": "raw",
   "metadata": {},
   "source": [
    "CALL algo.scc.recursive.tunedTarjan(label:String, \n",
    "relationship:String, \n",
    "config:Map<String, \n",
    "Object>) \n",
    "YIELD loadMillis, computeMillis, writeMillis, setCount, maxSetSize, minSetSize\n"
   ]
  },
  {
   "cell_type": "raw",
   "metadata": {},
   "source": [
    "CALL algo.infoMap.stream('Label', \n",
    "'REL',\n",
    " {<properties>})\n",
    " YIELD nodeId, community\n"
   ]
  },
  {
   "cell_type": "raw",
   "metadata": {},
   "source": [
    "CALL algo.triangleCount.forkJoin(label, \n",
    "relationship, \n",
    "{concurrency:4, \n",
    "write:true, \n",
    "writeProperty:'triangles', \n",
    "clusteringCoefficientProperty:'coefficient'}) \n",
    "YIELD loadMillis, computeMillis, writeMillis, nodeCount, triangleCount, averageClusteringCoefficient\n"
   ]
  },
  {
   "cell_type": "raw",
   "metadata": {},
   "source": [
    "CALL algo.triangleCount.forkJoin.stream(label, \n",
    "relationship, \n",
    "{concurrency:8}) \n",
    "YIELD nodeId, triangles - yield nodeId, number of triangles\n"
   ]
  },
  {
   "cell_type": "raw",
   "metadata": {},
   "source": [
    "CALL algo.triangleCount(label, \n",
    "relationship, \n",
    "{concurrency:4, \n",
    "write:true, \n",
    "writeProperty:'triangles', \n",
    "clusteringCoefficientProperty:'coefficient'}) \n",
    "YIELD loadMillis, computeMillis, writeMillis, nodeCount, triangleCount, averageClusteringCoefficient\n"
   ]
  },
  {
   "cell_type": "raw",
   "metadata": {},
   "source": [
    "CALL algo.triangleCount.stream(label, \n",
    "relationship, \n",
    "{concurrency:8}) \n",
    "YIELD nodeId, triangles - yield nodeId, number of triangles\n"
   ]
  },
  {
   "cell_type": "raw",
   "metadata": {},
   "source": [
    "CALL algo.triangle.stream(label, \n",
    "relationship, \n",
    "{concurrency:4}) \n",
    "YIELD nodeA, nodeB, nodeC - yield nodeA, nodeB and nodeC which form a triangle\n"
   ]
  },
  {
   "cell_type": "raw",
   "metadata": {},
   "source": [
    "CALL algo.unionFind(label:String, \n",
    "relationship:String, \n",
    "{property:'weight', \n",
    "threshold:0.42, \n",
    "defaultValue:1.0, \n",
    "write: true, \n",
    "partitionProperty:'partition',\n",
    "concurrency:4}) \n",
    "YIELD nodes, setCount, loadMillis, computeMillis, writeMillis\n"
   ]
  },
  {
   "cell_type": "raw",
   "metadata": {},
   "source": [
    "CALL algo.unionFind.stream(label:String, \n",
    "relationship:String, \n",
    "{property:'propertyName', \n",
    "threshold:0.42, \n",
    "defaultValue:1.0,\n",
    "concurrency:4}) \n",
    "YIELD nodeId, setId - yields a setId to each node id\n"
   ]
  },
  {
   "cell_type": "raw",
   "metadata": {},
   "source": [
    "CALL algo.eigenvector(label:String, \n",
    "relationship:String, \n",
    "{weightProperty: null, \n",
    "write: true, \n",
    "writeProperty:'eigenvector', \n",
    "concurrency:4}) \n",
    "YIELD nodes, iterations, loadMillis, computeMillis, writeMillis, dampingFactor, write, writeProperty - calculates eigenvector centrality and potentially writes back\n"
   ]
  },
  {
   "cell_type": "raw",
   "metadata": {},
   "source": [
    "CALL algo.kShortestPaths(startNode:Node, \n",
    "endNode:Node, \n",
    "k:int, \n",
    "weightProperty:String\n",
    "{nodeQuery:'labelName', \n",
    "relationshipQuery:'relationshipName', \n",
    "direction:'OUT', \n",
    "defaultValue:1.0, \n",
    "maxDepth:42, \n",
    "write:'true', \n",
    "writePropertyPrefix:'PATH_'}) \n",
    "YIELD resultCount, loadMillis, evalMillis, writeMillis - yields resultCount, loadMillis, evalMillis, writeMillis\n"
   ]
  },
  {
   "cell_type": "raw",
   "metadata": {},
   "source": [
    "CALL algo.kShortestPaths.stream(startNode:Node, \n",
    "endNode:Node, \n",
    "k:int, \n",
    "weightProperty:String\n",
    "{nodeQuery:'labelName', \n",
    "relationshipQuery:'relationshipName', \n",
    "direction:'OUT', \n",
    "defaultValue:1.0, \n",
    "maxDepth:42}) \n",
    "YIELD sourceNodeId, targetNodeId, nodeIds, costs\n"
   ]
  },
  {
   "cell_type": "raw",
   "metadata": {},
   "source": [
    "CALL algo.Infinity() - returns Double.POSITIVE_INFINITY as a value.\n"
   ]
  },
  {
   "cell_type": "raw",
   "metadata": {},
   "source": [
    "CALL algo.NaN() - returns Double.NaN as a value.\n"
   ]
  },
  {
   "cell_type": "raw",
   "metadata": {},
   "source": [
    "algo.linkprediction.adamicAdar(node1:Node, \n",
    "node2:Node, \n",
    "{relationshipQuery:'relationshipName', \n",
    "direction:'BOTH'}) \n",
    "given two nodes, calculate Adamic Adar similarity\n"
   ]
  },
  {
   "cell_type": "raw",
   "metadata": {},
   "source": [
    "CALL algo.asNode(value) - return node for nodeId. null if none exists\n"
   ]
  },
  {
   "cell_type": "raw",
   "metadata": {},
   "source": [
    "CALL algo.asNodes(values) - return nodes for nodeIds. empty if none exists\n"
   ]
  },
  {
   "cell_type": "raw",
   "metadata": {},
   "source": [
    "algo.linkprediction.commonNeighbors(node1:Node, \n",
    "node2:Node, \n",
    "{relationshipQuery:'relationshipName', \n",
    "direction:'BOTH'}) \n",
    "given two nodes, returns the number of common neighbors\n"
   ]
  },
  {
   "cell_type": "raw",
   "metadata": {},
   "source": [
    "algo.similarity.cosine([vector1], [vector2]) \n",
    "\n",
    "given two collection vectors, calculate cosine similarity\n"
   ]
  },
  {
   "cell_type": "raw",
   "metadata": {},
   "source": [
    "algo.similarity.euclideanDistance([vector1], [vector2]) \n",
    "\n",
    "given two collection vectors, calculate the euclidean distance (square root of the sum of the squared differences)\n"
   ]
  },
  {
   "cell_type": "raw",
   "metadata": {},
   "source": [
    "algo.similarity.euclidean([vector1], [vector2]) \n",
    "\n",
    "given two collection vectors, calculate similarity based on euclidean distance\n"
   ]
  },
  {
   "cell_type": "raw",
   "metadata": {},
   "source": [
    "CALL algo.getNodeById(value) - return node for nodeId. null if none exists\n"
   ]
  },
  {
   "cell_type": "raw",
   "metadata": {},
   "source": [
    "CALL algo.getNodesById(values) \n",
    "\n",
    "- return nodes for nodeIds. empty if none exists\n"
   ]
  },
  {
   "cell_type": "raw",
   "metadata": {},
   "source": [
    "CALL algo.isFinite(value) \n",
    "\n",
    "\n",
    "- return true iff the given argument is a finite value (not ±Infinity, NaN, or null), false otherwise.\n"
   ]
  },
  {
   "cell_type": "raw",
   "metadata": {},
   "source": [
    "algo.similarity.jaccard([vector1], [vector2]) \n",
    "\n",
    "given two collection vectors, calculate jaccard similarity\n"
   ]
  },
  {
   "cell_type": "raw",
   "metadata": {},
   "source": [
    "CALL algo.ml.oneHotEncoding(availableValues, selectedValues) \n",
    "\n",
    "- return a list of selected values in a one hot encoding format.\n"
   ]
  },
  {
   "cell_type": "raw",
   "metadata": {},
   "source": [
    "algo.similarity.overlap([vector1], [vector2])\n",
    "\n",
    " given two collection vectors, calculate overlap similarity\n"
   ]
  },
  {
   "cell_type": "raw",
   "metadata": {},
   "source": [
    "algo.similarity.pearson([vector1], [vector2]) given two collection vectors, calculate pearson similarity\n"
   ]
  },
  {
   "cell_type": "raw",
   "metadata": {},
   "source": [
    "algo.linkprediction.preferentialAttachment(node1:Node, \n",
    "node2:Node, \n",
    "{relationshipQuery:'relationshipName', \n",
    "direction:'BOTH'}) \n",
    "\n",
    "given two nodes, calculate Preferential Attachment\n"
   ]
  },
  {
   "cell_type": "code",
   "execution_count": null,
   "metadata": {},
   "outputs": [],
   "source": [
    "algo.linkprediction.resourceAllocation(node1:Node, \n",
    "node2:Node, \n",
    "{relationshipQuery:'relationshipName', \n",
    "direction:'BOTH'}) \n",
    "\n",
    "given two nodes, calculate Resource Allocation similarity\n"
   ]
  },
  {
   "cell_type": "raw",
   "metadata": {},
   "source": [
    "algo.linkprediction.sameCommunity(node1:Node, \n",
    "node2:Node, \n",
    "communityProperty: String) \n",
    "\n",
    "given two nodes, indicates if they have the same community\n"
   ]
  },
  {
   "cell_type": "code",
   "execution_count": null,
   "metadata": {},
   "outputs": [],
   "source": [
    "algo.linkprediction.totalNeighbors(node1:Node, \n",
    "node2:Node, \n",
    "{relationshipQuery:'relationshipName', \n",
    "direction:'BOTH'}) \n",
    "\n",
    "given two nodes, calculate Total Neighbors\n"
   ]
  },
  {
   "cell_type": "raw",
   "metadata": {},
   "source": [
    "RETURN algo.version() | return the current graph algorithms installed version\n"
   ]
  },
  {
   "cell_type": "raw",
   "metadata": {},
   "source": []
  },
  {
   "cell_type": "raw",
   "metadata": {},
   "source": []
  },
  {
   "cell_type": "code",
   "execution_count": null,
   "metadata": {},
   "outputs": [],
   "source": []
  },
  {
   "cell_type": "raw",
   "metadata": {},
   "source": []
  },
  {
   "cell_type": "raw",
   "metadata": {},
   "source": []
  },
  {
   "cell_type": "raw",
   "metadata": {},
   "source": []
  },
  {
   "cell_type": "raw",
   "metadata": {},
   "source": []
  },
  {
   "cell_type": "raw",
   "metadata": {},
   "source": []
  },
  {
   "cell_type": "raw",
   "metadata": {},
   "source": []
  },
  {
   "cell_type": "raw",
   "metadata": {},
   "source": []
  },
  {
   "cell_type": "code",
   "execution_count": null,
   "metadata": {},
   "outputs": [],
   "source": []
  },
  {
   "cell_type": "raw",
   "metadata": {},
   "source": []
  },
  {
   "cell_type": "code",
   "execution_count": null,
   "metadata": {},
   "outputs": [],
   "source": []
  },
  {
   "cell_type": "raw",
   "metadata": {},
   "source": []
  },
  {
   "cell_type": "raw",
   "metadata": {},
   "source": []
  },
  {
   "cell_type": "raw",
   "metadata": {},
   "source": []
  },
  {
   "cell_type": "code",
   "execution_count": null,
   "metadata": {},
   "outputs": [],
   "source": []
  },
  {
   "cell_type": "raw",
   "metadata": {},
   "source": []
  },
  {
   "cell_type": "raw",
   "metadata": {},
   "source": []
  },
  {
   "cell_type": "raw",
   "metadata": {},
   "source": []
  },
  {
   "cell_type": "raw",
   "metadata": {},
   "source": []
  },
  {
   "cell_type": "raw",
   "metadata": {},
   "source": []
  },
  {
   "cell_type": "raw",
   "metadata": {},
   "source": []
  },
  {
   "cell_type": "raw",
   "metadata": {},
   "source": []
  },
  {
   "cell_type": "raw",
   "metadata": {},
   "source": []
  },
  {
   "cell_type": "raw",
   "metadata": {},
   "source": []
  },
  {
   "cell_type": "raw",
   "metadata": {},
   "source": []
  },
  {
   "cell_type": "code",
   "execution_count": null,
   "metadata": {},
   "outputs": [],
   "source": []
  },
  {
   "cell_type": "raw",
   "metadata": {},
   "source": []
  },
  {
   "cell_type": "raw",
   "metadata": {},
   "source": []
  },
  {
   "cell_type": "raw",
   "metadata": {},
   "source": []
  },
  {
   "cell_type": "raw",
   "metadata": {},
   "source": []
  },
  {
   "cell_type": "raw",
   "metadata": {},
   "source": []
  },
  {
   "cell_type": "code",
   "execution_count": null,
   "metadata": {},
   "outputs": [],
   "source": []
  },
  {
   "cell_type": "raw",
   "metadata": {},
   "source": []
  },
  {
   "cell_type": "raw",
   "metadata": {},
   "source": []
  },
  {
   "cell_type": "raw",
   "metadata": {},
   "source": []
  },
  {
   "cell_type": "raw",
   "metadata": {},
   "source": []
  },
  {
   "cell_type": "code",
   "execution_count": null,
   "metadata": {},
   "outputs": [],
   "source": []
  },
  {
   "cell_type": "raw",
   "metadata": {},
   "source": []
  },
  {
   "cell_type": "raw",
   "metadata": {},
   "source": []
  },
  {
   "cell_type": "raw",
   "metadata": {},
   "source": []
  },
  {
   "cell_type": "raw",
   "metadata": {},
   "source": []
  },
  {
   "cell_type": "raw",
   "metadata": {},
   "source": []
  },
  {
   "cell_type": "raw",
   "metadata": {},
   "source": []
  },
  {
   "cell_type": "raw",
   "metadata": {},
   "source": []
  },
  {
   "cell_type": "raw",
   "metadata": {},
   "source": []
  },
  {
   "cell_type": "raw",
   "metadata": {},
   "source": []
  },
  {
   "cell_type": "raw",
   "metadata": {},
   "source": []
  },
  {
   "cell_type": "raw",
   "metadata": {},
   "source": []
  },
  {
   "cell_type": "raw",
   "metadata": {},
   "source": []
  },
  {
   "cell_type": "raw",
   "metadata": {},
   "source": []
  },
  {
   "cell_type": "raw",
   "metadata": {},
   "source": []
  },
  {
   "cell_type": "raw",
   "metadata": {},
   "source": []
  },
  {
   "cell_type": "raw",
   "metadata": {},
   "source": []
  },
  {
   "cell_type": "raw",
   "metadata": {},
   "source": []
  },
  {
   "cell_type": "code",
   "execution_count": null,
   "metadata": {},
   "outputs": [],
   "source": []
  }
 ],
 "metadata": {
  "kernelspec": {
   "display_name": "Python 3",
   "language": "python",
   "name": "python3"
  },
  "language_info": {
   "codemirror_mode": {
    "name": "ipython",
    "version": 3
   },
   "file_extension": ".py",
   "mimetype": "text/x-python",
   "name": "python",
   "nbconvert_exporter": "python",
   "pygments_lexer": "ipython3",
   "version": "3.7.1"
  },
  "toc": {
   "base_numbering": 1,
   "nav_menu": {},
   "number_sections": true,
   "sideBar": true,
   "skip_h1_title": false,
   "title_cell": "Table of Contents",
   "title_sidebar": "Contents",
   "toc_cell": false,
   "toc_position": {},
   "toc_section_display": true,
   "toc_window_display": false
  }
 },
 "nbformat": 4,
 "nbformat_minor": 2
}
