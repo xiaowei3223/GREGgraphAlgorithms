{
 "cells": [
  {
   "cell_type": "markdown",
   "metadata": {},
   "source": [
    "# Install GREG"
   ]
  },
  {
   "cell_type": "markdown",
   "metadata": {},
   "source": [
    "## Confirm installation of Java"
   ]
  },
  {
   "cell_type": "markdown",
   "metadata": {},
   "source": [
    "You must install OpenJDK 8 or Oracle Java 8 on your windows system before you install neo4j.\n",
    "\n",
    "**Note:** recommended for Neo4j 3.0.x Version 7 is recommended for releases prior to 2.3.0."
   ]
  },
  {
   "cell_type": "markdown",
   "metadata": {},
   "source": [
    "If you didn't install java in your computer, then you can refer [Install Java tutorial](InstallJava.ipynb)."
   ]
  },
  {
   "cell_type": "markdown",
   "metadata": {},
   "source": [
    "## Install neo4j"
   ]
  },
  {
   "cell_type": "markdown",
   "metadata": {},
   "source": [
    "### Download neo4j"
   ]
  },
  {
   "cell_type": "markdown",
   "metadata": {},
   "source": [
    "Website:  https://neo4j.com/download-center/#releases\n",
    "\n",
    "![79.png](./picture/79.png)"
   ]
  },
  {
   "cell_type": "markdown",
   "metadata": {},
   "source": [
    "Here we select `neo4j 3.5.6(zip)` version in windows."
   ]
  },
  {
   "cell_type": "markdown",
   "metadata": {},
   "source": [
    "### Unzip the file "
   ]
  },
  {
   "cell_type": "markdown",
   "metadata": {},
   "source": [
    "Find the zip file you just downloaded and right-click, extract all.\n",
    "\n",
    "Change the folder name `neo4j-community-3.5.6` to `GREG`.\n",
    "\n",
    "Here we put the GREG folder to `F:/June28`, \n",
    "\n",
    "open the file\n",
    "\n",
    "`F:\\June28\\GREG\\bin\\neo4j.ps1`\n",
    "\n",
    "find out (on line27)\n",
    "\n",
    "`Import-Module \"$PSScriptRoot\\Neo4j-Management.psd1\"`\n",
    "\n",
    "and change to \n",
    "\n",
    "`Import-Module \"F:\\June28\\GREG\\bin\\Neo4j-Management.psd1\"`\n",
    "\n",
    "save the file. "
   ]
  },
  {
   "cell_type": "markdown",
   "metadata": {},
   "source": [
    "**Now you can use neo4j or keep following to install GREG.**\n",
    "\n"
   ]
  },
  {
   "cell_type": "markdown",
   "metadata": {},
   "source": [
    "### Import GREG database"
   ]
  },
  {
   "cell_type": "markdown",
   "metadata": {},
   "source": [
    "the folder `bigbin` is our GREG database, we should copy this to `F:\\June28\\GREG\\data\\databases` directory.\n",
    "    \n",
    "After that, we make some changes in  `F:\\June28\\GREG\\conf\\neo4j.conf` file.\n",
    "\n",
    "find out \n",
    "\n",
    "`#dbms.active_database=graph.db` \n",
    "\n",
    "and change to\n",
    "\n",
    "`dbms.active_database=bigbin`\n",
    "\n",
    "save the file."
   ]
  },
  {
   "cell_type": "markdown",
   "metadata": {},
   "source": [
    "## To run GREG as a console application"
   ]
  },
  {
   "cell_type": "markdown",
   "metadata": {},
   "source": [
    "**Open Command Prompt and input:**"
   ]
  },
  {
   "cell_type": "raw",
   "metadata": {},
   "source": [
    " f:"
   ]
  },
  {
   "cell_type": "markdown",
   "metadata": {},
   "source": [
    "**Move to `GREG\\bin` direvtory**"
   ]
  },
  {
   "cell_type": "raw",
   "metadata": {},
   "source": [
    "cd F:\\June28\\GREG\\bin"
   ]
  },
  {
   "cell_type": "markdown",
   "metadata": {},
   "source": [
    "**Start GREG(neo4j)** "
   ]
  },
  {
   "cell_type": "raw",
   "metadata": {},
   "source": [
    "neo4j.bat console"
   ]
  },
  {
   "cell_type": "markdown",
   "metadata": {},
   "source": [
    "![30.png](./picture/30.png)"
   ]
  },
  {
   "cell_type": "markdown",
   "metadata": {},
   "source": [
    "For additional commands and to learn about the Windows PowerShell module included in the Zip file, see the Windows installation documentation."
   ]
  },
  {
   "cell_type": "markdown",
   "metadata": {},
   "source": [
    "**Open Neo4j Browser**\n"
   ]
  },
  {
   "cell_type": "markdown",
   "metadata": {},
   "source": [
    "Visit http://localhost:7474 in your web browser.\n",
    "Connect using the username `neo4j` with default password `neo4j`.\n",
    "![80.png](./picture/80.png)"
   ]
  },
  {
   "cell_type": "markdown",
   "metadata": {},
   "source": [
    "# Install algo and apoc"
   ]
  },
  {
   "cell_type": "markdown",
   "metadata": {},
   "source": [
    "If we are using a standalone Neo4j Server, the library will need to be installed and configured manually."
   ]
  },
  {
   "cell_type": "markdown",
   "metadata": {},
   "source": [
    "1. Download `graph-algorithms-algo-[version].jar` from [the matching release](https://github.com/neo4j-contrib/neo4j-graph-algorithms/releases) and copy it into the `$NEO4J_HOME/plugins ` directory. We can work out which release to download by referring to the versions file.\n",
    "\n",
    " Download `apoc-[version-all].jar` from [the matching release](https://github.com/neo4j-contrib/neo4j-apoc-procedures/releases/) and copy it into the `$NEO4J_HOME/plugins ` directory. We can work out which release to download by referring to the versions file.\n",
    " \n",
    "**Note: You must download the release versions file which refers to your neo4j.  Otherwise, you will do not start neo4j.**"
   ]
  },
  {
   "cell_type": "markdown",
   "metadata": {},
   "source": [
    "2. Add the following to your `$NEO4J_HOME/conf/neo4j.conf` file:"
   ]
  },
  {
   "cell_type": "raw",
   "metadata": {},
   "source": [
    "dbms.security.procedures.unrestricted=algo.*,apoc.*"
   ]
  },
  {
   "cell_type": "markdown",
   "metadata": {},
   "source": [
    "  We need to give the library unrestricted access because the algorithms use the lower level Kernel API to read from, and to write to Neo4j."
   ]
  },
  {
   "cell_type": "markdown",
   "metadata": {},
   "source": [
    "3. Restar Neo4j"
   ]
  },
  {
   "cell_type": "markdown",
   "metadata": {},
   "source": [
    "4. Verifying installation\n",
    "\n",
    "     Once we’ve installed the library, to see a list of all the algorithms, run the following query:"
   ]
  },
  {
   "cell_type": "raw",
   "metadata": {},
   "source": [
    "CALL algo.list()"
   ]
  },
  {
   "cell_type": "raw",
   "metadata": {},
   "source": [
    "return apoc.version()"
   ]
  },
  {
   "cell_type": "markdown",
   "metadata": {},
   "source": [
    "# pathfinding"
   ]
  },
  {
   "cell_type": "markdown",
   "metadata": {},
   "source": [
    "In this chapter, we only discuss shortest path and All pairs Shortest path. As you see, we show you overview of pathfinding and graph search algorithms."
   ]
  },
  {
   "cell_type": "markdown",
   "metadata": {},
   "source": [
    "Algorithm type\t|What it does\t|Example use\n",
    "-----------------|----------|----------\n",
    "Shortest Path|\tCalculates the shortest path between a pair of nodes\t|Finding driving directions between two locations\n",
    "All Pairs Shortest Path\t|Calculates the shortest path between all pairs of nodes in the graph\t|Evaluating alternate routesaround a traffic jam"
   ]
  },
  {
   "cell_type": "markdown",
   "metadata": {},
   "source": [
    "## Shortest path"
   ]
  },
  {
   "cell_type": "markdown",
   "metadata": {},
   "source": [
    "The Shortest Path algorithm calculates the shortest (weighted) path between a pair of nodes. \n",
    "\n",
    "The Shortest Path algorithm operates by first finding the lowest-weight relationship from the start node to directly connected nodes. It keeps track of those weights and moves to the closest node. It then performs the same calculation, but now as a cumulative total from the start node. The algorithm continues to do this, evaluating a wave of cumulative weights and always choosing the lowest weighted cumulative path to advance along, until it reaches the destination node.\n",
    "\n",
    "Distance is often used within an algorithm as the name of the relationship property that indicates the cost of traversing between a pair of nodes. It s not required that this be an actual physical measure of distance. Hop is commonly used to express the number of relationships between two nodes. You may see some of these terms combined, as in It s a five-hop distance to London or That s the lowest cost for the distance.\n",
    "\n",
    "In our example, we set the relationship property as null, because the database didn't have relationship property we can explore. Then, we only to find shortest paths based on hop (the number of nodes)."
   ]
  },
  {
   "cell_type": "markdown",
   "metadata": {},
   "source": [
    "### algo.shortestPaths.stream"
   ]
  },
  {
   "cell_type": "markdown",
   "metadata": {},
   "source": [
    "`algo.shortestPaths.stream` function calculates the shortest path between a pair of nodes.  `algo.shortestPaths.stream` form likes as following:"
   ]
  },
  {
   "cell_type": "raw",
   "metadata": {},
   "source": [
    "CALL algo.shortestPath.stream(startNode:Node, \n",
    "                    endNode:Node, \n",
    "                    weightProperty:String\n",
    "                    {nodeQuery:'labelName', \n",
    "                    relationshipQuery:'relationshipName', \n",
    "                    defaultValue:1.0, \n",
    "                    direction:'OUTGOING'})\n",
    " YIELD nodeId, cost"
   ]
  },
  {
   "cell_type": "markdown",
   "metadata": {},
   "source": [
    "#### Parameters"
   ]
  },
  {
   "cell_type": "markdown",
   "metadata": {},
   "source": [
    "Name\t|Type\t|Default\t|Optional\t|Description\n",
    "-----------|--------|----------------|-----------------|----------------\n",
    "startNode|node|null|no|The start node\n",
    "endNode|node|null|no|The end node\n",
    "weightProperty|string|null|yes|The property name that contains weight. If null, treats the graph as unweighted. Must be numeric.\n",
    "nodeQuery|string|null|yes|The label to load from the graph. If null, load all nodes\n",
    "relationshipQuery|string|null|yes|The relationship-type to load from the graph. If null, load all nodes\n",
    "defaultValue|float|null|yes|The default value of the weight in case it is missing or invalid\n",
    "direction|string|outgoing|yes|The relationship direction to load from the graph. If 'both', treats the relationships as undirected"
   ]
  },
  {
   "cell_type": "markdown",
   "metadata": {},
   "source": [
    "#### Results"
   ]
  },
  {
   "cell_type": "markdown",
   "metadata": {},
   "source": [
    "Name\t|Type\t|Description\n",
    "-------|----------|------------\n",
    "nodeId|int|Node ID\n",
    "cost|int|The cost it takes to get from start node to specific node"
   ]
  },
  {
   "cell_type": "markdown",
   "metadata": {},
   "source": [
    "### Example"
   ]
  },
  {
   "cell_type": "markdown",
   "metadata": {},
   "source": [
    "Example is find out shortest relationships of  \"BHLHE40\" and \"ATF1\" TF genes:"
   ]
  },
  {
   "cell_type": "raw",
   "metadata": {},
   "source": [
    "MATCH (source:TF{Name:\"BHLHE40\"}) ,\n",
    "\t(destination:TF{Name:\"ATF1\"})\n",
    "CALL algo.shortestPath.stream(source,destination,null)\n",
    "YIELD nodeId, cost\n",
    "RETURN algo.getNodeById(nodeId).Name AS Name, cost"
   ]
  },
  {
   "cell_type": "markdown",
   "metadata": {},
   "source": [
    "Result\n",
    "![1.png](./picture/1.png)"
   ]
  },
  {
   "cell_type": "markdown",
   "metadata": {},
   "source": [
    "- Here the cost is the cumulative total for relationships (or hops).\n",
    "\n",
    "- In our example, we set the relationship property as `null`."
   ]
  },
  {
   "cell_type": "markdown",
   "metadata": {},
   "source": [
    "## All Pairs Shortest Path"
   ]
  },
  {
   "cell_type": "markdown",
   "metadata": {},
   "source": [
    "The All Pairs Shortest Path (APSP) algorithm calculates the shortest (weighted) path between all pairs of nodes. It s more efficient than running the Single Source Shortest Path algorithm for every pair of nodes in the graph.\n",
    "\n",
    "The calculation for APSP is easiest to understand when you follow a sequence of operations. The diagram in Figure 2-2 walks through the steps for node A.\n",
    "\n",
    "![11.png](./picture/11.png)\n",
    "\n",
    "-- This picture is from [*Graph Algorithms*](https://neo4j.com/lp/book-graph-algorithms-thanks/?aliId=eyJpIjoiT1lBd0tIeEh6Y2N6ajZCYiIsInQiOiJPemxyM1BhUG9uczhBdzFYRUwrM3Z3PT0ifQ%253D%253D)."
   ]
  },
  {
   "cell_type": "markdown",
   "metadata": {},
   "source": [
    "Initially the algorithm assumes an infinite distance to all nodes. When a start node is selected, then the distance to that node is set to 0. The calculation then proceeds as follows：\n",
    "\n",
    "\n",
    "1. From start node A we evaluate the cost of moving to the nodes we can reach and update those values. Looking for the smallest value, we have a choice of B (cost of 3) or C (cost of 1). C is selected for the next phase of traversal.\n",
    "\n",
    "2. Now from node C, the algorithm updates the cumulative distances from A to nodes that can be reached directly from C. Values are only updated when a lower cost has been found\n",
    "`A=0, B=3, C=1, D=8, E=∞`\n",
    "\n",
    "3. Then B is selected as the next closest node that hasn t already been visited. It has relationships to nodes A, D, and E. The algorithm works out the distance to those nodes by summing the distance from A to B with the distance from B to each of those nodes. Note that the lowest cost from the start node A to the current node is always preserved as a sunk cost. The distance (d) calculation results\n",
    "\n",
    " `d(A,A) = d(A,B) + d(B,A) = 3 + 3 = 6`\n",
    "\n",
    " `d(A,D) = d(A,B) + d(B,D) = 3 + 3 = 6`\n",
    "\n",
    " `d(A,E) = d(A,B) + d(B,E) = 3 + 1 = 4`\n",
    "\n",
    "        In this step the distance from node A to B and back to A, shown as d(A,A) = 6, is greater than the shortest distance already computed (0), so its value is not updated.\n",
    "    \n",
    "        The distances for nodes D (6) and E (4) are less than the previously calculated distances, so their values are updated.\n",
    "    \n",
    "4. E is selected next. Only the cumulative total for reaching D (5) is now lower, and therefore it is the only one updated.\n",
    "\n",
    "5. When D is finally evaluated, there are no new minimum path weights; nothing is updated, and the algorithm terminates."
   ]
  },
  {
   "cell_type": "markdown",
   "metadata": {},
   "source": [
    "**NOTE**\n",
    "\n",
    "Some pairs of nodes might not be reachable from each other, which means that there is no shortest path between these nodes. The algorithm doesn’t return distances for these pairs of nodes.\n",
    "\n",
    "Even though the All Pairs Shortest Path algorithm is optimized to run calculations in parallel for each node, this can still add up for a very large graph. Consider using a subgraph if you only need to evaluate paths between a subcategory of nodes."
   ]
  },
  {
   "cell_type": "markdown",
   "metadata": {},
   "source": [
    "### algo.allShortestPaths.stream"
   ]
  },
  {
   "cell_type": "raw",
   "metadata": {},
   "source": [
    "CALL algo.allShortestPaths.stream( weightProperty: String,\n",
    "                       {nodeQuery:'labelName', \t\n",
    "                       relationshipQuery:'relationshipName',\n",
    "                       defaultValue:1.0, \n",
    "                       concurrency:4}) \n",
    "YIELD sourceNodeId, targetNodeId, distance"
   ]
  },
  {
   "cell_type": "markdown",
   "metadata": {},
   "source": [
    " - The first parameter to this procedure is the property to use to work out the shortest weighted path. \n",
    " \n",
    " - yields a stream of {sourceNodeId, targetNodeId, distance}"
   ]
  },
  {
   "cell_type": "markdown",
   "metadata": {},
   "source": [
    "#### Parameters"
   ]
  },
  {
   "cell_type": "markdown",
   "metadata": {},
   "source": [
    "Name\t|Type\t|Default\t|Optional\t|Description\n",
    "-----------|--------|----------------|-----------------|----------------\n",
    "weightProperty|string|null|yes|The property name that contains weight. If null, treats the graph as unweighted. Must be numeric.\n",
    "nodeQuery|string|null|yes|The label to load from the graph. If null, load all nodes\n",
    "relationshipQuery|string|null|yes|The relationship-type to load from the graph. If null, load all nodes\n",
    "defaultValue|float|null|yes|The default value of the weight in case it is missing or invalid\n",
    "direction|string|outgoing|yes|The relationship direction to load from the graph. If 'both', treats the relationships as undirected"
   ]
  },
  {
   "cell_type": "markdown",
   "metadata": {},
   "source": [
    "#### Results"
   ]
  },
  {
   "cell_type": "markdown",
   "metadata": {},
   "source": [
    "Name\t|Type\t|Description\n",
    "-------|----------|------------\n",
    "sourceNodeId|long|The start node ID\n",
    "endNode|long|The end node ID\n",
    "distance|int|The distance it takes to get from start node to specific node"
   ]
  },
  {
   "cell_type": "markdown",
   "metadata": {},
   "source": [
    "### Example"
   ]
  },
  {
   "cell_type": "markdown",
   "metadata": {},
   "source": [
    "Now, we want to find out all pairs TF genes shortest path in our database.\n",
    "\n",
    "If we set this to null then the algorithm will calculate the unweighted shortest paths between all pairs of nodes.\n",
    "\n",
    "The following query does this:"
   ]
  },
  {
   "cell_type": "raw",
   "metadata": {},
   "source": [
    "CALL algo.allShortestPaths.stream(null,{nodeQuery:'TF'})\n",
    "YIELD sourceNodeId, targetNodeId, distance\n",
    "WHERE sourceNodeId < targetNodeId\n",
    "RETURN algo.getNodeById(sourceNodeId).Name AS source,\n",
    "algo.getNodeById(targetNodeId).Name AS target,\n",
    "distance\n",
    "ORDER BY distance DESC"
   ]
  },
  {
   "cell_type": "markdown",
   "metadata": {},
   "source": [
    "Result\n",
    "![12.png](./picture/12.png)"
   ]
  },
  {
   "cell_type": "markdown",
   "metadata": {},
   "source": [
    "## exercise"
   ]
  },
  {
   "cell_type": "markdown",
   "metadata": {},
   "source": [
    "#### 1. Find shortest path between \"FOXA1\" and \"ZNF143\" genes, the result should be as graph."
   ]
  },
  {
   "cell_type": "raw",
   "metadata": {},
   "source": [
    "MATCH (source:node{name:\"Xkr9\"}) ,\n",
    "\t(destination:node{name:\"Rnf7\"})\n",
    "CALL algo.shortestPath.stream(source,destination,null)\n",
    "YIELD nodeId, cost\n",
    "RETURN algo.getNodeById(nodeId)"
   ]
  },
  {
   "cell_type": "markdown",
   "metadata": {},
   "source": [
    "#### 2. Try to find all pair TF genes shotest paths only belong Bind relationship."
   ]
  },
  {
   "cell_type": "raw",
   "metadata": {},
   "source": [
    "CALL algo.allShortestPaths.stream(null,{nodeQuery:'TF',relationshipQuery:'Interaction'})\n",
    "YIELD sourceNodeId, targetNodeId, distance\n",
    "WHERE sourceNodeId < targetNodeId\n",
    "RETURN algo.getNodeById(sourceNodeId).Name AS source,\n",
    "algo.getNodeById(targetNodeId).Name AS target,\n",
    "distance\n",
    "ORDER BY distance DESC"
   ]
  },
  {
   "cell_type": "markdown",
   "metadata": {},
   "source": [
    "# Centrality"
   ]
  },
  {
   "cell_type": "markdown",
   "metadata": {},
   "source": [
    "Centrality algorithms are used to understand the roles of particular nodes in a graph and their impact on that network. They are useful because they identify the most important nodes and help us understand group dynamics such as credibility, accessibility, the speed at which things spread, and bridges between groups. \n",
    "\n",
    "**In biologically, centrality algorithms help us find out what are important genes, which one play an important position to control or regulate, and what is critical gene in the research project.**\n",
    "\n",
    "Here we introduce closness centrality, pageRank and betweenness centrality. Now, let us to know what it does with those centrality algorithms."
   ]
  },
  {
   "cell_type": "markdown",
   "metadata": {},
   "source": [
    "Algorithm type\t|What it does\t|Example use\n",
    "---------|------------|-------\n",
    "Degree Centrality\t|Measures the number of relationships a node has|Estimating a person's popularity by looking at their in-degree and using their out-degree to estimate gregariousness\n",
    "Closeness Centrality\t|Calculates which nodes have the shortest paths to all other nodes\t|Finding the optimal location of new public services for maximum accessibility\n",
    "Betweenness Centrality\t|Measures the number of shortest paths that through a node \t|Improving drug targeting by finding the control genes for sepcific diseases\n",
    "PageRank\t|Estimates a current node's importance from its linked neighbors( popularized by Google)\t|Finding the most influential features for extraction in machine learning and rankinng text for entity relevance in natural language processing"
   ]
  },
  {
   "cell_type": "markdown",
   "metadata": {},
   "source": [
    "The measure of a node s centrality is its average farness (inverse distance) to all other nodes. Nodes with a high closeness score have the shortest distances from all other nodes."
   ]
  },
  {
   "cell_type": "markdown",
   "metadata": {},
   "source": [
    "![15.png](./picture/15.png)\n",
    "-- This picture is from [*Graph Algorithms*](https://neo4j.com/lp/book-graph-algorithms-thanks/?aliId=eyJpIjoiT1lBd0tIeEh6Y2N6ajZCYiIsInQiOiJPemxyM1BhUG9uczhBdzFYRUwrM3Z3PT0ifQ%253D%253D)."
   ]
  },
  {
   "cell_type": "markdown",
   "metadata": {},
   "source": [
    "## Degree Centrality"
   ]
  },
  {
   "cell_type": "markdown",
   "metadata": {},
   "source": [
    "### algo.degree.stream"
   ]
  },
  {
   "cell_type": "raw",
   "metadata": {},
   "source": [
    "CALL algo.degree.stream(label:String, \n",
    "                relationship:String,\n",
    "                {concurrency:4})\n",
    "YIELD node, score"
   ]
  },
  {
   "cell_type": "markdown",
   "metadata": {},
   "source": [
    "#### Parameters"
   ]
  },
  {
   "cell_type": "markdown",
   "metadata": {},
   "source": [
    "Name\t|Type\t|Default\t|Optional|\tDescription\n",
    "--------|--------|-----------|---------|--------------\n",
    "label|string|null|yes|The label to load from the graph. If null, load all nodes.\n",
    "relationship|string|null|yes|The relationship-type to load from the graph. If null, load all nodes.\n",
    "direction|string|incoming|yes|The relationship direction to load from the graph. If 'both', treats the relationships as undirected.\n",
    "concurrency|int|available CPUs|yes|The number of concurrent threads."
   ]
  },
  {
   "cell_type": "markdown",
   "metadata": {},
   "source": [
    "#### Results"
   ]
  },
  {
   "cell_type": "markdown",
   "metadata": {},
   "source": [
    "Name\t|Type\t|Description\n",
    "--------|----------|-----------\n",
    "nodeId|long|Node ID\n",
    "score|float|Degree Centrality score"
   ]
  },
  {
   "cell_type": "markdown",
   "metadata": {},
   "source": [
    "### Example"
   ]
  },
  {
   "cell_type": "raw",
   "metadata": {},
   "source": [
    "CALL algo.degree.stream(\"TF\", \"Interaction\", {direction: \"incoming\"})\n",
    "YIELD nodeId, score\n",
    "RETURN algo.asNode(nodeId).Name AS Name, score \n",
    "ORDER BY score DESC"
   ]
  },
  {
   "cell_type": "markdown",
   "metadata": {},
   "source": [
    "results \n",
    "![17.png](./picture/17.png)"
   ]
  },
  {
   "cell_type": "markdown",
   "metadata": {},
   "source": [
    "## Closeness Centrality"
   ]
  },
  {
   "cell_type": "markdown",
   "metadata": {},
   "source": [
    "Closeness Centrality is a way of detecting nodes that are able to spread information efficiently through a subgraph."
   ]
  },
  {
   "cell_type": "markdown",
   "metadata": {},
   "source": [
    "Neo4j's implementation of Closeness Centrality uses the following formula:\n",
    "    \n",
    "![26.png](./picture/26.png)\n",
    "\n",
    "where:\n",
    "\n",
    "    u is a node. \n",
    "\n",
    "    n is the number of nodes in the same component (subgraph or group) as u.\n",
    "\n",
    "    d(u,v) is the shortest-path distance between another node v and u."
   ]
  },
  {
   "cell_type": "markdown",
   "metadata": {},
   "source": [
    "**In our graph, we can use this measure to get which gene are able to relate other genns efficiently.**"
   ]
  },
  {
   "cell_type": "markdown",
   "metadata": {},
   "source": [
    "### algo.closeness.stream"
   ]
  },
  {
   "cell_type": "raw",
   "metadata": {},
   "source": [
    "CALL algo.closeness.stream(label:String, \n",
    "                  relationship:String, \n",
    "                  {concurrency:4})\n",
    "YIELD nodeId, centrality"
   ]
  },
  {
   "cell_type": "markdown",
   "metadata": {},
   "source": [
    "#### Paramenters"
   ]
  },
  {
   "cell_type": "markdown",
   "metadata": {},
   "source": [
    "Name| Type| Default | Optional | Description\n",
    "----|----|-----|------|-------\n",
    "label | string |null|yes |The label to load from the graph. If null, load all nodes\n",
    "relationship|string|null|yes|The relationship-type to load from the graph. If null, load all relationships\n",
    "concurrency|int|available CPUs|yes|The number of concurrent threads\n",
    "graph|string|'heavy' |yes |Use 'heavy' when describing the subset of the graph with label and relationship-type parameter,. Use 'cypher' for describing the subset with cypher node-statement and relationship-statement"
   ]
  },
  {
   "cell_type": "markdown",
   "metadata": {},
   "source": [
    "#### Results"
   ]
  },
  {
   "cell_type": "markdown",
   "metadata": {},
   "source": [
    "Name\t|Type\t|Description\n",
    "----|-----|------\n",
    "node|long|Node ID\n",
    "centrality|float|Closeness centrality weight"
   ]
  },
  {
   "cell_type": "markdown",
   "metadata": {},
   "source": [
    "### Example"
   ]
  },
  {
   "cell_type": "markdown",
   "metadata": {},
   "source": [
    "To calculate the closeness centrality for each of TF nodes in our graph:"
   ]
  },
  {
   "cell_type": "raw",
   "metadata": {},
   "source": [
    "CALL algo.closeness.stream(\"TF\", \"Interaction\")\n",
    "YIELD nodeId, centrality\n",
    "RETURN algo.getNodeById(nodeId).Name, centrality\n",
    "ORDER BY centrality DESC"
   ]
  },
  {
   "cell_type": "markdown",
   "metadata": {},
   "source": [
    "result\n",
    "![2.png](picture/2.png)"
   ]
  },
  {
   "cell_type": "markdown",
   "metadata": {},
   "source": [
    "## Closeness Centrality Variation: Wasserman and Faust"
   ]
  },
  {
   "cell_type": "markdown",
   "metadata": {},
   "source": [
    "Stanley Wasserman and Katherine Faust came up with an improved formula for calculating closeness for graphs with multiple subgraphs without connections between those groups. Details on their formula are in their book, Social Network Analysis: Methods and Applications. The result of this formula is a ratio of the fraction of nodes in the group that are reachable to the average distance from the reachable nodes. The formula is as follows\n",
    "\n",
    "![28.png](./picture/28.png)\n",
    "\n",
    "where:\n",
    "\n",
    "    u is a node. \n",
    "\n",
    "    N is the total node count. \n",
    "\n",
    "    n is the number of nodes in the same component as u. \n",
    "\n",
    "     d(u,v) is the shortest-path distance between another node v and u."
   ]
  },
  {
   "cell_type": "markdown",
   "metadata": {},
   "source": [
    "**To calculating closeness for graphs with multiple subgraphs without connections between those groups by improve fomula.**"
   ]
  },
  {
   "cell_type": "markdown",
   "metadata": {},
   "source": [
    "### algo.closeness.stream"
   ]
  },
  {
   "cell_type": "markdown",
   "metadata": {},
   "source": [
    "We can tell the Closeness Centrality procedure to use this formula by passing the parameter `improved: true`."
   ]
  },
  {
   "cell_type": "raw",
   "metadata": {},
   "source": [
    "CALL algo.closeness.stream(label:String, \n",
    "                  relationship:String，\n",
    "                  {concurrency:4,\n",
    "                  improved: true}) \n",
    "YIELD nodeId, centrality"
   ]
  },
  {
   "cell_type": "markdown",
   "metadata": {},
   "source": [
    "#### Paramenters"
   ]
  },
  {
   "cell_type": "markdown",
   "metadata": {},
   "source": [
    "Name| Type| Default | Optional | Description\n",
    "----|----|-----|------|-------\n",
    "label | string |null|yes |The label to load from the graph. If null, load all nodes\n",
    "relationship|string|null|yes|The relationship-type to load from the graph. If null, load all relationships\n",
    "concurrency|int|available CPUs|yes|The number of concurrent threads"
   ]
  },
  {
   "cell_type": "markdown",
   "metadata": {},
   "source": [
    "#### Results"
   ]
  },
  {
   "cell_type": "markdown",
   "metadata": {},
   "source": [
    "Name\t|Type\t|Description\n",
    "----|-----|------\n",
    "node|long|Node ID\n",
    "centrality|float|Closeness centrality weight"
   ]
  },
  {
   "cell_type": "markdown",
   "metadata": {},
   "source": [
    "### Example"
   ]
  },
  {
   "cell_type": "markdown",
   "metadata": {},
   "source": [
    "To calculate the closeness centrality for each of TF nodes in our graph by Wasserman and Faust:"
   ]
  },
  {
   "cell_type": "raw",
   "metadata": {},
   "source": [
    "CALL algo.closeness.stream(\"TF\", \"Interaction\",{improved: true})\n",
    "YIELD nodeId, centrality\n",
    "RETURN algo.getNodeById(nodeId).Name, centrality\n",
    "ORDER BY centrality DESC"
   ]
  },
  {
   "cell_type": "markdown",
   "metadata": {},
   "source": [
    "result\n",
    "![3.png](./picture/3.png)"
   ]
  },
  {
   "cell_type": "markdown",
   "metadata": {},
   "source": [
    "## Closeness Centrality Variation: Harmonic Centrality"
   ]
  },
  {
   "cell_type": "markdown",
   "metadata": {},
   "source": [
    "**Harmonic Centrality (also known as Valued Centrality) is a variant of Closeness Centrality, invented to solve the original problem with unconnected graphs. In Harmony in a Small World , M. Marchiori and V. Latora proposed this concept as a practical representation of an average shortest path.**\n",
    "\n",
    "When calculating the closeness score for each node, rather than summing the distances of a node to all other nodes, **it sums the inverse of those distances**. This means that infinite values become irrelevant."
   ]
  },
  {
   "cell_type": "markdown",
   "metadata": {},
   "source": [
    "The raw harmonic centrality for a node is calculated using the following formula\n",
    "\n",
    "![31.png](./picture/31.png)\n",
    "where:\n",
    "\n",
    "     u is a node.\n",
    "\n",
    "     n is the number of nodes in the graph.\n",
    "\n",
    "     d(u,v) is the shortest-path distance between another node v and u."
   ]
  },
  {
   "cell_type": "markdown",
   "metadata": {},
   "source": [
    "### algo.closeness.harmonic.stream"
   ]
  },
  {
   "cell_type": "raw",
   "metadata": {},
   "source": [
    "CALL algo.closeness.harmonic.stream(label:String, \n",
    "                        relationship:String,\n",
    "                        {concurrency:4}) \n",
    "YIELD nodeId, centrality"
   ]
  },
  {
   "cell_type": "markdown",
   "metadata": {},
   "source": [
    " - yields centrality for each node"
   ]
  },
  {
   "cell_type": "markdown",
   "metadata": {},
   "source": [
    "#### Paramenters"
   ]
  },
  {
   "cell_type": "markdown",
   "metadata": {},
   "source": [
    "Name| Type| Default | Optional | Description\n",
    "----|----|-----|------|-------\n",
    "label | string |null|yes |The label to load from the graph. If null, load all nodes\n",
    "relationship|string|null|yes|The relationship-type to load from the graph. If null, load all relationships\n",
    "concurrency|int|available CPUs|yes|The number of concurrent threads"
   ]
  },
  {
   "cell_type": "markdown",
   "metadata": {},
   "source": [
    "#### Results"
   ]
  },
  {
   "cell_type": "markdown",
   "metadata": {},
   "source": [
    "Name\t|Type\t|Description\n",
    "----|-----|------\n",
    "node|long|Node ID\n",
    "centrality|float|Closeness centrality weight"
   ]
  },
  {
   "cell_type": "markdown",
   "metadata": {},
   "source": [
    "### Example"
   ]
  },
  {
   "cell_type": "markdown",
   "metadata": {},
   "source": [
    "To calculate the closeness centrality for each of TF nodes in our graph by Harmonic Centrality:"
   ]
  },
  {
   "cell_type": "raw",
   "metadata": {},
   "source": [
    "CALL algo.closeness.harmonic.stream(\"TF\", \"Interaction\")\n",
    "YIELD nodeId, centrality\n",
    "RETURN algo.getNodeById(nodeId).Name, centrality\n",
    "ORDER BY centrality DESC"
   ]
  },
  {
   "cell_type": "markdown",
   "metadata": {},
   "source": [
    "Result\n",
    "![4.png](./picture/4.png)"
   ]
  },
  {
   "cell_type": "markdown",
   "metadata": {},
   "source": [
    "## Betweenness Centrality\n"
   ]
  },
  {
   "cell_type": "markdown",
   "metadata": {},
   "source": [
    "Betweenness Centrality is a way of detecting the amount of influence a node has over the flow of information or resources in a graph. It is typically used **to find nodes that serve as a bridge from one part of a graph to another**.\n",
    "\n",
    "The Betweenness Centrality algorithm first calculates the shortest (weighted) path between every pair of nodes in a connected graph. Each node receives a score, based on the number of these shortest paths that pass through the node. The more shortest paths that a node lies on, the higher its score."
   ]
  },
  {
   "cell_type": "markdown",
   "metadata": {},
   "source": [
    "![34.png](./picture/34.png)\n",
    "-- This picture is from [*Graph Algorithms*](https://neo4j.com/lp/book-graph-algorithms-thanks/?aliId=eyJpIjoiT1lBd0tIeEh6Y2N6ajZCYiIsInQiOiJPemxyM1BhUG9uczhBdzFYRUwrM3Z3PT0ifQ%253D%253D).\n",
    "\n",
    "\n",
    "Pivotal nodes play an important role in connecting other nodes if you remove a pivotal node, the new shortest path for the original node pairs will be longer or more costly. This can be a consideration for evaluating single points of vulnerability."
   ]
  },
  {
   "cell_type": "markdown",
   "metadata": {},
   "source": [
    "The betweenness centrality of a node is calculated by adding the results of the following formula for all shortest paths:\n",
    "![35.png](./picture/35.png)\n",
    "\n",
    "where:\n",
    "\n",
    "     u is a node. \n",
    "\n",
    "    p is the total number of shortest paths between nodes s and t.\n",
    "\n",
    "    p(u) is the number of shortest paths between nodes s and t that pass through node u.\n",
    "\n",
    "The figure illustrates the steps for working out betweenness centrality.\n",
    "\n",
    "![36.png](./picture/36.png)\n",
    "\n",
    "Here s the procedure: \n",
    "\n",
    "    1. For each node, find the shortest paths that go through it. a. B, C, E have no shortest paths and are assigned a value of 0. \n",
    "\n",
    "    2. For each shortest path in step 1, calculate its percentage of the total possible shortest paths for that pair. \n",
    "\n",
    "    3. Add together all the values in step 2 to find a node s betweenness centrality score. The table in Figure 5-8 illustrates steps 2 and 3 for node D. \n",
    "\n",
    "    4. Repeat the process for each node."
   ]
  },
  {
   "cell_type": "markdown",
   "metadata": {},
   "source": [
    "### algo.betweenness.stream"
   ]
  },
  {
   "cell_type": "raw",
   "metadata": {},
   "source": [
    "CALL algo.betweenness.stream(label:String, \n",
    "                    relationship:String, \n",
    "                   {direction:'out', \n",
    "                    concurrency:4})\n",
    "YIELD nodeId, centrality"
   ]
  },
  {
   "cell_type": "markdown",
   "metadata": {},
   "source": [
    "#### Paramenters"
   ]
  },
  {
   "cell_type": "markdown",
   "metadata": {},
   "source": [
    "Name| Type| Default | Optional | Description\n",
    "----|----|-----|------|-------\n",
    "label | string |null|yes |The label to load from the graph. If null, load all nodes\n",
    "relationship|string|null|yes|The relationship-type to load from the graph. If null, load all relationships\n",
    "concurrency|int|available CPUs|yes|The number of concurrent threads\n",
    "direction|string|outgoing|yes|The relationship direction to load from the graph. If 'both', treats the relationships as undirected"
   ]
  },
  {
   "cell_type": "markdown",
   "metadata": {},
   "source": [
    "#### Results"
   ]
  },
  {
   "cell_type": "markdown",
   "metadata": {},
   "source": [
    "Name\t|Type\t|Description\n",
    "----|-----|------\n",
    "node|long|Node ID\n",
    "centrality|float|Closeness centrality weight"
   ]
  },
  {
   "cell_type": "markdown",
   "metadata": {},
   "source": [
    "### Example"
   ]
  },
  {
   "cell_type": "markdown",
   "metadata": {},
   "source": [
    "To measure the number of shotest paths that pass through a TF gene in this database."
   ]
  },
  {
   "cell_type": "raw",
   "metadata": {},
   "source": [
    "CALL algo.betweenness.stream(\"TF\", \"Interaction\")\n",
    "YIELD nodeId, centrality\n",
    "RETURN algo.getNodeById(nodeId).Name, centrality\n",
    "ORDER BY centrality DESC"
   ]
  },
  {
   "cell_type": "markdown",
   "metadata": {},
   "source": [
    "Results\n",
    "![5.png](./picture/5.png)"
   ]
  },
  {
   "cell_type": "markdown",
   "metadata": {},
   "source": [
    "## Betweenness Centrality Variation: Randomized-Approximate Brandes"
   ]
  },
  {
   "cell_type": "markdown",
   "metadata": {},
   "source": [
    "The Randomized-Approximate Brandes (RA-Brandes for short) algorithm is the best-known algorithm for calculating an approximate score for betweenness centrality. **Rather than calculating the shortest path between every pair of nodes, the RABrandes algorithm considers only a subset of nodes.** Two common strategies for selecting the subset of nodes are:\n",
    "    \n",
    "**Random** \n",
    "\n",
    "    Nodes are selected uniformly, at random, with a defined probability of selection. The default probability is: log10 N e2 . If the probability is 1, the algorithm works the same way as the normal Betweenness Centrality algorithm, where all nodes are loaded.\n",
    "    \n",
    "**Degree** \n",
    "\n",
    "    Nodes are selected randomly, but those whose degree is lower than the mean are automatically excluded (i.e., only nodes with a lot of relationships have a chance of being visited). \n",
    "\n",
    "    As a further optimization, you could limit the depth used by the Shortest Path algorithm, which will then provide a subset of all the shortest paths."
   ]
  },
  {
   "cell_type": "markdown",
   "metadata": {},
   "source": [
    "### algo.betweenness.sampled.stream"
   ]
  },
  {
   "cell_type": "raw",
   "metadata": {},
   "source": [
    "CALL algo.betweenness.sampled.stream(label:String, \n",
    "                         relationship:String, \n",
    "                         {strategy:{'random', 'degree'},\n",
    "                         probability:double, \n",
    "                         maxDepth:int, \n",
    "                         direction:String, \n",
    "                         concurrency:int})\n",
    "YIELD nodeId, centrality"
   ]
  },
  {
   "cell_type": "markdown",
   "metadata": {},
   "source": [
    "#### Paramenters"
   ]
  },
  {
   "cell_type": "markdown",
   "metadata": {},
   "source": [
    "Name| Type| Default | Optional | Description\n",
    "----|----|-----|------|-------\n",
    "label | string |null|yes |The label to load from the graph. If null, load all nodes\n",
    "relationship|string|null|yes|The relationship-type to load from the graph. If null, load all relationships\n",
    "strategy|string|'random'|yes|The node selection strategy\n",
    "probability|float|log10(N) / e^2|yes|The probability a node is selected. Values between 0 and 1. If 1, selects all nodes and works like original Brandes algorithm\n",
    "maxDepth|int|Integer.MAX|yes|The depth of the shortest paths traversal\n",
    "concurrency|int|available CPUs|yes|The number of concurrent threads\n",
    "direction|string|outgoing|yes|The relationship direction to load from the graph. If 'both', treats the relationships as undirected"
   ]
  },
  {
   "cell_type": "markdown",
   "metadata": {},
   "source": [
    "#### Results"
   ]
  },
  {
   "cell_type": "markdown",
   "metadata": {},
   "source": [
    "Name\t|Type\t|Description\n",
    "----|-----|------\n",
    "node|long|Node ID\n",
    "centrality|float|Closeness centrality weight"
   ]
  },
  {
   "cell_type": "markdown",
   "metadata": {},
   "source": [
    "### Example"
   ]
  },
  {
   "cell_type": "markdown",
   "metadata": {},
   "source": [
    "The following query executes the RA-Brandes algorithm using the random selection method."
   ]
  },
  {
   "cell_type": "raw",
   "metadata": {},
   "source": [
    "CALL algo.betweenness.sampled.stream(\"TF\", \"Interaction\", {strategy:\"degree\"})\n",
    "YIELD nodeId, centrality\n",
    "RETURN algo.getNodeById(nodeId).Name AS user, centrality\n",
    "ORDER BY centrality DESC"
   ]
  },
  {
   "cell_type": "markdown",
   "metadata": {},
   "source": [
    "results\n",
    "![6.png](./picture/6.png)"
   ]
  },
  {
   "cell_type": "markdown",
   "metadata": {},
   "source": [
    "## PageRank"
   ]
  },
  {
   "cell_type": "markdown",
   "metadata": {},
   "source": [
    "PageRank is the best known of the centrality algorithms. It measures the transitive (or directional) influence of nodes. All the other centrality algorithms we discuss measure the direct influence of a node, whereas **PageRank considers the influence of a node s neighbors, and their neighbors.**  For example, having a few very powerful friends can make you more influential than having a lot of less powerful friends. **PageRank is computed either by iteratively distributing one node s rank over its neighbors or by randomly traversing the graph and counting the frequency with which each node is hit during these walks.**\n",
    "\n",
    "PageRank is defined in the original Google paper as follows：\n",
    "\n",
    " ![43.png](./picture/43.png)\n",
    "    \n",
    "where: \n",
    "\n",
    "    We assume that a page u has citations from pages T1 to Tn. \n",
    "\n",
    "     d is a damping factor which is set between 0 and 1. It is usually set to 0.85. You can think of this as the probability that a user will continue clicking. This helps minimize rank sink, explained in the next section. \n",
    "\n",
    "    1-d is the probability that a node is reached directly without following any relationships. \n",
    "\n",
    "    C(Tn) is defined as the out-degree of a node T.  "
   ]
  },
  {
   "cell_type": "markdown",
   "metadata": {},
   "source": [
    "### algo.pageRank.stream"
   ]
  },
  {
   "cell_type": "raw",
   "metadata": {},
   "source": [
    "CALL algo.pageRank.stream(label:String, \n",
    "                relationship:String,\n",
    "                {direction:'OUTGOING', \n",
    "                iterations:20, \n",
    "                dampingFactor:0.85, \n",
    "                concurrency:4})\n",
    "YIELD node, score"
   ]
  },
  {
   "cell_type": "markdown",
   "metadata": {},
   "source": [
    "#### Paramenters"
   ]
  },
  {
   "cell_type": "markdown",
   "metadata": {},
   "source": [
    "Name| Type| Default | Optional | Description\n",
    "----|----|-----|------|-------\n",
    "label | string |null|yes |The label to load from the graph. If null, load all nodes\n",
    "relationship|string|null|yes|The relationship-type to load from the graph. If null, load all relationships\n",
    "direction|string|'OUTGOING'|yes|The relationship-direction to use in the algorithm\n",
    "iterations|int|20|yes|How many iterations of PageRank to run\n",
    "dampingFactor|float|0.85|yes|The damping factor of the PageRank calculation\n",
    "concurrency|int|available CPUs|yes|The number of concurrent threads"
   ]
  },
  {
   "cell_type": "markdown",
   "metadata": {},
   "source": [
    "#### results"
   ]
  },
  {
   "cell_type": "markdown",
   "metadata": {},
   "source": [
    "Name\t|Type\t|Description\n",
    "---|---|-----\n",
    "nodeId|long|Node ID\n",
    "score|float|PageRank weight"
   ]
  },
  {
   "cell_type": "markdown",
   "metadata": {},
   "source": [
    "### Example"
   ]
  },
  {
   "cell_type": "markdown",
   "metadata": {},
   "source": [
    "A call to the following procedure will calculate the PageRank for each of the TF gene in our graph："
   ]
  },
  {
   "cell_type": "raw",
   "metadata": {},
   "source": [
    "CALL algo.pageRank.stream(\"TF\", \"Interaction\", {iterations:20,dampingFactor:0.85})\n",
    "YIELD nodeId, score\n",
    "RETURN algo.getNodeById(nodeId).Name, score\n",
    "ORDER BY score DESC"
   ]
  },
  {
   "cell_type": "markdown",
   "metadata": {},
   "source": [
    "![7.png](./picture/7.png)"
   ]
  },
  {
   "cell_type": "markdown",
   "metadata": {},
   "source": [
    "## Execises"
   ]
  },
  {
   "cell_type": "markdown",
   "metadata": {},
   "source": [
    "#### 1. Try to find out which range on Chr1 has bind maximum number of LncRNA?"
   ]
  },
  {
   "cell_type": "raw",
   "metadata": {},
   "source": [
    "CALL algo.degree.stream(\"MATCH(n:LncRNA)-[]->(m:chr1) with{ m,n} as LncRNAChr1\", \"Bind\", {direction: \"incoming\"})\n",
    "YIELD nodeId, score\n",
    "RETURN algo.asNode(nodeId).Name AS Name, score \n",
    "ORDER BY score DESC"
   ]
  },
  {
   "cell_type": "markdown",
   "metadata": {},
   "source": [
    "#### 2. Try to find out which LncRNA can bind biggest range on Chr1?"
   ]
  },
  {
   "cell_type": "markdown",
   "metadata": {},
   "source": [
    "DO NOT RUN if you computer memory is less than 8G."
   ]
  },
  {
   "cell_type": "raw",
   "metadata": {},
   "source": [
    "MATCH (LncRNA:LncRNA) with LncRNA AS LncRNA\n",
    "CALL algo.degree.stream(\"MATCH(n:LncRNA)-[]->(m:chr1) with{ m,n} as LncRNAChr1\", \"Bind\", {direction: \"incoming\"})\n",
    "YIELD nodeId, score\n",
    "WHERE algo.asNode(nodeId).Name = LncRNA.Name\n",
    "RETURN algo.asNode(nodeId).Name AS Name, score \n",
    "ORDER BY score DESC"
   ]
  },
  {
   "cell_type": "markdown",
   "metadata": {},
   "source": [
    "#### 3. Calculates which TF have maximum number of **the relationships** bind to chr1_Range."
   ]
  },
  {
   "cell_type": "markdown",
   "metadata": {},
   "source": [
    "DO NOT RUN if you computer memory is less than 8G."
   ]
  },
  {
   "cell_type": "raw",
   "metadata": {},
   "source": [
    "CALL algo.closeness.stream(\"MATCH(TF:TF)-[:bind]-(chr1:chr1_Range) with{TF, chr1} AS TF_Chr1R\", \"Bind\")\n",
    "YIELD nodeId, centrality\n",
    "RETURN algo.getNodeById(nodeId).Name, centrality\n",
    "ORDER BY centrality DESC"
   ]
  },
  {
   "cell_type": "markdown",
   "metadata": {},
   "source": [
    "#### 4. To campare what is difference in Closeness Centrality and two variation(Wasserman and Faust, Harmonic Centrality).\n",
    "\n"
   ]
  },
  {
   "cell_type": "markdown",
   "metadata": {},
   "source": [
    "#### 5. To find out a LncRNA that thoughs the maximum number of shortest paths,please use  Closeness Centrality, Wasserman and Faust and Harmonic Centrality."
   ]
  },
  {
   "cell_type": "markdown",
   "metadata": {},
   "source": [
    "DO NOT RUN if you computer memory is less than 8G."
   ]
  },
  {
   "cell_type": "raw",
   "metadata": {},
   "source": [
    "// get all LncRNA \n",
    "MATCH (m:LncRNA),(n) with m as m\n",
    "\n",
    "// To run algo.closeness.harmonic.stream\n",
    "CALL algo.closeness.harmonic.stream(\"MATCH (n) return n as allnode\", \"Bind\")\n",
    "YIELD nodeId, centrality\n",
    "\n",
    "//filter LncRNA nodes and return the result\n",
    "Where algo.getNodeById(nodeId).Name = m.Name \n",
    "RETURN algo.getNodeById(nodeId).Name, centrality\n",
    "ORDER BY centrality DESC limit 10"
   ]
  },
  {
   "cell_type": "markdown",
   "metadata": {},
   "source": [
    "#### 6. Calculates which TF have maximum number of **shortest paths** bind to chr1_Range."
   ]
  },
  {
   "cell_type": "markdown",
   "metadata": {},
   "source": [
    "Betweenness Centrality"
   ]
  },
  {
   "cell_type": "raw",
   "metadata": {},
   "source": [
    "CALL algo.betweenness.stream(\"MATCH(TF:TF)-[:bind]-(chr1:chr1_Range) with{TF, chr1} AS TF_Chr1R\", \"Bind\")\n",
    "YIELD nodeId, centrality\n",
    "RETURN algo.getNodeById(nodeId).Name, centrality\n",
    "ORDER BY centrality DESC"
   ]
  },
  {
   "cell_type": "markdown",
   "metadata": {},
   "source": [
    "Randomized-Approximate Brandes"
   ]
  },
  {
   "cell_type": "raw",
   "metadata": {},
   "source": [
    "CALL algo.betweenness.sampled.stream(\"MATCH(TF:TF)-[:bind]-(chr1:chr1_Range) with{TF, chr1} AS TF_Chr1R\", \"Bind\", {strategy:\"degree\"})\n",
    "YIELD nodeId, centrality\n",
    "RETURN algo.getNodeById(nodeId).Name AS user, centrality\n",
    "ORDER BY centrality DESC"
   ]
  },
  {
   "cell_type": "markdown",
   "metadata": {},
   "source": [
    "#### 7. Use PageRank to estimates which TF is most important in the subgraph that TFs bind on chr1_range. "
   ]
  },
  {
   "cell_type": "raw",
   "metadata": {},
   "source": [
    "CALL algo.pageRank.stream(\"MATCH(TF:TF)-[:bind]-(chr1:chr1_Range) with{TF, chr1} AS TF_Chr1R\", \"Bind\", {iterations:20,dampingFactor:0.85})\n",
    "YIELD nodeId, score\n",
    "RETURN algo.getNodeById(nodeId).Name, score\n",
    "ORDER BY score DESC"
   ]
  },
  {
   "cell_type": "markdown",
   "metadata": {},
   "source": [
    "#### 8. The default label and relationship-type projection has a limitation of 2 billion nodes and 2 billion relationships. Therefore, if our projected graph contains more than 2 billion nodes or relationships, we will need to use huge graph projection.Set `graph:'huge'` on your cypher commands to test whether your results are the same."
   ]
  },
  {
   "cell_type": "raw",
   "metadata": {},
   "source": [
    "CALL algo.pageRank.stream(\"MATCH(TF:TF)-[:bind]-(chr1:chr1_Range) with{TF, chr1} AS TF_Chr1R\", \"Bind\", {iterations:20,dampingFactor:0.85,graph:'huge'})\n",
    "YIELD nodeId, score\n",
    "RETURN algo.getNodeById(nodeId).Name, score\n",
    "ORDER BY score DESC"
   ]
  },
  {
   "cell_type": "markdown",
   "metadata": {},
   "source": [
    "# Clustering"
   ]
  },
  {
   "cell_type": "markdown",
   "metadata": {},
   "source": [
    "Algorithm type\t|What it does \t|Example use\n",
    "-----------|-----------|-----------------\n",
    "Triangle Count and Clustering Coefficient\t|Measures how many nodes form traingles and the degree to which nodes tend to cluster together\t|Estimating group stability and whether the network myght exhibit “small-world” behaviors seen in graphs with tightly knit clusters\n",
    "Strongly Connected Components\t|Finds groups where each node is reachable from every other node in that same group following the direction of relationships \t|Making product recommendations based on group affiliation or similar items\n",
    "Connected Components\t|Finds groups where each node is reachable from every other node in that same group, regardless of the direction of relationships\t|Performing fast grouping for other algorithms and identify islands\n",
    "Labek Progation\t|Infers clusters by spreading labels based on neighborhood majorities\t|Understanding consensus in social communities or finding dangerous combinations of possible co-prescribed drugs\n",
    "Lovain Modularity\t|Maximizes the presumed accuracy of groupings by comparing relationship weights and densities to a defined estimate or average\t|In fraud analysis, evaluating whether a group has just a few discreete bad behaviors or is acting as a fraud ring"
   ]
  },
  {
   "cell_type": "markdown",
   "metadata": {},
   "source": [
    "![48.png](./picture/48.png)\n",
    "-- This picture is from [*Graph Algorithms*](https://neo4j.com/lp/book-graph-algorithms-thanks/?aliId=eyJpIjoiT1lBd0tIeEh6Y2N6ajZCYiIsInQiOiJPemxyM1BhUG9uczhBdzFYRUwrM3Z3PT0ifQ%253D%253D)."
   ]
  },
  {
   "cell_type": "markdown",
   "metadata": {},
   "source": [
    "## Triangles\n"
   ]
  },
  {
   "cell_type": "markdown",
   "metadata": {},
   "source": [
    "Triangle Count determines the number of triangles passing through each node in the graph. A triangle is a set of three nodes, where each node has a relationship to all other nodes. Triangle Count can also be run globally for evaluating our overall dataset.\n",
    "\n",
    "Networks with a high number of triangles are more likely to exhibit small-world structures and behaviors.\n",
    "\n",
    "The goal of the Clustering Coefficient algorithm is to measure how tightly a group is clustered compared to how tightly it could be clustered. The algorithm uses Triangle Count in its calculations, which provides a ratio of existing triangles to possible relationships. A maximum value of 1 indicates a clique where every node is connected to every other node."
   ]
  },
  {
   "cell_type": "markdown",
   "metadata": {},
   "source": [
    "### algo.triangle.stream"
   ]
  },
  {
   "cell_type": "raw",
   "metadata": {},
   "source": [
    "CALL algo.triangle.stream(label, \n",
    "                relationship, \n",
    "                {concurrency:4}) \n",
    "YIELD nodeA, nodeB, nodeC "
   ]
  },
  {
   "cell_type": "markdown",
   "metadata": {},
   "source": [
    "#### Paramenters"
   ]
  },
  {
   "cell_type": "markdown",
   "metadata": {},
   "source": [
    "Name\t|Type\t|Default\t|Optional\t|Description\n",
    "----|------|-----|------|------\n",
    "label|string|null|yes|The label to load from the graph. If null, load all nodes\n",
    "relationship|string|null|yes|The relationship-type to load from the graph. If null, load all nodes\n",
    "concurrency|int|available CPUs|yes|The number of concurrent threads"
   ]
  },
  {
   "cell_type": "markdown",
   "metadata": {},
   "source": [
    "#### Results"
   ]
  },
  {
   "cell_type": "markdown",
   "metadata": {},
   "source": [
    "Name\t|Type\t|Description\n",
    "-----|------|--------\n",
    "nodeA|int|The ID of node in the given triangle\n",
    "nodeB|int|The ID of node in the given triangle\n",
    "nodeC|int|The ID of node in the given triangle"
   ]
  },
  {
   "cell_type": "markdown",
   "metadata": {},
   "source": [
    "### Example"
   ]
  },
  {
   "cell_type": "markdown",
   "metadata": {},
   "source": [
    "Getting a stream of the triangles of TF"
   ]
  },
  {
   "cell_type": "raw",
   "metadata": {},
   "source": [
    "CALL algo.triangle.stream(\"TF\",\"Interaction\")\n",
    "YIELD nodeA, nodeB, nodeC\n",
    "RETURN algo.getNodeById(nodeA).name AS nodeA,\n",
    "\talgo.getNodeById(nodeB).name AS nodeB,\n",
    "\talgo.getNodeById(nodeC).name AS nodeC"
   ]
  },
  {
   "cell_type": "markdown",
   "metadata": {},
   "source": [
    "result\n",
    "![8.png](./picture/8.png)\n",
    "\n",
    "**The problem is TF gene can interaction itself**"
   ]
  },
  {
   "cell_type": "markdown",
   "metadata": {},
   "source": [
    "## Local Clustering Coefficient"
   ]
  },
  {
   "cell_type": "markdown",
   "metadata": {},
   "source": [
    "Clustering Coefficient can provide the probability that randomly chosen nodes will be connected. You can also use it to quickly evaluate the cohesiveness of a specific group or your overall network. Together these algorithms are used to estimate resiliency and look for network structures."
   ]
  },
  {
   "cell_type": "markdown",
   "metadata": {},
   "source": [
    "### algo.triangleCount.stream"
   ]
  },
  {
   "cell_type": "raw",
   "metadata": {},
   "source": [
    "CALL algo.triangleCount.stream(label, \n",
    "                    relationship, \n",
    "                    {concurrency:8}) \n",
    "YIELD nodeId, triangles"
   ]
  },
  {
   "cell_type": "markdown",
   "metadata": {},
   "source": [
    "#### Paramenters"
   ]
  },
  {
   "cell_type": "markdown",
   "metadata": {},
   "source": [
    "Name\t|Type\t|Default\t|Optional\t|Description\n",
    "----|------|-----|------|------\n",
    "label|string|null|yes|The label to load from the graph. If null, load all nodes\n",
    "relationship|string|null|yes|The relationship-type to load from the graph. If null, load all nodes\n",
    "concurrency|int|available CPUs|yes|The number of concurrent threads"
   ]
  },
  {
   "cell_type": "markdown",
   "metadata": {},
   "source": [
    "#### Results"
   ]
  },
  {
   "cell_type": "markdown",
   "metadata": {},
   "source": [
    "Name\t|Type\t|Description\n",
    "-----|------|--------\n",
    "nodeId|int|The ID of node\n",
    "triangles|int|The number of triangles a node is member of"
   ]
  },
  {
   "cell_type": "markdown",
   "metadata": {},
   "source": [
    " - yield nodeId, number of triangles"
   ]
  },
  {
   "cell_type": "markdown",
   "metadata": {},
   "source": [
    "### Example"
   ]
  },
  {
   "cell_type": "markdown",
   "metadata": {},
   "source": [
    "We can also work out the local clustering coefficient. The following query will calculate this for each TF gene:"
   ]
  },
  {
   "cell_type": "raw",
   "metadata": {},
   "source": [
    "CALL algo.triangleCount.stream(\"TF\",\"Interaction\")\n",
    "YIELD nodeId, triangles, coefficient\n",
    "WHERE coefficient > 0\n",
    "RETURN algo.getNodeById(nodeId).Name AS SYMBOL, coefficient\n",
    "ORDER BY coefficient DESC"
   ]
  },
  {
   "cell_type": "markdown",
   "metadata": {},
   "source": [
    "![9.png](./picture/9.png)"
   ]
  },
  {
   "cell_type": "markdown",
   "metadata": {},
   "source": [
    "BTAF1 has a score of 1, which means that all BTAF1's neighbors are neighbors of each other.This tells us that the community directly around BTAF1 is very cohesive."
   ]
  },
  {
   "cell_type": "markdown",
   "metadata": {},
   "source": [
    "## Strongly Connected Components\n"
   ]
  },
  {
   "cell_type": "markdown",
   "metadata": {},
   "source": [
    "Use Strongly Connected Components as an early step in graph analysis to see how a graph is structured or to identify tight clusters that may warrant independent investigation. A component that is strongly connected can be used to profile similar behavior or inclinations in a group for applications such as recommendation engines."
   ]
  },
  {
   "cell_type": "markdown",
   "metadata": {},
   "source": [
    "### algo.scc.stream"
   ]
  },
  {
   "cell_type": "raw",
   "metadata": {},
   "source": [
    "CALL algo.scc.stream(label:String, \n",
    "               relationship:String,\n",
    "               {concurrency:4})\n",
    "YIELD nodeId, partition"
   ]
  },
  {
   "cell_type": "markdown",
   "metadata": {},
   "source": [
    "#### Paramenters"
   ]
  },
  {
   "cell_type": "markdown",
   "metadata": {},
   "source": [
    "Name\t|Type\t|Default\t|Optional\t|Description\n",
    "----|----|----|-----|----\n",
    "label|string|null|yes|The label to load from the graph. If null, load all nodes\n",
    "relationship|string|null|yes|The relationship-type to load from the graph. If null, load all relationships\n",
    "concurrency|int|available CPUs|yes|The number of concurrent threads"
   ]
  },
  {
   "cell_type": "markdown",
   "metadata": {},
   "source": [
    "#### Results"
   ]
  },
  {
   "cell_type": "markdown",
   "metadata": {},
   "source": [
    "Name\t|Type\t|Description\n",
    "-----|------|--------\n",
    "nodeId|int|The ID of node\n",
    "partition|int|Partition ID"
   ]
  },
  {
   "cell_type": "markdown",
   "metadata": {},
   "source": [
    "### Example"
   ]
  },
  {
   "cell_type": "raw",
   "metadata": {},
   "source": [
    "//The result will be large\n",
    "CALL algo.scc.stream(\"TF\",\"Interaction\") \n",
    "YIELD nodeId, partition\n",
    "RETURN partition, collect(algo.getNodeById(nodeId)) AS SYMBOL\n",
    "ORDER BY size(SYMBOL) DESC Limit 10"
   ]
  },
  {
   "cell_type": "markdown",
   "metadata": {},
   "source": [
    "## Connected Components"
   ]
  },
  {
   "cell_type": "markdown",
   "metadata": {},
   "source": [
    "The Connected Components algorithm (sometimes called Union Find or Weakly Connected Components) finds sets of connected nodes in an undirected graph where each node is reachable from any other node in the same set. It differs from the SCC algorithm because it only needs a path to exist between pairs of nodes in one direction, whereas SCC needs a path to exist in both directions. "
   ]
  },
  {
   "cell_type": "markdown",
   "metadata": {},
   "source": [
    "### algo.unionFind.stream"
   ]
  },
  {
   "cell_type": "raw",
   "metadata": {},
   "source": [
    "CALL algo.unionFind.stream(label:String, \n",
    "                  relationship:String,\n",
    "                  {weightProperty:'weight', \n",
    "                  threshold:0.42, \n",
    "                  defaultValue:1.0, \n",
    "                  concurrency:4})\n",
    "YIELD nodeId, setId"
   ]
  },
  {
   "cell_type": "markdown",
   "metadata": {},
   "source": [
    "#### Paramenters"
   ]
  },
  {
   "cell_type": "markdown",
   "metadata": {},
   "source": [
    "Name\t|Type\t|Default\t|Optional\t|Description\n",
    "----|----|----|-----|----\n",
    "label|string|null|yes|The label to load from the graph. If null, load all nodes\n",
    "relationship|string|null|yes|The relationship-type to load from the graph. If null, load all relationships\n",
    "weightProperty|string|null|yes|The property name that contains weight. If null, treats the graph as unweighted. Must be numeric.\n",
    "threshold|float|null|yes|The value of the weight above which the relationship is not thrown away\n",
    "defaultValue|float|null|yes|The default value of the weight in case it is missing or invalid\n",
    "concurrency|int|available CPUs|yes|The number of concurrent threads\n"
   ]
  },
  {
   "cell_type": "markdown",
   "metadata": {},
   "source": [
    "#### Results"
   ]
  },
  {
   "cell_type": "markdown",
   "metadata": {},
   "source": [
    "Name\t|Type\t|Description\n",
    "-----|------|--------\n",
    "nodeId|int|The ID of node\n",
    "setId|int|Partition ID"
   ]
  },
  {
   "cell_type": "markdown",
   "metadata": {},
   "source": [
    "### Example"
   ]
  },
  {
   "cell_type": "raw",
   "metadata": {},
   "source": [
    "//The result will be large\n",
    "CALL algo.unionFind.stream(\"TF\",\"Interaction\")\n",
    "YIELD nodeId,setId\n",
    "RETURN setId, collect(algo.getNodeById(nodeId)) AS SYMBOL\n",
    "ORDER BY size(SYMBOL) DESC LIMIT 10"
   ]
  },
  {
   "cell_type": "markdown",
   "metadata": {},
   "source": [
    "## Label Propagation\n"
   ]
  },
  {
   "cell_type": "markdown",
   "metadata": {},
   "source": [
    "The Label Propagation algorithm (LPA) is a fast algorithm for finding communities in a graph. In LPA, nodes select their group based on their direct neighbors. This process is well suited to networks where groupings are less clear and weights can be used to help a node determine which community to place itself within. It also lends itself well to semisupervised learning because you can seed the process with preassigned, indicative node labels."
   ]
  },
  {
   "cell_type": "markdown",
   "metadata": {},
   "source": [
    "### algo.labelPropagation.stream"
   ]
  },
  {
   "cell_type": "raw",
   "metadata": {},
   "source": [
    "CALL algo.labelPropagation.stream(label:String, \n",
    "                        relationship:String, \n",
    "                        config:Map<String, Object>) \n",
    "YIELD nodeId, label"
   ]
  },
  {
   "cell_type": "markdown",
   "metadata": {},
   "source": [
    "### Example"
   ]
  },
  {
   "cell_type": "raw",
   "metadata": {},
   "source": [
    "CALL algo.labelPropagation.stream(\"TF\",\"interaction\",{ iterations: 10 })\n",
    "YIELD nodeId, label\n",
    "RETURN label,\n",
    "collect(algo.getNodeById(nodeId).Name) AS SYMBOL\n",
    "ORDER BY size(SYMBOL) DESC LIMIT 10"
   ]
  },
  {
   "cell_type": "markdown",
   "metadata": {},
   "source": [
    "Result"
   ]
  },
  {
   "cell_type": "markdown",
   "metadata": {},
   "source": [
    "![13.png](./picture/13.png)"
   ]
  },
  {
   "cell_type": "markdown",
   "metadata": {},
   "source": [
    "Try to run the code again, Maybe you will find results will be different."
   ]
  },
  {
   "cell_type": "markdown",
   "metadata": {},
   "source": [
    "**Set `graph:'cypher'` in the config, and run the code.** More about Cypher projection, you can see on [this web](https://neo4j.com/docs/graph-algorithms/current/projected-graph-model/cypher-projection/)."
   ]
  },
  {
   "cell_type": "raw",
   "metadata": {},
   "source": [
    "CALL algo.labelPropagation.stream(\n",
    "    \"Match(m:TF) return id(m) as id\",\n",
    "    \"Match(n:TF)-[r:Interaction]-(m) return id(n) AS source, id(m) AS target\",\n",
    "    { iterations:10,graph:\"cypher\" })\n",
    "YIELD nodeId, label\n",
    "RETURN label,\n",
    "collect(algo.getNodeById(nodeId).Name) AS Name\n",
    "ORDER BY size(Name) DESC LIMIT 10"
   ]
  },
  {
   "cell_type": "markdown",
   "metadata": {},
   "source": [
    "   The first query `Match(m:TF) return id(m) as id` returns TF node ids. The Cypher loader expects the query to return an id field.\n",
    "\n",
    "   The second query `Match(n:TF)-[r:Interaction]-(m) return id(n) AS source, id(m) AS target` returns pairs of node ids that have a `Interaction` relationship between them in our projected graph. The Cypher loader expects the query to return source and target fields.\n",
    "\n",
    "**Note that in both queries we use the id function to return the node id.**\n",
    "\n"
   ]
  },
  {
   "cell_type": "markdown",
   "metadata": {},
   "source": [
    "    If the label and relationship-type projection is not selective enough to describe our subgraph to run the algorithm on, we can use Cypher statements to project subsets of our graph. Use a node-statement instead of the label parameter and a relationship-statement instead of the relationship-type, and use graph:'cypher' in the config.\n",
    "\n",
    "    Relationships described in the relationship-statement will only be projected if both source and target nodes are described in the node-statement, otherwise they will be ignored.\n",
    "\n",
    "    Cypher projection enables us to be more expressive in describing our subgraph that we want to analyse, but might take longer to project the graph with more complex cypher queries."
   ]
  },
  {
   "cell_type": "markdown",
   "metadata": {},
   "source": [
    "## Louvain\n"
   ]
  },
  {
   "cell_type": "markdown",
   "metadata": {},
   "source": [
    "The Louvain Modularity algorithm finds clusters by comparing community density as it assigns nodes to different groups. You can think of this as a what if analysis to try various groupings with the goal of reaching a global optimum."
   ]
  },
  {
   "cell_type": "markdown",
   "metadata": {},
   "source": [
    "### algo.louvain"
   ]
  },
  {
   "cell_type": "raw",
   "metadata": {},
   "source": [
    "CALL algo.louvain(label:String, \n",
    "            relationship:String,\n",
    "            {weightProperty:'weight', \n",
    "            defaultValue:1.0,\n",
    "            write: true, \n",
    "            writeProperty:'community', \n",
    "            concurrency:4, \n",
    "            communityProperty:'propertyOfPredefinedCommunity',\n",
    "            innerIterations:10, \n",
    "            communitySelection:'classic'}) \n",
    "YIELD nodes, communityCount, iterations, loadMillis, computeMillis, writeMillis"
   ]
  },
  {
   "cell_type": "markdown",
   "metadata": {},
   "source": [
    "#### Paramenters"
   ]
  },
  {
   "cell_type": "markdown",
   "metadata": {},
   "source": [
    "Name\t|Type\t|Default\t|Optional\t|Description\n",
    "----|----|----|-----|----\n",
    "label|string|null|yes|The label to load from the graph. If null, load all nodes\n",
    "relationship|string|null|yes|The relationship-type to load from the graph. If null, load all relationships\n",
    "weightProperty|string|null|yes|The property name that contains weight. If null, treats the graph as unweighted. Must be numeric.\n",
    "write|boolean|true|yes|Specifies if the result should be written back as a node property\n",
    "writeProperty|string|'community'|yes|The property name written back to the ID of the community that particular node belongs to\n",
    "communityProperty|string|null|yes|The property name that contains an initial or pre-defined community (must be a number)\n",
    "defaultValue|float|null|yes|The default value of the weight in case it is missing or invalid\n",
    "concurrency|int|available CPUs|yes|The number of concurrent threads\n"
   ]
  },
  {
   "cell_type": "markdown",
   "metadata": {},
   "source": [
    "#### Results"
   ]
  },
  {
   "cell_type": "markdown",
   "metadata": {},
   "source": [
    "Name\t|Type\t|Description\n",
    "-----|------|--------\n",
    "nodes|int|The number of nodes considered\n",
    "communityCount|int|The number of communities found"
   ]
  },
  {
   "cell_type": "markdown",
   "metadata": {},
   "source": [
    "### Example"
   ]
  },
  {
   "cell_type": "raw",
   "metadata": {},
   "source": [
    "CALL algo.louvain(\"TF\",\"Interaction\")\n",
    "YIELD nodes,communityCount"
   ]
  },
  {
   "cell_type": "markdown",
   "metadata": {},
   "source": [
    "![10.png](./picture/10.png)"
   ]
  },
  {
   "cell_type": "markdown",
   "metadata": {},
   "source": [
    "## Exercises"
   ]
  },
  {
   "cell_type": "markdown",
   "metadata": {},
   "source": [
    "### To cluster subgraph that `CTCF`  bind to chr1 by different clustering ways."
   ]
  },
  {
   "cell_type": "markdown",
   "metadata": {},
   "source": [
    "Trangles"
   ]
  },
  {
   "cell_type": "raw",
   "metadata": {},
   "source": [
    "CALL algo.triangle.stream(\n",
    "\t\"Match(n:TF{Name:'CTCF'})-[:Bind]-(m:chr1) return {n,m} AS mn\", \n",
    "    \"Bind\")\n",
    "YIELD nodeA, nodeB, nodeC\n",
    "RETURN algo.getNodeById(nodeA).name AS nodeA,\n",
    "\talgo.getNodeById(nodeB).name AS nodeB,\n",
    "\talgo.getNodeById(nodeC).name AS nodeC"
   ]
  },
  {
   "cell_type": "markdown",
   "metadata": {},
   "source": [
    "Local Clustering Coefficient"
   ]
  },
  {
   "cell_type": "raw",
   "metadata": {},
   "source": [
    "CALL algo.triangleCount.stream(\n",
    "\t\"Match(n:TF{Name:'CTCF'})-[:Bind]-(m:chr1) return {n,m} AS mn\", \n",
    "    \"Bind\")\n",
    "YIELD nodeId, triangles, coefficient\n",
    "WHERE coefficient > 0\n",
    "RETURN algo.getNodeById(nodeId).Name AS SYMBOL, coefficient\n",
    "ORDER BY coefficient DESC"
   ]
  },
  {
   "cell_type": "markdown",
   "metadata": {},
   "source": [
    "Strongly Connected Components"
   ]
  },
  {
   "cell_type": "raw",
   "metadata": {},
   "source": [
    "CALL algo.scc.stream(\n",
    "\t\"Match(n:TF{Name:'CTCF'})-[:Bind]-(m:chr1) return {n,m} AS mn\", \n",
    "    \"Bind\")\n",
    "YIELD nodeId, partition\n",
    "RETURN partition, collect(algo.getNodeById(nodeId)) AS SYMBOL\n",
    "ORDER BY size(SYMBOL) DESC Limit 10"
   ]
  },
  {
   "cell_type": "markdown",
   "metadata": {},
   "source": [
    "Connected Components"
   ]
  },
  {
   "cell_type": "raw",
   "metadata": {},
   "source": [
    "//It takes a long time to run\n",
    "CALL algo.unionFind.stream(\n",
    "\t\"Match(n:TF{Name:'CTCF'})-[:Bind]-(m:chr1) return {n,m} AS mn\", \n",
    "    \"Bind\")\n",
    "YIELD nodeId,setId\n",
    "RETURN setId, collect(algo.getNodeById(nodeId)) AS SYMBOL\n",
    "ORDER BY size(SYMBOL) DESC LIMIT 10"
   ]
  },
  {
   "cell_type": "markdown",
   "metadata": {},
   "source": [
    "Label Propagation"
   ]
  },
  {
   "cell_type": "raw",
   "metadata": {},
   "source": [
    "CALL algo.labelPropagation.stream(\n",
    "    \"Match(n:TF{Name:'CTCF'})-[:Bind]-(m:chr1) return {n,m} AS mn\",\n",
    "    \"Bind\",\n",
    "    { iterations: 10 })\n",
    "YIELD nodeId, label\n",
    "RETURN label,\n",
    "collect(algo.getNodeById(nodeId).Name) AS Name\n",
    "ORDER BY size(Name) DESC LIMIT 10"
   ]
  },
  {
   "cell_type": "markdown",
   "metadata": {},
   "source": [
    "louvain"
   ]
  },
  {
   "cell_type": "raw",
   "metadata": {},
   "source": [
    "CALL algo.louvain(\n",
    "\t\"Match(n:TF{Name:'CTCF'})-[:Bind]-(m:chr1) return {n,m} AS mn\", \n",
    "    \"Bind\")\n",
    "YIELD nodes,communityCount"
   ]
  },
  {
   "cell_type": "markdown",
   "metadata": {},
   "source": [
    "# network alignment"
   ]
  },
  {
   "cell_type": "markdown",
   "metadata": {},
   "source": [
    "## Jaccard Similarity"
   ]
  },
  {
   "cell_type": "markdown",
   "metadata": {},
   "source": [
    "![78.png](./picture/78.png)\n",
    "\n",
    "The Jaccard index is a statistic used for comparing the similarity between pairs of sample sets or nodes in our example. It is defined as the size of the intersection divided by the size of the union of the sample sets."
   ]
  },
  {
   "cell_type": "markdown",
   "metadata": {},
   "source": [
    "### algo.similarity.jaccard"
   ]
  },
  {
   "cell_type": "raw",
   "metadata": {},
   "source": [
    "CALL algo.similarity.jaccard(userData:List<Map>, {\n",
    "                    topK: 1, \n",
    "                    similarityCutoff: 0.1, \n",
    "                    write:true, \n",
    "                    writeProperty: \"jaccardSimilarity\"})\n",
    "YIELD nodes, similarityPairs, write, writeRelationshipType, writeProperty, min, max, mean, stdDev, p25, p50, p75, p90, p95, p99, p999, p100"
   ]
  },
  {
   "cell_type": "markdown",
   "metadata": {},
   "source": [
    "#### Paramenters"
   ]
  },
  {
   "cell_type": "markdown",
   "metadata": {},
   "source": [
    "Name\t|Type\t|Default\t|Optional\t|Description\n",
    "--------|-----|------------|--------|---------\n",
    "data|list|null|no|A list of maps of the following structure: {item: nodeId, categories: [nodeId, nodeId, nodeId]}\n",
    "top|int|0|yes|The number of similar pairs to return. If 0, it will return as many as it finds.\n",
    "topK|int|0|yes|The number of similar values to return per node. If 0, it will return as many as it finds.\n",
    "similarityCutoff|int|-1|yes|The threshold for Jaccard similarity. Values below this will not be returned.\n",
    "write|boolean|false|yes|Indicates whether results should be stored.\n",
    "writeProperty|string|score|yes|The property to use when storing results."
   ]
  },
  {
   "cell_type": "markdown",
   "metadata": {},
   "source": [
    "#### Results"
   ]
  },
  {
   "cell_type": "markdown",
   "metadata": {},
   "source": [
    "Name\t|Type\t|Description\n",
    "--------|-------|---------\n",
    "nodes|int|The number of nodes passed in.\n",
    "similarityPairs|int|The number of pairs of similar nodes computed.\n",
    "write|boolean|Indicates whether results were stored.\n",
    "writeRelationshipType|string|The relationship type used when storing results.\n",
    "writeProperty|string|The property used when storing results.\n",
    "min|double|The minimum similarity score computed.\n",
    "max|double|The maximum similarity score computed.\n",
    "mean|double|The mean of similarities scores computed.\n",
    "stdDev|double|The standard deviation of similarities scores computed.\n",
    "p25|double|The 25 percentile of similarities scores computed.\n",
    "p50|double|The 50 percentile of similarities scores computed.\n",
    "p75|double|The 75 percentile of similarities scores computed.\n",
    "p90|double|The 90 percentile of similarities scores computed.\n",
    "p95|double|The 95 percentile of similarities scores computed.\n",
    "p99|double|The 99 percentile of similarities scores computed.\n",
    "p999|double|The 99.9 percentile of similarities scores computed.\n",
    "p100|double|The 25 percentile of similarities scores computed."
   ]
  },
  {
   "cell_type": "markdown",
   "metadata": {},
   "source": [
    "### Example"
   ]
  },
  {
   "cell_type": "markdown",
   "metadata": {},
   "source": [
    "To compare Two network That TFs bind to Bin1 and Bin2 in chr1.  "
   ]
  },
  {
   "cell_type": "raw",
   "metadata": {},
   "source": [
    "//To get network which relationship is TF Bind to Chr1 Bin1\n",
    "MATCH (n1:TF)-[:Bind]->(m1:chr1 {Name: 'Bin1'})\n",
    "WITH m1, collect(id(n1)) AS mn1\n",
    "\n",
    "//To get network which relationship is TF Bind to Chr1 Bin2\n",
    "MATCH (n2:TF)-[:Bind]->(m2:chr1{Name:\"Bin2\"}) WHERE m1 <> m2\n",
    "WITH m1, mn1, m2, collect(id(n2)) AS mn2\n",
    "\n",
    "//Return jasscard score of two network \n",
    "RETURN m1.Name AS from,\n",
    "       m2.Name AS to,\n",
    "       algo.similarity.jaccard(mn1, mn2) AS similarity\n",
    "ORDER BY similarity DESC"
   ]
  },
  {
   "cell_type": "markdown",
   "metadata": {},
   "source": [
    "![14.png](./picture/14.png)"
   ]
  },
  {
   "cell_type": "markdown",
   "metadata": {},
   "source": [
    "### algo.similarity.jaccard.stream"
   ]
  },
  {
   "cell_type": "raw",
   "metadata": {},
   "source": [
    "CALL algo.similarity.jaccard.stream(userData:List<Map>, {\n",
    "                        degreeCutoff: 10, \n",
    "                        similarityCutoff: 0.1, \n",
    "                        concurrency:4\n",
    "})\n",
    "YIELD item1, item2, count1, count2, intersection, similarity"
   ]
  },
  {
   "cell_type": "markdown",
   "metadata": {},
   "source": [
    "#### Paramenters"
   ]
  },
  {
   "cell_type": "markdown",
   "metadata": {},
   "source": [
    "Name\t| Type\t|Default\t|Optional|\tDescription\n",
    "--------|--------|-----------|---------|-------------\n",
    "data|list|null|no|A list of maps of the following structure: {item: nodeId, categories: [nodeId, nodeId, nodeId]}\n",
    "top|int|0|yes|The number of similar pairs to return. If 0, it will return as many as it finds.\n",
    "topK|int|0|yes|The number of similar values to return per node. If 0, it will return as many as it finds.\n",
    "similarityCutoff|int|-1|yes|The threshold for Jaccard similarity. Values below this will not be returned.\n",
    "degreeCutoff|int|0|yes|The threshold for the number of items in the targets list. If the list contains less than this amount, that node will be excluded from the calculation.\n",
    "concurrency|int|available CPUs|yes|The number of concurrent threads.\n",
    "sourceIds|long[]|null|yes|The ids of items from which we need to compute similarities. Defaults to all the items provided in the data parameter.\n",
    "targetIds|long[]|null|yes|The ids of items to which we need to compute similarities. Defaults to all the items provided in the data parameter.\n",
    "sourceIds|long[]|null|yes|The ids of items from which we need to compute similarities. Defaults to all the items provided in the data parameter.\n",
    "targetIds|long[]|null|yes|The ids of items to which we need to compute similarities. Defaults to all the items provided in the data parameter."
   ]
  },
  {
   "cell_type": "markdown",
   "metadata": {},
   "source": [
    "#### Results"
   ]
  },
  {
   "cell_type": "markdown",
   "metadata": {},
   "source": [
    "Name\t|Type\t|Description\n",
    "-----|--------------------|--------------\n",
    "item1|int|The ID of one node in the similarity pair.\n",
    "item2|int|The ID of other node in the similarity pair.\n",
    "count1|int|The size of the targets list of one node.\n",
    "count2|int|The size of the targets list of other node.\n",
    "intersection|int|The number of intersecting values in the two nodes targets lists.\n",
    "similarity|int|The Jaccard similarity of the two nodes."
   ]
  },
  {
   "cell_type": "markdown",
   "metadata": {},
   "source": [
    "### Example"
   ]
  },
  {
   "cell_type": "markdown",
   "metadata": {},
   "source": [
    "The following will return a stream of TFs pairs along with their intersection and Jaccard similarities:"
   ]
  },
  {
   "cell_type": "raw",
   "metadata": {},
   "source": [
    "MATCH (p:TF)-[:Interaction]->(n:TF)\n",
    "WITH {item:id(p), categories: collect(id(n))} as userData\n",
    "WITH collect(userData) as data\n",
    "\n",
    "CALL algo.similarity.jaccard.stream(data)\n",
    "YIELD item1, item2, count1, count2, intersection, similarity\n",
    "RETURN algo.asNode(item1).Name AS from, algo.asNode(item2).Name AS to, intersection, similarity\n",
    "ORDER BY similarity DESC"
   ]
  },
  {
   "cell_type": "markdown",
   "metadata": {},
   "source": [
    "results\n",
    "![19.png](./picture/19.png)"
   ]
  },
  {
   "cell_type": "markdown",
   "metadata": {},
   "source": [
    "### Example--Specifying source and target ids"
   ]
  },
  {
   "cell_type": "markdown",
   "metadata": {},
   "source": [
    "Sometimes, we don't want to compute all pairs similarity, but would rather specify subsets of items to compare to each other. \n",
    "\n",
    "We do this using the `sourceIds` and `targetIds` keys in the config. \n",
    "\n",
    "We might want to use this technique when comparing nodes with different labels that intersect on a common label.\n",
    "\n",
    "**The following will find similarities between subgraphs based on direct relationship of \"CBX5\" and \"BACH1\":**"
   ]
  },
  {
   "cell_type": "raw",
   "metadata": {},
   "source": [
    "MATCH (p:TF)-[:Interaction]->(n)\n",
    "WITH {item:id(p), name: p.name, categories: collect(id(n))} as data\n",
    "WITH collect(data) AS pns\n",
    "\n",
    "// create sourceIds list containing ids for CBX5 and BACH1\n",
    "WITH pns,\n",
    "     [value in pns WHERE value.name IN [\"CBX5\", \"BACH1\"] | value.item ] AS sourceIds\n",
    "\n",
    "CALL algo.similarity.jaccard.stream(pns, {sourceIds: sourceIds, topK: 1})\n",
    "YIELD item1, item2, similarity\n",
    "WITH algo.getNodeById(item1) AS from, algo.getNodeById(item2) AS to, similarity\n",
    "RETURN from.Name AS from, to.Name AS to, similarity\n",
    "ORDER BY similarity DESC"
   ]
  },
  {
   "cell_type": "markdown",
   "metadata": {},
   "source": [
    "results\n",
    "![18.png](./picture/18.png)"
   ]
  },
  {
   "cell_type": "markdown",
   "metadata": {},
   "source": [
    "## Exercise"
   ]
  },
  {
   "cell_type": "markdown",
   "metadata": {},
   "source": [
    "Now, try to get jaccard similarity between TF based on compare TF bind Chr1 between MCF7 and K562 cell."
   ]
  },
  {
   "cell_type": "raw",
   "metadata": {},
   "source": [
    "// compute categories for TF with bind relationship in MCF7 cell\n",
    "MATCH (n1:TF)-[r1:Bind]->(n2:chr1)\n",
    "where r1.CellType=\"MCF7\"\n",
    "WITH {item:id(n1), categories: collect(id(n2))} as data\n",
    "WITH collect(data) AS MCF7\n",
    "\n",
    "// compute categories for TF with bind relationship in K562 cell\n",
    "MATCH (m1:TF)-[r2:Bind]->(m2:chr1)\n",
    "where r2.CellType=\"K562\"\n",
    "WITH MCF7,{item:id(m1), categories: collect(id(m2))} as data2\n",
    "WITH MCF7, collect(data2) AS K562\n",
    "\n",
    "// create sourceIds and targetIds lists\n",
    "WITH MCF7, K562,\n",
    "     [value in MCF7 | value.item] AS sourceIds,\n",
    "     [value in K562 | value.item] AS targetIds\n",
    "\n",
    "//perform jaccard function\n",
    "CALL algo.similarity.jaccard.stream(MCF7 + K562, {sourceIds: sourceIds, targetIds: targetIds})\n",
    "YIELD item1, item2, similarity\n",
    "WITH algo.getNodeById(item1) AS from, algo.getNodeById(item2) AS to, similarity\n",
    "\n",
    "\n",
    "where similarity <= 0.5\n",
    "RETURN from.Name AS from, to.Name AS to, similarity\n",
    "ORDER BY similarity DESC\n",
    "LIMIT 10"
   ]
  },
  {
   "cell_type": "markdown",
   "metadata": {},
   "source": [
    "# Reference"
   ]
  },
  {
   "cell_type": "markdown",
   "metadata": {},
   "source": [
    "1. The Neo4j Graph Algorithms User Guide v3.5   &nbsp;&nbsp;&nbsp;   &nbsp; [html](https://neo4j.com/docs/graph-algorithms/current/)    [PDF](https://neo4j.com/docs/pdf/neo4j-graph-algorithms-3.5.pdf)\n",
    "\n",
    "2. Graph Algorithms    [PDF](https://neo4j.com/lp/book-graph-algorithms-thanks/?aliId=eyJpIjoiT1lBd0tIeEh6Y2N6ajZCYiIsInQiOiJPemxyM1BhUG9uczhBdzFYRUwrM3Z3PT0ifQ%253D%253D)"
   ]
  },
  {
   "cell_type": "code",
   "execution_count": null,
   "metadata": {},
   "outputs": [],
   "source": []
  }
 ],
 "metadata": {
  "kernelspec": {
   "display_name": "Python 3",
   "language": "python",
   "name": "python3"
  },
  "language_info": {
   "codemirror_mode": {
    "name": "ipython",
    "version": 3
   },
   "file_extension": ".py",
   "mimetype": "text/x-python",
   "name": "python",
   "nbconvert_exporter": "python",
   "pygments_lexer": "ipython3",
   "version": "3.7.1"
  },
  "toc": {
   "base_numbering": 1,
   "nav_menu": {},
   "number_sections": true,
   "sideBar": true,
   "skip_h1_title": false,
   "title_cell": "Table of Contents",
   "title_sidebar": "Contents",
   "toc_cell": false,
   "toc_position": {
    "height": "calc(100% - 180px)",
    "left": "10px",
    "top": "150px",
    "width": "262.05px"
   },
   "toc_section_display": true,
   "toc_window_display": false
  }
 },
 "nbformat": 4,
 "nbformat_minor": 2
}
