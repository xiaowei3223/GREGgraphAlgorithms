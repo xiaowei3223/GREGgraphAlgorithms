{
 "cells": [
  {
   "cell_type": "markdown",
   "metadata": {},
   "source": [
    "# Importing the Data into Neo4j"
   ]
  },
  {
   "cell_type": "markdown",
   "metadata": {},
   "source": [
    "## Loading the nodes:"
   ]
  },
  {
   "cell_type": "raw",
   "metadata": {},
   "source": [
    "LOAD CSV WITH HEADERS FROM \"file:///transport-nodes.csv\" AS row\n",
    "MERGE (place:Place {id:row.id})\n",
    "SET place.latitude = toFloat(row.latitude),\n",
    "place.longitude = toFloat(row.latitude),\n",
    "place.population = toInteger(row.population)"
   ]
  },
  {
   "cell_type": "markdown",
   "metadata": {},
   "source": [
    "## Loading the relationships"
   ]
  },
  {
   "cell_type": "raw",
   "metadata": {},
   "source": [
    "LOAD CSV WITH HEADERS FROM \"file:///transport-relationships.csv\" AS row\n",
    "MATCH (origin:Place {id: row.src})\n",
    "MATCH (destination:Place {id: row.dst})\n",
    "MERGE (origin)-[:EROAD {distance: toInteger(row.cost)}]->(destination)"
   ]
  },
  {
   "cell_type": "markdown",
   "metadata": {},
   "source": [
    "# Breadth First Search"
   ]
  },
  {
   "cell_type": "markdown",
   "metadata": {},
   "source": [
    "Breadth First Search (BFS) is one of the fundamental graph traversal algorithms. It starts from a chosen node and explores all of its neighbors at one hop away before visiting all the neighbors at two hops away, and so on.\n",
    "\n",
    "广度优先搜索(BFS)是图元遍历的基本算法之一。它从一个选定的节点开始，在访问两个跳之外的所有邻居之前，在一个跳之外探索它的所有邻居，以此类推。"
   ]
  },
  {
   "cell_type": "markdown",
   "metadata": {},
   "source": [
    "BFS is most commonly used as the basis for other more goal-oriented algorithms. For example, Shortest Path, Connected Components, and Closeness Centrality all use the BFS algorithm. It can also be used to find the shortest path between nodes.\n",
    "\n",
    "BFS最常用来作为其他更面向目标的算法的基础。例如，最短路径、连通组件和封闭中心都使用BFS算法。它还可以用来寻找节点之间的最短路径。"
   ]
  },
  {
   "cell_type": "markdown",
   "metadata": {},
   "source": [
    "The picture shows the order in which we would visit the nodes of our transport graph if we were performing a breadth first search that started from the Dutch city, Den Haag (in English, The Hague). The numbers next to the city name indicate the order in which each node is visited.\n",
    "\n",
    "下图显示了如果我们从荷兰城市Den Haag(英语为海牙)开始执行广度优先搜索，则访问传输图节点的顺序。城市名称旁边的数字表示访问每个节点的顺序。\n",
    "\n",
    "![1.png](./picture/1.png)"
   ]
  },
  {
   "cell_type": "markdown",
   "metadata": {},
   "source": [
    "We first visit all of Den Haag s direct neighbors, before visiting their neighbors, and their neighbors neighbors, until we ve run out of relationships to traverse.\n",
    "\n",
    "我们先查找登哈格的所有直系邻居，然后再去找到所有直系邻居的邻居，再去拜访他们的邻居和邻居的邻居，直到我们的关系走到尽头。"
   ]
  },
  {
   "cell_type": "markdown",
   "metadata": {},
   "source": [
    "# Depth First Search"
   ]
  },
  {
   "cell_type": "markdown",
   "metadata": {},
   "source": [
    "Depth First Search (DFS) is the other fundamental graph traversal algorithm. It starts from a chosen node, picks one of its neighbors, and then traverses as far as it can along that path before backtracking.\n",
    "\n",
    "深度优先搜索(DFS)是另一种基本的图形遍历算法。它从一个选定的节点开始，选择它的一个邻居，然后在回溯之前沿着该路径尽可能地遍历。"
   ]
  },
  {
   "cell_type": "markdown",
   "metadata": {},
   "source": [
    "last picture shows the order in which we would visit the nodes of our transport graph if we were performing a DFS that started from Den Haag.\n",
    "\n",
    "显示了在执行从Den Haag开始的DFS时，访问传输图节点的顺序。"
   ]
  },
  {
   "cell_type": "markdown",
   "metadata": {},
   "source": [
    "Notice how different the node order is compared to BFS. For this DFS, we start by traversing from Den Haag to Amsterdam, and are then able to get to every other node in the graph without needing to backtrack at all。\n",
    "\n",
    "请注意与BFS相比，节点顺序有多么不同。对于这个DFS，我们首先从Den Haag遍历Amsterdam，然后能够到达图中的每个其他节点，而完全不需要回溯。"
   ]
  },
  {
   "cell_type": "markdown",
   "metadata": {},
   "source": [
    "We can see how search algorithms lay the groundwork for moving through graphs. Now let s look at the pathfinding algorithms that find the cheapest path in terms of the number of hops or weight. Weights can be anything measured, such as time, distance, capacity, or cost.\n",
    "\n",
    "我们可以看到搜索算法是如何为在图中移动奠定基础的。现在让我们看看寻路算法，它根据跳数或权重找到最便宜的路径。权重可以是任何可度量的东西，比如时间、距离、容量或成本。"
   ]
  },
  {
   "cell_type": "markdown",
   "metadata": {},
   "source": [
    "## Two Special Paths/Cycles"
   ]
  },
  {
   "cell_type": "markdown",
   "metadata": {},
   "source": [
    "There are two special paths in graph analysis that are worth noting. First, an Eulerian path is one where every relationship is visited exactly once. Second, a Hamiltonian path is one where every node is visited exactly once. A path can be both Eulerian and Hamiltonian, and if you start and finish at the same node it s considered a cycle or tour. A visual comparison is shown in Figure 4-5.\n",
    "\n",
    "图分析中有两种特殊的方法值得注意。首先，欧拉路径是指每段关系只被访问一次。其次，哈密顿路径是指每个节点只被访问一次。一条路径可以是欧拉的，也可以是哈密顿的，如果你在同一个节点开始和结束，它被认为是一个循环或循环。图4-5显示了一个可视化的比较。"
   ]
  },
  {
   "cell_type": "markdown",
   "metadata": {},
   "source": [
    "![3.png](./picture/3.png)\n",
    "\n",
    "The Königsberg bridges problem from Chapter 1 was searching for an Eulerian cycle. It s easy to see how this applies to routing scenarios such as directing snowplows and mail delivery. However, Eulerian paths are also used by other algorithms in processing data in tree structures and are simpler mathematically to study than other cycles.\n",
    "\n",
    "第一章中哥尼斯堡桥的问题是寻找欧拉循环。很容易看出这如何应用于路由场景，比如指导扫雪机和邮件投递。然而，欧拉路径也被其他算法用于处理树结构中的数据，并且在数学上比其他循环更容易研究。"
   ]
  },
  {
   "cell_type": "markdown",
   "metadata": {},
   "source": [
    "The Hamiltonian cycle is best known from its relation to the Traveling Salesman Problem (TSP), which asks, What s the shortest possible route for a salesperson to visit each of their assigned cities and return to the origin city? Although seemingly similar to an Eulerian tour, the TSP is computationally more intensive with approximation alternatives. It s used in a wide variety of planning, logistics, and optimization problems.\n",
    "\n",
    "哈密顿循环最著名的是它与旅行商问题(TSP)的关系，TSP的问题是，销售人员访问每个指定城市并返回原籍城市的最短路径是什么?虽然表面上类似于欧拉之旅，但TSP在计算上更密集，有近似的选择。它被广泛应用于各种规划、物流和优化问题。"
   ]
  },
  {
   "cell_type": "markdown",
   "metadata": {},
   "source": [
    "# Shortest Path"
   ]
  },
  {
   "cell_type": "markdown",
   "metadata": {},
   "source": [
    "The Shortest Path algorithm calculates the shortest (weighted) path between a pair of nodes. It s useful for user interactions and dynamic workflows because it works in real time.\n",
    "\n",
    "最短路径算法计算一对节点之间的最短(加权)路径。它对用户交互和动态工作流非常有用，因为它可以实时工作。"
   ]
  },
  {
   "cell_type": "markdown",
   "metadata": {},
   "source": [
    "Dijkstra s Shortest Path algorithm operates by first finding the lowest-weight relationship from the start node to directly connected nodes. It keeps track of those weights and moves to the closest node. It then performs the same calculation, but now as a cumulative total from the start node. The algorithm continues to do this, evaluating a wave of cumulative weights and always choosing the lowest weighted cumulative path to advance along, until it reaches the destination node.\n",
    "\n",
    "Dijkstra的最短路径算法首先找到从开始节点到直接连接节点的最小权值关系。它跟踪这些权重并移动到最近的节点。然后，它执行相同的计算，但现在是开始节点的累计总数。算法继续这样做，计算一个累积权值的波动，并始终选择最低权值的累积路径向前推进，直到到达目标节点。"
   ]
  },
  {
   "cell_type": "markdown",
   "metadata": {},
   "source": [
    "You ll notice in graph analytics the use of the terms weight, cost, distance, and hop when describing relationships and paths. Weight is the numeric value of a particular property of a relationship. Cost is used similarly, but we ll see it more often when considering the total weight of a path.\n",
    "\n",
    "您将注意到，在图形分析中，在描述关系和路径时使用了权重、成本、距离和跳转等术语。权值是关系的特定属性的数值。Cost的用法类似，但是在考虑路径的总权重时，我们将更经常地看到它。"
   ]
  },
  {
   "cell_type": "markdown",
   "metadata": {},
   "source": [
    "Distance is often used within an algorithm as the name of the relationship property that indicates the cost of traversing between a pair of nodes. It s not required that this be an actual physical measure of distance. Hop is commonly used to express the number of relationships between two nodes. You may see some of these terms combined, as in It s a five-hop distance to London or That s the lowest cost for the distance.\n",
    "\n",
    "在算法中，距离通常用作关系属性的名称，该属性指示在一对节点之间遍历的代价。并不要求这是一个实际的物理距离测量。Hop通常用来表示两个节点之间的关系数量。你可能会看到其中的一些组合，因为到伦敦有5跳的距离，或者这是这段距离的最低成本。"
   ]
  },
  {
   "cell_type": "markdown",
   "metadata": {},
   "source": [
    "## When Should I Use Shortest Path?"
   ]
  },
  {
   "cell_type": "markdown",
   "metadata": {},
   "source": [
    "Use Shortest Path to find optimal routes between a pair of nodes, based on either the number of hops or any weighted relationship value. For example, it can provide realtime answers about degrees of separation, the shortest distance between points, or the least expensive route. You can also use this algorithm to simply explore the connections between particular nodes.\n",
    "\n",
    "根据跳数或任何加权关系值，使用最短路径在一对节点之间找到最优路径。例如，它可以提供关于分离度、点与点之间最短距离或最便宜路线的实时答案。您还可以使用此算法简单地探索特定节点之间的连接。"
   ]
  },
  {
   "cell_type": "markdown",
   "metadata": {},
   "source": [
    "**Example use cases include:**"
   ]
  },
  {
   "cell_type": "markdown",
   "metadata": {},
   "source": [
    "Finding directions between locations. Web-mapping tools such as Google Maps use the Shortest Path algorithm, or a close variant, to provide driving directions. \n",
    "\n",
    "寻找地点之间的方向。诸如谷歌Maps之类的web映射工具使用最短路径算法(或近似算法)来提供驾驶方向。\n",
    "\n",
    "Finding the degrees of separation between people in social networks. For example, when you view someone s profile on LinkedIn, it will indicate how many people separate you in the graph, as well as listing your mutual connections. \n",
    "在社交网络中找出人与人之间的距离。例如，当你在LinkedIn上查看某人的个人资料时，它会显示有多少人将你们分开，并列出你们之间的相互联系。\n",
    "\n",
    "Finding the number of degrees of separation between an actor and Kevin Bacon based on the movies they ve appeared in (the Bacon Number). An example of this can be seen on the Oracle of Bacon website. The Erdös Number Project provides a similar graph analysis based on collaboration with Paul Erdös, one of the most prolific mathematicians of the twentieth century.\n",
    "\n",
    "根据演员和凯文·培根出演过的电影，找出他们之间的距离。一个例子可以在培根的神谕网站上看到。Erdos Number项目基于与Paul Erdos的合作提供了一个类似的图表分析，Paul Erdos是二十世纪最多产的数学家之一。"
   ]
  },
  {
   "cell_type": "markdown",
   "metadata": {},
   "source": [
    "Dijkstra s algorithm does not support negative weights. The algorithm  assumes that adding a relationship to a path can never make  a path shorter an invariant that would be violated with negative  weights.\n",
    "\n",
    "Dijkstra算法不支持负权值。该算法假定，向路径添加关系永远不会使路径变短，从而使其成为一个会被负权值破坏的不变式。"
   ]
  },
  {
   "cell_type": "markdown",
   "metadata": {},
   "source": [
    "## Shortest Path with Neo4j"
   ]
  },
  {
   "cell_type": "markdown",
   "metadata": {},
   "source": [
    "The Neo4j Graph Algorithms library has a built-in procedure that we can use to compute both unweighted and weighted shortest paths. Let s first learn how to compute unweighted shortest paths.\n",
    "\n",
    "Neo4j图形算法库有一个内置的过程，我们可以用它来计算非加权最短路径和加权最短路径。让我们首先学习如何计算非加权最短路径。"
   ]
  },
  {
   "cell_type": "markdown",
   "metadata": {},
   "source": [
    "All of Neo4j s Shortest Path algorithms assume that the underlying graph is undirected. You can override this by passing in the parameter direction: \"OUTGOING\" or direction: \"INCOMING\".\n",
    "\n",
    "所有Neo4j的最短路径算法都假定底层图是无向的。您可以通过传递参数方向:“传出”或方向:“传入”来覆盖此设置。"
   ]
  },
  {
   "cell_type": "markdown",
   "metadata": {},
   "source": [
    "To have Neo4j s Shortest Path algorithm ignore weights we need to pass null as the third parameter to the procedure, which indicates that we don t want to consider a weight property when executing the algorithm. The algorithm will then assume a default weight of 1.0 for each relationship:\n",
    "\n",
    "为了让Neo4j的最短路径算法忽略权重，我们需要将null作为第三个参数传递给过程，这表明我们在执行算法时不希望考虑权重属性。然后，算法将为每个关系假定默认权重为1.0：\n"
   ]
  },
  {
   "cell_type": "markdown",
   "metadata": {},
   "source": [
    "**[下载algo](https://github.com/neo4j-contrib/neo4j-graph-algorithms/releases)**\n",
    "\n",
    "**[安装algo](https://blog.csdn.net/qq_38737992/article/details/89036406)**"
   ]
  },
  {
   "cell_type": "raw",
   "metadata": {},
   "source": [
    "MATCH (source:Place {id: \"Amsterdam\"}),\n",
    "(destination:Place {id: \"London\"})\n",
    "CALL algo.shortestPath.stream(source, destination, null)\n",
    "YIELD nodeId, cost\n",
    "RETURN algo.getNodeById(nodeId).id AS place, cost"
   ]
  },
  {
   "cell_type": "markdown",
   "metadata": {},
   "source": [
    "This query returns the following output:\n",
    "![4.png](./picture/4.png)"
   ]
  },
  {
   "cell_type": "markdown",
   "metadata": {},
   "source": [
    "Here the cost is the cumulative total for relationships (or hops). This is the same path as we see using Breadth First Search in Spark.\n",
    "\n",
    "这里的成本是关系(或跃点)的累计总成本。这与我们在Spark中使用广度优先搜索时看到的路径相同。"
   ]
  },
  {
   "cell_type": "markdown",
   "metadata": {},
   "source": [
    "We could even work out the total distance of following this path by writing a bit of postprocessing Cypher. The following procedure calculates the shortest unweighted path and then works out what the actual cost of that path would be:\n",
    "\n",
    "我们甚至可以通过编写一些后处理Cypher计算出沿着这条路径走的总距离。下面的过程计算最短的未加权路径，然后计算出该路径的实际成本:"
   ]
  },
  {
   "cell_type": "raw",
   "metadata": {},
   "source": [
    "MATCH (source:Place {id: \"Amsterdam\"}),\n",
    "(destination:Place {id: \"London\"})\n",
    "CALL algo.shortestPath.stream(source, destination, null)\n",
    "YIELD nodeId, cost\n",
    "\n",
    "WITH collect(algo.getNodeById(nodeId)) AS path\n",
    "UNWIND range(0, size(path)-1) AS index\n",
    "WITH path[index] AS current, path[index+1] AS next\n",
    "WITH current, next, [(current)-[r:EROAD]-(next) | r.distance][0] AS distance\n",
    "\n",
    "WITH collect({current: current, next:next, distance: distance}) AS stops\n",
    "UNWIND range(0, size(stops)-1) AS index\n",
    "WITH stops[index] AS location, stops, index\n",
    "RETURN location.current.id AS place,\n",
    "reduce(acc=0.0,\n",
    "distance in [stop in stops[0..index] | stop.distance] |\n",
    "acc + distance) AS cost"
   ]
  },
  {
   "cell_type": "markdown",
   "metadata": {},
   "source": [
    "The query returns the following result:\n",
    "\n",
    "![5.png](./picture/5.png)\n",
    "\n",
    "Figure 4-6 shows the unweighted shortest path from Amsterdam to London, routing us through the fewest number of cities. It has a total cost of 720 km.\n",
    "\n",
    "图4-6显示了从阿姆斯特丹到伦敦的未加权最短路径，将我们通过最少的城市。它的总成本为720公里。"
   ]
  },
  {
   "cell_type": "markdown",
   "metadata": {},
   "source": [
    "If the previous code feels a bit unwieldy, notice that the tricky part is figuring out how to massage the data to include the cost over the whole journey. This is helpful to keep in mind when we need the cumulative path cost.\n",
    "\n",
    "如果前面的代码感觉有点笨拙，请注意，比较棘手的部分是如何修改数据以包含整个过程的成本。当我们需要累积路径成本时，记住这一点很有帮助。"
   ]
  },
  {
   "cell_type": "markdown",
   "metadata": {},
   "source": [
    "![6.png](./picture/6.png)\n",
    "\n",
    "Choosing a route with the fewest number of nodes visited might be very useful in situations such as subway systems, where less stops are highly desirable. However, in a driving scenario, we re probably more interested in the total cost using the shortest weighted path.\n",
    "\n",
    "在地铁系统等需要较少站点的情况下，选择节点访问最少的线路可能非常有用。然而，在驾驶场景中，我们可能更感兴趣的是使用最短加权路径的总成本。"
   ]
  },
  {
   "cell_type": "markdown",
   "metadata": {},
   "source": [
    "## Shortest Path (Weighted) with Neo4j"
   ]
  },
  {
   "cell_type": "markdown",
   "metadata": {},
   "source": [
    "We can execute the Weighted Shortest Path algorithm to find the shortest path between Amsterdam and London like this:\n",
    "\n",
    "我们可以像这样执行加权最短路径算法来找到阿姆斯特丹和伦敦之间的最短路径:"
   ]
  },
  {
   "cell_type": "raw",
   "metadata": {},
   "source": [
    "MATCH (source:Place {id: \"Amsterdam\"}),\n",
    "      (destination:Place {id: \"London\"})\n",
    "CALL algo.shortestPath.stream(source, destination, \"distance\")\n",
    "YIELD nodeId, cost\n",
    "RETURN algo.getNodeById(nodeId).id AS place, cost"
   ]
  },
  {
   "cell_type": "markdown",
   "metadata": {},
   "source": [
    "The parameters passed to this algorithm are: \n",
    "\n",
    "source \n",
    "    \n",
    "    The node where our shortest path search begins \n",
    "    \n",
    "destination \n",
    "    \n",
    "    The node where our shortest path ends \n",
    "\n",
    "distance \n",
    "    \n",
    "    The name of the relationship property that indicates the cost of traversing between a pair of nodes \n",
    "    \n",
    "The cost is the number of kilometers between two locations. The query returns the following result\n",
    "\n",
    "![7.png](./picture/7.png)"
   ]
  },
  {
   "cell_type": "markdown",
   "metadata": {},
   "source": [
    "The quickest route takes us via Den Haag, Hoek van Holland, Felixstowe, Ipswich,  and Colchester! The cost shown is the cumulative total as we progress through the  cities. First we go from Amsterdam to Den Haag, at a cost of 59. Then we go from  Den Haag to Hoek van Holland, at a cumulative cost of 86 and so on. Finally, we  arrive in London, from Colchester, for a total cost of 453 km.\n",
    "\n",
    "最快的路线是经过登哈格，霍克范荷兰，费利克斯托，伊普斯维奇和科尔切斯特!所示的成本是我们在城市中行进时的累计总成本。首先我们从阿姆斯特丹到登哈格，花费59英镑。然后我们从Den Haag到Hoek van Holland，累计花费86。最后，我们从科尔切斯特到达伦敦，总共花费了453公里。"
   ]
  },
  {
   "cell_type": "markdown",
   "metadata": {},
   "source": [
    "Remember that the unweighted shortest path had a total cost of 720 km, so we ve been able to save 267 km by taking weights into account when computing the shortest path.\n",
    "\n",
    "请记住，未加权的最短路径的总成本为720公里，所以我们在计算最短路径时，通过考虑权重可以节省267公里。"
   ]
  },
  {
   "cell_type": "markdown",
   "metadata": {},
   "source": [
    "## Shortest Path Variation: A*"
   ]
  },
  {
   "cell_type": "markdown",
   "metadata": {},
   "source": [
    "The A* Shortest Path algorithm improves on Dijkstra s by finding shortest paths more quickly. It does this by allowing the inclusion of extra information that the algorithm can use, as part of a heuristic function, when determining which paths to explore next.\n",
    "\n",
    "A*最短路径算法是对Dijkstra算法的改进，它能更快地找到最短路径。它允许包含算法可以使用的额外信息，作为启发式函数的一部分，当确定下一步要探索哪些路径时。"
   ]
  },
  {
   "cell_type": "markdown",
   "metadata": {},
   "source": [
    "The A* algorithm operates by determining which of its partial paths to expand at  each iteration of its main loop. It does so based on an estimate of the cost (heuristic)  still left to reach the goal node.\n",
    "\n",
    "A*算法通过确定在主循环的每次迭代中扩展哪些部分路径来运行。这样做的基础上，估计成本(启发式)仍然有待达到目标节点。"
   ]
  },
  {
   "cell_type": "markdown",
   "metadata": {},
   "source": [
    "Be thoughtful in the heuristic employed to estimate path costs. Underestimating path costs may unnecessarily include some paths that could have been eliminated, but the results will still be accurate. However, if the heuristic overestimates path costs, it may skip over actual shorter paths (incorrectly estimated to be longer) that should have been evaluated, which can lead to inaccurate results.\n",
    "\n",
    "在估算路径成本时要考虑启发式。低估路径成本可能不必要地包括一些本来可以消除的路径，但结果仍然是准确的。然而，如果启发式过高估计了路径成本，它可能会跳过本应该计算的实际较短的路径(错误地估计为较长)，这可能导致不准确的结果。"
   ]
  },
  {
   "cell_type": "markdown",
   "metadata": {},
   "source": [
    "A* selects the path that minimizes the following function:\n",
    "\n",
    "`f(n) = g(n) + h(n)`\n",
    "\n",
    "where:\n",
    "    \n",
    "    g(n) is the cost of the path from the starting point to node n. \n",
    "    h(n) is the estimated cost of the path from node n to the destination node, as computed by a heuristic.\n",
    "\n",
    "\n",
    "\n",
    "A*选择最小化以下函数的路径:\n",
    "\n",
    "    g(n)是路径从起点到节点n的代价，\n",
    "    h(n)是路径从节点n到目标节点的估计代价，通过启发式计算得到。"
   ]
  },
  {
   "cell_type": "markdown",
   "metadata": {},
   "source": [
    "In Neo4j s implementation, geospatial distance is used as the heuristic.  In our example transportation dataset we use the latitude and  longitude of each location as part of the heuristic function.\n",
    "\n",
    "在Neo4j s实现中，使用地理空间距离作为启发式。在我们的示例传输数据集中，我们使用每个位置的经纬度作为启发式函数的一部分。"
   ]
  },
  {
   "cell_type": "markdown",
   "metadata": {},
   "source": [
    "The following query executes the A* algorithm to find the shortest path between Den Haag and London:\n",
    "\n",
    "下面的查询执行A*算法来找到Den Haag和伦敦之间的最短路径:"
   ]
  },
  {
   "cell_type": "raw",
   "metadata": {},
   "source": [
    "MATCH (source:Place {id: \"Den Haag\"}),\n",
    "(destination:Place {id: \"London\"})\n",
    "CALL algo.shortestPath.astar.stream(source,\n",
    "destination, \"distance\", \"latitude\", \"longitude\")\n",
    "YIELD nodeId, cost\n",
    "RETURN algo.getNodeById(nodeId).id AS place, cost"
   ]
  },
  {
   "cell_type": "markdown",
   "metadata": {},
   "source": [
    "The parameters passed to this algorithm are: \n",
    "\n",
    "source \n",
    "\n",
    "    The node where our shortest path search begins.\n",
    " \n",
    "destination  \n",
    "    \n",
    "    The node where our shortest path search ends.  \n",
    "\n",
    "distance  \n",
    "      \n",
    "     The name of the relationship property that indicates the cost of traversing  between a pair of nodes. The cost is the number of kilometers between two locations.  \n",
    "\n",
    "latitude  \n",
    "\n",
    "    The name of the node property used to represent the latitude of each node as part  of the geospatial heuristic calculation.  \n",
    "\n",
    "longitude  \n",
    "    \n",
    "    The name of the node property used to represent the longitude of each node as  part of the geospatial heuristic calculation.  \n",
    "\n",
    "**source** 最短路径搜索开始的节点。\n",
    "\n",
    "**destination** 是我们的最短路径搜索结束的节点。\n",
    "\n",
    "**distance** 关系属性的名称，该属性指示在一对节点之间遍历的成本。成本是两个地点之间的公里数。\n",
    "\n",
    "**latitude** 作为地理空间启发式计算的一部分，用于表示每个节点的纬度的节点属性的名称。\n",
    "\n",
    "**longitude** 作为地理空间启发式计算的一部分，用于表示每个节点的经度的节点属性的名称。\n",
    "\n",
    "\n",
    "Running this procedure gives the following result: \n",
    " \n",
    " 运行这个过程会得到以下结果:\n",
    " \n",
    " ![8.png](./picture/8.png)"
   ]
  },
  {
   "cell_type": "markdown",
   "metadata": {},
   "source": [
    "We d get the same result using the Shortest Path algorithm, but on more complex datasets the A* algorithm will be faster as it evaluates fewer paths.\n",
    "\n",
    "我们使用最短路径算法得到相同的结果，但是对于更复杂的数据集，A*算法会更快，因为它计算的路径更少。"
   ]
  },
  {
   "cell_type": "markdown",
   "metadata": {},
   "source": [
    "## Shortest Path Variation: Yen s k-Shortest Paths"
   ]
  },
  {
   "cell_type": "markdown",
   "metadata": {},
   "source": [
    "Yen s k-Shortest Paths algorithm is similar to the Shortest Path algorithm, but rather than finding just the shortest path between two pairs of nodes, it also calculates the second shortest path, third shortest path, and so on up to k-1 deviations of shortest paths.\n",
    "\n",
    "Yen的k-最短路径算法类似于最短路径算法，但是它并不只是在两对节点之间找到最短路径，它还计算了第二最短路径、第三最短路径，等等，直到最短路径的k-1个偏差。"
   ]
  },
  {
   "cell_type": "markdown",
   "metadata": {},
   "source": [
    "The following query executes Yen s algorithm to find the shortest paths between Gouda and Felixstowe:\n",
    "\n",
    "下面的查询执行Yen的算法来找到Gouda和Felixstowe之间的最短路径"
   ]
  },
  {
   "cell_type": "raw",
   "metadata": {},
   "source": [
    "MATCH (start:Place {id:\"Gouda\"}),\n",
    "     (end:Place {id:\"Felixstowe\"})\n",
    "CALL algo.kShortestPaths.stream(start, end, 5, \"distance\")\n",
    "YIELD index, nodeIds, path, costs\n",
    "RETURN index,\n",
    "[node in algo.getNodesById(nodeIds[1..-1]) | node.id] AS via,\n",
    "reduce(acc=0.0, cost in costs | acc + cost) AS totalCost"
   ]
  },
  {
   "cell_type": "markdown",
   "metadata": {},
   "source": [
    "The parameters passed to this algorithm are:  \n",
    "\n",
    "start  \n",
    "\n",
    "    The node where our shortest path search begins.  \n",
    "\n",
    "end  \n",
    "    \n",
    "    The node where our shortest path search ends.  \n",
    "\n",
    "5  \n",
    "    \n",
    "    The maximum number of shortest paths to find.  \n",
    "\n",
    "distance  \n",
    "    \n",
    "    The name of the relationship property that indicates the cost of traversing  between a pair of nodes. The cost is the number of kilometers between two locations.\n",
    "    \n",
    "传递给该算法的参数是:\n",
    "\n",
    "`start`从我们的最短路径搜索开始的节点。\n",
    "\n",
    "`end`我们的最短路径搜索结束的节点。\n",
    "\n",
    "`5`要找到的最短路径的最大数目。\n",
    "\n",
    "`distance`关系属性的名称，该属性指示在一对节点之间遍历的成本。成本是两个地点之间的公里数"
   ]
  },
  {
   "cell_type": "markdown",
   "metadata": {},
   "source": [
    "After we get back the shortest paths we look up the associated node for each node ID, and then we filter out the start and end nodes from the collection.\n",
    "\n",
    "得到最短路径后，我们查找每个节点ID的关联节点，然后从集合中过滤出开始和结束节点。"
   ]
  },
  {
   "cell_type": "markdown",
   "metadata": {},
   "source": [
    "Running this procedure gives the following result:\n",
    "![9.png](./picture/9.png)\n",
    "![10.png](./picture/10.png)\n",
    "\n",
    "The shortest path in Figure 4-7 is interesting in comparison to the results ordered by total cost. It illustrates that sometimes you may want to consider several shortest paths or other parameters. In this example, the second-shortest route is only 1 km longer than the shortest one. If we prefer the scenery, we might choose the slightly longer route.\n",
    "\n",
    "与按总成本排序的结果相比，图4-7中的最短路径很有趣。它说明，有时您可能需要考虑多个最短路径或其他参数。在这个例子中，第二短的路线只比最短的路线长1公里。如果我们更喜欢风景，我们可能会选择稍微长一点的路线。"
   ]
  },
  {
   "cell_type": "markdown",
   "metadata": {},
   "source": [
    "# All Pairs Shortest Path"
   ]
  },
  {
   "cell_type": "markdown",
   "metadata": {},
   "source": [
    "The All Pairs Shortest Path (APSP) algorithm calculates the shortest (weighted) path between all pairs of nodes. It s more efficient than running the Single Source Shortest Path algorithm for every pair of nodes in the graph.\n",
    "\n",
    "\n",
    "所有对最短路径(APSP)算法计算所有对节点之间的最短路径(加权)。它比对图中的每对节点运行单一源最短路径算法更有效。\n"
   ]
  },
  {
   "cell_type": "markdown",
   "metadata": {},
   "source": [
    "APSP optimizes operations by keeping track of the distances calculated so far and running on nodes in parallel. Those known distances can then be reused when calculating the shortest path to an unseen node. You can follow the example in the next section to get a better understanding of how the algorithm works.\n",
    "\n",
    "APSP通过跟踪到目前为止计算的距离并在节点上并行运行来优化操作。然后，当计算到不可见节点的最短路径时，可以重用这些已知的距离。您可以按照下一节中的示例来更好地理解算法的工作原理。"
   ]
  },
  {
   "cell_type": "markdown",
   "metadata": {},
   "source": [
    "Some pairs of nodes might not be reachable from each other, which means that there is no shortest path between these nodes. The algorithm doesn t return distances for these pairs of nodes.\n",
    "\n",
    "一些节点对可能无法彼此访问，这意味着这些节点之间没有最短路径。该算法不返回这些节点对的距离。"
   ]
  },
  {
   "cell_type": "markdown",
   "metadata": {},
   "source": [
    "## A Closer Look at All Pairs Shortest Path"
   ]
  },
  {
   "cell_type": "markdown",
   "metadata": {},
   "source": [
    "The calculation for APSP is easiest to understand when you follow a sequence of operations. The diagram in Figure 4-8 walks through the steps for node A.\n",
    "\n",
    "当您遵循一系列操作时，APSP的计算是最容易理解的。图4-8中的关系图演示了节点A的步骤。"
   ]
  },
  {
   "cell_type": "markdown",
   "metadata": {},
   "source": [
    "![11.png](./picture/11.png)"
   ]
  },
  {
   "cell_type": "markdown",
   "metadata": {},
   "source": [
    "Initially the algorithm assumes an infinite distance to all nodes. When a start node is selected, then the distance to that node is set to 0. The calculation then proceeds as follows：\n",
    "\n",
    "最初，该算法假定到所有节点的距离为无穷大。选择开始节点后，到该节点的距离设置为0。然后计算收益如下:\n",
    "\n",
    "1. From start node A we evaluate the cost of moving to the nodes we can reach and update those values. Looking for the smallest value, we have a choice of B (cost of 3) or C (cost of 1). C is selected for the next phase of traversal.\n",
    "\n",
    "2. Now from node C, the algorithm updates the cumulative distances from A to nodes that can be reached directly from C. Values are only updated when a lower cost has been found\n",
    "`A=0, B=3, C=1, D=8, E=∞`\n",
    "\n",
    "3. Then B is selected as the next closest node that hasn t already been visited. It has relationships to nodes A, D, and E. The algorithm works out the distance to those nodes by summing the distance from A to B with the distance from B to each of those nodes. Note that the lowest cost from the start node A to the current node is always preserved as a sunk cost. The distance (d) calculation results\n",
    "\n",
    " `d(A,A) = d(A,B) + d(B,A) = 3 + 3 = 6`\n",
    "\n",
    " `d(A,D) = d(A,B) + d(B,D) = 3 + 3 = 6`\n",
    "\n",
    " `d(A,E) = d(A,B) + d(B,E) = 3 + 1 = 4`\n",
    "\n",
    "        In this step the distance from node A to B and back to A, shown as d(A,A) = 6, is greater than the shortest distance already computed (0), so its value is not updated.\n",
    "    \n",
    "        The distances for nodes D (6) and E (4) are less than the previously calculated distances, so their values are updated.\n",
    "    \n",
    "4. E is selected next. Only the cumulative total for reaching D (5) is now lower, and therefore it is the only one updated.\n",
    "\n",
    "5. When D is finally evaluated, there are no new minimum path weights; nothing is updated, and the algorithm terminates.\n",
    "\n",
    "\n",
    "1. 从开始节点A开始，我们评估移动到可以到达和更新这些值的节点的成本。为了寻找最小的值，我们可以选择B(代价为3)或C(代价为1)。\n",
    "\n",
    "2. 现在，从节点C开始，算法更新从A到可以直接从C到达的节点的累积距离`A=0, B=3, C=1, D=8, E=∞`\n",
    "\n",
    "3. 然后选择B作为尚未访问的下一个最近的节点。它与节点A、D和e有关。算法通过将A到B的距离与B到每个节点的距离相加，计算出到这些节点的距离。注意，从起始节点A到当前节点的最低成本始终保留为沉没成本。距离(d)计算结果:\n",
    "\n",
    " `d(A,A) = d(A,B) + d(B,A) = 3 + 3 = 6`\n",
    "\n",
    " `d(A,D) = d(A,B) + d(B,D) = 3 + 3 = 6`\n",
    "\n",
    " `d(A,E) = d(A,B) + d(B,E) = 3 + 1 = 4`\n",
    "\n",
    "        在这个步骤中，节点A到B和返回到A的距离，如d(A,A) = 6所示，大于已经计算的最短距离(0)，因此不更新其值。\n",
    "    \n",
    "        节点D(6)和E(4)的距离小于之前计算的距离，因此更新了它们的值。\n",
    "\n",
    "4. 接下来选择E。现在只有达到D(5)的累积总数更低，因此它是惟一更新的。\n",
    "\n",
    "5. 当最终求D时，没有新的最小路径权值;没有任何更新，算法终止。"
   ]
  },
  {
   "cell_type": "markdown",
   "metadata": {},
   "source": [
    "Even though the All Pairs Shortest Path algorithm is optimized to run calculations in parallel for each node, this can still add up for a very large graph. Consider using a subgraph if you only need to evaluate paths between a subcategory of nodes.\n",
    "\n",
    "尽管All pair最短路径算法被优化为并行地为每个节点运行计算，但对于一个非常大的图来说，这仍然是一个问题。如果只需要计算节点子类别之间的路径，请考虑使用子图。\n"
   ]
  },
  {
   "cell_type": "markdown",
   "metadata": {},
   "source": [
    "## When Should I Use All Pairs Shortest Path?"
   ]
  },
  {
   "cell_type": "markdown",
   "metadata": {},
   "source": [
    "All Pairs Shortest Path is commonly used for understanding alternate routing when the shortest route is blocked or becomes suboptimal. For example, this algorithm is used in logical route planning to ensure the best multiple paths for diversity routing. Use All Pairs Shortest Path when you need to consider all possible routes between all or most of your nodes.\n",
    "\n",
    "当最短路径被阻塞或变得次优时，所有对最短路径通常用于理解备用路由。例如，该算法被用于逻辑路由规划，以确保多样性路由的最佳多条路径。当需要考虑所有或大部分节点之间的所有可能路径时，使用All pair最短路径。"
   ]
  },
  {
   "cell_type": "markdown",
   "metadata": {},
   "source": [
    "Example use cases include:\n",
    "    \n",
    "    Optimizing the location of urban facilities and the distribution of goods. One example of this is determining the traffic load expected on different segments of a transportation grid. For more information, see R. C. Larson and A. R. Odoni s book, Urban Operations Research (Prentice-Hall).\n",
    "    \n",
    "    Finding a network with maximum bandwidth and minimal latency as part of a data center design algorithm. There are more details about this approach in the paper REWIRE: An Optimization-Based Framework for Data Center Network Design , by A. R. Curtis et al.\n",
    "    \n",
    "    \n",
    "示例用例包括:\n",
    "\n",
    "    优化城市设施布局和商品布局。这方面的一个例子是确定交通网格中不同区段上的预期交通负载。有关更多信息，请参见R. C.拉森和A. R.奥多尼的著作《城市运营研究》(Prentice-Hall)。\n",
    "    \n",
    "    作为数据中心设计算法的一部分，查找具有最大带宽和最小延迟的网络。在A. R. Curtis等人的论文《REWIRE:一个基于优化的数据中心网络设计框架》中，有更多关于这种方法的细节。\n",
    "    "
   ]
  },
  {
   "cell_type": "markdown",
   "metadata": {},
   "source": [
    "## All Pairs Shortest Path with Neo4j"
   ]
  },
  {
   "cell_type": "markdown",
   "metadata": {},
   "source": [
    "Neo4j has a parallel implementation of the All Pairs Shortest Path algorithm, which returns the distance between every pair of nodes.\n",
    "\n",
    "Neo4j并行实现了All pair最短路径算法，它返回每对节点之间的距离。"
   ]
  },
  {
   "cell_type": "markdown",
   "metadata": {},
   "source": [
    "The first parameter to this procedure is the property to use to work out the shortest weighted path. If we set this to null then the algorithm will calculate the unweighted shortest paths between all pairs of nodes.\n",
    "\n",
    "这个过程的第一个参数是用来计算最短加权路径的属性。如果我们将其设置为null，那么算法将计算所有对节点之间的未加权最短路径。\n",
    "\n",
    "The following query does this:"
   ]
  },
  {
   "cell_type": "raw",
   "metadata": {},
   "source": [
    "CALL algo.allShortestPaths.stream(null)\n",
    "YIELD sourceNodeId, targetNodeId, distance\n",
    "WHERE sourceNodeId < targetNodeId\n",
    "RETURN algo.getNodeById(sourceNodeId).id AS source,\n",
    "algo.getNodeById(targetNodeId).id AS target,\n",
    "distance\n",
    "ORDER BY distance DESC\n",
    "LIMIT 10"
   ]
  },
  {
   "cell_type": "markdown",
   "metadata": {},
   "source": [
    "This algorithm returns the shortest path between every pair of nodes twice once with each of the nodes as the source node. This would be helpful if you were evaluating a directed graph of one-way streets. However, we don t need to see each path twice, so we filter the results to only keep one of them by using the sourceNodeId < targetNodeId predicate.\n",
    "\n",
    "该算法两次返回每对节点之间的最短路径，每个节点作为源节点。如果要计算单行道的有向图，这将非常有用。但是，我们不需要看到每个路径两次，所以我们使用sourceNodeId < targetNodeId谓词过滤结果，只保留其中一个。\n",
    "\n",
    "The query returns the following results:\n",
    "\n",
    "![12.png](./picture/12.png)"
   ]
  },
  {
   "cell_type": "markdown",
   "metadata": {},
   "source": [
    "This output shows the 10 pairs of locations that have the most relationships between them because we asked for results in descending order (DESC).\n",
    "\n",
    "这个输出显示了10对位置，它们之间的关系最多，因为我们要求结果按降序排列(DESC)。"
   ]
  },
  {
   "cell_type": "markdown",
   "metadata": {},
   "source": [
    "If we want to calculate the shortest weighted paths, rather than passing in null as the first parameter, we can pass in the property name that contains the cost to be used in the shortest path calculation. This property will then be evaluated to work out the shortest weighted path between each pair of nodes.\n",
    "\n",
    "如果我们想计算最短加权路径，而不是将null作为第一个参数传递，我们可以传递包含在最短路径计算中使用的成本的属性名。然后计算此属性以计算出每对节点之间的最短加权路径。\n",
    "\n",
    "The following query does this:\n"
   ]
  },
  {
   "cell_type": "raw",
   "metadata": {},
   "source": [
    "CALL algo.allShortestPaths.stream(\"distance\")\n",
    "YIELD sourceNodeId, targetNodeId, distance\n",
    "WHERE sourceNodeId < targetNodeId\n",
    "RETURN algo.getNodeById(sourceNodeId).id AS source,\n",
    "algo.getNodeById(targetNodeId).id AS target,\n",
    "distance\n",
    "ORDER BY distance DESC\n",
    "LIMIT 10"
   ]
  },
  {
   "cell_type": "markdown",
   "metadata": {},
   "source": [
    "The query returns the following result:\n",
    "![13.png](./picture/13.png)"
   ]
  },
  {
   "cell_type": "markdown",
   "metadata": {},
   "source": [
    "Now we re seeing the 10 pairs of locations furthest from each other in terms of the total distance between them. Notice that Doncaster shows up frequently along with several cities in the Netherlands. It looks like it would be a long drive if we wanted to take a road trip between those areas.\n",
    "\n",
    "现在我们看到了10对彼此距离最远的位置它们之间的总距离。请注意，唐卡斯特经常出现在荷兰的几个城市。如果我们想在这些地区之间进行公路旅行的话，看起来要开很长时间的车。"
   ]
  },
  {
   "cell_type": "markdown",
   "metadata": {},
   "source": [
    "# Single Source Shortest Path"
   ]
  },
  {
   "cell_type": "markdown",
   "metadata": {},
   "source": [
    "The Single Source Shortest Path (SSSP) algorithm, which came into prominence at around the same time as Dijkstra s Shortest Path algorithm, acts as an implementation for both problems.\n",
    "\n",
    "单源最短路径(SSSP)算法与Dijkstra的最短路径算法几乎同时出现，它是这两个问题的一种实现。\n",
    "\n",
    "The SSSP algorithm calculates the shortest (weighted) path from a root node to all other nodes in the graph, as demonstrated in Figure 4-9.\n",
    "\n",
    "\n",
    "SSSP算法计算从根节点到图中所有其他节点的最短路径(加权)，如图4-9所示。"
   ]
  },
  {
   "cell_type": "markdown",
   "metadata": {},
   "source": [
    "![14.png](./picture/14.png)"
   ]
  },
  {
   "cell_type": "markdown",
   "metadata": {},
   "source": [
    "It proceeds as follows:  \n",
    "\n",
    "1. It begins with a root node from which all paths will be measured. In Figure 4-9  we ve selected node A as the root.  \n",
    "\n",
    "2. The relationship with the smallest weight coming from that root node is selected  and added to the tree, along with its connected node. In this case, that s  d(A,D)=1.  \n",
    "\n",
    "3. The next relationship with the smallest cumulative weight from our root node to  any unvisited node is selected and added to the tree in the same way. Our choices  in Figure 4-9 are d(A,B)=8, d(A,C)=5 directly or 4 via A-D-C, and d(A,E)=5. So,  the route via A-D-C is chosen and C is added to our tree.  \n",
    "\n",
    "4. The process continues until there are no more nodes to add and we have our single  source shortest path.\n",
    "\n",
    "其过程如下:\n",
    "1. 它从一个根节点开始，所有路径都将从这个根节点开始测量。在图4-9中，我们选择节点A作为根节点。\n",
    "\n",
    "2. 选择与来自该根节点的最小权值的关系，并将其连同其连接的节点一起添加到树中。在这种情况下，s d(A, d)=1。\n",
    "\n",
    "3. 选择根节点到任何未访问节点的最小累积权值的下一个关系，并以相同的方式添加到树中。图4-9中的选项是d(A,B)=8, d(A,C)=5直接或通过A- d -C得到4,d(A,E)=5。因此，选择了通过A-D-C的路径，并将C添加到我们的树中。\n",
    "\n",
    "4. 这个过程继续下去，直到没有更多的节点要添加，并且我们有了我们的单一源最短路径。"
   ]
  },
  {
   "cell_type": "markdown",
   "metadata": {},
   "source": [
    "## When Should I Use Single Source Shortest Path?"
   ]
  },
  {
   "cell_type": "markdown",
   "metadata": {},
   "source": [
    "Use Single Source Shortest Path when you need to evaluate the optimal route from a fixed start point to all other individual nodes. Because the route is chosen based on the total path weight from the root, it s useful for finding the best path to each node, but not necessarily when all nodes need to be visited in a single trip. \n",
    "\n",
    "当您需要计算从固定起点到所有其他单独节点的最优路由时，请使用单一源最短路径。因为路由是根据根节点的总路径权重来选择的，所以它对于查找到每个节点的最佳路径很有用，但是当需要在一次访问中访问所有节点时就不一定了。\n",
    "\n",
    "For example, SSSP is helpful for identifying the main routes to use for emergency services where you don t visit every location on each incident, but not for finding a single route for garbage collection where you need to visit each house in one trip. (In the latter case, you d use the Minimum Spanning Tree algorithm, covered later.) \n",
    "\n",
    "例如，SSSP有助于确定应急服务使用的主要路线，在这些服务中，您不会在每次事件中访问每个位置，但是对于需要在一次访问中访问每个家庭的垃圾收集路线，SSSP却不能提供帮助。(在后一种情况下，您将使用最小生成树算法，后面将介绍。)\n",
    "\n",
    "Example use cases include：\n",
    "\n",
    "    Detecting changes in topology, such as link failures, and suggesting a new routing structure in seconds\n",
    "\n",
    "    Using Dijkstra as an IP routing protocol for use in autonomous systems such as a local area network (LAN)\n",
    "\n",
    "    检测拓扑的变化，如链路故障，并在几秒钟内提出新的路由结构\n",
    "\n",
    "    使用Dijkstra作为IP路由协议，用于自治系统，如局域网(LAN)"
   ]
  },
  {
   "cell_type": "markdown",
   "metadata": {},
   "source": [
    "## Single Source Shortest Path with Neo4j"
   ]
  },
  {
   "cell_type": "markdown",
   "metadata": {},
   "source": [
    "Neo4j implements a variation of SSSP, called the Delta-Stepping algorithm that divides Dijkstra s algorithm into a number of phases that can be executed in parallel.\n",
    "\n",
    "Neo4j实现了SSSP的一个变体，称为delta - step算法，它将Dijkstra算法划分为多个阶段，这些阶段可以并行执行。\n",
    "\n",
    "The following query executes the Delta-Stepping algorithm:\n",
    "\n",
    "下面的查询执行delta - step算法:"
   ]
  },
  {
   "cell_type": "raw",
   "metadata": {},
   "source": [
    "MATCH (n:Place {id:\"London\"})\n",
    "CALL algo.shortestPath.deltaStepping.stream(n, \"distance\", 1.0)\n",
    "YIELD nodeId, distance\n",
    "WHERE algo.isFinite(distance)\n",
    "RETURN algo.getNodeById(nodeId).id AS destination, distance\n",
    "ORDER BY distance"
   ]
  },
  {
   "cell_type": "markdown",
   "metadata": {},
   "source": [
    "The query returns the following output:\n",
    "![15.png](./picture/15.png)"
   ]
  },
  {
   "cell_type": "markdown",
   "metadata": {},
   "source": [
    "In these results we see the physical distances in kilometers from the root node, London, to all other cities in the graph, ordered by shortest distance.\n",
    "\n",
    "在这些结果中，我们看到从根节点London到图中所有其他城市的物理距离(以公里为单位)，按最短距离排序。"
   ]
  },
  {
   "cell_type": "markdown",
   "metadata": {},
   "source": [
    "# Minimum Spanning Tree"
   ]
  },
  {
   "cell_type": "markdown",
   "metadata": {},
   "source": [
    "The Minimum (Weight) Spanning Tree algorithm starts from a given node and finds all its reachable nodes and the set of relationships that connect the nodes together with the minimum possible weight. It traverses to the next unvisited node with the lowest weight from any visited node, avoiding cycles.\n",
    "\n",
    "最小(权值)生成树算法从一个给定的节点开始，找到它的所有可达节点以及用最小权值将节点连接在一起的一组关系。它遍历到下一个未访问的节点，该节点的权值最低，避免了循环。"
   ]
  },
  {
   "cell_type": "markdown",
   "metadata": {},
   "source": [
    "Prim s algorithm is similar to Dijkstra s Shortest Path algorithm, but rather than minimizing the total length of a path ending at each relationship, it minimizes the length of each relationship individually. Unlike Dijkstra s algorithm, it tolerates negativeweight relationships.\n",
    "\n",
    "Prim s算法类似于Dijkstra的最短路径算法，但是它不是最小化每个关系结束的路径的总长度，而是分别最小化每个关系的长度。与Dijkstra算法不同，它允许负权关系。"
   ]
  },
  {
   "cell_type": "markdown",
   "metadata": {},
   "source": [
    "The Minimum Spanning Tree algorithm operates as demonstrated in Figure 4-10.\n",
    "\n",
    "最小生成树算法的操作如图4-10所示。"
   ]
  },
  {
   "cell_type": "markdown",
   "metadata": {},
   "source": [
    "![16.png](./picture/16.png)"
   ]
  },
  {
   "cell_type": "markdown",
   "metadata": {},
   "source": [
    "The steps are as follows:\n",
    "\n",
    "1. It begins with a tree containing only one node. In Figure 4-10 we start with node A. \n",
    "\n",
    "2. The relationship with smallest weight coming from that node is selected and added to the tree (along with its connected node). In this case, A-D. \n",
    "\n",
    "3. This process is repeated, always choosing the minimal-weight relationship that joins any node not already in the tree. \n",
    "\n",
    "        a. If you compare our example here to the SSSP example in Figure 4-9 you ll notice that in the fourth graph the paths become different. This is because SSSP evaluates the shortest path based on cumulative totals from the root, whereas Minimum Spanning Tree only looks at the cost of the next step.\n",
    "\n",
    "4. When there are no more nodes to add, the tree is a minimum spanning tree.\n",
    "\n",
    "1. 它从只包含一个节点的树开始。在图4-10中，我们从节点A. \n",
    "\n",
    "2. 开始。选择来自该节点的权重最小的关系并将其添加到树中(连同其连接的节点)。在这种情况下，A-D。\n",
    "\n",
    "3. 重复此过程，始终选择连接树中尚未存在的任何节点的最小权值关系。\n",
    "\n",
    "    如果您将我们这里的示例与图4-9中的SSSP示例进行比较，您会注意到在第四个图中，路径变得不同。这是因为SSSP根据从根开始的累计总数计算最短路径，而最小生成树只考虑下一步的成本。\n",
    "    \n",
    "    \n",
    "4. 当没有更多的节点要添加时，该树就是最小生成树。\n",
    "\n"
   ]
  },
  {
   "cell_type": "markdown",
   "metadata": {},
   "source": [
    "There are also variants of this algorithm that find the maximum-weight spanning tree (highest-cost tree) and the k-spanning tree (tree size limited.)\n",
    "\n",
    "这个算法也有一些变体，可以找到最大权值生成树(代价最高的树)和k生成树(树大小有限)。"
   ]
  },
  {
   "cell_type": "markdown",
   "metadata": {},
   "source": [
    "## When Should I Use Minimum Spanning Tree?"
   ]
  },
  {
   "cell_type": "markdown",
   "metadata": {},
   "source": [
    "Use Minimum Spanning Tree when you need the best route to visit all nodes. Because the route is chosen based on the cost of each next step, it s useful when you must visit all nodes in a single walk. (Review the previous section on Single Source Shortest Path on page 65 if you don t need a path for a single trip.)\n",
    "\n",
    "当您需要访问所有节点的最佳路径时，请使用最小生成树。因为路由是根据每一步的成本来选择的，所以当您必须在一次步行中访问所有节点时，它非常有用。(如果一次旅行不需要路径，请参阅第65页上关于单源最短路径的前一节。)"
   ]
  },
  {
   "cell_type": "markdown",
   "metadata": {},
   "source": [
    "You can use this algorithm for optimizing paths for connected systems like water pipes and circuit design. It s also employed to approximate some problems with unknown compute times, such as the Traveling Salesman Problem and certain types of rounding problems. Although it may not always find the absolute optimal solution, this algorithm makes potentially complicated and compute-intensive analysis much more approachable.\n",
    "\n",
    "您可以使用此算法来优化连接系统(如水管和电路设计)的路径。它也被用来近似一些计算时间未知的问题，如旅行商问题和某些类型的四舍五入问题。虽然它可能并不总是找到绝对最优解，但这种算法使潜在的复杂和计算密集型的分析更容易实现。"
   ]
  },
  {
   "cell_type": "markdown",
   "metadata": {},
   "source": [
    "Example use cases include:\n",
    "\n",
    "Minimizing the travel cost of exploring a country. An Application of Minimum Spanning Trees to Travel Planning describes how the algorithm analyzed airline and sea connections to do this. \n",
    "\n",
    "Visualizing correlations between currency returns. This is described in Minimum Spanning Tree Application in the Currency Market . \n",
    "\n",
    "Tracing the history of infection transmission in an outbreak. For more information, see Use of the Minimum Spanning Tree Model for Molecular Epidemiological Investigation of a Nosocomial Outbreak of Hepatitis C Virus Infection .\n",
    "\n",
    "尽量减少探索一个国家的旅行成本。最小生成树在旅行规划中的应用描述了该算法如何分析航空和海上连接来实现这一点。\n",
    "\n",
    "可视化货币回报之间的相关性。这在货币市场中的最小生成树应用中得到了描述。\n",
    "\n",
    "追溯疫情中感染传播的历史。有关更多信息，请参见使用最小生成树模型对医院暴发的丙型肝炎病毒感染进行分子流行病学调查。"
   ]
  },
  {
   "cell_type": "markdown",
   "metadata": {},
   "source": [
    "The Minimum Spanning Tree algorithm only gives meaningful results when run on a graph where the relationships have different weights. If the graph has no weights, or all relationships have the same weight, then any spanning tree is a minimum spanning tree.\n",
    "\n",
    "最小生成树算法只在关系权重不同的图上运行时给出有意义的结果。如果这个图没有权值，或者所有的关系都有相同的权值，那么任何生成树都是最小生成树。"
   ]
  },
  {
   "cell_type": "markdown",
   "metadata": {},
   "source": [
    "## Minimum Spanning Tree with Neo4j"
   ]
  },
  {
   "cell_type": "markdown",
   "metadata": {},
   "source": [
    "Let s see the Minimum Spanning Tree algorithm in action. The following query finds a spanning tree starting from Amsterdam:\n",
    "\n",
    "让我们看看最小生成树算法。下面的查询找到从Amsterdam开始的生成树"
   ]
  },
  {
   "cell_type": "raw",
   "metadata": {},
   "source": [
    "MATCH (n:Place {id:\"Amsterdam\"})\n",
    "CALL algo.spanningTree.minimum(\"Place\", \"EROAD\", \"distance\", id(n),\n",
    "{write:true, writeProperty:\"MINST\"})\n",
    "YIELD loadMillis, computeMillis, writeMillis, effectiveNodeCount\n",
    "RETURN loadMillis, computeMillis, writeMillis, effectiveNodeCount"
   ]
  },
  {
   "cell_type": "markdown",
   "metadata": {},
   "source": [
    "The parameters passed to this algorithm are:\n",
    "\n",
    "Place \n",
    "\n",
    "    The node labels to consider when computing the spanning tree \n",
    "\n",
    "EROAD \n",
    "\n",
    "    The relationship types to consider when computing the spanning tree \n",
    "\n",
    "distance \n",
    "\n",
    "    The name of the relationship property that indicates the cost of traversing between a pair of nodes \n",
    "\n",
    "id(n) \n",
    "    \n",
    "    The internal node id of the node from which the spanning tree should begin\n",
    " \n",
    " 参数如下：\n",
    " \n",
    " Place\n",
    " \n",
    "     将节点标签时需要考虑计算生成树\n",
    "     \n",
    " EROAD\n",
    "     \n",
    "     需要考虑计算生成树的距离关系类型\n",
    " \n",
    " distance\n",
    " \n",
    "     表明穿越一对节点之间的成本关系类型的属性名称\n",
    "     \n",
    " id (n)\n",
    "     \n",
    "     内部节点id生成树的节点应该开始   "
   ]
  },
  {
   "cell_type": "markdown",
   "metadata": {},
   "source": [
    "![19.png](./picture/19.png)"
   ]
  },
  {
   "cell_type": "markdown",
   "metadata": {},
   "source": [
    "This query stores its results in the graph. If we want to return the minimum weight spanning tree we can run the following query：\n",
    "\n",
    "此查询将其结果存储在图中。如果我们想返回最小权值生成树，我们可以运行以下查询："
   ]
  },
  {
   "cell_type": "raw",
   "metadata": {},
   "source": [
    "MATCH path = (n:Place {id:\"Amsterdam\"})-[:MINST*]-()\n",
    "WITH relationships(path) AS rels\n",
    "UNWIND rels AS rel\n",
    "WITH DISTINCT rel AS rel\n",
    "RETURN startNode(rel).id AS source, endNode(rel).id AS destination,\n",
    "rel.distance AS cost"
   ]
  },
  {
   "cell_type": "markdown",
   "metadata": {},
   "source": [
    "And this is the output of the query:\n",
    "\n",
    "![17.png](./picture/17.png)"
   ]
  },
  {
   "cell_type": "markdown",
   "metadata": {},
   "source": [
    "![18.png](./picture/18.png)"
   ]
  },
  {
   "cell_type": "markdown",
   "metadata": {},
   "source": [
    "If we were in Amsterdam and wanted to visit every other place in our dataset during the same trip, Figure 4-11 demonstrates the shortest continuous route to do so.\n",
    "\n",
    "如果我们在阿姆斯特丹，并且希望在同一旅程中访问数据集中的所有其他地方，图4-11展示了这样做的最短连续路径。"
   ]
  },
  {
   "cell_type": "markdown",
   "metadata": {},
   "source": [
    "# Random Walk"
   ]
  },
  {
   "cell_type": "markdown",
   "metadata": {},
   "source": [
    "The Random Walk algorithm provides a set of nodes on a random path in a graph. The term was first mentioned by Karl Pearson in 1905 in a letter to Nature magazine titled The Problem of the Random Walk . Although the concept goes back even further, it s only more recently that random walks have been applied to network science.\n",
    "\n",
    "A random walk, in general, is sometimes described as being similar to how a drunk person traverses a city. They know what direction or end point they want to reach but may take a very circuitous route to get there.\n",
    "\n",
    "The algorithm starts at one node and somewhat randomly follows one of the relationships forward or backward to a neighbor node. It then does the same from that node and so on, until it reaches the set path length. (We say somewhat randomly because the number of relationships a node has, and its neighbors have, influences the probability a node will be walked through.)\n",
    "\n",
    "随机游走算法提供了图中随机路径上的一组节点。卡尔·皮尔森1905年在给《自然》杂志的一封题为《随机漫步的问题》的信中首次提到了这个词。虽然这个概念可以追溯到更早以前，但是直到最近随机漫步才被应用到网络科学中。\n",
    "\n",
    "随机漫步，一般来说，有时被描述为类似于一个醉汉穿越城市。他们知道自己想要到达的方向或终点，但可能会采取非常迂回的路线。\n",
    "\n",
    "该算法从一个节点开始，并随机地遵循向前或向后到相邻节点的关系之一。然后，它从该节点开始执行相同的操作，以此类推，直到到达设置的路径长度。(我们说它是随机的，是因为一个节点及其邻居之间的关系的数量，会影响节点被遍历的概率。)"
   ]
  },
  {
   "cell_type": "markdown",
   "metadata": {},
   "source": [
    "## When Should I Use Random Walk?"
   ]
  },
  {
   "cell_type": "markdown",
   "metadata": {},
   "source": [
    "Use the Random Walk algorithm as part of other algorithms or data pipelines when you need to generate a mostly random set of connected nodes.\n",
    "\n",
    "当您需要生成一组主要是随机连接的节点时，可以将Random Walk算法作为其他算法或数据管道的一部分使用。"
   ]
  },
  {
   "cell_type": "markdown",
   "metadata": {},
   "source": [
    "Example use cases include: \n",
    "\n",
    "    As part of the node2vec and graph2vec algorithms, that create node embeddings. These node embeddings could then be used as the input to a neural network. \n",
    "\n",
    "    As part of the Walktrap and Infomap community detection. If a random walk returns a small set of nodes repeatedly, then it indicates that node set may have a community structure. \n",
    "\n",
    "    As part of the training process of machine learning models. This is described further in David Mack s article Review Prediction with Neo4j and TensorFlow .\n",
    "\n",
    "示例用例包括:\n",
    "\n",
    "    作为node2vec和graph2vec算法的一部分，创建节点嵌入。这些节点嵌入可以用作神经网络的输入。\n",
    "\n",
    "    作为Walktrap和Infomap社区检测的一部分。如果随机游走重复返回一小组节点，则表明节点集可能具有社区结构。\n",
    "\n",
    "    作为机器学习模型训练过程的一部分。在David Mack的文章《使用Neo4j和TensorFlow进行Review Prediction》中进一步描述了这一点。"
   ]
  },
  {
   "cell_type": "markdown",
   "metadata": {},
   "source": [
    "## Random Walk with Neo4j"
   ]
  },
  {
   "cell_type": "markdown",
   "metadata": {},
   "source": [
    "Neo4j has an implementation of the Random Walk algorithm. It supports two modes for choosing the next relationship to follow at each stage of the algorithm:\n",
    "\n",
    "Neo4j实现了随机漫步算法。它支持两种模式，用于在算法的每个阶段选择要遵循的下一个关系:"
   ]
  },
  {
   "cell_type": "markdown",
   "metadata": {},
   "source": [
    "random\n",
    "    \n",
    "    Randomly chooses a relationship to follow\n",
    "\n",
    "node2vec\n",
    "\n",
    "    Chooses relationship to follow based on computing a probability distribution of the previous neighbors\n",
    "\n",
    "random\n",
    "    \n",
    "    随机选择要遵循的关系\n",
    "\n",
    "node2vec\n",
    "\n",
    "    根据计算以前邻居的概率分布来选择要遵循的关系\n",
    "    \n",
    "The following query does this:"
   ]
  },
  {
   "cell_type": "raw",
   "metadata": {},
   "source": [
    "MATCH (source:Place {id: \"London\"})\n",
    "CALL algo.randomWalk.stream(id(source), 5, 1)\n",
    "YIELD nodeIds\n",
    "UNWIND algo.getNodesById(nodeIds) AS place\n",
    "RETURN place.id AS place"
   ]
  },
  {
   "cell_type": "markdown",
   "metadata": {},
   "source": [
    "The parameters passed to this algorithm are: \n",
    "\n",
    "id(source) \n",
    "    \n",
    "    The internal node id of the starting point for our random walk \n",
    "\n",
    "5 \n",
    "    \n",
    "    The number of hops our random walk should take \n",
    "\n",
    "1 \n",
    "\n",
    "    The number of random walks we want to compute \n",
    "\n",
    "传递给这个算法的参数是:\n",
    "\n",
    "id(源)\n",
    "    我们的随机游动起始点的内部节点id\n",
    "    \n",
    "5    \n",
    "    \n",
    "    我们的随机游动的跳数\n",
    "    \n",
    "1    \n",
    "\n",
    "    我们想计算的随机游动的个数\n",
    "    \n",
    "It returns the following result\n",
    "\n",
    "它返回以下结果"
   ]
  },
  {
   "cell_type": "markdown",
   "metadata": {},
   "source": [
    "![20.png](./picture/20.png)"
   ]
  },
  {
   "cell_type": "markdown",
   "metadata": {},
   "source": [
    "At each stage of the random walk the next relationship is chosen randomly. This means that if we rerun the algorithm, even with the same parameters, we likely won t get the same result. It s also possible for a walk to go back on itself, as we can see in Figure 4-12 where we go from Amsterdam to Den Haag and back.\n",
    "\n",
    "在随机游走的每个阶段，下一个关系都是随机选择的。这意味着如果我们重新运行算法，即使使用相同的参数，我们可能也不会得到相同的结果。也可以走回去，如图4-12所示，我们从阿姆斯特丹到登哈格，然后再回来。"
   ]
  },
  {
   "cell_type": "markdown",
   "metadata": {},
   "source": [
    "# Summary"
   ]
  },
  {
   "cell_type": "markdown",
   "metadata": {},
   "source": [
    "Pathfinding algorithms are useful for understanding the way that our data is connected. In this chapter we started out with the fundamental Breadth and Depth First algorithms, before moving onto Dijkstra and other shortest path algorithms. We also looked at variants of the shortest path algorithms optimized for finding the shortest path from one node to all other nodes or between all pairs of nodes in a graph. We finished with the Random Walk algorithm, which can be used to find arbitrary sets of paths.\n",
    "\n",
    "寻路算法对于理解数据的连接方式很有用。在这一章中，我们从基本的广度和深度优先算法开始，然后讨论Dijkstra算法和其他最短路径算法。我们还研究了为寻找从一个节点到所有其他节点或图中所有节点对之间的最短路径而优化的最短路径算法的变体。我们完成了随机漫步算法，它可以用来寻找任意的路径集。"
   ]
  },
  {
   "cell_type": "markdown",
   "metadata": {},
   "source": [
    "Next we ll learn about Centrality algorithms that can be used to find influential nodes in a graph.\n",
    "\n",
    "接下来，我们将学习可用于查找图中有影响力节点的中心算法。"
   ]
  },
  {
   "cell_type": "markdown",
   "metadata": {},
   "source": [
    "## Algorithm Resource"
   ]
  },
  {
   "cell_type": "markdown",
   "metadata": {},
   "source": [
    "There are many algorithm books, but one stands out for its coverage of fundamental concepts and graph algorithms: The Algorithm Design Manual, by Steven S. Skiena (Springer). We highly recommend this textbook to those seeking a comprehensive resource on classic algorithms and design techniques, or who simply want to dig deeper into how various algorithms operate.\n",
    "\n",
    "有许多算法书籍，但有一本突出的是它涵盖了基本概念和图形算法:算法设计手册，史蒂芬S.斯基纳(施普林格)。我们强烈推荐这本教科书给那些寻求经典算法和设计技术的综合资源，或者只是想深入研究各种算法如何运行的人。"
   ]
  }
 ],
 "metadata": {
  "kernelspec": {
   "display_name": "Python 3",
   "language": "python",
   "name": "python3"
  },
  "language_info": {
   "codemirror_mode": {
    "name": "ipython",
    "version": 3
   },
   "file_extension": ".py",
   "mimetype": "text/x-python",
   "name": "python",
   "nbconvert_exporter": "python",
   "pygments_lexer": "ipython3",
   "version": "3.7.1"
  },
  "toc": {
   "base_numbering": 1,
   "nav_menu": {},
   "number_sections": true,
   "sideBar": true,
   "skip_h1_title": false,
   "title_cell": "Table of Contents",
   "title_sidebar": "Contents",
   "toc_cell": false,
   "toc_position": {
    "height": "calc(100% - 180px)",
    "left": "10px",
    "top": "150px",
    "width": "419.4px"
   },
   "toc_section_display": true,
   "toc_window_display": true
  }
 },
 "nbformat": 4,
 "nbformat_minor": 2
}
